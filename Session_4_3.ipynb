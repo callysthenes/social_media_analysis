{
  "cells": [
    {
      "cell_type": "code",
      "execution_count": 1,
      "metadata": {
        "id": "mSRcswVleUku"
      },
      "outputs": [
        {
          "name": "stdout",
          "output_type": "stream",
          "text": [
            "Requirement already satisfied: python-igraph in c:\\users\\pedro\\github\\social_media_analysis\\.conda\\lib\\site-packages (0.10.4)\n",
            "Requirement already satisfied: igraph==0.10.4 in c:\\users\\pedro\\github\\social_media_analysis\\.conda\\lib\\site-packages (from python-igraph) (0.10.4)\n",
            "Requirement already satisfied: texttable>=1.6.2 in c:\\users\\pedro\\github\\social_media_analysis\\.conda\\lib\\site-packages (from igraph==0.10.4->python-igraph) (1.6.7)\n"
          ]
        },
        {
          "name": "stderr",
          "output_type": "stream",
          "text": [
            "'apt-get' is not recognized as an internal or external command,\n",
            "operable program or batch file.\n"
          ]
        },
        {
          "name": "stdout",
          "output_type": "stream",
          "text": [
            "Requirement already satisfied: pycairo in c:\\users\\pedro\\github\\social_media_analysis\\.conda\\lib\\site-packages (1.23.0)\n"
          ]
        }
      ],
      "source": [
        "!pip install python-igraph\n",
        "!apt-get install libcairo2-dev libjpeg-dev libgif-dev\n",
        "!pip install pycairo"
      ]
    },
    {
      "cell_type": "markdown",
      "metadata": {
        "id": "G_rpSAF1eRuL"
      },
      "source": [
        "# 1. Networks in igraph\n",
        "\n",
        "**igraph** is a collection of network analysis tools with the emphasis on efficiency, portability and ease of use. igraph is open source and free. igraph can be programmed in R, Python, Mathematica and C/C++. Lessons will cover the igraph python package but feel free to investigate on your own the R package. \n",
        "\n",
        "To install the package you just need to follow this instructions: https://igraph.org/python/doc/tutorial/install.html#installing-igraph-from-the-python-package-index\n",
        "\n",
        "\n",
        "You have the doc for this package here: https://igraph.org/python/doc/api/igraph._igraph.GraphBase.html\n",
        "\n",
        "# 1.1 Create networks\n",
        "\n",
        "First let's install and load the package in order to start from an empty environment."
      ]
    },
    {
      "cell_type": "code",
      "execution_count": 2,
      "metadata": {
        "id": "LXQzPpr3eRuZ"
      },
      "outputs": [],
      "source": [
        "from igraph import *\n",
        "import cairo\n",
        "import pandas as pd\n",
        "from cairo import *"
      ]
    },
    {
      "cell_type": "code",
      "execution_count": 30,
      "metadata": {},
      "outputs": [],
      "source": [
        "import igraph as ig"
      ]
    },
    {
      "cell_type": "markdown",
      "metadata": {
        "id": "63fdsz_aeRud"
      },
      "source": [
        "We can generate graphs using the graph function of igraph. It receives the following arguments:\n",
        "\n",
        "* Edges (A vector defining the edges)\n",
        "* n (The number of vertices in the graph)\n",
        "* isolates (names of isolate vertices)\n",
        "* directed (Whether to create a directed graph)\n",
        "* simplify (whether to simplify the graph)\n",
        "\n",
        "Let's start with the simplest one: an undirected graph with three edges.\n",
        "Undirected graphs are for symmetric relationships."
      ]
    },
    {
      "cell_type": "code",
      "execution_count": 3,
      "metadata": {
        "id": "C_bBUpCieRuf"
      },
      "outputs": [],
      "source": [
        "g1 = Graph(edges=[[0,1], [1,2], [2,0]])"
      ]
    },
    {
      "cell_type": "code",
      "execution_count": 4,
      "metadata": {
        "id": "gJBSjThdeRuh"
      },
      "outputs": [
        {
          "data": {
            "image/svg+xml": "<?xml version=\"1.0\" encoding=\"UTF-8\"?>\n<svg xmlns=\"http://www.w3.org/2000/svg\" xmlns:xlink=\"http://www.w3.org/1999/xlink\" width=\"300\" height=\"200\" viewBox=\"0 0 300 200\">\n<rect x=\"-30\" y=\"-20\" width=\"360\" height=\"240\" fill=\"rgb(100%, 100%, 100%)\" fill-opacity=\"1\"/>\n<path fill=\"none\" stroke-width=\"1\" stroke-linecap=\"butt\" stroke-linejoin=\"miter\" stroke=\"rgb(26.666667%, 26.666667%, 26.666667%)\" stroke-opacity=\"1\" stroke-miterlimit=\"10\" d=\"M 280 180 L 20 169.265625 \"/>\n<path fill=\"none\" stroke-width=\"1\" stroke-linecap=\"butt\" stroke-linejoin=\"miter\" stroke=\"rgb(26.666667%, 26.666667%, 26.666667%)\" stroke-opacity=\"1\" stroke-miterlimit=\"10\" d=\"M 20 169.265625 L 163.535156 20 \"/>\n<path fill=\"none\" stroke-width=\"1\" stroke-linecap=\"butt\" stroke-linejoin=\"miter\" stroke=\"rgb(26.666667%, 26.666667%, 26.666667%)\" stroke-opacity=\"1\" stroke-miterlimit=\"10\" d=\"M 280 180 L 163.535156 20 \"/>\n<path fill-rule=\"nonzero\" fill=\"rgb(100%, 0%, 0%)\" fill-opacity=\"1\" stroke-width=\"1\" stroke-linecap=\"butt\" stroke-linejoin=\"miter\" stroke=\"rgb(0%, 0%, 0%)\" stroke-opacity=\"1\" stroke-miterlimit=\"10\" d=\"M 290 180 C 290 185.523438 285.523438 190 280 190 C 274.476562 190 270 185.523438 270 180 C 270 174.476562 274.476562 170 280 170 C 285.523438 170 290 174.476562 290 180 \"/>\n<path fill-rule=\"nonzero\" fill=\"rgb(100%, 0%, 0%)\" fill-opacity=\"1\" stroke-width=\"1\" stroke-linecap=\"butt\" stroke-linejoin=\"miter\" stroke=\"rgb(0%, 0%, 0%)\" stroke-opacity=\"1\" stroke-miterlimit=\"10\" d=\"M 30 169.265625 C 30 174.789062 25.523438 179.265625 20 179.265625 C 14.476562 179.265625 10 174.789062 10 169.265625 C 10 163.742188 14.476562 159.265625 20 159.265625 C 25.523438 159.265625 30 163.742188 30 169.265625 \"/>\n<path fill-rule=\"nonzero\" fill=\"rgb(100%, 0%, 0%)\" fill-opacity=\"1\" stroke-width=\"1\" stroke-linecap=\"butt\" stroke-linejoin=\"miter\" stroke=\"rgb(0%, 0%, 0%)\" stroke-opacity=\"1\" stroke-miterlimit=\"10\" d=\"M 173.535156 20 C 173.535156 25.523438 169.058594 30 163.535156 30 C 158.015625 30 153.535156 25.523438 153.535156 20 C 153.535156 14.476562 158.015625 10 163.535156 10 C 169.058594 10 173.535156 14.476562 173.535156 20 \"/>\n</svg>\n",
            "text/plain": [
              "<igraph.drawing.cairo.plot.CairoPlot at 0x2049dd2fd00>"
            ]
          },
          "execution_count": 4,
          "metadata": {
            "image/svg+xml": {
              "isolated": true
            }
          },
          "output_type": "execute_result"
        }
      ],
      "source": [
        "plot(g1,bbox=(300, 200))"
      ]
    },
    {
      "cell_type": "markdown",
      "metadata": {
        "id": "HWS6zy28eRui"
      },
      "source": [
        "You can obtain more information about the graph executing class and executing print(g1). \n",
        "\n",
        "The description of an igraph object starts with up to four letters:\n",
        "\n",
        "1. D or U, for a directed or undirected graph: if either they have symmetrical or asymmetrical relations\n",
        "2. N for a named graph (where nodes have a name attribute)\n",
        "3. W for a weighted graph (where edges have a weight attribute): when each connection does not have the same importance\n",
        "4. B for a bipartite (two-mode) graph (where nodes have a type attribute)\n",
        "\n",
        "The two numbers that follow (7 5) refer to the number of nodes and edges in the graph. The description also lists node & edge attributes, for example:\n",
        "\n",
        "* (g/c) - graph-level character attribute\n",
        "* (v/c) - vertex-level character attribute\n",
        "* (e/n) - edge-level numeric attribute"
      ]
    },
    {
      "cell_type": "code",
      "execution_count": 5,
      "metadata": {
        "id": "WyeLJ5s8eRuk"
      },
      "outputs": [
        {
          "name": "stdout",
          "output_type": "stream",
          "text": [
            "IGRAPH U--- 3 3 --\n",
            "+ edges:\n",
            "0--1 1--2 0--2\n"
          ]
        }
      ],
      "source": [
        "print(g1)"
      ]
    },
    {
      "cell_type": "markdown",
      "metadata": {
        "id": "t68dkLh1eRum"
      },
      "source": [
        "Now, do you think you can create a different graph?"
      ]
    },
    {
      "cell_type": "code",
      "execution_count": 6,
      "metadata": {
        "id": "Yd7ocPLweRuo"
      },
      "outputs": [],
      "source": [
        "#Discussion board 1.1\n",
        "# Create it, plot it and comment the type of the graph, number of nodes, edges..."
      ]
    },
    {
      "cell_type": "markdown",
      "metadata": {
        "id": "FBAyzRzieRus"
      },
      "source": [
        "You can create a graph with a representation of a graph formula.\n",
        "\n",
        "A graph formula is a simple string representation of a graph. It is very handy for creating small graphs quickly. The string consists of vertex names separated by edge operators. An edge operator is a sequence of dashes (-) that may or may not start with an arrowhead (< at the beginning of the sequence or > at the end of the sequence). The edge operators can be arbitrarily long, i.e., you may use as many dashes to draw them as you like. This makes a total of four different edge operators:\n",
        "\n",
        "----- makes an undirected edge\n",
        "\n",
        "<---- makes a directed edge pointing from the vertex on the right hand side of the operator to the vertex on the left hand side\n",
        "----> is the opposite of <----\n",
        "\n",
        "<---> creates a mutual directed edge pair between the two vertices\n",
        "\n",
        "If you only use the undirected edge operator (-----), the graph will be undirected. Otherwise it will be directed. Vertex names used in the formula will be assigned to the name vertex attribute of the graph"
      ]
    },
    {
      "cell_type": "code",
      "execution_count": 7,
      "metadata": {
        "id": "Chqhp08aeRuu"
      },
      "outputs": [
        {
          "data": {
            "image/svg+xml": "<?xml version=\"1.0\" encoding=\"UTF-8\"?>\n<svg xmlns=\"http://www.w3.org/2000/svg\" xmlns:xlink=\"http://www.w3.org/1999/xlink\" width=\"300\" height=\"200\" viewBox=\"0 0 300 200\">\n<defs>\n<g>\n<g id=\"glyph-0-0\">\n<path d=\"M 1.75 0 L 1.75 -8.75 L 8.75 -8.75 L 8.75 0 L 1.75 0 M 1.96875 -0.21875 L 8.53125 -0.21875 L 8.53125 -8.53125 L 1.96875 -8.53125 Z M 1.96875 -0.21875 \"/>\n</g>\n<g id=\"glyph-0-1\">\n<path d=\"M -0.0195312 0 L 3.828125 -10.023438 L 5.257812 -10.023438 L 9.359375 0 L 7.847656 0 L 6.679688 -3.035156 L 2.488281 -3.035156 L 1.386719 0 L -0.0195312 0 M 2.871094 -4.117188 L 6.269531 -4.117188 L 5.222656 -6.890625 C 4.902344 -7.734375 4.667969 -8.425781 4.511719 -8.96875 C 4.382812 -8.328125 4.203125 -7.6875 3.972656 -7.054688 Z M 2.871094 -4.117188 \"/>\n</g>\n<g id=\"glyph-0-2\">\n<path d=\"M 1.023438 0 L 1.023438 -10.023438 L 4.785156 -10.023438 C 5.550781 -10.023438 6.164062 -9.921875 6.628906 -9.71875 C 7.089844 -9.515625 7.453125 -9.203125 7.714844 -8.78125 C 7.976562 -8.359375 8.109375 -7.917969 8.109375 -7.457031 C 8.109375 -7.03125 7.992188 -6.625 7.757812 -6.25 C 7.527344 -5.871094 7.175781 -5.5625 6.707031 -5.332031 C 7.3125 -5.15625 7.777344 -4.851562 8.105469 -4.421875 C 8.429688 -3.996094 8.59375 -3.488281 8.59375 -2.90625 C 8.59375 -2.4375 8.492188 -2 8.296875 -1.597656 C 8.097656 -1.191406 7.851562 -0.882812 7.5625 -0.664062 C 7.269531 -0.445312 6.902344 -0.277344 6.464844 -0.167969 C 6.023438 -0.0546875 5.484375 0 4.847656 0 L 1.023438 0 M 2.351562 -5.8125 L 4.519531 -5.8125 C 5.105469 -5.8125 5.527344 -5.847656 5.78125 -5.925781 C 6.121094 -6.027344 6.375 -6.195312 6.546875 -6.425781 C 6.714844 -6.65625 6.800781 -6.949219 6.800781 -7.300781 C 6.800781 -7.632812 6.722656 -7.925781 6.5625 -8.179688 C 6.402344 -8.433594 6.175781 -8.605469 5.878906 -8.699219 C 5.582031 -8.792969 5.074219 -8.839844 4.355469 -8.839844 L 2.351562 -8.839844 L 2.351562 -5.8125 M 2.351562 -1.183594 L 4.847656 -1.183594 C 5.273438 -1.183594 5.574219 -1.199219 5.75 -1.230469 C 6.054688 -1.285156 6.308594 -1.375 6.515625 -1.503906 C 6.71875 -1.632812 6.886719 -1.816406 7.019531 -2.0625 C 7.152344 -2.304688 7.21875 -2.585938 7.21875 -2.90625 C 7.21875 -3.277344 7.121094 -3.605469 6.929688 -3.878906 C 6.738281 -4.15625 6.476562 -4.347656 6.136719 -4.460938 C 5.796875 -4.570312 5.308594 -4.628906 4.667969 -4.628906 L 2.351562 -4.628906 Z M 2.351562 -1.183594 \"/>\n</g>\n<g id=\"glyph-0-3\">\n<path d=\"M 8.230469 -3.515625 L 9.554688 -3.179688 C 9.277344 -2.089844 8.777344 -1.257812 8.054688 -0.6875 C 7.332031 -0.113281 6.449219 0.171875 5.40625 0.171875 C 4.328125 0.171875 3.449219 -0.0507812 2.773438 -0.488281 C 2.09375 -0.929688 1.582031 -1.566406 1.226562 -2.398438 C 0.875 -3.234375 0.695312 -4.128906 0.695312 -5.085938 C 0.695312 -6.128906 0.898438 -7.039062 1.296875 -7.816406 C 1.695312 -8.59375 2.261719 -9.183594 2.996094 -9.585938 C 3.734375 -9.992188 4.542969 -10.191406 5.429688 -10.191406 C 6.429688 -10.191406 7.273438 -9.9375 7.957031 -9.425781 C 8.640625 -8.917969 9.117188 -8.199219 9.386719 -7.273438 L 8.078125 -6.964844 C 7.847656 -7.695312 7.511719 -8.226562 7.070312 -8.558594 C 6.625 -8.890625 6.070312 -9.058594 5.398438 -9.058594 C 4.628906 -9.058594 3.988281 -8.875 3.46875 -8.503906 C 2.953125 -8.132812 2.589844 -7.640625 2.378906 -7.015625 C 2.167969 -6.394531 2.0625 -5.753906 2.0625 -5.09375 C 2.0625 -4.242188 2.1875 -3.496094 2.4375 -2.859375 C 2.683594 -2.226562 3.070312 -1.75 3.59375 -1.4375 C 4.121094 -1.121094 4.6875 -0.964844 5.296875 -0.964844 C 6.039062 -0.964844 6.667969 -1.179688 7.183594 -1.605469 C 7.699219 -2.035156 8.046875 -2.671875 8.230469 -3.515625 Z M 8.230469 -3.515625 \"/>\n</g>\n<g id=\"glyph-0-4\">\n<path d=\"M 1.078125 0 L 1.078125 -10.023438 L 4.53125 -10.023438 C 5.3125 -10.023438 5.90625 -9.972656 6.316406 -9.878906 C 6.890625 -9.746094 7.378906 -9.507812 7.785156 -9.160156 C 8.316406 -8.714844 8.710938 -8.144531 8.972656 -7.449219 C 9.234375 -6.753906 9.367188 -5.957031 9.367188 -5.066406 C 9.367188 -4.304688 9.277344 -3.628906 9.097656 -3.042969 C 8.921875 -2.453125 8.691406 -1.96875 8.414062 -1.582031 C 8.136719 -1.199219 7.832031 -0.894531 7.503906 -0.671875 C 7.171875 -0.453125 6.773438 -0.285156 6.304688 -0.171875 C 5.839844 -0.0585938 5.300781 0 4.695312 0 L 1.078125 0 M 2.40625 -1.183594 L 4.546875 -1.183594 C 5.207031 -1.183594 5.726562 -1.242188 6.101562 -1.367188 C 6.476562 -1.492188 6.777344 -1.664062 7 -1.886719 C 7.3125 -2.203125 7.558594 -2.625 7.734375 -3.15625 C 7.910156 -3.6875 7.996094 -4.328125 8 -5.085938 C 7.996094 -6.132812 7.824219 -6.941406 7.480469 -7.503906 C 7.136719 -8.066406 6.71875 -8.441406 6.226562 -8.632812 C 5.871094 -8.769531 5.300781 -8.839844 4.511719 -8.839844 L 2.40625 -8.839844 Z M 2.40625 -1.183594 \"/>\n</g>\n<g id=\"glyph-0-5\">\n<path d=\"M 1.109375 0 L 1.109375 -10.023438 L 8.351562 -10.023438 L 8.351562 -8.839844 L 2.433594 -8.839844 L 2.433594 -5.769531 L 7.976562 -5.769531 L 7.976562 -4.59375 L 2.433594 -4.59375 L 2.433594 -1.183594 L 8.585938 -1.183594 L 8.585938 0 Z M 1.109375 0 \"/>\n</g>\n<g id=\"glyph-0-6\">\n<path d=\"M 1.148438 0 L 1.148438 -10.023438 L 7.910156 -10.023438 L 7.910156 -8.839844 L 2.476562 -8.839844 L 2.476562 -5.734375 L 7.179688 -5.734375 L 7.179688 -4.554688 L 2.476562 -4.554688 L 2.476562 0 Z M 1.148438 0 \"/>\n</g>\n</g>\n</defs>\n<rect x=\"-30\" y=\"-20\" width=\"360\" height=\"240\" fill=\"rgb(100%, 100%, 100%)\" fill-opacity=\"1\"/>\n<path fill=\"none\" stroke-width=\"1\" stroke-linecap=\"butt\" stroke-linejoin=\"miter\" stroke=\"rgb(26.666667%, 26.666667%, 26.666667%)\" stroke-opacity=\"1\" stroke-miterlimit=\"10\" d=\"M 280 134.828125 L 220.957031 180 \"/>\n<path fill=\"none\" stroke-width=\"1\" stroke-linecap=\"butt\" stroke-linejoin=\"miter\" stroke=\"rgb(26.666667%, 26.666667%, 26.666667%)\" stroke-opacity=\"1\" stroke-miterlimit=\"10\" d=\"M 280 134.828125 L 198.964844 99.40625 \"/>\n<path fill=\"none\" stroke-width=\"1\" stroke-linecap=\"butt\" stroke-linejoin=\"miter\" stroke=\"rgb(26.666667%, 26.666667%, 26.666667%)\" stroke-opacity=\"1\" stroke-miterlimit=\"10\" d=\"M 220.957031 180 L 198.964844 99.40625 \"/>\n<path fill=\"none\" stroke-width=\"1\" stroke-linecap=\"butt\" stroke-linejoin=\"miter\" stroke=\"rgb(26.666667%, 26.666667%, 26.666667%)\" stroke-opacity=\"1\" stroke-miterlimit=\"10\" d=\"M 198.964844 99.40625 L 106.71875 95.164062 \"/>\n<path fill=\"none\" stroke-width=\"1\" stroke-linecap=\"butt\" stroke-linejoin=\"miter\" stroke=\"rgb(26.666667%, 26.666667%, 26.666667%)\" stroke-opacity=\"1\" stroke-miterlimit=\"10\" d=\"M 198.964844 99.40625 L 232.804688 20 \"/>\n<path fill=\"none\" stroke-width=\"1\" stroke-linecap=\"butt\" stroke-linejoin=\"miter\" stroke=\"rgb(26.666667%, 26.666667%, 26.666667%)\" stroke-opacity=\"1\" stroke-miterlimit=\"10\" d=\"M 106.71875 95.164062 L 20 91.523438 \"/>\n<path fill-rule=\"nonzero\" fill=\"rgb(100%, 0%, 0%)\" fill-opacity=\"1\" stroke-width=\"1\" stroke-linecap=\"butt\" stroke-linejoin=\"miter\" stroke=\"rgb(0%, 0%, 0%)\" stroke-opacity=\"1\" stroke-miterlimit=\"10\" d=\"M 290 134.828125 C 290 140.351562 285.523438 144.828125 280 144.828125 C 274.476562 144.828125 270 140.351562 270 134.828125 C 270 129.304688 274.476562 124.828125 280 124.828125 C 285.523438 124.828125 290 129.304688 290 134.828125 \"/>\n<path fill-rule=\"nonzero\" fill=\"rgb(100%, 0%, 0%)\" fill-opacity=\"1\" stroke-width=\"1\" stroke-linecap=\"butt\" stroke-linejoin=\"miter\" stroke=\"rgb(0%, 0%, 0%)\" stroke-opacity=\"1\" stroke-miterlimit=\"10\" d=\"M 230.957031 180 C 230.957031 185.523438 226.480469 190 220.957031 190 C 215.433594 190 210.957031 185.523438 210.957031 180 C 210.957031 174.476562 215.433594 170 220.957031 170 C 226.480469 170 230.957031 174.476562 230.957031 180 \"/>\n<path fill-rule=\"nonzero\" fill=\"rgb(100%, 0%, 0%)\" fill-opacity=\"1\" stroke-width=\"1\" stroke-linecap=\"butt\" stroke-linejoin=\"miter\" stroke=\"rgb(0%, 0%, 0%)\" stroke-opacity=\"1\" stroke-miterlimit=\"10\" d=\"M 208.964844 99.40625 C 208.964844 104.929688 204.488281 109.40625 198.964844 109.40625 C 193.441406 109.40625 188.964844 104.929688 188.964844 99.40625 C 188.964844 93.886719 193.441406 89.40625 198.964844 89.40625 C 204.488281 89.40625 208.964844 93.886719 208.964844 99.40625 \"/>\n<path fill-rule=\"nonzero\" fill=\"rgb(100%, 0%, 0%)\" fill-opacity=\"1\" stroke-width=\"1\" stroke-linecap=\"butt\" stroke-linejoin=\"miter\" stroke=\"rgb(0%, 0%, 0%)\" stroke-opacity=\"1\" stroke-miterlimit=\"10\" d=\"M 116.71875 95.164062 C 116.71875 100.6875 112.242188 105.164062 106.71875 105.164062 C 101.195312 105.164062 96.71875 100.6875 96.71875 95.164062 C 96.71875 89.640625 101.195312 85.164062 106.71875 85.164062 C 112.242188 85.164062 116.71875 89.640625 116.71875 95.164062 \"/>\n<path fill-rule=\"nonzero\" fill=\"rgb(100%, 0%, 0%)\" fill-opacity=\"1\" stroke-width=\"1\" stroke-linecap=\"butt\" stroke-linejoin=\"miter\" stroke=\"rgb(0%, 0%, 0%)\" stroke-opacity=\"1\" stroke-miterlimit=\"10\" d=\"M 30 91.523438 C 30 97.046875 25.523438 101.523438 20 101.523438 C 14.476562 101.523438 10 97.046875 10 91.523438 C 10 86 14.476562 81.523438 20 81.523438 C 25.523438 81.523438 30 86 30 91.523438 \"/>\n<path fill-rule=\"nonzero\" fill=\"rgb(100%, 0%, 0%)\" fill-opacity=\"1\" stroke-width=\"1\" stroke-linecap=\"butt\" stroke-linejoin=\"miter\" stroke=\"rgb(0%, 0%, 0%)\" stroke-opacity=\"1\" stroke-miterlimit=\"10\" d=\"M 242.804688 20 C 242.804688 25.523438 238.328125 30 232.804688 30 C 227.28125 30 222.804688 25.523438 222.804688 20 C 222.804688 14.476562 227.28125 10 232.804688 10 C 238.328125 10 242.804688 14.476562 242.804688 20 \"/>\n<g fill=\"rgb(0%, 0%, 0%)\" fill-opacity=\"1\">\n<use xlink:href=\"#glyph-0-1\" x=\"275.332031\" y=\"141.320312\"/>\n</g>\n<g fill=\"rgb(0%, 0%, 0%)\" fill-opacity=\"1\">\n<use xlink:href=\"#glyph-0-2\" x=\"216.148438\" y=\"186.492188\"/>\n</g>\n<g fill=\"rgb(0%, 0%, 0%)\" fill-opacity=\"1\">\n<use xlink:href=\"#glyph-0-3\" x=\"193.839844\" y=\"105.988281\"/>\n</g>\n<g fill=\"rgb(0%, 0%, 0%)\" fill-opacity=\"1\">\n<use xlink:href=\"#glyph-0-4\" x=\"101.496094\" y=\"101.65625\"/>\n</g>\n<g fill=\"rgb(0%, 0%, 0%)\" fill-opacity=\"1\">\n<use xlink:href=\"#glyph-0-5\" x=\"15.152344\" y=\"98.015625\"/>\n</g>\n<g fill=\"rgb(0%, 0%, 0%)\" fill-opacity=\"1\">\n<use xlink:href=\"#glyph-0-6\" x=\"228.277344\" y=\"26.492188\"/>\n</g>\n</svg>\n",
            "text/plain": [
              "<igraph.drawing.cairo.plot.CairoPlot at 0x20484e34940>"
            ]
          },
          "execution_count": 7,
          "metadata": {
            "image/svg+xml": {
              "isolated": true
            }
          },
          "output_type": "execute_result"
        }
      ],
      "source": [
        "g4 = Graph.Formula('A-B, B-C, C-A, C-D, D-E, C-F')\n",
        "plot(g4,bbox=(300, 200),vertex_label=g4.vs['name'])"
      ]
    },
    {
      "cell_type": "code",
      "execution_count": 8,
      "metadata": {
        "id": "CGbqymmneRuv"
      },
      "outputs": [
        {
          "name": "stdout",
          "output_type": "stream",
          "text": [
            "IGRAPH UN-- 6 6 --\n",
            "+ attr: name (v)\n",
            "+ edges (vertex names):\n",
            "A--B, A--C, B--C, C--D, C--F, D--E\n"
          ]
        }
      ],
      "source": [
        "print(g4)"
      ]
    },
    {
      "cell_type": "code",
      "execution_count": 9,
      "metadata": {
        "id": "aowHrZM4e42V"
      },
      "outputs": [],
      "source": [
        "#Discussion board 1.2\n",
        "# Create a new graph with the formula, plot it and comment the type of the graph, number of nodes, edges..."
      ]
    },
    {
      "cell_type": "markdown",
      "metadata": {
        "id": "XgnrSXbaeRuw"
      },
      "source": [
        "# 1.2 Edge, vertex, and network attributes\n",
        "\n",
        "You can access vertices by getting the dataframe of vertices:"
      ]
    },
    {
      "cell_type": "code",
      "execution_count": 10,
      "metadata": {
        "id": "AO6SUEq0eRuw"
      },
      "outputs": [
        {
          "data": {
            "text/html": [
              "<div>\n",
              "<style scoped>\n",
              "    .dataframe tbody tr th:only-of-type {\n",
              "        vertical-align: middle;\n",
              "    }\n",
              "\n",
              "    .dataframe tbody tr th {\n",
              "        vertical-align: top;\n",
              "    }\n",
              "\n",
              "    .dataframe thead th {\n",
              "        text-align: right;\n",
              "    }\n",
              "</style>\n",
              "<table border=\"1\" class=\"dataframe\">\n",
              "  <thead>\n",
              "    <tr style=\"text-align: right;\">\n",
              "      <th></th>\n",
              "      <th>name</th>\n",
              "    </tr>\n",
              "    <tr>\n",
              "      <th>vertex ID</th>\n",
              "      <th></th>\n",
              "    </tr>\n",
              "  </thead>\n",
              "  <tbody>\n",
              "    <tr>\n",
              "      <th>0</th>\n",
              "      <td>A</td>\n",
              "    </tr>\n",
              "    <tr>\n",
              "      <th>1</th>\n",
              "      <td>B</td>\n",
              "    </tr>\n",
              "    <tr>\n",
              "      <th>2</th>\n",
              "      <td>C</td>\n",
              "    </tr>\n",
              "    <tr>\n",
              "      <th>3</th>\n",
              "      <td>D</td>\n",
              "    </tr>\n",
              "    <tr>\n",
              "      <th>4</th>\n",
              "      <td>E</td>\n",
              "    </tr>\n",
              "    <tr>\n",
              "      <th>5</th>\n",
              "      <td>F</td>\n",
              "    </tr>\n",
              "  </tbody>\n",
              "</table>\n",
              "</div>"
            ],
            "text/plain": [
              "          name\n",
              "vertex ID     \n",
              "0            A\n",
              "1            B\n",
              "2            C\n",
              "3            D\n",
              "4            E\n",
              "5            F"
            ]
          },
          "execution_count": 10,
          "metadata": {},
          "output_type": "execute_result"
        }
      ],
      "source": [
        "g4.get_vertex_dataframe()"
      ]
    },
    {
      "cell_type": "markdown",
      "metadata": {
        "id": "WfUVGUwHeRux"
      },
      "source": [
        "And the edges by getting the dataframe of vertices:"
      ]
    },
    {
      "cell_type": "code",
      "execution_count": 11,
      "metadata": {
        "id": "tLVPvmL2eRuy",
        "scrolled": true
      },
      "outputs": [
        {
          "data": {
            "text/plain": [
              "[(0, 1), (0, 2), (1, 2), (2, 3), (2, 5), (3, 4)]"
            ]
          },
          "execution_count": 11,
          "metadata": {},
          "output_type": "execute_result"
        }
      ],
      "source": [
        "g4.get_edgelist()"
      ]
    },
    {
      "cell_type": "markdown",
      "metadata": {
        "id": "NJbagf8neRuz"
      },
      "source": [
        "To access the vertex/edge sequence we can use g.vs/g.es. g.vs and g.es are properties of the graph and can be used to get specific attributes of the graph. For example:"
      ]
    },
    {
      "cell_type": "code",
      "execution_count": 12,
      "metadata": {
        "id": "eQu5JiTVeRu0"
      },
      "outputs": [
        {
          "data": {
            "text/plain": [
              "['A', 'B', 'C', 'D', 'E', 'F']"
            ]
          },
          "execution_count": 12,
          "metadata": {},
          "output_type": "execute_result"
        }
      ],
      "source": [
        "g4.vs['name']"
      ]
    },
    {
      "cell_type": "markdown",
      "metadata": {
        "id": "T_IIUtzTeRu1"
      },
      "source": [
        "An adjacency matrix A is a representation of the graph in which:\n",
        "* Aij = 1 if there is a link from node i to node j\n",
        "* Aij = 0 otherwise\n",
        "\n",
        "You can access the network adjacency matrix directly doing:"
      ]
    },
    {
      "cell_type": "code",
      "execution_count": 13,
      "metadata": {
        "id": "I2AI59gXeRu2"
      },
      "outputs": [
        {
          "data": {
            "text/plain": [
              "Matrix([[0, 1, 1, 0, 0, 0], [1, 0, 1, 0, 0, 0], [1, 1, 0, 1, 0, 1], [0, 0, 1, 0, 1, 0], [0, 0, 0, 1, 0, 0], [0, 0, 1, 0, 0, 0]])"
            ]
          },
          "execution_count": 13,
          "metadata": {},
          "output_type": "execute_result"
        }
      ],
      "source": [
        "g4.get_adjacency()"
      ]
    },
    {
      "cell_type": "markdown",
      "metadata": {
        "id": "HNUdC5neeRu2"
      },
      "source": [
        "And you can index that matrix by using the vertex name"
      ]
    },
    {
      "cell_type": "code",
      "execution_count": 14,
      "metadata": {
        "id": "5JvAx4bIeRu3"
      },
      "outputs": [
        {
          "data": {
            "text/plain": [
              "1"
            ]
          },
          "execution_count": 14,
          "metadata": {},
          "output_type": "execute_result"
        }
      ],
      "source": [
        "g4[\"A\",\"B\"]"
      ]
    },
    {
      "cell_type": "markdown",
      "metadata": {
        "id": "5TcvlhrDeRu4"
      },
      "source": [
        "Attributes can be added to the network, vertices, or edges. \n",
        "With vertex_attributes and edge_attributes you can query the atributes of a given graph.\n",
        "\n",
        "In this case we only have the vertex name (that is automatically generated when we created the network)."
      ]
    },
    {
      "cell_type": "code",
      "execution_count": 15,
      "metadata": {
        "id": "e0T824bVeRu4"
      },
      "outputs": [
        {
          "data": {
            "text/plain": [
              "['name']"
            ]
          },
          "execution_count": 15,
          "metadata": {},
          "output_type": "execute_result"
        }
      ],
      "source": [
        "g4.vertex_attributes()"
      ]
    },
    {
      "cell_type": "code",
      "execution_count": 16,
      "metadata": {
        "id": "GxbplB7weRu5"
      },
      "outputs": [
        {
          "data": {
            "text/plain": [
              "[]"
            ]
          },
          "execution_count": 16,
          "metadata": {},
          "output_type": "execute_result"
        }
      ],
      "source": [
        "g4.edge_attributes()"
      ]
    },
    {
      "cell_type": "markdown",
      "metadata": {
        "id": "pMmJlDmZeRu5"
      },
      "source": [
        "To set the attributes the following syntax can be used."
      ]
    },
    {
      "cell_type": "code",
      "execution_count": 17,
      "metadata": {
        "id": "V2YKF6dueRu6"
      },
      "outputs": [
        {
          "data": {
            "text/html": [
              "<div>\n",
              "<style scoped>\n",
              "    .dataframe tbody tr th:only-of-type {\n",
              "        vertical-align: middle;\n",
              "    }\n",
              "\n",
              "    .dataframe tbody tr th {\n",
              "        vertical-align: top;\n",
              "    }\n",
              "\n",
              "    .dataframe thead th {\n",
              "        text-align: right;\n",
              "    }\n",
              "</style>\n",
              "<table border=\"1\" class=\"dataframe\">\n",
              "  <thead>\n",
              "    <tr style=\"text-align: right;\">\n",
              "      <th></th>\n",
              "      <th>name</th>\n",
              "      <th>newAtt</th>\n",
              "    </tr>\n",
              "    <tr>\n",
              "      <th>vertex ID</th>\n",
              "      <th></th>\n",
              "      <th></th>\n",
              "    </tr>\n",
              "  </thead>\n",
              "  <tbody>\n",
              "    <tr>\n",
              "      <th>0</th>\n",
              "      <td>A</td>\n",
              "      <td>New attribute</td>\n",
              "    </tr>\n",
              "    <tr>\n",
              "      <th>1</th>\n",
              "      <td>B</td>\n",
              "      <td>New attribute</td>\n",
              "    </tr>\n",
              "    <tr>\n",
              "      <th>2</th>\n",
              "      <td>C</td>\n",
              "      <td>New attribute</td>\n",
              "    </tr>\n",
              "    <tr>\n",
              "      <th>3</th>\n",
              "      <td>D</td>\n",
              "      <td>New attribute</td>\n",
              "    </tr>\n",
              "    <tr>\n",
              "      <th>4</th>\n",
              "      <td>E</td>\n",
              "      <td>New attribute</td>\n",
              "    </tr>\n",
              "    <tr>\n",
              "      <th>5</th>\n",
              "      <td>F</td>\n",
              "      <td>New attribute</td>\n",
              "    </tr>\n",
              "  </tbody>\n",
              "</table>\n",
              "</div>"
            ],
            "text/plain": [
              "          name         newAtt\n",
              "vertex ID                    \n",
              "0            A  New attribute\n",
              "1            B  New attribute\n",
              "2            C  New attribute\n",
              "3            D  New attribute\n",
              "4            E  New attribute\n",
              "5            F  New attribute"
            ]
          },
          "execution_count": 17,
          "metadata": {},
          "output_type": "execute_result"
        }
      ],
      "source": [
        "g4.vs['newAtt']=\"New attribute\"\n",
        "g4.get_vertex_dataframe()"
      ]
    },
    {
      "cell_type": "markdown",
      "metadata": {
        "id": "SUQl1aHkeRu7"
      },
      "source": [
        "Create your own attribute for vowels. This attribute must be boolean (True if it is a vowel)."
      ]
    },
    {
      "cell_type": "code",
      "execution_count": 18,
      "metadata": {
        "id": "T5tetUJGeRu7"
      },
      "outputs": [],
      "source": [
        "#Insert your code here and share your solutions in the 2_1 discussion board\n"
      ]
    },
    {
      "cell_type": "markdown",
      "metadata": {
        "id": "p4I93YuEeRu8"
      },
      "source": [
        "The color is also an attribute."
      ]
    },
    {
      "cell_type": "code",
      "execution_count": 19,
      "metadata": {
        "id": "1Ghxfl0AeRu8"
      },
      "outputs": [
        {
          "data": {
            "text/html": [
              "<div>\n",
              "<style scoped>\n",
              "    .dataframe tbody tr th:only-of-type {\n",
              "        vertical-align: middle;\n",
              "    }\n",
              "\n",
              "    .dataframe tbody tr th {\n",
              "        vertical-align: top;\n",
              "    }\n",
              "\n",
              "    .dataframe thead th {\n",
              "        text-align: right;\n",
              "    }\n",
              "</style>\n",
              "<table border=\"1\" class=\"dataframe\">\n",
              "  <thead>\n",
              "    <tr style=\"text-align: right;\">\n",
              "      <th></th>\n",
              "      <th>name</th>\n",
              "      <th>newAtt</th>\n",
              "    </tr>\n",
              "    <tr>\n",
              "      <th>vertex ID</th>\n",
              "      <th></th>\n",
              "      <th></th>\n",
              "    </tr>\n",
              "  </thead>\n",
              "  <tbody>\n",
              "    <tr>\n",
              "      <th>0</th>\n",
              "      <td>A</td>\n",
              "      <td>New attribute</td>\n",
              "    </tr>\n",
              "    <tr>\n",
              "      <th>1</th>\n",
              "      <td>B</td>\n",
              "      <td>New attribute</td>\n",
              "    </tr>\n",
              "    <tr>\n",
              "      <th>2</th>\n",
              "      <td>C</td>\n",
              "      <td>New attribute</td>\n",
              "    </tr>\n",
              "    <tr>\n",
              "      <th>3</th>\n",
              "      <td>D</td>\n",
              "      <td>New attribute</td>\n",
              "    </tr>\n",
              "    <tr>\n",
              "      <th>4</th>\n",
              "      <td>E</td>\n",
              "      <td>New attribute</td>\n",
              "    </tr>\n",
              "    <tr>\n",
              "      <th>5</th>\n",
              "      <td>F</td>\n",
              "      <td>New attribute</td>\n",
              "    </tr>\n",
              "  </tbody>\n",
              "</table>\n",
              "</div>"
            ],
            "text/plain": [
              "          name         newAtt\n",
              "vertex ID                    \n",
              "0            A  New attribute\n",
              "1            B  New attribute\n",
              "2            C  New attribute\n",
              "3            D  New attribute\n",
              "4            E  New attribute\n",
              "5            F  New attribute"
            ]
          },
          "execution_count": 19,
          "metadata": {},
          "output_type": "execute_result"
        }
      ],
      "source": [
        "g4.get_vertex_dataframe()"
      ]
    },
    {
      "cell_type": "markdown",
      "metadata": {
        "id": "nEVV9rNqeRu9"
      },
      "source": [
        "Simple graphs are graphs which do not contain loop and multiple edges. The g.simplify() function does this for us. \n",
        "\n",
        "Create a graph g5 which contains loops and multiple edges and plot it. Then simplify it and plot it again."
      ]
    },
    {
      "cell_type": "code",
      "execution_count": 20,
      "metadata": {
        "id": "K7DtEwhweRu9"
      },
      "outputs": [],
      "source": [
        "#Insert your code here and share your solutions in the 2_1 discussion board\n"
      ]
    },
    {
      "cell_type": "markdown",
      "metadata": {
        "id": "yB9luBSAeRu-"
      },
      "source": [
        "# 1.3 Specific graphs and graph models\n",
        "\n",
        "There are some specific graphs that can be done with igraph functions:\n",
        "\n",
        "* Full graph\n",
        "* Simple star graph\n",
        "* Tree graph\n",
        "* Ring graph\n",
        "* ...\n",
        "\n",
        "\n",
        "You have an example here. Check what others you can find in the documentation: https://igraph.org/python/doc/tutorial/generation.html"
      ]
    },
    {
      "cell_type": "code",
      "execution_count": 21,
      "metadata": {
        "id": "bKlO45LaeRu_"
      },
      "outputs": [
        {
          "data": {
            "image/svg+xml": "<?xml version=\"1.0\" encoding=\"UTF-8\"?>\n<svg xmlns=\"http://www.w3.org/2000/svg\" xmlns:xlink=\"http://www.w3.org/1999/xlink\" width=\"300\" height=\"200\" viewBox=\"0 0 300 200\">\n<rect x=\"-30\" y=\"-20\" width=\"360\" height=\"240\" fill=\"rgb(100%, 100%, 100%)\" fill-opacity=\"1\"/>\n<path fill=\"none\" stroke-width=\"1\" stroke-linecap=\"butt\" stroke-linejoin=\"miter\" stroke=\"rgb(26.666667%, 26.666667%, 26.666667%)\" stroke-opacity=\"1\" stroke-miterlimit=\"10\" d=\"M 280 99.808594 L 255.347656 149.25 \"/>\n<path fill=\"none\" stroke-width=\"1\" stroke-linecap=\"butt\" stroke-linejoin=\"miter\" stroke=\"rgb(26.666667%, 26.666667%, 26.666667%)\" stroke-opacity=\"1\" stroke-miterlimit=\"10\" d=\"M 255.347656 149.25 L 190.457031 179.882812 \"/>\n<path fill=\"none\" stroke-width=\"1\" stroke-linecap=\"butt\" stroke-linejoin=\"miter\" stroke=\"rgb(26.666667%, 26.666667%, 26.666667%)\" stroke-opacity=\"1\" stroke-miterlimit=\"10\" d=\"M 190.457031 179.882812 L 110.109375 180 \"/>\n<path fill=\"none\" stroke-width=\"1\" stroke-linecap=\"butt\" stroke-linejoin=\"miter\" stroke=\"rgb(26.666667%, 26.666667%, 26.666667%)\" stroke-opacity=\"1\" stroke-miterlimit=\"10\" d=\"M 110.109375 180 L 45.003906 149.5625 \"/>\n<path fill=\"none\" stroke-width=\"1\" stroke-linecap=\"butt\" stroke-linejoin=\"miter\" stroke=\"rgb(26.666667%, 26.666667%, 26.666667%)\" stroke-opacity=\"1\" stroke-miterlimit=\"10\" d=\"M 45.003906 149.5625 L 20 100.191406 \"/>\n<path fill=\"none\" stroke-width=\"1\" stroke-linecap=\"butt\" stroke-linejoin=\"miter\" stroke=\"rgb(26.666667%, 26.666667%, 26.666667%)\" stroke-opacity=\"1\" stroke-miterlimit=\"10\" d=\"M 20 100.191406 L 44.652344 50.75 \"/>\n<path fill=\"none\" stroke-width=\"1\" stroke-linecap=\"butt\" stroke-linejoin=\"miter\" stroke=\"rgb(26.666667%, 26.666667%, 26.666667%)\" stroke-opacity=\"1\" stroke-miterlimit=\"10\" d=\"M 44.652344 50.75 L 109.542969 20.117188 \"/>\n<path fill=\"none\" stroke-width=\"1\" stroke-linecap=\"butt\" stroke-linejoin=\"miter\" stroke=\"rgb(26.666667%, 26.666667%, 26.666667%)\" stroke-opacity=\"1\" stroke-miterlimit=\"10\" d=\"M 109.542969 20.117188 L 189.890625 20 \"/>\n<path fill=\"none\" stroke-width=\"1\" stroke-linecap=\"butt\" stroke-linejoin=\"miter\" stroke=\"rgb(26.666667%, 26.666667%, 26.666667%)\" stroke-opacity=\"1\" stroke-miterlimit=\"10\" d=\"M 189.890625 20 L 254.996094 50.4375 \"/>\n<path fill=\"none\" stroke-width=\"1\" stroke-linecap=\"butt\" stroke-linejoin=\"miter\" stroke=\"rgb(26.666667%, 26.666667%, 26.666667%)\" stroke-opacity=\"1\" stroke-miterlimit=\"10\" d=\"M 280 99.808594 L 254.996094 50.4375 \"/>\n<path fill-rule=\"nonzero\" fill=\"rgb(100%, 0%, 0%)\" fill-opacity=\"1\" stroke-width=\"1\" stroke-linecap=\"butt\" stroke-linejoin=\"miter\" stroke=\"rgb(0%, 0%, 0%)\" stroke-opacity=\"1\" stroke-miterlimit=\"10\" d=\"M 290 99.808594 C 290 105.332031 285.523438 109.808594 280 109.808594 C 274.476562 109.808594 270 105.332031 270 99.808594 C 270 94.285156 274.476562 89.808594 280 89.808594 C 285.523438 89.808594 290 94.285156 290 99.808594 \"/>\n<path fill-rule=\"nonzero\" fill=\"rgb(100%, 0%, 0%)\" fill-opacity=\"1\" stroke-width=\"1\" stroke-linecap=\"butt\" stroke-linejoin=\"miter\" stroke=\"rgb(0%, 0%, 0%)\" stroke-opacity=\"1\" stroke-miterlimit=\"10\" d=\"M 265.347656 149.25 C 265.347656 154.773438 260.871094 159.25 255.347656 159.25 C 249.824219 159.25 245.347656 154.773438 245.347656 149.25 C 245.347656 143.726562 249.824219 139.25 255.347656 139.25 C 260.871094 139.25 265.347656 143.726562 265.347656 149.25 \"/>\n<path fill-rule=\"nonzero\" fill=\"rgb(100%, 0%, 0%)\" fill-opacity=\"1\" stroke-width=\"1\" stroke-linecap=\"butt\" stroke-linejoin=\"miter\" stroke=\"rgb(0%, 0%, 0%)\" stroke-opacity=\"1\" stroke-miterlimit=\"10\" d=\"M 200.457031 179.882812 C 200.457031 185.402344 195.976562 189.882812 190.457031 189.882812 C 184.933594 189.882812 180.457031 185.402344 180.457031 179.882812 C 180.457031 174.359375 184.933594 169.882812 190.457031 169.882812 C 195.976562 169.882812 200.457031 174.359375 200.457031 179.882812 \"/>\n<path fill-rule=\"nonzero\" fill=\"rgb(100%, 0%, 0%)\" fill-opacity=\"1\" stroke-width=\"1\" stroke-linecap=\"butt\" stroke-linejoin=\"miter\" stroke=\"rgb(0%, 0%, 0%)\" stroke-opacity=\"1\" stroke-miterlimit=\"10\" d=\"M 120.109375 180 C 120.109375 185.523438 115.632812 190 110.109375 190 C 104.585938 190 100.109375 185.523438 100.109375 180 C 100.109375 174.476562 104.585938 170 110.109375 170 C 115.632812 170 120.109375 174.476562 120.109375 180 \"/>\n<path fill-rule=\"nonzero\" fill=\"rgb(100%, 0%, 0%)\" fill-opacity=\"1\" stroke-width=\"1\" stroke-linecap=\"butt\" stroke-linejoin=\"miter\" stroke=\"rgb(0%, 0%, 0%)\" stroke-opacity=\"1\" stroke-miterlimit=\"10\" d=\"M 55.003906 149.5625 C 55.003906 155.085938 50.527344 159.5625 45.003906 159.5625 C 39.480469 159.5625 35.003906 155.085938 35.003906 149.5625 C 35.003906 144.039062 39.480469 139.5625 45.003906 139.5625 C 50.527344 139.5625 55.003906 144.039062 55.003906 149.5625 \"/>\n<path fill-rule=\"nonzero\" fill=\"rgb(100%, 0%, 0%)\" fill-opacity=\"1\" stroke-width=\"1\" stroke-linecap=\"butt\" stroke-linejoin=\"miter\" stroke=\"rgb(0%, 0%, 0%)\" stroke-opacity=\"1\" stroke-miterlimit=\"10\" d=\"M 30 100.191406 C 30 105.714844 25.523438 110.191406 20 110.191406 C 14.476562 110.191406 10 105.714844 10 100.191406 C 10 94.667969 14.476562 90.191406 20 90.191406 C 25.523438 90.191406 30 94.667969 30 100.191406 \"/>\n<path fill-rule=\"nonzero\" fill=\"rgb(100%, 0%, 0%)\" fill-opacity=\"1\" stroke-width=\"1\" stroke-linecap=\"butt\" stroke-linejoin=\"miter\" stroke=\"rgb(0%, 0%, 0%)\" stroke-opacity=\"1\" stroke-miterlimit=\"10\" d=\"M 54.652344 50.75 C 54.652344 56.273438 50.175781 60.75 44.652344 60.75 C 39.128906 60.75 34.652344 56.273438 34.652344 50.75 C 34.652344 45.226562 39.128906 40.75 44.652344 40.75 C 50.175781 40.75 54.652344 45.226562 54.652344 50.75 \"/>\n<path fill-rule=\"nonzero\" fill=\"rgb(100%, 0%, 0%)\" fill-opacity=\"1\" stroke-width=\"1\" stroke-linecap=\"butt\" stroke-linejoin=\"miter\" stroke=\"rgb(0%, 0%, 0%)\" stroke-opacity=\"1\" stroke-miterlimit=\"10\" d=\"M 119.542969 20.117188 C 119.542969 25.640625 115.066406 30.117188 109.542969 30.117188 C 104.023438 30.117188 99.542969 25.640625 99.542969 20.117188 C 99.542969 14.597656 104.023438 10.117188 109.542969 10.117188 C 115.066406 10.117188 119.542969 14.597656 119.542969 20.117188 \"/>\n<path fill-rule=\"nonzero\" fill=\"rgb(100%, 0%, 0%)\" fill-opacity=\"1\" stroke-width=\"1\" stroke-linecap=\"butt\" stroke-linejoin=\"miter\" stroke=\"rgb(0%, 0%, 0%)\" stroke-opacity=\"1\" stroke-miterlimit=\"10\" d=\"M 199.890625 20 C 199.890625 25.523438 195.414062 30 189.890625 30 C 184.367188 30 179.890625 25.523438 179.890625 20 C 179.890625 14.476562 184.367188 10 189.890625 10 C 195.414062 10 199.890625 14.476562 199.890625 20 \"/>\n<path fill-rule=\"nonzero\" fill=\"rgb(100%, 0%, 0%)\" fill-opacity=\"1\" stroke-width=\"1\" stroke-linecap=\"butt\" stroke-linejoin=\"miter\" stroke=\"rgb(0%, 0%, 0%)\" stroke-opacity=\"1\" stroke-miterlimit=\"10\" d=\"M 264.996094 50.4375 C 264.996094 55.960938 260.519531 60.4375 254.996094 60.4375 C 249.472656 60.4375 244.996094 55.960938 244.996094 50.4375 C 244.996094 44.914062 249.472656 40.4375 254.996094 40.4375 C 260.519531 40.4375 264.996094 44.914062 264.996094 50.4375 \"/>\n</svg>\n",
            "text/plain": [
              "<igraph.drawing.cairo.plot.CairoPlot at 0x20484e35900>"
            ]
          },
          "execution_count": 21,
          "metadata": {
            "image/svg+xml": {
              "isolated": true
            }
          },
          "output_type": "execute_result"
        }
      ],
      "source": [
        "g7=Graph.Ring(10)\n",
        "plot(g7, bbox=(300, 200))"
      ]
    },
    {
      "cell_type": "markdown",
      "metadata": {
        "id": "EKbXmtD0eRvA"
      },
      "source": [
        "To write a graph to a file we can use different functions regarding the format. Formats available: \n",
        "* write_dot\tWrites the graph in DOT format to the given file.\n",
        "* write_edgelist\tWrites the edge list of a graph to a file.\n",
        "* write_gml\tWrites the graph in GML format to the given file.\n",
        "* write_graphml\tWrites the graph to a GraphML file.\n",
        "* write_leda\tWrites the graph to a file in LEDA native format.\n",
        "* write_lgl\tWrites the edge list of a graph to a file in .lgl format.\n",
        "* write_ncol\tWrites the edge list of a graph to a file in .ncol format.\n",
        "* write_pajek\tWrites the graph in Pajek format to the given file.\n",
        "\n",
        "Change the path to the one you want to use."
      ]
    },
    {
      "cell_type": "code",
      "execution_count": 22,
      "metadata": {
        "id": "f65LNdoSeRvB"
      },
      "outputs": [],
      "source": [
        "#Change the path and use a different format. Check the format in you computer and share it in the 2_2 discussion board\n",
        "#g7.write_edgelist(\"C:/Users/Alvaro Romero/Downloads/edgelist.txt\")"
      ]
    },
    {
      "cell_type": "code",
      "execution_count": 23,
      "metadata": {},
      "outputs": [
        {
          "data": {
            "image/svg+xml": "<?xml version=\"1.0\" encoding=\"UTF-8\"?>\n<svg xmlns=\"http://www.w3.org/2000/svg\" xmlns:xlink=\"http://www.w3.org/1999/xlink\" width=\"400\" height=\"200\" viewBox=\"0 0 400 200\">\n<rect x=\"-40\" y=\"-20\" width=\"480\" height=\"240\" fill=\"rgb(100%, 100%, 100%)\" fill-opacity=\"1\"/>\n<path fill=\"none\" stroke-width=\"1\" stroke-linecap=\"butt\" stroke-linejoin=\"miter\" stroke=\"rgb(26.666667%, 26.666667%, 26.666667%)\" stroke-opacity=\"1\" stroke-miterlimit=\"10\" d=\"M 179.9375 91.75 L 217.3125 112.257812 \"/>\n<path fill=\"none\" stroke-width=\"1\" stroke-linecap=\"butt\" stroke-linejoin=\"miter\" stroke=\"rgb(26.666667%, 26.666667%, 26.666667%)\" stroke-opacity=\"1\" stroke-miterlimit=\"10\" d=\"M 179.9375 91.75 L 133.675781 108.289062 \"/>\n<path fill=\"none\" stroke-width=\"1\" stroke-linecap=\"butt\" stroke-linejoin=\"miter\" stroke=\"rgb(26.666667%, 26.666667%, 26.666667%)\" stroke-opacity=\"1\" stroke-miterlimit=\"10\" d=\"M 179.9375 91.75 L 143.421875 71.769531 \"/>\n<path fill=\"none\" stroke-width=\"1\" stroke-linecap=\"butt\" stroke-linejoin=\"miter\" stroke=\"rgb(26.666667%, 26.666667%, 26.666667%)\" stroke-opacity=\"1\" stroke-miterlimit=\"10\" d=\"M 179.9375 91.75 L 223.417969 73.742188 \"/>\n<path fill=\"none\" stroke-width=\"1\" stroke-linecap=\"butt\" stroke-linejoin=\"miter\" stroke=\"rgb(26.666667%, 26.666667%, 26.666667%)\" stroke-opacity=\"1\" stroke-miterlimit=\"10\" d=\"M 217.3125 112.257812 L 268.519531 128.179688 \"/>\n<path fill=\"none\" stroke-width=\"1\" stroke-linecap=\"butt\" stroke-linejoin=\"miter\" stroke=\"rgb(26.666667%, 26.666667%, 26.666667%)\" stroke-opacity=\"1\" stroke-miterlimit=\"10\" d=\"M 217.3125 112.257812 L 255.894531 108.226562 \"/>\n<path fill=\"none\" stroke-width=\"1\" stroke-linecap=\"butt\" stroke-linejoin=\"miter\" stroke=\"rgb(26.666667%, 26.666667%, 26.666667%)\" stroke-opacity=\"1\" stroke-miterlimit=\"10\" d=\"M 217.3125 112.257812 L 224.613281 131.5625 \"/>\n<path fill=\"none\" stroke-width=\"1\" stroke-linecap=\"butt\" stroke-linejoin=\"miter\" stroke=\"rgb(26.666667%, 26.666667%, 26.666667%)\" stroke-opacity=\"1\" stroke-miterlimit=\"10\" d=\"M 217.3125 112.257812 L 201.484375 131.398438 \"/>\n<path fill=\"none\" stroke-width=\"1\" stroke-linecap=\"butt\" stroke-linejoin=\"miter\" stroke=\"rgb(26.666667%, 26.666667%, 26.666667%)\" stroke-opacity=\"1\" stroke-miterlimit=\"10\" d=\"M 133.675781 108.289062 L 80.363281 114.617188 \"/>\n<path fill=\"none\" stroke-width=\"1\" stroke-linecap=\"butt\" stroke-linejoin=\"miter\" stroke=\"rgb(26.666667%, 26.666667%, 26.666667%)\" stroke-opacity=\"1\" stroke-miterlimit=\"10\" d=\"M 133.675781 108.289062 L 92.417969 102.261719 \"/>\n<path fill=\"none\" stroke-width=\"1\" stroke-linecap=\"butt\" stroke-linejoin=\"miter\" stroke=\"rgb(26.666667%, 26.666667%, 26.666667%)\" stroke-opacity=\"1\" stroke-miterlimit=\"10\" d=\"M 133.675781 108.289062 L 132.078125 130.457031 \"/>\n<path fill=\"none\" stroke-width=\"1\" stroke-linecap=\"butt\" stroke-linejoin=\"miter\" stroke=\"rgb(26.666667%, 26.666667%, 26.666667%)\" stroke-opacity=\"1\" stroke-miterlimit=\"10\" d=\"M 133.675781 108.289062 L 107.789062 127.332031 \"/>\n<path fill=\"none\" stroke-width=\"1\" stroke-linecap=\"butt\" stroke-linejoin=\"miter\" stroke=\"rgb(26.666667%, 26.666667%, 26.666667%)\" stroke-opacity=\"1\" stroke-miterlimit=\"10\" d=\"M 143.421875 71.769531 L 128.511719 50.441406 \"/>\n<path fill=\"none\" stroke-width=\"1\" stroke-linecap=\"butt\" stroke-linejoin=\"miter\" stroke=\"rgb(26.666667%, 26.666667%, 26.666667%)\" stroke-opacity=\"1\" stroke-miterlimit=\"10\" d=\"M 143.421875 71.769531 L 97.351562 73 \"/>\n<path fill=\"none\" stroke-width=\"1\" stroke-linecap=\"butt\" stroke-linejoin=\"miter\" stroke=\"rgb(26.666667%, 26.666667%, 26.666667%)\" stroke-opacity=\"1\" stroke-miterlimit=\"10\" d=\"M 143.421875 71.769531 L 97.722656 59.863281 \"/>\n<path fill=\"none\" stroke-width=\"1\" stroke-linecap=\"butt\" stroke-linejoin=\"miter\" stroke=\"rgb(26.666667%, 26.666667%, 26.666667%)\" stroke-opacity=\"1\" stroke-miterlimit=\"10\" d=\"M 143.421875 71.769531 L 154.144531 50.796875 \"/>\n<path fill=\"none\" stroke-width=\"1\" stroke-linecap=\"butt\" stroke-linejoin=\"miter\" stroke=\"rgb(26.666667%, 26.666667%, 26.666667%)\" stroke-opacity=\"1\" stroke-miterlimit=\"10\" d=\"M 223.417969 73.742188 L 219.089844 52.296875 \"/>\n<path fill=\"none\" stroke-width=\"1\" stroke-linecap=\"butt\" stroke-linejoin=\"miter\" stroke=\"rgb(26.666667%, 26.666667%, 26.666667%)\" stroke-opacity=\"1\" stroke-miterlimit=\"10\" d=\"M 223.417969 73.742188 L 244.507812 53.515625 \"/>\n<path fill=\"none\" stroke-width=\"1\" stroke-linecap=\"butt\" stroke-linejoin=\"miter\" stroke=\"rgb(26.666667%, 26.666667%, 26.666667%)\" stroke-opacity=\"1\" stroke-miterlimit=\"10\" d=\"M 223.417969 73.742188 L 274.855469 64.582031 \"/>\n<path fill=\"none\" stroke-width=\"1\" stroke-linecap=\"butt\" stroke-linejoin=\"miter\" stroke=\"rgb(26.666667%, 26.666667%, 26.666667%)\" stroke-opacity=\"1\" stroke-miterlimit=\"10\" d=\"M 223.417969 73.742188 L 266.917969 77.570312 \"/>\n<path fill=\"none\" stroke-width=\"1\" stroke-linecap=\"butt\" stroke-linejoin=\"miter\" stroke=\"rgb(26.666667%, 26.666667%, 26.666667%)\" stroke-opacity=\"1\" stroke-miterlimit=\"10\" d=\"M 268.519531 128.179688 L 329.492188 140.011719 \"/>\n<path fill=\"none\" stroke-width=\"1\" stroke-linecap=\"butt\" stroke-linejoin=\"miter\" stroke=\"rgb(26.666667%, 26.666667%, 26.666667%)\" stroke-opacity=\"1\" stroke-miterlimit=\"10\" d=\"M 268.519531 128.179688 L 280.886719 155.390625 \"/>\n<path fill=\"none\" stroke-width=\"1\" stroke-linecap=\"butt\" stroke-linejoin=\"miter\" stroke=\"rgb(26.666667%, 26.666667%, 26.666667%)\" stroke-opacity=\"1\" stroke-miterlimit=\"10\" d=\"M 268.519531 128.179688 L 312.433594 125.914062 \"/>\n<path fill=\"none\" stroke-width=\"1\" stroke-linecap=\"butt\" stroke-linejoin=\"miter\" stroke=\"rgb(26.666667%, 26.666667%, 26.666667%)\" stroke-opacity=\"1\" stroke-miterlimit=\"10\" d=\"M 268.519531 128.179688 L 293.421875 141.199219 \"/>\n<path fill=\"none\" stroke-width=\"1\" stroke-linecap=\"butt\" stroke-linejoin=\"miter\" stroke=\"rgb(26.666667%, 26.666667%, 26.666667%)\" stroke-opacity=\"1\" stroke-miterlimit=\"10\" d=\"M 255.894531 108.226562 L 286.207031 99.363281 \"/>\n<path fill=\"none\" stroke-width=\"1\" stroke-linecap=\"butt\" stroke-linejoin=\"miter\" stroke=\"rgb(26.666667%, 26.666667%, 26.666667%)\" stroke-opacity=\"1\" stroke-miterlimit=\"10\" d=\"M 255.894531 108.226562 L 317.078125 112.953125 \"/>\n<path fill=\"none\" stroke-width=\"1\" stroke-linecap=\"butt\" stroke-linejoin=\"miter\" stroke=\"rgb(26.666667%, 26.666667%, 26.666667%)\" stroke-opacity=\"1\" stroke-miterlimit=\"10\" d=\"M 255.894531 108.226562 L 291.125 118.980469 \"/>\n<path fill=\"none\" stroke-width=\"1\" stroke-linecap=\"butt\" stroke-linejoin=\"miter\" stroke=\"rgb(26.666667%, 26.666667%, 26.666667%)\" stroke-opacity=\"1\" stroke-miterlimit=\"10\" d=\"M 255.894531 108.226562 L 313.445312 102.972656 \"/>\n<path fill=\"none\" stroke-width=\"1\" stroke-linecap=\"butt\" stroke-linejoin=\"miter\" stroke=\"rgb(26.666667%, 26.666667%, 26.666667%)\" stroke-opacity=\"1\" stroke-miterlimit=\"10\" d=\"M 224.613281 131.5625 L 249.535156 156.292969 \"/>\n<path fill=\"none\" stroke-width=\"1\" stroke-linecap=\"butt\" stroke-linejoin=\"miter\" stroke=\"rgb(26.666667%, 26.666667%, 26.666667%)\" stroke-opacity=\"1\" stroke-miterlimit=\"10\" d=\"M 224.613281 131.5625 L 226.148438 162.074219 \"/>\n<path fill=\"none\" stroke-width=\"1\" stroke-linecap=\"butt\" stroke-linejoin=\"miter\" stroke=\"rgb(26.666667%, 26.666667%, 26.666667%)\" stroke-opacity=\"1\" stroke-miterlimit=\"10\" d=\"M 224.613281 131.5625 L 260.816406 143.640625 \"/>\n<path fill=\"none\" stroke-width=\"1\" stroke-linecap=\"butt\" stroke-linejoin=\"miter\" stroke=\"rgb(26.666667%, 26.666667%, 26.666667%)\" stroke-opacity=\"1\" stroke-miterlimit=\"10\" d=\"M 224.613281 131.5625 L 202.984375 151.152344 \"/>\n<path fill=\"none\" stroke-width=\"1\" stroke-linecap=\"butt\" stroke-linejoin=\"miter\" stroke=\"rgb(26.666667%, 26.666667%, 26.666667%)\" stroke-opacity=\"1\" stroke-miterlimit=\"10\" d=\"M 201.484375 131.398438 L 176.613281 145.0625 \"/>\n<path fill=\"none\" stroke-width=\"1\" stroke-linecap=\"butt\" stroke-linejoin=\"miter\" stroke=\"rgb(26.666667%, 26.666667%, 26.666667%)\" stroke-opacity=\"1\" stroke-miterlimit=\"10\" d=\"M 201.484375 131.398438 L 181.828125 158.289062 \"/>\n<path fill=\"none\" stroke-width=\"1\" stroke-linecap=\"butt\" stroke-linejoin=\"miter\" stroke=\"rgb(26.666667%, 26.666667%, 26.666667%)\" stroke-opacity=\"1\" stroke-miterlimit=\"10\" d=\"M 201.484375 131.398438 L 204.683594 162.574219 \"/>\n<path fill=\"none\" stroke-width=\"1\" stroke-linecap=\"butt\" stroke-linejoin=\"miter\" stroke=\"rgb(26.666667%, 26.666667%, 26.666667%)\" stroke-opacity=\"1\" stroke-miterlimit=\"10\" d=\"M 201.484375 131.398438 L 227.875 149.960938 \"/>\n<path fill=\"none\" stroke-width=\"1\" stroke-linecap=\"butt\" stroke-linejoin=\"miter\" stroke=\"rgb(26.666667%, 26.666667%, 26.666667%)\" stroke-opacity=\"1\" stroke-miterlimit=\"10\" d=\"M 80.363281 114.617188 L 42.726562 136.035156 \"/>\n<path fill=\"none\" stroke-width=\"1\" stroke-linecap=\"butt\" stroke-linejoin=\"miter\" stroke=\"rgb(26.666667%, 26.666667%, 26.666667%)\" stroke-opacity=\"1\" stroke-miterlimit=\"10\" d=\"M 80.363281 114.617188 L 21.113281 107.890625 \"/>\n<path fill=\"none\" stroke-width=\"1\" stroke-linecap=\"butt\" stroke-linejoin=\"miter\" stroke=\"rgb(26.666667%, 26.666667%, 26.666667%)\" stroke-opacity=\"1\" stroke-miterlimit=\"10\" d=\"M 80.363281 114.617188 L 28.207031 128.554688 \"/>\n<path fill=\"none\" stroke-width=\"1\" stroke-linecap=\"butt\" stroke-linejoin=\"miter\" stroke=\"rgb(26.666667%, 26.666667%, 26.666667%)\" stroke-opacity=\"1\" stroke-miterlimit=\"10\" d=\"M 80.363281 114.617188 L 20 118.640625 \"/>\n<path fill=\"none\" stroke-width=\"1\" stroke-linecap=\"butt\" stroke-linejoin=\"miter\" stroke=\"rgb(26.666667%, 26.666667%, 26.666667%)\" stroke-opacity=\"1\" stroke-miterlimit=\"10\" d=\"M 92.417969 102.261719 L 27.867188 94.839844 \"/>\n<path fill=\"none\" stroke-width=\"1\" stroke-linecap=\"butt\" stroke-linejoin=\"miter\" stroke=\"rgb(26.666667%, 26.666667%, 26.666667%)\" stroke-opacity=\"1\" stroke-miterlimit=\"10\" d=\"M 92.417969 102.261719 L 38.628906 104.554688 \"/>\n<path fill=\"none\" stroke-width=\"1\" stroke-linecap=\"butt\" stroke-linejoin=\"miter\" stroke=\"rgb(26.666667%, 26.666667%, 26.666667%)\" stroke-opacity=\"1\" stroke-miterlimit=\"10\" d=\"M 92.417969 102.261719 L 57.953125 92.117188 \"/>\n<path fill=\"none\" stroke-width=\"1\" stroke-linecap=\"butt\" stroke-linejoin=\"miter\" stroke=\"rgb(26.666667%, 26.666667%, 26.666667%)\" stroke-opacity=\"1\" stroke-miterlimit=\"10\" d=\"M 92.417969 102.261719 L 48.691406 116.785156 \"/>\n<path fill=\"none\" stroke-width=\"1\" stroke-linecap=\"butt\" stroke-linejoin=\"miter\" stroke=\"rgb(26.666667%, 26.666667%, 26.666667%)\" stroke-opacity=\"1\" stroke-miterlimit=\"10\" d=\"M 132.078125 130.457031 L 141.105469 149.375 \"/>\n<path fill=\"none\" stroke-width=\"1\" stroke-linecap=\"butt\" stroke-linejoin=\"miter\" stroke=\"rgb(26.666667%, 26.666667%, 26.666667%)\" stroke-opacity=\"1\" stroke-miterlimit=\"10\" d=\"M 132.078125 130.457031 L 90.136719 144.175781 \"/>\n<path fill=\"none\" stroke-width=\"1\" stroke-linecap=\"butt\" stroke-linejoin=\"miter\" stroke=\"rgb(26.666667%, 26.666667%, 26.666667%)\" stroke-opacity=\"1\" stroke-miterlimit=\"10\" d=\"M 132.078125 130.457031 L 130.121094 159.324219 \"/>\n<path fill=\"none\" stroke-width=\"1\" stroke-linecap=\"butt\" stroke-linejoin=\"miter\" stroke=\"rgb(26.666667%, 26.666667%, 26.666667%)\" stroke-opacity=\"1\" stroke-miterlimit=\"10\" d=\"M 132.078125 130.457031 L 103.101562 158.539062 \"/>\n<path fill=\"none\" stroke-width=\"1\" stroke-linecap=\"butt\" stroke-linejoin=\"miter\" stroke=\"rgb(26.666667%, 26.666667%, 26.666667%)\" stroke-opacity=\"1\" stroke-miterlimit=\"10\" d=\"M 107.789062 127.332031 L 109.945312 150.1875 \"/>\n<path fill=\"none\" stroke-width=\"1\" stroke-linecap=\"butt\" stroke-linejoin=\"miter\" stroke=\"rgb(26.666667%, 26.666667%, 26.666667%)\" stroke-opacity=\"1\" stroke-miterlimit=\"10\" d=\"M 107.789062 127.332031 L 57.894531 146.917969 \"/>\n<path fill=\"none\" stroke-width=\"1\" stroke-linecap=\"butt\" stroke-linejoin=\"miter\" stroke=\"rgb(26.666667%, 26.666667%, 26.666667%)\" stroke-opacity=\"1\" stroke-miterlimit=\"10\" d=\"M 107.789062 127.332031 L 79.136719 154.320312 \"/>\n<path fill=\"none\" stroke-width=\"1\" stroke-linecap=\"butt\" stroke-linejoin=\"miter\" stroke=\"rgb(26.666667%, 26.666667%, 26.666667%)\" stroke-opacity=\"1\" stroke-miterlimit=\"10\" d=\"M 107.789062 127.332031 L 62.867188 134.988281 \"/>\n<path fill=\"none\" stroke-width=\"1\" stroke-linecap=\"butt\" stroke-linejoin=\"miter\" stroke=\"rgb(26.666667%, 26.666667%, 26.666667%)\" stroke-opacity=\"1\" stroke-miterlimit=\"10\" d=\"M 128.511719 50.441406 L 90.492188 26.046875 \"/>\n<path fill=\"none\" stroke-width=\"1\" stroke-linecap=\"butt\" stroke-linejoin=\"miter\" stroke=\"rgb(26.666667%, 26.666667%, 26.666667%)\" stroke-opacity=\"1\" stroke-miterlimit=\"10\" d=\"M 128.511719 50.441406 L 88.550781 38.308594 \"/>\n<path fill=\"none\" stroke-width=\"1\" stroke-linecap=\"butt\" stroke-linejoin=\"miter\" stroke=\"rgb(26.666667%, 26.666667%, 26.666667%)\" stroke-opacity=\"1\" stroke-miterlimit=\"10\" d=\"M 128.511719 50.441406 L 142.226562 28.484375 \"/>\n<path fill=\"none\" stroke-width=\"1\" stroke-linecap=\"butt\" stroke-linejoin=\"miter\" stroke=\"rgb(26.666667%, 26.666667%, 26.666667%)\" stroke-opacity=\"1\" stroke-miterlimit=\"10\" d=\"M 128.511719 50.441406 L 114.980469 21.183594 \"/>\n<path fill=\"none\" stroke-width=\"1\" stroke-linecap=\"butt\" stroke-linejoin=\"miter\" stroke=\"rgb(26.666667%, 26.666667%, 26.666667%)\" stroke-opacity=\"1\" stroke-miterlimit=\"10\" d=\"M 97.351562 73 L 31.898438 63.5625 \"/>\n<path fill=\"none\" stroke-width=\"1\" stroke-linecap=\"butt\" stroke-linejoin=\"miter\" stroke=\"rgb(26.666667%, 26.666667%, 26.666667%)\" stroke-opacity=\"1\" stroke-miterlimit=\"10\" d=\"M 97.351562 73 L 64.203125 54.910156 \"/>\n<path fill=\"none\" stroke-width=\"1\" stroke-linecap=\"butt\" stroke-linejoin=\"miter\" stroke=\"rgb(26.666667%, 26.666667%, 26.666667%)\" stroke-opacity=\"1\" stroke-miterlimit=\"10\" d=\"M 97.351562 73 L 59.980469 78.332031 \"/>\n<path fill=\"none\" stroke-width=\"1\" stroke-linecap=\"butt\" stroke-linejoin=\"miter\" stroke=\"rgb(26.666667%, 26.666667%, 26.666667%)\" stroke-opacity=\"1\" stroke-miterlimit=\"10\" d=\"M 97.351562 73 L 35.976562 74.78125 \"/>\n<path fill=\"none\" stroke-width=\"1\" stroke-linecap=\"butt\" stroke-linejoin=\"miter\" stroke=\"rgb(26.666667%, 26.666667%, 26.666667%)\" stroke-opacity=\"1\" stroke-miterlimit=\"10\" d=\"M 97.722656 59.863281 L 70.914062 34.957031 \"/>\n<path fill=\"none\" stroke-width=\"1\" stroke-linecap=\"butt\" stroke-linejoin=\"miter\" stroke=\"rgb(26.666667%, 26.666667%, 26.666667%)\" stroke-opacity=\"1\" stroke-miterlimit=\"10\" d=\"M 97.722656 59.863281 L 47.53125 61.324219 \"/>\n<path fill=\"none\" stroke-width=\"1\" stroke-linecap=\"butt\" stroke-linejoin=\"miter\" stroke=\"rgb(26.666667%, 26.666667%, 26.666667%)\" stroke-opacity=\"1\" stroke-miterlimit=\"10\" d=\"M 97.722656 59.863281 L 37.265625 49.714844 \"/>\n<path fill=\"none\" stroke-width=\"1\" stroke-linecap=\"butt\" stroke-linejoin=\"miter\" stroke=\"rgb(26.666667%, 26.666667%, 26.666667%)\" stroke-opacity=\"1\" stroke-miterlimit=\"10\" d=\"M 97.722656 59.863281 L 53.0625 40.988281 \"/>\n<path fill=\"none\" stroke-width=\"1\" stroke-linecap=\"butt\" stroke-linejoin=\"miter\" stroke=\"rgb(26.666667%, 26.666667%, 26.666667%)\" stroke-opacity=\"1\" stroke-miterlimit=\"10\" d=\"M 154.144531 50.796875 L 120.699219 32.742188 \"/>\n<path fill=\"none\" stroke-width=\"1\" stroke-linecap=\"butt\" stroke-linejoin=\"miter\" stroke=\"rgb(26.666667%, 26.666667%, 26.666667%)\" stroke-opacity=\"1\" stroke-miterlimit=\"10\" d=\"M 154.144531 50.796875 L 141.539062 20 \"/>\n<path fill=\"none\" stroke-width=\"1\" stroke-linecap=\"butt\" stroke-linejoin=\"miter\" stroke=\"rgb(26.666667%, 26.666667%, 26.666667%)\" stroke-opacity=\"1\" stroke-miterlimit=\"10\" d=\"M 154.144531 50.796875 L 173.335938 34.636719 \"/>\n<path fill=\"none\" stroke-width=\"1\" stroke-linecap=\"butt\" stroke-linejoin=\"miter\" stroke=\"rgb(26.666667%, 26.666667%, 26.666667%)\" stroke-opacity=\"1\" stroke-miterlimit=\"10\" d=\"M 154.144531 50.796875 L 167.417969 22.976562 \"/>\n<path fill=\"none\" stroke-width=\"1\" stroke-linecap=\"butt\" stroke-linejoin=\"miter\" stroke=\"rgb(26.666667%, 26.666667%, 26.666667%)\" stroke-opacity=\"1\" stroke-miterlimit=\"10\" d=\"M 219.089844 52.296875 L 204.59375 35.003906 \"/>\n<path fill=\"none\" stroke-width=\"1\" stroke-linecap=\"butt\" stroke-linejoin=\"miter\" stroke=\"rgb(26.666667%, 26.666667%, 26.666667%)\" stroke-opacity=\"1\" stroke-miterlimit=\"10\" d=\"M 219.089844 52.296875 L 213.515625 23.863281 \"/>\n<path fill=\"none\" stroke-width=\"1\" stroke-linecap=\"butt\" stroke-linejoin=\"miter\" stroke=\"rgb(26.666667%, 26.666667%, 26.666667%)\" stroke-opacity=\"1\" stroke-miterlimit=\"10\" d=\"M 219.089844 52.296875 L 257.183594 36.304688 \"/>\n<path fill=\"none\" stroke-width=\"1\" stroke-linecap=\"butt\" stroke-linejoin=\"miter\" stroke=\"rgb(26.666667%, 26.666667%, 26.666667%)\" stroke-opacity=\"1\" stroke-miterlimit=\"10\" d=\"M 219.089844 52.296875 L 240.140625 22.507812 \"/>\n<path fill=\"none\" stroke-width=\"1\" stroke-linecap=\"butt\" stroke-linejoin=\"miter\" stroke=\"rgb(26.666667%, 26.666667%, 26.666667%)\" stroke-opacity=\"1\" stroke-miterlimit=\"10\" d=\"M 244.507812 53.515625 L 288.714844 31.292969 \"/>\n<path fill=\"none\" stroke-width=\"1\" stroke-linecap=\"butt\" stroke-linejoin=\"miter\" stroke=\"rgb(26.666667%, 26.666667%, 26.666667%)\" stroke-opacity=\"1\" stroke-miterlimit=\"10\" d=\"M 244.507812 53.515625 L 287.308594 43.519531 \"/>\n<path fill=\"none\" stroke-width=\"1\" stroke-linecap=\"butt\" stroke-linejoin=\"miter\" stroke=\"rgb(26.666667%, 26.666667%, 26.666667%)\" stroke-opacity=\"1\" stroke-miterlimit=\"10\" d=\"M 244.507812 53.515625 L 265.789062 25.140625 \"/>\n<path fill=\"none\" stroke-width=\"1\" stroke-linecap=\"butt\" stroke-linejoin=\"miter\" stroke=\"rgb(26.666667%, 26.666667%, 26.666667%)\" stroke-opacity=\"1\" stroke-miterlimit=\"10\" d=\"M 244.507812 53.515625 L 236.734375 30.960938 \"/>\n<path fill=\"none\" stroke-width=\"1\" stroke-linecap=\"butt\" stroke-linejoin=\"miter\" stroke=\"rgb(26.666667%, 26.666667%, 26.666667%)\" stroke-opacity=\"1\" stroke-miterlimit=\"10\" d=\"M 274.855469 64.582031 L 334.972656 67.941406 \"/>\n<path fill=\"none\" stroke-width=\"1\" stroke-linecap=\"butt\" stroke-linejoin=\"miter\" stroke=\"rgb(26.666667%, 26.666667%, 26.666667%)\" stroke-opacity=\"1\" stroke-miterlimit=\"10\" d=\"M 274.855469 64.582031 L 322.8125 47.84375 \"/>\n<path fill=\"none\" stroke-width=\"1\" stroke-linecap=\"butt\" stroke-linejoin=\"miter\" stroke=\"rgb(26.666667%, 26.666667%, 26.666667%)\" stroke-opacity=\"1\" stroke-miterlimit=\"10\" d=\"M 274.855469 64.582031 L 333.613281 57.167969 \"/>\n<path fill=\"none\" stroke-width=\"1\" stroke-linecap=\"butt\" stroke-linejoin=\"miter\" stroke=\"rgb(26.666667%, 26.666667%, 26.666667%)\" stroke-opacity=\"1\" stroke-miterlimit=\"10\" d=\"M 274.855469 64.582031 L 306.601562 41.144531 \"/>\n<path fill=\"none\" stroke-width=\"1\" stroke-linecap=\"butt\" stroke-linejoin=\"miter\" stroke=\"rgb(26.666667%, 26.666667%, 26.666667%)\" stroke-opacity=\"1\" stroke-miterlimit=\"10\" d=\"M 266.917969 77.570312 L 306.207031 60.839844 \"/>\n<path fill=\"none\" stroke-width=\"1\" stroke-linecap=\"butt\" stroke-linejoin=\"miter\" stroke=\"rgb(26.666667%, 26.666667%, 26.666667%)\" stroke-opacity=\"1\" stroke-miterlimit=\"10\" d=\"M 266.917969 77.570312 L 305.769531 85.707031 \"/>\n<path fill=\"none\" stroke-width=\"1\" stroke-linecap=\"butt\" stroke-linejoin=\"miter\" stroke=\"rgb(26.666667%, 26.666667%, 26.666667%)\" stroke-opacity=\"1\" stroke-miterlimit=\"10\" d=\"M 266.917969 77.570312 L 319.570312 72.335938 \"/>\n<path fill=\"none\" stroke-width=\"1\" stroke-linecap=\"butt\" stroke-linejoin=\"miter\" stroke=\"rgb(26.666667%, 26.666667%, 26.666667%)\" stroke-opacity=\"1\" stroke-miterlimit=\"10\" d=\"M 266.917969 77.570312 L 332.246094 81.625 \"/>\n<path fill=\"none\" stroke-width=\"1\" stroke-linecap=\"butt\" stroke-linejoin=\"miter\" stroke=\"rgb(26.666667%, 26.666667%, 26.666667%)\" stroke-opacity=\"1\" stroke-miterlimit=\"10\" d=\"M 329.492188 140.011719 L 362.222656 155.917969 \"/>\n<path fill=\"none\" stroke-width=\"1\" stroke-linecap=\"butt\" stroke-linejoin=\"miter\" stroke=\"rgb(26.666667%, 26.666667%, 26.666667%)\" stroke-opacity=\"1\" stroke-miterlimit=\"10\" d=\"M 329.492188 140.011719 L 380 130.867188 \"/>\n<path fill=\"none\" stroke-width=\"1\" stroke-linecap=\"butt\" stroke-linejoin=\"miter\" stroke=\"rgb(26.666667%, 26.666667%, 26.666667%)\" stroke-opacity=\"1\" stroke-miterlimit=\"10\" d=\"M 329.492188 140.011719 L 376.925781 143.34375 \"/>\n<path fill=\"none\" stroke-width=\"1\" stroke-linecap=\"butt\" stroke-linejoin=\"miter\" stroke=\"rgb(26.666667%, 26.666667%, 26.666667%)\" stroke-opacity=\"1\" stroke-miterlimit=\"10\" d=\"M 329.492188 140.011719 L 340.332031 164.585938 \"/>\n<path fill=\"none\" stroke-width=\"1\" stroke-linecap=\"butt\" stroke-linejoin=\"miter\" stroke=\"rgb(26.666667%, 26.666667%, 26.666667%)\" stroke-opacity=\"1\" stroke-miterlimit=\"10\" d=\"M 280.886719 155.390625 L 291.605469 180 \"/>\n<path fill-rule=\"nonzero\" fill=\"rgb(100%, 0%, 0%)\" fill-opacity=\"1\" stroke-width=\"1\" stroke-linecap=\"butt\" stroke-linejoin=\"miter\" stroke=\"rgb(0%, 0%, 0%)\" stroke-opacity=\"1\" stroke-miterlimit=\"10\" d=\"M 189.9375 91.75 C 189.9375 97.273438 185.460938 101.75 179.9375 101.75 C 174.417969 101.75 169.9375 97.273438 169.9375 91.75 C 169.9375 86.230469 174.417969 81.75 179.9375 81.75 C 185.460938 81.75 189.9375 86.230469 189.9375 91.75 \"/>\n<path fill-rule=\"nonzero\" fill=\"rgb(100%, 0%, 0%)\" fill-opacity=\"1\" stroke-width=\"1\" stroke-linecap=\"butt\" stroke-linejoin=\"miter\" stroke=\"rgb(0%, 0%, 0%)\" stroke-opacity=\"1\" stroke-miterlimit=\"10\" d=\"M 227.3125 112.257812 C 227.3125 117.78125 222.835938 122.257812 217.3125 122.257812 C 211.789062 122.257812 207.3125 117.78125 207.3125 112.257812 C 207.3125 106.734375 211.789062 102.257812 217.3125 102.257812 C 222.835938 102.257812 227.3125 106.734375 227.3125 112.257812 \"/>\n<path fill-rule=\"nonzero\" fill=\"rgb(100%, 0%, 0%)\" fill-opacity=\"1\" stroke-width=\"1\" stroke-linecap=\"butt\" stroke-linejoin=\"miter\" stroke=\"rgb(0%, 0%, 0%)\" stroke-opacity=\"1\" stroke-miterlimit=\"10\" d=\"M 143.675781 108.289062 C 143.675781 113.8125 139.199219 118.289062 133.675781 118.289062 C 128.15625 118.289062 123.675781 113.8125 123.675781 108.289062 C 123.675781 102.769531 128.15625 98.289062 133.675781 98.289062 C 139.199219 98.289062 143.675781 102.769531 143.675781 108.289062 \"/>\n<path fill-rule=\"nonzero\" fill=\"rgb(100%, 0%, 0%)\" fill-opacity=\"1\" stroke-width=\"1\" stroke-linecap=\"butt\" stroke-linejoin=\"miter\" stroke=\"rgb(0%, 0%, 0%)\" stroke-opacity=\"1\" stroke-miterlimit=\"10\" d=\"M 153.421875 71.769531 C 153.421875 77.292969 148.945312 81.769531 143.421875 81.769531 C 137.898438 81.769531 133.421875 77.292969 133.421875 71.769531 C 133.421875 66.246094 137.898438 61.769531 143.421875 61.769531 C 148.945312 61.769531 153.421875 66.246094 153.421875 71.769531 \"/>\n<path fill-rule=\"nonzero\" fill=\"rgb(100%, 0%, 0%)\" fill-opacity=\"1\" stroke-width=\"1\" stroke-linecap=\"butt\" stroke-linejoin=\"miter\" stroke=\"rgb(0%, 0%, 0%)\" stroke-opacity=\"1\" stroke-miterlimit=\"10\" d=\"M 233.417969 73.742188 C 233.417969 79.265625 228.941406 83.742188 223.417969 83.742188 C 217.894531 83.742188 213.417969 79.265625 213.417969 73.742188 C 213.417969 68.21875 217.894531 63.742188 223.417969 63.742188 C 228.941406 63.742188 233.417969 68.21875 233.417969 73.742188 \"/>\n<path fill-rule=\"nonzero\" fill=\"rgb(100%, 0%, 0%)\" fill-opacity=\"1\" stroke-width=\"1\" stroke-linecap=\"butt\" stroke-linejoin=\"miter\" stroke=\"rgb(0%, 0%, 0%)\" stroke-opacity=\"1\" stroke-miterlimit=\"10\" d=\"M 278.519531 128.179688 C 278.519531 133.703125 274.042969 138.179688 268.519531 138.179688 C 262.996094 138.179688 258.519531 133.703125 258.519531 128.179688 C 258.519531 122.65625 262.996094 118.179688 268.519531 118.179688 C 274.042969 118.179688 278.519531 122.65625 278.519531 128.179688 \"/>\n<path fill-rule=\"nonzero\" fill=\"rgb(100%, 0%, 0%)\" fill-opacity=\"1\" stroke-width=\"1\" stroke-linecap=\"butt\" stroke-linejoin=\"miter\" stroke=\"rgb(0%, 0%, 0%)\" stroke-opacity=\"1\" stroke-miterlimit=\"10\" d=\"M 265.894531 108.226562 C 265.894531 113.75 261.417969 118.226562 255.894531 118.226562 C 250.371094 118.226562 245.894531 113.75 245.894531 108.226562 C 245.894531 102.703125 250.371094 98.226562 255.894531 98.226562 C 261.417969 98.226562 265.894531 102.703125 265.894531 108.226562 \"/>\n<path fill-rule=\"nonzero\" fill=\"rgb(100%, 0%, 0%)\" fill-opacity=\"1\" stroke-width=\"1\" stroke-linecap=\"butt\" stroke-linejoin=\"miter\" stroke=\"rgb(0%, 0%, 0%)\" stroke-opacity=\"1\" stroke-miterlimit=\"10\" d=\"M 234.613281 131.5625 C 234.613281 137.085938 230.136719 141.5625 224.613281 141.5625 C 219.089844 141.5625 214.613281 137.085938 214.613281 131.5625 C 214.613281 126.039062 219.089844 121.5625 224.613281 121.5625 C 230.136719 121.5625 234.613281 126.039062 234.613281 131.5625 \"/>\n<path fill-rule=\"nonzero\" fill=\"rgb(100%, 0%, 0%)\" fill-opacity=\"1\" stroke-width=\"1\" stroke-linecap=\"butt\" stroke-linejoin=\"miter\" stroke=\"rgb(0%, 0%, 0%)\" stroke-opacity=\"1\" stroke-miterlimit=\"10\" d=\"M 211.484375 131.398438 C 211.484375 136.921875 207.007812 141.398438 201.484375 141.398438 C 195.960938 141.398438 191.484375 136.921875 191.484375 131.398438 C 191.484375 125.875 195.960938 121.398438 201.484375 121.398438 C 207.007812 121.398438 211.484375 125.875 211.484375 131.398438 \"/>\n<path fill-rule=\"nonzero\" fill=\"rgb(100%, 0%, 0%)\" fill-opacity=\"1\" stroke-width=\"1\" stroke-linecap=\"butt\" stroke-linejoin=\"miter\" stroke=\"rgb(0%, 0%, 0%)\" stroke-opacity=\"1\" stroke-miterlimit=\"10\" d=\"M 90.363281 114.617188 C 90.363281 120.140625 85.886719 124.617188 80.363281 124.617188 C 74.839844 124.617188 70.363281 120.140625 70.363281 114.617188 C 70.363281 109.09375 74.839844 104.617188 80.363281 104.617188 C 85.886719 104.617188 90.363281 109.09375 90.363281 114.617188 \"/>\n<path fill-rule=\"nonzero\" fill=\"rgb(100%, 0%, 0%)\" fill-opacity=\"1\" stroke-width=\"1\" stroke-linecap=\"butt\" stroke-linejoin=\"miter\" stroke=\"rgb(0%, 0%, 0%)\" stroke-opacity=\"1\" stroke-miterlimit=\"10\" d=\"M 102.417969 102.261719 C 102.417969 107.78125 97.941406 112.261719 92.417969 112.261719 C 86.894531 112.261719 82.417969 107.78125 82.417969 102.261719 C 82.417969 96.738281 86.894531 92.261719 92.417969 92.261719 C 97.941406 92.261719 102.417969 96.738281 102.417969 102.261719 \"/>\n<path fill-rule=\"nonzero\" fill=\"rgb(100%, 0%, 0%)\" fill-opacity=\"1\" stroke-width=\"1\" stroke-linecap=\"butt\" stroke-linejoin=\"miter\" stroke=\"rgb(0%, 0%, 0%)\" stroke-opacity=\"1\" stroke-miterlimit=\"10\" d=\"M 142.078125 130.457031 C 142.078125 135.980469 137.601562 140.457031 132.078125 140.457031 C 126.554688 140.457031 122.078125 135.980469 122.078125 130.457031 C 122.078125 124.933594 126.554688 120.457031 132.078125 120.457031 C 137.601562 120.457031 142.078125 124.933594 142.078125 130.457031 \"/>\n<path fill-rule=\"nonzero\" fill=\"rgb(100%, 0%, 0%)\" fill-opacity=\"1\" stroke-width=\"1\" stroke-linecap=\"butt\" stroke-linejoin=\"miter\" stroke=\"rgb(0%, 0%, 0%)\" stroke-opacity=\"1\" stroke-miterlimit=\"10\" d=\"M 117.789062 127.332031 C 117.789062 132.855469 113.308594 137.332031 107.789062 137.332031 C 102.265625 137.332031 97.789062 132.855469 97.789062 127.332031 C 97.789062 121.808594 102.265625 117.332031 107.789062 117.332031 C 113.308594 117.332031 117.789062 121.808594 117.789062 127.332031 \"/>\n<path fill-rule=\"nonzero\" fill=\"rgb(100%, 0%, 0%)\" fill-opacity=\"1\" stroke-width=\"1\" stroke-linecap=\"butt\" stroke-linejoin=\"miter\" stroke=\"rgb(0%, 0%, 0%)\" stroke-opacity=\"1\" stroke-miterlimit=\"10\" d=\"M 138.511719 50.441406 C 138.511719 55.964844 134.035156 60.441406 128.511719 60.441406 C 122.988281 60.441406 118.511719 55.964844 118.511719 50.441406 C 118.511719 44.917969 122.988281 40.441406 128.511719 40.441406 C 134.035156 40.441406 138.511719 44.917969 138.511719 50.441406 \"/>\n<path fill-rule=\"nonzero\" fill=\"rgb(100%, 0%, 0%)\" fill-opacity=\"1\" stroke-width=\"1\" stroke-linecap=\"butt\" stroke-linejoin=\"miter\" stroke=\"rgb(0%, 0%, 0%)\" stroke-opacity=\"1\" stroke-miterlimit=\"10\" d=\"M 107.351562 73 C 107.351562 78.523438 102.875 83 97.351562 83 C 91.828125 83 87.351562 78.523438 87.351562 73 C 87.351562 67.476562 91.828125 63 97.351562 63 C 102.875 63 107.351562 67.476562 107.351562 73 \"/>\n<path fill-rule=\"nonzero\" fill=\"rgb(100%, 0%, 0%)\" fill-opacity=\"1\" stroke-width=\"1\" stroke-linecap=\"butt\" stroke-linejoin=\"miter\" stroke=\"rgb(0%, 0%, 0%)\" stroke-opacity=\"1\" stroke-miterlimit=\"10\" d=\"M 107.722656 59.863281 C 107.722656 65.386719 103.242188 69.863281 97.722656 69.863281 C 92.199219 69.863281 87.722656 65.386719 87.722656 59.863281 C 87.722656 54.339844 92.199219 49.863281 97.722656 49.863281 C 103.242188 49.863281 107.722656 54.339844 107.722656 59.863281 \"/>\n<path fill-rule=\"nonzero\" fill=\"rgb(100%, 0%, 0%)\" fill-opacity=\"1\" stroke-width=\"1\" stroke-linecap=\"butt\" stroke-linejoin=\"miter\" stroke=\"rgb(0%, 0%, 0%)\" stroke-opacity=\"1\" stroke-miterlimit=\"10\" d=\"M 164.144531 50.796875 C 164.144531 56.320312 159.664062 60.796875 154.144531 60.796875 C 148.621094 60.796875 144.144531 56.320312 144.144531 50.796875 C 144.144531 45.273438 148.621094 40.796875 154.144531 40.796875 C 159.664062 40.796875 164.144531 45.273438 164.144531 50.796875 \"/>\n<path fill-rule=\"nonzero\" fill=\"rgb(100%, 0%, 0%)\" fill-opacity=\"1\" stroke-width=\"1\" stroke-linecap=\"butt\" stroke-linejoin=\"miter\" stroke=\"rgb(0%, 0%, 0%)\" stroke-opacity=\"1\" stroke-miterlimit=\"10\" d=\"M 229.089844 52.296875 C 229.089844 57.820312 224.613281 62.296875 219.089844 62.296875 C 213.566406 62.296875 209.089844 57.820312 209.089844 52.296875 C 209.089844 46.773438 213.566406 42.296875 219.089844 42.296875 C 224.613281 42.296875 229.089844 46.773438 229.089844 52.296875 \"/>\n<path fill-rule=\"nonzero\" fill=\"rgb(100%, 0%, 0%)\" fill-opacity=\"1\" stroke-width=\"1\" stroke-linecap=\"butt\" stroke-linejoin=\"miter\" stroke=\"rgb(0%, 0%, 0%)\" stroke-opacity=\"1\" stroke-miterlimit=\"10\" d=\"M 254.507812 53.515625 C 254.507812 59.039062 250.03125 63.515625 244.507812 63.515625 C 238.984375 63.515625 234.507812 59.039062 234.507812 53.515625 C 234.507812 47.992188 238.984375 43.515625 244.507812 43.515625 C 250.03125 43.515625 254.507812 47.992188 254.507812 53.515625 \"/>\n<path fill-rule=\"nonzero\" fill=\"rgb(100%, 0%, 0%)\" fill-opacity=\"1\" stroke-width=\"1\" stroke-linecap=\"butt\" stroke-linejoin=\"miter\" stroke=\"rgb(0%, 0%, 0%)\" stroke-opacity=\"1\" stroke-miterlimit=\"10\" d=\"M 284.855469 64.582031 C 284.855469 70.105469 280.378906 74.582031 274.855469 74.582031 C 269.332031 74.582031 264.855469 70.105469 264.855469 64.582031 C 264.855469 59.058594 269.332031 54.582031 274.855469 54.582031 C 280.378906 54.582031 284.855469 59.058594 284.855469 64.582031 \"/>\n<path fill-rule=\"nonzero\" fill=\"rgb(100%, 0%, 0%)\" fill-opacity=\"1\" stroke-width=\"1\" stroke-linecap=\"butt\" stroke-linejoin=\"miter\" stroke=\"rgb(0%, 0%, 0%)\" stroke-opacity=\"1\" stroke-miterlimit=\"10\" d=\"M 276.917969 77.570312 C 276.917969 83.09375 272.441406 87.570312 266.917969 87.570312 C 261.394531 87.570312 256.917969 83.09375 256.917969 77.570312 C 256.917969 72.046875 261.394531 67.570312 266.917969 67.570312 C 272.441406 67.570312 276.917969 72.046875 276.917969 77.570312 \"/>\n<path fill-rule=\"nonzero\" fill=\"rgb(100%, 0%, 0%)\" fill-opacity=\"1\" stroke-width=\"1\" stroke-linecap=\"butt\" stroke-linejoin=\"miter\" stroke=\"rgb(0%, 0%, 0%)\" stroke-opacity=\"1\" stroke-miterlimit=\"10\" d=\"M 339.492188 140.011719 C 339.492188 145.535156 335.015625 150.011719 329.492188 150.011719 C 323.96875 150.011719 319.492188 145.535156 319.492188 140.011719 C 319.492188 134.488281 323.96875 130.011719 329.492188 130.011719 C 335.015625 130.011719 339.492188 134.488281 339.492188 140.011719 \"/>\n<path fill-rule=\"nonzero\" fill=\"rgb(100%, 0%, 0%)\" fill-opacity=\"1\" stroke-width=\"1\" stroke-linecap=\"butt\" stroke-linejoin=\"miter\" stroke=\"rgb(0%, 0%, 0%)\" stroke-opacity=\"1\" stroke-miterlimit=\"10\" d=\"M 290.886719 155.390625 C 290.886719 160.914062 286.40625 165.390625 280.886719 165.390625 C 275.363281 165.390625 270.886719 160.914062 270.886719 155.390625 C 270.886719 149.871094 275.363281 145.390625 280.886719 145.390625 C 286.40625 145.390625 290.886719 149.871094 290.886719 155.390625 \"/>\n<path fill-rule=\"nonzero\" fill=\"rgb(100%, 0%, 0%)\" fill-opacity=\"1\" stroke-width=\"1\" stroke-linecap=\"butt\" stroke-linejoin=\"miter\" stroke=\"rgb(0%, 0%, 0%)\" stroke-opacity=\"1\" stroke-miterlimit=\"10\" d=\"M 322.433594 125.914062 C 322.433594 131.4375 317.957031 135.914062 312.433594 135.914062 C 306.910156 135.914062 302.433594 131.4375 302.433594 125.914062 C 302.433594 120.390625 306.910156 115.914062 312.433594 115.914062 C 317.957031 115.914062 322.433594 120.390625 322.433594 125.914062 \"/>\n<path fill-rule=\"nonzero\" fill=\"rgb(100%, 0%, 0%)\" fill-opacity=\"1\" stroke-width=\"1\" stroke-linecap=\"butt\" stroke-linejoin=\"miter\" stroke=\"rgb(0%, 0%, 0%)\" stroke-opacity=\"1\" stroke-miterlimit=\"10\" d=\"M 303.421875 141.199219 C 303.421875 146.722656 298.945312 151.199219 293.421875 151.199219 C 287.898438 151.199219 283.421875 146.722656 283.421875 141.199219 C 283.421875 135.675781 287.898438 131.199219 293.421875 131.199219 C 298.945312 131.199219 303.421875 135.675781 303.421875 141.199219 \"/>\n<path fill-rule=\"nonzero\" fill=\"rgb(100%, 0%, 0%)\" fill-opacity=\"1\" stroke-width=\"1\" stroke-linecap=\"butt\" stroke-linejoin=\"miter\" stroke=\"rgb(0%, 0%, 0%)\" stroke-opacity=\"1\" stroke-miterlimit=\"10\" d=\"M 296.207031 99.363281 C 296.207031 104.886719 291.730469 109.363281 286.207031 109.363281 C 280.683594 109.363281 276.207031 104.886719 276.207031 99.363281 C 276.207031 93.839844 280.683594 89.363281 286.207031 89.363281 C 291.730469 89.363281 296.207031 93.839844 296.207031 99.363281 \"/>\n<path fill-rule=\"nonzero\" fill=\"rgb(100%, 0%, 0%)\" fill-opacity=\"1\" stroke-width=\"1\" stroke-linecap=\"butt\" stroke-linejoin=\"miter\" stroke=\"rgb(0%, 0%, 0%)\" stroke-opacity=\"1\" stroke-miterlimit=\"10\" d=\"M 327.078125 112.953125 C 327.078125 118.476562 322.601562 122.953125 317.078125 122.953125 C 311.554688 122.953125 307.078125 118.476562 307.078125 112.953125 C 307.078125 107.429688 311.554688 102.953125 317.078125 102.953125 C 322.601562 102.953125 327.078125 107.429688 327.078125 112.953125 \"/>\n<path fill-rule=\"nonzero\" fill=\"rgb(100%, 0%, 0%)\" fill-opacity=\"1\" stroke-width=\"1\" stroke-linecap=\"butt\" stroke-linejoin=\"miter\" stroke=\"rgb(0%, 0%, 0%)\" stroke-opacity=\"1\" stroke-miterlimit=\"10\" d=\"M 301.125 118.980469 C 301.125 124.503906 296.648438 128.980469 291.125 128.980469 C 285.601562 128.980469 281.125 124.503906 281.125 118.980469 C 281.125 113.457031 285.601562 108.980469 291.125 108.980469 C 296.648438 108.980469 301.125 113.457031 301.125 118.980469 \"/>\n<path fill-rule=\"nonzero\" fill=\"rgb(100%, 0%, 0%)\" fill-opacity=\"1\" stroke-width=\"1\" stroke-linecap=\"butt\" stroke-linejoin=\"miter\" stroke=\"rgb(0%, 0%, 0%)\" stroke-opacity=\"1\" stroke-miterlimit=\"10\" d=\"M 323.445312 102.972656 C 323.445312 108.496094 318.96875 112.972656 313.445312 112.972656 C 307.925781 112.972656 303.445312 108.496094 303.445312 102.972656 C 303.445312 97.449219 307.925781 92.972656 313.445312 92.972656 C 318.96875 92.972656 323.445312 97.449219 323.445312 102.972656 \"/>\n<path fill-rule=\"nonzero\" fill=\"rgb(100%, 0%, 0%)\" fill-opacity=\"1\" stroke-width=\"1\" stroke-linecap=\"butt\" stroke-linejoin=\"miter\" stroke=\"rgb(0%, 0%, 0%)\" stroke-opacity=\"1\" stroke-miterlimit=\"10\" d=\"M 259.535156 156.292969 C 259.535156 161.816406 255.058594 166.292969 249.535156 166.292969 C 244.011719 166.292969 239.535156 161.816406 239.535156 156.292969 C 239.535156 150.769531 244.011719 146.292969 249.535156 146.292969 C 255.058594 146.292969 259.535156 150.769531 259.535156 156.292969 \"/>\n<path fill-rule=\"nonzero\" fill=\"rgb(100%, 0%, 0%)\" fill-opacity=\"1\" stroke-width=\"1\" stroke-linecap=\"butt\" stroke-linejoin=\"miter\" stroke=\"rgb(0%, 0%, 0%)\" stroke-opacity=\"1\" stroke-miterlimit=\"10\" d=\"M 236.148438 162.074219 C 236.148438 167.597656 231.671875 172.074219 226.148438 172.074219 C 220.625 172.074219 216.148438 167.597656 216.148438 162.074219 C 216.148438 156.550781 220.625 152.074219 226.148438 152.074219 C 231.671875 152.074219 236.148438 156.550781 236.148438 162.074219 \"/>\n<path fill-rule=\"nonzero\" fill=\"rgb(100%, 0%, 0%)\" fill-opacity=\"1\" stroke-width=\"1\" stroke-linecap=\"butt\" stroke-linejoin=\"miter\" stroke=\"rgb(0%, 0%, 0%)\" stroke-opacity=\"1\" stroke-miterlimit=\"10\" d=\"M 270.816406 143.640625 C 270.816406 149.164062 266.339844 153.640625 260.816406 153.640625 C 255.296875 153.640625 250.816406 149.164062 250.816406 143.640625 C 250.816406 138.117188 255.296875 133.640625 260.816406 133.640625 C 266.339844 133.640625 270.816406 138.117188 270.816406 143.640625 \"/>\n<path fill-rule=\"nonzero\" fill=\"rgb(100%, 0%, 0%)\" fill-opacity=\"1\" stroke-width=\"1\" stroke-linecap=\"butt\" stroke-linejoin=\"miter\" stroke=\"rgb(0%, 0%, 0%)\" stroke-opacity=\"1\" stroke-miterlimit=\"10\" d=\"M 212.984375 151.152344 C 212.984375 156.675781 208.507812 161.152344 202.984375 161.152344 C 197.464844 161.152344 192.984375 156.675781 192.984375 151.152344 C 192.984375 145.628906 197.464844 141.152344 202.984375 141.152344 C 208.507812 141.152344 212.984375 145.628906 212.984375 151.152344 \"/>\n<path fill-rule=\"nonzero\" fill=\"rgb(100%, 0%, 0%)\" fill-opacity=\"1\" stroke-width=\"1\" stroke-linecap=\"butt\" stroke-linejoin=\"miter\" stroke=\"rgb(0%, 0%, 0%)\" stroke-opacity=\"1\" stroke-miterlimit=\"10\" d=\"M 186.613281 145.0625 C 186.613281 150.585938 182.136719 155.0625 176.613281 155.0625 C 171.09375 155.0625 166.613281 150.585938 166.613281 145.0625 C 166.613281 139.539062 171.09375 135.0625 176.613281 135.0625 C 182.136719 135.0625 186.613281 139.539062 186.613281 145.0625 \"/>\n<path fill-rule=\"nonzero\" fill=\"rgb(100%, 0%, 0%)\" fill-opacity=\"1\" stroke-width=\"1\" stroke-linecap=\"butt\" stroke-linejoin=\"miter\" stroke=\"rgb(0%, 0%, 0%)\" stroke-opacity=\"1\" stroke-miterlimit=\"10\" d=\"M 191.828125 158.289062 C 191.828125 163.8125 187.351562 168.289062 181.828125 168.289062 C 176.304688 168.289062 171.828125 163.8125 171.828125 158.289062 C 171.828125 152.765625 176.304688 148.289062 181.828125 148.289062 C 187.351562 148.289062 191.828125 152.765625 191.828125 158.289062 \"/>\n<path fill-rule=\"nonzero\" fill=\"rgb(100%, 0%, 0%)\" fill-opacity=\"1\" stroke-width=\"1\" stroke-linecap=\"butt\" stroke-linejoin=\"miter\" stroke=\"rgb(0%, 0%, 0%)\" stroke-opacity=\"1\" stroke-miterlimit=\"10\" d=\"M 214.683594 162.574219 C 214.683594 168.097656 210.207031 172.574219 204.683594 172.574219 C 199.164062 172.574219 194.683594 168.097656 194.683594 162.574219 C 194.683594 157.050781 199.164062 152.574219 204.683594 152.574219 C 210.207031 152.574219 214.683594 157.050781 214.683594 162.574219 \"/>\n<path fill-rule=\"nonzero\" fill=\"rgb(100%, 0%, 0%)\" fill-opacity=\"1\" stroke-width=\"1\" stroke-linecap=\"butt\" stroke-linejoin=\"miter\" stroke=\"rgb(0%, 0%, 0%)\" stroke-opacity=\"1\" stroke-miterlimit=\"10\" d=\"M 237.875 149.960938 C 237.875 155.484375 233.398438 159.960938 227.875 159.960938 C 222.351562 159.960938 217.875 155.484375 217.875 149.960938 C 217.875 144.4375 222.351562 139.960938 227.875 139.960938 C 233.398438 139.960938 237.875 144.4375 237.875 149.960938 \"/>\n<path fill-rule=\"nonzero\" fill=\"rgb(100%, 0%, 0%)\" fill-opacity=\"1\" stroke-width=\"1\" stroke-linecap=\"butt\" stroke-linejoin=\"miter\" stroke=\"rgb(0%, 0%, 0%)\" stroke-opacity=\"1\" stroke-miterlimit=\"10\" d=\"M 52.726562 136.035156 C 52.726562 141.558594 48.25 146.035156 42.726562 146.035156 C 37.203125 146.035156 32.726562 141.558594 32.726562 136.035156 C 32.726562 130.511719 37.203125 126.035156 42.726562 126.035156 C 48.25 126.035156 52.726562 130.511719 52.726562 136.035156 \"/>\n<path fill-rule=\"nonzero\" fill=\"rgb(100%, 0%, 0%)\" fill-opacity=\"1\" stroke-width=\"1\" stroke-linecap=\"butt\" stroke-linejoin=\"miter\" stroke=\"rgb(0%, 0%, 0%)\" stroke-opacity=\"1\" stroke-miterlimit=\"10\" d=\"M 31.113281 107.890625 C 31.113281 113.414062 26.632812 117.890625 21.113281 117.890625 C 15.589844 117.890625 11.113281 113.414062 11.113281 107.890625 C 11.113281 102.367188 15.589844 97.890625 21.113281 97.890625 C 26.632812 97.890625 31.113281 102.367188 31.113281 107.890625 \"/>\n<path fill-rule=\"nonzero\" fill=\"rgb(100%, 0%, 0%)\" fill-opacity=\"1\" stroke-width=\"1\" stroke-linecap=\"butt\" stroke-linejoin=\"miter\" stroke=\"rgb(0%, 0%, 0%)\" stroke-opacity=\"1\" stroke-miterlimit=\"10\" d=\"M 38.207031 128.554688 C 38.207031 134.078125 33.730469 138.554688 28.207031 138.554688 C 22.683594 138.554688 18.207031 134.078125 18.207031 128.554688 C 18.207031 123.03125 22.683594 118.554688 28.207031 118.554688 C 33.730469 118.554688 38.207031 123.03125 38.207031 128.554688 \"/>\n<path fill-rule=\"nonzero\" fill=\"rgb(100%, 0%, 0%)\" fill-opacity=\"1\" stroke-width=\"1\" stroke-linecap=\"butt\" stroke-linejoin=\"miter\" stroke=\"rgb(0%, 0%, 0%)\" stroke-opacity=\"1\" stroke-miterlimit=\"10\" d=\"M 30 118.640625 C 30 124.164062 25.523438 128.640625 20 128.640625 C 14.476562 128.640625 10 124.164062 10 118.640625 C 10 113.117188 14.476562 108.640625 20 108.640625 C 25.523438 108.640625 30 113.117188 30 118.640625 \"/>\n<path fill-rule=\"nonzero\" fill=\"rgb(100%, 0%, 0%)\" fill-opacity=\"1\" stroke-width=\"1\" stroke-linecap=\"butt\" stroke-linejoin=\"miter\" stroke=\"rgb(0%, 0%, 0%)\" stroke-opacity=\"1\" stroke-miterlimit=\"10\" d=\"M 37.867188 94.839844 C 37.867188 100.363281 33.390625 104.839844 27.867188 104.839844 C 22.34375 104.839844 17.867188 100.363281 17.867188 94.839844 C 17.867188 89.316406 22.34375 84.839844 27.867188 84.839844 C 33.390625 84.839844 37.867188 89.316406 37.867188 94.839844 \"/>\n<path fill-rule=\"nonzero\" fill=\"rgb(100%, 0%, 0%)\" fill-opacity=\"1\" stroke-width=\"1\" stroke-linecap=\"butt\" stroke-linejoin=\"miter\" stroke=\"rgb(0%, 0%, 0%)\" stroke-opacity=\"1\" stroke-miterlimit=\"10\" d=\"M 48.628906 104.554688 C 48.628906 110.078125 44.152344 114.554688 38.628906 114.554688 C 33.105469 114.554688 28.628906 110.078125 28.628906 104.554688 C 28.628906 99.03125 33.105469 94.554688 38.628906 94.554688 C 44.152344 94.554688 48.628906 99.03125 48.628906 104.554688 \"/>\n<path fill-rule=\"nonzero\" fill=\"rgb(100%, 0%, 0%)\" fill-opacity=\"1\" stroke-width=\"1\" stroke-linecap=\"butt\" stroke-linejoin=\"miter\" stroke=\"rgb(0%, 0%, 0%)\" stroke-opacity=\"1\" stroke-miterlimit=\"10\" d=\"M 67.953125 92.117188 C 67.953125 97.640625 63.476562 102.117188 57.953125 102.117188 C 52.429688 102.117188 47.953125 97.640625 47.953125 92.117188 C 47.953125 86.59375 52.429688 82.117188 57.953125 82.117188 C 63.476562 82.117188 67.953125 86.59375 67.953125 92.117188 \"/>\n<path fill-rule=\"nonzero\" fill=\"rgb(100%, 0%, 0%)\" fill-opacity=\"1\" stroke-width=\"1\" stroke-linecap=\"butt\" stroke-linejoin=\"miter\" stroke=\"rgb(0%, 0%, 0%)\" stroke-opacity=\"1\" stroke-miterlimit=\"10\" d=\"M 58.691406 116.785156 C 58.691406 122.308594 54.214844 126.785156 48.691406 126.785156 C 43.167969 126.785156 38.691406 122.308594 38.691406 116.785156 C 38.691406 111.265625 43.167969 106.785156 48.691406 106.785156 C 54.214844 106.785156 58.691406 111.265625 58.691406 116.785156 \"/>\n<path fill-rule=\"nonzero\" fill=\"rgb(100%, 0%, 0%)\" fill-opacity=\"1\" stroke-width=\"1\" stroke-linecap=\"butt\" stroke-linejoin=\"miter\" stroke=\"rgb(0%, 0%, 0%)\" stroke-opacity=\"1\" stroke-miterlimit=\"10\" d=\"M 151.105469 149.375 C 151.105469 154.898438 146.628906 159.375 141.105469 159.375 C 135.582031 159.375 131.105469 154.898438 131.105469 149.375 C 131.105469 143.851562 135.582031 139.375 141.105469 139.375 C 146.628906 139.375 151.105469 143.851562 151.105469 149.375 \"/>\n<path fill-rule=\"nonzero\" fill=\"rgb(100%, 0%, 0%)\" fill-opacity=\"1\" stroke-width=\"1\" stroke-linecap=\"butt\" stroke-linejoin=\"miter\" stroke=\"rgb(0%, 0%, 0%)\" stroke-opacity=\"1\" stroke-miterlimit=\"10\" d=\"M 100.136719 144.175781 C 100.136719 149.699219 95.660156 154.175781 90.136719 154.175781 C 84.613281 154.175781 80.136719 149.699219 80.136719 144.175781 C 80.136719 138.652344 84.613281 134.175781 90.136719 134.175781 C 95.660156 134.175781 100.136719 138.652344 100.136719 144.175781 \"/>\n<path fill-rule=\"nonzero\" fill=\"rgb(100%, 0%, 0%)\" fill-opacity=\"1\" stroke-width=\"1\" stroke-linecap=\"butt\" stroke-linejoin=\"miter\" stroke=\"rgb(0%, 0%, 0%)\" stroke-opacity=\"1\" stroke-miterlimit=\"10\" d=\"M 140.121094 159.324219 C 140.121094 164.847656 135.644531 169.324219 130.121094 169.324219 C 124.597656 169.324219 120.121094 164.847656 120.121094 159.324219 C 120.121094 153.800781 124.597656 149.324219 130.121094 149.324219 C 135.644531 149.324219 140.121094 153.800781 140.121094 159.324219 \"/>\n<path fill-rule=\"nonzero\" fill=\"rgb(100%, 0%, 0%)\" fill-opacity=\"1\" stroke-width=\"1\" stroke-linecap=\"butt\" stroke-linejoin=\"miter\" stroke=\"rgb(0%, 0%, 0%)\" stroke-opacity=\"1\" stroke-miterlimit=\"10\" d=\"M 113.101562 158.539062 C 113.101562 164.0625 108.621094 168.539062 103.101562 168.539062 C 97.578125 168.539062 93.101562 164.0625 93.101562 158.539062 C 93.101562 153.015625 97.578125 148.539062 103.101562 148.539062 C 108.621094 148.539062 113.101562 153.015625 113.101562 158.539062 \"/>\n<path fill-rule=\"nonzero\" fill=\"rgb(100%, 0%, 0%)\" fill-opacity=\"1\" stroke-width=\"1\" stroke-linecap=\"butt\" stroke-linejoin=\"miter\" stroke=\"rgb(0%, 0%, 0%)\" stroke-opacity=\"1\" stroke-miterlimit=\"10\" d=\"M 119.945312 150.1875 C 119.945312 155.707031 115.46875 160.1875 109.945312 160.1875 C 104.425781 160.1875 99.945312 155.707031 99.945312 150.1875 C 99.945312 144.664062 104.425781 140.1875 109.945312 140.1875 C 115.46875 140.1875 119.945312 144.664062 119.945312 150.1875 \"/>\n<path fill-rule=\"nonzero\" fill=\"rgb(100%, 0%, 0%)\" fill-opacity=\"1\" stroke-width=\"1\" stroke-linecap=\"butt\" stroke-linejoin=\"miter\" stroke=\"rgb(0%, 0%, 0%)\" stroke-opacity=\"1\" stroke-miterlimit=\"10\" d=\"M 67.894531 146.917969 C 67.894531 152.441406 63.417969 156.917969 57.894531 156.917969 C 52.371094 156.917969 47.894531 152.441406 47.894531 146.917969 C 47.894531 141.394531 52.371094 136.917969 57.894531 136.917969 C 63.417969 136.917969 67.894531 141.394531 67.894531 146.917969 \"/>\n<path fill-rule=\"nonzero\" fill=\"rgb(100%, 0%, 0%)\" fill-opacity=\"1\" stroke-width=\"1\" stroke-linecap=\"butt\" stroke-linejoin=\"miter\" stroke=\"rgb(0%, 0%, 0%)\" stroke-opacity=\"1\" stroke-miterlimit=\"10\" d=\"M 89.136719 154.320312 C 89.136719 159.839844 84.660156 164.320312 79.136719 164.320312 C 73.613281 164.320312 69.136719 159.839844 69.136719 154.320312 C 69.136719 148.796875 73.613281 144.320312 79.136719 144.320312 C 84.660156 144.320312 89.136719 148.796875 89.136719 154.320312 \"/>\n<path fill-rule=\"nonzero\" fill=\"rgb(100%, 0%, 0%)\" fill-opacity=\"1\" stroke-width=\"1\" stroke-linecap=\"butt\" stroke-linejoin=\"miter\" stroke=\"rgb(0%, 0%, 0%)\" stroke-opacity=\"1\" stroke-miterlimit=\"10\" d=\"M 72.867188 134.988281 C 72.867188 140.511719 68.390625 144.988281 62.867188 144.988281 C 57.34375 144.988281 52.867188 140.511719 52.867188 134.988281 C 52.867188 129.464844 57.34375 124.988281 62.867188 124.988281 C 68.390625 124.988281 72.867188 129.464844 72.867188 134.988281 \"/>\n<path fill-rule=\"nonzero\" fill=\"rgb(100%, 0%, 0%)\" fill-opacity=\"1\" stroke-width=\"1\" stroke-linecap=\"butt\" stroke-linejoin=\"miter\" stroke=\"rgb(0%, 0%, 0%)\" stroke-opacity=\"1\" stroke-miterlimit=\"10\" d=\"M 100.492188 26.046875 C 100.492188 31.570312 96.015625 36.046875 90.492188 36.046875 C 84.96875 36.046875 80.492188 31.570312 80.492188 26.046875 C 80.492188 20.527344 84.96875 16.046875 90.492188 16.046875 C 96.015625 16.046875 100.492188 20.527344 100.492188 26.046875 \"/>\n<path fill-rule=\"nonzero\" fill=\"rgb(100%, 0%, 0%)\" fill-opacity=\"1\" stroke-width=\"1\" stroke-linecap=\"butt\" stroke-linejoin=\"miter\" stroke=\"rgb(0%, 0%, 0%)\" stroke-opacity=\"1\" stroke-miterlimit=\"10\" d=\"M 98.550781 38.308594 C 98.550781 43.832031 94.074219 48.308594 88.550781 48.308594 C 83.027344 48.308594 78.550781 43.832031 78.550781 38.308594 C 78.550781 32.785156 83.027344 28.308594 88.550781 28.308594 C 94.074219 28.308594 98.550781 32.785156 98.550781 38.308594 \"/>\n<path fill-rule=\"nonzero\" fill=\"rgb(100%, 0%, 0%)\" fill-opacity=\"1\" stroke-width=\"1\" stroke-linecap=\"butt\" stroke-linejoin=\"miter\" stroke=\"rgb(0%, 0%, 0%)\" stroke-opacity=\"1\" stroke-miterlimit=\"10\" d=\"M 152.226562 28.484375 C 152.226562 34.007812 147.75 38.484375 142.226562 38.484375 C 136.707031 38.484375 132.226562 34.007812 132.226562 28.484375 C 132.226562 22.960938 136.707031 18.484375 142.226562 18.484375 C 147.75 18.484375 152.226562 22.960938 152.226562 28.484375 \"/>\n<path fill-rule=\"nonzero\" fill=\"rgb(100%, 0%, 0%)\" fill-opacity=\"1\" stroke-width=\"1\" stroke-linecap=\"butt\" stroke-linejoin=\"miter\" stroke=\"rgb(0%, 0%, 0%)\" stroke-opacity=\"1\" stroke-miterlimit=\"10\" d=\"M 124.980469 21.183594 C 124.980469 26.707031 120.503906 31.183594 114.980469 31.183594 C 109.457031 31.183594 104.980469 26.707031 104.980469 21.183594 C 104.980469 15.660156 109.457031 11.183594 114.980469 11.183594 C 120.503906 11.183594 124.980469 15.660156 124.980469 21.183594 \"/>\n<path fill-rule=\"nonzero\" fill=\"rgb(100%, 0%, 0%)\" fill-opacity=\"1\" stroke-width=\"1\" stroke-linecap=\"butt\" stroke-linejoin=\"miter\" stroke=\"rgb(0%, 0%, 0%)\" stroke-opacity=\"1\" stroke-miterlimit=\"10\" d=\"M 41.898438 63.5625 C 41.898438 69.085938 37.421875 73.5625 31.898438 73.5625 C 26.375 73.5625 21.898438 69.085938 21.898438 63.5625 C 21.898438 58.039062 26.375 53.5625 31.898438 53.5625 C 37.421875 53.5625 41.898438 58.039062 41.898438 63.5625 \"/>\n<path fill-rule=\"nonzero\" fill=\"rgb(100%, 0%, 0%)\" fill-opacity=\"1\" stroke-width=\"1\" stroke-linecap=\"butt\" stroke-linejoin=\"miter\" stroke=\"rgb(0%, 0%, 0%)\" stroke-opacity=\"1\" stroke-miterlimit=\"10\" d=\"M 74.203125 54.910156 C 74.203125 60.433594 69.726562 64.910156 64.203125 64.910156 C 58.679688 64.910156 54.203125 60.433594 54.203125 54.910156 C 54.203125 49.386719 58.679688 44.910156 64.203125 44.910156 C 69.726562 44.910156 74.203125 49.386719 74.203125 54.910156 \"/>\n<path fill-rule=\"nonzero\" fill=\"rgb(100%, 0%, 0%)\" fill-opacity=\"1\" stroke-width=\"1\" stroke-linecap=\"butt\" stroke-linejoin=\"miter\" stroke=\"rgb(0%, 0%, 0%)\" stroke-opacity=\"1\" stroke-miterlimit=\"10\" d=\"M 69.980469 78.332031 C 69.980469 83.855469 65.503906 88.332031 59.980469 88.332031 C 54.457031 88.332031 49.980469 83.855469 49.980469 78.332031 C 49.980469 72.808594 54.457031 68.332031 59.980469 68.332031 C 65.503906 68.332031 69.980469 72.808594 69.980469 78.332031 \"/>\n<path fill-rule=\"nonzero\" fill=\"rgb(100%, 0%, 0%)\" fill-opacity=\"1\" stroke-width=\"1\" stroke-linecap=\"butt\" stroke-linejoin=\"miter\" stroke=\"rgb(0%, 0%, 0%)\" stroke-opacity=\"1\" stroke-miterlimit=\"10\" d=\"M 45.976562 74.78125 C 45.976562 80.304688 41.5 84.78125 35.976562 84.78125 C 30.453125 84.78125 25.976562 80.304688 25.976562 74.78125 C 25.976562 69.257812 30.453125 64.78125 35.976562 64.78125 C 41.5 64.78125 45.976562 69.257812 45.976562 74.78125 \"/>\n<path fill-rule=\"nonzero\" fill=\"rgb(100%, 0%, 0%)\" fill-opacity=\"1\" stroke-width=\"1\" stroke-linecap=\"butt\" stroke-linejoin=\"miter\" stroke=\"rgb(0%, 0%, 0%)\" stroke-opacity=\"1\" stroke-miterlimit=\"10\" d=\"M 80.914062 34.957031 C 80.914062 40.476562 76.4375 44.957031 70.914062 44.957031 C 65.394531 44.957031 60.914062 40.476562 60.914062 34.957031 C 60.914062 29.433594 65.394531 24.957031 70.914062 24.957031 C 76.4375 24.957031 80.914062 29.433594 80.914062 34.957031 \"/>\n<path fill-rule=\"nonzero\" fill=\"rgb(100%, 0%, 0%)\" fill-opacity=\"1\" stroke-width=\"1\" stroke-linecap=\"butt\" stroke-linejoin=\"miter\" stroke=\"rgb(0%, 0%, 0%)\" stroke-opacity=\"1\" stroke-miterlimit=\"10\" d=\"M 57.53125 61.324219 C 57.53125 66.847656 53.054688 71.324219 47.53125 71.324219 C 42.011719 71.324219 37.53125 66.847656 37.53125 61.324219 C 37.53125 55.800781 42.011719 51.324219 47.53125 51.324219 C 53.054688 51.324219 57.53125 55.800781 57.53125 61.324219 \"/>\n<path fill-rule=\"nonzero\" fill=\"rgb(100%, 0%, 0%)\" fill-opacity=\"1\" stroke-width=\"1\" stroke-linecap=\"butt\" stroke-linejoin=\"miter\" stroke=\"rgb(0%, 0%, 0%)\" stroke-opacity=\"1\" stroke-miterlimit=\"10\" d=\"M 47.265625 49.714844 C 47.265625 55.238281 42.789062 59.714844 37.265625 59.714844 C 31.746094 59.714844 27.265625 55.238281 27.265625 49.714844 C 27.265625 44.191406 31.746094 39.714844 37.265625 39.714844 C 42.789062 39.714844 47.265625 44.191406 47.265625 49.714844 \"/>\n<path fill-rule=\"nonzero\" fill=\"rgb(100%, 0%, 0%)\" fill-opacity=\"1\" stroke-width=\"1\" stroke-linecap=\"butt\" stroke-linejoin=\"miter\" stroke=\"rgb(0%, 0%, 0%)\" stroke-opacity=\"1\" stroke-miterlimit=\"10\" d=\"M 63.0625 40.988281 C 63.0625 46.507812 58.585938 50.988281 53.0625 50.988281 C 47.539062 50.988281 43.0625 46.507812 43.0625 40.988281 C 43.0625 35.464844 47.539062 30.988281 53.0625 30.988281 C 58.585938 30.988281 63.0625 35.464844 63.0625 40.988281 \"/>\n<path fill-rule=\"nonzero\" fill=\"rgb(100%, 0%, 0%)\" fill-opacity=\"1\" stroke-width=\"1\" stroke-linecap=\"butt\" stroke-linejoin=\"miter\" stroke=\"rgb(0%, 0%, 0%)\" stroke-opacity=\"1\" stroke-miterlimit=\"10\" d=\"M 130.699219 32.742188 C 130.699219 38.265625 126.222656 42.742188 120.699219 42.742188 C 115.175781 42.742188 110.699219 38.265625 110.699219 32.742188 C 110.699219 27.21875 115.175781 22.742188 120.699219 22.742188 C 126.222656 22.742188 130.699219 27.21875 130.699219 32.742188 \"/>\n<path fill-rule=\"nonzero\" fill=\"rgb(100%, 0%, 0%)\" fill-opacity=\"1\" stroke-width=\"1\" stroke-linecap=\"butt\" stroke-linejoin=\"miter\" stroke=\"rgb(0%, 0%, 0%)\" stroke-opacity=\"1\" stroke-miterlimit=\"10\" d=\"M 151.539062 20 C 151.539062 25.523438 147.058594 30 141.539062 30 C 136.015625 30 131.539062 25.523438 131.539062 20 C 131.539062 14.476562 136.015625 10 141.539062 10 C 147.058594 10 151.539062 14.476562 151.539062 20 \"/>\n<path fill-rule=\"nonzero\" fill=\"rgb(100%, 0%, 0%)\" fill-opacity=\"1\" stroke-width=\"1\" stroke-linecap=\"butt\" stroke-linejoin=\"miter\" stroke=\"rgb(0%, 0%, 0%)\" stroke-opacity=\"1\" stroke-miterlimit=\"10\" d=\"M 183.335938 34.636719 C 183.335938 40.160156 178.859375 44.636719 173.335938 44.636719 C 167.8125 44.636719 163.335938 40.160156 163.335938 34.636719 C 163.335938 29.113281 167.8125 24.636719 173.335938 24.636719 C 178.859375 24.636719 183.335938 29.113281 183.335938 34.636719 \"/>\n<path fill-rule=\"nonzero\" fill=\"rgb(100%, 0%, 0%)\" fill-opacity=\"1\" stroke-width=\"1\" stroke-linecap=\"butt\" stroke-linejoin=\"miter\" stroke=\"rgb(0%, 0%, 0%)\" stroke-opacity=\"1\" stroke-miterlimit=\"10\" d=\"M 177.417969 22.976562 C 177.417969 28.5 172.941406 32.976562 167.417969 32.976562 C 161.894531 32.976562 157.417969 28.5 157.417969 22.976562 C 157.417969 17.453125 161.894531 12.976562 167.417969 12.976562 C 172.941406 12.976562 177.417969 17.453125 177.417969 22.976562 \"/>\n<path fill-rule=\"nonzero\" fill=\"rgb(100%, 0%, 0%)\" fill-opacity=\"1\" stroke-width=\"1\" stroke-linecap=\"butt\" stroke-linejoin=\"miter\" stroke=\"rgb(0%, 0%, 0%)\" stroke-opacity=\"1\" stroke-miterlimit=\"10\" d=\"M 214.59375 35.003906 C 214.59375 40.527344 210.117188 45.003906 204.59375 45.003906 C 199.070312 45.003906 194.59375 40.527344 194.59375 35.003906 C 194.59375 29.480469 199.070312 25.003906 204.59375 25.003906 C 210.117188 25.003906 214.59375 29.480469 214.59375 35.003906 \"/>\n<path fill-rule=\"nonzero\" fill=\"rgb(100%, 0%, 0%)\" fill-opacity=\"1\" stroke-width=\"1\" stroke-linecap=\"butt\" stroke-linejoin=\"miter\" stroke=\"rgb(0%, 0%, 0%)\" stroke-opacity=\"1\" stroke-miterlimit=\"10\" d=\"M 223.515625 23.863281 C 223.515625 29.386719 219.039062 33.863281 213.515625 33.863281 C 207.996094 33.863281 203.515625 29.386719 203.515625 23.863281 C 203.515625 18.339844 207.996094 13.863281 213.515625 13.863281 C 219.039062 13.863281 223.515625 18.339844 223.515625 23.863281 \"/>\n<path fill-rule=\"nonzero\" fill=\"rgb(100%, 0%, 0%)\" fill-opacity=\"1\" stroke-width=\"1\" stroke-linecap=\"butt\" stroke-linejoin=\"miter\" stroke=\"rgb(0%, 0%, 0%)\" stroke-opacity=\"1\" stroke-miterlimit=\"10\" d=\"M 267.183594 36.304688 C 267.183594 41.828125 262.707031 46.304688 257.183594 46.304688 C 251.660156 46.304688 247.183594 41.828125 247.183594 36.304688 C 247.183594 30.78125 251.660156 26.304688 257.183594 26.304688 C 262.707031 26.304688 267.183594 30.78125 267.183594 36.304688 \"/>\n<path fill-rule=\"nonzero\" fill=\"rgb(100%, 0%, 0%)\" fill-opacity=\"1\" stroke-width=\"1\" stroke-linecap=\"butt\" stroke-linejoin=\"miter\" stroke=\"rgb(0%, 0%, 0%)\" stroke-opacity=\"1\" stroke-miterlimit=\"10\" d=\"M 250.140625 22.507812 C 250.140625 28.03125 245.660156 32.507812 240.140625 32.507812 C 234.617188 32.507812 230.140625 28.03125 230.140625 22.507812 C 230.140625 16.984375 234.617188 12.507812 240.140625 12.507812 C 245.660156 12.507812 250.140625 16.984375 250.140625 22.507812 \"/>\n<path fill-rule=\"nonzero\" fill=\"rgb(100%, 0%, 0%)\" fill-opacity=\"1\" stroke-width=\"1\" stroke-linecap=\"butt\" stroke-linejoin=\"miter\" stroke=\"rgb(0%, 0%, 0%)\" stroke-opacity=\"1\" stroke-miterlimit=\"10\" d=\"M 298.714844 31.292969 C 298.714844 36.816406 294.234375 41.292969 288.714844 41.292969 C 283.191406 41.292969 278.714844 36.816406 278.714844 31.292969 C 278.714844 25.769531 283.191406 21.292969 288.714844 21.292969 C 294.234375 21.292969 298.714844 25.769531 298.714844 31.292969 \"/>\n<path fill-rule=\"nonzero\" fill=\"rgb(100%, 0%, 0%)\" fill-opacity=\"1\" stroke-width=\"1\" stroke-linecap=\"butt\" stroke-linejoin=\"miter\" stroke=\"rgb(0%, 0%, 0%)\" stroke-opacity=\"1\" stroke-miterlimit=\"10\" d=\"M 297.308594 43.519531 C 297.308594 49.042969 292.832031 53.519531 287.308594 53.519531 C 281.785156 53.519531 277.308594 49.042969 277.308594 43.519531 C 277.308594 37.996094 281.785156 33.519531 287.308594 33.519531 C 292.832031 33.519531 297.308594 37.996094 297.308594 43.519531 \"/>\n<path fill-rule=\"nonzero\" fill=\"rgb(100%, 0%, 0%)\" fill-opacity=\"1\" stroke-width=\"1\" stroke-linecap=\"butt\" stroke-linejoin=\"miter\" stroke=\"rgb(0%, 0%, 0%)\" stroke-opacity=\"1\" stroke-miterlimit=\"10\" d=\"M 275.789062 25.140625 C 275.789062 30.664062 271.3125 35.140625 265.789062 35.140625 C 260.265625 35.140625 255.789062 30.664062 255.789062 25.140625 C 255.789062 19.621094 260.265625 15.140625 265.789062 15.140625 C 271.3125 15.140625 275.789062 19.621094 275.789062 25.140625 \"/>\n<path fill-rule=\"nonzero\" fill=\"rgb(100%, 0%, 0%)\" fill-opacity=\"1\" stroke-width=\"1\" stroke-linecap=\"butt\" stroke-linejoin=\"miter\" stroke=\"rgb(0%, 0%, 0%)\" stroke-opacity=\"1\" stroke-miterlimit=\"10\" d=\"M 246.734375 30.960938 C 246.734375 36.484375 242.257812 40.960938 236.734375 40.960938 C 231.210938 40.960938 226.734375 36.484375 226.734375 30.960938 C 226.734375 25.4375 231.210938 20.960938 236.734375 20.960938 C 242.257812 20.960938 246.734375 25.4375 246.734375 30.960938 \"/>\n<path fill-rule=\"nonzero\" fill=\"rgb(100%, 0%, 0%)\" fill-opacity=\"1\" stroke-width=\"1\" stroke-linecap=\"butt\" stroke-linejoin=\"miter\" stroke=\"rgb(0%, 0%, 0%)\" stroke-opacity=\"1\" stroke-miterlimit=\"10\" d=\"M 344.972656 67.941406 C 344.972656 73.460938 340.496094 77.941406 334.972656 77.941406 C 329.449219 77.941406 324.972656 73.460938 324.972656 67.941406 C 324.972656 62.417969 329.449219 57.941406 334.972656 57.941406 C 340.496094 57.941406 344.972656 62.417969 344.972656 67.941406 \"/>\n<path fill-rule=\"nonzero\" fill=\"rgb(100%, 0%, 0%)\" fill-opacity=\"1\" stroke-width=\"1\" stroke-linecap=\"butt\" stroke-linejoin=\"miter\" stroke=\"rgb(0%, 0%, 0%)\" stroke-opacity=\"1\" stroke-miterlimit=\"10\" d=\"M 332.8125 47.84375 C 332.8125 53.367188 328.335938 57.84375 322.8125 57.84375 C 317.292969 57.84375 312.8125 53.367188 312.8125 47.84375 C 312.8125 42.320312 317.292969 37.84375 322.8125 37.84375 C 328.335938 37.84375 332.8125 42.320312 332.8125 47.84375 \"/>\n<path fill-rule=\"nonzero\" fill=\"rgb(100%, 0%, 0%)\" fill-opacity=\"1\" stroke-width=\"1\" stroke-linecap=\"butt\" stroke-linejoin=\"miter\" stroke=\"rgb(0%, 0%, 0%)\" stroke-opacity=\"1\" stroke-miterlimit=\"10\" d=\"M 343.613281 57.167969 C 343.613281 62.691406 339.136719 67.167969 333.613281 67.167969 C 328.089844 67.167969 323.613281 62.691406 323.613281 57.167969 C 323.613281 51.648438 328.089844 47.167969 333.613281 47.167969 C 339.136719 47.167969 343.613281 51.648438 343.613281 57.167969 \"/>\n<path fill-rule=\"nonzero\" fill=\"rgb(100%, 0%, 0%)\" fill-opacity=\"1\" stroke-width=\"1\" stroke-linecap=\"butt\" stroke-linejoin=\"miter\" stroke=\"rgb(0%, 0%, 0%)\" stroke-opacity=\"1\" stroke-miterlimit=\"10\" d=\"M 316.601562 41.144531 C 316.601562 46.667969 312.125 51.144531 306.601562 51.144531 C 301.078125 51.144531 296.601562 46.667969 296.601562 41.144531 C 296.601562 35.621094 301.078125 31.144531 306.601562 31.144531 C 312.125 31.144531 316.601562 35.621094 316.601562 41.144531 \"/>\n<path fill-rule=\"nonzero\" fill=\"rgb(100%, 0%, 0%)\" fill-opacity=\"1\" stroke-width=\"1\" stroke-linecap=\"butt\" stroke-linejoin=\"miter\" stroke=\"rgb(0%, 0%, 0%)\" stroke-opacity=\"1\" stroke-miterlimit=\"10\" d=\"M 316.207031 60.839844 C 316.207031 66.363281 311.730469 70.839844 306.207031 70.839844 C 300.683594 70.839844 296.207031 66.363281 296.207031 60.839844 C 296.207031 55.316406 300.683594 50.839844 306.207031 50.839844 C 311.730469 50.839844 316.207031 55.316406 316.207031 60.839844 \"/>\n<path fill-rule=\"nonzero\" fill=\"rgb(100%, 0%, 0%)\" fill-opacity=\"1\" stroke-width=\"1\" stroke-linecap=\"butt\" stroke-linejoin=\"miter\" stroke=\"rgb(0%, 0%, 0%)\" stroke-opacity=\"1\" stroke-miterlimit=\"10\" d=\"M 315.769531 85.707031 C 315.769531 91.230469 311.292969 95.707031 305.769531 95.707031 C 300.246094 95.707031 295.769531 91.230469 295.769531 85.707031 C 295.769531 80.1875 300.246094 75.707031 305.769531 75.707031 C 311.292969 75.707031 315.769531 80.1875 315.769531 85.707031 \"/>\n<path fill-rule=\"nonzero\" fill=\"rgb(100%, 0%, 0%)\" fill-opacity=\"1\" stroke-width=\"1\" stroke-linecap=\"butt\" stroke-linejoin=\"miter\" stroke=\"rgb(0%, 0%, 0%)\" stroke-opacity=\"1\" stroke-miterlimit=\"10\" d=\"M 329.570312 72.335938 C 329.570312 77.859375 325.09375 82.335938 319.570312 82.335938 C 314.050781 82.335938 309.570312 77.859375 309.570312 72.335938 C 309.570312 66.8125 314.050781 62.335938 319.570312 62.335938 C 325.09375 62.335938 329.570312 66.8125 329.570312 72.335938 \"/>\n<path fill-rule=\"nonzero\" fill=\"rgb(100%, 0%, 0%)\" fill-opacity=\"1\" stroke-width=\"1\" stroke-linecap=\"butt\" stroke-linejoin=\"miter\" stroke=\"rgb(0%, 0%, 0%)\" stroke-opacity=\"1\" stroke-miterlimit=\"10\" d=\"M 342.246094 81.625 C 342.246094 87.148438 337.769531 91.625 332.246094 91.625 C 326.726562 91.625 322.246094 87.148438 322.246094 81.625 C 322.246094 76.101562 326.726562 71.625 332.246094 71.625 C 337.769531 71.625 342.246094 76.101562 342.246094 81.625 \"/>\n<path fill-rule=\"nonzero\" fill=\"rgb(100%, 0%, 0%)\" fill-opacity=\"1\" stroke-width=\"1\" stroke-linecap=\"butt\" stroke-linejoin=\"miter\" stroke=\"rgb(0%, 0%, 0%)\" stroke-opacity=\"1\" stroke-miterlimit=\"10\" d=\"M 372.222656 155.917969 C 372.222656 161.441406 367.746094 165.917969 362.222656 165.917969 C 356.699219 165.917969 352.222656 161.441406 352.222656 155.917969 C 352.222656 150.398438 356.699219 145.917969 362.222656 145.917969 C 367.746094 145.917969 372.222656 150.398438 372.222656 155.917969 \"/>\n<path fill-rule=\"nonzero\" fill=\"rgb(100%, 0%, 0%)\" fill-opacity=\"1\" stroke-width=\"1\" stroke-linecap=\"butt\" stroke-linejoin=\"miter\" stroke=\"rgb(0%, 0%, 0%)\" stroke-opacity=\"1\" stroke-miterlimit=\"10\" d=\"M 390 130.867188 C 390 136.390625 385.523438 140.867188 380 140.867188 C 374.476562 140.867188 370 136.390625 370 130.867188 C 370 125.347656 374.476562 120.867188 380 120.867188 C 385.523438 120.867188 390 125.347656 390 130.867188 \"/>\n<path fill-rule=\"nonzero\" fill=\"rgb(100%, 0%, 0%)\" fill-opacity=\"1\" stroke-width=\"1\" stroke-linecap=\"butt\" stroke-linejoin=\"miter\" stroke=\"rgb(0%, 0%, 0%)\" stroke-opacity=\"1\" stroke-miterlimit=\"10\" d=\"M 386.925781 143.34375 C 386.925781 148.867188 382.449219 153.34375 376.925781 153.34375 C 371.402344 153.34375 366.925781 148.867188 366.925781 143.34375 C 366.925781 137.820312 371.402344 133.34375 376.925781 133.34375 C 382.449219 133.34375 386.925781 137.820312 386.925781 143.34375 \"/>\n<path fill-rule=\"nonzero\" fill=\"rgb(100%, 0%, 0%)\" fill-opacity=\"1\" stroke-width=\"1\" stroke-linecap=\"butt\" stroke-linejoin=\"miter\" stroke=\"rgb(0%, 0%, 0%)\" stroke-opacity=\"1\" stroke-miterlimit=\"10\" d=\"M 350.332031 164.585938 C 350.332031 170.109375 345.855469 174.585938 340.332031 174.585938 C 334.808594 174.585938 330.332031 170.109375 330.332031 164.585938 C 330.332031 159.0625 334.808594 154.585938 340.332031 154.585938 C 345.855469 154.585938 350.332031 159.0625 350.332031 164.585938 \"/>\n<path fill-rule=\"nonzero\" fill=\"rgb(100%, 0%, 0%)\" fill-opacity=\"1\" stroke-width=\"1\" stroke-linecap=\"butt\" stroke-linejoin=\"miter\" stroke=\"rgb(0%, 0%, 0%)\" stroke-opacity=\"1\" stroke-miterlimit=\"10\" d=\"M 301.605469 180 C 301.605469 185.523438 297.125 190 291.605469 190 C 286.082031 190 281.605469 185.523438 281.605469 180 C 281.605469 174.476562 286.082031 170 291.605469 170 C 297.125 170 301.605469 174.476562 301.605469 180 \"/>\n</svg>\n",
            "text/plain": [
              "<igraph.drawing.cairo.plot.CairoPlot at 0x2049dec7c10>"
            ]
          },
          "execution_count": 23,
          "metadata": {
            "image/svg+xml": {
              "isolated": true
            }
          },
          "output_type": "execute_result"
        }
      ],
      "source": [
        "#create g8 gith 30 nodees using a complex star graph\n",
        "g8 = Graph.Tree(90, 4)\n",
        "plot(g8, bbox=(400, 200))"
      ]
    },
    {
      "cell_type": "code",
      "execution_count": 24,
      "metadata": {},
      "outputs": [
        {
          "data": {
            "image/svg+xml": "<?xml version=\"1.0\" encoding=\"UTF-8\"?>\n<svg xmlns=\"http://www.w3.org/2000/svg\" xmlns:xlink=\"http://www.w3.org/1999/xlink\" width=\"500\" height=\"200\" viewBox=\"0 0 500 200\">\n<rect x=\"-50\" y=\"-20\" width=\"600\" height=\"240\" fill=\"rgb(100%, 100%, 100%)\" fill-opacity=\"1\"/>\n<path fill=\"none\" stroke-width=\"1\" stroke-linecap=\"butt\" stroke-linejoin=\"miter\" stroke=\"rgb(26.666667%, 26.666667%, 26.666667%)\" stroke-opacity=\"1\" stroke-miterlimit=\"10\" d=\"M 224.367188 91.75 L 272.121094 112.257812 \"/>\n<path fill=\"none\" stroke-width=\"1\" stroke-linecap=\"butt\" stroke-linejoin=\"miter\" stroke=\"rgb(26.666667%, 26.666667%, 26.666667%)\" stroke-opacity=\"1\" stroke-miterlimit=\"10\" d=\"M 224.367188 91.75 L 165.253906 108.289062 \"/>\n<path fill=\"none\" stroke-width=\"1\" stroke-linecap=\"butt\" stroke-linejoin=\"miter\" stroke=\"rgb(26.666667%, 26.666667%, 26.666667%)\" stroke-opacity=\"1\" stroke-miterlimit=\"10\" d=\"M 224.367188 91.75 L 177.703125 71.769531 \"/>\n<path fill=\"none\" stroke-width=\"1\" stroke-linecap=\"butt\" stroke-linejoin=\"miter\" stroke=\"rgb(26.666667%, 26.666667%, 26.666667%)\" stroke-opacity=\"1\" stroke-miterlimit=\"10\" d=\"M 224.367188 91.75 L 279.925781 73.742188 \"/>\n<path fill=\"none\" stroke-width=\"1\" stroke-linecap=\"butt\" stroke-linejoin=\"miter\" stroke=\"rgb(26.666667%, 26.666667%, 26.666667%)\" stroke-opacity=\"1\" stroke-miterlimit=\"10\" d=\"M 272.121094 112.257812 L 337.550781 128.179688 \"/>\n<path fill=\"none\" stroke-width=\"1\" stroke-linecap=\"butt\" stroke-linejoin=\"miter\" stroke=\"rgb(26.666667%, 26.666667%, 26.666667%)\" stroke-opacity=\"1\" stroke-miterlimit=\"10\" d=\"M 272.121094 112.257812 L 321.417969 108.226562 \"/>\n<path fill=\"none\" stroke-width=\"1\" stroke-linecap=\"butt\" stroke-linejoin=\"miter\" stroke=\"rgb(26.666667%, 26.666667%, 26.666667%)\" stroke-opacity=\"1\" stroke-miterlimit=\"10\" d=\"M 272.121094 112.257812 L 281.449219 131.5625 \"/>\n<path fill=\"none\" stroke-width=\"1\" stroke-linecap=\"butt\" stroke-linejoin=\"miter\" stroke=\"rgb(26.666667%, 26.666667%, 26.666667%)\" stroke-opacity=\"1\" stroke-miterlimit=\"10\" d=\"M 272.121094 112.257812 L 251.894531 131.398438 \"/>\n<path fill=\"none\" stroke-width=\"1\" stroke-linecap=\"butt\" stroke-linejoin=\"miter\" stroke=\"rgb(26.666667%, 26.666667%, 26.666667%)\" stroke-opacity=\"1\" stroke-miterlimit=\"10\" d=\"M 165.253906 108.289062 L 97.128906 114.617188 \"/>\n<path fill=\"none\" stroke-width=\"1\" stroke-linecap=\"butt\" stroke-linejoin=\"miter\" stroke=\"rgb(26.666667%, 26.666667%, 26.666667%)\" stroke-opacity=\"1\" stroke-miterlimit=\"10\" d=\"M 165.253906 108.289062 L 112.535156 102.261719 \"/>\n<path fill=\"none\" stroke-width=\"1\" stroke-linecap=\"butt\" stroke-linejoin=\"miter\" stroke=\"rgb(26.666667%, 26.666667%, 26.666667%)\" stroke-opacity=\"1\" stroke-miterlimit=\"10\" d=\"M 165.253906 108.289062 L 163.210938 130.457031 \"/>\n<path fill=\"none\" stroke-width=\"1\" stroke-linecap=\"butt\" stroke-linejoin=\"miter\" stroke=\"rgb(26.666667%, 26.666667%, 26.666667%)\" stroke-opacity=\"1\" stroke-miterlimit=\"10\" d=\"M 165.253906 108.289062 L 132.171875 127.332031 \"/>\n<path fill=\"none\" stroke-width=\"1\" stroke-linecap=\"butt\" stroke-linejoin=\"miter\" stroke=\"rgb(26.666667%, 26.666667%, 26.666667%)\" stroke-opacity=\"1\" stroke-miterlimit=\"10\" d=\"M 177.703125 71.769531 L 158.652344 50.441406 \"/>\n<path fill=\"none\" stroke-width=\"1\" stroke-linecap=\"butt\" stroke-linejoin=\"miter\" stroke=\"rgb(26.666667%, 26.666667%, 26.666667%)\" stroke-opacity=\"1\" stroke-miterlimit=\"10\" d=\"M 177.703125 71.769531 L 118.835938 73 \"/>\n<path fill=\"none\" stroke-width=\"1\" stroke-linecap=\"butt\" stroke-linejoin=\"miter\" stroke=\"rgb(26.666667%, 26.666667%, 26.666667%)\" stroke-opacity=\"1\" stroke-miterlimit=\"10\" d=\"M 177.703125 71.769531 L 119.308594 59.863281 \"/>\n<path fill=\"none\" stroke-width=\"1\" stroke-linecap=\"butt\" stroke-linejoin=\"miter\" stroke=\"rgb(26.666667%, 26.666667%, 26.666667%)\" stroke-opacity=\"1\" stroke-miterlimit=\"10\" d=\"M 177.703125 71.769531 L 191.40625 50.796875 \"/>\n<path fill=\"none\" stroke-width=\"1\" stroke-linecap=\"butt\" stroke-linejoin=\"miter\" stroke=\"rgb(26.666667%, 26.666667%, 26.666667%)\" stroke-opacity=\"1\" stroke-miterlimit=\"10\" d=\"M 279.925781 73.742188 L 274.390625 52.296875 \"/>\n<path fill=\"none\" stroke-width=\"1\" stroke-linecap=\"butt\" stroke-linejoin=\"miter\" stroke=\"rgb(26.666667%, 26.666667%, 26.666667%)\" stroke-opacity=\"1\" stroke-miterlimit=\"10\" d=\"M 279.925781 73.742188 L 306.871094 53.515625 \"/>\n<path fill=\"none\" stroke-width=\"1\" stroke-linecap=\"butt\" stroke-linejoin=\"miter\" stroke=\"rgb(26.666667%, 26.666667%, 26.666667%)\" stroke-opacity=\"1\" stroke-miterlimit=\"10\" d=\"M 279.925781 73.742188 L 345.648438 64.582031 \"/>\n<path fill=\"none\" stroke-width=\"1\" stroke-linecap=\"butt\" stroke-linejoin=\"miter\" stroke=\"rgb(26.666667%, 26.666667%, 26.666667%)\" stroke-opacity=\"1\" stroke-miterlimit=\"10\" d=\"M 279.925781 73.742188 L 335.507812 77.570312 \"/>\n<path fill=\"none\" stroke-width=\"1\" stroke-linecap=\"butt\" stroke-linejoin=\"miter\" stroke=\"rgb(26.666667%, 26.666667%, 26.666667%)\" stroke-opacity=\"1\" stroke-miterlimit=\"10\" d=\"M 337.550781 128.179688 L 415.460938 140.011719 \"/>\n<path fill=\"none\" stroke-width=\"1\" stroke-linecap=\"butt\" stroke-linejoin=\"miter\" stroke=\"rgb(26.666667%, 26.666667%, 26.666667%)\" stroke-opacity=\"1\" stroke-miterlimit=\"10\" d=\"M 337.550781 128.179688 L 353.351562 155.390625 \"/>\n<path fill=\"none\" stroke-width=\"1\" stroke-linecap=\"butt\" stroke-linejoin=\"miter\" stroke=\"rgb(26.666667%, 26.666667%, 26.666667%)\" stroke-opacity=\"1\" stroke-miterlimit=\"10\" d=\"M 337.550781 128.179688 L 393.664062 125.914062 \"/>\n<path fill=\"none\" stroke-width=\"1\" stroke-linecap=\"butt\" stroke-linejoin=\"miter\" stroke=\"rgb(26.666667%, 26.666667%, 26.666667%)\" stroke-opacity=\"1\" stroke-miterlimit=\"10\" d=\"M 337.550781 128.179688 L 369.371094 141.199219 \"/>\n<path fill=\"none\" stroke-width=\"1\" stroke-linecap=\"butt\" stroke-linejoin=\"miter\" stroke=\"rgb(26.666667%, 26.666667%, 26.666667%)\" stroke-opacity=\"1\" stroke-miterlimit=\"10\" d=\"M 321.417969 108.226562 L 360.152344 99.363281 \"/>\n<path fill=\"none\" stroke-width=\"1\" stroke-linecap=\"butt\" stroke-linejoin=\"miter\" stroke=\"rgb(26.666667%, 26.666667%, 26.666667%)\" stroke-opacity=\"1\" stroke-miterlimit=\"10\" d=\"M 321.417969 108.226562 L 399.597656 112.953125 \"/>\n<path fill=\"none\" stroke-width=\"1\" stroke-linecap=\"butt\" stroke-linejoin=\"miter\" stroke=\"rgb(26.666667%, 26.666667%, 26.666667%)\" stroke-opacity=\"1\" stroke-miterlimit=\"10\" d=\"M 321.417969 108.226562 L 366.4375 118.980469 \"/>\n<path fill=\"none\" stroke-width=\"1\" stroke-linecap=\"butt\" stroke-linejoin=\"miter\" stroke=\"rgb(26.666667%, 26.666667%, 26.666667%)\" stroke-opacity=\"1\" stroke-miterlimit=\"10\" d=\"M 321.417969 108.226562 L 394.960938 102.972656 \"/>\n<path fill=\"none\" stroke-width=\"1\" stroke-linecap=\"butt\" stroke-linejoin=\"miter\" stroke=\"rgb(26.666667%, 26.666667%, 26.666667%)\" stroke-opacity=\"1\" stroke-miterlimit=\"10\" d=\"M 281.449219 131.5625 L 313.292969 156.292969 \"/>\n<path fill=\"none\" stroke-width=\"1\" stroke-linecap=\"butt\" stroke-linejoin=\"miter\" stroke=\"rgb(26.666667%, 26.666667%, 26.666667%)\" stroke-opacity=\"1\" stroke-miterlimit=\"10\" d=\"M 281.449219 131.5625 L 283.410156 162.074219 \"/>\n<path fill=\"none\" stroke-width=\"1\" stroke-linecap=\"butt\" stroke-linejoin=\"miter\" stroke=\"rgb(26.666667%, 26.666667%, 26.666667%)\" stroke-opacity=\"1\" stroke-miterlimit=\"10\" d=\"M 281.449219 131.5625 L 327.710938 143.640625 \"/>\n<path fill=\"none\" stroke-width=\"1\" stroke-linecap=\"butt\" stroke-linejoin=\"miter\" stroke=\"rgb(26.666667%, 26.666667%, 26.666667%)\" stroke-opacity=\"1\" stroke-miterlimit=\"10\" d=\"M 281.449219 131.5625 L 253.816406 151.152344 \"/>\n<path fill=\"none\" stroke-width=\"1\" stroke-linecap=\"butt\" stroke-linejoin=\"miter\" stroke=\"rgb(26.666667%, 26.666667%, 26.666667%)\" stroke-opacity=\"1\" stroke-miterlimit=\"10\" d=\"M 251.894531 131.398438 L 220.117188 145.0625 \"/>\n<path fill=\"none\" stroke-width=\"1\" stroke-linecap=\"butt\" stroke-linejoin=\"miter\" stroke=\"rgb(26.666667%, 26.666667%, 26.666667%)\" stroke-opacity=\"1\" stroke-miterlimit=\"10\" d=\"M 251.894531 131.398438 L 226.78125 158.289062 \"/>\n<path fill=\"none\" stroke-width=\"1\" stroke-linecap=\"butt\" stroke-linejoin=\"miter\" stroke=\"rgb(26.666667%, 26.666667%, 26.666667%)\" stroke-opacity=\"1\" stroke-miterlimit=\"10\" d=\"M 251.894531 131.398438 L 255.988281 162.574219 \"/>\n<path fill=\"none\" stroke-width=\"1\" stroke-linecap=\"butt\" stroke-linejoin=\"miter\" stroke=\"rgb(26.666667%, 26.666667%, 26.666667%)\" stroke-opacity=\"1\" stroke-miterlimit=\"10\" d=\"M 251.894531 131.398438 L 285.617188 149.960938 \"/>\n<path fill=\"none\" stroke-width=\"1\" stroke-linecap=\"butt\" stroke-linejoin=\"miter\" stroke=\"rgb(26.666667%, 26.666667%, 26.666667%)\" stroke-opacity=\"1\" stroke-miterlimit=\"10\" d=\"M 97.128906 114.617188 L 49.039062 136.035156 \"/>\n<path fill=\"none\" stroke-width=\"1\" stroke-linecap=\"butt\" stroke-linejoin=\"miter\" stroke=\"rgb(26.666667%, 26.666667%, 26.666667%)\" stroke-opacity=\"1\" stroke-miterlimit=\"10\" d=\"M 97.128906 114.617188 L 21.421875 107.890625 \"/>\n<path fill=\"none\" stroke-width=\"1\" stroke-linecap=\"butt\" stroke-linejoin=\"miter\" stroke=\"rgb(26.666667%, 26.666667%, 26.666667%)\" stroke-opacity=\"1\" stroke-miterlimit=\"10\" d=\"M 97.128906 114.617188 L 30.488281 128.554688 \"/>\n<path fill=\"none\" stroke-width=\"1\" stroke-linecap=\"butt\" stroke-linejoin=\"miter\" stroke=\"rgb(26.666667%, 26.666667%, 26.666667%)\" stroke-opacity=\"1\" stroke-miterlimit=\"10\" d=\"M 97.128906 114.617188 L 20 118.640625 \"/>\n<path fill=\"none\" stroke-width=\"1\" stroke-linecap=\"butt\" stroke-linejoin=\"miter\" stroke=\"rgb(26.666667%, 26.666667%, 26.666667%)\" stroke-opacity=\"1\" stroke-miterlimit=\"10\" d=\"M 112.535156 102.261719 L 30.054688 94.839844 \"/>\n<path fill=\"none\" stroke-width=\"1\" stroke-linecap=\"butt\" stroke-linejoin=\"miter\" stroke=\"rgb(26.666667%, 26.666667%, 26.666667%)\" stroke-opacity=\"1\" stroke-miterlimit=\"10\" d=\"M 112.535156 102.261719 L 43.800781 104.554688 \"/>\n<path fill=\"none\" stroke-width=\"1\" stroke-linecap=\"butt\" stroke-linejoin=\"miter\" stroke=\"rgb(26.666667%, 26.666667%, 26.666667%)\" stroke-opacity=\"1\" stroke-miterlimit=\"10\" d=\"M 112.535156 102.261719 L 68.496094 92.117188 \"/>\n<path fill=\"none\" stroke-width=\"1\" stroke-linecap=\"butt\" stroke-linejoin=\"miter\" stroke=\"rgb(26.666667%, 26.666667%, 26.666667%)\" stroke-opacity=\"1\" stroke-miterlimit=\"10\" d=\"M 112.535156 102.261719 L 56.660156 116.785156 \"/>\n<path fill=\"none\" stroke-width=\"1\" stroke-linecap=\"butt\" stroke-linejoin=\"miter\" stroke=\"rgb(26.666667%, 26.666667%, 26.666667%)\" stroke-opacity=\"1\" stroke-miterlimit=\"10\" d=\"M 163.210938 130.457031 L 174.746094 149.375 \"/>\n<path fill=\"none\" stroke-width=\"1\" stroke-linecap=\"butt\" stroke-linejoin=\"miter\" stroke=\"rgb(26.666667%, 26.666667%, 26.666667%)\" stroke-opacity=\"1\" stroke-miterlimit=\"10\" d=\"M 163.210938 130.457031 L 109.621094 144.175781 \"/>\n<path fill=\"none\" stroke-width=\"1\" stroke-linecap=\"butt\" stroke-linejoin=\"miter\" stroke=\"rgb(26.666667%, 26.666667%, 26.666667%)\" stroke-opacity=\"1\" stroke-miterlimit=\"10\" d=\"M 163.210938 130.457031 L 160.710938 159.324219 \"/>\n<path fill=\"none\" stroke-width=\"1\" stroke-linecap=\"butt\" stroke-linejoin=\"miter\" stroke=\"rgb(26.666667%, 26.666667%, 26.666667%)\" stroke-opacity=\"1\" stroke-miterlimit=\"10\" d=\"M 163.210938 130.457031 L 126.183594 158.539062 \"/>\n<path fill=\"none\" stroke-width=\"1\" stroke-linecap=\"butt\" stroke-linejoin=\"miter\" stroke=\"rgb(26.666667%, 26.666667%, 26.666667%)\" stroke-opacity=\"1\" stroke-miterlimit=\"10\" d=\"M 132.171875 127.332031 L 134.933594 150.1875 \"/>\n<path fill=\"none\" stroke-width=\"1\" stroke-linecap=\"butt\" stroke-linejoin=\"miter\" stroke=\"rgb(26.666667%, 26.666667%, 26.666667%)\" stroke-opacity=\"1\" stroke-miterlimit=\"10\" d=\"M 132.171875 127.332031 L 68.421875 146.917969 \"/>\n<path fill=\"none\" stroke-width=\"1\" stroke-linecap=\"butt\" stroke-linejoin=\"miter\" stroke=\"rgb(26.666667%, 26.666667%, 26.666667%)\" stroke-opacity=\"1\" stroke-miterlimit=\"10\" d=\"M 132.171875 127.332031 L 95.566406 154.320312 \"/>\n<path fill=\"none\" stroke-width=\"1\" stroke-linecap=\"butt\" stroke-linejoin=\"miter\" stroke=\"rgb(26.666667%, 26.666667%, 26.666667%)\" stroke-opacity=\"1\" stroke-miterlimit=\"10\" d=\"M 132.171875 127.332031 L 74.773438 134.988281 \"/>\n<path fill=\"none\" stroke-width=\"1\" stroke-linecap=\"butt\" stroke-linejoin=\"miter\" stroke=\"rgb(26.666667%, 26.666667%, 26.666667%)\" stroke-opacity=\"1\" stroke-miterlimit=\"10\" d=\"M 158.652344 50.441406 L 110.074219 26.046875 \"/>\n<path fill=\"none\" stroke-width=\"1\" stroke-linecap=\"butt\" stroke-linejoin=\"miter\" stroke=\"rgb(26.666667%, 26.666667%, 26.666667%)\" stroke-opacity=\"1\" stroke-miterlimit=\"10\" d=\"M 158.652344 50.441406 L 107.59375 38.308594 \"/>\n<path fill=\"none\" stroke-width=\"1\" stroke-linecap=\"butt\" stroke-linejoin=\"miter\" stroke=\"rgb(26.666667%, 26.666667%, 26.666667%)\" stroke-opacity=\"1\" stroke-miterlimit=\"10\" d=\"M 158.652344 50.441406 L 176.179688 28.484375 \"/>\n<path fill=\"none\" stroke-width=\"1\" stroke-linecap=\"butt\" stroke-linejoin=\"miter\" stroke=\"rgb(26.666667%, 26.666667%, 26.666667%)\" stroke-opacity=\"1\" stroke-miterlimit=\"10\" d=\"M 158.652344 50.441406 L 141.363281 21.183594 \"/>\n<path fill=\"none\" stroke-width=\"1\" stroke-linecap=\"butt\" stroke-linejoin=\"miter\" stroke=\"rgb(26.666667%, 26.666667%, 26.666667%)\" stroke-opacity=\"1\" stroke-miterlimit=\"10\" d=\"M 118.835938 73 L 35.207031 63.5625 \"/>\n<path fill=\"none\" stroke-width=\"1\" stroke-linecap=\"butt\" stroke-linejoin=\"miter\" stroke=\"rgb(26.666667%, 26.666667%, 26.666667%)\" stroke-opacity=\"1\" stroke-miterlimit=\"10\" d=\"M 118.835938 73 L 76.480469 54.910156 \"/>\n<path fill=\"none\" stroke-width=\"1\" stroke-linecap=\"butt\" stroke-linejoin=\"miter\" stroke=\"rgb(26.666667%, 26.666667%, 26.666667%)\" stroke-opacity=\"1\" stroke-miterlimit=\"10\" d=\"M 118.835938 73 L 71.085938 78.332031 \"/>\n<path fill=\"none\" stroke-width=\"1\" stroke-linecap=\"butt\" stroke-linejoin=\"miter\" stroke=\"rgb(26.666667%, 26.666667%, 26.666667%)\" stroke-opacity=\"1\" stroke-miterlimit=\"10\" d=\"M 118.835938 73 L 40.414062 74.78125 \"/>\n<path fill=\"none\" stroke-width=\"1\" stroke-linecap=\"butt\" stroke-linejoin=\"miter\" stroke=\"rgb(26.666667%, 26.666667%, 26.666667%)\" stroke-opacity=\"1\" stroke-miterlimit=\"10\" d=\"M 119.308594 59.863281 L 85.058594 34.957031 \"/>\n<path fill=\"none\" stroke-width=\"1\" stroke-linecap=\"butt\" stroke-linejoin=\"miter\" stroke=\"rgb(26.666667%, 26.666667%, 26.666667%)\" stroke-opacity=\"1\" stroke-miterlimit=\"10\" d=\"M 119.308594 59.863281 L 55.179688 61.324219 \"/>\n<path fill=\"none\" stroke-width=\"1\" stroke-linecap=\"butt\" stroke-linejoin=\"miter\" stroke=\"rgb(26.666667%, 26.666667%, 26.666667%)\" stroke-opacity=\"1\" stroke-miterlimit=\"10\" d=\"M 119.308594 59.863281 L 42.0625 49.714844 \"/>\n<path fill=\"none\" stroke-width=\"1\" stroke-linecap=\"butt\" stroke-linejoin=\"miter\" stroke=\"rgb(26.666667%, 26.666667%, 26.666667%)\" stroke-opacity=\"1\" stroke-miterlimit=\"10\" d=\"M 119.308594 59.863281 L 62.246094 40.988281 \"/>\n<path fill=\"none\" stroke-width=\"1\" stroke-linecap=\"butt\" stroke-linejoin=\"miter\" stroke=\"rgb(26.666667%, 26.666667%, 26.666667%)\" stroke-opacity=\"1\" stroke-miterlimit=\"10\" d=\"M 191.40625 50.796875 L 148.671875 32.742188 \"/>\n<path fill=\"none\" stroke-width=\"1\" stroke-linecap=\"butt\" stroke-linejoin=\"miter\" stroke=\"rgb(26.666667%, 26.666667%, 26.666667%)\" stroke-opacity=\"1\" stroke-miterlimit=\"10\" d=\"M 191.40625 50.796875 L 175.296875 20 \"/>\n<path fill=\"none\" stroke-width=\"1\" stroke-linecap=\"butt\" stroke-linejoin=\"miter\" stroke=\"rgb(26.666667%, 26.666667%, 26.666667%)\" stroke-opacity=\"1\" stroke-miterlimit=\"10\" d=\"M 191.40625 50.796875 L 215.929688 34.636719 \"/>\n<path fill=\"none\" stroke-width=\"1\" stroke-linecap=\"butt\" stroke-linejoin=\"miter\" stroke=\"rgb(26.666667%, 26.666667%, 26.666667%)\" stroke-opacity=\"1\" stroke-miterlimit=\"10\" d=\"M 191.40625 50.796875 L 208.367188 22.976562 \"/>\n<path fill=\"none\" stroke-width=\"1\" stroke-linecap=\"butt\" stroke-linejoin=\"miter\" stroke=\"rgb(26.666667%, 26.666667%, 26.666667%)\" stroke-opacity=\"1\" stroke-miterlimit=\"10\" d=\"M 274.390625 52.296875 L 255.871094 35.003906 \"/>\n<path fill=\"none\" stroke-width=\"1\" stroke-linecap=\"butt\" stroke-linejoin=\"miter\" stroke=\"rgb(26.666667%, 26.666667%, 26.666667%)\" stroke-opacity=\"1\" stroke-miterlimit=\"10\" d=\"M 274.390625 52.296875 L 267.273438 23.863281 \"/>\n<path fill=\"none\" stroke-width=\"1\" stroke-linecap=\"butt\" stroke-linejoin=\"miter\" stroke=\"rgb(26.666667%, 26.666667%, 26.666667%)\" stroke-opacity=\"1\" stroke-miterlimit=\"10\" d=\"M 274.390625 52.296875 L 323.066406 36.304688 \"/>\n<path fill=\"none\" stroke-width=\"1\" stroke-linecap=\"butt\" stroke-linejoin=\"miter\" stroke=\"rgb(26.666667%, 26.666667%, 26.666667%)\" stroke-opacity=\"1\" stroke-miterlimit=\"10\" d=\"M 274.390625 52.296875 L 301.289062 22.507812 \"/>\n<path fill=\"none\" stroke-width=\"1\" stroke-linecap=\"butt\" stroke-linejoin=\"miter\" stroke=\"rgb(26.666667%, 26.666667%, 26.666667%)\" stroke-opacity=\"1\" stroke-miterlimit=\"10\" d=\"M 306.871094 53.515625 L 363.355469 31.292969 \"/>\n<path fill=\"none\" stroke-width=\"1\" stroke-linecap=\"butt\" stroke-linejoin=\"miter\" stroke=\"rgb(26.666667%, 26.666667%, 26.666667%)\" stroke-opacity=\"1\" stroke-miterlimit=\"10\" d=\"M 306.871094 53.515625 L 361.558594 43.519531 \"/>\n<path fill=\"none\" stroke-width=\"1\" stroke-linecap=\"butt\" stroke-linejoin=\"miter\" stroke=\"rgb(26.666667%, 26.666667%, 26.666667%)\" stroke-opacity=\"1\" stroke-miterlimit=\"10\" d=\"M 306.871094 53.515625 L 334.0625 25.140625 \"/>\n<path fill=\"none\" stroke-width=\"1\" stroke-linecap=\"butt\" stroke-linejoin=\"miter\" stroke=\"rgb(26.666667%, 26.666667%, 26.666667%)\" stroke-opacity=\"1\" stroke-miterlimit=\"10\" d=\"M 306.871094 53.515625 L 296.941406 30.960938 \"/>\n<path fill=\"none\" stroke-width=\"1\" stroke-linecap=\"butt\" stroke-linejoin=\"miter\" stroke=\"rgb(26.666667%, 26.666667%, 26.666667%)\" stroke-opacity=\"1\" stroke-miterlimit=\"10\" d=\"M 345.648438 64.582031 L 422.464844 67.941406 \"/>\n<path fill=\"none\" stroke-width=\"1\" stroke-linecap=\"butt\" stroke-linejoin=\"miter\" stroke=\"rgb(26.666667%, 26.666667%, 26.666667%)\" stroke-opacity=\"1\" stroke-miterlimit=\"10\" d=\"M 345.648438 64.582031 L 406.929688 47.84375 \"/>\n<path fill=\"none\" stroke-width=\"1\" stroke-linecap=\"butt\" stroke-linejoin=\"miter\" stroke=\"rgb(26.666667%, 26.666667%, 26.666667%)\" stroke-opacity=\"1\" stroke-miterlimit=\"10\" d=\"M 345.648438 64.582031 L 420.726562 57.167969 \"/>\n<path fill=\"none\" stroke-width=\"1\" stroke-linecap=\"butt\" stroke-linejoin=\"miter\" stroke=\"rgb(26.666667%, 26.666667%, 26.666667%)\" stroke-opacity=\"1\" stroke-miterlimit=\"10\" d=\"M 345.648438 64.582031 L 386.214844 41.144531 \"/>\n<path fill=\"none\" stroke-width=\"1\" stroke-linecap=\"butt\" stroke-linejoin=\"miter\" stroke=\"rgb(26.666667%, 26.666667%, 26.666667%)\" stroke-opacity=\"1\" stroke-miterlimit=\"10\" d=\"M 335.507812 77.570312 L 385.710938 60.839844 \"/>\n<path fill=\"none\" stroke-width=\"1\" stroke-linecap=\"butt\" stroke-linejoin=\"miter\" stroke=\"rgb(26.666667%, 26.666667%, 26.666667%)\" stroke-opacity=\"1\" stroke-miterlimit=\"10\" d=\"M 335.507812 77.570312 L 385.148438 85.707031 \"/>\n<path fill=\"none\" stroke-width=\"1\" stroke-linecap=\"butt\" stroke-linejoin=\"miter\" stroke=\"rgb(26.666667%, 26.666667%, 26.666667%)\" stroke-opacity=\"1\" stroke-miterlimit=\"10\" d=\"M 335.507812 77.570312 L 402.785156 72.335938 \"/>\n<path fill=\"none\" stroke-width=\"1\" stroke-linecap=\"butt\" stroke-linejoin=\"miter\" stroke=\"rgb(26.666667%, 26.666667%, 26.666667%)\" stroke-opacity=\"1\" stroke-miterlimit=\"10\" d=\"M 335.507812 77.570312 L 418.984375 81.625 \"/>\n<path fill=\"none\" stroke-width=\"1\" stroke-linecap=\"butt\" stroke-linejoin=\"miter\" stroke=\"rgb(26.666667%, 26.666667%, 26.666667%)\" stroke-opacity=\"1\" stroke-miterlimit=\"10\" d=\"M 415.460938 140.011719 L 457.285156 155.917969 \"/>\n<path fill=\"none\" stroke-width=\"1\" stroke-linecap=\"butt\" stroke-linejoin=\"miter\" stroke=\"rgb(26.666667%, 26.666667%, 26.666667%)\" stroke-opacity=\"1\" stroke-miterlimit=\"10\" d=\"M 415.460938 140.011719 L 480 130.867188 \"/>\n<path fill=\"none\" stroke-width=\"1\" stroke-linecap=\"butt\" stroke-linejoin=\"miter\" stroke=\"rgb(26.666667%, 26.666667%, 26.666667%)\" stroke-opacity=\"1\" stroke-miterlimit=\"10\" d=\"M 415.460938 140.011719 L 476.070312 143.34375 \"/>\n<path fill=\"none\" stroke-width=\"1\" stroke-linecap=\"butt\" stroke-linejoin=\"miter\" stroke=\"rgb(26.666667%, 26.666667%, 26.666667%)\" stroke-opacity=\"1\" stroke-miterlimit=\"10\" d=\"M 415.460938 140.011719 L 429.3125 164.585938 \"/>\n<path fill=\"none\" stroke-width=\"1\" stroke-linecap=\"butt\" stroke-linejoin=\"miter\" stroke=\"rgb(26.666667%, 26.666667%, 26.666667%)\" stroke-opacity=\"1\" stroke-miterlimit=\"10\" d=\"M 353.351562 155.390625 L 367.050781 180 \"/>\n<path fill-rule=\"nonzero\" fill=\"rgb(100%, 0%, 0%)\" fill-opacity=\"1\" stroke-width=\"1\" stroke-linecap=\"butt\" stroke-linejoin=\"miter\" stroke=\"rgb(0%, 0%, 0%)\" stroke-opacity=\"1\" stroke-miterlimit=\"10\" d=\"M 234.367188 91.75 C 234.367188 97.273438 229.890625 101.75 224.367188 101.75 C 218.84375 101.75 214.367188 97.273438 214.367188 91.75 C 214.367188 86.230469 218.84375 81.75 224.367188 81.75 C 229.890625 81.75 234.367188 86.230469 234.367188 91.75 \"/>\n<path fill-rule=\"nonzero\" fill=\"rgb(100%, 0%, 0%)\" fill-opacity=\"1\" stroke-width=\"1\" stroke-linecap=\"butt\" stroke-linejoin=\"miter\" stroke=\"rgb(0%, 0%, 0%)\" stroke-opacity=\"1\" stroke-miterlimit=\"10\" d=\"M 282.121094 112.257812 C 282.121094 117.78125 277.644531 122.257812 272.121094 122.257812 C 266.597656 122.257812 262.121094 117.78125 262.121094 112.257812 C 262.121094 106.734375 266.597656 102.257812 272.121094 102.257812 C 277.644531 102.257812 282.121094 106.734375 282.121094 112.257812 \"/>\n<path fill-rule=\"nonzero\" fill=\"rgb(100%, 0%, 0%)\" fill-opacity=\"1\" stroke-width=\"1\" stroke-linecap=\"butt\" stroke-linejoin=\"miter\" stroke=\"rgb(0%, 0%, 0%)\" stroke-opacity=\"1\" stroke-miterlimit=\"10\" d=\"M 175.253906 108.289062 C 175.253906 113.8125 170.777344 118.289062 165.253906 118.289062 C 159.730469 118.289062 155.253906 113.8125 155.253906 108.289062 C 155.253906 102.769531 159.730469 98.289062 165.253906 98.289062 C 170.777344 98.289062 175.253906 102.769531 175.253906 108.289062 \"/>\n<path fill-rule=\"nonzero\" fill=\"rgb(100%, 0%, 0%)\" fill-opacity=\"1\" stroke-width=\"1\" stroke-linecap=\"butt\" stroke-linejoin=\"miter\" stroke=\"rgb(0%, 0%, 0%)\" stroke-opacity=\"1\" stroke-miterlimit=\"10\" d=\"M 187.703125 71.769531 C 187.703125 77.292969 183.226562 81.769531 177.703125 81.769531 C 172.183594 81.769531 167.703125 77.292969 167.703125 71.769531 C 167.703125 66.246094 172.183594 61.769531 177.703125 61.769531 C 183.226562 61.769531 187.703125 66.246094 187.703125 71.769531 \"/>\n<path fill-rule=\"nonzero\" fill=\"rgb(100%, 0%, 0%)\" fill-opacity=\"1\" stroke-width=\"1\" stroke-linecap=\"butt\" stroke-linejoin=\"miter\" stroke=\"rgb(0%, 0%, 0%)\" stroke-opacity=\"1\" stroke-miterlimit=\"10\" d=\"M 289.925781 73.742188 C 289.925781 79.265625 285.449219 83.742188 279.925781 83.742188 C 274.402344 83.742188 269.925781 79.265625 269.925781 73.742188 C 269.925781 68.21875 274.402344 63.742188 279.925781 63.742188 C 285.449219 63.742188 289.925781 68.21875 289.925781 73.742188 \"/>\n<path fill-rule=\"nonzero\" fill=\"rgb(100%, 0%, 0%)\" fill-opacity=\"1\" stroke-width=\"1\" stroke-linecap=\"butt\" stroke-linejoin=\"miter\" stroke=\"rgb(0%, 0%, 0%)\" stroke-opacity=\"1\" stroke-miterlimit=\"10\" d=\"M 347.550781 128.179688 C 347.550781 133.703125 343.074219 138.179688 337.550781 138.179688 C 332.03125 138.179688 327.550781 133.703125 327.550781 128.179688 C 327.550781 122.65625 332.03125 118.179688 337.550781 118.179688 C 343.074219 118.179688 347.550781 122.65625 347.550781 128.179688 \"/>\n<path fill-rule=\"nonzero\" fill=\"rgb(100%, 0%, 0%)\" fill-opacity=\"1\" stroke-width=\"1\" stroke-linecap=\"butt\" stroke-linejoin=\"miter\" stroke=\"rgb(0%, 0%, 0%)\" stroke-opacity=\"1\" stroke-miterlimit=\"10\" d=\"M 331.417969 108.226562 C 331.417969 113.75 326.941406 118.226562 321.417969 118.226562 C 315.898438 118.226562 311.417969 113.75 311.417969 108.226562 C 311.417969 102.703125 315.898438 98.226562 321.417969 98.226562 C 326.941406 98.226562 331.417969 102.703125 331.417969 108.226562 \"/>\n<path fill-rule=\"nonzero\" fill=\"rgb(100%, 0%, 0%)\" fill-opacity=\"1\" stroke-width=\"1\" stroke-linecap=\"butt\" stroke-linejoin=\"miter\" stroke=\"rgb(0%, 0%, 0%)\" stroke-opacity=\"1\" stroke-miterlimit=\"10\" d=\"M 291.449219 131.5625 C 291.449219 137.085938 286.972656 141.5625 281.449219 141.5625 C 275.925781 141.5625 271.449219 137.085938 271.449219 131.5625 C 271.449219 126.039062 275.925781 121.5625 281.449219 121.5625 C 286.972656 121.5625 291.449219 126.039062 291.449219 131.5625 \"/>\n<path fill-rule=\"nonzero\" fill=\"rgb(100%, 0%, 0%)\" fill-opacity=\"1\" stroke-width=\"1\" stroke-linecap=\"butt\" stroke-linejoin=\"miter\" stroke=\"rgb(0%, 0%, 0%)\" stroke-opacity=\"1\" stroke-miterlimit=\"10\" d=\"M 261.894531 131.398438 C 261.894531 136.921875 257.417969 141.398438 251.894531 141.398438 C 246.375 141.398438 241.894531 136.921875 241.894531 131.398438 C 241.894531 125.875 246.375 121.398438 251.894531 121.398438 C 257.417969 121.398438 261.894531 125.875 261.894531 131.398438 \"/>\n<path fill-rule=\"nonzero\" fill=\"rgb(100%, 0%, 0%)\" fill-opacity=\"1\" stroke-width=\"1\" stroke-linecap=\"butt\" stroke-linejoin=\"miter\" stroke=\"rgb(0%, 0%, 0%)\" stroke-opacity=\"1\" stroke-miterlimit=\"10\" d=\"M 107.128906 114.617188 C 107.128906 120.140625 102.652344 124.617188 97.128906 124.617188 C 91.609375 124.617188 87.128906 120.140625 87.128906 114.617188 C 87.128906 109.09375 91.609375 104.617188 97.128906 104.617188 C 102.652344 104.617188 107.128906 109.09375 107.128906 114.617188 \"/>\n<path fill-rule=\"nonzero\" fill=\"rgb(100%, 0%, 0%)\" fill-opacity=\"1\" stroke-width=\"1\" stroke-linecap=\"butt\" stroke-linejoin=\"miter\" stroke=\"rgb(0%, 0%, 0%)\" stroke-opacity=\"1\" stroke-miterlimit=\"10\" d=\"M 122.535156 102.261719 C 122.535156 107.78125 118.058594 112.261719 112.535156 112.261719 C 107.011719 112.261719 102.535156 107.78125 102.535156 102.261719 C 102.535156 96.738281 107.011719 92.261719 112.535156 92.261719 C 118.058594 92.261719 122.535156 96.738281 122.535156 102.261719 \"/>\n<path fill-rule=\"nonzero\" fill=\"rgb(100%, 0%, 0%)\" fill-opacity=\"1\" stroke-width=\"1\" stroke-linecap=\"butt\" stroke-linejoin=\"miter\" stroke=\"rgb(0%, 0%, 0%)\" stroke-opacity=\"1\" stroke-miterlimit=\"10\" d=\"M 173.210938 130.457031 C 173.210938 135.980469 168.734375 140.457031 163.210938 140.457031 C 157.6875 140.457031 153.210938 135.980469 153.210938 130.457031 C 153.210938 124.933594 157.6875 120.457031 163.210938 120.457031 C 168.734375 120.457031 173.210938 124.933594 173.210938 130.457031 \"/>\n<path fill-rule=\"nonzero\" fill=\"rgb(100%, 0%, 0%)\" fill-opacity=\"1\" stroke-width=\"1\" stroke-linecap=\"butt\" stroke-linejoin=\"miter\" stroke=\"rgb(0%, 0%, 0%)\" stroke-opacity=\"1\" stroke-miterlimit=\"10\" d=\"M 142.171875 127.332031 C 142.171875 132.855469 137.695312 137.332031 132.171875 137.332031 C 126.648438 137.332031 122.171875 132.855469 122.171875 127.332031 C 122.171875 121.808594 126.648438 117.332031 132.171875 117.332031 C 137.695312 117.332031 142.171875 121.808594 142.171875 127.332031 \"/>\n<path fill-rule=\"nonzero\" fill=\"rgb(100%, 0%, 0%)\" fill-opacity=\"1\" stroke-width=\"1\" stroke-linecap=\"butt\" stroke-linejoin=\"miter\" stroke=\"rgb(0%, 0%, 0%)\" stroke-opacity=\"1\" stroke-miterlimit=\"10\" d=\"M 168.652344 50.441406 C 168.652344 55.964844 164.175781 60.441406 158.652344 60.441406 C 153.128906 60.441406 148.652344 55.964844 148.652344 50.441406 C 148.652344 44.917969 153.128906 40.441406 158.652344 40.441406 C 164.175781 40.441406 168.652344 44.917969 168.652344 50.441406 \"/>\n<path fill-rule=\"nonzero\" fill=\"rgb(100%, 0%, 0%)\" fill-opacity=\"1\" stroke-width=\"1\" stroke-linecap=\"butt\" stroke-linejoin=\"miter\" stroke=\"rgb(0%, 0%, 0%)\" stroke-opacity=\"1\" stroke-miterlimit=\"10\" d=\"M 128.835938 73 C 128.835938 78.523438 124.359375 83 118.835938 83 C 113.316406 83 108.835938 78.523438 108.835938 73 C 108.835938 67.476562 113.316406 63 118.835938 63 C 124.359375 63 128.835938 67.476562 128.835938 73 \"/>\n<path fill-rule=\"nonzero\" fill=\"rgb(100%, 0%, 0%)\" fill-opacity=\"1\" stroke-width=\"1\" stroke-linecap=\"butt\" stroke-linejoin=\"miter\" stroke=\"rgb(0%, 0%, 0%)\" stroke-opacity=\"1\" stroke-miterlimit=\"10\" d=\"M 129.308594 59.863281 C 129.308594 65.386719 124.832031 69.863281 119.308594 69.863281 C 113.789062 69.863281 109.308594 65.386719 109.308594 59.863281 C 109.308594 54.339844 113.789062 49.863281 119.308594 49.863281 C 124.832031 49.863281 129.308594 54.339844 129.308594 59.863281 \"/>\n<path fill-rule=\"nonzero\" fill=\"rgb(100%, 0%, 0%)\" fill-opacity=\"1\" stroke-width=\"1\" stroke-linecap=\"butt\" stroke-linejoin=\"miter\" stroke=\"rgb(0%, 0%, 0%)\" stroke-opacity=\"1\" stroke-miterlimit=\"10\" d=\"M 201.40625 50.796875 C 201.40625 56.320312 196.925781 60.796875 191.40625 60.796875 C 185.882812 60.796875 181.40625 56.320312 181.40625 50.796875 C 181.40625 45.273438 185.882812 40.796875 191.40625 40.796875 C 196.925781 40.796875 201.40625 45.273438 201.40625 50.796875 \"/>\n<path fill-rule=\"nonzero\" fill=\"rgb(100%, 0%, 0%)\" fill-opacity=\"1\" stroke-width=\"1\" stroke-linecap=\"butt\" stroke-linejoin=\"miter\" stroke=\"rgb(0%, 0%, 0%)\" stroke-opacity=\"1\" stroke-miterlimit=\"10\" d=\"M 284.390625 52.296875 C 284.390625 57.820312 279.914062 62.296875 274.390625 62.296875 C 268.867188 62.296875 264.390625 57.820312 264.390625 52.296875 C 264.390625 46.773438 268.867188 42.296875 274.390625 42.296875 C 279.914062 42.296875 284.390625 46.773438 284.390625 52.296875 \"/>\n<path fill-rule=\"nonzero\" fill=\"rgb(100%, 0%, 0%)\" fill-opacity=\"1\" stroke-width=\"1\" stroke-linecap=\"butt\" stroke-linejoin=\"miter\" stroke=\"rgb(0%, 0%, 0%)\" stroke-opacity=\"1\" stroke-miterlimit=\"10\" d=\"M 316.871094 53.515625 C 316.871094 59.039062 312.394531 63.515625 306.871094 63.515625 C 301.347656 63.515625 296.871094 59.039062 296.871094 53.515625 C 296.871094 47.992188 301.347656 43.515625 306.871094 43.515625 C 312.394531 43.515625 316.871094 47.992188 316.871094 53.515625 \"/>\n<path fill-rule=\"nonzero\" fill=\"rgb(100%, 0%, 0%)\" fill-opacity=\"1\" stroke-width=\"1\" stroke-linecap=\"butt\" stroke-linejoin=\"miter\" stroke=\"rgb(0%, 0%, 0%)\" stroke-opacity=\"1\" stroke-miterlimit=\"10\" d=\"M 355.648438 64.582031 C 355.648438 70.105469 351.171875 74.582031 345.648438 74.582031 C 340.125 74.582031 335.648438 70.105469 335.648438 64.582031 C 335.648438 59.058594 340.125 54.582031 345.648438 54.582031 C 351.171875 54.582031 355.648438 59.058594 355.648438 64.582031 \"/>\n<path fill-rule=\"nonzero\" fill=\"rgb(100%, 0%, 0%)\" fill-opacity=\"1\" stroke-width=\"1\" stroke-linecap=\"butt\" stroke-linejoin=\"miter\" stroke=\"rgb(0%, 0%, 0%)\" stroke-opacity=\"1\" stroke-miterlimit=\"10\" d=\"M 345.507812 77.570312 C 345.507812 83.09375 341.027344 87.570312 335.507812 87.570312 C 329.984375 87.570312 325.507812 83.09375 325.507812 77.570312 C 325.507812 72.046875 329.984375 67.570312 335.507812 67.570312 C 341.027344 67.570312 345.507812 72.046875 345.507812 77.570312 \"/>\n<path fill-rule=\"nonzero\" fill=\"rgb(100%, 0%, 0%)\" fill-opacity=\"1\" stroke-width=\"1\" stroke-linecap=\"butt\" stroke-linejoin=\"miter\" stroke=\"rgb(0%, 0%, 0%)\" stroke-opacity=\"1\" stroke-miterlimit=\"10\" d=\"M 425.460938 140.011719 C 425.460938 145.535156 420.984375 150.011719 415.460938 150.011719 C 409.9375 150.011719 405.460938 145.535156 405.460938 140.011719 C 405.460938 134.488281 409.9375 130.011719 415.460938 130.011719 C 420.984375 130.011719 425.460938 134.488281 425.460938 140.011719 \"/>\n<path fill-rule=\"nonzero\" fill=\"rgb(100%, 0%, 0%)\" fill-opacity=\"1\" stroke-width=\"1\" stroke-linecap=\"butt\" stroke-linejoin=\"miter\" stroke=\"rgb(0%, 0%, 0%)\" stroke-opacity=\"1\" stroke-miterlimit=\"10\" d=\"M 363.351562 155.390625 C 363.351562 160.914062 358.875 165.390625 353.351562 165.390625 C 347.832031 165.390625 343.351562 160.914062 343.351562 155.390625 C 343.351562 149.871094 347.832031 145.390625 353.351562 145.390625 C 358.875 145.390625 363.351562 149.871094 363.351562 155.390625 \"/>\n<path fill-rule=\"nonzero\" fill=\"rgb(100%, 0%, 0%)\" fill-opacity=\"1\" stroke-width=\"1\" stroke-linecap=\"butt\" stroke-linejoin=\"miter\" stroke=\"rgb(0%, 0%, 0%)\" stroke-opacity=\"1\" stroke-miterlimit=\"10\" d=\"M 403.664062 125.914062 C 403.664062 131.4375 399.1875 135.914062 393.664062 135.914062 C 388.140625 135.914062 383.664062 131.4375 383.664062 125.914062 C 383.664062 120.390625 388.140625 115.914062 393.664062 115.914062 C 399.1875 115.914062 403.664062 120.390625 403.664062 125.914062 \"/>\n<path fill-rule=\"nonzero\" fill=\"rgb(100%, 0%, 0%)\" fill-opacity=\"1\" stroke-width=\"1\" stroke-linecap=\"butt\" stroke-linejoin=\"miter\" stroke=\"rgb(0%, 0%, 0%)\" stroke-opacity=\"1\" stroke-miterlimit=\"10\" d=\"M 379.371094 141.199219 C 379.371094 146.722656 374.894531 151.199219 369.371094 151.199219 C 363.847656 151.199219 359.371094 146.722656 359.371094 141.199219 C 359.371094 135.675781 363.847656 131.199219 369.371094 131.199219 C 374.894531 131.199219 379.371094 135.675781 379.371094 141.199219 \"/>\n<path fill-rule=\"nonzero\" fill=\"rgb(100%, 0%, 0%)\" fill-opacity=\"1\" stroke-width=\"1\" stroke-linecap=\"butt\" stroke-linejoin=\"miter\" stroke=\"rgb(0%, 0%, 0%)\" stroke-opacity=\"1\" stroke-miterlimit=\"10\" d=\"M 370.152344 99.363281 C 370.152344 104.886719 365.675781 109.363281 360.152344 109.363281 C 354.628906 109.363281 350.152344 104.886719 350.152344 99.363281 C 350.152344 93.839844 354.628906 89.363281 360.152344 89.363281 C 365.675781 89.363281 370.152344 93.839844 370.152344 99.363281 \"/>\n<path fill-rule=\"nonzero\" fill=\"rgb(100%, 0%, 0%)\" fill-opacity=\"1\" stroke-width=\"1\" stroke-linecap=\"butt\" stroke-linejoin=\"miter\" stroke=\"rgb(0%, 0%, 0%)\" stroke-opacity=\"1\" stroke-miterlimit=\"10\" d=\"M 409.597656 112.953125 C 409.597656 118.476562 405.121094 122.953125 399.597656 122.953125 C 394.078125 122.953125 389.597656 118.476562 389.597656 112.953125 C 389.597656 107.429688 394.078125 102.953125 399.597656 102.953125 C 405.121094 102.953125 409.597656 107.429688 409.597656 112.953125 \"/>\n<path fill-rule=\"nonzero\" fill=\"rgb(100%, 0%, 0%)\" fill-opacity=\"1\" stroke-width=\"1\" stroke-linecap=\"butt\" stroke-linejoin=\"miter\" stroke=\"rgb(0%, 0%, 0%)\" stroke-opacity=\"1\" stroke-miterlimit=\"10\" d=\"M 376.4375 118.980469 C 376.4375 124.503906 371.960938 128.980469 366.4375 128.980469 C 360.914062 128.980469 356.4375 124.503906 356.4375 118.980469 C 356.4375 113.457031 360.914062 108.980469 366.4375 108.980469 C 371.960938 108.980469 376.4375 113.457031 376.4375 118.980469 \"/>\n<path fill-rule=\"nonzero\" fill=\"rgb(100%, 0%, 0%)\" fill-opacity=\"1\" stroke-width=\"1\" stroke-linecap=\"butt\" stroke-linejoin=\"miter\" stroke=\"rgb(0%, 0%, 0%)\" stroke-opacity=\"1\" stroke-miterlimit=\"10\" d=\"M 404.960938 102.972656 C 404.960938 108.496094 400.484375 112.972656 394.960938 112.972656 C 389.4375 112.972656 384.960938 108.496094 384.960938 102.972656 C 384.960938 97.449219 389.4375 92.972656 394.960938 92.972656 C 400.484375 92.972656 404.960938 97.449219 404.960938 102.972656 \"/>\n<path fill-rule=\"nonzero\" fill=\"rgb(100%, 0%, 0%)\" fill-opacity=\"1\" stroke-width=\"1\" stroke-linecap=\"butt\" stroke-linejoin=\"miter\" stroke=\"rgb(0%, 0%, 0%)\" stroke-opacity=\"1\" stroke-miterlimit=\"10\" d=\"M 323.292969 156.292969 C 323.292969 161.816406 318.816406 166.292969 313.292969 166.292969 C 307.769531 166.292969 303.292969 161.816406 303.292969 156.292969 C 303.292969 150.769531 307.769531 146.292969 313.292969 146.292969 C 318.816406 146.292969 323.292969 150.769531 323.292969 156.292969 \"/>\n<path fill-rule=\"nonzero\" fill=\"rgb(100%, 0%, 0%)\" fill-opacity=\"1\" stroke-width=\"1\" stroke-linecap=\"butt\" stroke-linejoin=\"miter\" stroke=\"rgb(0%, 0%, 0%)\" stroke-opacity=\"1\" stroke-miterlimit=\"10\" d=\"M 293.410156 162.074219 C 293.410156 167.597656 288.933594 172.074219 283.410156 172.074219 C 277.886719 172.074219 273.410156 167.597656 273.410156 162.074219 C 273.410156 156.550781 277.886719 152.074219 283.410156 152.074219 C 288.933594 152.074219 293.410156 156.550781 293.410156 162.074219 \"/>\n<path fill-rule=\"nonzero\" fill=\"rgb(100%, 0%, 0%)\" fill-opacity=\"1\" stroke-width=\"1\" stroke-linecap=\"butt\" stroke-linejoin=\"miter\" stroke=\"rgb(0%, 0%, 0%)\" stroke-opacity=\"1\" stroke-miterlimit=\"10\" d=\"M 337.710938 143.640625 C 337.710938 149.164062 333.234375 153.640625 327.710938 153.640625 C 322.1875 153.640625 317.710938 149.164062 317.710938 143.640625 C 317.710938 138.117188 322.1875 133.640625 327.710938 133.640625 C 333.234375 133.640625 337.710938 138.117188 337.710938 143.640625 \"/>\n<path fill-rule=\"nonzero\" fill=\"rgb(100%, 0%, 0%)\" fill-opacity=\"1\" stroke-width=\"1\" stroke-linecap=\"butt\" stroke-linejoin=\"miter\" stroke=\"rgb(0%, 0%, 0%)\" stroke-opacity=\"1\" stroke-miterlimit=\"10\" d=\"M 263.816406 151.152344 C 263.816406 156.675781 259.339844 161.152344 253.816406 161.152344 C 248.292969 161.152344 243.816406 156.675781 243.816406 151.152344 C 243.816406 145.628906 248.292969 141.152344 253.816406 141.152344 C 259.339844 141.152344 263.816406 145.628906 263.816406 151.152344 \"/>\n<path fill-rule=\"nonzero\" fill=\"rgb(100%, 0%, 0%)\" fill-opacity=\"1\" stroke-width=\"1\" stroke-linecap=\"butt\" stroke-linejoin=\"miter\" stroke=\"rgb(0%, 0%, 0%)\" stroke-opacity=\"1\" stroke-miterlimit=\"10\" d=\"M 230.117188 145.0625 C 230.117188 150.585938 225.640625 155.0625 220.117188 155.0625 C 214.597656 155.0625 210.117188 150.585938 210.117188 145.0625 C 210.117188 139.539062 214.597656 135.0625 220.117188 135.0625 C 225.640625 135.0625 230.117188 139.539062 230.117188 145.0625 \"/>\n<path fill-rule=\"nonzero\" fill=\"rgb(100%, 0%, 0%)\" fill-opacity=\"1\" stroke-width=\"1\" stroke-linecap=\"butt\" stroke-linejoin=\"miter\" stroke=\"rgb(0%, 0%, 0%)\" stroke-opacity=\"1\" stroke-miterlimit=\"10\" d=\"M 236.78125 158.289062 C 236.78125 163.8125 232.304688 168.289062 226.78125 168.289062 C 221.257812 168.289062 216.78125 163.8125 216.78125 158.289062 C 216.78125 152.765625 221.257812 148.289062 226.78125 148.289062 C 232.304688 148.289062 236.78125 152.765625 236.78125 158.289062 \"/>\n<path fill-rule=\"nonzero\" fill=\"rgb(100%, 0%, 0%)\" fill-opacity=\"1\" stroke-width=\"1\" stroke-linecap=\"butt\" stroke-linejoin=\"miter\" stroke=\"rgb(0%, 0%, 0%)\" stroke-opacity=\"1\" stroke-miterlimit=\"10\" d=\"M 265.988281 162.574219 C 265.988281 168.097656 261.507812 172.574219 255.988281 172.574219 C 250.464844 172.574219 245.988281 168.097656 245.988281 162.574219 C 245.988281 157.050781 250.464844 152.574219 255.988281 152.574219 C 261.507812 152.574219 265.988281 157.050781 265.988281 162.574219 \"/>\n<path fill-rule=\"nonzero\" fill=\"rgb(100%, 0%, 0%)\" fill-opacity=\"1\" stroke-width=\"1\" stroke-linecap=\"butt\" stroke-linejoin=\"miter\" stroke=\"rgb(0%, 0%, 0%)\" stroke-opacity=\"1\" stroke-miterlimit=\"10\" d=\"M 295.617188 149.960938 C 295.617188 155.484375 291.140625 159.960938 285.617188 159.960938 C 280.09375 159.960938 275.617188 155.484375 275.617188 149.960938 C 275.617188 144.4375 280.09375 139.960938 285.617188 139.960938 C 291.140625 139.960938 295.617188 144.4375 295.617188 149.960938 \"/>\n<path fill-rule=\"nonzero\" fill=\"rgb(100%, 0%, 0%)\" fill-opacity=\"1\" stroke-width=\"1\" stroke-linecap=\"butt\" stroke-linejoin=\"miter\" stroke=\"rgb(0%, 0%, 0%)\" stroke-opacity=\"1\" stroke-miterlimit=\"10\" d=\"M 59.039062 136.035156 C 59.039062 141.558594 54.5625 146.035156 49.039062 146.035156 C 43.515625 146.035156 39.039062 141.558594 39.039062 136.035156 C 39.039062 130.511719 43.515625 126.035156 49.039062 126.035156 C 54.5625 126.035156 59.039062 130.511719 59.039062 136.035156 \"/>\n<path fill-rule=\"nonzero\" fill=\"rgb(100%, 0%, 0%)\" fill-opacity=\"1\" stroke-width=\"1\" stroke-linecap=\"butt\" stroke-linejoin=\"miter\" stroke=\"rgb(0%, 0%, 0%)\" stroke-opacity=\"1\" stroke-miterlimit=\"10\" d=\"M 31.421875 107.890625 C 31.421875 113.414062 26.945312 117.890625 21.421875 117.890625 C 15.898438 117.890625 11.421875 113.414062 11.421875 107.890625 C 11.421875 102.367188 15.898438 97.890625 21.421875 97.890625 C 26.945312 97.890625 31.421875 102.367188 31.421875 107.890625 \"/>\n<path fill-rule=\"nonzero\" fill=\"rgb(100%, 0%, 0%)\" fill-opacity=\"1\" stroke-width=\"1\" stroke-linecap=\"butt\" stroke-linejoin=\"miter\" stroke=\"rgb(0%, 0%, 0%)\" stroke-opacity=\"1\" stroke-miterlimit=\"10\" d=\"M 40.488281 128.554688 C 40.488281 134.078125 36.011719 138.554688 30.488281 138.554688 C 24.964844 138.554688 20.488281 134.078125 20.488281 128.554688 C 20.488281 123.03125 24.964844 118.554688 30.488281 118.554688 C 36.011719 118.554688 40.488281 123.03125 40.488281 128.554688 \"/>\n<path fill-rule=\"nonzero\" fill=\"rgb(100%, 0%, 0%)\" fill-opacity=\"1\" stroke-width=\"1\" stroke-linecap=\"butt\" stroke-linejoin=\"miter\" stroke=\"rgb(0%, 0%, 0%)\" stroke-opacity=\"1\" stroke-miterlimit=\"10\" d=\"M 30 118.640625 C 30 124.164062 25.523438 128.640625 20 128.640625 C 14.476562 128.640625 10 124.164062 10 118.640625 C 10 113.117188 14.476562 108.640625 20 108.640625 C 25.523438 108.640625 30 113.117188 30 118.640625 \"/>\n<path fill-rule=\"nonzero\" fill=\"rgb(100%, 0%, 0%)\" fill-opacity=\"1\" stroke-width=\"1\" stroke-linecap=\"butt\" stroke-linejoin=\"miter\" stroke=\"rgb(0%, 0%, 0%)\" stroke-opacity=\"1\" stroke-miterlimit=\"10\" d=\"M 40.054688 94.839844 C 40.054688 100.363281 35.574219 104.839844 30.054688 104.839844 C 24.53125 104.839844 20.054688 100.363281 20.054688 94.839844 C 20.054688 89.316406 24.53125 84.839844 30.054688 84.839844 C 35.574219 84.839844 40.054688 89.316406 40.054688 94.839844 \"/>\n<path fill-rule=\"nonzero\" fill=\"rgb(100%, 0%, 0%)\" fill-opacity=\"1\" stroke-width=\"1\" stroke-linecap=\"butt\" stroke-linejoin=\"miter\" stroke=\"rgb(0%, 0%, 0%)\" stroke-opacity=\"1\" stroke-miterlimit=\"10\" d=\"M 53.800781 104.554688 C 53.800781 110.078125 49.324219 114.554688 43.800781 114.554688 C 38.28125 114.554688 33.800781 110.078125 33.800781 104.554688 C 33.800781 99.03125 38.28125 94.554688 43.800781 94.554688 C 49.324219 94.554688 53.800781 99.03125 53.800781 104.554688 \"/>\n<path fill-rule=\"nonzero\" fill=\"rgb(100%, 0%, 0%)\" fill-opacity=\"1\" stroke-width=\"1\" stroke-linecap=\"butt\" stroke-linejoin=\"miter\" stroke=\"rgb(0%, 0%, 0%)\" stroke-opacity=\"1\" stroke-miterlimit=\"10\" d=\"M 78.496094 92.117188 C 78.496094 97.640625 74.019531 102.117188 68.496094 102.117188 C 62.972656 102.117188 58.496094 97.640625 58.496094 92.117188 C 58.496094 86.59375 62.972656 82.117188 68.496094 82.117188 C 74.019531 82.117188 78.496094 86.59375 78.496094 92.117188 \"/>\n<path fill-rule=\"nonzero\" fill=\"rgb(100%, 0%, 0%)\" fill-opacity=\"1\" stroke-width=\"1\" stroke-linecap=\"butt\" stroke-linejoin=\"miter\" stroke=\"rgb(0%, 0%, 0%)\" stroke-opacity=\"1\" stroke-miterlimit=\"10\" d=\"M 66.660156 116.785156 C 66.660156 122.308594 62.183594 126.785156 56.660156 126.785156 C 51.136719 126.785156 46.660156 122.308594 46.660156 116.785156 C 46.660156 111.265625 51.136719 106.785156 56.660156 106.785156 C 62.183594 106.785156 66.660156 111.265625 66.660156 116.785156 \"/>\n<path fill-rule=\"nonzero\" fill=\"rgb(100%, 0%, 0%)\" fill-opacity=\"1\" stroke-width=\"1\" stroke-linecap=\"butt\" stroke-linejoin=\"miter\" stroke=\"rgb(0%, 0%, 0%)\" stroke-opacity=\"1\" stroke-miterlimit=\"10\" d=\"M 184.746094 149.375 C 184.746094 154.898438 180.269531 159.375 174.746094 159.375 C 169.222656 159.375 164.746094 154.898438 164.746094 149.375 C 164.746094 143.851562 169.222656 139.375 174.746094 139.375 C 180.269531 139.375 184.746094 143.851562 184.746094 149.375 \"/>\n<path fill-rule=\"nonzero\" fill=\"rgb(100%, 0%, 0%)\" fill-opacity=\"1\" stroke-width=\"1\" stroke-linecap=\"butt\" stroke-linejoin=\"miter\" stroke=\"rgb(0%, 0%, 0%)\" stroke-opacity=\"1\" stroke-miterlimit=\"10\" d=\"M 119.621094 144.175781 C 119.621094 149.699219 115.140625 154.175781 109.621094 154.175781 C 104.097656 154.175781 99.621094 149.699219 99.621094 144.175781 C 99.621094 138.652344 104.097656 134.175781 109.621094 134.175781 C 115.140625 134.175781 119.621094 138.652344 119.621094 144.175781 \"/>\n<path fill-rule=\"nonzero\" fill=\"rgb(100%, 0%, 0%)\" fill-opacity=\"1\" stroke-width=\"1\" stroke-linecap=\"butt\" stroke-linejoin=\"miter\" stroke=\"rgb(0%, 0%, 0%)\" stroke-opacity=\"1\" stroke-miterlimit=\"10\" d=\"M 170.710938 159.324219 C 170.710938 164.847656 166.230469 169.324219 160.710938 169.324219 C 155.1875 169.324219 150.710938 164.847656 150.710938 159.324219 C 150.710938 153.800781 155.1875 149.324219 160.710938 149.324219 C 166.230469 149.324219 170.710938 153.800781 170.710938 159.324219 \"/>\n<path fill-rule=\"nonzero\" fill=\"rgb(100%, 0%, 0%)\" fill-opacity=\"1\" stroke-width=\"1\" stroke-linecap=\"butt\" stroke-linejoin=\"miter\" stroke=\"rgb(0%, 0%, 0%)\" stroke-opacity=\"1\" stroke-miterlimit=\"10\" d=\"M 136.183594 158.539062 C 136.183594 164.0625 131.707031 168.539062 126.183594 168.539062 C 120.660156 168.539062 116.183594 164.0625 116.183594 158.539062 C 116.183594 153.015625 120.660156 148.539062 126.183594 148.539062 C 131.707031 148.539062 136.183594 153.015625 136.183594 158.539062 \"/>\n<path fill-rule=\"nonzero\" fill=\"rgb(100%, 0%, 0%)\" fill-opacity=\"1\" stroke-width=\"1\" stroke-linecap=\"butt\" stroke-linejoin=\"miter\" stroke=\"rgb(0%, 0%, 0%)\" stroke-opacity=\"1\" stroke-miterlimit=\"10\" d=\"M 144.933594 150.1875 C 144.933594 155.707031 140.457031 160.1875 134.933594 160.1875 C 129.410156 160.1875 124.933594 155.707031 124.933594 150.1875 C 124.933594 144.664062 129.410156 140.1875 134.933594 140.1875 C 140.457031 140.1875 144.933594 144.664062 144.933594 150.1875 \"/>\n<path fill-rule=\"nonzero\" fill=\"rgb(100%, 0%, 0%)\" fill-opacity=\"1\" stroke-width=\"1\" stroke-linecap=\"butt\" stroke-linejoin=\"miter\" stroke=\"rgb(0%, 0%, 0%)\" stroke-opacity=\"1\" stroke-miterlimit=\"10\" d=\"M 78.421875 146.917969 C 78.421875 152.441406 73.941406 156.917969 68.421875 156.917969 C 62.898438 156.917969 58.421875 152.441406 58.421875 146.917969 C 58.421875 141.394531 62.898438 136.917969 68.421875 136.917969 C 73.941406 136.917969 78.421875 141.394531 78.421875 146.917969 \"/>\n<path fill-rule=\"nonzero\" fill=\"rgb(100%, 0%, 0%)\" fill-opacity=\"1\" stroke-width=\"1\" stroke-linecap=\"butt\" stroke-linejoin=\"miter\" stroke=\"rgb(0%, 0%, 0%)\" stroke-opacity=\"1\" stroke-miterlimit=\"10\" d=\"M 105.566406 154.320312 C 105.566406 159.839844 101.089844 164.320312 95.566406 164.320312 C 90.042969 164.320312 85.566406 159.839844 85.566406 154.320312 C 85.566406 148.796875 90.042969 144.320312 95.566406 144.320312 C 101.089844 144.320312 105.566406 148.796875 105.566406 154.320312 \"/>\n<path fill-rule=\"nonzero\" fill=\"rgb(100%, 0%, 0%)\" fill-opacity=\"1\" stroke-width=\"1\" stroke-linecap=\"butt\" stroke-linejoin=\"miter\" stroke=\"rgb(0%, 0%, 0%)\" stroke-opacity=\"1\" stroke-miterlimit=\"10\" d=\"M 84.773438 134.988281 C 84.773438 140.511719 80.296875 144.988281 74.773438 144.988281 C 69.25 144.988281 64.773438 140.511719 64.773438 134.988281 C 64.773438 129.464844 69.25 124.988281 74.773438 124.988281 C 80.296875 124.988281 84.773438 129.464844 84.773438 134.988281 \"/>\n<path fill-rule=\"nonzero\" fill=\"rgb(100%, 0%, 0%)\" fill-opacity=\"1\" stroke-width=\"1\" stroke-linecap=\"butt\" stroke-linejoin=\"miter\" stroke=\"rgb(0%, 0%, 0%)\" stroke-opacity=\"1\" stroke-miterlimit=\"10\" d=\"M 120.074219 26.046875 C 120.074219 31.570312 115.597656 36.046875 110.074219 36.046875 C 104.550781 36.046875 100.074219 31.570312 100.074219 26.046875 C 100.074219 20.527344 104.550781 16.046875 110.074219 16.046875 C 115.597656 16.046875 120.074219 20.527344 120.074219 26.046875 \"/>\n<path fill-rule=\"nonzero\" fill=\"rgb(100%, 0%, 0%)\" fill-opacity=\"1\" stroke-width=\"1\" stroke-linecap=\"butt\" stroke-linejoin=\"miter\" stroke=\"rgb(0%, 0%, 0%)\" stroke-opacity=\"1\" stroke-miterlimit=\"10\" d=\"M 117.59375 38.308594 C 117.59375 43.832031 113.113281 48.308594 107.59375 48.308594 C 102.070312 48.308594 97.59375 43.832031 97.59375 38.308594 C 97.59375 32.785156 102.070312 28.308594 107.59375 28.308594 C 113.113281 28.308594 117.59375 32.785156 117.59375 38.308594 \"/>\n<path fill-rule=\"nonzero\" fill=\"rgb(100%, 0%, 0%)\" fill-opacity=\"1\" stroke-width=\"1\" stroke-linecap=\"butt\" stroke-linejoin=\"miter\" stroke=\"rgb(0%, 0%, 0%)\" stroke-opacity=\"1\" stroke-miterlimit=\"10\" d=\"M 186.179688 28.484375 C 186.179688 34.007812 181.703125 38.484375 176.179688 38.484375 C 170.65625 38.484375 166.179688 34.007812 166.179688 28.484375 C 166.179688 22.960938 170.65625 18.484375 176.179688 18.484375 C 181.703125 18.484375 186.179688 22.960938 186.179688 28.484375 \"/>\n<path fill-rule=\"nonzero\" fill=\"rgb(100%, 0%, 0%)\" fill-opacity=\"1\" stroke-width=\"1\" stroke-linecap=\"butt\" stroke-linejoin=\"miter\" stroke=\"rgb(0%, 0%, 0%)\" stroke-opacity=\"1\" stroke-miterlimit=\"10\" d=\"M 151.363281 21.183594 C 151.363281 26.707031 146.886719 31.183594 141.363281 31.183594 C 135.839844 31.183594 131.363281 26.707031 131.363281 21.183594 C 131.363281 15.660156 135.839844 11.183594 141.363281 11.183594 C 146.886719 11.183594 151.363281 15.660156 151.363281 21.183594 \"/>\n<path fill-rule=\"nonzero\" fill=\"rgb(100%, 0%, 0%)\" fill-opacity=\"1\" stroke-width=\"1\" stroke-linecap=\"butt\" stroke-linejoin=\"miter\" stroke=\"rgb(0%, 0%, 0%)\" stroke-opacity=\"1\" stroke-miterlimit=\"10\" d=\"M 45.207031 63.5625 C 45.207031 69.085938 40.726562 73.5625 35.207031 73.5625 C 29.683594 73.5625 25.207031 69.085938 25.207031 63.5625 C 25.207031 58.039062 29.683594 53.5625 35.207031 53.5625 C 40.726562 53.5625 45.207031 58.039062 45.207031 63.5625 \"/>\n<path fill-rule=\"nonzero\" fill=\"rgb(100%, 0%, 0%)\" fill-opacity=\"1\" stroke-width=\"1\" stroke-linecap=\"butt\" stroke-linejoin=\"miter\" stroke=\"rgb(0%, 0%, 0%)\" stroke-opacity=\"1\" stroke-miterlimit=\"10\" d=\"M 86.480469 54.910156 C 86.480469 60.433594 82.003906 64.910156 76.480469 64.910156 C 70.957031 64.910156 66.480469 60.433594 66.480469 54.910156 C 66.480469 49.386719 70.957031 44.910156 76.480469 44.910156 C 82.003906 44.910156 86.480469 49.386719 86.480469 54.910156 \"/>\n<path fill-rule=\"nonzero\" fill=\"rgb(100%, 0%, 0%)\" fill-opacity=\"1\" stroke-width=\"1\" stroke-linecap=\"butt\" stroke-linejoin=\"miter\" stroke=\"rgb(0%, 0%, 0%)\" stroke-opacity=\"1\" stroke-miterlimit=\"10\" d=\"M 81.085938 78.332031 C 81.085938 83.855469 76.609375 88.332031 71.085938 88.332031 C 65.5625 88.332031 61.085938 83.855469 61.085938 78.332031 C 61.085938 72.808594 65.5625 68.332031 71.085938 68.332031 C 76.609375 68.332031 81.085938 72.808594 81.085938 78.332031 \"/>\n<path fill-rule=\"nonzero\" fill=\"rgb(100%, 0%, 0%)\" fill-opacity=\"1\" stroke-width=\"1\" stroke-linecap=\"butt\" stroke-linejoin=\"miter\" stroke=\"rgb(0%, 0%, 0%)\" stroke-opacity=\"1\" stroke-miterlimit=\"10\" d=\"M 50.414062 74.78125 C 50.414062 80.304688 45.9375 84.78125 40.414062 84.78125 C 34.890625 84.78125 30.414062 80.304688 30.414062 74.78125 C 30.414062 69.257812 34.890625 64.78125 40.414062 64.78125 C 45.9375 64.78125 50.414062 69.257812 50.414062 74.78125 \"/>\n<path fill-rule=\"nonzero\" fill=\"rgb(100%, 0%, 0%)\" fill-opacity=\"1\" stroke-width=\"1\" stroke-linecap=\"butt\" stroke-linejoin=\"miter\" stroke=\"rgb(0%, 0%, 0%)\" stroke-opacity=\"1\" stroke-miterlimit=\"10\" d=\"M 95.058594 34.957031 C 95.058594 40.476562 90.582031 44.957031 85.058594 44.957031 C 79.535156 44.957031 75.058594 40.476562 75.058594 34.957031 C 75.058594 29.433594 79.535156 24.957031 85.058594 24.957031 C 90.582031 24.957031 95.058594 29.433594 95.058594 34.957031 \"/>\n<path fill-rule=\"nonzero\" fill=\"rgb(100%, 0%, 0%)\" fill-opacity=\"1\" stroke-width=\"1\" stroke-linecap=\"butt\" stroke-linejoin=\"miter\" stroke=\"rgb(0%, 0%, 0%)\" stroke-opacity=\"1\" stroke-miterlimit=\"10\" d=\"M 65.179688 61.324219 C 65.179688 66.847656 60.703125 71.324219 55.179688 71.324219 C 49.65625 71.324219 45.179688 66.847656 45.179688 61.324219 C 45.179688 55.800781 49.65625 51.324219 55.179688 51.324219 C 60.703125 51.324219 65.179688 55.800781 65.179688 61.324219 \"/>\n<path fill-rule=\"nonzero\" fill=\"rgb(100%, 0%, 0%)\" fill-opacity=\"1\" stroke-width=\"1\" stroke-linecap=\"butt\" stroke-linejoin=\"miter\" stroke=\"rgb(0%, 0%, 0%)\" stroke-opacity=\"1\" stroke-miterlimit=\"10\" d=\"M 52.0625 49.714844 C 52.0625 55.238281 47.585938 59.714844 42.0625 59.714844 C 36.542969 59.714844 32.0625 55.238281 32.0625 49.714844 C 32.0625 44.191406 36.542969 39.714844 42.0625 39.714844 C 47.585938 39.714844 52.0625 44.191406 52.0625 49.714844 \"/>\n<path fill-rule=\"nonzero\" fill=\"rgb(100%, 0%, 0%)\" fill-opacity=\"1\" stroke-width=\"1\" stroke-linecap=\"butt\" stroke-linejoin=\"miter\" stroke=\"rgb(0%, 0%, 0%)\" stroke-opacity=\"1\" stroke-miterlimit=\"10\" d=\"M 72.246094 40.988281 C 72.246094 46.507812 67.769531 50.988281 62.246094 50.988281 C 56.722656 50.988281 52.246094 46.507812 52.246094 40.988281 C 52.246094 35.464844 56.722656 30.988281 62.246094 30.988281 C 67.769531 30.988281 72.246094 35.464844 72.246094 40.988281 \"/>\n<path fill-rule=\"nonzero\" fill=\"rgb(100%, 0%, 0%)\" fill-opacity=\"1\" stroke-width=\"1\" stroke-linecap=\"butt\" stroke-linejoin=\"miter\" stroke=\"rgb(0%, 0%, 0%)\" stroke-opacity=\"1\" stroke-miterlimit=\"10\" d=\"M 158.671875 32.742188 C 158.671875 38.265625 154.195312 42.742188 148.671875 42.742188 C 143.148438 42.742188 138.671875 38.265625 138.671875 32.742188 C 138.671875 27.21875 143.148438 22.742188 148.671875 22.742188 C 154.195312 22.742188 158.671875 27.21875 158.671875 32.742188 \"/>\n<path fill-rule=\"nonzero\" fill=\"rgb(100%, 0%, 0%)\" fill-opacity=\"1\" stroke-width=\"1\" stroke-linecap=\"butt\" stroke-linejoin=\"miter\" stroke=\"rgb(0%, 0%, 0%)\" stroke-opacity=\"1\" stroke-miterlimit=\"10\" d=\"M 185.296875 20 C 185.296875 25.523438 180.820312 30 175.296875 30 C 169.773438 30 165.296875 25.523438 165.296875 20 C 165.296875 14.476562 169.773438 10 175.296875 10 C 180.820312 10 185.296875 14.476562 185.296875 20 \"/>\n<path fill-rule=\"nonzero\" fill=\"rgb(100%, 0%, 0%)\" fill-opacity=\"1\" stroke-width=\"1\" stroke-linecap=\"butt\" stroke-linejoin=\"miter\" stroke=\"rgb(0%, 0%, 0%)\" stroke-opacity=\"1\" stroke-miterlimit=\"10\" d=\"M 225.929688 34.636719 C 225.929688 40.160156 221.453125 44.636719 215.929688 44.636719 C 210.40625 44.636719 205.929688 40.160156 205.929688 34.636719 C 205.929688 29.113281 210.40625 24.636719 215.929688 24.636719 C 221.453125 24.636719 225.929688 29.113281 225.929688 34.636719 \"/>\n<path fill-rule=\"nonzero\" fill=\"rgb(100%, 0%, 0%)\" fill-opacity=\"1\" stroke-width=\"1\" stroke-linecap=\"butt\" stroke-linejoin=\"miter\" stroke=\"rgb(0%, 0%, 0%)\" stroke-opacity=\"1\" stroke-miterlimit=\"10\" d=\"M 218.367188 22.976562 C 218.367188 28.5 213.890625 32.976562 208.367188 32.976562 C 202.84375 32.976562 198.367188 28.5 198.367188 22.976562 C 198.367188 17.453125 202.84375 12.976562 208.367188 12.976562 C 213.890625 12.976562 218.367188 17.453125 218.367188 22.976562 \"/>\n<path fill-rule=\"nonzero\" fill=\"rgb(100%, 0%, 0%)\" fill-opacity=\"1\" stroke-width=\"1\" stroke-linecap=\"butt\" stroke-linejoin=\"miter\" stroke=\"rgb(0%, 0%, 0%)\" stroke-opacity=\"1\" stroke-miterlimit=\"10\" d=\"M 265.871094 35.003906 C 265.871094 40.527344 261.394531 45.003906 255.871094 45.003906 C 250.347656 45.003906 245.871094 40.527344 245.871094 35.003906 C 245.871094 29.480469 250.347656 25.003906 255.871094 25.003906 C 261.394531 25.003906 265.871094 29.480469 265.871094 35.003906 \"/>\n<path fill-rule=\"nonzero\" fill=\"rgb(100%, 0%, 0%)\" fill-opacity=\"1\" stroke-width=\"1\" stroke-linecap=\"butt\" stroke-linejoin=\"miter\" stroke=\"rgb(0%, 0%, 0%)\" stroke-opacity=\"1\" stroke-miterlimit=\"10\" d=\"M 277.273438 23.863281 C 277.273438 29.386719 272.792969 33.863281 267.273438 33.863281 C 261.75 33.863281 257.273438 29.386719 257.273438 23.863281 C 257.273438 18.339844 261.75 13.863281 267.273438 13.863281 C 272.792969 13.863281 277.273438 18.339844 277.273438 23.863281 \"/>\n<path fill-rule=\"nonzero\" fill=\"rgb(100%, 0%, 0%)\" fill-opacity=\"1\" stroke-width=\"1\" stroke-linecap=\"butt\" stroke-linejoin=\"miter\" stroke=\"rgb(0%, 0%, 0%)\" stroke-opacity=\"1\" stroke-miterlimit=\"10\" d=\"M 333.066406 36.304688 C 333.066406 41.828125 328.589844 46.304688 323.066406 46.304688 C 317.542969 46.304688 313.066406 41.828125 313.066406 36.304688 C 313.066406 30.78125 317.542969 26.304688 323.066406 26.304688 C 328.589844 26.304688 333.066406 30.78125 333.066406 36.304688 \"/>\n<path fill-rule=\"nonzero\" fill=\"rgb(100%, 0%, 0%)\" fill-opacity=\"1\" stroke-width=\"1\" stroke-linecap=\"butt\" stroke-linejoin=\"miter\" stroke=\"rgb(0%, 0%, 0%)\" stroke-opacity=\"1\" stroke-miterlimit=\"10\" d=\"M 311.289062 22.507812 C 311.289062 28.03125 306.8125 32.507812 301.289062 32.507812 C 295.765625 32.507812 291.289062 28.03125 291.289062 22.507812 C 291.289062 16.984375 295.765625 12.507812 301.289062 12.507812 C 306.8125 12.507812 311.289062 16.984375 311.289062 22.507812 \"/>\n<path fill-rule=\"nonzero\" fill=\"rgb(100%, 0%, 0%)\" fill-opacity=\"1\" stroke-width=\"1\" stroke-linecap=\"butt\" stroke-linejoin=\"miter\" stroke=\"rgb(0%, 0%, 0%)\" stroke-opacity=\"1\" stroke-miterlimit=\"10\" d=\"M 373.355469 31.292969 C 373.355469 36.816406 368.878906 41.292969 363.355469 41.292969 C 357.832031 41.292969 353.355469 36.816406 353.355469 31.292969 C 353.355469 25.769531 357.832031 21.292969 363.355469 21.292969 C 368.878906 21.292969 373.355469 25.769531 373.355469 31.292969 \"/>\n<path fill-rule=\"nonzero\" fill=\"rgb(100%, 0%, 0%)\" fill-opacity=\"1\" stroke-width=\"1\" stroke-linecap=\"butt\" stroke-linejoin=\"miter\" stroke=\"rgb(0%, 0%, 0%)\" stroke-opacity=\"1\" stroke-miterlimit=\"10\" d=\"M 371.558594 43.519531 C 371.558594 49.042969 367.082031 53.519531 361.558594 53.519531 C 356.039062 53.519531 351.558594 49.042969 351.558594 43.519531 C 351.558594 37.996094 356.039062 33.519531 361.558594 33.519531 C 367.082031 33.519531 371.558594 37.996094 371.558594 43.519531 \"/>\n<path fill-rule=\"nonzero\" fill=\"rgb(100%, 0%, 0%)\" fill-opacity=\"1\" stroke-width=\"1\" stroke-linecap=\"butt\" stroke-linejoin=\"miter\" stroke=\"rgb(0%, 0%, 0%)\" stroke-opacity=\"1\" stroke-miterlimit=\"10\" d=\"M 344.0625 25.140625 C 344.0625 30.664062 339.585938 35.140625 334.0625 35.140625 C 328.539062 35.140625 324.0625 30.664062 324.0625 25.140625 C 324.0625 19.621094 328.539062 15.140625 334.0625 15.140625 C 339.585938 15.140625 344.0625 19.621094 344.0625 25.140625 \"/>\n<path fill-rule=\"nonzero\" fill=\"rgb(100%, 0%, 0%)\" fill-opacity=\"1\" stroke-width=\"1\" stroke-linecap=\"butt\" stroke-linejoin=\"miter\" stroke=\"rgb(0%, 0%, 0%)\" stroke-opacity=\"1\" stroke-miterlimit=\"10\" d=\"M 306.941406 30.960938 C 306.941406 36.484375 302.460938 40.960938 296.941406 40.960938 C 291.417969 40.960938 286.941406 36.484375 286.941406 30.960938 C 286.941406 25.4375 291.417969 20.960938 296.941406 20.960938 C 302.460938 20.960938 306.941406 25.4375 306.941406 30.960938 \"/>\n<path fill-rule=\"nonzero\" fill=\"rgb(100%, 0%, 0%)\" fill-opacity=\"1\" stroke-width=\"1\" stroke-linecap=\"butt\" stroke-linejoin=\"miter\" stroke=\"rgb(0%, 0%, 0%)\" stroke-opacity=\"1\" stroke-miterlimit=\"10\" d=\"M 432.464844 67.941406 C 432.464844 73.460938 427.988281 77.941406 422.464844 77.941406 C 416.941406 77.941406 412.464844 73.460938 412.464844 67.941406 C 412.464844 62.417969 416.941406 57.941406 422.464844 57.941406 C 427.988281 57.941406 432.464844 62.417969 432.464844 67.941406 \"/>\n<path fill-rule=\"nonzero\" fill=\"rgb(100%, 0%, 0%)\" fill-opacity=\"1\" stroke-width=\"1\" stroke-linecap=\"butt\" stroke-linejoin=\"miter\" stroke=\"rgb(0%, 0%, 0%)\" stroke-opacity=\"1\" stroke-miterlimit=\"10\" d=\"M 416.929688 47.84375 C 416.929688 53.367188 412.453125 57.84375 406.929688 57.84375 C 401.40625 57.84375 396.929688 53.367188 396.929688 47.84375 C 396.929688 42.320312 401.40625 37.84375 406.929688 37.84375 C 412.453125 37.84375 416.929688 42.320312 416.929688 47.84375 \"/>\n<path fill-rule=\"nonzero\" fill=\"rgb(100%, 0%, 0%)\" fill-opacity=\"1\" stroke-width=\"1\" stroke-linecap=\"butt\" stroke-linejoin=\"miter\" stroke=\"rgb(0%, 0%, 0%)\" stroke-opacity=\"1\" stroke-miterlimit=\"10\" d=\"M 430.726562 57.167969 C 430.726562 62.691406 426.25 67.167969 420.726562 67.167969 C 415.203125 67.167969 410.726562 62.691406 410.726562 57.167969 C 410.726562 51.648438 415.203125 47.167969 420.726562 47.167969 C 426.25 47.167969 430.726562 51.648438 430.726562 57.167969 \"/>\n<path fill-rule=\"nonzero\" fill=\"rgb(100%, 0%, 0%)\" fill-opacity=\"1\" stroke-width=\"1\" stroke-linecap=\"butt\" stroke-linejoin=\"miter\" stroke=\"rgb(0%, 0%, 0%)\" stroke-opacity=\"1\" stroke-miterlimit=\"10\" d=\"M 396.214844 41.144531 C 396.214844 46.667969 391.738281 51.144531 386.214844 51.144531 C 380.691406 51.144531 376.214844 46.667969 376.214844 41.144531 C 376.214844 35.621094 380.691406 31.144531 386.214844 31.144531 C 391.738281 31.144531 396.214844 35.621094 396.214844 41.144531 \"/>\n<path fill-rule=\"nonzero\" fill=\"rgb(100%, 0%, 0%)\" fill-opacity=\"1\" stroke-width=\"1\" stroke-linecap=\"butt\" stroke-linejoin=\"miter\" stroke=\"rgb(0%, 0%, 0%)\" stroke-opacity=\"1\" stroke-miterlimit=\"10\" d=\"M 395.710938 60.839844 C 395.710938 66.363281 391.234375 70.839844 385.710938 70.839844 C 380.1875 70.839844 375.710938 66.363281 375.710938 60.839844 C 375.710938 55.316406 380.1875 50.839844 385.710938 50.839844 C 391.234375 50.839844 395.710938 55.316406 395.710938 60.839844 \"/>\n<path fill-rule=\"nonzero\" fill=\"rgb(100%, 0%, 0%)\" fill-opacity=\"1\" stroke-width=\"1\" stroke-linecap=\"butt\" stroke-linejoin=\"miter\" stroke=\"rgb(0%, 0%, 0%)\" stroke-opacity=\"1\" stroke-miterlimit=\"10\" d=\"M 395.148438 85.707031 C 395.148438 91.230469 390.671875 95.707031 385.148438 95.707031 C 379.625 95.707031 375.148438 91.230469 375.148438 85.707031 C 375.148438 80.1875 379.625 75.707031 385.148438 75.707031 C 390.671875 75.707031 395.148438 80.1875 395.148438 85.707031 \"/>\n<path fill-rule=\"nonzero\" fill=\"rgb(100%, 0%, 0%)\" fill-opacity=\"1\" stroke-width=\"1\" stroke-linecap=\"butt\" stroke-linejoin=\"miter\" stroke=\"rgb(0%, 0%, 0%)\" stroke-opacity=\"1\" stroke-miterlimit=\"10\" d=\"M 412.785156 72.335938 C 412.785156 77.859375 408.308594 82.335938 402.785156 82.335938 C 397.265625 82.335938 392.785156 77.859375 392.785156 72.335938 C 392.785156 66.8125 397.265625 62.335938 402.785156 62.335938 C 408.308594 62.335938 412.785156 66.8125 412.785156 72.335938 \"/>\n<path fill-rule=\"nonzero\" fill=\"rgb(100%, 0%, 0%)\" fill-opacity=\"1\" stroke-width=\"1\" stroke-linecap=\"butt\" stroke-linejoin=\"miter\" stroke=\"rgb(0%, 0%, 0%)\" stroke-opacity=\"1\" stroke-miterlimit=\"10\" d=\"M 428.984375 81.625 C 428.984375 87.148438 424.503906 91.625 418.984375 91.625 C 413.460938 91.625 408.984375 87.148438 408.984375 81.625 C 408.984375 76.101562 413.460938 71.625 418.984375 71.625 C 424.503906 71.625 428.984375 76.101562 428.984375 81.625 \"/>\n<path fill-rule=\"nonzero\" fill=\"rgb(100%, 0%, 0%)\" fill-opacity=\"1\" stroke-width=\"1\" stroke-linecap=\"butt\" stroke-linejoin=\"miter\" stroke=\"rgb(0%, 0%, 0%)\" stroke-opacity=\"1\" stroke-miterlimit=\"10\" d=\"M 467.285156 155.917969 C 467.285156 161.441406 462.808594 165.917969 457.285156 165.917969 C 451.761719 165.917969 447.285156 161.441406 447.285156 155.917969 C 447.285156 150.398438 451.761719 145.917969 457.285156 145.917969 C 462.808594 145.917969 467.285156 150.398438 467.285156 155.917969 \"/>\n<path fill-rule=\"nonzero\" fill=\"rgb(100%, 0%, 0%)\" fill-opacity=\"1\" stroke-width=\"1\" stroke-linecap=\"butt\" stroke-linejoin=\"miter\" stroke=\"rgb(0%, 0%, 0%)\" stroke-opacity=\"1\" stroke-miterlimit=\"10\" d=\"M 490 130.867188 C 490 136.390625 485.523438 140.867188 480 140.867188 C 474.476562 140.867188 470 136.390625 470 130.867188 C 470 125.347656 474.476562 120.867188 480 120.867188 C 485.523438 120.867188 490 125.347656 490 130.867188 \"/>\n<path fill-rule=\"nonzero\" fill=\"rgb(100%, 0%, 0%)\" fill-opacity=\"1\" stroke-width=\"1\" stroke-linecap=\"butt\" stroke-linejoin=\"miter\" stroke=\"rgb(0%, 0%, 0%)\" stroke-opacity=\"1\" stroke-miterlimit=\"10\" d=\"M 486.070312 143.34375 C 486.070312 148.867188 481.59375 153.34375 476.070312 153.34375 C 470.550781 153.34375 466.070312 148.867188 466.070312 143.34375 C 466.070312 137.820312 470.550781 133.34375 476.070312 133.34375 C 481.59375 133.34375 486.070312 137.820312 486.070312 143.34375 \"/>\n<path fill-rule=\"nonzero\" fill=\"rgb(100%, 0%, 0%)\" fill-opacity=\"1\" stroke-width=\"1\" stroke-linecap=\"butt\" stroke-linejoin=\"miter\" stroke=\"rgb(0%, 0%, 0%)\" stroke-opacity=\"1\" stroke-miterlimit=\"10\" d=\"M 439.3125 164.585938 C 439.3125 170.109375 434.835938 174.585938 429.3125 174.585938 C 423.789062 174.585938 419.3125 170.109375 419.3125 164.585938 C 419.3125 159.0625 423.789062 154.585938 429.3125 154.585938 C 434.835938 154.585938 439.3125 159.0625 439.3125 164.585938 \"/>\n<path fill-rule=\"nonzero\" fill=\"rgb(100%, 0%, 0%)\" fill-opacity=\"1\" stroke-width=\"1\" stroke-linecap=\"butt\" stroke-linejoin=\"miter\" stroke=\"rgb(0%, 0%, 0%)\" stroke-opacity=\"1\" stroke-miterlimit=\"10\" d=\"M 377.050781 180 C 377.050781 185.523438 372.574219 190 367.050781 190 C 361.527344 190 357.050781 185.523438 357.050781 180 C 357.050781 174.476562 361.527344 170 367.050781 170 C 372.574219 170 377.050781 174.476562 377.050781 180 \"/>\n</svg>\n",
            "text/plain": [
              "<igraph.drawing.cairo.plot.CairoPlot at 0x2049df693c0>"
            ]
          },
          "execution_count": 24,
          "metadata": {
            "image/svg+xml": {
              "isolated": true
            }
          },
          "output_type": "execute_result"
        }
      ],
      "source": [
        "#Change the path\n",
        "g8=Graph.Read_Edgelist(r\"C:\\Users\\pedro\\github\\social_media_analysis/edgelist.txt\", directed=False)\n",
        "plot(g8, bbox=(500, 200))"
      ]
    },
    {
      "cell_type": "code",
      "execution_count": 25,
      "metadata": {},
      "outputs": [
        {
          "data": {
            "text/html": [
              "<div>\n",
              "<style scoped>\n",
              "    .dataframe tbody tr th:only-of-type {\n",
              "        vertical-align: middle;\n",
              "    }\n",
              "\n",
              "    .dataframe tbody tr th {\n",
              "        vertical-align: top;\n",
              "    }\n",
              "\n",
              "    .dataframe thead th {\n",
              "        text-align: right;\n",
              "    }\n",
              "</style>\n",
              "<table border=\"1\" class=\"dataframe\">\n",
              "  <thead>\n",
              "    <tr style=\"text-align: right;\">\n",
              "      <th></th>\n",
              "      <th>type</th>\n",
              "    </tr>\n",
              "    <tr>\n",
              "      <th>vertex ID</th>\n",
              "      <th></th>\n",
              "    </tr>\n",
              "  </thead>\n",
              "  <tbody>\n",
              "    <tr>\n",
              "      <th>0</th>\n",
              "      <td>a</td>\n",
              "    </tr>\n",
              "    <tr>\n",
              "      <th>1</th>\n",
              "      <td>a</td>\n",
              "    </tr>\n",
              "    <tr>\n",
              "      <th>2</th>\n",
              "      <td>a</td>\n",
              "    </tr>\n",
              "    <tr>\n",
              "      <th>3</th>\n",
              "      <td>a</td>\n",
              "    </tr>\n",
              "    <tr>\n",
              "      <th>4</th>\n",
              "      <td>a</td>\n",
              "    </tr>\n",
              "    <tr>\n",
              "      <th>...</th>\n",
              "      <td>...</td>\n",
              "    </tr>\n",
              "    <tr>\n",
              "      <th>85</th>\n",
              "      <td>a</td>\n",
              "    </tr>\n",
              "    <tr>\n",
              "      <th>86</th>\n",
              "      <td>a</td>\n",
              "    </tr>\n",
              "    <tr>\n",
              "      <th>87</th>\n",
              "      <td>a</td>\n",
              "    </tr>\n",
              "    <tr>\n",
              "      <th>88</th>\n",
              "      <td>a</td>\n",
              "    </tr>\n",
              "    <tr>\n",
              "      <th>89</th>\n",
              "      <td>a</td>\n",
              "    </tr>\n",
              "  </tbody>\n",
              "</table>\n",
              "<p>90 rows × 1 columns</p>\n",
              "</div>"
            ],
            "text/plain": [
              "          type\n",
              "vertex ID     \n",
              "0            a\n",
              "1            a\n",
              "2            a\n",
              "3            a\n",
              "4            a\n",
              "...        ...\n",
              "85           a\n",
              "86           a\n",
              "87           a\n",
              "88           a\n",
              "89           a\n",
              "\n",
              "[90 rows x 1 columns]"
            ]
          },
          "execution_count": 25,
          "metadata": {},
          "output_type": "execute_result"
        }
      ],
      "source": [
        "g8.vs['type']=\"a\"\n",
        "g8.get_vertex_dataframe()"
      ]
    },
    {
      "cell_type": "code",
      "execution_count": 26,
      "metadata": {},
      "outputs": [
        {
          "data": {
            "text/plain": [
              "[(0, 1),\n",
              " (0, 2),\n",
              " (0, 3),\n",
              " (0, 4),\n",
              " (1, 5),\n",
              " (1, 6),\n",
              " (1, 7),\n",
              " (1, 8),\n",
              " (2, 9),\n",
              " (2, 10),\n",
              " (2, 11),\n",
              " (2, 12),\n",
              " (3, 13),\n",
              " (3, 14),\n",
              " (3, 15),\n",
              " (3, 16),\n",
              " (4, 17),\n",
              " (4, 18),\n",
              " (4, 19),\n",
              " (4, 20),\n",
              " (5, 21),\n",
              " (5, 22),\n",
              " (5, 23),\n",
              " (5, 24),\n",
              " (6, 25),\n",
              " (6, 26),\n",
              " (6, 27),\n",
              " (6, 28),\n",
              " (7, 29),\n",
              " (7, 30),\n",
              " (7, 31),\n",
              " (7, 32),\n",
              " (8, 33),\n",
              " (8, 34),\n",
              " (8, 35),\n",
              " (8, 36),\n",
              " (9, 37),\n",
              " (9, 38),\n",
              " (9, 39),\n",
              " (9, 40),\n",
              " (10, 41),\n",
              " (10, 42),\n",
              " (10, 43),\n",
              " (10, 44),\n",
              " (11, 45),\n",
              " (11, 46),\n",
              " (11, 47),\n",
              " (11, 48),\n",
              " (12, 49),\n",
              " (12, 50),\n",
              " (12, 51),\n",
              " (12, 52),\n",
              " (13, 53),\n",
              " (13, 54),\n",
              " (13, 55),\n",
              " (13, 56),\n",
              " (14, 57),\n",
              " (14, 58),\n",
              " (14, 59),\n",
              " (14, 60),\n",
              " (15, 61),\n",
              " (15, 62),\n",
              " (15, 63),\n",
              " (15, 64),\n",
              " (16, 65),\n",
              " (16, 66),\n",
              " (16, 67),\n",
              " (16, 68),\n",
              " (17, 69),\n",
              " (17, 70),\n",
              " (17, 71),\n",
              " (17, 72),\n",
              " (18, 73),\n",
              " (18, 74),\n",
              " (18, 75),\n",
              " (18, 76),\n",
              " (19, 77),\n",
              " (19, 78),\n",
              " (19, 79),\n",
              " (19, 80),\n",
              " (20, 81),\n",
              " (20, 82),\n",
              " (20, 83),\n",
              " (20, 84),\n",
              " (21, 85),\n",
              " (21, 86),\n",
              " (21, 87),\n",
              " (21, 88),\n",
              " (22, 89)]"
            ]
          },
          "execution_count": 26,
          "metadata": {},
          "output_type": "execute_result"
        }
      ],
      "source": [
        "g8.get_edgelist()"
      ]
    },
    {
      "cell_type": "markdown",
      "metadata": {
        "id": "FpCG_SWDeRvB"
      },
      "source": [
        "To read from a file, we can use the corresponding function. It supports several formats: \n",
        "* Read_DL\tReads an UCINET DL file and creates a graph based on it.\n",
        "* Read_Edgelist\tReads an edge list from a file and creates a graph based on it.\n",
        "* Read_GML\tReads a GML file and creates a graph based on it.\n",
        "* Read_GraphDB\tReads a GraphDB format file and creates a graph based on it.\n",
        "* Read_GraphML\tReads a GraphML format file and creates a graph based on it.\n",
        "* Read_Lgl\tReads an .lgl file used by LGL.\n",
        "* Read_Ncol\tReads an .ncol file used by LGL.\n",
        "* Read_Pajek\tReads a Pajek format file and creates a graph based on it."
      ]
    },
    {
      "cell_type": "code",
      "execution_count": 28,
      "metadata": {
        "id": "NNtPjo5LeRvC"
      },
      "outputs": [],
      "source": [
        "#Change the path\n",
        "#g8=Graph.Read_Edgelist(\"C:/Users/Alvaro Romero/Downloads/edgelist.txt\", directed=False)\n",
        "#plot(g8, bbox=(300, 200))"
      ]
    },
    {
      "cell_type": "markdown",
      "metadata": {
        "id": "qZvPryOfeRvD"
      },
      "source": [
        "A common practice is to store edges in a pandas.DataFrame, where the two first columns are the source and target vertex ids, and any additional column indicates edge attributes. You can generate a graph via Graph.DataFrame"
      ]
    },
    {
      "cell_type": "code",
      "execution_count": 29,
      "metadata": {
        "id": "7ac4VX5EeRvD"
      },
      "outputs": [
        {
          "data": {
            "text/html": [
              "<div>\n",
              "<style scoped>\n",
              "    .dataframe tbody tr th:only-of-type {\n",
              "        vertical-align: middle;\n",
              "    }\n",
              "\n",
              "    .dataframe tbody tr th {\n",
              "        vertical-align: top;\n",
              "    }\n",
              "\n",
              "    .dataframe thead th {\n",
              "        text-align: right;\n",
              "    }\n",
              "</style>\n",
              "<table border=\"1\" class=\"dataframe\">\n",
              "  <thead>\n",
              "    <tr style=\"text-align: right;\">\n",
              "      <th></th>\n",
              "      <th>source</th>\n",
              "      <th>target</th>\n",
              "      <th>type</th>\n",
              "    </tr>\n",
              "  </thead>\n",
              "  <tbody>\n",
              "    <tr>\n",
              "      <th>0</th>\n",
              "      <td>0</td>\n",
              "      <td>1</td>\n",
              "      <td>a</td>\n",
              "    </tr>\n",
              "    <tr>\n",
              "      <th>1</th>\n",
              "      <td>0</td>\n",
              "      <td>2</td>\n",
              "      <td>a</td>\n",
              "    </tr>\n",
              "    <tr>\n",
              "      <th>2</th>\n",
              "      <td>0</td>\n",
              "      <td>3</td>\n",
              "      <td>a</td>\n",
              "    </tr>\n",
              "    <tr>\n",
              "      <th>3</th>\n",
              "      <td>0</td>\n",
              "      <td>4</td>\n",
              "      <td>a</td>\n",
              "    </tr>\n",
              "    <tr>\n",
              "      <th>4</th>\n",
              "      <td>1</td>\n",
              "      <td>5</td>\n",
              "      <td>a</td>\n",
              "    </tr>\n",
              "    <tr>\n",
              "      <th>...</th>\n",
              "      <td>...</td>\n",
              "      <td>...</td>\n",
              "      <td>...</td>\n",
              "    </tr>\n",
              "    <tr>\n",
              "      <th>84</th>\n",
              "      <td>21</td>\n",
              "      <td>85</td>\n",
              "      <td>a</td>\n",
              "    </tr>\n",
              "    <tr>\n",
              "      <th>85</th>\n",
              "      <td>21</td>\n",
              "      <td>86</td>\n",
              "      <td>a</td>\n",
              "    </tr>\n",
              "    <tr>\n",
              "      <th>86</th>\n",
              "      <td>21</td>\n",
              "      <td>87</td>\n",
              "      <td>a</td>\n",
              "    </tr>\n",
              "    <tr>\n",
              "      <th>87</th>\n",
              "      <td>21</td>\n",
              "      <td>88</td>\n",
              "      <td>a</td>\n",
              "    </tr>\n",
              "    <tr>\n",
              "      <th>88</th>\n",
              "      <td>22</td>\n",
              "      <td>89</td>\n",
              "      <td>a</td>\n",
              "    </tr>\n",
              "  </tbody>\n",
              "</table>\n",
              "<p>89 rows × 3 columns</p>\n",
              "</div>"
            ],
            "text/plain": [
              "    source  target type\n",
              "0        0       1    a\n",
              "1        0       2    a\n",
              "2        0       3    a\n",
              "3        0       4    a\n",
              "4        1       5    a\n",
              "..     ...     ...  ...\n",
              "84      21      85    a\n",
              "85      21      86    a\n",
              "86      21      87    a\n",
              "87      21      88    a\n",
              "88      22      89    a\n",
              "\n",
              "[89 rows x 3 columns]"
            ]
          },
          "execution_count": 29,
          "metadata": {},
          "output_type": "execute_result"
        }
      ],
      "source": [
        "#Create a DataFrame where the two first columns are the source and target from g8, and additional columns with attributes\n",
        "\n",
        "df = pd.DataFrame(g8.get_edgelist(), columns=['source','target'])\n",
        "df = df.join(pd.DataFrame(g8.vs['type'], columns=['type']))\n",
        "df"
      ]
    },
    {
      "cell_type": "code",
      "execution_count": 32,
      "metadata": {},
      "outputs": [
        {
          "data": {
            "image/svg+xml": "<?xml version=\"1.0\" encoding=\"UTF-8\"?>\n<svg xmlns=\"http://www.w3.org/2000/svg\" xmlns:xlink=\"http://www.w3.org/1999/xlink\" width=\"500\" height=\"200\" viewBox=\"0 0 500 200\">\n<rect x=\"-50\" y=\"-20\" width=\"600\" height=\"240\" fill=\"rgb(100%, 100%, 100%)\" fill-opacity=\"1\"/>\n<path fill=\"none\" stroke-width=\"1\" stroke-linecap=\"butt\" stroke-linejoin=\"miter\" stroke=\"rgb(26.666667%, 26.666667%, 26.666667%)\" stroke-opacity=\"1\" stroke-miterlimit=\"10\" d=\"M 249.714844 114.910156 L 242.148438 100.789062 \"/>\n<path fill-rule=\"nonzero\" fill=\"rgb(26.666667%, 26.666667%, 26.666667%)\" fill-opacity=\"1\" d=\"M 235.410156 88.214844 L 246.234375 98.601562 L 238.0625 102.980469 L 235.410156 88.214844 \"/>\n<path fill=\"none\" stroke-width=\"1\" stroke-linecap=\"butt\" stroke-linejoin=\"miter\" stroke=\"rgb(26.666667%, 26.666667%, 26.666667%)\" stroke-opacity=\"1\" stroke-miterlimit=\"10\" d=\"M 249.714844 114.910156 L 257.253906 127.414062 \"/>\n<path fill-rule=\"nonzero\" fill=\"rgb(26.666667%, 26.666667%, 26.666667%)\" fill-opacity=\"1\" d=\"M 264.621094 139.632812 L 253.285156 129.808594 L 261.226562 125.019531 L 264.621094 139.632812 \"/>\n<path fill=\"none\" stroke-width=\"1\" stroke-linecap=\"butt\" stroke-linejoin=\"miter\" stroke=\"rgb(26.666667%, 26.666667%, 26.666667%)\" stroke-opacity=\"1\" stroke-miterlimit=\"10\" d=\"M 249.714844 114.910156 L 156.992188 121.1875 \"/>\n<path fill-rule=\"nonzero\" fill=\"rgb(26.666667%, 26.666667%, 26.666667%)\" fill-opacity=\"1\" d=\"M 142.761719 122.152344 L 156.679688 116.5625 L 157.308594 125.8125 L 142.761719 122.152344 \"/>\n<path fill=\"none\" stroke-width=\"1\" stroke-linecap=\"butt\" stroke-linejoin=\"miter\" stroke=\"rgb(26.666667%, 26.666667%, 26.666667%)\" stroke-opacity=\"1\" stroke-miterlimit=\"10\" d=\"M 249.714844 114.910156 L 343.847656 112.121094 \"/>\n<path fill-rule=\"nonzero\" fill=\"rgb(26.666667%, 26.666667%, 26.666667%)\" fill-opacity=\"1\" d=\"M 358.109375 111.699219 L 343.984375 116.753906 L 343.710938 107.488281 L 358.109375 111.699219 \"/>\n<path fill=\"none\" stroke-width=\"1\" stroke-linecap=\"butt\" stroke-linejoin=\"miter\" stroke=\"rgb(26.666667%, 26.666667%, 26.666667%)\" stroke-opacity=\"1\" stroke-miterlimit=\"10\" d=\"M 230.6875 79.402344 L 231.292969 75.488281 \"/>\n<path fill-rule=\"nonzero\" fill=\"rgb(26.666667%, 26.666667%, 26.666667%)\" fill-opacity=\"1\" d=\"M 233.476562 61.390625 L 235.871094 76.199219 L 226.710938 74.78125 L 233.476562 61.390625 \"/>\n<path fill=\"none\" stroke-width=\"1\" stroke-linecap=\"butt\" stroke-linejoin=\"miter\" stroke=\"rgb(26.666667%, 26.666667%, 26.666667%)\" stroke-opacity=\"1\" stroke-miterlimit=\"10\" d=\"M 230.6875 79.402344 L 198.652344 76.425781 \"/>\n<path fill-rule=\"nonzero\" fill=\"rgb(26.666667%, 26.666667%, 26.666667%)\" fill-opacity=\"1\" d=\"M 184.449219 75.105469 L 199.082031 71.808594 L 198.222656 81.039062 L 184.449219 75.105469 \"/>\n<path fill=\"none\" stroke-width=\"1\" stroke-linecap=\"butt\" stroke-linejoin=\"miter\" stroke=\"rgb(26.666667%, 26.666667%, 26.666667%)\" stroke-opacity=\"1\" stroke-miterlimit=\"10\" d=\"M 230.6875 79.402344 L 247.539062 74.996094 \"/>\n<path fill-rule=\"nonzero\" fill=\"rgb(26.666667%, 26.666667%, 26.666667%)\" fill-opacity=\"1\" d=\"M 261.34375 71.386719 L 248.710938 79.480469 L 246.367188 70.511719 L 261.34375 71.386719 \"/>\n<path fill=\"none\" stroke-width=\"1\" stroke-linecap=\"butt\" stroke-linejoin=\"miter\" stroke=\"rgb(26.666667%, 26.666667%, 26.666667%)\" stroke-opacity=\"1\" stroke-miterlimit=\"10\" d=\"M 230.6875 79.402344 L 222.816406 75.472656 \"/>\n<path fill-rule=\"nonzero\" fill=\"rgb(26.666667%, 26.666667%, 26.666667%)\" fill-opacity=\"1\" d=\"M 210.050781 69.101562 L 224.886719 71.324219 L 220.746094 79.621094 L 210.050781 69.101562 \"/>\n<path fill=\"none\" stroke-width=\"1\" stroke-linecap=\"butt\" stroke-linejoin=\"miter\" stroke=\"rgb(26.666667%, 26.666667%, 26.666667%)\" stroke-opacity=\"1\" stroke-miterlimit=\"10\" d=\"M 269.785156 148.195312 L 279.960938 154.300781 \"/>\n<path fill-rule=\"nonzero\" fill=\"rgb(26.666667%, 26.666667%, 26.666667%)\" fill-opacity=\"1\" d=\"M 292.191406 161.644531 L 277.574219 158.277344 L 282.347656 150.328125 L 292.191406 161.644531 \"/>\n<path fill=\"none\" stroke-width=\"1\" stroke-linecap=\"butt\" stroke-linejoin=\"miter\" stroke=\"rgb(26.666667%, 26.666667%, 26.666667%)\" stroke-opacity=\"1\" stroke-miterlimit=\"10\" d=\"M 269.785156 148.195312 L 270.285156 147.261719 \"/>\n<path fill-rule=\"nonzero\" fill=\"rgb(26.666667%, 26.666667%, 26.666667%)\" fill-opacity=\"1\" d=\"M 263.558594 159.84375 L 266.199219 145.074219 L 274.375 149.445312 L 263.558594 159.84375 \"/>\n<path fill=\"none\" stroke-width=\"1\" stroke-linecap=\"butt\" stroke-linejoin=\"miter\" stroke=\"rgb(26.666667%, 26.666667%, 26.666667%)\" stroke-opacity=\"1\" stroke-miterlimit=\"10\" d=\"M 269.785156 148.195312 L 298.945312 152.703125 \"/>\n<path fill-rule=\"nonzero\" fill=\"rgb(26.666667%, 26.666667%, 26.666667%)\" fill-opacity=\"1\" d=\"M 313.042969 154.882812 L 298.234375 157.285156 L 299.652344 148.121094 L 313.042969 154.882812 \"/>\n<path fill=\"none\" stroke-width=\"1\" stroke-linecap=\"butt\" stroke-linejoin=\"miter\" stroke=\"rgb(26.666667%, 26.666667%, 26.666667%)\" stroke-opacity=\"1\" stroke-miterlimit=\"10\" d=\"M 269.785156 148.195312 L 252.792969 152.960938 \"/>\n<path fill-rule=\"nonzero\" fill=\"rgb(26.666667%, 26.666667%, 26.666667%)\" fill-opacity=\"1\" d=\"M 239.058594 156.8125 L 251.539062 148.5 L 254.042969 157.425781 L 239.058594 156.8125 \"/>\n<path fill=\"none\" stroke-width=\"1\" stroke-linecap=\"butt\" stroke-linejoin=\"miter\" stroke=\"rgb(26.666667%, 26.666667%, 26.666667%)\" stroke-opacity=\"1\" stroke-miterlimit=\"10\" d=\"M 132.785156 122.828125 L 84.382812 121.660156 \"/>\n<path fill-rule=\"nonzero\" fill=\"rgb(26.666667%, 26.666667%, 26.666667%)\" fill-opacity=\"1\" d=\"M 70.121094 121.3125 L 84.492188 117.023438 L 84.269531 126.292969 L 70.121094 121.3125 \"/>\n<path fill=\"none\" stroke-width=\"1\" stroke-linecap=\"butt\" stroke-linejoin=\"miter\" stroke=\"rgb(26.666667%, 26.666667%, 26.666667%)\" stroke-opacity=\"1\" stroke-miterlimit=\"10\" d=\"M 132.785156 122.828125 L 126.453125 126.507812 \"/>\n<path fill-rule=\"nonzero\" fill=\"rgb(26.666667%, 26.666667%, 26.666667%)\" fill-opacity=\"1\" d=\"M 114.117188 133.671875 L 124.125 122.5 L 128.78125 130.515625 L 114.117188 133.671875 \"/>\n<path fill=\"none\" stroke-width=\"1\" stroke-linecap=\"butt\" stroke-linejoin=\"miter\" stroke=\"rgb(26.666667%, 26.666667%, 26.666667%)\" stroke-opacity=\"1\" stroke-miterlimit=\"10\" d=\"M 132.785156 122.828125 L 93.261719 128.859375 \"/>\n<path fill-rule=\"nonzero\" fill=\"rgb(26.666667%, 26.666667%, 26.666667%)\" fill-opacity=\"1\" d=\"M 79.160156 131.011719 L 92.5625 124.277344 L 93.960938 133.441406 L 79.160156 131.011719 \"/>\n<path fill=\"none\" stroke-width=\"1\" stroke-linecap=\"butt\" stroke-linejoin=\"miter\" stroke=\"rgb(26.666667%, 26.666667%, 26.666667%)\" stroke-opacity=\"1\" stroke-miterlimit=\"10\" d=\"M 132.785156 122.828125 L 113.367188 117.9375 \"/>\n<path fill-rule=\"nonzero\" fill=\"rgb(26.666667%, 26.666667%, 26.666667%)\" fill-opacity=\"1\" d=\"M 99.535156 114.449219 L 114.5 113.441406 L 112.238281 122.429688 L 99.535156 114.449219 \"/>\n<path fill=\"none\" stroke-width=\"1\" stroke-linecap=\"butt\" stroke-linejoin=\"miter\" stroke=\"rgb(26.666667%, 26.666667%, 26.666667%)\" stroke-opacity=\"1\" stroke-miterlimit=\"10\" d=\"M 368.105469 111.402344 L 374.753906 108.054688 \"/>\n<path fill-rule=\"nonzero\" fill=\"rgb(26.666667%, 26.666667%, 26.666667%)\" fill-opacity=\"1\" d=\"M 387.492188 101.632812 L 376.839844 112.191406 L 372.667969 103.914062 L 387.492188 101.632812 \"/>\n<path fill=\"none\" stroke-width=\"1\" stroke-linecap=\"butt\" stroke-linejoin=\"miter\" stroke=\"rgb(26.666667%, 26.666667%, 26.666667%)\" stroke-opacity=\"1\" stroke-miterlimit=\"10\" d=\"M 368.105469 111.402344 L 415.628906 113.925781 \"/>\n<path fill-rule=\"nonzero\" fill=\"rgb(26.666667%, 26.666667%, 26.666667%)\" fill-opacity=\"1\" d=\"M 429.875 114.683594 L 415.386719 118.554688 L 415.875 109.296875 L 429.875 114.683594 \"/>\n<path fill=\"none\" stroke-width=\"1\" stroke-linecap=\"butt\" stroke-linejoin=\"miter\" stroke=\"rgb(26.666667%, 26.666667%, 26.666667%)\" stroke-opacity=\"1\" stroke-miterlimit=\"10\" d=\"M 368.105469 111.402344 L 410.742188 106.269531 \"/>\n<path fill-rule=\"nonzero\" fill=\"rgb(26.666667%, 26.666667%, 26.666667%)\" fill-opacity=\"1\" d=\"M 424.90625 104.5625 L 411.296875 110.871094 L 410.1875 101.667969 L 424.90625 104.5625 \"/>\n<path fill=\"none\" stroke-width=\"1\" stroke-linecap=\"butt\" stroke-linejoin=\"miter\" stroke=\"rgb(26.666667%, 26.666667%, 26.666667%)\" stroke-opacity=\"1\" stroke-miterlimit=\"10\" d=\"M 368.105469 111.402344 L 385.144531 116.53125 \"/>\n<path fill-rule=\"nonzero\" fill=\"rgb(26.666667%, 26.666667%, 26.666667%)\" fill-opacity=\"1\" d=\"M 398.808594 120.640625 L 383.8125 120.96875 L 386.480469 112.089844 L 398.808594 120.640625 \"/>\n<path fill=\"none\" stroke-width=\"1\" stroke-linecap=\"butt\" stroke-linejoin=\"miter\" stroke=\"rgb(26.666667%, 26.666667%, 26.666667%)\" stroke-opacity=\"1\" stroke-miterlimit=\"10\" d=\"M 235.007812 51.511719 L 235.628906 53 \"/>\n<path fill-rule=\"nonzero\" fill=\"rgb(26.666667%, 26.666667%, 26.666667%)\" fill-opacity=\"1\" d=\"M 230.148438 39.828125 L 239.910156 51.21875 L 231.347656 54.78125 L 230.148438 39.828125 \"/>\n<path fill=\"none\" stroke-width=\"1\" stroke-linecap=\"butt\" stroke-linejoin=\"miter\" stroke=\"rgb(26.666667%, 26.666667%, 26.666667%)\" stroke-opacity=\"1\" stroke-miterlimit=\"10\" d=\"M 235.007812 51.511719 L 236.421875 50.800781 \"/>\n<path fill-rule=\"nonzero\" fill=\"rgb(26.666667%, 26.666667%, 26.666667%)\" fill-opacity=\"1\" d=\"M 249.171875 44.402344 L 238.5 54.945312 L 234.34375 46.65625 L 249.171875 44.402344 \"/>\n<path fill=\"none\" stroke-width=\"1\" stroke-linecap=\"butt\" stroke-linejoin=\"miter\" stroke=\"rgb(26.666667%, 26.666667%, 26.666667%)\" stroke-opacity=\"1\" stroke-miterlimit=\"10\" d=\"M 235.007812 51.511719 L 225.65625 61.09375 \"/>\n<path fill-rule=\"nonzero\" fill=\"rgb(26.666667%, 26.666667%, 26.666667%)\" fill-opacity=\"1\" d=\"M 235.621094 50.882812 L 228.972656 64.332031 L 222.339844 57.855469 L 235.621094 50.882812 \"/>\n<path fill=\"none\" stroke-width=\"1\" stroke-linecap=\"butt\" stroke-linejoin=\"miter\" stroke=\"rgb(26.666667%, 26.666667%, 26.666667%)\" stroke-opacity=\"1\" stroke-miterlimit=\"10\" d=\"M 235.007812 51.511719 L 243.140625 57.390625 \"/>\n<path fill-rule=\"nonzero\" fill=\"rgb(26.666667%, 26.666667%, 26.666667%)\" fill-opacity=\"1\" d=\"M 231.578125 49.03125 L 245.855469 53.632812 L 240.425781 61.144531 L 231.578125 49.03125 \"/>\n<path fill=\"none\" stroke-width=\"1\" stroke-linecap=\"butt\" stroke-linejoin=\"miter\" stroke=\"rgb(26.666667%, 26.666667%, 26.666667%)\" stroke-opacity=\"1\" stroke-miterlimit=\"10\" d=\"M 174.492188 74.179688 L 175.75 74.023438 \"/>\n<path fill-rule=\"nonzero\" fill=\"rgb(26.666667%, 26.666667%, 26.666667%)\" fill-opacity=\"1\" d=\"M 161.589844 75.757812 L 175.1875 69.421875 L 176.3125 78.625 L 161.589844 75.757812 \"/>\n<path fill=\"none\" stroke-width=\"1\" stroke-linecap=\"butt\" stroke-linejoin=\"miter\" stroke=\"rgb(26.666667%, 26.666667%, 26.666667%)\" stroke-opacity=\"1\" stroke-miterlimit=\"10\" d=\"M 174.492188 74.179688 L 166.609375 73.929688 \"/>\n<path fill-rule=\"nonzero\" fill=\"rgb(26.666667%, 26.666667%, 26.666667%)\" fill-opacity=\"1\" d=\"M 152.351562 73.484375 L 166.753906 69.296875 L 166.464844 78.5625 L 152.351562 73.484375 \"/>\n<path fill=\"none\" stroke-width=\"1\" stroke-linecap=\"butt\" stroke-linejoin=\"miter\" stroke=\"rgb(26.666667%, 26.666667%, 26.666667%)\" stroke-opacity=\"1\" stroke-miterlimit=\"10\" d=\"M 174.492188 74.179688 L 167.273438 72.964844 \"/>\n<path fill-rule=\"nonzero\" fill=\"rgb(26.666667%, 26.666667%, 26.666667%)\" fill-opacity=\"1\" d=\"M 153.207031 70.597656 L 168.042969 68.394531 L 166.503906 77.535156 L 153.207031 70.597656 \"/>\n<path fill=\"none\" stroke-width=\"1\" stroke-linecap=\"butt\" stroke-linejoin=\"miter\" stroke=\"rgb(26.666667%, 26.666667%, 26.666667%)\" stroke-opacity=\"1\" stroke-miterlimit=\"10\" d=\"M 174.492188 74.179688 L 180.355469 76.222656 \"/>\n<path fill-rule=\"nonzero\" fill=\"rgb(26.666667%, 26.666667%, 26.666667%)\" fill-opacity=\"1\" d=\"M 166.886719 71.527344 L 181.882812 71.84375 L 178.832031 80.597656 L 166.886719 71.527344 \"/>\n<path fill=\"none\" stroke-width=\"1\" stroke-linecap=\"butt\" stroke-linejoin=\"miter\" stroke=\"rgb(26.666667%, 26.666667%, 26.666667%)\" stroke-opacity=\"1\" stroke-miterlimit=\"10\" d=\"M 271.015625 68.859375 L 274.8125 68.253906 \"/>\n<path fill-rule=\"nonzero\" fill=\"rgb(26.666667%, 26.666667%, 26.666667%)\" fill-opacity=\"1\" d=\"M 288.898438 66.019531 L 275.539062 72.832031 L 274.085938 63.675781 L 288.898438 66.019531 \"/>\n<path fill=\"none\" stroke-width=\"1\" stroke-linecap=\"butt\" stroke-linejoin=\"miter\" stroke=\"rgb(26.666667%, 26.666667%, 26.666667%)\" stroke-opacity=\"1\" stroke-miterlimit=\"10\" d=\"M 271.015625 68.859375 L 271.402344 68.859375 \"/>\n<path fill-rule=\"nonzero\" fill=\"rgb(26.666667%, 26.666667%, 26.666667%)\" fill-opacity=\"1\" d=\"M 285.667969 68.964844 L 271.371094 73.496094 L 271.4375 64.226562 L 285.667969 68.964844 \"/>\n<path fill=\"none\" stroke-width=\"1\" stroke-linecap=\"butt\" stroke-linejoin=\"miter\" stroke=\"rgb(26.666667%, 26.666667%, 26.666667%)\" stroke-opacity=\"1\" stroke-miterlimit=\"10\" d=\"M 271.015625 68.859375 L 265.945312 84.851562 \"/>\n<path fill-rule=\"nonzero\" fill=\"rgb(26.666667%, 26.666667%, 26.666667%)\" fill-opacity=\"1\" d=\"M 270.257812 71.25 L 270.367188 86.25 L 261.527344 83.449219 L 270.257812 71.25 \"/>\n<path fill=\"none\" stroke-width=\"1\" stroke-linecap=\"butt\" stroke-linejoin=\"miter\" stroke=\"rgb(26.666667%, 26.666667%, 26.666667%)\" stroke-opacity=\"1\" stroke-miterlimit=\"10\" d=\"M 271.015625 68.859375 L 266.84375 70.621094 \"/>\n<path fill-rule=\"nonzero\" fill=\"rgb(26.666667%, 26.666667%, 26.666667%)\" fill-opacity=\"1\" d=\"M 279.984375 65.0625 L 268.652344 74.890625 L 265.039062 66.355469 L 279.984375 65.0625 \"/>\n<path fill=\"none\" stroke-width=\"1\" stroke-linecap=\"butt\" stroke-linejoin=\"miter\" stroke=\"rgb(26.666667%, 26.666667%, 26.666667%)\" stroke-opacity=\"1\" stroke-miterlimit=\"10\" d=\"M 201.105469 64.632812 L 211.324219 70.371094 \"/>\n<path fill-rule=\"nonzero\" fill=\"rgb(26.666667%, 26.666667%, 26.666667%)\" fill-opacity=\"1\" d=\"M 198.886719 63.386719 L 213.59375 66.328125 L 209.054688 74.414062 L 198.886719 63.386719 \"/>\n<path fill=\"none\" stroke-width=\"1\" stroke-linecap=\"butt\" stroke-linejoin=\"miter\" stroke=\"rgb(26.666667%, 26.666667%, 26.666667%)\" stroke-opacity=\"1\" stroke-miterlimit=\"10\" d=\"M 201.105469 64.632812 L 193.605469 78.183594 \"/>\n<path fill-rule=\"nonzero\" fill=\"rgb(26.666667%, 26.666667%, 26.666667%)\" fill-opacity=\"1\" d=\"M 200.515625 65.703125 L 197.660156 80.425781 L 189.550781 75.9375 L 200.515625 65.703125 \"/>\n<path fill=\"none\" stroke-width=\"1\" stroke-linecap=\"butt\" stroke-linejoin=\"miter\" stroke=\"rgb(26.666667%, 26.666667%, 26.666667%)\" stroke-opacity=\"1\" stroke-miterlimit=\"10\" d=\"M 201.105469 64.632812 L 203.730469 65.859375 \"/>\n<path fill-rule=\"nonzero\" fill=\"rgb(26.666667%, 26.666667%, 26.666667%)\" fill-opacity=\"1\" d=\"M 190.804688 59.824219 L 205.691406 61.660156 L 201.769531 70.058594 L 190.804688 59.824219 \"/>\n<path fill=\"none\" stroke-width=\"1\" stroke-linecap=\"butt\" stroke-linejoin=\"miter\" stroke=\"rgb(26.666667%, 26.666667%, 26.666667%)\" stroke-opacity=\"1\" stroke-miterlimit=\"10\" d=\"M 201.105469 64.632812 L 197.246094 63.972656 \"/>\n<path fill-rule=\"nonzero\" fill=\"rgb(26.666667%, 26.666667%, 26.666667%)\" fill-opacity=\"1\" d=\"M 183.1875 61.5625 L 198.03125 59.402344 L 196.464844 68.542969 L 183.1875 61.5625 \"/>\n<path fill=\"none\" stroke-width=\"1\" stroke-linecap=\"butt\" stroke-linejoin=\"miter\" stroke=\"rgb(26.666667%, 26.666667%, 26.666667%)\" stroke-opacity=\"1\" stroke-miterlimit=\"10\" d=\"M 300.765625 166.792969 L 302.113281 167.097656 \"/>\n<path fill-rule=\"nonzero\" fill=\"rgb(26.666667%, 26.666667%, 26.666667%)\" fill-opacity=\"1\" d=\"M 316.035156 170.207031 L 301.105469 171.621094 L 303.125 162.570312 L 316.035156 170.207031 \"/>\n<path fill=\"none\" stroke-width=\"1\" stroke-linecap=\"butt\" stroke-linejoin=\"miter\" stroke=\"rgb(26.666667%, 26.666667%, 26.666667%)\" stroke-opacity=\"1\" stroke-miterlimit=\"10\" d=\"M 300.765625 166.792969 L 300.527344 151.210938 \"/>\n<path fill-rule=\"nonzero\" fill=\"rgb(26.666667%, 26.666667%, 26.666667%)\" fill-opacity=\"1\" d=\"M 300.742188 165.476562 L 295.890625 151.28125 L 305.160156 151.140625 L 300.742188 165.476562 \"/>\n<path fill=\"none\" stroke-width=\"1\" stroke-linecap=\"butt\" stroke-linejoin=\"miter\" stroke=\"rgb(26.666667%, 26.666667%, 26.666667%)\" stroke-opacity=\"1\" stroke-miterlimit=\"10\" d=\"M 300.765625 166.792969 L 294.40625 160.113281 \"/>\n<path fill-rule=\"nonzero\" fill=\"rgb(26.666667%, 26.666667%, 26.666667%)\" fill-opacity=\"1\" d=\"M 304.242188 170.445312 L 291.046875 163.308594 L 297.761719 156.917969 L 304.242188 170.445312 \"/>\n<path fill=\"none\" stroke-width=\"1\" stroke-linecap=\"butt\" stroke-linejoin=\"miter\" stroke=\"rgb(26.666667%, 26.666667%, 26.666667%)\" stroke-opacity=\"1\" stroke-miterlimit=\"10\" d=\"M 300.765625 166.792969 L 300.929688 166.859375 \"/>\n<path fill-rule=\"nonzero\" fill=\"rgb(26.666667%, 26.666667%, 26.666667%)\" fill-opacity=\"1\" d=\"M 314.15625 172.207031 L 299.191406 171.160156 L 302.667969 162.5625 L 314.15625 172.207031 \"/>\n<path fill=\"none\" stroke-width=\"1\" stroke-linecap=\"butt\" stroke-linejoin=\"miter\" stroke=\"rgb(26.666667%, 26.666667%, 26.666667%)\" stroke-opacity=\"1\" stroke-miterlimit=\"10\" d=\"M 258.84375 168.660156 L 265.25 163.015625 \"/>\n<path fill-rule=\"nonzero\" fill=\"rgb(26.666667%, 26.666667%, 26.666667%)\" fill-opacity=\"1\" d=\"M 254.550781 172.449219 L 262.183594 159.539062 L 268.3125 166.492188 L 254.550781 172.449219 \"/>\n<path fill=\"none\" stroke-width=\"1\" stroke-linecap=\"butt\" stroke-linejoin=\"miter\" stroke=\"rgb(26.666667%, 26.666667%, 26.666667%)\" stroke-opacity=\"1\" stroke-miterlimit=\"10\" d=\"M 258.84375 168.660156 L 250.101562 160.339844 \"/>\n<path fill-rule=\"nonzero\" fill=\"rgb(26.666667%, 26.666667%, 26.666667%)\" fill-opacity=\"1\" d=\"M 260.433594 170.175781 L 246.90625 163.695312 L 253.296875 156.980469 L 260.433594 170.175781 \"/>\n<path fill=\"none\" stroke-width=\"1\" stroke-linecap=\"butt\" stroke-linejoin=\"miter\" stroke=\"rgb(26.666667%, 26.666667%, 26.666667%)\" stroke-opacity=\"1\" stroke-miterlimit=\"10\" d=\"M 258.84375 168.660156 L 257.519531 155.863281 \"/>\n<path fill-rule=\"nonzero\" fill=\"rgb(26.666667%, 26.666667%, 26.666667%)\" fill-opacity=\"1\" d=\"M 258.988281 170.054688 L 252.90625 156.339844 L 262.128906 155.386719 L 258.988281 170.054688 \"/>\n<path fill=\"none\" stroke-width=\"1\" stroke-linecap=\"butt\" stroke-linejoin=\"miter\" stroke=\"rgb(26.666667%, 26.666667%, 26.666667%)\" stroke-opacity=\"1\" stroke-miterlimit=\"10\" d=\"M 258.84375 168.660156 L 261.640625 167.585938 \"/>\n<path fill-rule=\"nonzero\" fill=\"rgb(26.666667%, 26.666667%, 26.666667%)\" fill-opacity=\"1\" d=\"M 248.324219 172.703125 L 259.980469 163.257812 L 263.304688 171.914062 L 248.324219 172.703125 \"/>\n<path fill=\"none\" stroke-width=\"1\" stroke-linecap=\"butt\" stroke-linejoin=\"miter\" stroke=\"rgb(26.666667%, 26.666667%, 26.666667%)\" stroke-opacity=\"1\" stroke-miterlimit=\"10\" d=\"M 322.925781 156.410156 L 330.164062 157.859375 \"/>\n<path fill-rule=\"nonzero\" fill=\"rgb(26.666667%, 26.666667%, 26.666667%)\" fill-opacity=\"1\" d=\"M 344.152344 160.65625 L 329.253906 162.402344 L 331.070312 153.3125 L 344.152344 160.65625 \"/>\n<path fill=\"none\" stroke-width=\"1\" stroke-linecap=\"butt\" stroke-linejoin=\"miter\" stroke=\"rgb(26.666667%, 26.666667%, 26.666667%)\" stroke-opacity=\"1\" stroke-miterlimit=\"10\" d=\"M 322.925781 156.410156 L 315.742188 152.925781 \"/>\n<path fill-rule=\"nonzero\" fill=\"rgb(26.666667%, 26.666667%, 26.666667%)\" fill-opacity=\"1\" d=\"M 328.574219 159.152344 L 313.71875 157.09375 L 317.765625 148.753906 L 328.574219 159.152344 \"/>\n<path fill=\"none\" stroke-width=\"1\" stroke-linecap=\"butt\" stroke-linejoin=\"miter\" stroke=\"rgb(26.666667%, 26.666667%, 26.666667%)\" stroke-opacity=\"1\" stroke-miterlimit=\"10\" d=\"M 322.925781 156.410156 L 326.210938 156.257812 \"/>\n<path fill-rule=\"nonzero\" fill=\"rgb(26.666667%, 26.666667%, 26.666667%)\" fill-opacity=\"1\" d=\"M 340.460938 155.585938 L 326.429688 160.886719 L 325.992188 151.625 L 340.460938 155.585938 \"/>\n<path fill=\"none\" stroke-width=\"1\" stroke-linecap=\"butt\" stroke-linejoin=\"miter\" stroke=\"rgb(26.666667%, 26.666667%, 26.666667%)\" stroke-opacity=\"1\" stroke-miterlimit=\"10\" d=\"M 322.925781 156.410156 L 324.695312 156.597656 \"/>\n<path fill-rule=\"nonzero\" fill=\"rgb(26.666667%, 26.666667%, 26.666667%)\" fill-opacity=\"1\" d=\"M 338.882812 158.105469 L 324.207031 161.207031 L 325.183594 151.988281 L 338.882812 158.105469 \"/>\n<path fill=\"none\" stroke-width=\"1\" stroke-linecap=\"butt\" stroke-linejoin=\"miter\" stroke=\"rgb(26.666667%, 26.666667%, 26.666667%)\" stroke-opacity=\"1\" stroke-miterlimit=\"10\" d=\"M 229.429688 159.515625 L 225.996094 160.125 \"/>\n<path fill-rule=\"nonzero\" fill=\"rgb(26.666667%, 26.666667%, 26.666667%)\" fill-opacity=\"1\" d=\"M 211.953125 162.621094 L 225.1875 155.5625 L 226.808594 164.6875 L 211.953125 162.621094 \"/>\n<path fill=\"none\" stroke-width=\"1\" stroke-linecap=\"butt\" stroke-linejoin=\"miter\" stroke=\"rgb(26.666667%, 26.666667%, 26.666667%)\" stroke-opacity=\"1\" stroke-miterlimit=\"10\" d=\"M 229.429688 159.515625 L 229.582031 159.511719 \"/>\n<path fill-rule=\"nonzero\" fill=\"rgb(26.666667%, 26.666667%, 26.666667%)\" fill-opacity=\"1\" d=\"M 215.316406 159.648438 L 229.539062 154.878906 L 229.625 164.148438 L 215.316406 159.648438 \"/>\n<path fill=\"none\" stroke-width=\"1\" stroke-linecap=\"butt\" stroke-linejoin=\"miter\" stroke=\"rgb(26.666667%, 26.666667%, 26.666667%)\" stroke-opacity=\"1\" stroke-miterlimit=\"10\" d=\"M 229.429688 159.515625 L 232.582031 158.136719 \"/>\n<path fill-rule=\"nonzero\" fill=\"rgb(26.666667%, 26.666667%, 26.666667%)\" fill-opacity=\"1\" d=\"M 219.511719 163.855469 L 230.722656 153.890625 L 234.4375 162.382812 L 219.511719 163.855469 \"/>\n<path fill=\"none\" stroke-width=\"1\" stroke-linecap=\"butt\" stroke-linejoin=\"miter\" stroke=\"rgb(26.666667%, 26.666667%, 26.666667%)\" stroke-opacity=\"1\" stroke-miterlimit=\"10\" d=\"M 229.429688 159.515625 L 237.929688 145.996094 \"/>\n<path fill-rule=\"nonzero\" fill=\"rgb(26.666667%, 26.666667%, 26.666667%)\" fill-opacity=\"1\" d=\"M 230.335938 158.070312 L 234.007812 143.527344 L 241.855469 148.460938 L 230.335938 158.070312 \"/>\n<path fill=\"none\" stroke-width=\"1\" stroke-linecap=\"butt\" stroke-linejoin=\"miter\" stroke=\"rgb(26.666667%, 26.666667%, 26.666667%)\" stroke-opacity=\"1\" stroke-miterlimit=\"10\" d=\"M 60.121094 121.070312 L 46.777344 120.136719 \"/>\n<path fill-rule=\"nonzero\" fill=\"rgb(26.666667%, 26.666667%, 26.666667%)\" fill-opacity=\"1\" d=\"M 32.546875 119.140625 L 47.101562 115.515625 L 46.453125 124.761719 L 32.546875 119.140625 \"/>\n<path fill=\"none\" stroke-width=\"1\" stroke-linecap=\"butt\" stroke-linejoin=\"miter\" stroke=\"rgb(26.666667%, 26.666667%, 26.666667%)\" stroke-opacity=\"1\" stroke-miterlimit=\"10\" d=\"M 60.121094 121.070312 L 44.257812 121.507812 \"/>\n<path fill-rule=\"nonzero\" fill=\"rgb(26.666667%, 26.666667%, 26.666667%)\" fill-opacity=\"1\" d=\"M 29.996094 121.898438 L 44.128906 116.871094 L 44.382812 126.140625 L 29.996094 121.898438 \"/>\n<path fill=\"none\" stroke-width=\"1\" stroke-linecap=\"butt\" stroke-linejoin=\"miter\" stroke=\"rgb(26.666667%, 26.666667%, 26.666667%)\" stroke-opacity=\"1\" stroke-miterlimit=\"10\" d=\"M 60.121094 121.070312 L 55.964844 120.324219 \"/>\n<path fill-rule=\"nonzero\" fill=\"rgb(26.666667%, 26.666667%, 26.666667%)\" fill-opacity=\"1\" d=\"M 41.925781 117.800781 L 56.785156 115.761719 L 55.144531 124.886719 L 41.925781 117.800781 \"/>\n<path fill=\"none\" stroke-width=\"1\" stroke-linecap=\"butt\" stroke-linejoin=\"miter\" stroke=\"rgb(26.666667%, 26.666667%, 26.666667%)\" stroke-opacity=\"1\" stroke-miterlimit=\"10\" d=\"M 60.121094 121.070312 L 55.433594 121.546875 \"/>\n<path fill-rule=\"nonzero\" fill=\"rgb(26.666667%, 26.666667%, 26.666667%)\" fill-opacity=\"1\" d=\"M 41.242188 122.984375 L 54.96875 116.933594 L 55.902344 126.160156 L 41.242188 122.984375 \"/>\n<path fill=\"none\" stroke-width=\"1\" stroke-linecap=\"butt\" stroke-linejoin=\"miter\" stroke=\"rgb(26.666667%, 26.666667%, 26.666667%)\" stroke-opacity=\"1\" stroke-miterlimit=\"10\" d=\"M 105.46875 138.695312 L 97.925781 125.03125 \"/>\n<path fill-rule=\"nonzero\" fill=\"rgb(26.666667%, 26.666667%, 26.666667%)\" fill-opacity=\"1\" d=\"M 104.820312 137.519531 L 93.867188 127.273438 L 101.980469 122.789062 L 104.820312 137.519531 \"/>\n<path fill=\"none\" stroke-width=\"1\" stroke-linecap=\"butt\" stroke-linejoin=\"miter\" stroke=\"rgb(26.666667%, 26.666667%, 26.666667%)\" stroke-opacity=\"1\" stroke-miterlimit=\"10\" d=\"M 105.46875 138.695312 L 112.785156 132.285156 \"/>\n<path fill-rule=\"nonzero\" fill=\"rgb(26.666667%, 26.666667%, 26.666667%)\" fill-opacity=\"1\" d=\"M 102.054688 141.683594 L 109.734375 128.796875 L 115.839844 135.769531 L 102.054688 141.683594 \"/>\n<path fill=\"none\" stroke-width=\"1\" stroke-linecap=\"butt\" stroke-linejoin=\"miter\" stroke=\"rgb(26.666667%, 26.666667%, 26.666667%)\" stroke-opacity=\"1\" stroke-miterlimit=\"10\" d=\"M 105.46875 138.695312 L 102.875 139.460938 \"/>\n<path fill-rule=\"nonzero\" fill=\"rgb(26.666667%, 26.666667%, 26.666667%)\" fill-opacity=\"1\" d=\"M 89.195312 143.507812 L 101.558594 135.015625 L 104.191406 143.90625 L 89.195312 143.507812 \"/>\n<path fill=\"none\" stroke-width=\"1\" stroke-linecap=\"butt\" stroke-linejoin=\"miter\" stroke=\"rgb(26.666667%, 26.666667%, 26.666667%)\" stroke-opacity=\"1\" stroke-miterlimit=\"10\" d=\"M 105.46875 138.695312 L 111.007812 137.277344 \"/>\n<path fill-rule=\"nonzero\" fill=\"rgb(26.666667%, 26.666667%, 26.666667%)\" fill-opacity=\"1\" d=\"M 97.1875 140.8125 L 109.859375 132.789062 L 112.15625 141.769531 L 97.1875 140.8125 \"/>\n<path fill=\"none\" stroke-width=\"1\" stroke-linecap=\"butt\" stroke-linejoin=\"miter\" stroke=\"rgb(26.666667%, 26.666667%, 26.666667%)\" stroke-opacity=\"1\" stroke-miterlimit=\"10\" d=\"M 69.273438 132.523438 L 56.445312 132.890625 \"/>\n<path fill-rule=\"nonzero\" fill=\"rgb(26.666667%, 26.666667%, 26.666667%)\" fill-opacity=\"1\" d=\"M 42.1875 133.300781 L 56.3125 128.257812 L 56.578125 137.523438 L 42.1875 133.300781 \"/>\n<path fill=\"none\" stroke-width=\"1\" stroke-linecap=\"butt\" stroke-linejoin=\"miter\" stroke=\"rgb(26.666667%, 26.666667%, 26.666667%)\" stroke-opacity=\"1\" stroke-miterlimit=\"10\" d=\"M 69.273438 132.523438 L 57.714844 134.449219 \"/>\n<path fill-rule=\"nonzero\" fill=\"rgb(26.666667%, 26.666667%, 26.666667%)\" fill-opacity=\"1\" d=\"M 43.644531 136.796875 L 56.953125 129.878906 L 58.476562 139.023438 L 43.644531 136.796875 \"/>\n<path fill=\"none\" stroke-width=\"1\" stroke-linecap=\"butt\" stroke-linejoin=\"miter\" stroke=\"rgb(26.666667%, 26.666667%, 26.666667%)\" stroke-opacity=\"1\" stroke-miterlimit=\"10\" d=\"M 69.273438 132.523438 L 70.613281 132.015625 \"/>\n<path fill-rule=\"nonzero\" fill=\"rgb(26.666667%, 26.666667%, 26.666667%)\" fill-opacity=\"1\" d=\"M 57.261719 137.042969 L 68.984375 127.679688 L 72.246094 136.355469 L 57.261719 137.042969 \"/>\n<path fill=\"none\" stroke-width=\"1\" stroke-linecap=\"butt\" stroke-linejoin=\"miter\" stroke=\"rgb(26.666667%, 26.666667%, 26.666667%)\" stroke-opacity=\"1\" stroke-miterlimit=\"10\" d=\"M 69.273438 132.523438 L 68.644531 132.605469 \"/>\n<path fill-rule=\"nonzero\" fill=\"rgb(26.666667%, 26.666667%, 26.666667%)\" fill-opacity=\"1\" d=\"M 54.5 134.480469 L 68.035156 128.011719 L 69.253906 137.199219 L 54.5 134.480469 \"/>\n<path fill=\"none\" stroke-width=\"1\" stroke-linecap=\"butt\" stroke-linejoin=\"miter\" stroke=\"rgb(26.666667%, 26.666667%, 26.666667%)\" stroke-opacity=\"1\" stroke-miterlimit=\"10\" d=\"M 89.839844 112.007812 L 82.894531 110.914062 \"/>\n<path fill-rule=\"nonzero\" fill=\"rgb(26.666667%, 26.666667%, 26.666667%)\" fill-opacity=\"1\" d=\"M 68.800781 108.699219 L 83.613281 106.335938 L 82.171875 115.496094 L 68.800781 108.699219 \"/>\n<path fill=\"none\" stroke-width=\"1\" stroke-linecap=\"butt\" stroke-linejoin=\"miter\" stroke=\"rgb(26.666667%, 26.666667%, 26.666667%)\" stroke-opacity=\"1\" stroke-miterlimit=\"10\" d=\"M 89.839844 112.007812 L 88.847656 111.972656 \"/>\n<path fill-rule=\"nonzero\" fill=\"rgb(26.666667%, 26.666667%, 26.666667%)\" fill-opacity=\"1\" d=\"M 74.589844 111.46875 L 89.011719 107.339844 L 88.683594 116.605469 L 74.589844 111.46875 \"/>\n<path fill=\"none\" stroke-width=\"1\" stroke-linecap=\"butt\" stroke-linejoin=\"miter\" stroke=\"rgb(26.666667%, 26.666667%, 26.666667%)\" stroke-opacity=\"1\" stroke-miterlimit=\"10\" d=\"M 89.839844 112.007812 L 96.300781 127.539062 \"/>\n<path fill-rule=\"nonzero\" fill=\"rgb(26.666667%, 26.666667%, 26.666667%)\" fill-opacity=\"1\" d=\"M 90.820312 114.367188 L 100.582031 125.757812 L 92.023438 129.320312 L 90.820312 114.367188 \"/>\n<path fill=\"none\" stroke-width=\"1\" stroke-linecap=\"butt\" stroke-linejoin=\"miter\" stroke=\"rgb(26.666667%, 26.666667%, 26.666667%)\" stroke-opacity=\"1\" stroke-miterlimit=\"10\" d=\"M 89.839844 112.007812 L 93.261719 113.335938 \"/>\n<path fill-rule=\"nonzero\" fill=\"rgb(26.666667%, 26.666667%, 26.666667%)\" fill-opacity=\"1\" d=\"M 79.960938 108.175781 L 94.9375 109.011719 L 91.585938 117.65625 L 79.960938 108.175781 \"/>\n<path fill=\"none\" stroke-width=\"1\" stroke-linecap=\"butt\" stroke-linejoin=\"miter\" stroke=\"rgb(26.666667%, 26.666667%, 26.666667%)\" stroke-opacity=\"1\" stroke-miterlimit=\"10\" d=\"M 396.421875 97.132812 L 388.125 104.578125 \"/>\n<path fill-rule=\"nonzero\" fill=\"rgb(26.666667%, 26.666667%, 26.666667%)\" fill-opacity=\"1\" d=\"M 398.742188 95.050781 L 391.222656 108.03125 L 385.03125 101.128906 L 398.742188 95.050781 \"/>\n<path fill=\"none\" stroke-width=\"1\" stroke-linecap=\"butt\" stroke-linejoin=\"miter\" stroke=\"rgb(26.666667%, 26.666667%, 26.666667%)\" stroke-opacity=\"1\" stroke-miterlimit=\"10\" d=\"M 396.421875 97.132812 L 405.804688 109.828125 \"/>\n<path fill-rule=\"nonzero\" fill=\"rgb(26.666667%, 26.666667%, 26.666667%)\" fill-opacity=\"1\" d=\"M 397.324219 98.355469 L 409.53125 107.070312 L 402.078125 112.582031 L 397.324219 98.355469 \"/>\n<path fill=\"none\" stroke-width=\"1\" stroke-linecap=\"butt\" stroke-linejoin=\"miter\" stroke=\"rgb(26.666667%, 26.666667%, 26.666667%)\" stroke-opacity=\"1\" stroke-miterlimit=\"10\" d=\"M 396.421875 97.132812 L 395.5625 97.253906 \"/>\n<path fill-rule=\"nonzero\" fill=\"rgb(26.666667%, 26.666667%, 26.666667%)\" fill-opacity=\"1\" d=\"M 409.695312 95.308594 L 396.195312 101.84375 L 394.933594 92.660156 L 409.695312 95.308594 \"/>\n<path fill=\"none\" stroke-width=\"1\" stroke-linecap=\"butt\" stroke-linejoin=\"miter\" stroke=\"rgb(26.666667%, 26.666667%, 26.666667%)\" stroke-opacity=\"1\" stroke-miterlimit=\"10\" d=\"M 396.421875 97.132812 L 397.144531 96.910156 \"/>\n<path fill-rule=\"nonzero\" fill=\"rgb(26.666667%, 26.666667%, 26.666667%)\" fill-opacity=\"1\" d=\"M 410.769531 92.683594 L 398.515625 101.335938 L 395.769531 92.484375 L 410.769531 92.683594 \"/>\n<path fill=\"none\" stroke-width=\"1\" stroke-linecap=\"butt\" stroke-linejoin=\"miter\" stroke=\"rgb(26.666667%, 26.666667%, 26.666667%)\" stroke-opacity=\"1\" stroke-miterlimit=\"10\" d=\"M 439.863281 115.214844 L 455.734375 115.203125 \"/>\n<path fill-rule=\"nonzero\" fill=\"rgb(26.666667%, 26.666667%, 26.666667%)\" fill-opacity=\"1\" d=\"M 470 115.195312 L 455.738281 119.839844 L 455.730469 110.570312 L 470 115.195312 \"/>\n<path fill=\"none\" stroke-width=\"1\" stroke-linecap=\"butt\" stroke-linejoin=\"miter\" stroke=\"rgb(26.666667%, 26.666667%, 26.666667%)\" stroke-opacity=\"1\" stroke-miterlimit=\"10\" d=\"M 439.863281 115.214844 L 452.738281 116.5 \"/>\n<path fill-rule=\"nonzero\" fill=\"rgb(26.666667%, 26.666667%, 26.666667%)\" fill-opacity=\"1\" d=\"M 466.933594 117.921875 L 452.277344 121.113281 L 453.199219 111.890625 L 466.933594 117.921875 \"/>\n<path fill=\"none\" stroke-width=\"1\" stroke-linecap=\"butt\" stroke-linejoin=\"miter\" stroke=\"rgb(26.666667%, 26.666667%, 26.666667%)\" stroke-opacity=\"1\" stroke-miterlimit=\"10\" d=\"M 439.863281 115.214844 L 442.457031 115.777344 \"/>\n<path fill-rule=\"nonzero\" fill=\"rgb(26.666667%, 26.666667%, 26.666667%)\" fill-opacity=\"1\" d=\"M 456.398438 118.796875 L 441.476562 120.304688 L 443.4375 111.246094 L 456.398438 118.796875 \"/>\n<path fill=\"none\" stroke-width=\"1\" stroke-linecap=\"butt\" stroke-linejoin=\"miter\" stroke=\"rgb(26.666667%, 26.666667%, 26.666667%)\" stroke-opacity=\"1\" stroke-miterlimit=\"10\" d=\"M 439.863281 115.214844 L 445.105469 114.84375 \"/>\n<path fill-rule=\"nonzero\" fill=\"rgb(26.666667%, 26.666667%, 26.666667%)\" fill-opacity=\"1\" d=\"M 459.335938 113.832031 L 445.433594 119.464844 L 444.777344 110.21875 L 459.335938 113.832031 \"/>\n<path fill=\"none\" stroke-width=\"1\" stroke-linecap=\"butt\" stroke-linejoin=\"miter\" stroke=\"rgb(26.666667%, 26.666667%, 26.666667%)\" stroke-opacity=\"1\" stroke-miterlimit=\"10\" d=\"M 434.832031 103.367188 L 435.042969 103.300781 \"/>\n<path fill-rule=\"nonzero\" fill=\"rgb(26.666667%, 26.666667%, 26.666667%)\" fill-opacity=\"1\" d=\"M 448.613281 98.894531 L 436.472656 107.707031 L 433.613281 98.890625 L 448.613281 98.894531 \"/>\n<path fill=\"none\" stroke-width=\"1\" stroke-linecap=\"butt\" stroke-linejoin=\"miter\" stroke=\"rgb(26.666667%, 26.666667%, 26.666667%)\" stroke-opacity=\"1\" stroke-miterlimit=\"10\" d=\"M 434.832031 103.367188 L 447.984375 103.351562 \"/>\n<path fill-rule=\"nonzero\" fill=\"rgb(26.666667%, 26.666667%, 26.666667%)\" fill-opacity=\"1\" d=\"M 462.25 103.332031 L 447.988281 107.984375 L 447.980469 98.714844 L 462.25 103.332031 \"/>\n<path fill=\"none\" stroke-width=\"1\" stroke-linecap=\"butt\" stroke-linejoin=\"miter\" stroke=\"rgb(26.666667%, 26.666667%, 26.666667%)\" stroke-opacity=\"1\" stroke-miterlimit=\"10\" d=\"M 434.832031 103.367188 L 447.710938 101.589844 \"/>\n<path fill-rule=\"nonzero\" fill=\"rgb(26.666667%, 26.666667%, 26.666667%)\" fill-opacity=\"1\" d=\"M 461.84375 99.640625 L 448.34375 106.179688 L 447.078125 97 L 461.84375 99.640625 \"/>\n<path fill=\"none\" stroke-width=\"1\" stroke-linecap=\"butt\" stroke-linejoin=\"miter\" stroke=\"rgb(26.666667%, 26.666667%, 26.666667%)\" stroke-opacity=\"1\" stroke-miterlimit=\"10\" d=\"M 434.832031 103.367188 L 436.816406 103.167969 \"/>\n<path fill-rule=\"nonzero\" fill=\"rgb(26.666667%, 26.666667%, 26.666667%)\" fill-opacity=\"1\" d=\"M 451.011719 101.746094 L 437.277344 107.78125 L 436.355469 98.554688 L 451.011719 101.746094 \"/>\n<path fill=\"none\" stroke-width=\"1\" stroke-linecap=\"butt\" stroke-linejoin=\"miter\" stroke=\"rgb(26.666667%, 26.666667%, 26.666667%)\" stroke-opacity=\"1\" stroke-miterlimit=\"10\" d=\"M 408.382812 123.519531 L 412.125 123.804688 \"/>\n<path fill-rule=\"nonzero\" fill=\"rgb(26.666667%, 26.666667%, 26.666667%)\" fill-opacity=\"1\" d=\"M 426.347656 124.882812 L 411.773438 128.425781 L 412.472656 119.183594 L 426.347656 124.882812 \"/>\n<path fill=\"none\" stroke-width=\"1\" stroke-linecap=\"butt\" stroke-linejoin=\"miter\" stroke=\"rgb(26.666667%, 26.666667%, 26.666667%)\" stroke-opacity=\"1\" stroke-miterlimit=\"10\" d=\"M 408.382812 123.519531 L 405 107.496094 \"/>\n<path fill-rule=\"nonzero\" fill=\"rgb(26.666667%, 26.666667%, 26.666667%)\" fill-opacity=\"1\" d=\"M 407.949219 121.457031 L 400.464844 108.457031 L 409.535156 106.539062 L 407.949219 121.457031 \"/>\n<path fill=\"none\" stroke-width=\"1\" stroke-linecap=\"butt\" stroke-linejoin=\"miter\" stroke=\"rgb(26.666667%, 26.666667%, 26.666667%)\" stroke-opacity=\"1\" stroke-miterlimit=\"10\" d=\"M 408.382812 123.519531 L 400.960938 120.535156 \"/>\n<path fill-rule=\"nonzero\" fill=\"rgb(26.666667%, 26.666667%, 26.666667%)\" fill-opacity=\"1\" d=\"M 414.195312 125.859375 L 399.230469 124.835938 L 402.6875 116.234375 L 414.195312 125.859375 \"/>\n<path fill=\"none\" stroke-width=\"1\" stroke-linecap=\"butt\" stroke-linejoin=\"miter\" stroke=\"rgb(26.666667%, 26.666667%, 26.666667%)\" stroke-opacity=\"1\" stroke-miterlimit=\"10\" d=\"M 408.382812 123.519531 L 413.25 124.699219 \"/>\n<path fill-rule=\"nonzero\" fill=\"rgb(26.666667%, 26.666667%, 26.666667%)\" fill-opacity=\"1\" d=\"M 427.113281 128.058594 L 412.15625 129.203125 L 414.339844 120.195312 L 427.113281 128.058594 \"/>\n<path fill=\"none\" stroke-width=\"1\" stroke-linecap=\"butt\" stroke-linejoin=\"miter\" stroke=\"rgb(26.666667%, 26.666667%, 26.666667%)\" stroke-opacity=\"1\" stroke-miterlimit=\"10\" d=\"M 226.308594 30.597656 L 227.636719 31.0625 \"/>\n<path fill-rule=\"nonzero\" fill=\"rgb(26.666667%, 26.666667%, 26.666667%)\" fill-opacity=\"1\" d=\"M 214.167969 26.355469 L 229.164062 26.683594 L 226.109375 35.4375 L 214.167969 26.355469 \"/>\n<path fill=\"none\" stroke-width=\"1\" stroke-linecap=\"butt\" stroke-linejoin=\"miter\" stroke=\"rgb(26.666667%, 26.666667%, 26.666667%)\" stroke-opacity=\"1\" stroke-miterlimit=\"10\" d=\"M 226.308594 30.597656 L 220.234375 34.210938 \"/>\n<path fill-rule=\"nonzero\" fill=\"rgb(26.666667%, 26.666667%, 26.666667%)\" fill-opacity=\"1\" d=\"M 232.492188 26.914062 L 222.605469 38.195312 L 217.863281 30.230469 L 232.492188 26.914062 \"/>\n<path fill=\"none\" stroke-width=\"1\" stroke-linecap=\"butt\" stroke-linejoin=\"miter\" stroke=\"rgb(26.666667%, 26.666667%, 26.666667%)\" stroke-opacity=\"1\" stroke-miterlimit=\"10\" d=\"M 226.308594 30.597656 L 223.328125 43.660156 \"/>\n<path fill-rule=\"nonzero\" fill=\"rgb(26.666667%, 26.666667%, 26.666667%)\" fill-opacity=\"1\" d=\"M 226.5 29.75 L 227.847656 44.6875 L 218.808594 42.628906 L 226.5 29.75 \"/>\n<path fill=\"none\" stroke-width=\"1\" stroke-linecap=\"butt\" stroke-linejoin=\"miter\" stroke=\"rgb(26.666667%, 26.666667%, 26.666667%)\" stroke-opacity=\"1\" stroke-miterlimit=\"10\" d=\"M 226.308594 30.597656 L 233.414062 37.246094 \"/>\n<path fill-rule=\"nonzero\" fill=\"rgb(26.666667%, 26.666667%, 26.666667%)\" fill-opacity=\"1\" d=\"M 223 27.5 L 236.582031 33.863281 L 230.246094 40.632812 L 223 27.5 \"/>\n<path fill=\"none\" stroke-width=\"1\" stroke-linecap=\"butt\" stroke-linejoin=\"miter\" stroke=\"rgb(26.666667%, 26.666667%, 26.666667%)\" stroke-opacity=\"1\" stroke-miterlimit=\"10\" d=\"M 258.109375 39.917969 L 253.351562 42.253906 \"/>\n<path fill-rule=\"nonzero\" fill=\"rgb(26.666667%, 26.666667%, 26.666667%)\" fill-opacity=\"1\" d=\"M 266.15625 35.964844 L 255.394531 46.414062 L 251.308594 38.09375 L 266.15625 35.964844 \"/>\n<path fill-rule=\"nonzero\" fill=\"rgb(100%, 0%, 0%)\" fill-opacity=\"1\" stroke-width=\"1\" stroke-linecap=\"butt\" stroke-linejoin=\"miter\" stroke=\"rgb(0%, 0%, 0%)\" stroke-opacity=\"1\" stroke-miterlimit=\"10\" d=\"M 259.714844 114.910156 C 259.714844 120.433594 255.238281 124.910156 249.714844 124.910156 C 244.191406 124.910156 239.714844 120.433594 239.714844 114.910156 C 239.714844 109.386719 244.191406 104.910156 249.714844 104.910156 C 255.238281 104.910156 259.714844 109.386719 259.714844 114.910156 \"/>\n<path fill-rule=\"nonzero\" fill=\"rgb(100%, 0%, 0%)\" fill-opacity=\"1\" stroke-width=\"1\" stroke-linecap=\"butt\" stroke-linejoin=\"miter\" stroke=\"rgb(0%, 0%, 0%)\" stroke-opacity=\"1\" stroke-miterlimit=\"10\" d=\"M 240.6875 79.402344 C 240.6875 84.925781 236.207031 89.402344 230.6875 89.402344 C 225.164062 89.402344 220.6875 84.925781 220.6875 79.402344 C 220.6875 73.878906 225.164062 69.402344 230.6875 69.402344 C 236.207031 69.402344 240.6875 73.878906 240.6875 79.402344 \"/>\n<path fill-rule=\"nonzero\" fill=\"rgb(100%, 0%, 0%)\" fill-opacity=\"1\" stroke-width=\"1\" stroke-linecap=\"butt\" stroke-linejoin=\"miter\" stroke=\"rgb(0%, 0%, 0%)\" stroke-opacity=\"1\" stroke-miterlimit=\"10\" d=\"M 279.785156 148.195312 C 279.785156 153.71875 275.308594 158.195312 269.785156 158.195312 C 264.265625 158.195312 259.785156 153.71875 259.785156 148.195312 C 259.785156 142.671875 264.265625 138.195312 269.785156 138.195312 C 275.308594 138.195312 279.785156 142.671875 279.785156 148.195312 \"/>\n<path fill-rule=\"nonzero\" fill=\"rgb(100%, 0%, 0%)\" fill-opacity=\"1\" stroke-width=\"1\" stroke-linecap=\"butt\" stroke-linejoin=\"miter\" stroke=\"rgb(0%, 0%, 0%)\" stroke-opacity=\"1\" stroke-miterlimit=\"10\" d=\"M 142.785156 122.828125 C 142.785156 128.351562 138.304688 132.828125 132.785156 132.828125 C 127.261719 132.828125 122.785156 128.351562 122.785156 122.828125 C 122.785156 117.304688 127.261719 112.828125 132.785156 112.828125 C 138.304688 112.828125 142.785156 117.304688 142.785156 122.828125 \"/>\n<path fill-rule=\"nonzero\" fill=\"rgb(100%, 0%, 0%)\" fill-opacity=\"1\" stroke-width=\"1\" stroke-linecap=\"butt\" stroke-linejoin=\"miter\" stroke=\"rgb(0%, 0%, 0%)\" stroke-opacity=\"1\" stroke-miterlimit=\"10\" d=\"M 378.105469 111.402344 C 378.105469 116.925781 373.625 121.402344 368.105469 121.402344 C 362.582031 121.402344 358.105469 116.925781 358.105469 111.402344 C 358.105469 105.878906 362.582031 101.402344 368.105469 101.402344 C 373.625 101.402344 378.105469 105.878906 378.105469 111.402344 \"/>\n<path fill-rule=\"nonzero\" fill=\"rgb(100%, 0%, 0%)\" fill-opacity=\"1\" stroke-width=\"1\" stroke-linecap=\"butt\" stroke-linejoin=\"miter\" stroke=\"rgb(0%, 0%, 0%)\" stroke-opacity=\"1\" stroke-miterlimit=\"10\" d=\"M 245.007812 51.511719 C 245.007812 57.03125 240.53125 61.511719 235.007812 61.511719 C 229.484375 61.511719 225.007812 57.03125 225.007812 51.511719 C 225.007812 45.988281 229.484375 41.511719 235.007812 41.511719 C 240.53125 41.511719 245.007812 45.988281 245.007812 51.511719 \"/>\n<path fill-rule=\"nonzero\" fill=\"rgb(100%, 0%, 0%)\" fill-opacity=\"1\" stroke-width=\"1\" stroke-linecap=\"butt\" stroke-linejoin=\"miter\" stroke=\"rgb(0%, 0%, 0%)\" stroke-opacity=\"1\" stroke-miterlimit=\"10\" d=\"M 184.492188 74.179688 C 184.492188 79.699219 180.015625 84.179688 174.492188 84.179688 C 168.96875 84.179688 164.492188 79.699219 164.492188 74.179688 C 164.492188 68.65625 168.96875 64.179688 174.492188 64.179688 C 180.015625 64.179688 184.492188 68.65625 184.492188 74.179688 \"/>\n<path fill-rule=\"nonzero\" fill=\"rgb(100%, 0%, 0%)\" fill-opacity=\"1\" stroke-width=\"1\" stroke-linecap=\"butt\" stroke-linejoin=\"miter\" stroke=\"rgb(0%, 0%, 0%)\" stroke-opacity=\"1\" stroke-miterlimit=\"10\" d=\"M 281.015625 68.859375 C 281.015625 74.378906 276.539062 78.859375 271.015625 78.859375 C 265.492188 78.859375 261.015625 74.378906 261.015625 68.859375 C 261.015625 63.335938 265.492188 58.859375 271.015625 58.859375 C 276.539062 58.859375 281.015625 63.335938 281.015625 68.859375 \"/>\n<path fill-rule=\"nonzero\" fill=\"rgb(100%, 0%, 0%)\" fill-opacity=\"1\" stroke-width=\"1\" stroke-linecap=\"butt\" stroke-linejoin=\"miter\" stroke=\"rgb(0%, 0%, 0%)\" stroke-opacity=\"1\" stroke-miterlimit=\"10\" d=\"M 211.105469 64.632812 C 211.105469 70.15625 206.628906 74.632812 201.105469 74.632812 C 195.582031 74.632812 191.105469 70.15625 191.105469 64.632812 C 191.105469 59.109375 195.582031 54.632812 201.105469 54.632812 C 206.628906 54.632812 211.105469 59.109375 211.105469 64.632812 \"/>\n<path fill-rule=\"nonzero\" fill=\"rgb(100%, 0%, 0%)\" fill-opacity=\"1\" stroke-width=\"1\" stroke-linecap=\"butt\" stroke-linejoin=\"miter\" stroke=\"rgb(0%, 0%, 0%)\" stroke-opacity=\"1\" stroke-miterlimit=\"10\" d=\"M 310.765625 166.792969 C 310.765625 172.316406 306.285156 176.792969 300.765625 176.792969 C 295.242188 176.792969 290.765625 172.316406 290.765625 166.792969 C 290.765625 161.269531 295.242188 156.792969 300.765625 156.792969 C 306.285156 156.792969 310.765625 161.269531 310.765625 166.792969 \"/>\n<path fill-rule=\"nonzero\" fill=\"rgb(100%, 0%, 0%)\" fill-opacity=\"1\" stroke-width=\"1\" stroke-linecap=\"butt\" stroke-linejoin=\"miter\" stroke=\"rgb(0%, 0%, 0%)\" stroke-opacity=\"1\" stroke-miterlimit=\"10\" d=\"M 268.84375 168.660156 C 268.84375 174.183594 264.367188 178.660156 258.84375 178.660156 C 253.324219 178.660156 248.84375 174.183594 248.84375 168.660156 C 248.84375 163.136719 253.324219 158.660156 258.84375 158.660156 C 264.367188 158.660156 268.84375 163.136719 268.84375 168.660156 \"/>\n<path fill-rule=\"nonzero\" fill=\"rgb(100%, 0%, 0%)\" fill-opacity=\"1\" stroke-width=\"1\" stroke-linecap=\"butt\" stroke-linejoin=\"miter\" stroke=\"rgb(0%, 0%, 0%)\" stroke-opacity=\"1\" stroke-miterlimit=\"10\" d=\"M 332.925781 156.410156 C 332.925781 161.933594 328.449219 166.410156 322.925781 166.410156 C 317.402344 166.410156 312.925781 161.933594 312.925781 156.410156 C 312.925781 150.886719 317.402344 146.410156 322.925781 146.410156 C 328.449219 146.410156 332.925781 150.886719 332.925781 156.410156 \"/>\n<path fill-rule=\"nonzero\" fill=\"rgb(100%, 0%, 0%)\" fill-opacity=\"1\" stroke-width=\"1\" stroke-linecap=\"butt\" stroke-linejoin=\"miter\" stroke=\"rgb(0%, 0%, 0%)\" stroke-opacity=\"1\" stroke-miterlimit=\"10\" d=\"M 239.429688 159.515625 C 239.429688 165.039062 234.953125 169.515625 229.429688 169.515625 C 223.90625 169.515625 219.429688 165.039062 219.429688 159.515625 C 219.429688 153.992188 223.90625 149.515625 229.429688 149.515625 C 234.953125 149.515625 239.429688 153.992188 239.429688 159.515625 \"/>\n<path fill-rule=\"nonzero\" fill=\"rgb(100%, 0%, 0%)\" fill-opacity=\"1\" stroke-width=\"1\" stroke-linecap=\"butt\" stroke-linejoin=\"miter\" stroke=\"rgb(0%, 0%, 0%)\" stroke-opacity=\"1\" stroke-miterlimit=\"10\" d=\"M 70.121094 121.070312 C 70.121094 126.59375 65.644531 131.070312 60.121094 131.070312 C 54.601562 131.070312 50.121094 126.59375 50.121094 121.070312 C 50.121094 115.550781 54.601562 111.070312 60.121094 111.070312 C 65.644531 111.070312 70.121094 115.550781 70.121094 121.070312 \"/>\n<path fill-rule=\"nonzero\" fill=\"rgb(100%, 0%, 0%)\" fill-opacity=\"1\" stroke-width=\"1\" stroke-linecap=\"butt\" stroke-linejoin=\"miter\" stroke=\"rgb(0%, 0%, 0%)\" stroke-opacity=\"1\" stroke-miterlimit=\"10\" d=\"M 115.46875 138.695312 C 115.46875 144.21875 110.992188 148.695312 105.46875 148.695312 C 99.945312 148.695312 95.46875 144.21875 95.46875 138.695312 C 95.46875 133.171875 99.945312 128.695312 105.46875 128.695312 C 110.992188 128.695312 115.46875 133.171875 115.46875 138.695312 \"/>\n<path fill-rule=\"nonzero\" fill=\"rgb(100%, 0%, 0%)\" fill-opacity=\"1\" stroke-width=\"1\" stroke-linecap=\"butt\" stroke-linejoin=\"miter\" stroke=\"rgb(0%, 0%, 0%)\" stroke-opacity=\"1\" stroke-miterlimit=\"10\" d=\"M 79.273438 132.523438 C 79.273438 138.046875 74.796875 142.523438 69.273438 142.523438 C 63.75 142.523438 59.273438 138.046875 59.273438 132.523438 C 59.273438 127 63.75 122.523438 69.273438 122.523438 C 74.796875 122.523438 79.273438 127 79.273438 132.523438 \"/>\n<path fill-rule=\"nonzero\" fill=\"rgb(100%, 0%, 0%)\" fill-opacity=\"1\" stroke-width=\"1\" stroke-linecap=\"butt\" stroke-linejoin=\"miter\" stroke=\"rgb(0%, 0%, 0%)\" stroke-opacity=\"1\" stroke-miterlimit=\"10\" d=\"M 99.839844 112.007812 C 99.839844 117.53125 95.363281 122.007812 89.839844 122.007812 C 84.316406 122.007812 79.839844 117.53125 79.839844 112.007812 C 79.839844 106.484375 84.316406 102.007812 89.839844 102.007812 C 95.363281 102.007812 99.839844 106.484375 99.839844 112.007812 \"/>\n<path fill-rule=\"nonzero\" fill=\"rgb(100%, 0%, 0%)\" fill-opacity=\"1\" stroke-width=\"1\" stroke-linecap=\"butt\" stroke-linejoin=\"miter\" stroke=\"rgb(0%, 0%, 0%)\" stroke-opacity=\"1\" stroke-miterlimit=\"10\" d=\"M 406.421875 97.132812 C 406.421875 102.65625 401.945312 107.132812 396.421875 107.132812 C 390.902344 107.132812 386.421875 102.65625 386.421875 97.132812 C 386.421875 91.609375 390.902344 87.132812 396.421875 87.132812 C 401.945312 87.132812 406.421875 91.609375 406.421875 97.132812 \"/>\n<path fill-rule=\"nonzero\" fill=\"rgb(100%, 0%, 0%)\" fill-opacity=\"1\" stroke-width=\"1\" stroke-linecap=\"butt\" stroke-linejoin=\"miter\" stroke=\"rgb(0%, 0%, 0%)\" stroke-opacity=\"1\" stroke-miterlimit=\"10\" d=\"M 449.863281 115.214844 C 449.863281 120.738281 445.386719 125.214844 439.863281 125.214844 C 434.339844 125.214844 429.863281 120.738281 429.863281 115.214844 C 429.863281 109.691406 434.339844 105.214844 439.863281 105.214844 C 445.386719 105.214844 449.863281 109.691406 449.863281 115.214844 \"/>\n<path fill-rule=\"nonzero\" fill=\"rgb(100%, 0%, 0%)\" fill-opacity=\"1\" stroke-width=\"1\" stroke-linecap=\"butt\" stroke-linejoin=\"miter\" stroke=\"rgb(0%, 0%, 0%)\" stroke-opacity=\"1\" stroke-miterlimit=\"10\" d=\"M 444.832031 103.367188 C 444.832031 108.890625 440.355469 113.367188 434.832031 113.367188 C 429.308594 113.367188 424.832031 108.890625 424.832031 103.367188 C 424.832031 97.84375 429.308594 93.367188 434.832031 93.367188 C 440.355469 93.367188 444.832031 97.84375 444.832031 103.367188 \"/>\n<path fill-rule=\"nonzero\" fill=\"rgb(100%, 0%, 0%)\" fill-opacity=\"1\" stroke-width=\"1\" stroke-linecap=\"butt\" stroke-linejoin=\"miter\" stroke=\"rgb(0%, 0%, 0%)\" stroke-opacity=\"1\" stroke-miterlimit=\"10\" d=\"M 418.382812 123.519531 C 418.382812 129.042969 413.90625 133.519531 408.382812 133.519531 C 402.859375 133.519531 398.382812 129.042969 398.382812 123.519531 C 398.382812 118 402.859375 113.519531 408.382812 113.519531 C 413.90625 113.519531 418.382812 118 418.382812 123.519531 \"/>\n<path fill-rule=\"nonzero\" fill=\"rgb(100%, 0%, 0%)\" fill-opacity=\"1\" stroke-width=\"1\" stroke-linecap=\"butt\" stroke-linejoin=\"miter\" stroke=\"rgb(0%, 0%, 0%)\" stroke-opacity=\"1\" stroke-miterlimit=\"10\" d=\"M 236.308594 30.597656 C 236.308594 36.117188 231.828125 40.597656 226.308594 40.597656 C 220.785156 40.597656 216.308594 36.117188 216.308594 30.597656 C 216.308594 25.074219 220.785156 20.597656 226.308594 20.597656 C 231.828125 20.597656 236.308594 25.074219 236.308594 30.597656 \"/>\n<path fill-rule=\"nonzero\" fill=\"rgb(100%, 0%, 0%)\" fill-opacity=\"1\" stroke-width=\"1\" stroke-linecap=\"butt\" stroke-linejoin=\"miter\" stroke=\"rgb(0%, 0%, 0%)\" stroke-opacity=\"1\" stroke-miterlimit=\"10\" d=\"M 268.109375 39.917969 C 268.109375 45.441406 263.632812 49.917969 258.109375 49.917969 C 252.589844 49.917969 248.109375 45.441406 248.109375 39.917969 C 248.109375 34.394531 252.589844 29.917969 258.109375 29.917969 C 263.632812 29.917969 268.109375 34.394531 268.109375 39.917969 \"/>\n<path fill-rule=\"nonzero\" fill=\"rgb(100%, 0%, 0%)\" fill-opacity=\"1\" stroke-width=\"1\" stroke-linecap=\"butt\" stroke-linejoin=\"miter\" stroke=\"rgb(0%, 0%, 0%)\" stroke-opacity=\"1\" stroke-miterlimit=\"10\" d=\"M 252.605469 43.726562 C 252.605469 49.25 248.128906 53.726562 242.605469 53.726562 C 237.082031 53.726562 232.605469 49.25 232.605469 43.726562 C 232.605469 38.207031 237.082031 33.726562 242.605469 33.726562 C 248.128906 33.726562 252.605469 38.207031 252.605469 43.726562 \"/>\n<path fill-rule=\"nonzero\" fill=\"rgb(100%, 0%, 0%)\" fill-opacity=\"1\" stroke-width=\"1\" stroke-linecap=\"butt\" stroke-linejoin=\"miter\" stroke=\"rgb(0%, 0%, 0%)\" stroke-opacity=\"1\" stroke-miterlimit=\"10\" d=\"M 233.476562 43.171875 C 233.476562 48.695312 229 53.171875 223.476562 53.171875 C 217.953125 53.171875 213.476562 48.695312 213.476562 43.171875 C 213.476562 37.648438 217.953125 33.171875 223.476562 33.171875 C 229 33.171875 233.476562 37.648438 233.476562 43.171875 \"/>\n<path fill-rule=\"nonzero\" fill=\"rgb(100%, 0%, 0%)\" fill-opacity=\"1\" stroke-width=\"1\" stroke-linecap=\"butt\" stroke-linejoin=\"miter\" stroke=\"rgb(0%, 0%, 0%)\" stroke-opacity=\"1\" stroke-miterlimit=\"10\" d=\"M 161.664062 76.972656 C 161.664062 82.496094 157.1875 86.972656 151.664062 86.972656 C 146.140625 86.972656 141.664062 82.496094 141.664062 76.972656 C 141.664062 71.449219 146.140625 66.972656 151.664062 66.972656 C 157.1875 66.972656 161.664062 71.449219 161.664062 76.972656 \"/>\n<path fill-rule=\"nonzero\" fill=\"rgb(100%, 0%, 0%)\" fill-opacity=\"1\" stroke-width=\"1\" stroke-linecap=\"butt\" stroke-linejoin=\"miter\" stroke=\"rgb(0%, 0%, 0%)\" stroke-opacity=\"1\" stroke-miterlimit=\"10\" d=\"M 152.355469 73.167969 C 152.355469 78.691406 147.878906 83.167969 142.355469 83.167969 C 136.832031 83.167969 132.355469 78.691406 132.355469 73.167969 C 132.355469 67.644531 136.832031 63.167969 142.355469 63.167969 C 147.878906 63.167969 152.355469 67.644531 152.355469 73.167969 \"/>\n<path fill-rule=\"nonzero\" fill=\"rgb(100%, 0%, 0%)\" fill-opacity=\"1\" stroke-width=\"1\" stroke-linecap=\"butt\" stroke-linejoin=\"miter\" stroke=\"rgb(0%, 0%, 0%)\" stroke-opacity=\"1\" stroke-miterlimit=\"10\" d=\"M 153.347656 68.9375 C 153.347656 74.460938 148.867188 78.9375 143.347656 78.9375 C 137.824219 78.9375 133.347656 74.460938 133.347656 68.9375 C 133.347656 63.414062 137.824219 58.9375 143.347656 58.9375 C 148.867188 58.9375 153.347656 63.414062 153.347656 68.9375 \"/>\n<path fill-rule=\"nonzero\" fill=\"rgb(100%, 0%, 0%)\" fill-opacity=\"1\" stroke-width=\"1\" stroke-linecap=\"butt\" stroke-linejoin=\"miter\" stroke=\"rgb(0%, 0%, 0%)\" stroke-opacity=\"1\" stroke-miterlimit=\"10\" d=\"M 167.441406 68.238281 C 167.441406 73.761719 162.964844 78.238281 157.441406 78.238281 C 151.917969 78.238281 147.441406 73.761719 147.441406 68.238281 C 147.441406 62.71875 151.917969 58.238281 157.441406 58.238281 C 162.964844 58.238281 167.441406 62.71875 167.441406 68.238281 \"/>\n<path fill-rule=\"nonzero\" fill=\"rgb(100%, 0%, 0%)\" fill-opacity=\"1\" stroke-width=\"1\" stroke-linecap=\"butt\" stroke-linejoin=\"miter\" stroke=\"rgb(0%, 0%, 0%)\" stroke-opacity=\"1\" stroke-miterlimit=\"10\" d=\"M 308.777344 64.449219 C 308.777344 69.972656 304.300781 74.449219 298.777344 74.449219 C 293.253906 74.449219 288.777344 69.972656 288.777344 64.449219 C 288.777344 58.929688 293.253906 54.449219 298.777344 54.449219 C 304.300781 54.449219 308.777344 58.929688 308.777344 64.449219 \"/>\n<path fill-rule=\"nonzero\" fill=\"rgb(100%, 0%, 0%)\" fill-opacity=\"1\" stroke-width=\"1\" stroke-linecap=\"butt\" stroke-linejoin=\"miter\" stroke=\"rgb(0%, 0%, 0%)\" stroke-opacity=\"1\" stroke-miterlimit=\"10\" d=\"M 305.667969 69.042969 C 305.667969 74.5625 301.191406 79.042969 295.667969 79.042969 C 290.144531 79.042969 285.667969 74.5625 285.667969 69.042969 C 285.667969 63.519531 290.144531 59.042969 295.667969 59.042969 C 301.191406 59.042969 305.667969 63.519531 305.667969 69.042969 \"/>\n<path fill-rule=\"nonzero\" fill=\"rgb(100%, 0%, 0%)\" fill-opacity=\"1\" stroke-width=\"1\" stroke-linecap=\"butt\" stroke-linejoin=\"miter\" stroke=\"rgb(0%, 0%, 0%)\" stroke-opacity=\"1\" stroke-miterlimit=\"10\" d=\"M 283.28125 61.71875 C 283.28125 67.242188 278.800781 71.71875 273.28125 71.71875 C 267.757812 71.71875 263.28125 67.242188 263.28125 61.71875 C 263.28125 56.195312 267.757812 51.71875 273.28125 51.71875 C 278.800781 51.71875 283.28125 56.195312 283.28125 61.71875 \"/>\n<path fill-rule=\"nonzero\" fill=\"rgb(100%, 0%, 0%)\" fill-opacity=\"1\" stroke-width=\"1\" stroke-linecap=\"butt\" stroke-linejoin=\"miter\" stroke=\"rgb(0%, 0%, 0%)\" stroke-opacity=\"1\" stroke-miterlimit=\"10\" d=\"M 299.195312 61.167969 C 299.195312 66.691406 294.714844 71.167969 289.195312 71.167969 C 283.671875 71.167969 279.195312 66.691406 279.195312 61.167969 C 279.195312 55.644531 283.671875 51.167969 289.195312 51.167969 C 294.714844 51.167969 299.195312 55.644531 299.195312 61.167969 \"/>\n<path fill-rule=\"nonzero\" fill=\"rgb(100%, 0%, 0%)\" fill-opacity=\"1\" stroke-width=\"1\" stroke-linecap=\"butt\" stroke-linejoin=\"miter\" stroke=\"rgb(0%, 0%, 0%)\" stroke-opacity=\"1\" stroke-miterlimit=\"10\" d=\"M 200.164062 58.492188 C 200.164062 64.015625 195.6875 68.492188 190.164062 68.492188 C 184.640625 68.492188 180.164062 64.015625 180.164062 58.492188 C 180.164062 52.96875 184.640625 48.492188 190.164062 48.492188 C 195.6875 48.492188 200.164062 52.96875 200.164062 58.492188 \"/>\n<path fill-rule=\"nonzero\" fill=\"rgb(100%, 0%, 0%)\" fill-opacity=\"1\" stroke-width=\"1\" stroke-linecap=\"butt\" stroke-linejoin=\"miter\" stroke=\"rgb(0%, 0%, 0%)\" stroke-opacity=\"1\" stroke-miterlimit=\"10\" d=\"M 215.359375 56.953125 C 215.359375 62.476562 210.878906 66.953125 205.359375 66.953125 C 199.835938 66.953125 195.359375 62.476562 195.359375 56.953125 C 195.359375 51.429688 199.835938 46.953125 205.359375 46.953125 C 210.878906 46.953125 215.359375 51.429688 215.359375 56.953125 \"/>\n<path fill-rule=\"nonzero\" fill=\"rgb(100%, 0%, 0%)\" fill-opacity=\"1\" stroke-width=\"1\" stroke-linecap=\"butt\" stroke-linejoin=\"miter\" stroke=\"rgb(0%, 0%, 0%)\" stroke-opacity=\"1\" stroke-miterlimit=\"10\" d=\"M 191.742188 55.597656 C 191.742188 61.117188 187.265625 65.597656 181.742188 65.597656 C 176.21875 65.597656 171.742188 61.117188 171.742188 55.597656 C 171.742188 50.074219 176.21875 45.597656 181.742188 45.597656 C 187.265625 45.597656 191.742188 50.074219 191.742188 55.597656 \"/>\n<path fill-rule=\"nonzero\" fill=\"rgb(100%, 0%, 0%)\" fill-opacity=\"1\" stroke-width=\"1\" stroke-linecap=\"butt\" stroke-linejoin=\"miter\" stroke=\"rgb(0%, 0%, 0%)\" stroke-opacity=\"1\" stroke-miterlimit=\"10\" d=\"M 183.332031 59.871094 C 183.332031 65.394531 178.851562 69.871094 173.332031 69.871094 C 167.808594 69.871094 163.332031 65.394531 163.332031 59.871094 C 163.332031 54.351562 167.808594 49.871094 173.332031 49.871094 C 178.851562 49.871094 183.332031 54.351562 183.332031 59.871094 \"/>\n<path fill-rule=\"nonzero\" fill=\"rgb(100%, 0%, 0%)\" fill-opacity=\"1\" stroke-width=\"1\" stroke-linecap=\"butt\" stroke-linejoin=\"miter\" stroke=\"rgb(0%, 0%, 0%)\" stroke-opacity=\"1\" stroke-miterlimit=\"10\" d=\"M 335.796875 172.386719 C 335.796875 177.910156 331.320312 182.386719 325.796875 182.386719 C 320.273438 182.386719 315.796875 177.910156 315.796875 172.386719 C 315.796875 166.867188 320.273438 162.386719 325.796875 162.386719 C 331.320312 162.386719 335.796875 166.867188 335.796875 172.386719 \"/>\n<path fill-rule=\"nonzero\" fill=\"rgb(100%, 0%, 0%)\" fill-opacity=\"1\" stroke-width=\"1\" stroke-linecap=\"butt\" stroke-linejoin=\"miter\" stroke=\"rgb(0%, 0%, 0%)\" stroke-opacity=\"1\" stroke-miterlimit=\"10\" d=\"M 310.894531 175.476562 C 310.894531 180.996094 306.417969 185.476562 300.894531 185.476562 C 295.371094 185.476562 290.894531 180.996094 290.894531 175.476562 C 290.894531 169.953125 295.371094 165.476562 300.894531 165.476562 C 306.417969 165.476562 310.894531 169.953125 310.894531 175.476562 \"/>\n<path fill-rule=\"nonzero\" fill=\"rgb(100%, 0%, 0%)\" fill-opacity=\"1\" stroke-width=\"1\" stroke-linecap=\"butt\" stroke-linejoin=\"miter\" stroke=\"rgb(0%, 0%, 0%)\" stroke-opacity=\"1\" stroke-miterlimit=\"10\" d=\"M 321.136719 177.691406 C 321.136719 183.214844 316.65625 187.691406 311.136719 187.691406 C 305.613281 187.691406 301.136719 183.214844 301.136719 177.691406 C 301.136719 172.167969 305.613281 167.691406 311.136719 167.691406 C 316.65625 167.691406 321.136719 172.167969 321.136719 177.691406 \"/>\n<path fill-rule=\"nonzero\" fill=\"rgb(100%, 0%, 0%)\" fill-opacity=\"1\" stroke-width=\"1\" stroke-linecap=\"butt\" stroke-linejoin=\"miter\" stroke=\"rgb(0%, 0%, 0%)\" stroke-opacity=\"1\" stroke-miterlimit=\"10\" d=\"M 333.425781 175.957031 C 333.425781 181.476562 328.949219 185.957031 323.425781 185.957031 C 317.90625 185.957031 313.425781 181.476562 313.425781 175.957031 C 313.425781 170.433594 317.90625 165.957031 323.425781 165.957031 C 328.949219 165.957031 333.425781 170.433594 333.425781 175.957031 \"/>\n<path fill-rule=\"nonzero\" fill=\"rgb(100%, 0%, 0%)\" fill-opacity=\"1\" stroke-width=\"1\" stroke-linecap=\"butt\" stroke-linejoin=\"miter\" stroke=\"rgb(0%, 0%, 0%)\" stroke-opacity=\"1\" stroke-miterlimit=\"10\" d=\"M 257.050781 179.0625 C 257.050781 184.585938 252.570312 189.0625 247.050781 189.0625 C 241.527344 189.0625 237.050781 184.585938 237.050781 179.0625 C 237.050781 173.542969 241.527344 169.0625 247.050781 169.0625 C 252.570312 169.0625 257.050781 173.542969 257.050781 179.0625 \"/>\n<path fill-rule=\"nonzero\" fill=\"rgb(100%, 0%, 0%)\" fill-opacity=\"1\" stroke-width=\"1\" stroke-linecap=\"butt\" stroke-linejoin=\"miter\" stroke=\"rgb(0%, 0%, 0%)\" stroke-opacity=\"1\" stroke-miterlimit=\"10\" d=\"M 277.679688 177.070312 C 277.679688 182.59375 273.199219 187.070312 267.679688 187.070312 C 262.15625 187.070312 257.679688 182.59375 257.679688 177.070312 C 257.679688 171.546875 262.15625 167.070312 267.679688 167.070312 C 273.199219 167.070312 277.679688 171.546875 277.679688 177.070312 \"/>\n<path fill-rule=\"nonzero\" fill=\"rgb(100%, 0%, 0%)\" fill-opacity=\"1\" stroke-width=\"1\" stroke-linecap=\"butt\" stroke-linejoin=\"miter\" stroke=\"rgb(0%, 0%, 0%)\" stroke-opacity=\"1\" stroke-miterlimit=\"10\" d=\"M 270.019531 180 C 270.019531 185.523438 265.542969 190 260.019531 190 C 254.5 190 250.019531 185.523438 250.019531 180 C 250.019531 174.476562 254.5 170 260.019531 170 C 265.542969 170 270.019531 174.476562 270.019531 180 \"/>\n<path fill-rule=\"nonzero\" fill=\"rgb(100%, 0%, 0%)\" fill-opacity=\"1\" stroke-width=\"1\" stroke-linecap=\"butt\" stroke-linejoin=\"miter\" stroke=\"rgb(0%, 0%, 0%)\" stroke-opacity=\"1\" stroke-miterlimit=\"10\" d=\"M 248.992188 176.289062 C 248.992188 181.8125 244.515625 186.289062 238.992188 186.289062 C 233.46875 186.289062 228.992188 181.8125 228.992188 176.289062 C 228.992188 170.769531 233.46875 166.289062 238.992188 166.289062 C 244.515625 166.289062 248.992188 170.769531 248.992188 176.289062 \"/>\n<path fill-rule=\"nonzero\" fill=\"rgb(100%, 0%, 0%)\" fill-opacity=\"1\" stroke-width=\"1\" stroke-linecap=\"butt\" stroke-linejoin=\"miter\" stroke=\"rgb(0%, 0%, 0%)\" stroke-opacity=\"1\" stroke-miterlimit=\"10\" d=\"M 363.957031 162.613281 C 363.957031 168.136719 359.480469 172.613281 353.957031 172.613281 C 348.433594 172.613281 343.957031 168.136719 343.957031 162.613281 C 343.957031 157.09375 348.433594 152.613281 353.957031 152.613281 C 359.480469 152.613281 363.957031 157.09375 363.957031 162.613281 \"/>\n<path fill-rule=\"nonzero\" fill=\"rgb(100%, 0%, 0%)\" fill-opacity=\"1\" stroke-width=\"1\" stroke-linecap=\"butt\" stroke-linejoin=\"miter\" stroke=\"rgb(0%, 0%, 0%)\" stroke-opacity=\"1\" stroke-miterlimit=\"10\" d=\"M 347.570312 163.519531 C 347.570312 169.042969 343.09375 173.519531 337.570312 173.519531 C 332.046875 173.519531 327.570312 169.042969 327.570312 163.519531 C 327.570312 157.996094 332.046875 153.519531 337.570312 153.519531 C 343.09375 153.519531 347.570312 157.996094 347.570312 163.519531 \"/>\n<path fill-rule=\"nonzero\" fill=\"rgb(100%, 0%, 0%)\" fill-opacity=\"1\" stroke-width=\"1\" stroke-linecap=\"butt\" stroke-linejoin=\"miter\" stroke=\"rgb(0%, 0%, 0%)\" stroke-opacity=\"1\" stroke-miterlimit=\"10\" d=\"M 360.449219 155.117188 C 360.449219 160.636719 355.972656 165.117188 350.449219 165.117188 C 344.925781 165.117188 340.449219 160.636719 340.449219 155.117188 C 340.449219 149.59375 344.925781 145.117188 350.449219 145.117188 C 355.972656 145.117188 360.449219 149.59375 360.449219 155.117188 \"/>\n<path fill-rule=\"nonzero\" fill=\"rgb(100%, 0%, 0%)\" fill-opacity=\"1\" stroke-width=\"1\" stroke-linecap=\"butt\" stroke-linejoin=\"miter\" stroke=\"rgb(0%, 0%, 0%)\" stroke-opacity=\"1\" stroke-miterlimit=\"10\" d=\"M 358.824219 159.160156 C 358.824219 164.683594 354.347656 169.160156 348.824219 169.160156 C 343.304688 169.160156 338.824219 164.683594 338.824219 159.160156 C 338.824219 153.636719 343.304688 149.160156 348.824219 149.160156 C 354.347656 149.160156 358.824219 153.636719 358.824219 159.160156 \"/>\n<path fill-rule=\"nonzero\" fill=\"rgb(100%, 0%, 0%)\" fill-opacity=\"1\" stroke-width=\"1\" stroke-linecap=\"butt\" stroke-linejoin=\"miter\" stroke=\"rgb(0%, 0%, 0%)\" stroke-opacity=\"1\" stroke-miterlimit=\"10\" d=\"M 212.105469 164.371094 C 212.105469 169.890625 207.628906 174.371094 202.105469 174.371094 C 196.582031 174.371094 192.105469 169.890625 192.105469 164.371094 C 192.105469 158.847656 196.582031 154.371094 202.105469 154.371094 C 207.628906 154.371094 212.105469 158.847656 212.105469 164.371094 \"/>\n<path fill-rule=\"nonzero\" fill=\"rgb(100%, 0%, 0%)\" fill-opacity=\"1\" stroke-width=\"1\" stroke-linecap=\"butt\" stroke-linejoin=\"miter\" stroke=\"rgb(0%, 0%, 0%)\" stroke-opacity=\"1\" stroke-miterlimit=\"10\" d=\"M 215.316406 159.746094 C 215.316406 165.265625 210.839844 169.746094 205.316406 169.746094 C 199.792969 169.746094 195.316406 165.265625 195.316406 159.746094 C 195.316406 154.222656 199.792969 149.746094 205.316406 149.746094 C 210.839844 149.746094 215.316406 154.222656 215.316406 159.746094 \"/>\n<path fill-rule=\"nonzero\" fill=\"rgb(100%, 0%, 0%)\" fill-opacity=\"1\" stroke-width=\"1\" stroke-linecap=\"butt\" stroke-linejoin=\"miter\" stroke=\"rgb(0%, 0%, 0%)\" stroke-opacity=\"1\" stroke-miterlimit=\"10\" d=\"M 220.351562 167.863281 C 220.351562 173.386719 215.875 177.863281 210.351562 177.863281 C 204.828125 177.863281 200.351562 173.386719 200.351562 167.863281 C 200.351562 162.34375 204.828125 157.863281 210.351562 157.863281 C 215.875 157.863281 220.351562 162.34375 220.351562 167.863281 \"/>\n<path fill-rule=\"nonzero\" fill=\"rgb(100%, 0%, 0%)\" fill-opacity=\"1\" stroke-width=\"1\" stroke-linecap=\"butt\" stroke-linejoin=\"miter\" stroke=\"rgb(0%, 0%, 0%)\" stroke-opacity=\"1\" stroke-miterlimit=\"10\" d=\"M 235.011719 166.535156 C 235.011719 172.058594 230.535156 176.535156 225.011719 176.535156 C 219.492188 176.535156 215.011719 172.058594 215.011719 166.535156 C 215.011719 161.011719 219.492188 156.535156 225.011719 156.535156 C 230.535156 156.535156 235.011719 161.011719 235.011719 166.535156 \"/>\n<path fill-rule=\"nonzero\" fill=\"rgb(100%, 0%, 0%)\" fill-opacity=\"1\" stroke-width=\"1\" stroke-linecap=\"butt\" stroke-linejoin=\"miter\" stroke=\"rgb(0%, 0%, 0%)\" stroke-opacity=\"1\" stroke-miterlimit=\"10\" d=\"M 32.570312 118.445312 C 32.570312 123.96875 28.09375 128.445312 22.570312 128.445312 C 17.046875 128.445312 12.570312 123.96875 12.570312 118.445312 C 12.570312 112.921875 17.046875 108.445312 22.570312 108.445312 C 28.09375 108.445312 32.570312 112.921875 32.570312 118.445312 \"/>\n<path fill-rule=\"nonzero\" fill=\"rgb(100%, 0%, 0%)\" fill-opacity=\"1\" stroke-width=\"1\" stroke-linecap=\"butt\" stroke-linejoin=\"miter\" stroke=\"rgb(0%, 0%, 0%)\" stroke-opacity=\"1\" stroke-miterlimit=\"10\" d=\"M 30 122.171875 C 30 127.695312 25.523438 132.171875 20 132.171875 C 14.476562 132.171875 10 127.695312 10 122.171875 C 10 116.648438 14.476562 112.171875 20 112.171875 C 25.523438 112.171875 30 116.648438 30 122.171875 \"/>\n<path fill-rule=\"nonzero\" fill=\"rgb(100%, 0%, 0%)\" fill-opacity=\"1\" stroke-width=\"1\" stroke-linecap=\"butt\" stroke-linejoin=\"miter\" stroke=\"rgb(0%, 0%, 0%)\" stroke-opacity=\"1\" stroke-miterlimit=\"10\" d=\"M 42.082031 116.03125 C 42.082031 121.554688 37.605469 126.03125 32.082031 126.03125 C 26.558594 126.03125 22.082031 121.554688 22.082031 116.03125 C 22.082031 110.507812 26.558594 106.03125 32.082031 106.03125 C 37.605469 106.03125 42.082031 110.507812 42.082031 116.03125 \"/>\n<path fill-rule=\"nonzero\" fill=\"rgb(100%, 0%, 0%)\" fill-opacity=\"1\" stroke-width=\"1\" stroke-linecap=\"butt\" stroke-linejoin=\"miter\" stroke=\"rgb(0%, 0%, 0%)\" stroke-opacity=\"1\" stroke-miterlimit=\"10\" d=\"M 41.292969 123.992188 C 41.292969 129.515625 36.816406 133.992188 31.292969 133.992188 C 25.769531 133.992188 21.292969 129.515625 21.292969 123.992188 C 21.292969 118.46875 25.769531 113.992188 31.292969 113.992188 C 36.816406 113.992188 41.292969 118.46875 41.292969 123.992188 \"/>\n<path fill-rule=\"nonzero\" fill=\"rgb(100%, 0%, 0%)\" fill-opacity=\"1\" stroke-width=\"1\" stroke-linecap=\"butt\" stroke-linejoin=\"miter\" stroke=\"rgb(0%, 0%, 0%)\" stroke-opacity=\"1\" stroke-miterlimit=\"10\" d=\"M 119.652344 146.273438 C 119.652344 151.796875 115.175781 156.273438 109.652344 156.273438 C 104.132812 156.273438 99.652344 151.796875 99.652344 146.273438 C 99.652344 140.75 104.132812 136.273438 109.652344 136.273438 C 115.175781 136.273438 119.652344 140.75 119.652344 146.273438 \"/>\n<path fill-rule=\"nonzero\" fill=\"rgb(100%, 0%, 0%)\" fill-opacity=\"1\" stroke-width=\"1\" stroke-linecap=\"butt\" stroke-linejoin=\"miter\" stroke=\"rgb(0%, 0%, 0%)\" stroke-opacity=\"1\" stroke-miterlimit=\"10\" d=\"M 104.535156 148.273438 C 104.535156 153.796875 100.054688 158.273438 94.535156 158.273438 C 89.011719 158.273438 84.535156 153.796875 84.535156 148.273438 C 84.535156 142.75 89.011719 138.273438 94.535156 138.273438 C 100.054688 138.273438 104.535156 142.75 104.535156 148.273438 \"/>\n<path fill-rule=\"nonzero\" fill=\"rgb(100%, 0%, 0%)\" fill-opacity=\"1\" stroke-width=\"1\" stroke-linecap=\"butt\" stroke-linejoin=\"miter\" stroke=\"rgb(0%, 0%, 0%)\" stroke-opacity=\"1\" stroke-miterlimit=\"10\" d=\"M 89.605469 146.347656 C 89.605469 151.871094 85.128906 156.347656 79.605469 156.347656 C 74.082031 156.347656 69.605469 151.871094 69.605469 146.347656 C 69.605469 140.824219 74.082031 136.347656 79.605469 136.347656 C 85.128906 136.347656 89.605469 140.824219 89.605469 146.347656 \"/>\n<path fill-rule=\"nonzero\" fill=\"rgb(100%, 0%, 0%)\" fill-opacity=\"1\" stroke-width=\"1\" stroke-linecap=\"butt\" stroke-linejoin=\"miter\" stroke=\"rgb(0%, 0%, 0%)\" stroke-opacity=\"1\" stroke-miterlimit=\"10\" d=\"M 97.496094 143.292969 C 97.496094 148.8125 93.019531 153.292969 87.496094 153.292969 C 81.976562 153.292969 77.496094 148.8125 77.496094 143.292969 C 77.496094 137.769531 81.976562 133.292969 87.496094 133.292969 C 93.019531 133.292969 97.496094 137.769531 97.496094 143.292969 \"/>\n<path fill-rule=\"nonzero\" fill=\"rgb(100%, 0%, 0%)\" fill-opacity=\"1\" stroke-width=\"1\" stroke-linecap=\"butt\" stroke-linejoin=\"miter\" stroke=\"rgb(0%, 0%, 0%)\" stroke-opacity=\"1\" stroke-miterlimit=\"10\" d=\"M 42.191406 133.585938 C 42.191406 139.109375 37.710938 143.585938 32.191406 143.585938 C 26.667969 143.585938 22.191406 139.109375 22.191406 133.585938 C 22.191406 128.0625 26.667969 123.585938 32.191406 123.585938 C 37.710938 123.585938 42.191406 128.0625 42.191406 133.585938 \"/>\n<path fill-rule=\"nonzero\" fill=\"rgb(100%, 0%, 0%)\" fill-opacity=\"1\" stroke-width=\"1\" stroke-linecap=\"butt\" stroke-linejoin=\"miter\" stroke=\"rgb(0%, 0%, 0%)\" stroke-opacity=\"1\" stroke-miterlimit=\"10\" d=\"M 43.78125 138.445312 C 43.78125 143.964844 39.304688 148.445312 33.78125 148.445312 C 28.257812 148.445312 23.78125 143.964844 23.78125 138.445312 C 23.78125 132.921875 28.257812 128.445312 33.78125 128.445312 C 39.304688 128.445312 43.78125 132.921875 43.78125 138.445312 \"/>\n<path fill-rule=\"nonzero\" fill=\"rgb(100%, 0%, 0%)\" fill-opacity=\"1\" stroke-width=\"1\" stroke-linecap=\"butt\" stroke-linejoin=\"miter\" stroke=\"rgb(0%, 0%, 0%)\" stroke-opacity=\"1\" stroke-miterlimit=\"10\" d=\"M 57.90625 140.566406 C 57.90625 146.085938 53.425781 150.566406 47.90625 150.566406 C 42.382812 150.566406 37.90625 146.085938 37.90625 140.566406 C 37.90625 135.042969 42.382812 130.566406 47.90625 130.566406 C 53.425781 130.566406 57.90625 135.042969 57.90625 140.566406 \"/>\n<path fill-rule=\"nonzero\" fill=\"rgb(100%, 0%, 0%)\" fill-opacity=\"1\" stroke-width=\"1\" stroke-linecap=\"butt\" stroke-linejoin=\"miter\" stroke=\"rgb(0%, 0%, 0%)\" stroke-opacity=\"1\" stroke-miterlimit=\"10\" d=\"M 54.589844 135.796875 C 54.589844 141.320312 50.113281 145.796875 44.589844 145.796875 C 39.066406 145.796875 34.589844 141.320312 34.589844 135.796875 C 34.589844 130.273438 39.066406 125.796875 44.589844 125.796875 C 50.113281 125.796875 54.589844 130.273438 54.589844 135.796875 \"/>\n<path fill-rule=\"nonzero\" fill=\"rgb(100%, 0%, 0%)\" fill-opacity=\"1\" stroke-width=\"1\" stroke-linecap=\"butt\" stroke-linejoin=\"miter\" stroke=\"rgb(0%, 0%, 0%)\" stroke-opacity=\"1\" stroke-miterlimit=\"10\" d=\"M 68.921875 107.144531 C 68.921875 112.667969 64.445312 117.144531 58.921875 117.144531 C 53.398438 117.144531 48.921875 112.667969 48.921875 107.144531 C 48.921875 101.625 53.398438 97.144531 58.921875 97.144531 C 64.445312 97.144531 68.921875 101.625 68.921875 107.144531 \"/>\n<path fill-rule=\"nonzero\" fill=\"rgb(100%, 0%, 0%)\" fill-opacity=\"1\" stroke-width=\"1\" stroke-linecap=\"butt\" stroke-linejoin=\"miter\" stroke=\"rgb(0%, 0%, 0%)\" stroke-opacity=\"1\" stroke-miterlimit=\"10\" d=\"M 74.597656 111.113281 C 74.597656 116.636719 70.117188 121.113281 64.597656 121.113281 C 59.074219 121.113281 54.597656 116.636719 54.597656 111.113281 C 54.597656 105.59375 59.074219 101.113281 64.597656 101.113281 C 70.117188 101.113281 74.597656 105.59375 74.597656 111.113281 \"/>\n<path fill-rule=\"nonzero\" fill=\"rgb(100%, 0%, 0%)\" fill-opacity=\"1\" stroke-width=\"1\" stroke-linecap=\"butt\" stroke-linejoin=\"miter\" stroke=\"rgb(0%, 0%, 0%)\" stroke-opacity=\"1\" stroke-miterlimit=\"10\" d=\"M 96.980469 105.136719 C 96.980469 110.660156 92.5 115.136719 86.980469 115.136719 C 81.457031 115.136719 76.980469 110.660156 76.980469 105.136719 C 76.980469 99.613281 81.457031 95.136719 86.980469 95.136719 C 92.5 95.136719 96.980469 99.613281 96.980469 105.136719 \"/>\n<path fill-rule=\"nonzero\" fill=\"rgb(100%, 0%, 0%)\" fill-opacity=\"1\" stroke-width=\"1\" stroke-linecap=\"butt\" stroke-linejoin=\"miter\" stroke=\"rgb(0%, 0%, 0%)\" stroke-opacity=\"1\" stroke-miterlimit=\"10\" d=\"M 80.636719 104.5625 C 80.636719 110.085938 76.160156 114.5625 70.636719 114.5625 C 65.113281 114.5625 60.636719 110.085938 60.636719 104.5625 C 60.636719 99.039062 65.113281 94.5625 70.636719 94.5625 C 76.160156 94.5625 80.636719 99.039062 80.636719 104.5625 \"/>\n<path fill-rule=\"nonzero\" fill=\"rgb(100%, 0%, 0%)\" fill-opacity=\"1\" stroke-width=\"1\" stroke-linecap=\"butt\" stroke-linejoin=\"miter\" stroke=\"rgb(0%, 0%, 0%)\" stroke-opacity=\"1\" stroke-miterlimit=\"10\" d=\"M 416.1875 88.371094 C 416.1875 93.894531 411.710938 98.371094 406.1875 98.371094 C 400.664062 98.371094 396.1875 93.894531 396.1875 88.371094 C 396.1875 82.851562 400.664062 78.371094 406.1875 78.371094 C 411.710938 78.371094 416.1875 82.851562 416.1875 88.371094 \"/>\n<path fill-rule=\"nonzero\" fill=\"rgb(100%, 0%, 0%)\" fill-opacity=\"1\" stroke-width=\"1\" stroke-linecap=\"butt\" stroke-linejoin=\"miter\" stroke=\"rgb(0%, 0%, 0%)\" stroke-opacity=\"1\" stroke-miterlimit=\"10\" d=\"M 401.382812 90.3125 C 401.382812 95.835938 396.902344 100.3125 391.382812 100.3125 C 385.859375 100.3125 381.382812 95.835938 381.382812 90.3125 C 381.382812 84.789062 385.859375 80.3125 391.382812 80.3125 C 396.902344 80.3125 401.382812 84.789062 401.382812 90.3125 \"/>\n<path fill-rule=\"nonzero\" fill=\"rgb(100%, 0%, 0%)\" fill-opacity=\"1\" stroke-width=\"1\" stroke-linecap=\"butt\" stroke-linejoin=\"miter\" stroke=\"rgb(0%, 0%, 0%)\" stroke-opacity=\"1\" stroke-miterlimit=\"10\" d=\"M 429.601562 93.949219 C 429.601562 99.472656 425.125 103.949219 419.601562 103.949219 C 414.078125 103.949219 409.601562 99.472656 409.601562 93.949219 C 409.601562 88.425781 414.078125 83.949219 419.601562 83.949219 C 425.125 83.949219 429.601562 88.425781 429.601562 93.949219 \"/>\n<path fill-rule=\"nonzero\" fill=\"rgb(100%, 0%, 0%)\" fill-opacity=\"1\" stroke-width=\"1\" stroke-linecap=\"butt\" stroke-linejoin=\"miter\" stroke=\"rgb(0%, 0%, 0%)\" stroke-opacity=\"1\" stroke-miterlimit=\"10\" d=\"M 430.320312 89.722656 C 430.320312 95.242188 425.84375 99.722656 420.320312 99.722656 C 414.796875 99.722656 410.320312 95.242188 410.320312 89.722656 C 410.320312 84.199219 414.796875 79.722656 420.320312 79.722656 C 425.84375 79.722656 430.320312 84.199219 430.320312 89.722656 \"/>\n<path fill-rule=\"nonzero\" fill=\"rgb(100%, 0%, 0%)\" fill-opacity=\"1\" stroke-width=\"1\" stroke-linecap=\"butt\" stroke-linejoin=\"miter\" stroke=\"rgb(0%, 0%, 0%)\" stroke-opacity=\"1\" stroke-miterlimit=\"10\" d=\"M 490 115.191406 C 490 120.710938 485.523438 125.191406 480 125.191406 C 474.476562 125.191406 470 120.710938 470 115.191406 C 470 109.667969 474.476562 105.191406 480 105.191406 C 485.523438 105.191406 490 109.667969 490 115.191406 \"/>\n<path fill-rule=\"nonzero\" fill=\"rgb(100%, 0%, 0%)\" fill-opacity=\"1\" stroke-width=\"1\" stroke-linecap=\"butt\" stroke-linejoin=\"miter\" stroke=\"rgb(0%, 0%, 0%)\" stroke-opacity=\"1\" stroke-miterlimit=\"10\" d=\"M 486.882812 118.917969 C 486.882812 124.4375 482.40625 128.917969 476.882812 128.917969 C 471.359375 128.917969 466.882812 124.4375 466.882812 118.917969 C 466.882812 113.394531 471.359375 108.917969 476.882812 108.917969 C 482.40625 108.917969 486.882812 113.394531 486.882812 118.917969 \"/>\n<path fill-rule=\"nonzero\" fill=\"rgb(100%, 0%, 0%)\" fill-opacity=\"1\" stroke-width=\"1\" stroke-linecap=\"butt\" stroke-linejoin=\"miter\" stroke=\"rgb(0%, 0%, 0%)\" stroke-opacity=\"1\" stroke-miterlimit=\"10\" d=\"M 476.171875 120.914062 C 476.171875 126.4375 471.695312 130.914062 466.171875 130.914062 C 460.648438 130.914062 456.171875 126.4375 456.171875 120.914062 C 456.171875 115.390625 460.648438 110.914062 466.171875 110.914062 C 471.695312 110.914062 476.171875 115.390625 476.171875 120.914062 \"/>\n<path fill-rule=\"nonzero\" fill=\"rgb(100%, 0%, 0%)\" fill-opacity=\"1\" stroke-width=\"1\" stroke-linecap=\"butt\" stroke-linejoin=\"miter\" stroke=\"rgb(0%, 0%, 0%)\" stroke-opacity=\"1\" stroke-miterlimit=\"10\" d=\"M 479.3125 113.125 C 479.3125 118.648438 474.835938 123.125 469.3125 123.125 C 463.789062 123.125 459.3125 118.648438 459.3125 113.125 C 459.3125 107.601562 463.789062 103.125 469.3125 103.125 C 474.835938 103.125 479.3125 107.601562 479.3125 113.125 \"/>\n<path fill-rule=\"nonzero\" fill=\"rgb(100%, 0%, 0%)\" fill-opacity=\"1\" stroke-width=\"1\" stroke-linecap=\"butt\" stroke-linejoin=\"miter\" stroke=\"rgb(0%, 0%, 0%)\" stroke-opacity=\"1\" stroke-miterlimit=\"10\" d=\"M 468.125 95.808594 C 468.125 101.332031 463.644531 105.808594 458.125 105.808594 C 452.601562 105.808594 448.125 101.332031 448.125 95.808594 C 448.125 90.285156 452.601562 85.808594 458.125 85.808594 C 463.644531 85.808594 468.125 90.285156 468.125 95.808594 \"/>\n<path fill-rule=\"nonzero\" fill=\"rgb(100%, 0%, 0%)\" fill-opacity=\"1\" stroke-width=\"1\" stroke-linecap=\"butt\" stroke-linejoin=\"miter\" stroke=\"rgb(0%, 0%, 0%)\" stroke-opacity=\"1\" stroke-miterlimit=\"10\" d=\"M 482.25 103.320312 C 482.25 108.84375 477.773438 113.320312 472.25 113.320312 C 466.726562 113.320312 462.25 108.84375 462.25 103.320312 C 462.25 97.796875 466.726562 93.320312 472.25 93.320312 C 477.773438 93.320312 482.25 97.796875 482.25 103.320312 \"/>\n<path fill-rule=\"nonzero\" fill=\"rgb(100%, 0%, 0%)\" fill-opacity=\"1\" stroke-width=\"1\" stroke-linecap=\"butt\" stroke-linejoin=\"miter\" stroke=\"rgb(0%, 0%, 0%)\" stroke-opacity=\"1\" stroke-miterlimit=\"10\" d=\"M 481.75 98.273438 C 481.75 103.796875 477.273438 108.273438 471.75 108.273438 C 466.226562 108.273438 461.75 103.796875 461.75 98.273438 C 461.75 92.75 466.226562 88.273438 471.75 88.273438 C 477.273438 88.273438 481.75 92.75 481.75 98.273438 \"/>\n<path fill-rule=\"nonzero\" fill=\"rgb(100%, 0%, 0%)\" fill-opacity=\"1\" stroke-width=\"1\" stroke-linecap=\"butt\" stroke-linejoin=\"miter\" stroke=\"rgb(0%, 0%, 0%)\" stroke-opacity=\"1\" stroke-miterlimit=\"10\" d=\"M 470.960938 100.75 C 470.960938 106.273438 466.484375 110.75 460.960938 110.75 C 455.441406 110.75 450.960938 106.273438 450.960938 100.75 C 450.960938 95.226562 455.441406 90.75 460.960938 90.75 C 466.484375 90.75 470.960938 95.226562 470.960938 100.75 \"/>\n<path fill-rule=\"nonzero\" fill=\"rgb(100%, 0%, 0%)\" fill-opacity=\"1\" stroke-width=\"1\" stroke-linecap=\"butt\" stroke-linejoin=\"miter\" stroke=\"rgb(0%, 0%, 0%)\" stroke-opacity=\"1\" stroke-miterlimit=\"10\" d=\"M 446.320312 125.640625 C 446.320312 131.160156 441.84375 135.640625 436.320312 135.640625 C 430.796875 135.640625 426.320312 131.160156 426.320312 125.640625 C 426.320312 120.117188 430.796875 115.640625 436.320312 115.640625 C 441.84375 115.640625 446.320312 120.117188 446.320312 125.640625 \"/>\n<path fill-rule=\"nonzero\" fill=\"rgb(100%, 0%, 0%)\" fill-opacity=\"1\" stroke-width=\"1\" stroke-linecap=\"butt\" stroke-linejoin=\"miter\" stroke=\"rgb(0%, 0%, 0%)\" stroke-opacity=\"1\" stroke-miterlimit=\"10\" d=\"M 420.011719 131.238281 C 420.011719 136.761719 415.535156 141.238281 410.011719 141.238281 C 404.492188 141.238281 400.011719 136.761719 400.011719 131.238281 C 400.011719 125.71875 404.492188 121.238281 410.011719 121.238281 C 415.535156 121.238281 420.011719 125.71875 420.011719 131.238281 \"/>\n<path fill-rule=\"nonzero\" fill=\"rgb(100%, 0%, 0%)\" fill-opacity=\"1\" stroke-width=\"1\" stroke-linecap=\"butt\" stroke-linejoin=\"miter\" stroke=\"rgb(0%, 0%, 0%)\" stroke-opacity=\"1\" stroke-miterlimit=\"10\" d=\"M 433.472656 129.589844 C 433.472656 135.109375 428.996094 139.589844 423.472656 139.589844 C 417.949219 139.589844 413.472656 135.109375 413.472656 129.589844 C 413.472656 124.066406 417.949219 119.589844 423.472656 119.589844 C 428.996094 119.589844 433.472656 124.066406 433.472656 129.589844 \"/>\n<path fill-rule=\"nonzero\" fill=\"rgb(100%, 0%, 0%)\" fill-opacity=\"1\" stroke-width=\"1\" stroke-linecap=\"butt\" stroke-linejoin=\"miter\" stroke=\"rgb(0%, 0%, 0%)\" stroke-opacity=\"1\" stroke-miterlimit=\"10\" d=\"M 446.832031 130.414062 C 446.832031 135.933594 442.355469 140.414062 436.832031 140.414062 C 431.308594 140.414062 426.832031 135.933594 426.832031 130.414062 C 426.832031 124.890625 431.308594 120.414062 436.832031 120.414062 C 442.355469 120.414062 446.832031 124.890625 446.832031 130.414062 \"/>\n<path fill-rule=\"nonzero\" fill=\"rgb(100%, 0%, 0%)\" fill-opacity=\"1\" stroke-width=\"1\" stroke-linecap=\"butt\" stroke-linejoin=\"miter\" stroke=\"rgb(0%, 0%, 0%)\" stroke-opacity=\"1\" stroke-miterlimit=\"10\" d=\"M 214.726562 23.058594 C 214.726562 28.582031 210.25 33.058594 204.726562 33.058594 C 199.207031 33.058594 194.726562 28.582031 194.726562 23.058594 C 194.726562 17.535156 199.207031 13.058594 204.726562 13.058594 C 210.25 13.058594 214.726562 17.535156 214.726562 23.058594 \"/>\n<path fill-rule=\"nonzero\" fill=\"rgb(100%, 0%, 0%)\" fill-opacity=\"1\" stroke-width=\"1\" stroke-linecap=\"butt\" stroke-linejoin=\"miter\" stroke=\"rgb(0%, 0%, 0%)\" stroke-opacity=\"1\" stroke-miterlimit=\"10\" d=\"M 251.082031 21.796875 C 251.082031 27.320312 246.605469 31.796875 241.082031 31.796875 C 235.558594 31.796875 231.082031 27.320312 231.082031 21.796875 C 231.082031 16.273438 235.558594 11.796875 241.082031 11.796875 C 246.605469 11.796875 251.082031 16.273438 251.082031 21.796875 \"/>\n<path fill-rule=\"nonzero\" fill=\"rgb(100%, 0%, 0%)\" fill-opacity=\"1\" stroke-width=\"1\" stroke-linecap=\"butt\" stroke-linejoin=\"miter\" stroke=\"rgb(0%, 0%, 0%)\" stroke-opacity=\"1\" stroke-miterlimit=\"10\" d=\"M 238.722656 20 C 238.722656 25.523438 234.246094 30 228.722656 30 C 223.199219 30 218.722656 25.523438 218.722656 20 C 218.722656 14.476562 223.199219 10 228.722656 10 C 234.246094 10 238.722656 14.476562 238.722656 20 \"/>\n<path fill-rule=\"nonzero\" fill=\"rgb(100%, 0%, 0%)\" fill-opacity=\"1\" stroke-width=\"1\" stroke-linecap=\"butt\" stroke-linejoin=\"miter\" stroke=\"rgb(0%, 0%, 0%)\" stroke-opacity=\"1\" stroke-miterlimit=\"10\" d=\"M 225.699219 20.667969 C 225.699219 26.1875 221.21875 30.667969 215.699219 30.667969 C 210.175781 30.667969 205.699219 26.1875 205.699219 20.667969 C 205.699219 15.144531 210.175781 10.667969 215.699219 10.667969 C 221.21875 10.667969 225.699219 15.144531 225.699219 20.667969 \"/>\n<path fill-rule=\"nonzero\" fill=\"rgb(100%, 0%, 0%)\" fill-opacity=\"1\" stroke-width=\"1\" stroke-linecap=\"butt\" stroke-linejoin=\"miter\" stroke=\"rgb(0%, 0%, 0%)\" stroke-opacity=\"1\" stroke-miterlimit=\"10\" d=\"M 285.132812 31.554688 C 285.132812 37.078125 280.65625 41.554688 275.132812 41.554688 C 269.609375 41.554688 265.132812 37.078125 265.132812 31.554688 C 265.132812 26.035156 269.609375 21.554688 275.132812 21.554688 C 280.65625 21.554688 285.132812 26.035156 285.132812 31.554688 \"/>\n</svg>\n",
            "text/plain": [
              "<igraph.drawing.cairo.plot.CairoPlot at 0x204a0ba8c70>"
            ]
          },
          "execution_count": 32,
          "metadata": {
            "image/svg+xml": {
              "isolated": true
            }
          },
          "output_type": "execute_result"
        }
      ],
      "source": [
        "g9 = ig.Graph.TupleList(df.values.tolist(), directed=True, edge_attrs=df.columns[2:].tolist())\n",
        "\n",
        "#visualize the graph\n",
        "ig.plot(g9, bbox=(500, 200))"
      ]
    },
    {
      "cell_type": "code",
      "execution_count": null,
      "metadata": {},
      "outputs": [
        {
          "name": "stdout",
          "output_type": "stream",
          "text": [
            "Requirement already satisfied: networkx in c:\\users\\pedro\\github\\social_media_analysis\\.conda\\lib\\site-packages (3.0)\n",
            "Note: you may need to restart the kernel to use updated packages.\n"
          ]
        }
      ],
      "source": [
        "pip install networkx\n"
      ]
    },
    {
      "cell_type": "code",
      "execution_count": null,
      "metadata": {},
      "outputs": [
        {
          "ename": "NameError",
          "evalue": "name 'df' is not defined",
          "output_type": "error",
          "traceback": [
            "\u001b[1;31m---------------------------------------------------------------------------\u001b[0m",
            "\u001b[1;31mNameError\u001b[0m                                 Traceback (most recent call last)",
            "Cell \u001b[1;32mIn[30], line 7\u001b[0m\n\u001b[0;32m      4\u001b[0m \u001b[39mimport\u001b[39;00m \u001b[39mpandas\u001b[39;00m \u001b[39mas\u001b[39;00m \u001b[39mpd\u001b[39;00m\n\u001b[0;32m      6\u001b[0m g10 \u001b[39m=\u001b[39m Graph()\n\u001b[1;32m----> 7\u001b[0m nodes \u001b[39m=\u001b[39m pd\u001b[39m.\u001b[39mconcat([df[\u001b[39m'\u001b[39m\u001b[39msource\u001b[39m\u001b[39m'\u001b[39m], df[\u001b[39m'\u001b[39m\u001b[39mtarget\u001b[39m\u001b[39m'\u001b[39m]])\n\u001b[0;32m      8\u001b[0m g10\u001b[39m.\u001b[39madd_nodes_from(nodes)\n",
            "\u001b[1;31mNameError\u001b[0m: name 'df' is not defined"
          ]
        }
      ],
      "source": [
        "# Add nodes to the graph\n",
        "from igraph import Graph\n",
        "from networkx import *\n",
        "import pandas as pd\n",
        "\n",
        "g10 = Graph()\n",
        "nodes = pd.concat([df['source'], df['target']])\n",
        "g10.add_nodes_from(nodes)\n"
      ]
    },
    {
      "cell_type": "code",
      "execution_count": null,
      "metadata": {},
      "outputs": [],
      "source": [
        "\n",
        "# Add edges to the graph\n",
        "for _, row in df.iterrows():\n",
        "    source, target, weight = row['source'], row['target'], row['type']\n",
        "    G.add_edge(source, target, type=type)\n",
        "\n",
        "# Plot the graph\n",
        "nx.draw(g10, with_labels=True)"
      ]
    },
    {
      "cell_type": "markdown",
      "metadata": {
        "id": "gH8Yn41PeRvE"
      },
      "source": [
        "# 2. Network and node descriptives\n",
        "\n",
        "Node degree is the number of edges adjacents to node i.\n",
        "\n",
        "The function degree() has a mode of \"in\" for in-degree, \"out\" for out-degree, and all or total for total degree."
      ]
    },
    {
      "cell_type": "code",
      "execution_count": null,
      "metadata": {
        "id": "fBRhQKi8eRvF"
      },
      "outputs": [
        {
          "ename": "AttributeError",
          "evalue": "type object 'Graph' has no attribute 'Formula'",
          "output_type": "error",
          "traceback": [
            "\u001b[1;31m---------------------------------------------------------------------------\u001b[0m",
            "\u001b[1;31mAttributeError\u001b[0m                            Traceback (most recent call last)",
            "Cell \u001b[1;32mIn[31], line 1\u001b[0m\n\u001b[1;32m----> 1\u001b[0m g5\u001b[39m=\u001b[39mGraph\u001b[39m.\u001b[39;49mFormula(\u001b[39m'\u001b[39m\u001b[39mA-B, B-C, B-C, B-C, A-A, C-A, C-D, D-E, C-F\u001b[39m\u001b[39m'\u001b[39m,simplify \u001b[39m=\u001b[39m \u001b[39mFalse\u001b[39;00m)\n\u001b[0;32m      2\u001b[0m plot(g5, bbox\u001b[39m=\u001b[39m(\u001b[39m500\u001b[39m, \u001b[39m300\u001b[39m),vertex_label\u001b[39m=\u001b[39mg5\u001b[39m.\u001b[39mvs[\u001b[39m'\u001b[39m\u001b[39mname\u001b[39m\u001b[39m'\u001b[39m])\n",
            "\u001b[1;31mAttributeError\u001b[0m: type object 'Graph' has no attribute 'Formula'"
          ]
        }
      ],
      "source": [
        "g5=Graph.Formula('A-B, B-C, B-C, B-C, A-A, C-A, C-D, D-E, C-F',simplify = False)\n",
        "plot(g5, bbox=(500, 300),vertex_label=g5.vs['name'])"
      ]
    },
    {
      "cell_type": "code",
      "execution_count": null,
      "metadata": {
        "id": "6XZYv1RLeRvF"
      },
      "outputs": [
        {
          "ename": "NameError",
          "evalue": "name 'g5' is not defined",
          "output_type": "error",
          "traceback": [
            "\u001b[1;31m---------------------------------------------------------------------------\u001b[0m",
            "\u001b[1;31mNameError\u001b[0m                                 Traceback (most recent call last)",
            "Cell \u001b[1;32mIn[32], line 1\u001b[0m\n\u001b[1;32m----> 1\u001b[0m g5\u001b[39m.\u001b[39mdegree(mode\u001b[39m=\u001b[39m\u001b[39m'\u001b[39m\u001b[39mall\u001b[39m\u001b[39m'\u001b[39m) \n",
            "\u001b[1;31mNameError\u001b[0m: name 'g5' is not defined"
          ]
        }
      ],
      "source": [
        "g5.degree(mode='all') "
      ]
    },
    {
      "cell_type": "code",
      "execution_count": null,
      "metadata": {},
      "outputs": [
        {
          "data": {
            "image/svg+xml": "<?xml version=\"1.0\" encoding=\"UTF-8\"?>\n<svg xmlns=\"http://www.w3.org/2000/svg\" xmlns:xlink=\"http://www.w3.org/1999/xlink\" width=\"500\" height=\"300\" viewBox=\"0 0 500 300\">\n<defs>\n<g>\n<g id=\"glyph-0-0\">\n<path d=\"M 1.75 0 L 1.75 -8.75 L 8.75 -8.75 L 8.75 0 L 1.75 0 M 1.96875 -0.21875 L 8.53125 -0.21875 L 8.53125 -8.53125 L 1.96875 -8.53125 Z M 1.96875 -0.21875 \"/>\n</g>\n<g id=\"glyph-0-1\">\n<path d=\"M -0.0195312 0 L 3.828125 -10.023438 L 5.257812 -10.023438 L 9.359375 0 L 7.847656 0 L 6.679688 -3.035156 L 2.488281 -3.035156 L 1.386719 0 L -0.0195312 0 M 2.871094 -4.117188 L 6.269531 -4.117188 L 5.222656 -6.890625 C 4.902344 -7.734375 4.667969 -8.425781 4.511719 -8.96875 C 4.382812 -8.328125 4.203125 -7.6875 3.972656 -7.054688 Z M 2.871094 -4.117188 \"/>\n</g>\n<g id=\"glyph-0-2\">\n<path d=\"M 1.023438 0 L 1.023438 -10.023438 L 4.785156 -10.023438 C 5.550781 -10.023438 6.164062 -9.921875 6.628906 -9.71875 C 7.089844 -9.515625 7.453125 -9.203125 7.714844 -8.78125 C 7.976562 -8.359375 8.109375 -7.917969 8.109375 -7.457031 C 8.109375 -7.03125 7.992188 -6.625 7.757812 -6.25 C 7.527344 -5.871094 7.175781 -5.5625 6.707031 -5.332031 C 7.3125 -5.15625 7.777344 -4.851562 8.105469 -4.421875 C 8.429688 -3.996094 8.59375 -3.488281 8.59375 -2.90625 C 8.59375 -2.4375 8.492188 -2 8.296875 -1.597656 C 8.097656 -1.191406 7.851562 -0.882812 7.5625 -0.664062 C 7.269531 -0.445312 6.902344 -0.277344 6.464844 -0.167969 C 6.023438 -0.0546875 5.484375 0 4.847656 0 L 1.023438 0 M 2.351562 -5.8125 L 4.519531 -5.8125 C 5.105469 -5.8125 5.527344 -5.847656 5.78125 -5.925781 C 6.121094 -6.027344 6.375 -6.195312 6.546875 -6.425781 C 6.714844 -6.65625 6.800781 -6.949219 6.800781 -7.300781 C 6.800781 -7.632812 6.722656 -7.925781 6.5625 -8.179688 C 6.402344 -8.433594 6.175781 -8.605469 5.878906 -8.699219 C 5.582031 -8.792969 5.074219 -8.839844 4.355469 -8.839844 L 2.351562 -8.839844 L 2.351562 -5.8125 M 2.351562 -1.183594 L 4.847656 -1.183594 C 5.273438 -1.183594 5.574219 -1.199219 5.75 -1.230469 C 6.054688 -1.285156 6.308594 -1.375 6.515625 -1.503906 C 6.71875 -1.632812 6.886719 -1.816406 7.019531 -2.0625 C 7.152344 -2.304688 7.21875 -2.585938 7.21875 -2.90625 C 7.21875 -3.277344 7.121094 -3.605469 6.929688 -3.878906 C 6.738281 -4.15625 6.476562 -4.347656 6.136719 -4.460938 C 5.796875 -4.570312 5.308594 -4.628906 4.667969 -4.628906 L 2.351562 -4.628906 Z M 2.351562 -1.183594 \"/>\n</g>\n<g id=\"glyph-0-3\">\n<path d=\"M 8.230469 -3.515625 L 9.554688 -3.179688 C 9.277344 -2.089844 8.777344 -1.257812 8.054688 -0.6875 C 7.332031 -0.113281 6.449219 0.171875 5.40625 0.171875 C 4.328125 0.171875 3.449219 -0.0507812 2.773438 -0.488281 C 2.09375 -0.929688 1.582031 -1.566406 1.226562 -2.398438 C 0.875 -3.234375 0.695312 -4.128906 0.695312 -5.085938 C 0.695312 -6.128906 0.898438 -7.039062 1.296875 -7.816406 C 1.695312 -8.59375 2.261719 -9.183594 2.996094 -9.585938 C 3.734375 -9.992188 4.542969 -10.191406 5.429688 -10.191406 C 6.429688 -10.191406 7.273438 -9.9375 7.957031 -9.425781 C 8.640625 -8.917969 9.117188 -8.199219 9.386719 -7.273438 L 8.078125 -6.964844 C 7.847656 -7.695312 7.511719 -8.226562 7.070312 -8.558594 C 6.625 -8.890625 6.070312 -9.058594 5.398438 -9.058594 C 4.628906 -9.058594 3.988281 -8.875 3.46875 -8.503906 C 2.953125 -8.132812 2.589844 -7.640625 2.378906 -7.015625 C 2.167969 -6.394531 2.0625 -5.753906 2.0625 -5.09375 C 2.0625 -4.242188 2.1875 -3.496094 2.4375 -2.859375 C 2.683594 -2.226562 3.070312 -1.75 3.59375 -1.4375 C 4.121094 -1.121094 4.6875 -0.964844 5.296875 -0.964844 C 6.039062 -0.964844 6.667969 -1.179688 7.183594 -1.605469 C 7.699219 -2.035156 8.046875 -2.671875 8.230469 -3.515625 Z M 8.230469 -3.515625 \"/>\n</g>\n<g id=\"glyph-0-4\">\n<path d=\"M 1.078125 0 L 1.078125 -10.023438 L 4.53125 -10.023438 C 5.3125 -10.023438 5.90625 -9.972656 6.316406 -9.878906 C 6.890625 -9.746094 7.378906 -9.507812 7.785156 -9.160156 C 8.316406 -8.714844 8.710938 -8.144531 8.972656 -7.449219 C 9.234375 -6.753906 9.367188 -5.957031 9.367188 -5.066406 C 9.367188 -4.304688 9.277344 -3.628906 9.097656 -3.042969 C 8.921875 -2.453125 8.691406 -1.96875 8.414062 -1.582031 C 8.136719 -1.199219 7.832031 -0.894531 7.503906 -0.671875 C 7.171875 -0.453125 6.773438 -0.285156 6.304688 -0.171875 C 5.839844 -0.0585938 5.300781 0 4.695312 0 L 1.078125 0 M 2.40625 -1.183594 L 4.546875 -1.183594 C 5.207031 -1.183594 5.726562 -1.242188 6.101562 -1.367188 C 6.476562 -1.492188 6.777344 -1.664062 7 -1.886719 C 7.3125 -2.203125 7.558594 -2.625 7.734375 -3.15625 C 7.910156 -3.6875 7.996094 -4.328125 8 -5.085938 C 7.996094 -6.132812 7.824219 -6.941406 7.480469 -7.503906 C 7.136719 -8.066406 6.71875 -8.441406 6.226562 -8.632812 C 5.871094 -8.769531 5.300781 -8.839844 4.511719 -8.839844 L 2.40625 -8.839844 Z M 2.40625 -1.183594 \"/>\n</g>\n<g id=\"glyph-0-5\">\n<path d=\"M 1.109375 0 L 1.109375 -10.023438 L 8.351562 -10.023438 L 8.351562 -8.839844 L 2.433594 -8.839844 L 2.433594 -5.769531 L 7.976562 -5.769531 L 7.976562 -4.59375 L 2.433594 -4.59375 L 2.433594 -1.183594 L 8.585938 -1.183594 L 8.585938 0 Z M 1.109375 0 \"/>\n</g>\n<g id=\"glyph-0-6\">\n<path d=\"M 1.148438 0 L 1.148438 -10.023438 L 7.910156 -10.023438 L 7.910156 -8.839844 L 2.476562 -8.839844 L 2.476562 -5.734375 L 7.179688 -5.734375 L 7.179688 -4.554688 L 2.476562 -4.554688 L 2.476562 0 Z M 1.148438 0 \"/>\n</g>\n</g>\n</defs>\n<rect x=\"-50\" y=\"-30\" width=\"600\" height=\"360\" fill=\"rgb(100%, 100%, 100%)\" fill-opacity=\"1\"/>\n<path fill=\"none\" stroke-width=\"1\" stroke-linecap=\"butt\" stroke-linejoin=\"miter\" stroke=\"rgb(26.666667%, 26.666667%, 26.666667%)\" stroke-opacity=\"1\" stroke-miterlimit=\"10\" d=\"M 173.792969 20 L 96.757812 69.699219 \"/>\n<path fill-rule=\"nonzero\" fill=\"rgb(26.666667%, 26.666667%, 26.666667%)\" fill-opacity=\"1\" d=\"M 84.769531 77.433594 L 94.242188 65.804688 L 99.269531 73.59375 L 84.769531 77.433594 \"/>\n<path fill=\"none\" stroke-width=\"1\" stroke-linecap=\"butt\" stroke-linejoin=\"miter\" stroke=\"rgb(26.666667%, 26.666667%, 26.666667%)\" stroke-opacity=\"1\" stroke-miterlimit=\"10\" d=\"M 261.300781 80.636719 C 210.378906 126.730469 155.457031 132.117188 97.15625 95.804688 \"/>\n<path fill-rule=\"nonzero\" fill=\"rgb(26.666667%, 26.666667%, 26.666667%)\" fill-opacity=\"1\" d=\"M 85.046875 88.261719 L 99.605469 91.867188 L 94.703125 99.738281 L 85.046875 88.261719 \"/>\n<path fill=\"none\" stroke-width=\"1\" stroke-linecap=\"butt\" stroke-linejoin=\"miter\" stroke=\"rgb(26.666667%, 26.666667%, 26.666667%)\" stroke-opacity=\"1\" stroke-miterlimit=\"10\" d=\"M 76.367188 82.855469 C 131.054688 43.96875 198.394531 97.21875 237.363281 86.949219 \"/>\n<path fill-rule=\"nonzero\" fill=\"rgb(26.666667%, 26.666667%, 26.666667%)\" fill-opacity=\"1\" d=\"M 251.15625 83.3125 L 238.542969 91.429688 L 236.179688 82.464844 L 251.15625 83.3125 \"/>\n<path fill=\"none\" stroke-width=\"1\" stroke-linecap=\"butt\" stroke-linejoin=\"miter\" stroke=\"rgb(26.666667%, 26.666667%, 26.666667%)\" stroke-opacity=\"1\" stroke-miterlimit=\"10\" d=\"M 261.300781 80.636719 C 217.238281 92.523438 149.144531 54.691406 159.582031 40.003906 \"/>\n<path fill-rule=\"nonzero\" fill=\"rgb(26.666667%, 26.666667%, 26.666667%)\" fill-opacity=\"1\" d=\"M 167.84375 28.371094 L 163.363281 42.6875 L 155.804688 37.316406 L 167.84375 28.371094 \"/>\n<path fill=\"none\" stroke-width=\"1\" stroke-linecap=\"butt\" stroke-linejoin=\"miter\" stroke=\"rgb(26.666667%, 26.666667%, 26.666667%)\" stroke-opacity=\"1\" stroke-miterlimit=\"10\" d=\"M 173.792969 20 C 213.050781 27.0625 249.6875 85.5625 239 90.097656 \"/>\n<path fill-rule=\"nonzero\" fill=\"rgb(26.666667%, 26.666667%, 26.666667%)\" fill-opacity=\"1\" d=\"M 252.132812 84.527344 L 240.808594 94.363281 L 237.1875 85.828125 L 252.132812 84.527344 \"/>\n<path fill=\"none\" stroke-width=\"1\" stroke-linecap=\"butt\" stroke-linejoin=\"miter\" stroke=\"rgb(26.666667%, 26.666667%, 26.666667%)\" stroke-opacity=\"1\" stroke-miterlimit=\"10\" d=\"M 20 258.785156 L 190.082031 277.363281 \"/>\n<path fill-rule=\"nonzero\" fill=\"rgb(26.666667%, 26.666667%, 26.666667%)\" fill-opacity=\"1\" d=\"M 204.261719 278.914062 L 189.578125 281.972656 L 190.585938 272.757812 L 204.261719 278.914062 \"/>\n<path fill=\"none\" stroke-width=\"1\" stroke-linecap=\"butt\" stroke-linejoin=\"miter\" stroke=\"rgb(26.666667%, 26.666667%, 26.666667%)\" stroke-opacity=\"1\" stroke-miterlimit=\"10\" d=\"M 480 122.058594 L 285.144531 85.152344 \"/>\n<path fill-rule=\"nonzero\" fill=\"rgb(26.666667%, 26.666667%, 26.666667%)\" fill-opacity=\"1\" d=\"M 271.128906 82.5 L 286.007812 80.597656 L 284.28125 89.707031 L 271.128906 82.5 \"/>\n<path fill-rule=\"nonzero\" fill=\"rgb(100%, 0%, 0%)\" fill-opacity=\"1\" stroke-width=\"1\" stroke-linecap=\"butt\" stroke-linejoin=\"miter\" stroke=\"rgb(0%, 0%, 0%)\" stroke-opacity=\"1\" stroke-miterlimit=\"10\" d=\"M 183.792969 20 C 183.792969 25.523438 179.316406 30 173.792969 30 C 168.269531 30 163.792969 25.523438 163.792969 20 C 163.792969 14.476562 168.269531 10 173.792969 10 C 179.316406 10 183.792969 14.476562 183.792969 20 \"/>\n<path fill-rule=\"nonzero\" fill=\"rgb(100%, 0%, 0%)\" fill-opacity=\"1\" stroke-width=\"1\" stroke-linecap=\"butt\" stroke-linejoin=\"miter\" stroke=\"rgb(0%, 0%, 0%)\" stroke-opacity=\"1\" stroke-miterlimit=\"10\" d=\"M 86.367188 82.855469 C 86.367188 88.378906 81.890625 92.855469 76.367188 92.855469 C 70.84375 92.855469 66.367188 88.378906 66.367188 82.855469 C 66.367188 77.332031 70.84375 72.855469 76.367188 72.855469 C 81.890625 72.855469 86.367188 77.332031 86.367188 82.855469 \"/>\n<path fill-rule=\"nonzero\" fill=\"rgb(100%, 0%, 0%)\" fill-opacity=\"1\" stroke-width=\"1\" stroke-linecap=\"butt\" stroke-linejoin=\"miter\" stroke=\"rgb(0%, 0%, 0%)\" stroke-opacity=\"1\" stroke-miterlimit=\"10\" d=\"M 271.300781 80.636719 C 271.300781 86.160156 266.824219 90.636719 261.300781 90.636719 C 255.78125 90.636719 251.300781 86.160156 251.300781 80.636719 C 251.300781 75.117188 255.78125 70.636719 261.300781 70.636719 C 266.824219 70.636719 271.300781 75.117188 271.300781 80.636719 \"/>\n<path fill-rule=\"nonzero\" fill=\"rgb(100%, 0%, 0%)\" fill-opacity=\"1\" stroke-width=\"1\" stroke-linecap=\"butt\" stroke-linejoin=\"miter\" stroke=\"rgb(0%, 0%, 0%)\" stroke-opacity=\"1\" stroke-miterlimit=\"10\" d=\"M 30 258.785156 C 30 264.308594 25.523438 268.785156 20 268.785156 C 14.476562 268.785156 10 264.308594 10 258.785156 C 10 253.261719 14.476562 248.785156 20 248.785156 C 25.523438 248.785156 30 253.261719 30 258.785156 \"/>\n<path fill-rule=\"nonzero\" fill=\"rgb(100%, 0%, 0%)\" fill-opacity=\"1\" stroke-width=\"1\" stroke-linecap=\"butt\" stroke-linejoin=\"miter\" stroke=\"rgb(0%, 0%, 0%)\" stroke-opacity=\"1\" stroke-miterlimit=\"10\" d=\"M 224.203125 280 C 224.203125 285.523438 219.726562 290 214.203125 290 C 208.679688 290 204.203125 285.523438 204.203125 280 C 204.203125 274.476562 208.679688 270 214.203125 270 C 219.726562 270 224.203125 274.476562 224.203125 280 \"/>\n<path fill-rule=\"nonzero\" fill=\"rgb(100%, 0%, 0%)\" fill-opacity=\"1\" stroke-width=\"1\" stroke-linecap=\"butt\" stroke-linejoin=\"miter\" stroke=\"rgb(0%, 0%, 0%)\" stroke-opacity=\"1\" stroke-miterlimit=\"10\" d=\"M 490 122.058594 C 490 127.582031 485.523438 132.058594 480 132.058594 C 474.476562 132.058594 470 127.582031 470 122.058594 C 470 116.535156 474.476562 112.058594 480 112.058594 C 485.523438 112.058594 490 116.535156 490 122.058594 \"/>\n<g fill=\"rgb(0%, 0%, 0%)\" fill-opacity=\"1\">\n<use xlink:href=\"#glyph-0-1\" x=\"169.125\" y=\"26.492188\"/>\n</g>\n<g fill=\"rgb(0%, 0%, 0%)\" fill-opacity=\"1\">\n<use xlink:href=\"#glyph-0-2\" x=\"71.558594\" y=\"89.347656\"/>\n</g>\n<g fill=\"rgb(0%, 0%, 0%)\" fill-opacity=\"1\">\n<use xlink:href=\"#glyph-0-3\" x=\"256.175781\" y=\"87.21875\"/>\n</g>\n<g fill=\"rgb(0%, 0%, 0%)\" fill-opacity=\"1\">\n<use xlink:href=\"#glyph-0-4\" x=\"14.777344\" y=\"265.28125\"/>\n</g>\n<g fill=\"rgb(0%, 0%, 0%)\" fill-opacity=\"1\">\n<use xlink:href=\"#glyph-0-5\" x=\"209.355469\" y=\"286.492188\"/>\n</g>\n<g fill=\"rgb(0%, 0%, 0%)\" fill-opacity=\"1\">\n<use xlink:href=\"#glyph-0-6\" x=\"475.472656\" y=\"128.550781\"/>\n</g>\n</svg>\n",
            "text/plain": [
              "<igraph.drawing.cairo.plot.CairoPlot at 0x1e48fc4eb30>"
            ]
          },
          "execution_count": 76,
          "metadata": {
            "image/svg+xml": {
              "isolated": true
            }
          },
          "output_type": "execute_result"
        }
      ],
      "source": [
        "g6=Graph.Formula('A->B, B<-C, B->C, C<->A, C-D, D->E, C<-F',simplify = False)\n",
        "plot(g6, bbox=(500, 300),vertex_label=g6.vs['name'])"
      ]
    },
    {
      "cell_type": "code",
      "execution_count": null,
      "metadata": {},
      "outputs": [
        {
          "name": "stdout",
          "output_type": "stream",
          "text": [
            "IGRAPH DN-- 6 7 --\n",
            "+ attr: name (v)\n",
            "+ edges (vertex names):\n",
            "A->B, C->B, B->C, C->A, A->C, D->E, F->C\n"
          ]
        }
      ],
      "source": [
        "print(g6)"
      ]
    },
    {
      "cell_type": "code",
      "execution_count": null,
      "metadata": {},
      "outputs": [
        {
          "data": {
            "text/plain": [
              "[2, 1, 2, 1, 0, 1]"
            ]
          },
          "execution_count": 78,
          "metadata": {},
          "output_type": "execute_result"
        }
      ],
      "source": [
        "g6.degree(mode='out') "
      ]
    },
    {
      "cell_type": "code",
      "execution_count": null,
      "metadata": {},
      "outputs": [
        {
          "data": {
            "text/plain": [
              "[1, 2, 3, 0, 1, 0]"
            ]
          },
          "execution_count": 79,
          "metadata": {},
          "output_type": "execute_result"
        }
      ],
      "source": [
        "g6.degree(mode='in') "
      ]
    },
    {
      "cell_type": "code",
      "execution_count": null,
      "metadata": {},
      "outputs": [
        {
          "data": {
            "text/plain": [
              "[3, 3, 5, 1, 1, 1]"
            ]
          },
          "execution_count": 80,
          "metadata": {},
          "output_type": "execute_result"
        }
      ],
      "source": [
        "g6.degree(mode='all') "
      ]
    },
    {
      "cell_type": "markdown",
      "metadata": {
        "id": "644qTYpqeRvG"
      },
      "source": [
        "Create the directed graph that you want and use the different degree modes to see the differences and share it in the 3_2 discussion board"
      ]
    },
    {
      "cell_type": "code",
      "execution_count": null,
      "metadata": {
        "id": "yljICO1UeRvH"
      },
      "outputs": [],
      "source": [
        "#Insert your code here, plot the results and share it in session 3_2\n",
        "#DONE ABOVE"
      ]
    },
    {
      "cell_type": "markdown",
      "metadata": {
        "id": "VSVJ3mdQeRvI"
      },
      "source": [
        "Degree distribution can be seen through a histogram of the frequency of the node degrees. Calculate the histogram of the degrees for your graph and share it in discussion board 3_3"
      ]
    },
    {
      "cell_type": "code",
      "execution_count": null,
      "metadata": {},
      "outputs": [],
      "source": [
        "import matplotlib.pyplot as plt\n",
        "import numpy as np"
      ]
    },
    {
      "cell_type": "code",
      "execution_count": null,
      "metadata": {},
      "outputs": [],
      "source": [
        "degrees = g6.degree(mode='all')"
      ]
    },
    {
      "cell_type": "code",
      "execution_count": null,
      "metadata": {
        "id": "4VDq8sY7eRvI"
      },
      "outputs": [
        {
          "data": {
            "image/png": "[encoded data removed]",
            "text/plain": [
              "<Figure size 640x480 with 1 Axes>"
            ]
          },
          "metadata": {},
          "output_type": "display_data"
        }
      ],
      "source": [
        "#Calculate the histogram of the degrees for g6\n",
        "plt.hist(degrees, bins=np.arange(min(degrees), max(degrees)+2)-0.5, rwidth=0.8)\n",
        "plt.xlabel(\"Degree\")\n",
        "plt.ylabel(\"Frequency\")\n",
        "plt.show()"
      ]
    },
    {
      "cell_type": "code",
      "execution_count": null,
      "metadata": {},
      "outputs": [
        {
          "name": "stderr",
          "output_type": "stream",
          "text": [
            "c:\\Users\\pedro\\github\\social_media_analysis\\.conda\\lib\\site-packages\\igraph\\drawing\\cairo\\plot.py:277: UserWarning: <generator object Histogram.bins at 0x0000021306A19700> does not support plotting\n",
            "  warn(\"%s does not support plotting\" % (obj,))\n"
          ]
        },
        {
          "data": {
            "image/svg+xml": "<?xml version=\"1.0\" encoding=\"UTF-8\"?>\n<svg xmlns=\"http://www.w3.org/2000/svg\" xmlns:xlink=\"http://www.w3.org/1999/xlink\" width=\"300\" height=\"200\" viewBox=\"0 0 300 200\">\n<rect x=\"-30\" y=\"-20\" width=\"360\" height=\"240\" fill=\"rgb(100%, 100%, 100%)\" fill-opacity=\"1\"/>\n</svg>\n",
            "text/plain": [
              "<igraph.drawing.cairo.plot.CairoPlot at 0x21306a3beb0>"
            ]
          },
          "execution_count": 76,
          "metadata": {
            "image/svg+xml": {
              "isolated": true
            }
          },
          "output_type": "execute_result"
        }
      ],
      "source": [
        "#Plot the histogram\n",
        "plot(hist, bbox=(300, 200))\n",
        "  "
      ]
    },
    {
      "cell_type": "code",
      "execution_count": null,
      "metadata": {},
      "outputs": [],
      "source": []
    }
  ],
  "metadata": {
    "colab": {
      "provenance": []
    },
    "kernelspec": {
      "display_name": "Python 3",
      "language": "python",
      "name": "python3"
    },
    "language_info": {
      "codemirror_mode": {
        "name": "ipython",
        "version": 3
      },
      "file_extension": ".py",
      "mimetype": "text/x-python",
      "name": "python",
      "nbconvert_exporter": "python",
      "pygments_lexer": "ipython3",
      "version": "3.10.9"
    }
  },
  "nbformat": 4,
  "nbformat_minor": 0
}
