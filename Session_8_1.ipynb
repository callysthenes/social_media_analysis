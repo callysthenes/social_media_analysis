{
  "cells": [
    {
      "cell_type": "code",
      "execution_count": null,
      "metadata": {
        "id": "57xQgujutSwZ"
      },
      "outputs": [],
      "source": [
        "import igraph as ig\n",
        "import pandas as pd"
      ]
    },
    {
      "cell_type": "markdown",
      "metadata": {
        "id": "hOqY9bhqtSwe"
      },
      "source": [
        "# Zachary\n",
        "Let's work with a famous dataset: Zachary.\n",
        "\n",
        "A social network of a karate club was studied by Wayne W. Zachary for a period of three years from 1970 to 1972.[2] The network captures 34 members of a karate club, documenting links between pairs of members who interacted outside the club. During the study a conflict arose between the administrator \"John A\" and instructor \"Mr. Hi\" (pseudonyms), which led to the split of the club into two. Half of the members formed a new club around Mr. Hi; members from the other part found a new instructor or gave up karate. Based on collected data Zachary correctly assigned all but one member of the club to the groups they actually joined after the split.\n",
        "https://en.wikipedia.org/wiki/Zachary%27s_karate_club"
      ]
    },
    {
      "cell_type": "code",
      "execution_count": null,
      "metadata": {
        "id": "_Yt11zSTtSwj"
      },
      "outputs": [],
      "source": [
        "g = ig.Graph.Famous('Zachary')"
      ]
    },
    {
      "cell_type": "markdown",
      "metadata": {
        "id": "-hQb4oXCtSwk"
      },
      "source": [
        "We can plot it because it is not that big :)"
      ]
    },
    {
      "cell_type": "code",
      "execution_count": null,
      "metadata": {
        "id": "FRe0Yp6OtSwk",
        "outputId": "f7de432a-add6-4a3c-8e01-a7fbbeecebcc"
      },
      "outputs": [
        {
          "data": {
            "image/svg+xml": [
              "<?xml version=\"1.0\" encoding=\"UTF-8\"?>\n",
              "<svg xmlns=\"http://www.w3.org/2000/svg\" xmlns:xlink=\"http://www.w3.org/1999/xlink\" width=\"600pt\" height=\"600pt\" viewBox=\"0 0 600 600\" version=\"1.1\">\n",
              "<defs>\n",
              "<g>\n",
              "<symbol overflow=\"visible\" id=\"glyph0-0\">\n",
              "<path style=\"stroke:none;\" d=\"M 1.75 0 L 1.75 -8.75 L 8.75 -8.75 L 8.75 0 Z M 1.96875 -0.21875 L 8.53125 -0.21875 L 8.53125 -8.53125 L 1.96875 -8.53125 Z M 1.96875 -0.21875 \"/>\n",
              "</symbol>\n",
              "<symbol overflow=\"visible\" id=\"glyph0-1\">\n",
              "<path style=\"stroke:none;\" d=\"M 0.582031 -4.941406 C 0.578125 -6.121094 0.699219 -7.074219 0.945313 -7.800781 C 1.1875 -8.519531 1.550781 -9.078125 2.03125 -9.472656 C 2.511719 -9.863281 3.117188 -10.058594 3.847656 -10.0625 C 4.382813 -10.058594 4.855469 -9.953125 5.261719 -9.738281 C 5.667969 -9.519531 6 -9.207031 6.265625 -8.800781 C 6.527344 -8.390625 6.738281 -7.890625 6.890625 -7.308594 C 7.039063 -6.722656 7.113281 -5.933594 7.117188 -4.941406 C 7.113281 -3.761719 6.992188 -2.8125 6.753906 -2.09375 C 6.507813 -1.367188 6.144531 -0.808594 5.667969 -0.417969 C 5.183594 -0.0234375 4.578125 0.167969 3.847656 0.171875 C 2.878906 0.167969 2.121094 -0.175781 1.570313 -0.867188 C 0.910156 -1.699219 0.578125 -3.054688 0.582031 -4.941406 Z M 1.84375 -4.941406 C 1.839844 -3.292969 2.03125 -2.199219 2.421875 -1.65625 C 2.804688 -1.109375 3.28125 -0.835938 3.847656 -0.839844 C 4.410156 -0.835938 4.886719 -1.109375 5.273438 -1.660156 C 5.65625 -2.203125 5.847656 -3.296875 5.851563 -4.941406 C 5.847656 -6.589844 5.65625 -7.6875 5.273438 -8.230469 C 4.886719 -8.769531 4.40625 -9.039063 3.835938 -9.042969 C 3.269531 -9.039063 2.816406 -8.800781 2.480469 -8.328125 C 2.050781 -7.710938 1.839844 -6.582031 1.84375 -4.941406 Z M 1.84375 -4.941406 \"/>\n",
              "</symbol>\n",
              "<symbol overflow=\"visible\" id=\"glyph0-2\">\n",
              "<path style=\"stroke:none;\" d=\"M 5.214844 0 L 3.984375 0 L 3.984375 -7.839844 C 3.6875 -7.558594 3.296875 -7.273438 2.816406 -6.992188 C 2.335938 -6.707031 1.90625 -6.496094 1.523438 -6.359375 L 1.523438 -7.546875 C 2.210938 -7.867188 2.8125 -8.257813 3.328125 -8.722656 C 3.84375 -9.179688 4.207031 -9.625 4.421875 -10.0625 L 5.214844 -10.0625 Z M 5.214844 0 \"/>\n",
              "</symbol>\n",
              "<symbol overflow=\"visible\" id=\"glyph0-3\">\n",
              "<path style=\"stroke:none;\" d=\"M 7.046875 -1.183594 L 7.046875 0 L 0.421875 0 C 0.414063 -0.296875 0.460938 -0.582031 0.566406 -0.855469 C 0.734375 -1.304688 1.003906 -1.746094 1.375 -2.1875 C 1.746094 -2.621094 2.285156 -3.128906 2.988281 -3.703125 C 4.074219 -4.597656 4.808594 -5.304688 5.195313 -5.828125 C 5.574219 -6.347656 5.765625 -6.839844 5.769531 -7.308594 C 5.765625 -7.792969 5.589844 -8.203125 5.246094 -8.539063 C 4.894531 -8.871094 4.441406 -9.039063 3.882813 -9.042969 C 3.285156 -9.039063 2.8125 -8.863281 2.460938 -8.507813 C 2.105469 -8.152344 1.925781 -7.660156 1.921875 -7.035156 L 0.65625 -7.164063 C 0.742188 -8.105469 1.066406 -8.824219 1.632813 -9.320313 C 2.195313 -9.8125 2.953125 -10.058594 3.910156 -10.0625 C 4.867188 -10.058594 5.628906 -9.792969 6.191406 -9.261719 C 6.75 -8.726563 7.03125 -8.066406 7.035156 -7.28125 C 7.03125 -6.878906 6.949219 -6.484375 6.789063 -6.097656 C 6.621094 -5.707031 6.347656 -5.296875 5.96875 -4.871094 C 5.585938 -4.441406 4.953125 -3.855469 4.074219 -3.109375 C 3.332031 -2.488281 2.859375 -2.066406 2.652344 -1.847656 C 2.4375 -1.621094 2.265625 -1.402344 2.132813 -1.183594 Z M 7.046875 -1.183594 \"/>\n",
              "</symbol>\n",
              "<symbol overflow=\"visible\" id=\"glyph0-4\">\n",
              "<path style=\"stroke:none;\" d=\"M 0.585938 -2.644531 L 1.820313 -2.808594 C 1.957031 -2.109375 2.195313 -1.609375 2.539063 -1.300781 C 2.875 -0.992188 3.289063 -0.835938 3.78125 -0.839844 C 4.355469 -0.835938 4.84375 -1.039063 5.246094 -1.441406 C 5.640625 -1.839844 5.839844 -2.335938 5.84375 -2.933594 C 5.839844 -3.496094 5.65625 -3.960938 5.289063 -4.332031 C 4.917969 -4.695313 4.449219 -4.878906 3.882813 -4.882813 C 3.648438 -4.878906 3.359375 -4.832031 3.015625 -4.742188 L 3.152344 -5.824219 C 3.230469 -5.816406 3.296875 -5.8125 3.351563 -5.8125 C 3.875 -5.8125 4.34375 -5.949219 4.765625 -6.222656 C 5.179688 -6.496094 5.390625 -6.914063 5.394531 -7.484375 C 5.390625 -7.933594 5.238281 -8.308594 4.933594 -8.605469 C 4.628906 -8.898438 4.234375 -9.046875 3.753906 -9.050781 C 3.273438 -9.046875 2.875 -8.894531 2.554688 -8.597656 C 2.234375 -8.292969 2.027344 -7.84375 1.941406 -7.246094 L 0.710938 -7.464844 C 0.859375 -8.289063 1.203125 -8.925781 1.734375 -9.382813 C 2.265625 -9.832031 2.929688 -10.058594 3.726563 -10.0625 C 4.273438 -10.058594 4.773438 -9.941406 5.234375 -9.710938 C 5.691406 -9.472656 6.042969 -9.152344 6.289063 -8.75 C 6.53125 -8.339844 6.65625 -7.910156 6.65625 -7.457031 C 6.65625 -7.023438 6.539063 -6.628906 6.308594 -6.273438 C 6.074219 -5.917969 5.730469 -5.636719 5.277344 -5.429688 C 5.867188 -5.289063 6.328125 -5.003906 6.65625 -4.574219 C 6.984375 -4.140625 7.148438 -3.601563 7.148438 -2.960938 C 7.148438 -2.082031 6.828125 -1.339844 6.191406 -0.734375 C 5.550781 -0.125 4.746094 0.175781 3.773438 0.179688 C 2.890625 0.175781 2.160156 -0.0820313 1.582031 -0.605469 C 1 -1.128906 0.667969 -1.808594 0.585938 -2.644531 Z M 0.585938 -2.644531 \"/>\n",
              "</symbol>\n",
              "<symbol overflow=\"visible\" id=\"glyph0-5\">\n",
              "<path style=\"stroke:none;\" d=\"M 4.523438 0 L 4.523438 -2.398438 L 0.179688 -2.398438 L 0.179688 -3.527344 L 4.75 -10.023438 L 5.757813 -10.023438 L 5.757813 -3.527344 L 7.109375 -3.527344 L 7.109375 -2.398438 L 5.757813 -2.398438 L 5.757813 0 Z M 4.523438 -3.527344 L 4.523438 -8.046875 L 1.386719 -3.527344 Z M 4.523438 -3.527344 \"/>\n",
              "</symbol>\n",
              "<symbol overflow=\"visible\" id=\"glyph0-6\">\n",
              "<path style=\"stroke:none;\" d=\"M 0.582031 -2.625 L 1.875 -2.734375 C 1.96875 -2.101563 2.1875 -1.628906 2.539063 -1.3125 C 2.882813 -0.996094 3.304688 -0.835938 3.800781 -0.839844 C 4.390625 -0.835938 4.890625 -1.058594 5.304688 -1.507813 C 5.710938 -1.953125 5.917969 -2.546875 5.921875 -3.289063 C 5.917969 -3.984375 5.71875 -4.539063 5.328125 -4.949219 C 4.929688 -5.351563 4.414063 -5.554688 3.78125 -5.558594 C 3.382813 -5.554688 3.027344 -5.464844 2.707031 -5.285156 C 2.386719 -5.105469 2.132813 -4.871094 1.953125 -4.585938 L 0.800781 -4.738281 L 1.769531 -9.882813 L 6.753906 -9.882813 L 6.753906 -8.710938 L 2.753906 -8.710938 L 2.214844 -6.015625 C 2.816406 -6.433594 3.445313 -6.644531 4.109375 -6.644531 C 4.980469 -6.644531 5.71875 -6.339844 6.324219 -5.734375 C 6.921875 -5.128906 7.222656 -4.351563 7.226563 -3.398438 C 7.222656 -2.492188 6.960938 -1.707031 6.433594 -1.046875 C 5.789063 -0.234375 4.910156 0.167969 3.800781 0.171875 C 2.886719 0.167969 2.140625 -0.0820313 1.566406 -0.59375 C 0.988281 -1.101563 0.660156 -1.78125 0.582031 -2.625 Z M 0.582031 -2.625 \"/>\n",
              "</symbol>\n",
              "<symbol overflow=\"visible\" id=\"glyph0-7\">\n",
              "<path style=\"stroke:none;\" d=\"M 6.964844 -7.566406 L 5.742188 -7.472656 C 5.632813 -7.949219 5.476563 -8.300781 5.277344 -8.523438 C 4.941406 -8.871094 4.53125 -9.046875 4.046875 -9.050781 C 3.652344 -9.046875 3.308594 -8.9375 3.015625 -8.722656 C 2.625 -8.4375 2.320313 -8.023438 2.097656 -7.484375 C 1.875 -6.9375 1.757813 -6.167969 1.75 -5.167969 C 2.042969 -5.617188 2.40625 -5.949219 2.835938 -6.171875 C 3.265625 -6.386719 3.714844 -6.496094 4.183594 -6.5 C 5.003906 -6.496094 5.699219 -6.195313 6.277344 -5.59375 C 6.851563 -4.988281 7.140625 -4.207031 7.144531 -3.253906 C 7.140625 -2.621094 7.003906 -2.039063 6.734375 -1.5 C 6.460938 -0.960938 6.089844 -0.546875 5.617188 -0.257813 C 5.140625 0.0273438 4.605469 0.167969 4.007813 0.171875 C 2.980469 0.167969 2.140625 -0.207031 1.496094 -0.960938 C 0.847656 -1.714844 0.527344 -2.957031 0.527344 -4.6875 C 0.527344 -6.625 0.882813 -8.03125 1.601563 -8.914063 C 2.21875 -9.675781 3.058594 -10.058594 4.121094 -10.0625 C 4.90625 -10.058594 5.554688 -9.839844 6.058594 -9.398438 C 6.5625 -8.953125 6.863281 -8.339844 6.964844 -7.566406 Z M 1.941406 -3.246094 C 1.9375 -2.820313 2.027344 -2.414063 2.210938 -2.027344 C 2.386719 -1.640625 2.640625 -1.34375 2.964844 -1.144531 C 3.289063 -0.9375 3.628906 -0.835938 3.984375 -0.839844 C 4.503906 -0.835938 4.949219 -1.046875 5.324219 -1.46875 C 5.695313 -1.886719 5.882813 -2.457031 5.886719 -3.179688 C 5.882813 -3.871094 5.699219 -4.417969 5.332031 -4.816406 C 4.960938 -5.214844 4.496094 -5.414063 3.9375 -5.414063 C 3.378906 -5.414063 2.90625 -5.214844 2.519531 -4.816406 C 2.132813 -4.417969 1.9375 -3.894531 1.941406 -3.246094 Z M 1.941406 -3.246094 \"/>\n",
              "</symbol>\n",
              "<symbol overflow=\"visible\" id=\"glyph0-8\">\n",
              "<path style=\"stroke:none;\" d=\"M 0.664063 -8.710938 L 0.664063 -9.890625 L 7.148438 -9.890625 L 7.148438 -8.933594 C 6.511719 -8.25 5.878906 -7.347656 5.253906 -6.226563 C 4.625 -5.097656 4.140625 -3.941406 3.800781 -2.753906 C 3.550781 -1.914063 3.394531 -0.996094 3.328125 0 L 2.0625 0 C 2.078125 -0.789063 2.230469 -1.738281 2.527344 -2.855469 C 2.820313 -3.96875 3.246094 -5.046875 3.800781 -6.085938 C 4.351563 -7.121094 4.941406 -7.996094 5.570313 -8.710938 Z M 0.664063 -8.710938 \"/>\n",
              "</symbol>\n",
              "<symbol overflow=\"visible\" id=\"glyph0-9\">\n",
              "<path style=\"stroke:none;\" d=\"M 2.476563 -5.433594 C 1.964844 -5.617188 1.585938 -5.886719 1.339844 -6.234375 C 1.089844 -6.578125 0.964844 -6.992188 0.96875 -7.476563 C 0.964844 -8.203125 1.226563 -8.816406 1.753906 -9.316406 C 2.277344 -9.8125 2.976563 -10.058594 3.847656 -10.0625 C 4.71875 -10.058594 5.421875 -9.804688 5.960938 -9.300781 C 6.492188 -8.789063 6.761719 -8.171875 6.761719 -7.445313 C 6.761719 -6.976563 6.636719 -6.570313 6.394531 -6.230469 C 6.148438 -5.882813 5.78125 -5.617188 5.285156 -5.433594 C 5.898438 -5.230469 6.363281 -4.90625 6.6875 -4.460938 C 7.007813 -4.011719 7.171875 -3.480469 7.171875 -2.863281 C 7.171875 -2.003906 6.867188 -1.285156 6.261719 -0.703125 C 5.652344 -0.121094 4.855469 0.167969 3.867188 0.171875 C 2.878906 0.167969 2.082031 -0.121094 1.476563 -0.707031 C 0.867188 -1.289063 0.5625 -2.019531 0.566406 -2.898438 C 0.5625 -3.546875 0.726563 -4.09375 1.0625 -4.535156 C 1.390625 -4.972656 1.863281 -5.269531 2.476563 -5.433594 Z M 2.226563 -7.519531 C 2.226563 -7.042969 2.378906 -6.65625 2.683594 -6.355469 C 2.988281 -6.054688 3.382813 -5.90625 3.875 -5.90625 C 4.34375 -5.90625 4.734375 -6.054688 5.039063 -6.351563 C 5.34375 -6.648438 5.496094 -7.015625 5.496094 -7.453125 C 5.496094 -7.902344 5.339844 -8.28125 5.027344 -8.589844 C 4.714844 -8.894531 4.324219 -9.046875 3.863281 -9.050781 C 3.386719 -9.046875 2.996094 -8.894531 2.691406 -8.597656 C 2.378906 -8.292969 2.226563 -7.933594 2.226563 -7.519531 Z M 1.832031 -2.890625 C 1.828125 -2.539063 1.910156 -2.203125 2.082031 -1.875 C 2.246094 -1.546875 2.496094 -1.289063 2.824219 -1.109375 C 3.152344 -0.925781 3.503906 -0.835938 3.882813 -0.839844 C 4.46875 -0.835938 4.953125 -1.027344 5.339844 -1.40625 C 5.71875 -1.785156 5.910156 -2.265625 5.914063 -2.851563 C 5.910156 -3.441406 5.714844 -3.929688 5.320313 -4.320313 C 4.925781 -4.703125 4.433594 -4.898438 3.84375 -4.902344 C 3.261719 -4.898438 2.78125 -4.707031 2.402344 -4.328125 C 2.019531 -3.941406 1.828125 -3.460938 1.832031 -2.890625 Z M 1.832031 -2.890625 \"/>\n",
              "</symbol>\n",
              "<symbol overflow=\"visible\" id=\"glyph0-10\">\n",
              "<path style=\"stroke:none;\" d=\"M 0.765625 -2.316406 L 1.949219 -2.425781 C 2.046875 -1.871094 2.238281 -1.464844 2.519531 -1.214844 C 2.800781 -0.960938 3.164063 -0.835938 3.609375 -0.839844 C 3.984375 -0.835938 4.3125 -0.921875 4.601563 -1.097656 C 4.882813 -1.269531 5.117188 -1.503906 5.304688 -1.792969 C 5.484375 -2.082031 5.636719 -2.472656 5.761719 -2.964844 C 5.878906 -3.457031 5.941406 -3.957031 5.945313 -4.46875 C 5.941406 -4.523438 5.941406 -4.605469 5.941406 -4.71875 C 5.691406 -4.320313 5.351563 -4.003906 4.929688 -3.761719 C 4.5 -3.519531 4.039063 -3.398438 3.546875 -3.398438 C 2.714844 -3.398438 2.015625 -3.699219 1.441406 -4.300781 C 0.867188 -4.902344 0.578125 -5.695313 0.582031 -6.679688 C 0.578125 -7.695313 0.878906 -8.511719 1.480469 -9.132813 C 2.078125 -9.75 2.828125 -10.058594 3.734375 -10.0625 C 4.382813 -10.058594 4.980469 -9.882813 5.519531 -9.535156 C 6.058594 -9.179688 6.46875 -8.679688 6.75 -8.035156 C 7.03125 -7.382813 7.171875 -6.445313 7.171875 -5.214844 C 7.171875 -3.933594 7.03125 -2.914063 6.753906 -2.15625 C 6.472656 -1.398438 6.058594 -0.820313 5.511719 -0.421875 C 4.960938 -0.0273438 4.316406 0.167969 3.582031 0.171875 C 2.792969 0.167969 2.152344 -0.046875 1.660156 -0.480469 C 1.160156 -0.914063 0.863281 -1.523438 0.765625 -2.316406 Z M 5.804688 -6.742188 C 5.800781 -7.445313 5.613281 -8.003906 5.238281 -8.421875 C 4.863281 -8.832031 4.410156 -9.039063 3.882813 -9.042969 C 3.332031 -9.039063 2.855469 -8.816406 2.453125 -8.371094 C 2.042969 -7.921875 1.839844 -7.34375 1.84375 -6.636719 C 1.839844 -5.996094 2.03125 -5.476563 2.421875 -5.082031 C 2.804688 -4.679688 3.28125 -4.480469 3.847656 -4.484375 C 4.414063 -4.480469 4.882813 -4.679688 5.253906 -5.082031 C 5.617188 -5.476563 5.800781 -6.03125 5.804688 -6.742188 Z M 5.804688 -6.742188 \"/>\n",
              "</symbol>\n",
              "</g>\n",
              "</defs>\n",
              "<g id=\"surface8\">\n",
              "<rect x=\"0\" y=\"0\" width=\"600\" height=\"600\" style=\"fill:rgb(100%,100%,100%);fill-opacity:1;stroke:none;\"/>\n",
              "<path style=\"fill:none;stroke-width:1;stroke-linecap:butt;stroke-linejoin:miter;stroke:rgb(26.666667%,26.666667%,26.666667%);stroke-opacity:1;stroke-miterlimit:10;\" d=\"M 412.566406 345.746094 L 441.871094 264.101563 \"/>\n",
              "<path style=\"fill:none;stroke-width:1;stroke-linecap:butt;stroke-linejoin:miter;stroke:rgb(26.666667%,26.666667%,26.666667%);stroke-opacity:1;stroke-miterlimit:10;\" d=\"M 412.566406 345.746094 L 328.289063 230.195313 \"/>\n",
              "<path style=\"fill:none;stroke-width:1;stroke-linecap:butt;stroke-linejoin:miter;stroke:rgb(26.666667%,26.666667%,26.666667%);stroke-opacity:1;stroke-miterlimit:10;\" d=\"M 412.566406 345.746094 L 353.148438 346.15625 \"/>\n",
              "<path style=\"fill:none;stroke-width:1;stroke-linecap:butt;stroke-linejoin:miter;stroke:rgb(26.666667%,26.666667%,26.666667%);stroke-opacity:1;stroke-miterlimit:10;\" d=\"M 412.566406 345.746094 L 500.078125 422.984375 \"/>\n",
              "<path style=\"fill:none;stroke-width:1;stroke-linecap:butt;stroke-linejoin:miter;stroke:rgb(26.666667%,26.666667%,26.666667%);stroke-opacity:1;stroke-miterlimit:10;\" d=\"M 412.566406 345.746094 L 500.808594 461.328125 \"/>\n",
              "<path style=\"fill:none;stroke-width:1;stroke-linecap:butt;stroke-linejoin:miter;stroke:rgb(26.666667%,26.666667%,26.666667%);stroke-opacity:1;stroke-miterlimit:10;\" d=\"M 412.566406 345.746094 L 420.195313 483.96875 \"/>\n",
              "<path style=\"fill:none;stroke-width:1;stroke-linecap:butt;stroke-linejoin:miter;stroke:rgb(26.666667%,26.666667%,26.666667%);stroke-opacity:1;stroke-miterlimit:10;\" d=\"M 412.566406 345.746094 L 491.636719 250.328125 \"/>\n",
              "<path style=\"fill:none;stroke-width:1;stroke-linecap:butt;stroke-linejoin:miter;stroke:rgb(26.666667%,26.666667%,26.666667%);stroke-opacity:1;stroke-miterlimit:10;\" d=\"M 412.566406 345.746094 L 379.511719 195.996094 \"/>\n",
              "<path style=\"fill:none;stroke-width:1;stroke-linecap:butt;stroke-linejoin:miter;stroke:rgb(26.666667%,26.666667%,26.666667%);stroke-opacity:1;stroke-miterlimit:10;\" d=\"M 412.566406 345.746094 L 571.179688 389.085938 \"/>\n",
              "<path style=\"fill:none;stroke-width:1;stroke-linecap:butt;stroke-linejoin:miter;stroke:rgb(26.666667%,26.666667%,26.666667%);stroke-opacity:1;stroke-miterlimit:10;\" d=\"M 412.566406 345.746094 L 291.726563 469.015625 \"/>\n",
              "<path style=\"fill:none;stroke-width:1;stroke-linecap:butt;stroke-linejoin:miter;stroke:rgb(26.666667%,26.666667%,26.666667%);stroke-opacity:1;stroke-miterlimit:10;\" d=\"M 412.566406 345.746094 L 346.210938 455.828125 \"/>\n",
              "<path style=\"fill:none;stroke-width:1;stroke-linecap:butt;stroke-linejoin:miter;stroke:rgb(26.666667%,26.666667%,26.666667%);stroke-opacity:1;stroke-miterlimit:10;\" d=\"M 412.566406 345.746094 L 329.082031 268.742188 \"/>\n",
              "<path style=\"fill:none;stroke-width:1;stroke-linecap:butt;stroke-linejoin:miter;stroke:rgb(26.666667%,26.666667%,26.666667%);stroke-opacity:1;stroke-miterlimit:10;\" d=\"M 412.566406 345.746094 L 580 272.417969 \"/>\n",
              "<path style=\"fill:none;stroke-width:1;stroke-linecap:butt;stroke-linejoin:miter;stroke:rgb(26.666667%,26.666667%,26.666667%);stroke-opacity:1;stroke-miterlimit:10;\" d=\"M 412.566406 345.746094 L 290.757813 280.449219 \"/>\n",
              "<path style=\"fill:none;stroke-width:1;stroke-linecap:butt;stroke-linejoin:miter;stroke:rgb(26.666667%,26.666667%,26.666667%);stroke-opacity:1;stroke-miterlimit:10;\" d=\"M 412.566406 345.746094 L 570.246094 320.261719 \"/>\n",
              "<path style=\"fill:none;stroke-width:1;stroke-linecap:butt;stroke-linejoin:miter;stroke:rgb(26.666667%,26.666667%,26.666667%);stroke-opacity:1;stroke-miterlimit:10;\" d=\"M 412.566406 345.746094 L 221.195313 297.214844 \"/>\n",
              "<path style=\"fill:none;stroke-width:1;stroke-linecap:butt;stroke-linejoin:miter;stroke:rgb(26.666667%,26.666667%,26.666667%);stroke-opacity:1;stroke-miterlimit:10;\" d=\"M 441.871094 264.101563 L 328.289063 230.195313 \"/>\n",
              "<path style=\"fill:none;stroke-width:1;stroke-linecap:butt;stroke-linejoin:miter;stroke:rgb(26.666667%,26.666667%,26.666667%);stroke-opacity:1;stroke-miterlimit:10;\" d=\"M 441.871094 264.101563 L 353.148438 346.15625 \"/>\n",
              "<path style=\"fill:none;stroke-width:1;stroke-linecap:butt;stroke-linejoin:miter;stroke:rgb(26.666667%,26.666667%,26.666667%);stroke-opacity:1;stroke-miterlimit:10;\" d=\"M 441.871094 264.101563 L 491.636719 250.328125 \"/>\n",
              "<path style=\"fill:none;stroke-width:1;stroke-linecap:butt;stroke-linejoin:miter;stroke:rgb(26.666667%,26.666667%,26.666667%);stroke-opacity:1;stroke-miterlimit:10;\" d=\"M 441.871094 264.101563 L 329.082031 268.742188 \"/>\n",
              "<path style=\"fill:none;stroke-width:1;stroke-linecap:butt;stroke-linejoin:miter;stroke:rgb(26.666667%,26.666667%,26.666667%);stroke-opacity:1;stroke-miterlimit:10;\" d=\"M 441.871094 264.101563 L 580 272.417969 \"/>\n",
              "<path style=\"fill:none;stroke-width:1;stroke-linecap:butt;stroke-linejoin:miter;stroke:rgb(26.666667%,26.666667%,26.666667%);stroke-opacity:1;stroke-miterlimit:10;\" d=\"M 441.871094 264.101563 L 290.757813 280.449219 \"/>\n",
              "<path style=\"fill:none;stroke-width:1;stroke-linecap:butt;stroke-linejoin:miter;stroke:rgb(26.666667%,26.666667%,26.666667%);stroke-opacity:1;stroke-miterlimit:10;\" d=\"M 441.871094 264.101563 L 570.246094 320.261719 \"/>\n",
              "<path style=\"fill:none;stroke-width:1;stroke-linecap:butt;stroke-linejoin:miter;stroke:rgb(26.666667%,26.666667%,26.666667%);stroke-opacity:1;stroke-miterlimit:10;\" d=\"M 441.871094 264.101563 L 398.847656 128.175781 \"/>\n",
              "<path style=\"fill:none;stroke-width:1;stroke-linecap:butt;stroke-linejoin:miter;stroke:rgb(26.666667%,26.666667%,26.666667%);stroke-opacity:1;stroke-miterlimit:10;\" d=\"M 328.289063 230.195313 L 353.148438 346.15625 \"/>\n",
              "<path style=\"fill:none;stroke-width:1;stroke-linecap:butt;stroke-linejoin:miter;stroke:rgb(26.666667%,26.666667%,26.666667%);stroke-opacity:1;stroke-miterlimit:10;\" d=\"M 328.289063 230.195313 L 491.636719 250.328125 \"/>\n",
              "<path style=\"fill:none;stroke-width:1;stroke-linecap:butt;stroke-linejoin:miter;stroke:rgb(26.666667%,26.666667%,26.666667%);stroke-opacity:1;stroke-miterlimit:10;\" d=\"M 328.289063 230.195313 L 147.796875 266.152344 \"/>\n",
              "<path style=\"fill:none;stroke-width:1;stroke-linecap:butt;stroke-linejoin:miter;stroke:rgb(26.666667%,26.666667%,26.666667%);stroke-opacity:1;stroke-miterlimit:10;\" d=\"M 328.289063 230.195313 L 176.390625 225.984375 \"/>\n",
              "<path style=\"fill:none;stroke-width:1;stroke-linecap:butt;stroke-linejoin:miter;stroke:rgb(26.666667%,26.666667%,26.666667%);stroke-opacity:1;stroke-miterlimit:10;\" d=\"M 328.289063 230.195313 L 245.046875 130.148438 \"/>\n",
              "<path style=\"fill:none;stroke-width:1;stroke-linecap:butt;stroke-linejoin:miter;stroke:rgb(26.666667%,26.666667%,26.666667%);stroke-opacity:1;stroke-miterlimit:10;\" d=\"M 328.289063 230.195313 L 360.210938 104.738281 \"/>\n",
              "<path style=\"fill:none;stroke-width:1;stroke-linecap:butt;stroke-linejoin:miter;stroke:rgb(26.666667%,26.666667%,26.666667%);stroke-opacity:1;stroke-miterlimit:10;\" d=\"M 328.289063 230.195313 L 379.511719 195.996094 \"/>\n",
              "<path style=\"fill:none;stroke-width:1;stroke-linecap:butt;stroke-linejoin:miter;stroke:rgb(26.666667%,26.666667%,26.666667%);stroke-opacity:1;stroke-miterlimit:10;\" d=\"M 328.289063 230.195313 L 329.082031 268.742188 \"/>\n",
              "<path style=\"fill:none;stroke-width:1;stroke-linecap:butt;stroke-linejoin:miter;stroke:rgb(26.666667%,26.666667%,26.666667%);stroke-opacity:1;stroke-miterlimit:10;\" d=\"M 353.148438 346.15625 L 491.636719 250.328125 \"/>\n",
              "<path style=\"fill:none;stroke-width:1;stroke-linecap:butt;stroke-linejoin:miter;stroke:rgb(26.666667%,26.666667%,26.666667%);stroke-opacity:1;stroke-miterlimit:10;\" d=\"M 353.148438 346.15625 L 346.210938 455.828125 \"/>\n",
              "<path style=\"fill:none;stroke-width:1;stroke-linecap:butt;stroke-linejoin:miter;stroke:rgb(26.666667%,26.666667%,26.666667%);stroke-opacity:1;stroke-miterlimit:10;\" d=\"M 353.148438 346.15625 L 329.082031 268.742188 \"/>\n",
              "<path style=\"fill:none;stroke-width:1;stroke-linecap:butt;stroke-linejoin:miter;stroke:rgb(26.666667%,26.666667%,26.666667%);stroke-opacity:1;stroke-miterlimit:10;\" d=\"M 500.078125 422.984375 L 420.195313 483.96875 \"/>\n",
              "<path style=\"fill:none;stroke-width:1;stroke-linecap:butt;stroke-linejoin:miter;stroke:rgb(26.666667%,26.666667%,26.666667%);stroke-opacity:1;stroke-miterlimit:10;\" d=\"M 500.078125 422.984375 L 571.179688 389.085938 \"/>\n",
              "<path style=\"fill:none;stroke-width:1;stroke-linecap:butt;stroke-linejoin:miter;stroke:rgb(26.666667%,26.666667%,26.666667%);stroke-opacity:1;stroke-miterlimit:10;\" d=\"M 500.808594 461.328125 L 420.195313 483.96875 \"/>\n",
              "<path style=\"fill:none;stroke-width:1;stroke-linecap:butt;stroke-linejoin:miter;stroke:rgb(26.666667%,26.666667%,26.666667%);stroke-opacity:1;stroke-miterlimit:10;\" d=\"M 500.808594 461.328125 L 571.179688 389.085938 \"/>\n",
              "<path style=\"fill:none;stroke-width:1;stroke-linecap:butt;stroke-linejoin:miter;stroke:rgb(26.666667%,26.666667%,26.666667%);stroke-opacity:1;stroke-miterlimit:10;\" d=\"M 500.808594 461.328125 L 517.851563 580 \"/>\n",
              "<path style=\"fill:none;stroke-width:1;stroke-linecap:butt;stroke-linejoin:miter;stroke:rgb(26.666667%,26.666667%,26.666667%);stroke-opacity:1;stroke-miterlimit:10;\" d=\"M 420.195313 483.96875 L 517.851563 580 \"/>\n",
              "<path style=\"fill:none;stroke-width:1;stroke-linecap:butt;stroke-linejoin:miter;stroke:rgb(26.666667%,26.666667%,26.666667%);stroke-opacity:1;stroke-miterlimit:10;\" d=\"M 379.511719 195.996094 L 398.847656 128.175781 \"/>\n",
              "<path style=\"fill:none;stroke-width:1;stroke-linecap:butt;stroke-linejoin:miter;stroke:rgb(26.666667%,26.666667%,26.666667%);stroke-opacity:1;stroke-miterlimit:10;\" d=\"M 379.511719 195.996094 L 245.046875 130.148438 \"/>\n",
              "<path style=\"fill:none;stroke-width:1;stroke-linecap:butt;stroke-linejoin:miter;stroke:rgb(26.666667%,26.666667%,26.666667%);stroke-opacity:1;stroke-miterlimit:10;\" d=\"M 379.511719 195.996094 L 217.070313 156.179688 \"/>\n",
              "<path style=\"fill:none;stroke-width:1;stroke-linecap:butt;stroke-linejoin:miter;stroke:rgb(26.666667%,26.666667%,26.666667%);stroke-opacity:1;stroke-miterlimit:10;\" d=\"M 360.210938 104.738281 L 217.070313 156.179688 \"/>\n",
              "<path style=\"fill:none;stroke-width:1;stroke-linecap:butt;stroke-linejoin:miter;stroke:rgb(26.666667%,26.666667%,26.666667%);stroke-opacity:1;stroke-miterlimit:10;\" d=\"M 329.082031 268.742188 L 217.070313 156.179688 \"/>\n",
              "<path style=\"fill:none;stroke-width:1;stroke-linecap:butt;stroke-linejoin:miter;stroke:rgb(26.666667%,26.666667%,26.666667%);stroke-opacity:1;stroke-miterlimit:10;\" d=\"M 155.292969 39.445313 L 245.046875 130.148438 \"/>\n",
              "<path style=\"fill:none;stroke-width:1;stroke-linecap:butt;stroke-linejoin:miter;stroke:rgb(26.666667%,26.666667%,26.666667%);stroke-opacity:1;stroke-miterlimit:10;\" d=\"M 155.292969 39.445313 L 217.070313 156.179688 \"/>\n",
              "<path style=\"fill:none;stroke-width:1;stroke-linecap:butt;stroke-linejoin:miter;stroke:rgb(26.666667%,26.666667%,26.666667%);stroke-opacity:1;stroke-miterlimit:10;\" d=\"M 109.480469 68.160156 L 245.046875 130.148438 \"/>\n",
              "<path style=\"fill:none;stroke-width:1;stroke-linecap:butt;stroke-linejoin:miter;stroke:rgb(26.666667%,26.666667%,26.666667%);stroke-opacity:1;stroke-miterlimit:10;\" d=\"M 109.480469 68.160156 L 217.070313 156.179688 \"/>\n",
              "<path style=\"fill:none;stroke-width:1;stroke-linecap:butt;stroke-linejoin:miter;stroke:rgb(26.666667%,26.666667%,26.666667%);stroke-opacity:1;stroke-miterlimit:10;\" d=\"M 209.171875 22.609375 L 245.046875 130.148438 \"/>\n",
              "<path style=\"fill:none;stroke-width:1;stroke-linecap:butt;stroke-linejoin:miter;stroke:rgb(26.666667%,26.666667%,26.666667%);stroke-opacity:1;stroke-miterlimit:10;\" d=\"M 209.171875 22.609375 L 217.070313 156.179688 \"/>\n",
              "<path style=\"fill:none;stroke-width:1;stroke-linecap:butt;stroke-linejoin:miter;stroke:rgb(26.666667%,26.666667%,26.666667%);stroke-opacity:1;stroke-miterlimit:10;\" d=\"M 290.757813 280.449219 L 217.070313 156.179688 \"/>\n",
              "<path style=\"fill:none;stroke-width:1;stroke-linecap:butt;stroke-linejoin:miter;stroke:rgb(26.666667%,26.666667%,26.666667%);stroke-opacity:1;stroke-miterlimit:10;\" d=\"M 322.164063 29.910156 L 245.046875 130.148438 \"/>\n",
              "<path style=\"fill:none;stroke-width:1;stroke-linecap:butt;stroke-linejoin:miter;stroke:rgb(26.666667%,26.666667%,26.666667%);stroke-opacity:1;stroke-miterlimit:10;\" d=\"M 322.164063 29.910156 L 217.070313 156.179688 \"/>\n",
              "<path style=\"fill:none;stroke-width:1;stroke-linecap:butt;stroke-linejoin:miter;stroke:rgb(26.666667%,26.666667%,26.666667%);stroke-opacity:1;stroke-miterlimit:10;\" d=\"M 266.539063 20 L 245.046875 130.148438 \"/>\n",
              "<path style=\"fill:none;stroke-width:1;stroke-linecap:butt;stroke-linejoin:miter;stroke:rgb(26.666667%,26.666667%,26.666667%);stroke-opacity:1;stroke-miterlimit:10;\" d=\"M 266.539063 20 L 217.070313 156.179688 \"/>\n",
              "<path style=\"fill:none;stroke-width:1;stroke-linecap:butt;stroke-linejoin:miter;stroke:rgb(26.666667%,26.666667%,26.666667%);stroke-opacity:1;stroke-miterlimit:10;\" d=\"M 69.667969 200.542969 L 42.46875 327.863281 \"/>\n",
              "<path style=\"fill:none;stroke-width:1;stroke-linecap:butt;stroke-linejoin:miter;stroke:rgb(26.666667%,26.666667%,26.666667%);stroke-opacity:1;stroke-miterlimit:10;\" d=\"M 69.667969 200.542969 L 147.796875 266.152344 \"/>\n",
              "<path style=\"fill:none;stroke-width:1;stroke-linecap:butt;stroke-linejoin:miter;stroke:rgb(26.666667%,26.666667%,26.666667%);stroke-opacity:1;stroke-miterlimit:10;\" d=\"M 69.667969 200.542969 L 245.046875 130.148438 \"/>\n",
              "<path style=\"fill:none;stroke-width:1;stroke-linecap:butt;stroke-linejoin:miter;stroke:rgb(26.666667%,26.666667%,26.666667%);stroke-opacity:1;stroke-miterlimit:10;\" d=\"M 69.667969 200.542969 L 217.070313 156.179688 \"/>\n",
              "<path style=\"fill:none;stroke-width:1;stroke-linecap:butt;stroke-linejoin:miter;stroke:rgb(26.666667%,26.666667%,26.666667%);stroke-opacity:1;stroke-miterlimit:10;\" d=\"M 69.667969 200.542969 L 92.089844 119.917969 \"/>\n",
              "<path style=\"fill:none;stroke-width:1;stroke-linecap:butt;stroke-linejoin:miter;stroke:rgb(26.666667%,26.666667%,26.666667%);stroke-opacity:1;stroke-miterlimit:10;\" d=\"M 103.980469 385.511719 L 42.46875 327.863281 \"/>\n",
              "<path style=\"fill:none;stroke-width:1;stroke-linecap:butt;stroke-linejoin:miter;stroke:rgb(26.666667%,26.666667%,26.666667%);stroke-opacity:1;stroke-miterlimit:10;\" d=\"M 103.980469 385.511719 L 147.796875 266.152344 \"/>\n",
              "<path style=\"fill:none;stroke-width:1;stroke-linecap:butt;stroke-linejoin:miter;stroke:rgb(26.666667%,26.666667%,26.666667%);stroke-opacity:1;stroke-miterlimit:10;\" d=\"M 103.980469 385.511719 L 221.195313 297.214844 \"/>\n",
              "<path style=\"fill:none;stroke-width:1;stroke-linecap:butt;stroke-linejoin:miter;stroke:rgb(26.666667%,26.666667%,26.666667%);stroke-opacity:1;stroke-miterlimit:10;\" d=\"M 42.46875 327.863281 L 221.195313 297.214844 \"/>\n",
              "<path style=\"fill:none;stroke-width:1;stroke-linecap:butt;stroke-linejoin:miter;stroke:rgb(26.666667%,26.666667%,26.666667%);stroke-opacity:1;stroke-miterlimit:10;\" d=\"M 20 136.265625 L 92.089844 119.917969 \"/>\n",
              "<path style=\"fill:none;stroke-width:1;stroke-linecap:butt;stroke-linejoin:miter;stroke:rgb(26.666667%,26.666667%,26.666667%);stroke-opacity:1;stroke-miterlimit:10;\" d=\"M 20 136.265625 L 217.070313 156.179688 \"/>\n",
              "<path style=\"fill:none;stroke-width:1;stroke-linecap:butt;stroke-linejoin:miter;stroke:rgb(26.666667%,26.666667%,26.666667%);stroke-opacity:1;stroke-miterlimit:10;\" d=\"M 147.796875 266.152344 L 217.070313 156.179688 \"/>\n",
              "<path style=\"fill:none;stroke-width:1;stroke-linecap:butt;stroke-linejoin:miter;stroke:rgb(26.666667%,26.666667%,26.666667%);stroke-opacity:1;stroke-miterlimit:10;\" d=\"M 176.390625 225.984375 L 221.195313 297.214844 \"/>\n",
              "<path style=\"fill:none;stroke-width:1;stroke-linecap:butt;stroke-linejoin:miter;stroke:rgb(26.666667%,26.666667%,26.666667%);stroke-opacity:1;stroke-miterlimit:10;\" d=\"M 176.390625 225.984375 L 217.070313 156.179688 \"/>\n",
              "<path style=\"fill:none;stroke-width:1;stroke-linecap:butt;stroke-linejoin:miter;stroke:rgb(26.666667%,26.666667%,26.666667%);stroke-opacity:1;stroke-miterlimit:10;\" d=\"M 92.089844 119.917969 L 245.046875 130.148438 \"/>\n",
              "<path style=\"fill:none;stroke-width:1;stroke-linecap:butt;stroke-linejoin:miter;stroke:rgb(26.666667%,26.666667%,26.666667%);stroke-opacity:1;stroke-miterlimit:10;\" d=\"M 92.089844 119.917969 L 217.070313 156.179688 \"/>\n",
              "<path style=\"fill:none;stroke-width:1;stroke-linecap:butt;stroke-linejoin:miter;stroke:rgb(26.666667%,26.666667%,26.666667%);stroke-opacity:1;stroke-miterlimit:10;\" d=\"M 398.847656 128.175781 L 245.046875 130.148438 \"/>\n",
              "<path style=\"fill:none;stroke-width:1;stroke-linecap:butt;stroke-linejoin:miter;stroke:rgb(26.666667%,26.666667%,26.666667%);stroke-opacity:1;stroke-miterlimit:10;\" d=\"M 398.847656 128.175781 L 217.070313 156.179688 \"/>\n",
              "<path style=\"fill:none;stroke-width:1;stroke-linecap:butt;stroke-linejoin:miter;stroke:rgb(26.666667%,26.666667%,26.666667%);stroke-opacity:1;stroke-miterlimit:10;\" d=\"M 221.195313 297.214844 L 245.046875 130.148438 \"/>\n",
              "<path style=\"fill:none;stroke-width:1;stroke-linecap:butt;stroke-linejoin:miter;stroke:rgb(26.666667%,26.666667%,26.666667%);stroke-opacity:1;stroke-miterlimit:10;\" d=\"M 221.195313 297.214844 L 217.070313 156.179688 \"/>\n",
              "<path style=\"fill:none;stroke-width:1;stroke-linecap:butt;stroke-linejoin:miter;stroke:rgb(26.666667%,26.666667%,26.666667%);stroke-opacity:1;stroke-miterlimit:10;\" d=\"M 245.046875 130.148438 L 217.070313 156.179688 \"/>\n",
              "<path style=\"fill-rule:nonzero;fill:rgb(100%,0%,0%);fill-opacity:1;stroke-width:1;stroke-linecap:butt;stroke-linejoin:miter;stroke:rgb(0%,0%,0%);stroke-opacity:1;stroke-miterlimit:10;\" d=\"M 422.566406 345.746094 C 422.566406 351.269531 418.089844 355.746094 412.566406 355.746094 C 407.042969 355.746094 402.566406 351.269531 402.566406 345.746094 C 402.566406 340.222656 407.042969 335.746094 412.566406 335.746094 C 418.089844 335.746094 422.566406 340.222656 422.566406 345.746094 \"/>\n",
              "<path style=\"fill-rule:nonzero;fill:rgb(100%,0%,0%);fill-opacity:1;stroke-width:1;stroke-linecap:butt;stroke-linejoin:miter;stroke:rgb(0%,0%,0%);stroke-opacity:1;stroke-miterlimit:10;\" d=\"M 451.871094 264.101563 C 451.871094 269.625 447.394531 274.101563 441.871094 274.101563 C 436.347656 274.101563 431.871094 269.625 431.871094 264.101563 C 431.871094 258.578125 436.347656 254.101563 441.871094 254.101563 C 447.394531 254.101563 451.871094 258.578125 451.871094 264.101563 \"/>\n",
              "<path style=\"fill-rule:nonzero;fill:rgb(100%,0%,0%);fill-opacity:1;stroke-width:1;stroke-linecap:butt;stroke-linejoin:miter;stroke:rgb(0%,0%,0%);stroke-opacity:1;stroke-miterlimit:10;\" d=\"M 338.289063 230.195313 C 338.289063 235.714844 333.8125 240.195313 328.289063 240.195313 C 322.765625 240.195313 318.289063 235.714844 318.289063 230.195313 C 318.289063 224.671875 322.765625 220.195313 328.289063 220.195313 C 333.8125 220.195313 338.289063 224.671875 338.289063 230.195313 \"/>\n",
              "<path style=\"fill-rule:nonzero;fill:rgb(100%,0%,0%);fill-opacity:1;stroke-width:1;stroke-linecap:butt;stroke-linejoin:miter;stroke:rgb(0%,0%,0%);stroke-opacity:1;stroke-miterlimit:10;\" d=\"M 363.148438 346.15625 C 363.148438 351.679688 358.671875 356.15625 353.148438 356.15625 C 347.625 356.15625 343.148438 351.679688 343.148438 346.15625 C 343.148438 340.632813 347.625 336.15625 353.148438 336.15625 C 358.671875 336.15625 363.148438 340.632813 363.148438 346.15625 \"/>\n",
              "<path style=\"fill-rule:nonzero;fill:rgb(100%,0%,0%);fill-opacity:1;stroke-width:1;stroke-linecap:butt;stroke-linejoin:miter;stroke:rgb(0%,0%,0%);stroke-opacity:1;stroke-miterlimit:10;\" d=\"M 510.078125 422.984375 C 510.078125 428.507813 505.601563 432.984375 500.078125 432.984375 C 494.554688 432.984375 490.078125 428.507813 490.078125 422.984375 C 490.078125 417.460938 494.554688 412.984375 500.078125 412.984375 C 505.601563 412.984375 510.078125 417.460938 510.078125 422.984375 \"/>\n",
              "<path style=\"fill-rule:nonzero;fill:rgb(100%,0%,0%);fill-opacity:1;stroke-width:1;stroke-linecap:butt;stroke-linejoin:miter;stroke:rgb(0%,0%,0%);stroke-opacity:1;stroke-miterlimit:10;\" d=\"M 510.808594 461.328125 C 510.808594 466.851563 506.328125 471.328125 500.808594 471.328125 C 495.285156 471.328125 490.808594 466.851563 490.808594 461.328125 C 490.808594 455.804688 495.285156 451.328125 500.808594 451.328125 C 506.328125 451.328125 510.808594 455.804688 510.808594 461.328125 \"/>\n",
              "<path style=\"fill-rule:nonzero;fill:rgb(100%,0%,0%);fill-opacity:1;stroke-width:1;stroke-linecap:butt;stroke-linejoin:miter;stroke:rgb(0%,0%,0%);stroke-opacity:1;stroke-miterlimit:10;\" d=\"M 430.195313 483.96875 C 430.195313 489.492188 425.71875 493.96875 420.195313 493.96875 C 414.671875 493.96875 410.195313 489.492188 410.195313 483.96875 C 410.195313 478.445313 414.671875 473.96875 420.195313 473.96875 C 425.71875 473.96875 430.195313 478.445313 430.195313 483.96875 \"/>\n",
              "<path style=\"fill-rule:nonzero;fill:rgb(100%,0%,0%);fill-opacity:1;stroke-width:1;stroke-linecap:butt;stroke-linejoin:miter;stroke:rgb(0%,0%,0%);stroke-opacity:1;stroke-miterlimit:10;\" d=\"M 501.636719 250.328125 C 501.636719 255.851563 497.15625 260.328125 491.636719 260.328125 C 486.113281 260.328125 481.636719 255.851563 481.636719 250.328125 C 481.636719 244.804688 486.113281 240.328125 491.636719 240.328125 C 497.15625 240.328125 501.636719 244.804688 501.636719 250.328125 \"/>\n",
              "<path style=\"fill-rule:nonzero;fill:rgb(100%,0%,0%);fill-opacity:1;stroke-width:1;stroke-linecap:butt;stroke-linejoin:miter;stroke:rgb(0%,0%,0%);stroke-opacity:1;stroke-miterlimit:10;\" d=\"M 389.511719 195.996094 C 389.511719 201.515625 385.035156 205.996094 379.511719 205.996094 C 373.988281 205.996094 369.511719 201.515625 369.511719 195.996094 C 369.511719 190.472656 373.988281 185.996094 379.511719 185.996094 C 385.035156 185.996094 389.511719 190.472656 389.511719 195.996094 \"/>\n",
              "<path style=\"fill-rule:nonzero;fill:rgb(100%,0%,0%);fill-opacity:1;stroke-width:1;stroke-linecap:butt;stroke-linejoin:miter;stroke:rgb(0%,0%,0%);stroke-opacity:1;stroke-miterlimit:10;\" d=\"M 370.210938 104.738281 C 370.210938 110.261719 365.734375 114.738281 360.210938 114.738281 C 354.691406 114.738281 350.210938 110.261719 350.210938 104.738281 C 350.210938 99.21875 354.691406 94.738281 360.210938 94.738281 C 365.734375 94.738281 370.210938 99.21875 370.210938 104.738281 \"/>\n",
              "<path style=\"fill-rule:nonzero;fill:rgb(100%,0%,0%);fill-opacity:1;stroke-width:1;stroke-linecap:butt;stroke-linejoin:miter;stroke:rgb(0%,0%,0%);stroke-opacity:1;stroke-miterlimit:10;\" d=\"M 581.179688 389.085938 C 581.179688 394.609375 576.699219 399.085938 571.179688 399.085938 C 565.65625 399.085938 561.179688 394.609375 561.179688 389.085938 C 561.179688 383.5625 565.65625 379.085938 571.179688 379.085938 C 576.699219 379.085938 581.179688 383.5625 581.179688 389.085938 \"/>\n",
              "<path style=\"fill-rule:nonzero;fill:rgb(100%,0%,0%);fill-opacity:1;stroke-width:1;stroke-linecap:butt;stroke-linejoin:miter;stroke:rgb(0%,0%,0%);stroke-opacity:1;stroke-miterlimit:10;\" d=\"M 301.726563 469.015625 C 301.726563 474.539063 297.25 479.015625 291.726563 479.015625 C 286.203125 479.015625 281.726563 474.539063 281.726563 469.015625 C 281.726563 463.496094 286.203125 459.015625 291.726563 459.015625 C 297.25 459.015625 301.726563 463.496094 301.726563 469.015625 \"/>\n",
              "<path style=\"fill-rule:nonzero;fill:rgb(100%,0%,0%);fill-opacity:1;stroke-width:1;stroke-linecap:butt;stroke-linejoin:miter;stroke:rgb(0%,0%,0%);stroke-opacity:1;stroke-miterlimit:10;\" d=\"M 356.210938 455.828125 C 356.210938 461.351563 351.734375 465.828125 346.210938 465.828125 C 340.691406 465.828125 336.210938 461.351563 336.210938 455.828125 C 336.210938 450.304688 340.691406 445.828125 346.210938 445.828125 C 351.734375 445.828125 356.210938 450.304688 356.210938 455.828125 \"/>\n",
              "<path style=\"fill-rule:nonzero;fill:rgb(100%,0%,0%);fill-opacity:1;stroke-width:1;stroke-linecap:butt;stroke-linejoin:miter;stroke:rgb(0%,0%,0%);stroke-opacity:1;stroke-miterlimit:10;\" d=\"M 339.082031 268.742188 C 339.082031 274.265625 334.605469 278.742188 329.082031 278.742188 C 323.558594 278.742188 319.082031 274.265625 319.082031 268.742188 C 319.082031 263.222656 323.558594 258.742188 329.082031 258.742188 C 334.605469 258.742188 339.082031 263.222656 339.082031 268.742188 \"/>\n",
              "<path style=\"fill-rule:nonzero;fill:rgb(100%,0%,0%);fill-opacity:1;stroke-width:1;stroke-linecap:butt;stroke-linejoin:miter;stroke:rgb(0%,0%,0%);stroke-opacity:1;stroke-miterlimit:10;\" d=\"M 165.292969 39.445313 C 165.292969 44.96875 160.816406 49.445313 155.292969 49.445313 C 149.769531 49.445313 145.292969 44.96875 145.292969 39.445313 C 145.292969 33.921875 149.769531 29.445313 155.292969 29.445313 C 160.816406 29.445313 165.292969 33.921875 165.292969 39.445313 \"/>\n",
              "<path style=\"fill-rule:nonzero;fill:rgb(100%,0%,0%);fill-opacity:1;stroke-width:1;stroke-linecap:butt;stroke-linejoin:miter;stroke:rgb(0%,0%,0%);stroke-opacity:1;stroke-miterlimit:10;\" d=\"M 119.480469 68.160156 C 119.480469 73.683594 115.003906 78.160156 109.480469 78.160156 C 103.957031 78.160156 99.480469 73.683594 99.480469 68.160156 C 99.480469 62.640625 103.957031 58.160156 109.480469 58.160156 C 115.003906 58.160156 119.480469 62.640625 119.480469 68.160156 \"/>\n",
              "<path style=\"fill-rule:nonzero;fill:rgb(100%,0%,0%);fill-opacity:1;stroke-width:1;stroke-linecap:butt;stroke-linejoin:miter;stroke:rgb(0%,0%,0%);stroke-opacity:1;stroke-miterlimit:10;\" d=\"M 527.851563 580 C 527.851563 585.523438 523.375 590 517.851563 590 C 512.332031 590 507.851563 585.523438 507.851563 580 C 507.851563 574.476563 512.332031 570 517.851563 570 C 523.375 570 527.851563 574.476563 527.851563 580 \"/>\n",
              "<path style=\"fill-rule:nonzero;fill:rgb(100%,0%,0%);fill-opacity:1;stroke-width:1;stroke-linecap:butt;stroke-linejoin:miter;stroke:rgb(0%,0%,0%);stroke-opacity:1;stroke-miterlimit:10;\" d=\"M 590 272.417969 C 590 277.941406 585.523438 282.417969 580 282.417969 C 574.476563 282.417969 570 277.941406 570 272.417969 C 570 266.894531 574.476563 262.417969 580 262.417969 C 585.523438 262.417969 590 266.894531 590 272.417969 \"/>\n",
              "<path style=\"fill-rule:nonzero;fill:rgb(100%,0%,0%);fill-opacity:1;stroke-width:1;stroke-linecap:butt;stroke-linejoin:miter;stroke:rgb(0%,0%,0%);stroke-opacity:1;stroke-miterlimit:10;\" d=\"M 219.171875 22.609375 C 219.171875 28.132813 214.695313 32.609375 209.171875 32.609375 C 203.648438 32.609375 199.171875 28.132813 199.171875 22.609375 C 199.171875 17.085938 203.648438 12.609375 209.171875 12.609375 C 214.695313 12.609375 219.171875 17.085938 219.171875 22.609375 \"/>\n",
              "<path style=\"fill-rule:nonzero;fill:rgb(100%,0%,0%);fill-opacity:1;stroke-width:1;stroke-linecap:butt;stroke-linejoin:miter;stroke:rgb(0%,0%,0%);stroke-opacity:1;stroke-miterlimit:10;\" d=\"M 300.757813 280.449219 C 300.757813 285.972656 296.277344 290.449219 290.757813 290.449219 C 285.234375 290.449219 280.757813 285.972656 280.757813 280.449219 C 280.757813 274.925781 285.234375 270.449219 290.757813 270.449219 C 296.277344 270.449219 300.757813 274.925781 300.757813 280.449219 \"/>\n",
              "<path style=\"fill-rule:nonzero;fill:rgb(100%,0%,0%);fill-opacity:1;stroke-width:1;stroke-linecap:butt;stroke-linejoin:miter;stroke:rgb(0%,0%,0%);stroke-opacity:1;stroke-miterlimit:10;\" d=\"M 332.164063 29.910156 C 332.164063 35.433594 327.6875 39.910156 322.164063 39.910156 C 316.640625 39.910156 312.164063 35.433594 312.164063 29.910156 C 312.164063 24.386719 316.640625 19.910156 322.164063 19.910156 C 327.6875 19.910156 332.164063 24.386719 332.164063 29.910156 \"/>\n",
              "<path style=\"fill-rule:nonzero;fill:rgb(100%,0%,0%);fill-opacity:1;stroke-width:1;stroke-linecap:butt;stroke-linejoin:miter;stroke:rgb(0%,0%,0%);stroke-opacity:1;stroke-miterlimit:10;\" d=\"M 580.246094 320.261719 C 580.246094 325.785156 575.769531 330.261719 570.246094 330.261719 C 564.722656 330.261719 560.246094 325.785156 560.246094 320.261719 C 560.246094 314.738281 564.722656 310.261719 570.246094 310.261719 C 575.769531 310.261719 580.246094 314.738281 580.246094 320.261719 \"/>\n",
              "<path style=\"fill-rule:nonzero;fill:rgb(100%,0%,0%);fill-opacity:1;stroke-width:1;stroke-linecap:butt;stroke-linejoin:miter;stroke:rgb(0%,0%,0%);stroke-opacity:1;stroke-miterlimit:10;\" d=\"M 276.539063 20 C 276.539063 25.523438 272.0625 30 266.539063 30 C 261.015625 30 256.539063 25.523438 256.539063 20 C 256.539063 14.476563 261.015625 10 266.539063 10 C 272.0625 10 276.539063 14.476563 276.539063 20 \"/>\n",
              "<path style=\"fill-rule:nonzero;fill:rgb(100%,0%,0%);fill-opacity:1;stroke-width:1;stroke-linecap:butt;stroke-linejoin:miter;stroke:rgb(0%,0%,0%);stroke-opacity:1;stroke-miterlimit:10;\" d=\"M 79.667969 200.542969 C 79.667969 206.066406 75.191406 210.542969 69.667969 210.542969 C 64.144531 210.542969 59.667969 206.066406 59.667969 200.542969 C 59.667969 195.019531 64.144531 190.542969 69.667969 190.542969 C 75.191406 190.542969 79.667969 195.019531 79.667969 200.542969 \"/>\n",
              "<path style=\"fill-rule:nonzero;fill:rgb(100%,0%,0%);fill-opacity:1;stroke-width:1;stroke-linecap:butt;stroke-linejoin:miter;stroke:rgb(0%,0%,0%);stroke-opacity:1;stroke-miterlimit:10;\" d=\"M 113.980469 385.511719 C 113.980469 391.035156 109.503906 395.511719 103.980469 395.511719 C 98.457031 395.511719 93.980469 391.035156 93.980469 385.511719 C 93.980469 379.988281 98.457031 375.511719 103.980469 375.511719 C 109.503906 375.511719 113.980469 379.988281 113.980469 385.511719 \"/>\n",
              "<path style=\"fill-rule:nonzero;fill:rgb(100%,0%,0%);fill-opacity:1;stroke-width:1;stroke-linecap:butt;stroke-linejoin:miter;stroke:rgb(0%,0%,0%);stroke-opacity:1;stroke-miterlimit:10;\" d=\"M 52.46875 327.863281 C 52.46875 333.386719 47.992188 337.863281 42.46875 337.863281 C 36.945313 337.863281 32.46875 333.386719 32.46875 327.863281 C 32.46875 322.339844 36.945313 317.863281 42.46875 317.863281 C 47.992188 317.863281 52.46875 322.339844 52.46875 327.863281 \"/>\n",
              "<path style=\"fill-rule:nonzero;fill:rgb(100%,0%,0%);fill-opacity:1;stroke-width:1;stroke-linecap:butt;stroke-linejoin:miter;stroke:rgb(0%,0%,0%);stroke-opacity:1;stroke-miterlimit:10;\" d=\"M 30 136.265625 C 30 141.785156 25.523438 146.265625 20 146.265625 C 14.476563 146.265625 10 141.785156 10 136.265625 C 10 130.742188 14.476563 126.265625 20 126.265625 C 25.523438 126.265625 30 130.742188 30 136.265625 \"/>\n",
              "<path style=\"fill-rule:nonzero;fill:rgb(100%,0%,0%);fill-opacity:1;stroke-width:1;stroke-linecap:butt;stroke-linejoin:miter;stroke:rgb(0%,0%,0%);stroke-opacity:1;stroke-miterlimit:10;\" d=\"M 157.796875 266.152344 C 157.796875 271.671875 153.316406 276.152344 147.796875 276.152344 C 142.273438 276.152344 137.796875 271.671875 137.796875 266.152344 C 137.796875 260.628906 142.273438 256.152344 147.796875 256.152344 C 153.316406 256.152344 157.796875 260.628906 157.796875 266.152344 \"/>\n",
              "<path style=\"fill-rule:nonzero;fill:rgb(100%,0%,0%);fill-opacity:1;stroke-width:1;stroke-linecap:butt;stroke-linejoin:miter;stroke:rgb(0%,0%,0%);stroke-opacity:1;stroke-miterlimit:10;\" d=\"M 186.390625 225.984375 C 186.390625 231.507813 181.914063 235.984375 176.390625 235.984375 C 170.867188 235.984375 166.390625 231.507813 166.390625 225.984375 C 166.390625 220.460938 170.867188 215.984375 176.390625 215.984375 C 181.914063 215.984375 186.390625 220.460938 186.390625 225.984375 \"/>\n",
              "<path style=\"fill-rule:nonzero;fill:rgb(100%,0%,0%);fill-opacity:1;stroke-width:1;stroke-linecap:butt;stroke-linejoin:miter;stroke:rgb(0%,0%,0%);stroke-opacity:1;stroke-miterlimit:10;\" d=\"M 102.089844 119.917969 C 102.089844 125.441406 97.613281 129.917969 92.089844 129.917969 C 86.566406 129.917969 82.089844 125.441406 82.089844 119.917969 C 82.089844 114.394531 86.566406 109.917969 92.089844 109.917969 C 97.613281 109.917969 102.089844 114.394531 102.089844 119.917969 \"/>\n",
              "<path style=\"fill-rule:nonzero;fill:rgb(100%,0%,0%);fill-opacity:1;stroke-width:1;stroke-linecap:butt;stroke-linejoin:miter;stroke:rgb(0%,0%,0%);stroke-opacity:1;stroke-miterlimit:10;\" d=\"M 408.847656 128.175781 C 408.847656 133.699219 404.371094 138.175781 398.847656 138.175781 C 393.324219 138.175781 388.847656 133.699219 388.847656 128.175781 C 388.847656 122.652344 393.324219 118.175781 398.847656 118.175781 C 404.371094 118.175781 408.847656 122.652344 408.847656 128.175781 \"/>\n",
              "<path style=\"fill-rule:nonzero;fill:rgb(100%,0%,0%);fill-opacity:1;stroke-width:1;stroke-linecap:butt;stroke-linejoin:miter;stroke:rgb(0%,0%,0%);stroke-opacity:1;stroke-miterlimit:10;\" d=\"M 231.195313 297.214844 C 231.195313 302.738281 226.71875 307.214844 221.195313 307.214844 C 215.671875 307.214844 211.195313 302.738281 211.195313 297.214844 C 211.195313 291.691406 215.671875 287.214844 221.195313 287.214844 C 226.71875 287.214844 231.195313 291.691406 231.195313 297.214844 \"/>\n",
              "<path style=\"fill-rule:nonzero;fill:rgb(100%,0%,0%);fill-opacity:1;stroke-width:1;stroke-linecap:butt;stroke-linejoin:miter;stroke:rgb(0%,0%,0%);stroke-opacity:1;stroke-miterlimit:10;\" d=\"M 255.046875 130.148438 C 255.046875 135.671875 250.570313 140.148438 245.046875 140.148438 C 239.523438 140.148438 235.046875 135.671875 235.046875 130.148438 C 235.046875 124.628906 239.523438 120.148438 245.046875 120.148438 C 250.570313 120.148438 255.046875 124.628906 255.046875 130.148438 \"/>\n",
              "<path style=\"fill-rule:nonzero;fill:rgb(100%,0%,0%);fill-opacity:1;stroke-width:1;stroke-linecap:butt;stroke-linejoin:miter;stroke:rgb(0%,0%,0%);stroke-opacity:1;stroke-miterlimit:10;\" d=\"M 227.070313 156.179688 C 227.070313 161.703125 222.59375 166.179688 217.070313 166.179688 C 211.546875 166.179688 207.070313 161.703125 207.070313 156.179688 C 207.070313 150.65625 211.546875 146.179688 217.070313 146.179688 C 222.59375 146.179688 227.070313 150.65625 227.070313 156.179688 \"/>\n",
              "<g style=\"fill:rgb(0%,0%,0%);fill-opacity:1;\">\n",
              "  <use xlink:href=\"#glyph0-1\" x=\"408.71875\" y=\"352.277344\"/>\n",
              "</g>\n",
              "<g style=\"fill:rgb(0%,0%,0%);fill-opacity:1;\">\n",
              "  <use xlink:href=\"#glyph0-2\" x=\"438.5\" y=\"270.632813\"/>\n",
              "</g>\n",
              "<g style=\"fill:rgb(0%,0%,0%);fill-opacity:1;\">\n",
              "  <use xlink:href=\"#glyph0-3\" x=\"324.5625\" y=\"236.726563\"/>\n",
              "</g>\n",
              "<g style=\"fill:rgb(0%,0%,0%);fill-opacity:1;\">\n",
              "  <use xlink:href=\"#glyph0-4\" x=\"349.28125\" y=\"352.6875\"/>\n",
              "</g>\n",
              "<g style=\"fill:rgb(0%,0%,0%);fill-opacity:1;\">\n",
              "  <use xlink:href=\"#glyph0-5\" x=\"496.433594\" y=\"429.496094\"/>\n",
              "</g>\n",
              "<g style=\"fill:rgb(0%,0%,0%);fill-opacity:1;\">\n",
              "  <use xlink:href=\"#glyph0-6\" x=\"496.902344\" y=\"467.769531\"/>\n",
              "</g>\n",
              "<g style=\"fill:rgb(0%,0%,0%);fill-opacity:1;\">\n",
              "  <use xlink:href=\"#glyph0-7\" x=\"416.359375\" y=\"490.5\"/>\n",
              "</g>\n",
              "<g style=\"fill:rgb(0%,0%,0%);fill-opacity:1;\">\n",
              "  <use xlink:href=\"#glyph0-8\" x=\"487.730469\" y=\"256.773438\"/>\n",
              "</g>\n",
              "<g style=\"fill:rgb(0%,0%,0%);fill-opacity:1;\">\n",
              "  <use xlink:href=\"#glyph0-9\" x=\"375.640625\" y=\"202.527344\"/>\n",
              "</g>\n",
              "<g style=\"fill:rgb(0%,0%,0%);fill-opacity:1;\">\n",
              "  <use xlink:href=\"#glyph0-10\" x=\"356.335938\" y=\"111.269531\"/>\n",
              "</g>\n",
              "<g style=\"fill:rgb(0%,0%,0%);fill-opacity:1;\">\n",
              "  <use xlink:href=\"#glyph0-2\" x=\"562.964844\" y=\"395.617188\"/>\n",
              "  <use xlink:href=\"#glyph0-1\" x=\"570.750977\" y=\"395.617188\"/>\n",
              "</g>\n",
              "<g style=\"fill:rgb(0%,0%,0%);fill-opacity:1;\">\n",
              "  <use xlink:href=\"#glyph0-2\" x=\"284.464844\" y=\"475.546875\"/>\n",
              "  <use xlink:href=\"#glyph0-2\" x=\"292.250977\" y=\"475.546875\"/>\n",
              "</g>\n",
              "<g style=\"fill:rgb(0%,0%,0%);fill-opacity:1;\">\n",
              "  <use xlink:href=\"#glyph0-2\" x=\"338.03125\" y=\"462.359375\"/>\n",
              "  <use xlink:href=\"#glyph0-3\" x=\"345.817383\" y=\"462.359375\"/>\n",
              "</g>\n",
              "<g style=\"fill:rgb(0%,0%,0%);fill-opacity:1;\">\n",
              "  <use xlink:href=\"#glyph0-2\" x=\"320.851563\" y=\"275.273438\"/>\n",
              "  <use xlink:href=\"#glyph0-4\" x=\"328.637695\" y=\"275.273438\"/>\n",
              "</g>\n",
              "<g style=\"fill:rgb(0%,0%,0%);fill-opacity:1;\">\n",
              "  <use xlink:href=\"#glyph0-2\" x=\"147.082031\" y=\"45.976563\"/>\n",
              "  <use xlink:href=\"#glyph0-5\" x=\"154.868164\" y=\"45.976563\"/>\n",
              "</g>\n",
              "<g style=\"fill:rgb(0%,0%,0%);fill-opacity:1;\">\n",
              "  <use xlink:href=\"#glyph0-2\" x=\"101.210938\" y=\"74.691406\"/>\n",
              "  <use xlink:href=\"#glyph0-6\" x=\"108.99707\" y=\"74.691406\"/>\n",
              "</g>\n",
              "<g style=\"fill:rgb(0%,0%,0%);fill-opacity:1;\">\n",
              "  <use xlink:href=\"#glyph0-2\" x=\"509.625\" y=\"586.53125\"/>\n",
              "  <use xlink:href=\"#glyph0-7\" x=\"517.411133\" y=\"586.53125\"/>\n",
              "</g>\n",
              "<g style=\"fill:rgb(0%,0%,0%);fill-opacity:1;\">\n",
              "  <use xlink:href=\"#glyph0-2\" x=\"571.769531\" y=\"278.949219\"/>\n",
              "  <use xlink:href=\"#glyph0-8\" x=\"579.555664\" y=\"278.949219\"/>\n",
              "</g>\n",
              "<g style=\"fill:rgb(0%,0%,0%);fill-opacity:1;\">\n",
              "  <use xlink:href=\"#glyph0-2\" x=\"200.933594\" y=\"29.140625\"/>\n",
              "  <use xlink:href=\"#glyph0-9\" x=\"208.719727\" y=\"29.140625\"/>\n",
              "</g>\n",
              "<g style=\"fill:rgb(0%,0%,0%);fill-opacity:1;\">\n",
              "  <use xlink:href=\"#glyph0-2\" x=\"282.515625\" y=\"286.980469\"/>\n",
              "  <use xlink:href=\"#glyph0-10\" x=\"290.301758\" y=\"286.980469\"/>\n",
              "</g>\n",
              "<g style=\"fill:rgb(0%,0%,0%);fill-opacity:1;\">\n",
              "  <use xlink:href=\"#glyph0-3\" x=\"314.507813\" y=\"36.441406\"/>\n",
              "  <use xlink:href=\"#glyph0-1\" x=\"322.293945\" y=\"36.441406\"/>\n",
              "</g>\n",
              "<g style=\"fill:rgb(0%,0%,0%);fill-opacity:1;\">\n",
              "  <use xlink:href=\"#glyph0-3\" x=\"563.539063\" y=\"326.792969\"/>\n",
              "  <use xlink:href=\"#glyph0-2\" x=\"571.325195\" y=\"326.792969\"/>\n",
              "</g>\n",
              "<g style=\"fill:rgb(0%,0%,0%);fill-opacity:1;\">\n",
              "  <use xlink:href=\"#glyph0-3\" x=\"258.917969\" y=\"26.53125\"/>\n",
              "  <use xlink:href=\"#glyph0-3\" x=\"266.704102\" y=\"26.53125\"/>\n",
              "</g>\n",
              "<g style=\"fill:rgb(0%,0%,0%);fill-opacity:1;\">\n",
              "  <use xlink:href=\"#glyph0-3\" x=\"61.996094\" y=\"207.074219\"/>\n",
              "  <use xlink:href=\"#glyph0-4\" x=\"69.782227\" y=\"207.074219\"/>\n",
              "</g>\n",
              "<g style=\"fill:rgb(0%,0%,0%);fill-opacity:1;\">\n",
              "  <use xlink:href=\"#glyph0-3\" x=\"96.328125\" y=\"392.042969\"/>\n",
              "  <use xlink:href=\"#glyph0-5\" x=\"104.114258\" y=\"392.042969\"/>\n",
              "</g>\n",
              "<g style=\"fill:rgb(0%,0%,0%);fill-opacity:1;\">\n",
              "  <use xlink:href=\"#glyph0-3\" x=\"34.757813\" y=\"334.394531\"/>\n",
              "  <use xlink:href=\"#glyph0-6\" x=\"42.543945\" y=\"334.394531\"/>\n",
              "</g>\n",
              "<g style=\"fill:rgb(0%,0%,0%);fill-opacity:1;\">\n",
              "  <use xlink:href=\"#glyph0-3\" x=\"12.328125\" y=\"142.796875\"/>\n",
              "  <use xlink:href=\"#glyph0-7\" x=\"20.114258\" y=\"142.796875\"/>\n",
              "</g>\n",
              "<g style=\"fill:rgb(0%,0%,0%);fill-opacity:1;\">\n",
              "  <use xlink:href=\"#glyph0-3\" x=\"140.121094\" y=\"272.683594\"/>\n",
              "  <use xlink:href=\"#glyph0-8\" x=\"147.907227\" y=\"272.683594\"/>\n",
              "</g>\n",
              "<g style=\"fill:rgb(0%,0%,0%);fill-opacity:1;\">\n",
              "  <use xlink:href=\"#glyph0-3\" x=\"168.707031\" y=\"232.515625\"/>\n",
              "  <use xlink:href=\"#glyph0-9\" x=\"176.493164\" y=\"232.515625\"/>\n",
              "</g>\n",
              "<g style=\"fill:rgb(0%,0%,0%);fill-opacity:1;\">\n",
              "  <use xlink:href=\"#glyph0-3\" x=\"84.40625\" y=\"126.449219\"/>\n",
              "  <use xlink:href=\"#glyph0-10\" x=\"92.192383\" y=\"126.449219\"/>\n",
              "</g>\n",
              "<g style=\"fill:rgb(0%,0%,0%);fill-opacity:1;\">\n",
              "  <use xlink:href=\"#glyph0-4\" x=\"391.101563\" y=\"134.707031\"/>\n",
              "  <use xlink:href=\"#glyph0-1\" x=\"398.887695\" y=\"134.707031\"/>\n",
              "</g>\n",
              "<g style=\"fill:rgb(0%,0%,0%);fill-opacity:1;\">\n",
              "  <use xlink:href=\"#glyph0-4\" x=\"214.398438\" y=\"303.746094\"/>\n",
              "  <use xlink:href=\"#glyph0-2\" x=\"222.18457\" y=\"303.746094\"/>\n",
              "</g>\n",
              "<g style=\"fill:rgb(0%,0%,0%);fill-opacity:1;\">\n",
              "  <use xlink:href=\"#glyph0-4\" x=\"237.335938\" y=\"136.679688\"/>\n",
              "  <use xlink:href=\"#glyph0-3\" x=\"245.12207\" y=\"136.679688\"/>\n",
              "</g>\n",
              "<g style=\"fill:rgb(0%,0%,0%);fill-opacity:1;\">\n",
              "  <use xlink:href=\"#glyph0-4\" x=\"209.308594\" y=\"162.710938\"/>\n",
              "  <use xlink:href=\"#glyph0-4\" x=\"217.094727\" y=\"162.710938\"/>\n",
              "</g>\n",
              "</g>\n",
              "</svg>\n"
            ],
            "text/plain": [
              "<igraph.drawing.Plot at 0x1a2d57de550>"
            ]
          },
          "execution_count": 23,
          "metadata": {
            "image/svg+xml": {
              "isolated": true
            }
          },
          "output_type": "execute_result"
        }
      ],
      "source": [
        "ig.plot(g)"
      ]
    },
    {
      "cell_type": "markdown",
      "metadata": {
        "id": "35K2tnkstSwp"
      },
      "source": [
        "# Detection algorithms\n",
        "\n",
        "Let's start using community detection algorithms to discover the split in the Karate club.\n",
        "\n",
        "Here https://igraph.org/python/api/develop/igraph.community.html you can find the doc for Community detection algorithms.\n",
        "\n",
        "For example let's use louvain algorithm (https://igraph.org/python/api/develop/igraph.community.html#_community_fastgreedy)"
      ]
    },
    {
      "cell_type": "code",
      "execution_count": null,
      "metadata": {
        "id": "_PT1m4OctSwq"
      },
      "outputs": [],
      "source": [
        "louvain = g.community_fastgreedy()"
      ]
    },
    {
      "cell_type": "code",
      "execution_count": null,
      "metadata": {
        "id": "gp0orkcWtSwq"
      },
      "outputs": [],
      "source": [
        "print(louvain)"
      ]
    },
    {
      "cell_type": "markdown",
      "metadata": {
        "id": "D4lNulCAtSwr"
      },
      "source": [
        "Remember Louvain algorithm is iterative. That is why we get a dendogram as a result. We can run .as_clustering() to get the different clusterings"
      ]
    },
    {
      "cell_type": "code",
      "execution_count": null,
      "metadata": {
        "id": "qHN8b1FwtSwr"
      },
      "outputs": [],
      "source": [
        "print(louvain.as_clustering(2))"
      ]
    },
    {
      "cell_type": "code",
      "execution_count": null,
      "metadata": {
        "id": "LLKye2cvtSwr"
      },
      "outputs": [],
      "source": [
        "for i in range(1, 10):\n",
        "    print(louvain.as_clustering(i))\n",
        "    print(g.modularity(louvain.as_clustering(i)))"
      ]
    },
    {
      "cell_type": "markdown",
      "source": [
        "We can plot the graph with different colors per group."
      ],
      "metadata": {
        "id": "gfv7QyfhvICt"
      }
    },
    {
      "cell_type": "code",
      "source": [
        "pal = ig.drawing.colors.ClusterColoringPalette(len(louvain.as_clustering(3)))\n",
        "g.vs['color'] = pal.get_many(louvain.as_clustering(3).membership)\n",
        "ig.plot(g)"
      ],
      "metadata": {
        "id": "yVTzFwxXvHRN"
      },
      "execution_count": null,
      "outputs": []
    },
    {
      "cell_type": "markdown",
      "metadata": {
        "id": "-_uNjenNtSws"
      },
      "source": [
        "## Exercise: Try using different algorithms and meassure their modularity\n",
        "(Tip: Not all algorithms (for example community_infomap) return a dendogram, they return a partition. You should check that)"
      ]
    },
    {
      "cell_type": "code",
      "execution_count": null,
      "metadata": {
        "id": "TCJk4InjtSws"
      },
      "outputs": [],
      "source": []
    },
    {
      "cell_type": "code",
      "execution_count": null,
      "metadata": {
        "id": "LbA_3QLRtSws"
      },
      "outputs": [],
      "source": []
    }
  ],
  "metadata": {
    "kernelspec": {
      "display_name": "Python 3",
      "language": "python",
      "name": "python3"
    },
    "language_info": {
      "codemirror_mode": {
        "name": "ipython",
        "version": 3
      },
      "file_extension": ".py",
      "mimetype": "text/x-python",
      "name": "python",
      "nbconvert_exporter": "python",
      "pygments_lexer": "ipython3",
      "version": "3.8.5"
    },
    "colab": {
      "provenance": []
    }
  },
  "nbformat": 4,
  "nbformat_minor": 0
}