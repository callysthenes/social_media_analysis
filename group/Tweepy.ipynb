{
 "cells": [
  {
   "cell_type": "code",
   "execution_count": 6,
   "id": "987167cf",
   "metadata": {},
   "outputs": [],
   "source": [
    "# Tweepy"
   ]
  },
  {
   "cell_type": "code",
   "execution_count": 1,
   "id": "81c12b44",
   "metadata": {},
   "outputs": [],
   "source": [
    "#pip install tweepy"
   ]
  },
  {
   "cell_type": "code",
   "execution_count": 3,
   "id": "ecea4bc0",
   "metadata": {},
   "outputs": [
    {
     "name": "stdout",
     "output_type": "stream",
     "text": [
      "Successful Authentication\n"
     ]
    }
   ],
   "source": [
    "import tweepy\n",
    " \n",
    "# API keyws that yous saved earlier\n",
    "api_key = \"M1BeP7LiNZIpfwd62uodI3FUZ\"\n",
    "api_secrets = \"9Emkl5hQigq4sRUOKw9Y63mfhw8iPmXDTSCjpG2vebQLJin0ra\"\n",
    "access_token =  \"1580929244544339968-Nx0ZXhWJQwaRi84jP8DYLjewvN3IOA\"\n",
    "access_secret = \"7Pp4q0dPc2BhiINeFB50Y0cR8L4RnqPCWBQU1Ny6NawCH\"\n",
    "\n",
    "# Authenticate to Twitter\n",
    "auth = tweepy.OAuthHandler(api_key,api_secrets)\n",
    "auth.set_access_token(access_token,access_secret)\n",
    " \n",
    "api = tweepy.API(auth)\n",
    " \n",
    "try:\n",
    "    api.verify_credentials()\n",
    "    print('Successful Authentication')\n",
    "except:\n",
    "    print('Failed authentication')"
   ]
  },
  {
   "cell_type": "code",
   "execution_count": 5,
   "id": "21d492ba",
   "metadata": {},
   "outputs": [
    {
     "ename": "TypeError",
     "evalue": "API.get_user() takes 1 positional argument but 2 were given",
     "output_type": "error",
     "traceback": [
      "\u001b[1;31m---------------------------------------------------------------------------\u001b[0m",
      "\u001b[1;31mTypeError\u001b[0m                                 Traceback (most recent call last)",
      "Cell \u001b[1;32mIn[5], line 1\u001b[0m\n\u001b[1;32m----> 1\u001b[0m user \u001b[39m=\u001b[39m api\u001b[39m.\u001b[39;49mget_user(\u001b[39m'\u001b[39;49m\u001b[39mNASA\u001b[39;49m\u001b[39m'\u001b[39;49m) \u001b[39m# Store user as a variable\u001b[39;00m\n",
      "File \u001b[1;32mc:\\Users\\pedro\\anaconda3\\lib\\site-packages\\tweepy\\api.py:46\u001b[0m, in \u001b[0;36mpayload.<locals>.decorator.<locals>.wrapper\u001b[1;34m(*args, **kwargs)\u001b[0m\n\u001b[0;32m     44\u001b[0m kwargs[\u001b[39m'\u001b[39m\u001b[39mpayload_list\u001b[39m\u001b[39m'\u001b[39m] \u001b[39m=\u001b[39m payload_list\n\u001b[0;32m     45\u001b[0m kwargs[\u001b[39m'\u001b[39m\u001b[39mpayload_type\u001b[39m\u001b[39m'\u001b[39m] \u001b[39m=\u001b[39m payload_type\n\u001b[1;32m---> 46\u001b[0m \u001b[39mreturn\u001b[39;00m method(\u001b[39m*\u001b[39margs, \u001b[39m*\u001b[39m\u001b[39m*\u001b[39mkwargs)\n",
      "\u001b[1;31mTypeError\u001b[0m: API.get_user() takes 1 positional argument but 2 were given"
     ]
    }
   ],
   "source": [
    "user = api.get_user('NASA') # Store user as a variable\n"
   ]
  },
  {
   "cell_type": "code",
   "execution_count": 4,
   "id": "a823004a",
   "metadata": {},
   "outputs": [
    {
     "ename": "NameError",
     "evalue": "name 'user' is not defined",
     "output_type": "error",
     "traceback": [
      "\u001b[1;31m---------------------------------------------------------------------------\u001b[0m",
      "\u001b[1;31mNameError\u001b[0m                                 Traceback (most recent call last)",
      "Cell \u001b[1;32mIn[4], line 2\u001b[0m\n\u001b[0;32m      1\u001b[0m \u001b[39m# Get user Twitter statistics\u001b[39;00m\n\u001b[1;32m----> 2\u001b[0m \u001b[39mprint\u001b[39m(\u001b[39mf\u001b[39m\u001b[39m\"\u001b[39m\u001b[39muser.followers_count: \u001b[39m\u001b[39m{\u001b[39;00muser\u001b[39m.\u001b[39mfollowers_count\u001b[39m}\u001b[39;00m\u001b[39m\"\u001b[39m)\n\u001b[0;32m      3\u001b[0m \u001b[39mprint\u001b[39m(\u001b[39mf\u001b[39m\u001b[39m\"\u001b[39m\u001b[39muser.listed_count: \u001b[39m\u001b[39m{\u001b[39;00muser\u001b[39m.\u001b[39mlisted_count\u001b[39m}\u001b[39;00m\u001b[39m\"\u001b[39m)\n\u001b[0;32m      4\u001b[0m \u001b[39mprint\u001b[39m(\u001b[39mf\u001b[39m\u001b[39m\"\u001b[39m\u001b[39muser.statuses_count: \u001b[39m\u001b[39m{\u001b[39;00muser\u001b[39m.\u001b[39mstatuses_count\u001b[39m}\u001b[39;00m\u001b[39m\"\u001b[39m)\n",
      "\u001b[1;31mNameError\u001b[0m: name 'user' is not defined"
     ]
    }
   ],
   "source": [
    " \n",
    "# Get user Twitter statistics\n",
    "print(f\"user.followers_count: {user.followers_count}\")\n",
    "print(f\"user.listed_count: {user.listed_count}\")\n",
    "print(f\"user.statuses_count: {user.statuses_count}\")\n",
    " \n",
    "# Show followers\n",
    "for follower in user.followers():\n",
    "    print('Name: ' + str(follower.name))\n",
    "    print('Username: ' + str(follower.screen_name))\n",
    " \n"
   ]
  },
  {
   "cell_type": "code",
   "execution_count": 6,
   "id": "656bdbe7",
   "metadata": {},
   "outputs": [
    {
     "ename": "TypeError",
     "evalue": "API.create_friendship() takes 1 positional argument but 2 were given",
     "output_type": "error",
     "traceback": [
      "\u001b[1;31m---------------------------------------------------------------------------\u001b[0m",
      "\u001b[1;31mTypeError\u001b[0m                                 Traceback (most recent call last)",
      "Cell \u001b[1;32mIn[6], line 2\u001b[0m\n\u001b[0;32m      1\u001b[0m \u001b[39m# Follow a user\u001b[39;00m\n\u001b[1;32m----> 2\u001b[0m api\u001b[39m.\u001b[39;49mcreate_friendship(\u001b[39m'\u001b[39;49m\u001b[39mVP\u001b[39;49m\u001b[39m'\u001b[39;49m)\n\u001b[0;32m      4\u001b[0m \u001b[39m# Get tweets from a user tmeline\u001b[39;00m\n\u001b[0;32m      5\u001b[0m tweets \u001b[39m=\u001b[39m api\u001b[39m.\u001b[39muser_timeline(\u001b[39mid\u001b[39m\u001b[39m=\u001b[39m\u001b[39m'\u001b[39m\u001b[39mVP\u001b[39m\u001b[39m'\u001b[39m, count\u001b[39m=\u001b[39m\u001b[39m200\u001b[39m)\n",
      "File \u001b[1;32mc:\\Users\\pedro\\anaconda3\\lib\\site-packages\\tweepy\\api.py:46\u001b[0m, in \u001b[0;36mpayload.<locals>.decorator.<locals>.wrapper\u001b[1;34m(*args, **kwargs)\u001b[0m\n\u001b[0;32m     44\u001b[0m kwargs[\u001b[39m'\u001b[39m\u001b[39mpayload_list\u001b[39m\u001b[39m'\u001b[39m] \u001b[39m=\u001b[39m payload_list\n\u001b[0;32m     45\u001b[0m kwargs[\u001b[39m'\u001b[39m\u001b[39mpayload_type\u001b[39m\u001b[39m'\u001b[39m] \u001b[39m=\u001b[39m payload_type\n\u001b[1;32m---> 46\u001b[0m \u001b[39mreturn\u001b[39;00m method(\u001b[39m*\u001b[39margs, \u001b[39m*\u001b[39m\u001b[39m*\u001b[39mkwargs)\n",
      "\u001b[1;31mTypeError\u001b[0m: API.create_friendship() takes 1 positional argument but 2 were given"
     ]
    }
   ],
   "source": [
    "# Follow a user\n",
    "api.create_friendship('VP')\n",
    " \n",
    "# Get tweets from a user tmeline\n",
    "tweets = api.user_timeline(id='VP', count=200)\n",
    "tweets_extended = api.user_timeline(id='VP', tweet_mode='extended', count=200)\n",
    "print(tweets_extended)\n",
    " \n",
    "# Like or retweet tweets\n",
    "#id = 'id_of_tweet' # tweet ID\n",
    "#tweet = api.get_status(id) # get tweets with specific id\n",
    "#tweet.favorite() # Like a tweet\n",
    "#tweet.retweet() # Retweet"
   ]
  },
  {
   "cell_type": "code",
   "execution_count": 7,
   "id": "63dc7823",
   "metadata": {},
   "outputs": [
    {
     "name": "stderr",
     "output_type": "stream",
     "text": [
      "Unexpected parameter: id\n",
      "Unexpected parameter: id\n"
     ]
    },
    {
     "data": {
      "text/plain": [
       "{'created_at': 'Wed Mar 29 21:32:41 +0000 2023',\n",
       " 'id': 1641191672896692224,\n",
       " 'id_str': '1641191672896692224',\n",
       " 'text': '\"Galactic winds\" can spread starstuff far and wide—including elements crucial for life on Earth.\\n\\nA new… https://t.co/amcBdV8DJ5',\n",
       " 'truncated': True,\n",
       " 'entities': {'hashtags': [],\n",
       "  'symbols': [],\n",
       "  'user_mentions': [],\n",
       "  'urls': [{'url': 'https://t.co/amcBdV8DJ5',\n",
       "    'expanded_url': 'https://twitter.com/i/web/status/1641191672896692224',\n",
       "    'display_url': 'twitter.com/i/web/status/1…',\n",
       "    'indices': [105, 128]}]},\n",
       " 'source': '<a href=\"https://www.sprinklr.com\" rel=\"nofollow\">Sprinklr</a>',\n",
       " 'in_reply_to_status_id': None,\n",
       " 'in_reply_to_status_id_str': None,\n",
       " 'in_reply_to_user_id': None,\n",
       " 'in_reply_to_user_id_str': None,\n",
       " 'in_reply_to_screen_name': None,\n",
       " 'user': {'id': 11348282,\n",
       "  'id_str': '11348282',\n",
       "  'name': 'NASA',\n",
       "  'screen_name': 'NASA',\n",
       "  'location': 'Pale Blue Dot',\n",
       "  'description': \"There's space for everybody. ✨\",\n",
       "  'url': 'https://t.co/9NkQJKAnuU',\n",
       "  'entities': {'url': {'urls': [{'url': 'https://t.co/9NkQJKAnuU',\n",
       "      'expanded_url': 'http://www.nasa.gov/',\n",
       "      'display_url': 'nasa.gov',\n",
       "      'indices': [0, 23]}]},\n",
       "   'description': {'urls': []}},\n",
       "  'protected': False,\n",
       "  'followers_count': 71942586,\n",
       "  'friends_count': 178,\n",
       "  'listed_count': 100512,\n",
       "  'created_at': 'Wed Dec 19 20:20:32 +0000 2007',\n",
       "  'favourites_count': 15022,\n",
       "  'utc_offset': None,\n",
       "  'time_zone': None,\n",
       "  'geo_enabled': False,\n",
       "  'verified': True,\n",
       "  'statuses_count': 69788,\n",
       "  'lang': None,\n",
       "  'contributors_enabled': False,\n",
       "  'is_translator': False,\n",
       "  'is_translation_enabled': False,\n",
       "  'profile_background_color': '000000',\n",
       "  'profile_background_image_url': 'http://abs.twimg.com/images/themes/theme1/bg.png',\n",
       "  'profile_background_image_url_https': 'https://abs.twimg.com/images/themes/theme1/bg.png',\n",
       "  'profile_background_tile': False,\n",
       "  'profile_image_url': 'http://pbs.twimg.com/profile_images/1321163587679784960/0ZxKlEKB_normal.jpg',\n",
       "  'profile_image_url_https': 'https://pbs.twimg.com/profile_images/1321163587679784960/0ZxKlEKB_normal.jpg',\n",
       "  'profile_banner_url': 'https://pbs.twimg.com/profile_banners/11348282/1679344008',\n",
       "  'profile_link_color': '205BA7',\n",
       "  'profile_sidebar_border_color': '000000',\n",
       "  'profile_sidebar_fill_color': 'F3F2F2',\n",
       "  'profile_text_color': '000000',\n",
       "  'profile_use_background_image': True,\n",
       "  'has_extended_profile': True,\n",
       "  'default_profile': False,\n",
       "  'default_profile_image': False,\n",
       "  'following': False,\n",
       "  'follow_request_sent': False,\n",
       "  'notifications': False,\n",
       "  'translator_type': 'regular',\n",
       "  'withheld_in_countries': []},\n",
       " 'geo': None,\n",
       " 'coordinates': None,\n",
       " 'place': None,\n",
       " 'contributors': None,\n",
       " 'is_quote_status': False,\n",
       " 'retweet_count': 719,\n",
       " 'favorite_count': 5210,\n",
       " 'favorited': False,\n",
       " 'retweeted': False,\n",
       " 'possibly_sensitive': False,\n",
       " 'lang': 'en'}"
      ]
     },
     "execution_count": 7,
     "metadata": {},
     "output_type": "execute_result"
    }
   ],
   "source": [
    "# Get a list of tweets\n",
    "tweets = api.user_timeline(id='NASA', count=200)\n",
    "tweets_extended = api.user_timeline(id='ChouinardJC', tweet_mode='extended', count=200)\n",
    " \n",
    "# Show one tweet's JSON\n",
    "tweet = tweets[0]\n",
    "tweet._json"
   ]
  },
  {
   "cell_type": "code",
   "execution_count": 8,
   "id": "653f21b9",
   "metadata": {},
   "outputs": [
    {
     "name": "stdout",
     "output_type": "stream",
     "text": [
      "Created at:2023-03-29 21:32:41+00:00\n",
      "Tweet id:1641191672896692224\n",
      "Tweet text:\"Galactic winds\" can spread starstuff far and wide—including elements crucial for life on Earth.\n",
      "\n",
      "A new… https://t.co/amcBdV8DJ5\n"
     ]
    }
   ],
   "source": [
    "# Get tweet data\n",
    "print(f'Created at:{tweet.created_at}')\n",
    "print(f'Tweet id:{tweet.id}')\n",
    " \n",
    "# Get tweet text\n",
    "try:\n",
    "    print(f'Tweet text:{tweet.text}')\n",
    "except:\n",
    "    # Get tweet text in extended mode\n",
    "    print(f'Tweet text:{tweet.full_text}')\n",
    " \n"
   ]
  },
  {
   "cell_type": "code",
   "execution_count": 9,
   "id": "9cc9156b",
   "metadata": {},
   "outputs": [
    {
     "name": "stdout",
     "output_type": "stream",
     "text": [
      "Is Retweeted:False\n",
      "Is favorited:False\n",
      "Is quote:False\n"
     ]
    }
   ],
   "source": [
    "# Get tweet status\n",
    "print(f'Is Retweeted:{tweet.retweeted}')\n",
    "print(f'Is favorited:{tweet.favorited}')\n",
    "print(f'Is quote:{tweet.is_quote_status}')\n",
    " \n"
   ]
  },
  {
   "cell_type": "code",
   "execution_count": 10,
   "id": "6a7c2bd8",
   "metadata": {},
   "outputs": [
    {
     "name": "stdout",
     "output_type": "stream",
     "text": [
      "Retweet count:719\n",
      "Favorite count:5210\n"
     ]
    }
   ],
   "source": [
    "# Get Tweet statistics\n",
    "print(f'Retweet count:{tweet.retweet_count}')\n",
    "print(f'Favorite count:{tweet.favorite_count}')\n",
    " \n"
   ]
  },
  {
   "cell_type": "code",
   "execution_count": 11,
   "id": "41a71001",
   "metadata": {},
   "outputs": [
    {
     "name": "stdout",
     "output_type": "stream",
     "text": [
      "Tweet lang:en\n"
     ]
    }
   ],
   "source": [
    "# Get tweet lang\n",
    "print(f'Tweet lang:{tweet.lang}')\n"
   ]
  },
  {
   "cell_type": "code",
   "execution_count": 12,
   "id": "ee41924f",
   "metadata": {},
   "outputs": [
    {
     "name": "stdout",
     "output_type": "stream",
     "text": [
      "In reply to status id:None\n",
      "In reply to user id:None\n"
     ]
    }
   ],
   "source": [
    "# Get replied to\n",
    "print(f'In reply to status id:{tweet.in_reply_to_status_id}')\n",
    "print(f'In reply to user id:{tweet.in_reply_to_user_id}')"
   ]
  },
  {
   "cell_type": "code",
   "execution_count": null,
   "id": "d2485fba",
   "metadata": {},
   "outputs": [],
   "source": [
    "#original source: https://www.jcchouinard.com/twitter-api/"
   ]
  },
  {
   "cell_type": "code",
   "execution_count": 13,
   "id": "7769560e",
   "metadata": {},
   "outputs": [],
   "source": [
    "#download twitter data to use for graphing\n",
    "  \n",
    "import tweepy\n",
    "import csv\n",
    "import pandas as pd\n",
    "import numpy as np\n",
    "import matplotlib.pyplot as plt\n",
    "import seaborn as sns\n",
    "\n"
   ]
  },
  {
   "cell_type": "code",
   "execution_count": null,
   "id": "56640b87",
   "metadata": {},
   "outputs": [],
   "source": []
  },
  {
   "cell_type": "code",
   "execution_count": null,
   "id": "e8e1cab7",
   "metadata": {},
   "outputs": [],
   "source": []
  },
  {
   "attachments": {},
   "cell_type": "markdown",
   "id": "81ed5ad6",
   "metadata": {},
   "source": [
    "# Academic account"
   ]
  },
  {
   "cell_type": "code",
   "execution_count": 15,
   "id": "c4aecad9",
   "metadata": {},
   "outputs": [],
   "source": [
    "# API keys corresponding to an academic account\n",
    "api_key = \"4OxfMXFZL9yBDYboGSfcjbFsc\"\n",
    "api_secrets = \"Ny9LS2gPD7plQy48c3EpQ3UDvVfqrwvJyZLrAJlgEhQtWz3krW\"\n",
    "access_token =  \"1581220096529375238-2Kt6eULOqBD7EvtpqTf4gvU7n69MZ3\"\n",
    "access_secret = \"7irLEy7IiGfW72gsh895wntdk3n94upoyXtUMGSo98mch\"\n",
    "bearer_token = \"AAAAAAAAAAAAAAAAAAAAAPEbiQEAAAAAuuFvB9xcB%2FR4J2RXWNApbAWQ3PY%3DVqvJvvr5WlYDYSfMq5GcZqGGu2gapcfF0ezvJzCWfDaodqSE4L\""
   ]
  },
  {
   "cell_type": "code",
   "execution_count": 18,
   "id": "ac0856b5",
   "metadata": {},
   "outputs": [
    {
     "name": "stdout",
     "output_type": "stream",
     "text": [
      "Successful Authentication\n"
     ]
    }
   ],
   "source": [
    "# Authenticate to Twitter\n",
    "auth = tweepy.OAuthHandler(api_key, api_secrets)\n",
    "auth.set_access_token(access_token, access_secret)\n",
    " \n",
    "api = tweepy.API(auth)\n",
    "\n",
    "try:\n",
    "    api.verify_credentials()\n",
    "    print('Successful Authentication')\n",
    "    #commented so it doesn't appear in hdfs\n",
    "except:\n",
    "    print('Failed authentication')"
   ]
  },
  {
   "cell_type": "code",
   "execution_count": 19,
   "id": "58ad68d6",
   "metadata": {},
   "outputs": [],
   "source": [
    "client = tweepy.Client(bearer_token='AAAAAAAAAAAAAAAAAAAAAPEbiQEAAAAAuuFvB9xcB%2FR4J2RXWNApbAWQ3PY%3DVqvJvvr5WlYDYSfMq5GcZqGGu2gapcfF0ezvJzCWfDaodqSE4L')"
   ]
  },
  {
   "cell_type": "code",
   "execution_count": 20,
   "id": "426bbb62",
   "metadata": {},
   "outputs": [
    {
     "name": "stdout",
     "output_type": "stream",
     "text": [
      "{'end': '2022-09-01T00:00:00.000Z', 'start': '2022-08-31T00:00:00.000Z', 'tweet_count': 4179}\n",
      "{'end': '2022-09-02T00:00:00.000Z', 'start': '2022-09-01T00:00:00.000Z', 'tweet_count': 1385}\n",
      "{'end': '2022-09-03T00:00:00.000Z', 'start': '2022-09-02T00:00:00.000Z', 'tweet_count': 1720}\n",
      "{'end': '2022-09-04T00:00:00.000Z', 'start': '2022-09-03T00:00:00.000Z', 'tweet_count': 1677}\n",
      "{'end': '2022-09-05T00:00:00.000Z', 'start': '2022-09-04T00:00:00.000Z', 'tweet_count': 1154}\n",
      "{'end': '2022-09-06T00:00:00.000Z', 'start': '2022-09-05T00:00:00.000Z', 'tweet_count': 725}\n",
      "{'end': '2022-09-07T00:00:00.000Z', 'start': '2022-09-06T00:00:00.000Z', 'tweet_count': 1356}\n",
      "{'end': '2022-09-08T00:00:00.000Z', 'start': '2022-09-07T00:00:00.000Z', 'tweet_count': 613}\n",
      "{'end': '2022-09-09T00:00:00.000Z', 'start': '2022-09-08T00:00:00.000Z', 'tweet_count': 426}\n",
      "{'end': '2022-09-10T00:00:00.000Z', 'start': '2022-09-09T00:00:00.000Z', 'tweet_count': 576}\n",
      "{'end': '2022-09-11T00:00:00.000Z', 'start': '2022-09-10T00:00:00.000Z', 'tweet_count': 665}\n",
      "{'end': '2022-09-12T00:00:00.000Z', 'start': '2022-09-11T00:00:00.000Z', 'tweet_count': 607}\n",
      "{'end': '2022-09-13T00:00:00.000Z', 'start': '2022-09-12T00:00:00.000Z', 'tweet_count': 1718}\n",
      "{'end': '2022-09-14T00:00:00.000Z', 'start': '2022-09-13T00:00:00.000Z', 'tweet_count': 888}\n",
      "{'end': '2022-09-15T00:00:00.000Z', 'start': '2022-09-14T00:00:00.000Z', 'tweet_count': 583}\n",
      "{'end': '2022-09-16T00:00:00.000Z', 'start': '2022-09-15T00:00:00.000Z', 'tweet_count': 1216}\n",
      "{'end': '2022-09-17T00:00:00.000Z', 'start': '2022-09-16T00:00:00.000Z', 'tweet_count': 1404}\n",
      "{'end': '2022-09-18T00:00:00.000Z', 'start': '2022-09-17T00:00:00.000Z', 'tweet_count': 1619}\n",
      "{'end': '2022-09-19T00:00:00.000Z', 'start': '2022-09-18T00:00:00.000Z', 'tweet_count': 1490}\n",
      "{'end': '2022-09-20T00:00:00.000Z', 'start': '2022-09-19T00:00:00.000Z', 'tweet_count': 737}\n",
      "{'end': '2022-09-21T00:00:00.000Z', 'start': '2022-09-20T00:00:00.000Z', 'tweet_count': 1030}\n",
      "{'end': '2022-09-22T00:00:00.000Z', 'start': '2022-09-21T00:00:00.000Z', 'tweet_count': 3336}\n",
      "{'end': '2022-09-23T00:00:00.000Z', 'start': '2022-09-22T00:00:00.000Z', 'tweet_count': 2880}\n",
      "{'end': '2022-09-24T00:00:00.000Z', 'start': '2022-09-23T00:00:00.000Z', 'tweet_count': 2307}\n",
      "{'end': '2022-09-25T00:00:00.000Z', 'start': '2022-09-24T00:00:00.000Z', 'tweet_count': 975}\n",
      "{'end': '2022-09-26T00:00:00.000Z', 'start': '2022-09-25T00:00:00.000Z', 'tweet_count': 1093}\n",
      "{'end': '2022-09-27T00:00:00.000Z', 'start': '2022-09-26T00:00:00.000Z', 'tweet_count': 2316}\n",
      "{'end': '2022-09-28T00:00:00.000Z', 'start': '2022-09-27T00:00:00.000Z', 'tweet_count': 1246}\n",
      "{'end': '2022-09-29T00:00:00.000Z', 'start': '2022-09-28T00:00:00.000Z', 'tweet_count': 781}\n",
      "{'end': '2022-09-30T00:00:00.000Z', 'start': '2022-09-29T00:00:00.000Z', 'tweet_count': 2828}\n",
      "{'end': '2022-10-01T00:00:00.000Z', 'start': '2022-09-30T00:00:00.000Z', 'tweet_count': 1910}\n"
     ]
    }
   ],
   "source": [
    "# Get tweets that contain the hashtag #badbunny \n",
    "# With location is US\n",
    "# -is:retweet means I don't want retweets\n",
    "# lang:en is asking for the tweets to be in english\n",
    "#maximum results are 100, modify this accroding to your api limit!!!!\n",
    "query = 'onerepublic OR #onerepublic OR One Republic -is:retweet lang:en place_country: US'\n",
    "\n",
    "start_time = '2022-01-01T00:00:00Z'\n",
    "end_time = '2022-10-01T00:00:00Z'\n",
    "\n",
    "counts = client.get_all_tweets_count(query=query, granularity='day',  start_time=start_time, end_time=end_time)\n",
    "\n",
    "for count in counts.data:\n",
    "    print(count)"
   ]
  },
  {
   "cell_type": "code",
   "execution_count": null,
   "id": "e7a4c6ea",
   "metadata": {},
   "outputs": [],
   "source": []
  }
 ],
 "metadata": {
  "kernelspec": {
   "display_name": "Python 3 (ipykernel)",
   "language": "python",
   "name": "python3"
  },
  "language_info": {
   "codemirror_mode": {
    "name": "ipython",
    "version": 3
   },
   "file_extension": ".py",
   "mimetype": "text/x-python",
   "name": "python",
   "nbconvert_exporter": "python",
   "pygments_lexer": "ipython3",
   "version": "3.10.9"
  }
 },
 "nbformat": 4,
 "nbformat_minor": 5
}
