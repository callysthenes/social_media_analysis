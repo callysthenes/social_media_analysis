{
 "cells": [
  {
   "cell_type": "markdown",
   "metadata": {},
   "source": [
    "# Instructions\n",
    "On this first assignment, applying the basic functions of the Igraph package is required. The following datasets are going to be used:\n",
    "\n",
    "* Actors dataset - undirected graph - : For the 2005 Graph Drawing conference a data set was provided of the IMDB movie database. We will use a reduced version of this dataset, which derived all actor-actor collaboration edges where the actors co-starred in at least 2 movies together between 1995 and 2004. \n",
    "\n",
    "\n",
    "You have to complete the code chunks in this document but also analyze the results, extract insights and answer the short questions. Fill the CSV attached with your answers, sometimes just the number is enough, some others just a small sentence or paragraph. Remember to change the header with your email.\n",
    "\n",
    "In your submission please upload both this document in HTML and the CSV with the solutions.\n",
    "\n",
    "\n",
    "# Loading data\n",
    "\n",
    "In this section, the goal is loading the datasets given, building the graph and analyzing basics metrics. Include the edge or node attributes you consider.\n",
    "\n",
    "Describe the values provided by summary function on the graph object.\n",
    "\n",
    "**1) How many nodes are there?**\n",
    "\n",
    "**2) How many edges are there?**"
   ]
  },
  {
   "cell_type": "code",
   "execution_count": 1,
   "metadata": {},
   "outputs": [],
   "source": [
    "import networkx as nx\n",
    "import pandas as pd\n",
    "import numpy as np"
   ]
  },
  {
   "cell_type": "code",
   "execution_count": 2,
   "metadata": {},
   "outputs": [],
   "source": [
    "#import tsv using pandas\n",
    "df_edges = pd.read_csv('imdb_actor_edges.tsv', sep='\\t')"
   ]
  },
  {
   "cell_type": "code",
   "execution_count": 3,
   "metadata": {},
   "outputs": [
    {
     "data": {
      "text/html": [
       "<div>\n",
       "<style scoped>\n",
       "    .dataframe tbody tr th:only-of-type {\n",
       "        vertical-align: middle;\n",
       "    }\n",
       "\n",
       "    .dataframe tbody tr th {\n",
       "        vertical-align: top;\n",
       "    }\n",
       "\n",
       "    .dataframe thead th {\n",
       "        text-align: right;\n",
       "    }\n",
       "</style>\n",
       "<table border=\"1\" class=\"dataframe\">\n",
       "  <thead>\n",
       "    <tr style=\"text-align: right;\">\n",
       "      <th></th>\n",
       "      <th>from</th>\n",
       "      <th>to</th>\n",
       "      <th>weight</th>\n",
       "    </tr>\n",
       "  </thead>\n",
       "  <tbody>\n",
       "    <tr>\n",
       "      <th>0</th>\n",
       "      <td>17776</td>\n",
       "      <td>17778</td>\n",
       "      <td>6</td>\n",
       "    </tr>\n",
       "    <tr>\n",
       "      <th>1</th>\n",
       "      <td>5578</td>\n",
       "      <td>9770</td>\n",
       "      <td>3</td>\n",
       "    </tr>\n",
       "    <tr>\n",
       "      <th>2</th>\n",
       "      <td>5578</td>\n",
       "      <td>929</td>\n",
       "      <td>2</td>\n",
       "    </tr>\n",
       "    <tr>\n",
       "      <th>3</th>\n",
       "      <td>5578</td>\n",
       "      <td>9982</td>\n",
       "      <td>2</td>\n",
       "    </tr>\n",
       "    <tr>\n",
       "      <th>4</th>\n",
       "      <td>1835</td>\n",
       "      <td>6278</td>\n",
       "      <td>2</td>\n",
       "    </tr>\n",
       "  </tbody>\n",
       "</table>\n",
       "</div>"
      ],
      "text/plain": [
       "    from     to  weight\n",
       "0  17776  17778       6\n",
       "1   5578   9770       3\n",
       "2   5578    929       2\n",
       "3   5578   9982       2\n",
       "4   1835   6278       2"
      ]
     },
     "execution_count": 3,
     "metadata": {},
     "output_type": "execute_result"
    }
   ],
   "source": [
    "#show head of df_edges\n",
    "df_edges.head()"
   ]
  },
  {
   "cell_type": "code",
   "execution_count": 4,
   "metadata": {},
   "outputs": [
    {
     "data": {
      "text/plain": [
       "from      int64\n",
       "to        int64\n",
       "weight    int64\n",
       "dtype: object"
      ]
     },
     "execution_count": 4,
     "metadata": {},
     "output_type": "execute_result"
    }
   ],
   "source": [
    "df_edges.dtypes"
   ]
  },
  {
   "cell_type": "code",
   "execution_count": 5,
   "metadata": {},
   "outputs": [],
   "source": [
    "df_key = pd.read_csv('imdb_actors_key.tsv', sep='\\t', encoding='latin-1')"
   ]
  },
  {
   "cell_type": "code",
   "execution_count": 6,
   "metadata": {},
   "outputs": [
    {
     "data": {
      "text/html": [
       "<div>\n",
       "<style scoped>\n",
       "    .dataframe tbody tr th:only-of-type {\n",
       "        vertical-align: middle;\n",
       "    }\n",
       "\n",
       "    .dataframe tbody tr th {\n",
       "        vertical-align: top;\n",
       "    }\n",
       "\n",
       "    .dataframe thead th {\n",
       "        text-align: right;\n",
       "    }\n",
       "</style>\n",
       "<table border=\"1\" class=\"dataframe\">\n",
       "  <thead>\n",
       "    <tr style=\"text-align: right;\">\n",
       "      <th></th>\n",
       "      <th>id</th>\n",
       "      <th>name</th>\n",
       "      <th>movies_95_04</th>\n",
       "      <th>main_genre</th>\n",
       "      <th>genres</th>\n",
       "    </tr>\n",
       "  </thead>\n",
       "  <tbody>\n",
       "    <tr>\n",
       "      <th>0</th>\n",
       "      <td>15629</td>\n",
       "      <td>Rudder, Michael (I)</td>\n",
       "      <td>12</td>\n",
       "      <td>Thriller</td>\n",
       "      <td>Action:1,Comedy:1,Drama:1,Fantasy:1,Horror:1,N...</td>\n",
       "    </tr>\n",
       "    <tr>\n",
       "      <th>1</th>\n",
       "      <td>5026</td>\n",
       "      <td>Morgan, Debbi</td>\n",
       "      <td>16</td>\n",
       "      <td>Drama</td>\n",
       "      <td>Comedy:2,Documentary:1,Drama:6,Horror:2,NULL:3...</td>\n",
       "    </tr>\n",
       "    <tr>\n",
       "      <th>2</th>\n",
       "      <td>11252</td>\n",
       "      <td>Bellows, Gil</td>\n",
       "      <td>33</td>\n",
       "      <td>Drama</td>\n",
       "      <td>Comedy:6,Documentary:1,Drama:7,Family:1,Fantas...</td>\n",
       "    </tr>\n",
       "    <tr>\n",
       "      <th>3</th>\n",
       "      <td>5150</td>\n",
       "      <td>Dray, Albert</td>\n",
       "      <td>20</td>\n",
       "      <td>Comedy</td>\n",
       "      <td>Comedy:6,Crime:1,Documentary:1,Drama:4,NULL:5,...</td>\n",
       "    </tr>\n",
       "    <tr>\n",
       "      <th>4</th>\n",
       "      <td>4057</td>\n",
       "      <td>Daly, Shane (I)</td>\n",
       "      <td>18</td>\n",
       "      <td>Drama</td>\n",
       "      <td>Comedy:2,Crime:1,Drama:7,Horror:1,Music:1,Musi...</td>\n",
       "    </tr>\n",
       "  </tbody>\n",
       "</table>\n",
       "</div>"
      ],
      "text/plain": [
       "      id                 name  movies_95_04 main_genre  \\\n",
       "0  15629  Rudder, Michael (I)            12   Thriller   \n",
       "1   5026        Morgan, Debbi            16      Drama   \n",
       "2  11252         Bellows, Gil            33      Drama   \n",
       "3   5150         Dray, Albert            20     Comedy   \n",
       "4   4057      Daly, Shane (I)            18      Drama   \n",
       "\n",
       "                                              genres  \n",
       "0  Action:1,Comedy:1,Drama:1,Fantasy:1,Horror:1,N...  \n",
       "1  Comedy:2,Documentary:1,Drama:6,Horror:2,NULL:3...  \n",
       "2  Comedy:6,Documentary:1,Drama:7,Family:1,Fantas...  \n",
       "3  Comedy:6,Crime:1,Documentary:1,Drama:4,NULL:5,...  \n",
       "4  Comedy:2,Crime:1,Drama:7,Horror:1,Music:1,Musi...  "
      ]
     },
     "execution_count": 6,
     "metadata": {},
     "output_type": "execute_result"
    }
   ],
   "source": [
    "df_key.head()"
   ]
  },
  {
   "cell_type": "code",
   "execution_count": 7,
   "metadata": {},
   "outputs": [
    {
     "data": {
      "text/html": [
       "<div>\n",
       "<style scoped>\n",
       "    .dataframe tbody tr th:only-of-type {\n",
       "        vertical-align: middle;\n",
       "    }\n",
       "\n",
       "    .dataframe tbody tr th {\n",
       "        vertical-align: top;\n",
       "    }\n",
       "\n",
       "    .dataframe thead th {\n",
       "        text-align: right;\n",
       "    }\n",
       "</style>\n",
       "<table border=\"1\" class=\"dataframe\">\n",
       "  <thead>\n",
       "    <tr style=\"text-align: right;\">\n",
       "      <th></th>\n",
       "      <th>id</th>\n",
       "      <th>name</th>\n",
       "      <th>movies_95_04</th>\n",
       "      <th>main_genre</th>\n",
       "      <th>genre</th>\n",
       "    </tr>\n",
       "  </thead>\n",
       "  <tbody>\n",
       "    <tr>\n",
       "      <th>0</th>\n",
       "      <td>15629</td>\n",
       "      <td>Rudder, Michael (I)</td>\n",
       "      <td>12</td>\n",
       "      <td>Thriller</td>\n",
       "      <td>Action:1</td>\n",
       "    </tr>\n",
       "    <tr>\n",
       "      <th>0</th>\n",
       "      <td>15629</td>\n",
       "      <td>Rudder, Michael (I)</td>\n",
       "      <td>12</td>\n",
       "      <td>Thriller</td>\n",
       "      <td>Comedy:1</td>\n",
       "    </tr>\n",
       "    <tr>\n",
       "      <th>0</th>\n",
       "      <td>15629</td>\n",
       "      <td>Rudder, Michael (I)</td>\n",
       "      <td>12</td>\n",
       "      <td>Thriller</td>\n",
       "      <td>Drama:1</td>\n",
       "    </tr>\n",
       "    <tr>\n",
       "      <th>0</th>\n",
       "      <td>15629</td>\n",
       "      <td>Rudder, Michael (I)</td>\n",
       "      <td>12</td>\n",
       "      <td>Thriller</td>\n",
       "      <td>Fantasy:1</td>\n",
       "    </tr>\n",
       "    <tr>\n",
       "      <th>0</th>\n",
       "      <td>15629</td>\n",
       "      <td>Rudder, Michael (I)</td>\n",
       "      <td>12</td>\n",
       "      <td>Thriller</td>\n",
       "      <td>Horror:1</td>\n",
       "    </tr>\n",
       "    <tr>\n",
       "      <th>0</th>\n",
       "      <td>15629</td>\n",
       "      <td>Rudder, Michael (I)</td>\n",
       "      <td>12</td>\n",
       "      <td>Thriller</td>\n",
       "      <td>NULL:2</td>\n",
       "    </tr>\n",
       "    <tr>\n",
       "      <th>0</th>\n",
       "      <td>15629</td>\n",
       "      <td>Rudder, Michael (I)</td>\n",
       "      <td>12</td>\n",
       "      <td>Thriller</td>\n",
       "      <td>Romance:1</td>\n",
       "    </tr>\n",
       "    <tr>\n",
       "      <th>0</th>\n",
       "      <td>15629</td>\n",
       "      <td>Rudder, Michael (I)</td>\n",
       "      <td>12</td>\n",
       "      <td>Thriller</td>\n",
       "      <td>Sci-Fi:1</td>\n",
       "    </tr>\n",
       "    <tr>\n",
       "      <th>0</th>\n",
       "      <td>15629</td>\n",
       "      <td>Rudder, Michael (I)</td>\n",
       "      <td>12</td>\n",
       "      <td>Thriller</td>\n",
       "      <td>Thriller:2</td>\n",
       "    </tr>\n",
       "    <tr>\n",
       "      <th>0</th>\n",
       "      <td>15629</td>\n",
       "      <td>Rudder, Michael (I)</td>\n",
       "      <td>12</td>\n",
       "      <td>Thriller</td>\n",
       "      <td>War:1</td>\n",
       "    </tr>\n",
       "    <tr>\n",
       "      <th>1</th>\n",
       "      <td>5026</td>\n",
       "      <td>Morgan, Debbi</td>\n",
       "      <td>16</td>\n",
       "      <td>Drama</td>\n",
       "      <td>Comedy:2</td>\n",
       "    </tr>\n",
       "    <tr>\n",
       "      <th>1</th>\n",
       "      <td>5026</td>\n",
       "      <td>Morgan, Debbi</td>\n",
       "      <td>16</td>\n",
       "      <td>Drama</td>\n",
       "      <td>Documentary:1</td>\n",
       "    </tr>\n",
       "    <tr>\n",
       "      <th>1</th>\n",
       "      <td>5026</td>\n",
       "      <td>Morgan, Debbi</td>\n",
       "      <td>16</td>\n",
       "      <td>Drama</td>\n",
       "      <td>Drama:6</td>\n",
       "    </tr>\n",
       "    <tr>\n",
       "      <th>1</th>\n",
       "      <td>5026</td>\n",
       "      <td>Morgan, Debbi</td>\n",
       "      <td>16</td>\n",
       "      <td>Drama</td>\n",
       "      <td>Horror:2</td>\n",
       "    </tr>\n",
       "    <tr>\n",
       "      <th>1</th>\n",
       "      <td>5026</td>\n",
       "      <td>Morgan, Debbi</td>\n",
       "      <td>16</td>\n",
       "      <td>Drama</td>\n",
       "      <td>NULL:3</td>\n",
       "    </tr>\n",
       "    <tr>\n",
       "      <th>1</th>\n",
       "      <td>5026</td>\n",
       "      <td>Morgan, Debbi</td>\n",
       "      <td>16</td>\n",
       "      <td>Drama</td>\n",
       "      <td>Romance:2</td>\n",
       "    </tr>\n",
       "    <tr>\n",
       "      <th>2</th>\n",
       "      <td>11252</td>\n",
       "      <td>Bellows, Gil</td>\n",
       "      <td>33</td>\n",
       "      <td>Drama</td>\n",
       "      <td>Comedy:6</td>\n",
       "    </tr>\n",
       "    <tr>\n",
       "      <th>2</th>\n",
       "      <td>11252</td>\n",
       "      <td>Bellows, Gil</td>\n",
       "      <td>33</td>\n",
       "      <td>Drama</td>\n",
       "      <td>Documentary:1</td>\n",
       "    </tr>\n",
       "    <tr>\n",
       "      <th>2</th>\n",
       "      <td>11252</td>\n",
       "      <td>Bellows, Gil</td>\n",
       "      <td>33</td>\n",
       "      <td>Drama</td>\n",
       "      <td>Drama:7</td>\n",
       "    </tr>\n",
       "    <tr>\n",
       "      <th>2</th>\n",
       "      <td>11252</td>\n",
       "      <td>Bellows, Gil</td>\n",
       "      <td>33</td>\n",
       "      <td>Drama</td>\n",
       "      <td>Family:1</td>\n",
       "    </tr>\n",
       "  </tbody>\n",
       "</table>\n",
       "</div>"
      ],
      "text/plain": [
       "      id                 name  movies_95_04 main_genre          genre\n",
       "0  15629  Rudder, Michael (I)            12   Thriller       Action:1\n",
       "0  15629  Rudder, Michael (I)            12   Thriller       Comedy:1\n",
       "0  15629  Rudder, Michael (I)            12   Thriller        Drama:1\n",
       "0  15629  Rudder, Michael (I)            12   Thriller      Fantasy:1\n",
       "0  15629  Rudder, Michael (I)            12   Thriller       Horror:1\n",
       "0  15629  Rudder, Michael (I)            12   Thriller         NULL:2\n",
       "0  15629  Rudder, Michael (I)            12   Thriller      Romance:1\n",
       "0  15629  Rudder, Michael (I)            12   Thriller       Sci-Fi:1\n",
       "0  15629  Rudder, Michael (I)            12   Thriller     Thriller:2\n",
       "0  15629  Rudder, Michael (I)            12   Thriller          War:1\n",
       "1   5026        Morgan, Debbi            16      Drama       Comedy:2\n",
       "1   5026        Morgan, Debbi            16      Drama  Documentary:1\n",
       "1   5026        Morgan, Debbi            16      Drama        Drama:6\n",
       "1   5026        Morgan, Debbi            16      Drama       Horror:2\n",
       "1   5026        Morgan, Debbi            16      Drama         NULL:3\n",
       "1   5026        Morgan, Debbi            16      Drama      Romance:2\n",
       "2  11252         Bellows, Gil            33      Drama       Comedy:6\n",
       "2  11252         Bellows, Gil            33      Drama  Documentary:1\n",
       "2  11252         Bellows, Gil            33      Drama        Drama:7\n",
       "2  11252         Bellows, Gil            33      Drama       Family:1"
      ]
     },
     "execution_count": 7,
     "metadata": {},
     "output_type": "execute_result"
    }
   ],
   "source": [
    "#separate the content in genres column separated by ',' and create a new column for each genre\n",
    "df_key2 = df_key.join(df_key['genres'].str.split(',', expand=True).stack().reset_index(level=1, drop=True).rename('genre'))\n",
    "\n",
    "#drop the genres column\n",
    "df_key2 = df_key2.drop('genres', axis=1)\n",
    "\n",
    "#drop the rows with NaN values\n",
    "df_key2 = df_key2.dropna()\n",
    "\n",
    "#show head of df_key4\n",
    "df_key2.head(20)"
   ]
  },
  {
   "cell_type": "code",
   "execution_count": 8,
   "metadata": {},
   "outputs": [
    {
     "ename": "MemoryError",
     "evalue": "Unable to allocate 59.3 GiB for an array with shape (7959189718,) and data type int64",
     "output_type": "error",
     "traceback": [
      "\u001b[1;31m---------------------------------------------------------------------------\u001b[0m",
      "\u001b[1;31mMemoryError\u001b[0m                               Traceback (most recent call last)",
      "Cell \u001b[1;32mIn[8], line 6\u001b[0m\n\u001b[0;32m      4\u001b[0m df_key3 \u001b[39m=\u001b[39m df_key3\u001b[39m.\u001b[39mjoin(df_key2[\u001b[39m'\u001b[39m\u001b[39mgenre\u001b[39m\u001b[39m'\u001b[39m]\u001b[39m.\u001b[39mstr\u001b[39m.\u001b[39mcontains(\u001b[39m'\u001b[39m\u001b[39mAnimation\u001b[39m\u001b[39m'\u001b[39m)\u001b[39m.\u001b[39mrename(\u001b[39m'\u001b[39m\u001b[39mAnimation\u001b[39m\u001b[39m'\u001b[39m))\n\u001b[0;32m      5\u001b[0m df_key3 \u001b[39m=\u001b[39m df_key3\u001b[39m.\u001b[39mjoin(df_key2[\u001b[39m'\u001b[39m\u001b[39mgenre\u001b[39m\u001b[39m'\u001b[39m]\u001b[39m.\u001b[39mstr\u001b[39m.\u001b[39mcontains(\u001b[39m'\u001b[39m\u001b[39mBiography\u001b[39m\u001b[39m'\u001b[39m)\u001b[39m.\u001b[39mrename(\u001b[39m'\u001b[39m\u001b[39mBiography\u001b[39m\u001b[39m'\u001b[39m))\n\u001b[1;32m----> 6\u001b[0m df_key3 \u001b[39m=\u001b[39m df_key3\u001b[39m.\u001b[39;49mjoin(df_key2[\u001b[39m'\u001b[39;49m\u001b[39mgenre\u001b[39;49m\u001b[39m'\u001b[39;49m]\u001b[39m.\u001b[39;49mstr\u001b[39m.\u001b[39;49mcontains(\u001b[39m'\u001b[39;49m\u001b[39mComedy\u001b[39;49m\u001b[39m'\u001b[39;49m)\u001b[39m.\u001b[39;49mrename(\u001b[39m'\u001b[39;49m\u001b[39mComedy\u001b[39;49m\u001b[39m'\u001b[39;49m))\n\u001b[0;32m      7\u001b[0m df_key3 \u001b[39m=\u001b[39m df_key3\u001b[39m.\u001b[39mjoin(df_key2[\u001b[39m'\u001b[39m\u001b[39mgenre\u001b[39m\u001b[39m'\u001b[39m]\u001b[39m.\u001b[39mstr\u001b[39m.\u001b[39mcontains(\u001b[39m'\u001b[39m\u001b[39mCrime\u001b[39m\u001b[39m'\u001b[39m)\u001b[39m.\u001b[39mrename(\u001b[39m'\u001b[39m\u001b[39mCrime\u001b[39m\u001b[39m'\u001b[39m))\n\u001b[0;32m      8\u001b[0m df_key3 \u001b[39m=\u001b[39m df_key3\u001b[39m.\u001b[39mjoin(df_key2[\u001b[39m'\u001b[39m\u001b[39mgenre\u001b[39m\u001b[39m'\u001b[39m]\u001b[39m.\u001b[39mstr\u001b[39m.\u001b[39mcontains(\u001b[39m'\u001b[39m\u001b[39mDocumentary\u001b[39m\u001b[39m'\u001b[39m)\u001b[39m.\u001b[39mrename(\u001b[39m'\u001b[39m\u001b[39mDocumentary\u001b[39m\u001b[39m'\u001b[39m))\n",
      "File \u001b[1;32mc:\\Users\\pedro\\anaconda3\\lib\\site-packages\\pandas\\core\\frame.py:9979\u001b[0m, in \u001b[0;36mDataFrame.join\u001b[1;34m(self, other, on, how, lsuffix, rsuffix, sort, validate)\u001b[0m\n\u001b[0;32m   9816\u001b[0m \u001b[39mdef\u001b[39;00m \u001b[39mjoin\u001b[39m(\n\u001b[0;32m   9817\u001b[0m     \u001b[39mself\u001b[39m,\n\u001b[0;32m   9818\u001b[0m     other: DataFrame \u001b[39m|\u001b[39m Series \u001b[39m|\u001b[39m \u001b[39mlist\u001b[39m[DataFrame \u001b[39m|\u001b[39m Series],\n\u001b[1;32m   (...)\u001b[0m\n\u001b[0;32m   9824\u001b[0m     validate: \u001b[39mstr\u001b[39m \u001b[39m|\u001b[39m \u001b[39mNone\u001b[39;00m \u001b[39m=\u001b[39m \u001b[39mNone\u001b[39;00m,\n\u001b[0;32m   9825\u001b[0m ) \u001b[39m-\u001b[39m\u001b[39m>\u001b[39m DataFrame:\n\u001b[0;32m   9826\u001b[0m \u001b[39m    \u001b[39m\u001b[39m\"\"\"\u001b[39;00m\n\u001b[0;32m   9827\u001b[0m \u001b[39m    Join columns of another DataFrame.\u001b[39;00m\n\u001b[0;32m   9828\u001b[0m \n\u001b[1;32m   (...)\u001b[0m\n\u001b[0;32m   9977\u001b[0m \u001b[39m    5  K1  A5   B1\u001b[39;00m\n\u001b[0;32m   9978\u001b[0m \u001b[39m    \"\"\"\u001b[39;00m\n\u001b[1;32m-> 9979\u001b[0m     \u001b[39mreturn\u001b[39;00m \u001b[39mself\u001b[39;49m\u001b[39m.\u001b[39;49m_join_compat(\n\u001b[0;32m   9980\u001b[0m         other,\n\u001b[0;32m   9981\u001b[0m         on\u001b[39m=\u001b[39;49mon,\n\u001b[0;32m   9982\u001b[0m         how\u001b[39m=\u001b[39;49mhow,\n\u001b[0;32m   9983\u001b[0m         lsuffix\u001b[39m=\u001b[39;49mlsuffix,\n\u001b[0;32m   9984\u001b[0m         rsuffix\u001b[39m=\u001b[39;49mrsuffix,\n\u001b[0;32m   9985\u001b[0m         sort\u001b[39m=\u001b[39;49msort,\n\u001b[0;32m   9986\u001b[0m         validate\u001b[39m=\u001b[39;49mvalidate,\n\u001b[0;32m   9987\u001b[0m     )\n",
      "File \u001b[1;32mc:\\Users\\pedro\\anaconda3\\lib\\site-packages\\pandas\\core\\frame.py:10018\u001b[0m, in \u001b[0;36mDataFrame._join_compat\u001b[1;34m(self, other, on, how, lsuffix, rsuffix, sort, validate)\u001b[0m\n\u001b[0;32m  10008\u001b[0m     \u001b[39mif\u001b[39;00m how \u001b[39m==\u001b[39m \u001b[39m\"\u001b[39m\u001b[39mcross\u001b[39m\u001b[39m\"\u001b[39m:\n\u001b[0;32m  10009\u001b[0m         \u001b[39mreturn\u001b[39;00m merge(\n\u001b[0;32m  10010\u001b[0m             \u001b[39mself\u001b[39m,\n\u001b[0;32m  10011\u001b[0m             other,\n\u001b[1;32m   (...)\u001b[0m\n\u001b[0;32m  10016\u001b[0m             validate\u001b[39m=\u001b[39mvalidate,\n\u001b[0;32m  10017\u001b[0m         )\n\u001b[1;32m> 10018\u001b[0m     \u001b[39mreturn\u001b[39;00m merge(\n\u001b[0;32m  10019\u001b[0m         \u001b[39mself\u001b[39;49m,\n\u001b[0;32m  10020\u001b[0m         other,\n\u001b[0;32m  10021\u001b[0m         left_on\u001b[39m=\u001b[39;49mon,\n\u001b[0;32m  10022\u001b[0m         how\u001b[39m=\u001b[39;49mhow,\n\u001b[0;32m  10023\u001b[0m         left_index\u001b[39m=\u001b[39;49mon \u001b[39mis\u001b[39;49;00m \u001b[39mNone\u001b[39;49;00m,\n\u001b[0;32m  10024\u001b[0m         right_index\u001b[39m=\u001b[39;49m\u001b[39mTrue\u001b[39;49;00m,\n\u001b[0;32m  10025\u001b[0m         suffixes\u001b[39m=\u001b[39;49m(lsuffix, rsuffix),\n\u001b[0;32m  10026\u001b[0m         sort\u001b[39m=\u001b[39;49msort,\n\u001b[0;32m  10027\u001b[0m         validate\u001b[39m=\u001b[39;49mvalidate,\n\u001b[0;32m  10028\u001b[0m     )\n\u001b[0;32m  10029\u001b[0m \u001b[39melse\u001b[39;00m:\n\u001b[0;32m  10030\u001b[0m     \u001b[39mif\u001b[39;00m on \u001b[39mis\u001b[39;00m \u001b[39mnot\u001b[39;00m \u001b[39mNone\u001b[39;00m:\n",
      "File \u001b[1;32mc:\\Users\\pedro\\anaconda3\\lib\\site-packages\\pandas\\core\\reshape\\merge.py:124\u001b[0m, in \u001b[0;36mmerge\u001b[1;34m(left, right, how, on, left_on, right_on, left_index, right_index, sort, suffixes, copy, indicator, validate)\u001b[0m\n\u001b[0;32m     93\u001b[0m \u001b[39m@Substitution\u001b[39m(\u001b[39m\"\u001b[39m\u001b[39m\\n\u001b[39;00m\u001b[39mleft : DataFrame or named Series\u001b[39m\u001b[39m\"\u001b[39m)\n\u001b[0;32m     94\u001b[0m \u001b[39m@Appender\u001b[39m(_merge_doc, indents\u001b[39m=\u001b[39m\u001b[39m0\u001b[39m)\n\u001b[0;32m     95\u001b[0m \u001b[39mdef\u001b[39;00m \u001b[39mmerge\u001b[39m(\n\u001b[1;32m   (...)\u001b[0m\n\u001b[0;32m    108\u001b[0m     validate: \u001b[39mstr\u001b[39m \u001b[39m|\u001b[39m \u001b[39mNone\u001b[39;00m \u001b[39m=\u001b[39m \u001b[39mNone\u001b[39;00m,\n\u001b[0;32m    109\u001b[0m ) \u001b[39m-\u001b[39m\u001b[39m>\u001b[39m DataFrame:\n\u001b[0;32m    110\u001b[0m     op \u001b[39m=\u001b[39m _MergeOperation(\n\u001b[0;32m    111\u001b[0m         left,\n\u001b[0;32m    112\u001b[0m         right,\n\u001b[1;32m   (...)\u001b[0m\n\u001b[0;32m    122\u001b[0m         validate\u001b[39m=\u001b[39mvalidate,\n\u001b[0;32m    123\u001b[0m     )\n\u001b[1;32m--> 124\u001b[0m     \u001b[39mreturn\u001b[39;00m op\u001b[39m.\u001b[39;49mget_result(copy\u001b[39m=\u001b[39;49mcopy)\n",
      "File \u001b[1;32mc:\\Users\\pedro\\anaconda3\\lib\\site-packages\\pandas\\core\\reshape\\merge.py:773\u001b[0m, in \u001b[0;36m_MergeOperation.get_result\u001b[1;34m(self, copy)\u001b[0m\n\u001b[0;32m    770\u001b[0m \u001b[39mif\u001b[39;00m \u001b[39mself\u001b[39m\u001b[39m.\u001b[39mindicator:\n\u001b[0;32m    771\u001b[0m     \u001b[39mself\u001b[39m\u001b[39m.\u001b[39mleft, \u001b[39mself\u001b[39m\u001b[39m.\u001b[39mright \u001b[39m=\u001b[39m \u001b[39mself\u001b[39m\u001b[39m.\u001b[39m_indicator_pre_merge(\u001b[39mself\u001b[39m\u001b[39m.\u001b[39mleft, \u001b[39mself\u001b[39m\u001b[39m.\u001b[39mright)\n\u001b[1;32m--> 773\u001b[0m join_index, left_indexer, right_indexer \u001b[39m=\u001b[39m \u001b[39mself\u001b[39;49m\u001b[39m.\u001b[39;49m_get_join_info()\n\u001b[0;32m    775\u001b[0m result \u001b[39m=\u001b[39m \u001b[39mself\u001b[39m\u001b[39m.\u001b[39m_reindex_and_concat(\n\u001b[0;32m    776\u001b[0m     join_index, left_indexer, right_indexer, copy\u001b[39m=\u001b[39mcopy\n\u001b[0;32m    777\u001b[0m )\n\u001b[0;32m    778\u001b[0m result \u001b[39m=\u001b[39m result\u001b[39m.\u001b[39m__finalize__(\u001b[39mself\u001b[39m, method\u001b[39m=\u001b[39m\u001b[39mself\u001b[39m\u001b[39m.\u001b[39m_merge_type)\n",
      "File \u001b[1;32mc:\\Users\\pedro\\anaconda3\\lib\\site-packages\\pandas\\core\\reshape\\merge.py:1012\u001b[0m, in \u001b[0;36m_MergeOperation._get_join_info\u001b[1;34m(self)\u001b[0m\n\u001b[0;32m   1009\u001b[0m right_ax \u001b[39m=\u001b[39m \u001b[39mself\u001b[39m\u001b[39m.\u001b[39mright\u001b[39m.\u001b[39maxes[\u001b[39mself\u001b[39m\u001b[39m.\u001b[39maxis]\n\u001b[0;32m   1011\u001b[0m \u001b[39mif\u001b[39;00m \u001b[39mself\u001b[39m\u001b[39m.\u001b[39mleft_index \u001b[39mand\u001b[39;00m \u001b[39mself\u001b[39m\u001b[39m.\u001b[39mright_index \u001b[39mand\u001b[39;00m \u001b[39mself\u001b[39m\u001b[39m.\u001b[39mhow \u001b[39m!=\u001b[39m \u001b[39m\"\u001b[39m\u001b[39masof\u001b[39m\u001b[39m\"\u001b[39m:\n\u001b[1;32m-> 1012\u001b[0m     join_index, left_indexer, right_indexer \u001b[39m=\u001b[39m left_ax\u001b[39m.\u001b[39;49mjoin(\n\u001b[0;32m   1013\u001b[0m         right_ax, how\u001b[39m=\u001b[39;49m\u001b[39mself\u001b[39;49m\u001b[39m.\u001b[39;49mhow, return_indexers\u001b[39m=\u001b[39;49m\u001b[39mTrue\u001b[39;49;00m, sort\u001b[39m=\u001b[39;49m\u001b[39mself\u001b[39;49m\u001b[39m.\u001b[39;49msort\n\u001b[0;32m   1014\u001b[0m     )\n\u001b[0;32m   1016\u001b[0m \u001b[39melif\u001b[39;00m \u001b[39mself\u001b[39m\u001b[39m.\u001b[39mright_index \u001b[39mand\u001b[39;00m \u001b[39mself\u001b[39m\u001b[39m.\u001b[39mhow \u001b[39m==\u001b[39m \u001b[39m\"\u001b[39m\u001b[39mleft\u001b[39m\u001b[39m\"\u001b[39m:\n\u001b[0;32m   1017\u001b[0m     join_index, left_indexer, right_indexer \u001b[39m=\u001b[39m _left_join_on_index(\n\u001b[0;32m   1018\u001b[0m         left_ax, right_ax, \u001b[39mself\u001b[39m\u001b[39m.\u001b[39mleft_join_keys, sort\u001b[39m=\u001b[39m\u001b[39mself\u001b[39m\u001b[39m.\u001b[39msort\n\u001b[0;32m   1019\u001b[0m     )\n",
      "File \u001b[1;32mc:\\Users\\pedro\\anaconda3\\lib\\site-packages\\pandas\\util\\_decorators.py:331\u001b[0m, in \u001b[0;36mdeprecate_nonkeyword_arguments.<locals>.decorate.<locals>.wrapper\u001b[1;34m(*args, **kwargs)\u001b[0m\n\u001b[0;32m    325\u001b[0m \u001b[39mif\u001b[39;00m \u001b[39mlen\u001b[39m(args) \u001b[39m>\u001b[39m num_allow_args:\n\u001b[0;32m    326\u001b[0m     warnings\u001b[39m.\u001b[39mwarn(\n\u001b[0;32m    327\u001b[0m         msg\u001b[39m.\u001b[39mformat(arguments\u001b[39m=\u001b[39m_format_argument_list(allow_args)),\n\u001b[0;32m    328\u001b[0m         \u001b[39mFutureWarning\u001b[39;00m,\n\u001b[0;32m    329\u001b[0m         stacklevel\u001b[39m=\u001b[39mfind_stack_level(),\n\u001b[0;32m    330\u001b[0m     )\n\u001b[1;32m--> 331\u001b[0m \u001b[39mreturn\u001b[39;00m func(\u001b[39m*\u001b[39margs, \u001b[39m*\u001b[39m\u001b[39m*\u001b[39mkwargs)\n",
      "File \u001b[1;32mc:\\Users\\pedro\\anaconda3\\lib\\site-packages\\pandas\\core\\indexes\\base.py:228\u001b[0m, in \u001b[0;36m_maybe_return_indexers.<locals>.join\u001b[1;34m(self, other, how, level, return_indexers, sort)\u001b[0m\n\u001b[0;32m    219\u001b[0m \u001b[39m@functools\u001b[39m\u001b[39m.\u001b[39mwraps(meth)\n\u001b[0;32m    220\u001b[0m \u001b[39mdef\u001b[39;00m \u001b[39mjoin\u001b[39m(\n\u001b[0;32m    221\u001b[0m     \u001b[39mself\u001b[39m,\n\u001b[1;32m   (...)\u001b[0m\n\u001b[0;32m    226\u001b[0m     sort: \u001b[39mbool\u001b[39m \u001b[39m=\u001b[39m \u001b[39mFalse\u001b[39;00m,\n\u001b[0;32m    227\u001b[0m ):\n\u001b[1;32m--> 228\u001b[0m     join_index, lidx, ridx \u001b[39m=\u001b[39m meth(\u001b[39mself\u001b[39;49m, other, how\u001b[39m=\u001b[39;49mhow, level\u001b[39m=\u001b[39;49mlevel, sort\u001b[39m=\u001b[39;49msort)\n\u001b[0;32m    229\u001b[0m     \u001b[39mif\u001b[39;00m \u001b[39mnot\u001b[39;00m return_indexers:\n\u001b[0;32m    230\u001b[0m         \u001b[39mreturn\u001b[39;00m join_index\n",
      "File \u001b[1;32mc:\\Users\\pedro\\anaconda3\\lib\\site-packages\\pandas\\core\\indexes\\base.py:4658\u001b[0m, in \u001b[0;36mIndex.join\u001b[1;34m(self, other, how, level, return_indexers, sort)\u001b[0m\n\u001b[0;32m   4655\u001b[0m _validate_join_method(how)\n\u001b[0;32m   4657\u001b[0m \u001b[39mif\u001b[39;00m \u001b[39mnot\u001b[39;00m \u001b[39mself\u001b[39m\u001b[39m.\u001b[39mis_unique \u001b[39mand\u001b[39;00m \u001b[39mnot\u001b[39;00m other\u001b[39m.\u001b[39mis_unique:\n\u001b[1;32m-> 4658\u001b[0m     \u001b[39mreturn\u001b[39;00m \u001b[39mself\u001b[39;49m\u001b[39m.\u001b[39;49m_join_non_unique(other, how\u001b[39m=\u001b[39;49mhow)\n\u001b[0;32m   4659\u001b[0m \u001b[39melif\u001b[39;00m \u001b[39mnot\u001b[39;00m \u001b[39mself\u001b[39m\u001b[39m.\u001b[39mis_unique \u001b[39mor\u001b[39;00m \u001b[39mnot\u001b[39;00m other\u001b[39m.\u001b[39mis_unique:\n\u001b[0;32m   4660\u001b[0m     \u001b[39mif\u001b[39;00m \u001b[39mself\u001b[39m\u001b[39m.\u001b[39mis_monotonic_increasing \u001b[39mand\u001b[39;00m other\u001b[39m.\u001b[39mis_monotonic_increasing:\n",
      "File \u001b[1;32mc:\\Users\\pedro\\anaconda3\\lib\\site-packages\\pandas\\core\\indexes\\base.py:4814\u001b[0m, in \u001b[0;36mIndex._join_non_unique\u001b[1;34m(self, other, how)\u001b[0m\n\u001b[0;32m   4811\u001b[0m \u001b[39m# We only get here if dtypes match\u001b[39;00m\n\u001b[0;32m   4812\u001b[0m \u001b[39massert\u001b[39;00m \u001b[39mself\u001b[39m\u001b[39m.\u001b[39mdtype \u001b[39m==\u001b[39m other\u001b[39m.\u001b[39mdtype\n\u001b[1;32m-> 4814\u001b[0m left_idx, right_idx \u001b[39m=\u001b[39m get_join_indexers(\n\u001b[0;32m   4815\u001b[0m     [\u001b[39mself\u001b[39;49m\u001b[39m.\u001b[39;49m_values], [other\u001b[39m.\u001b[39;49m_values], how\u001b[39m=\u001b[39;49mhow, sort\u001b[39m=\u001b[39;49m\u001b[39mTrue\u001b[39;49;00m\n\u001b[0;32m   4816\u001b[0m )\n\u001b[0;32m   4817\u001b[0m mask \u001b[39m=\u001b[39m left_idx \u001b[39m==\u001b[39m \u001b[39m-\u001b[39m\u001b[39m1\u001b[39m\n\u001b[0;32m   4819\u001b[0m join_array \u001b[39m=\u001b[39m \u001b[39mself\u001b[39m\u001b[39m.\u001b[39m_values\u001b[39m.\u001b[39mtake(left_idx)\n",
      "File \u001b[1;32mc:\\Users\\pedro\\anaconda3\\lib\\site-packages\\pandas\\core\\reshape\\merge.py:1610\u001b[0m, in \u001b[0;36mget_join_indexers\u001b[1;34m(left_keys, right_keys, sort, how, **kwargs)\u001b[0m\n\u001b[0;32m   1600\u001b[0m join_func \u001b[39m=\u001b[39m {\n\u001b[0;32m   1601\u001b[0m     \u001b[39m\"\u001b[39m\u001b[39minner\u001b[39m\u001b[39m\"\u001b[39m: libjoin\u001b[39m.\u001b[39minner_join,\n\u001b[0;32m   1602\u001b[0m     \u001b[39m\"\u001b[39m\u001b[39mleft\u001b[39m\u001b[39m\"\u001b[39m: libjoin\u001b[39m.\u001b[39mleft_outer_join,\n\u001b[1;32m   (...)\u001b[0m\n\u001b[0;32m   1606\u001b[0m     \u001b[39m\"\u001b[39m\u001b[39mouter\u001b[39m\u001b[39m\"\u001b[39m: libjoin\u001b[39m.\u001b[39mfull_outer_join,\n\u001b[0;32m   1607\u001b[0m }[how]\n\u001b[0;32m   1609\u001b[0m \u001b[39m# error: Cannot call function of unknown type\u001b[39;00m\n\u001b[1;32m-> 1610\u001b[0m \u001b[39mreturn\u001b[39;00m join_func(lkey, rkey, count, \u001b[39m*\u001b[39m\u001b[39m*\u001b[39mkwargs)\n",
      "File \u001b[1;32mc:\\Users\\pedro\\anaconda3\\lib\\site-packages\\pandas\\_libs\\join.pyx:104\u001b[0m, in \u001b[0;36mpandas._libs.join.left_outer_join\u001b[1;34m()\u001b[0m\n",
      "\u001b[1;31mMemoryError\u001b[0m: Unable to allocate 59.3 GiB for an array with shape (7959189718,) and data type int64"
     ]
    }
   ],
   "source": [
    "#for each genre, create a new column with only the strings that contain the genre\n",
    "df_key3 = df_key2.join(df_key2['genre'].str.contains('Action').rename('Action'))\n",
    "df_key3 = df_key3.join(df_key2['genre'].str.contains('Adventure').rename('Adventure'))\n",
    "df_key3 = df_key3.join(df_key2['genre'].str.contains('Animation').rename('Animation'))\n",
    "df_key3 = df_key3.join(df_key2['genre'].str.contains('Biography').rename('Biography'))\n",
    "df_key3 = df_key3.join(df_key2['genre'].str.contains('Comedy').rename('Comedy'))\n",
    "df_key3 = df_key3.join(df_key2['genre'].str.contains('Crime').rename('Crime'))\n",
    "df_key3 = df_key3.join(df_key2['genre'].str.contains('Documentary').rename('Documentary'))\n",
    "df_key3 = df_key3.join(df_key2['genre'].str.contains('Drama').rename('Drama'))\n",
    "df_key3 = df_key3.join(df_key2['genre'].str.contains('Family').rename('Family'))\n",
    "df_key3 = df_key3.join(df_key2['genre'].str.contains('Fantasy').rename('Fantasy'))\n",
    "df_key3 = df_key3.join(df_key2['genre'].str.contains('Film-Noir').rename('Film-Noir'))\n",
    "df_key3 = df_key3.join(df_key2['genre'].str.contains('History').rename('History'))\n",
    "df_key3 = df_key3.join(df_key2['genre'].str.contains('Horror').rename('Horror'))\n",
    "df_key3 = df_key3.join(df_key2['genre'].str.contains('Music').rename('Music'))\n",
    "df_key3 = df_key3.join(df_key2['genre'].str.contains('Musical').rename('Musical'))\n",
    "df_key3 = df_key3.join(df_key2['genre'].str.contains('Mystery').rename('Mystery'))\n",
    "df_key3 = df_key3.join(df_key2['genre'].str.contains('Romance').rename('Romance'))\n",
    "df_key3 = df_key3.join(df_key2['genre'].str.contains('Sci-Fi').rename('Sci-Fi'))\n",
    "df_key3 = df_key3.join(df_key2['genre'].str.contains('Sport').rename('Sport'))\n",
    "df_key3 = df_key3.join(df_key2['genre'].str.contains('Thriller').rename('Thriller'))\n",
    "df_key3 = df_key3.join(df_key2['genre'].str.contains('War').rename('War'))\n",
    "df_key3 = df_key3.join(df_key2['genre'].str.contains('Western').rename('Western'))\n"
   ]
  },
  {
   "cell_type": "code",
   "execution_count": null,
   "metadata": {},
   "outputs": [],
   "source": [
    "df_key3.head()\n"
   ]
  },
  {
   "cell_type": "code",
   "execution_count": null,
   "metadata": {},
   "outputs": [],
   "source": [
    "df_key3 = pd.get_dummies(df_key2['genre'])\n",
    "df_key3.head()\n"
   ]
  },
  {
   "cell_type": "code",
   "execution_count": null,
   "metadata": {},
   "outputs": [],
   "source": []
  },
  {
   "cell_type": "code",
   "execution_count": null,
   "metadata": {},
   "outputs": [],
   "source": []
  },
  {
   "cell_type": "code",
   "execution_count": null,
   "metadata": {},
   "outputs": [],
   "source": [
    "#take the name before ':' and just leave the number after ':' in the genre column, creating new columns with the name of the genre\n",
    "df_key5 = df_key.join(df_key['genres'].str.split(':', expand=True).stack().reset_index(level=1, drop=True).rename('genre2'))\n",
    "\n",
    "#drop the genre column\n",
    "df_key5 = df_key5.drop('genres', axis=1)\n",
    " \n",
    "#drop the rows with NaN values\n",
    "df_key5 = df_key5.dropna()\n",
    "\n",
    "#show head of df_key5\n",
    "df_key5.head(20)\n",
    "\n",
    "\n",
    "\n"
   ]
  },
  {
   "cell_type": "code",
   "execution_count": null,
   "metadata": {},
   "outputs": [],
   "source": [
    "#creating a graph object\n",
    "G = nx.Graph()\n"
   ]
  },
  {
   "cell_type": "code",
   "execution_count": null,
   "metadata": {},
   "outputs": [],
   "source": [
    "#adding nodes to the graph\n",
    "for key in df_key['id']:\n",
    "    G.add_node(id)\n"
   ]
  },
  {
   "cell_type": "code",
   "execution_count": null,
   "metadata": {},
   "outputs": [],
   "source": [
    "#list nodes in G\n",
    "G.nodes()"
   ]
  },
  {
   "cell_type": "code",
   "execution_count": null,
   "metadata": {},
   "outputs": [],
   "source": [
    "#adding edges to the graph\n",
    "for i, row in df_edges.iterrows():\n",
    "    source = row['from']\n",
    "    target = row['to']\n",
    "    G.add_edge(source, target)\n"
   ]
  },
  {
   "cell_type": "code",
   "execution_count": null,
   "metadata": {},
   "outputs": [],
   "source": [
    "print(nx.is_connected(G))"
   ]
  },
  {
   "cell_type": "code",
   "execution_count": null,
   "metadata": {},
   "outputs": [],
   "source": [
    "#the graph is not connected\n",
    "connected_components = list(nx.connected_components(G))"
   ]
  },
  {
   "cell_type": "code",
   "execution_count": null,
   "metadata": {},
   "outputs": [],
   "source": [
    "#export graph to gexf\n",
    "nx.write_gexf(G, 'imdb_actor_edges.gexf')"
   ]
  },
  {
   "cell_type": "code",
   "execution_count": null,
   "metadata": {},
   "outputs": [],
   "source": []
  },
  {
   "cell_type": "code",
   "execution_count": null,
   "metadata": {},
   "outputs": [],
   "source": []
  },
  {
   "cell_type": "code",
   "execution_count": null,
   "metadata": {},
   "outputs": [],
   "source": [
    "#add edges from df_edges\n",
    "edges = nx.from_pandas_edgelist(df_edges, 'from', 'to', 'weight')\n",
    "\n",
    "#add nodes from df_key\n",
    "nodes = nx.from_pandas_edgelist(df_key, 'id', 'name')"
   ]
  },
  {
   "cell_type": "code",
   "execution_count": null,
   "metadata": {},
   "outputs": [],
   "source": [
    "#make graph g1 by adding nodes and edges and connecting them\n",
    "g1 = nx.Graph()\n",
    "g1.add_nodes_from(nodes)\n",
    "g1.add_edges_from(edges.edges)\n",
    "g1.add_nodes_from(df_key['id'])\n",
    "\n",
    " "
   ]
  },
  {
   "cell_type": "code",
   "execution_count": null,
   "metadata": {},
   "outputs": [],
   "source": [
    "#connect graph to itself\n",
    "g1.add_edges_from(g1.edges())"
   ]
  },
  {
   "cell_type": "code",
   "execution_count": null,
   "metadata": {},
   "outputs": [],
   "source": [
    "#show graph\n",
    "nx.draw(g1, with_labels=True)"
   ]
  },
  {
   "cell_type": "code",
   "execution_count": null,
   "metadata": {},
   "outputs": [],
   "source": [
    "#show graph info\n",
    "print(nx.info(G))\n"
   ]
  },
  {
   "cell_type": "code",
   "execution_count": null,
   "metadata": {},
   "outputs": [],
   "source": [
    "\n",
    "#show graph density\n",
    "print(nx.density(G))\n"
   ]
  },
  {
   "cell_type": "code",
   "execution_count": null,
   "metadata": {},
   "outputs": [],
   "source": [
    "\n",
    "#show graph diameter\n",
    "print(nx.diameter(G))\n"
   ]
  },
  {
   "cell_type": "code",
   "execution_count": null,
   "metadata": {},
   "outputs": [],
   "source": [
    "\n",
    "#show graph average shortest path length\n",
    "print(nx.average_shortest_path_length(G))\n",
    " \n"
   ]
  },
  {
   "cell_type": "code",
   "execution_count": null,
   "metadata": {},
   "outputs": [],
   "source": [
    "#show graph average clustering coefficient\n",
    "print(nx.average_clustering(G))\n"
   ]
  },
  {
   "cell_type": "code",
   "execution_count": null,
   "metadata": {},
   "outputs": [],
   "source": [
    "\n",
    "#show graph average degree\n",
    "print(np.mean(list(dict(G.degree()).values())))\n"
   ]
  },
  {
   "cell_type": "code",
   "execution_count": null,
   "metadata": {},
   "outputs": [],
   "source": [
    "\n",
    "#show graph average degree centrality\n",
    "print(np.mean(list(nx.degree_centrality(G).values())))\n"
   ]
  },
  {
   "cell_type": "code",
   "execution_count": null,
   "metadata": {},
   "outputs": [],
   "source": [
    "\n",
    "#show graph average closeness centrality\n",
    "print(np.mean(list(nx.closeness_centrality(G).values())))\n"
   ]
  },
  {
   "cell_type": "code",
   "execution_count": null,
   "metadata": {},
   "outputs": [],
   "source": [
    "\n",
    "#show graph average betweenness centrality\n",
    "print(np.mean(list(nx.betweenness_centrality(G).values())))\n"
   ]
  },
  {
   "cell_type": "code",
   "execution_count": null,
   "metadata": {},
   "outputs": [],
   "source": [
    "\n",
    "#show graph average eigenvector centrality\n",
    "print(np.mean(list(nx.eigenvector_centrality(G).values())))\n"
   ]
  },
  {
   "cell_type": "code",
   "execution_count": null,
   "metadata": {},
   "outputs": [],
   "source": [
    "\n",
    "#show graph average pagerank\n",
    "print(np.mean(list(nx.pagerank(G).values())))\n"
   ]
  },
  {
   "cell_type": "code",
   "execution_count": null,
   "metadata": {},
   "outputs": [],
   "source": [
    "\n",
    "#show graph average katz centrality\n",
    "print(np.mean(list(nx.katz_centrality(G).values())))\n"
   ]
  },
  {
   "cell_type": "code",
   "execution_count": null,
   "metadata": {},
   "outputs": [],
   "source": [
    "\n",
    "#show graph average harmonic centrality\n",
    "print(np.mean(list(nx.harmonic_centrality(G).values())))\n"
   ]
  },
  {
   "cell_type": "code",
   "execution_count": null,
   "metadata": {},
   "outputs": [],
   "source": [
    "\n",
    "#show graph average communicability centrality\n",
    "print(np.mean(list(nx.communicability_centrality(G).values())))\n"
   ]
  },
  {
   "cell_type": "code",
   "execution_count": null,
   "metadata": {},
   "outputs": [],
   "source": []
  },
  {
   "cell_type": "code",
   "execution_count": null,
   "metadata": {},
   "outputs": [],
   "source": []
  },
  {
   "attachments": {},
   "cell_type": "markdown",
   "metadata": {},
   "source": [
    "# Degree distribution\n",
    "\n",
    "Analyse the degree distribution. Compute the total degree distribution.\n",
    "\n",
    "**3) How does this distributions look like?**\n"
   ]
  },
  {
   "cell_type": "code",
   "execution_count": null,
   "metadata": {},
   "outputs": [],
   "source": []
  },
  {
   "attachments": {},
   "cell_type": "markdown",
   "metadata": {},
   "source": [
    "\n",
    "**4) What is the maximum degree?**\n",
    "\n"
   ]
  },
  {
   "cell_type": "code",
   "execution_count": null,
   "metadata": {},
   "outputs": [],
   "source": []
  },
  {
   "attachments": {},
   "cell_type": "markdown",
   "metadata": {},
   "source": [
    "**5) What is the minum degree?**"
   ]
  },
  {
   "cell_type": "code",
   "execution_count": null,
   "metadata": {},
   "outputs": [],
   "source": []
  },
  {
   "attachments": {},
   "cell_type": "markdown",
   "metadata": {},
   "source": [
    "# Network Diameter and Average Path Length\n",
    "\n",
    "You have functions in igraph to calculate the diameter and the average path length. Think if you should consider the weights, the directions, etc.\n",
    "\n",
    "**6) What is the diameter of the graph?**\n",
    "\n"
   ]
  },
  {
   "cell_type": "code",
   "execution_count": null,
   "metadata": {},
   "outputs": [],
   "source": []
  },
  {
   "attachments": {},
   "cell_type": "markdown",
   "metadata": {},
   "source": [
    "**7) What is the avg path length of the graph?**"
   ]
  },
  {
   "cell_type": "code",
   "execution_count": null,
   "metadata": {},
   "outputs": [],
   "source": []
  },
  {
   "cell_type": "markdown",
   "metadata": {},
   "source": [
    "# Node importance: Centrality measures\n",
    "\n",
    "(Optional but recommended): Obtain the distribution of the number of movies made by an actor and the number of genres in which an actor starred in. It may be useful to analyze and discuss the results to be obtained in the following exercises."
   ]
  },
  {
   "cell_type": "code",
   "execution_count": null,
   "metadata": {},
   "outputs": [],
   "source": []
  },
  {
   "cell_type": "markdown",
   "metadata": {},
   "source": [
    "Obtain three vectors with the degree, betweeness and closeness for each vertex of the actors' graph."
   ]
  },
  {
   "cell_type": "code",
   "execution_count": null,
   "metadata": {},
   "outputs": [],
   "source": []
  },
  {
   "attachments": {},
   "cell_type": "markdown",
   "metadata": {},
   "source": [
    "Obtain the list of the 20 actors with the largest degree centrality. It can be useful to show a list with the degree, the name of the actor, the number of movies, the main genre, and the number of genres in which the actor has participated.\n",
    "\n",
    "**8) Who is the actor with highest degree centrality?**\n",
    "\n"
   ]
  },
  {
   "cell_type": "code",
   "execution_count": null,
   "metadata": {},
   "outputs": [],
   "source": []
  },
  {
   "attachments": {},
   "cell_type": "markdown",
   "metadata": {},
   "source": [
    "**9) How do you explain the high degree of the top-20 list??**"
   ]
  },
  {
   "cell_type": "code",
   "execution_count": null,
   "metadata": {},
   "outputs": [],
   "source": []
  },
  {
   "attachments": {},
   "cell_type": "markdown",
   "metadata": {},
   "source": [
    "Obtain the list of the 20 actors with the largest betweenness centrality. Show a list with the betweenness, the name of the actor, the number of movies, the main genre, and the number of genres in which the actor has participated.\n",
    "\n",
    "**10) Who is the actor with highest betweenes?**\n",
    "\n"
   ]
  },
  {
   "cell_type": "code",
   "execution_count": null,
   "metadata": {},
   "outputs": [],
   "source": []
  },
  {
   "attachments": {},
   "cell_type": "markdown",
   "metadata": {},
   "source": [
    "**11) How do you explain the high betweenness of the top-20 list?**"
   ]
  },
  {
   "cell_type": "code",
   "execution_count": null,
   "metadata": {},
   "outputs": [],
   "source": []
  },
  {
   "attachments": {},
   "cell_type": "markdown",
   "metadata": {},
   "source": [
    "Obtain the list of the 20 actors with the largest closeness centrality. Show a list with the closeness the name of the actor, the number of movies, the main genre, and the number of genres in which the actor has participated.\n",
    "\n",
    "**12) Who is the actor with highest closeness centrality?**\n",
    "\n"
   ]
  },
  {
   "cell_type": "code",
   "execution_count": null,
   "metadata": {},
   "outputs": [],
   "source": []
  },
  {
   "attachments": {},
   "cell_type": "markdown",
   "metadata": {},
   "source": [
    "**13) How do you explain the high closeness of the top-20 list?**"
   ]
  },
  {
   "cell_type": "code",
   "execution_count": null,
   "metadata": {},
   "outputs": [],
   "source": []
  }
 ],
 "metadata": {
  "kernelspec": {
   "display_name": "Python 3",
   "language": "python",
   "name": "python3"
  },
  "language_info": {
   "codemirror_mode": {
    "name": "ipython",
    "version": 3
   },
   "file_extension": ".py",
   "mimetype": "text/x-python",
   "name": "python",
   "nbconvert_exporter": "python",
   "pygments_lexer": "ipython3",
   "version": "3.10.9"
  }
 },
 "nbformat": 4,
 "nbformat_minor": 4
}
