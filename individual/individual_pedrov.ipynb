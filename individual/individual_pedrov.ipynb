{
 "cells": [
  {
   "cell_type": "markdown",
   "metadata": {},
   "source": [
    "# Instructions\n",
    "On this first assignment, applying the basic functions of the Igraph package is required. The following datasets are going to be used:\n",
    "\n",
    "* Actors dataset - undirected graph - : For the 2005 Graph Drawing conference a data set was provided of the IMDB movie database. We will use a reduced version of this dataset, which derived all actor-actor collaboration edges where the actors co-starred in at least 2 movies together between 1995 and 2004. \n",
    "\n",
    "\n",
    "You have to complete the code chunks in this document but also analyze the results, extract insights and answer the short questions. Fill the CSV attached with your answers, sometimes just the number is enough, some others just a small sentence or paragraph. Remember to change the header with your email.\n",
    "\n",
    "In your submission please upload both this document in HTML and the CSV with the solutions.\n",
    "\n",
    "\n",
    "# Loading data\n",
    "\n",
    "In this section, the goal is loading the datasets given, building the graph and analyzing basics metrics. Include the edge or node attributes you consider.\n",
    "\n",
    "Describe the values provided by summary function on the graph object.\n",
    "\n",
    "**1) How many nodes are there?**\n",
    "\n",
    "**2) How many edges are there?**"
   ]
  },
  {
   "cell_type": "code",
   "execution_count": 2,
   "metadata": {},
   "outputs": [],
   "source": [
    "import networkx as nx\n",
    "import pandas as pd\n",
    "import numpy as np"
   ]
  },
  {
   "cell_type": "code",
   "execution_count": 47,
   "metadata": {},
   "outputs": [],
   "source": [
    "#import tsv using pandas\n",
    "df_edges = pd.read_csv('imdb_actor_edges.tsv', sep='\\t')"
   ]
  },
  {
   "cell_type": "code",
   "execution_count": 48,
   "metadata": {},
   "outputs": [
    {
     "data": {
      "text/html": [
       "<div>\n",
       "<style scoped>\n",
       "    .dataframe tbody tr th:only-of-type {\n",
       "        vertical-align: middle;\n",
       "    }\n",
       "\n",
       "    .dataframe tbody tr th {\n",
       "        vertical-align: top;\n",
       "    }\n",
       "\n",
       "    .dataframe thead th {\n",
       "        text-align: right;\n",
       "    }\n",
       "</style>\n",
       "<table border=\"1\" class=\"dataframe\">\n",
       "  <thead>\n",
       "    <tr style=\"text-align: right;\">\n",
       "      <th></th>\n",
       "      <th>from</th>\n",
       "      <th>to</th>\n",
       "      <th>weight</th>\n",
       "    </tr>\n",
       "  </thead>\n",
       "  <tbody>\n",
       "    <tr>\n",
       "      <th>0</th>\n",
       "      <td>17776</td>\n",
       "      <td>17778</td>\n",
       "      <td>6</td>\n",
       "    </tr>\n",
       "    <tr>\n",
       "      <th>1</th>\n",
       "      <td>5578</td>\n",
       "      <td>9770</td>\n",
       "      <td>3</td>\n",
       "    </tr>\n",
       "    <tr>\n",
       "      <th>2</th>\n",
       "      <td>5578</td>\n",
       "      <td>929</td>\n",
       "      <td>2</td>\n",
       "    </tr>\n",
       "    <tr>\n",
       "      <th>3</th>\n",
       "      <td>5578</td>\n",
       "      <td>9982</td>\n",
       "      <td>2</td>\n",
       "    </tr>\n",
       "    <tr>\n",
       "      <th>4</th>\n",
       "      <td>1835</td>\n",
       "      <td>6278</td>\n",
       "      <td>2</td>\n",
       "    </tr>\n",
       "  </tbody>\n",
       "</table>\n",
       "</div>"
      ],
      "text/plain": [
       "    from     to  weight\n",
       "0  17776  17778       6\n",
       "1   5578   9770       3\n",
       "2   5578    929       2\n",
       "3   5578   9982       2\n",
       "4   1835   6278       2"
      ]
     },
     "execution_count": 48,
     "metadata": {},
     "output_type": "execute_result"
    }
   ],
   "source": [
    "#show head of df_edges\n",
    "df_edges.head()"
   ]
  },
  {
   "cell_type": "code",
   "execution_count": 49,
   "metadata": {},
   "outputs": [],
   "source": [
    "df_key = pd.read_csv('imdb_actors_key.tsv', sep='\\t', encoding='latin-1')\n"
   ]
  },
  {
   "cell_type": "code",
   "execution_count": 50,
   "metadata": {},
   "outputs": [
    {
     "data": {
      "text/html": [
       "<div>\n",
       "<style scoped>\n",
       "    .dataframe tbody tr th:only-of-type {\n",
       "        vertical-align: middle;\n",
       "    }\n",
       "\n",
       "    .dataframe tbody tr th {\n",
       "        vertical-align: top;\n",
       "    }\n",
       "\n",
       "    .dataframe thead th {\n",
       "        text-align: right;\n",
       "    }\n",
       "</style>\n",
       "<table border=\"1\" class=\"dataframe\">\n",
       "  <thead>\n",
       "    <tr style=\"text-align: right;\">\n",
       "      <th></th>\n",
       "      <th>id</th>\n",
       "      <th>name</th>\n",
       "      <th>movies_95_04</th>\n",
       "      <th>main_genre</th>\n",
       "      <th>genres</th>\n",
       "    </tr>\n",
       "  </thead>\n",
       "  <tbody>\n",
       "    <tr>\n",
       "      <th>0</th>\n",
       "      <td>15629</td>\n",
       "      <td>Rudder, Michael (I)</td>\n",
       "      <td>12</td>\n",
       "      <td>Thriller</td>\n",
       "      <td>Action:1,Comedy:1,Drama:1,Fantasy:1,Horror:1,N...</td>\n",
       "    </tr>\n",
       "    <tr>\n",
       "      <th>1</th>\n",
       "      <td>5026</td>\n",
       "      <td>Morgan, Debbi</td>\n",
       "      <td>16</td>\n",
       "      <td>Drama</td>\n",
       "      <td>Comedy:2,Documentary:1,Drama:6,Horror:2,NULL:3...</td>\n",
       "    </tr>\n",
       "    <tr>\n",
       "      <th>2</th>\n",
       "      <td>11252</td>\n",
       "      <td>Bellows, Gil</td>\n",
       "      <td>33</td>\n",
       "      <td>Drama</td>\n",
       "      <td>Comedy:6,Documentary:1,Drama:7,Family:1,Fantas...</td>\n",
       "    </tr>\n",
       "    <tr>\n",
       "      <th>3</th>\n",
       "      <td>5150</td>\n",
       "      <td>Dray, Albert</td>\n",
       "      <td>20</td>\n",
       "      <td>Comedy</td>\n",
       "      <td>Comedy:6,Crime:1,Documentary:1,Drama:4,NULL:5,...</td>\n",
       "    </tr>\n",
       "    <tr>\n",
       "      <th>4</th>\n",
       "      <td>4057</td>\n",
       "      <td>Daly, Shane (I)</td>\n",
       "      <td>18</td>\n",
       "      <td>Drama</td>\n",
       "      <td>Comedy:2,Crime:1,Drama:7,Horror:1,Music:1,Musi...</td>\n",
       "    </tr>\n",
       "  </tbody>\n",
       "</table>\n",
       "</div>"
      ],
      "text/plain": [
       "      id                 name  movies_95_04 main_genre  \\\n",
       "0  15629  Rudder, Michael (I)            12   Thriller   \n",
       "1   5026        Morgan, Debbi            16      Drama   \n",
       "2  11252         Bellows, Gil            33      Drama   \n",
       "3   5150         Dray, Albert            20     Comedy   \n",
       "4   4057      Daly, Shane (I)            18      Drama   \n",
       "\n",
       "                                              genres  \n",
       "0  Action:1,Comedy:1,Drama:1,Fantasy:1,Horror:1,N...  \n",
       "1  Comedy:2,Documentary:1,Drama:6,Horror:2,NULL:3...  \n",
       "2  Comedy:6,Documentary:1,Drama:7,Family:1,Fantas...  \n",
       "3  Comedy:6,Crime:1,Documentary:1,Drama:4,NULL:5,...  \n",
       "4  Comedy:2,Crime:1,Drama:7,Horror:1,Music:1,Musi...  "
      ]
     },
     "execution_count": 50,
     "metadata": {},
     "output_type": "execute_result"
    }
   ],
   "source": [
    "df_key.head()"
   ]
  },
  {
   "cell_type": "code",
   "execution_count": 52,
   "metadata": {},
   "outputs": [],
   "source": [
    "#add edges from df_edges\n",
    "edges = nx.from_pandas_edgelist(df_edges, 'from', 'to', 'weight')\n",
    "\n",
    "#add nodes from df_key\n",
    "nodes = nx.from_pandas_edgelist(df_key, 'id', 'name')"
   ]
  },
  {
   "cell_type": "code",
   "execution_count": 53,
   "metadata": {},
   "outputs": [],
   "source": [
    "#make graph g1 by adding nodes and edges and connecting them\n",
    "g1 = nx.Graph()\n",
    "g1.add_nodes_from(nodes)\n",
    "g1.add_edges_from(edges.edges)\n",
    "g1.add_nodes_from(df_key['id'])\n",
    "\n",
    " "
   ]
  },
  {
   "cell_type": "code",
   "execution_count": 55,
   "metadata": {},
   "outputs": [],
   "source": [
    "#connect graph to itself\n",
    "g1.add_edges_from(g1.edges())"
   ]
  },
  {
   "cell_type": "code",
   "execution_count": 56,
   "metadata": {},
   "outputs": [
    {
     "ename": "TypeError",
     "evalue": "'_AxesStack' object is not callable",
     "output_type": "error",
     "traceback": [
      "\u001b[1;31m---------------------------------------------------------------------------\u001b[0m",
      "\u001b[1;31mTypeError\u001b[0m                                 Traceback (most recent call last)",
      "Cell \u001b[1;32mIn[56], line 2\u001b[0m\n\u001b[0;32m      1\u001b[0m \u001b[39m#show graph\u001b[39;00m\n\u001b[1;32m----> 2\u001b[0m nx\u001b[39m.\u001b[39;49mdraw(g1, with_labels\u001b[39m=\u001b[39;49m\u001b[39mTrue\u001b[39;49;00m)\n",
      "File \u001b[1;32mc:\\Users\\pedro\\anaconda3\\lib\\site-packages\\networkx\\drawing\\nx_pylab.py:113\u001b[0m, in \u001b[0;36mdraw\u001b[1;34m(G, pos, ax, **kwds)\u001b[0m\n\u001b[0;32m    111\u001b[0m cf\u001b[39m.\u001b[39mset_facecolor(\u001b[39m\"\u001b[39m\u001b[39mw\u001b[39m\u001b[39m\"\u001b[39m)\n\u001b[0;32m    112\u001b[0m \u001b[39mif\u001b[39;00m ax \u001b[39mis\u001b[39;00m \u001b[39mNone\u001b[39;00m:\n\u001b[1;32m--> 113\u001b[0m     \u001b[39mif\u001b[39;00m cf\u001b[39m.\u001b[39;49m_axstack() \u001b[39mis\u001b[39;00m \u001b[39mNone\u001b[39;00m:\n\u001b[0;32m    114\u001b[0m         ax \u001b[39m=\u001b[39m cf\u001b[39m.\u001b[39madd_axes((\u001b[39m0\u001b[39m, \u001b[39m0\u001b[39m, \u001b[39m1\u001b[39m, \u001b[39m1\u001b[39m))\n\u001b[0;32m    115\u001b[0m     \u001b[39melse\u001b[39;00m:\n",
      "\u001b[1;31mTypeError\u001b[0m: '_AxesStack' object is not callable"
     ]
    },
    {
     "data": {
      "text/plain": [
       "<Figure size 640x480 with 0 Axes>"
      ]
     },
     "metadata": {},
     "output_type": "display_data"
    }
   ],
   "source": [
    "#show graph\n",
    "nx.draw(g1, with_labels=True)"
   ]
  },
  {
   "cell_type": "code",
   "execution_count": 13,
   "metadata": {},
   "outputs": [
    {
     "name": "stdout",
     "output_type": "stream",
     "text": [
      "Graph with 17577 nodes and 287074 edges\n"
     ]
    },
    {
     "name": "stderr",
     "output_type": "stream",
     "text": [
      "C:\\Users\\pedro\\AppData\\Local\\Temp\\ipykernel_19988\\2514877548.py:2: DeprecationWarning: info is deprecated and will be removed in version 3.0.\n",
      "\n",
      "  print(nx.info(G))\n"
     ]
    }
   ],
   "source": [
    "#show graph info\n",
    "print(nx.info(G))\n"
   ]
  },
  {
   "cell_type": "code",
   "execution_count": 14,
   "metadata": {},
   "outputs": [
    {
     "name": "stdout",
     "output_type": "stream",
     "text": [
      "0.001858484997760941\n"
     ]
    }
   ],
   "source": [
    "\n",
    "#show graph density\n",
    "print(nx.density(G))\n"
   ]
  },
  {
   "cell_type": "code",
   "execution_count": 15,
   "metadata": {},
   "outputs": [
    {
     "ename": "NetworkXError",
     "evalue": "Found infinite path length because the graph is not connected",
     "output_type": "error",
     "traceback": [
      "\u001b[1;31m---------------------------------------------------------------------------\u001b[0m",
      "\u001b[1;31mNetworkXError\u001b[0m                             Traceback (most recent call last)",
      "Cell \u001b[1;32mIn[15], line 2\u001b[0m\n\u001b[0;32m      1\u001b[0m \u001b[39m#show graph diameter\u001b[39;00m\n\u001b[1;32m----> 2\u001b[0m \u001b[39mprint\u001b[39m(nx\u001b[39m.\u001b[39;49mdiameter(G))\n",
      "File \u001b[1;32mc:\\Users\\pedro\\anaconda3\\lib\\site-packages\\networkx\\algorithms\\distance_measures.py:388\u001b[0m, in \u001b[0;36mdiameter\u001b[1;34m(G, e, usebounds)\u001b[0m\n\u001b[0;32m    386\u001b[0m     \u001b[39mreturn\u001b[39;00m _extrema_bounding(G, compute\u001b[39m=\u001b[39m\u001b[39m\"\u001b[39m\u001b[39mdiameter\u001b[39m\u001b[39m\"\u001b[39m)\n\u001b[0;32m    387\u001b[0m \u001b[39mif\u001b[39;00m e \u001b[39mis\u001b[39;00m \u001b[39mNone\u001b[39;00m:\n\u001b[1;32m--> 388\u001b[0m     e \u001b[39m=\u001b[39m eccentricity(G)\n\u001b[0;32m    389\u001b[0m \u001b[39mreturn\u001b[39;00m \u001b[39mmax\u001b[39m(e\u001b[39m.\u001b[39mvalues())\n",
      "File \u001b[1;32mc:\\Users\\pedro\\anaconda3\\lib\\site-packages\\networkx\\algorithms\\distance_measures.py:347\u001b[0m, in \u001b[0;36meccentricity\u001b[1;34m(G, v, sp)\u001b[0m\n\u001b[0;32m    345\u001b[0m         \u001b[39melse\u001b[39;00m:\n\u001b[0;32m    346\u001b[0m             msg \u001b[39m=\u001b[39m \u001b[39m\"\u001b[39m\u001b[39mFound infinite path length because the graph is not\u001b[39m\u001b[39m\"\u001b[39m \u001b[39m\"\u001b[39m\u001b[39m connected\u001b[39m\u001b[39m\"\u001b[39m\n\u001b[1;32m--> 347\u001b[0m         \u001b[39mraise\u001b[39;00m nx\u001b[39m.\u001b[39mNetworkXError(msg)\n\u001b[0;32m    349\u001b[0m     e[n] \u001b[39m=\u001b[39m \u001b[39mmax\u001b[39m(length\u001b[39m.\u001b[39mvalues())\n\u001b[0;32m    351\u001b[0m \u001b[39mif\u001b[39;00m v \u001b[39min\u001b[39;00m G:\n",
      "\u001b[1;31mNetworkXError\u001b[0m: Found infinite path length because the graph is not connected"
     ]
    }
   ],
   "source": [
    "\n",
    "#show graph diameter\n",
    "print(nx.diameter(G))\n"
   ]
  },
  {
   "cell_type": "code",
   "execution_count": 16,
   "metadata": {},
   "outputs": [
    {
     "ename": "NetworkXError",
     "evalue": "Graph is not connected.",
     "output_type": "error",
     "traceback": [
      "\u001b[1;31m---------------------------------------------------------------------------\u001b[0m",
      "\u001b[1;31mNetworkXError\u001b[0m                             Traceback (most recent call last)",
      "Cell \u001b[1;32mIn[16], line 2\u001b[0m\n\u001b[0;32m      1\u001b[0m \u001b[39m#show graph average shortest path length\u001b[39;00m\n\u001b[1;32m----> 2\u001b[0m \u001b[39mprint\u001b[39m(nx\u001b[39m.\u001b[39;49maverage_shortest_path_length(G))\n",
      "File \u001b[1;32mc:\\Users\\pedro\\anaconda3\\lib\\site-packages\\networkx\\algorithms\\shortest_paths\\generic.py:404\u001b[0m, in \u001b[0;36maverage_shortest_path_length\u001b[1;34m(G, weight, method)\u001b[0m\n\u001b[0;32m    402\u001b[0m     \u001b[39mraise\u001b[39;00m nx\u001b[39m.\u001b[39mNetworkXError(\u001b[39m\"\u001b[39m\u001b[39mGraph is not weakly connected.\u001b[39m\u001b[39m\"\u001b[39m)\n\u001b[0;32m    403\u001b[0m \u001b[39mif\u001b[39;00m \u001b[39mnot\u001b[39;00m G\u001b[39m.\u001b[39mis_directed() \u001b[39mand\u001b[39;00m \u001b[39mnot\u001b[39;00m nx\u001b[39m.\u001b[39mis_connected(G):\n\u001b[1;32m--> 404\u001b[0m     \u001b[39mraise\u001b[39;00m nx\u001b[39m.\u001b[39mNetworkXError(\u001b[39m\"\u001b[39m\u001b[39mGraph is not connected.\u001b[39m\u001b[39m\"\u001b[39m)\n\u001b[0;32m    406\u001b[0m \u001b[39m# Compute all-pairs shortest paths.\u001b[39;00m\n\u001b[0;32m    407\u001b[0m \u001b[39mdef\u001b[39;00m \u001b[39mpath_length\u001b[39m(v):\n",
      "\u001b[1;31mNetworkXError\u001b[0m: Graph is not connected."
     ]
    }
   ],
   "source": [
    "\n",
    "#show graph average shortest path length\n",
    "print(nx.average_shortest_path_length(G))\n",
    " \n"
   ]
  },
  {
   "cell_type": "code",
   "execution_count": null,
   "metadata": {},
   "outputs": [],
   "source": [
    "#show graph average clustering coefficient\n",
    "print(nx.average_clustering(G))\n"
   ]
  },
  {
   "cell_type": "code",
   "execution_count": null,
   "metadata": {},
   "outputs": [],
   "source": [
    "\n",
    "#show graph average degree\n",
    "print(np.mean(list(dict(G.degree()).values())))\n"
   ]
  },
  {
   "cell_type": "code",
   "execution_count": null,
   "metadata": {},
   "outputs": [],
   "source": [
    "\n",
    "#show graph average degree centrality\n",
    "print(np.mean(list(nx.degree_centrality(G).values())))\n"
   ]
  },
  {
   "cell_type": "code",
   "execution_count": null,
   "metadata": {},
   "outputs": [],
   "source": [
    "\n",
    "#show graph average closeness centrality\n",
    "print(np.mean(list(nx.closeness_centrality(G).values())))\n"
   ]
  },
  {
   "cell_type": "code",
   "execution_count": null,
   "metadata": {},
   "outputs": [],
   "source": [
    "\n",
    "#show graph average betweenness centrality\n",
    "print(np.mean(list(nx.betweenness_centrality(G).values())))\n"
   ]
  },
  {
   "cell_type": "code",
   "execution_count": null,
   "metadata": {},
   "outputs": [],
   "source": [
    "\n",
    "#show graph average eigenvector centrality\n",
    "print(np.mean(list(nx.eigenvector_centrality(G).values())))\n"
   ]
  },
  {
   "cell_type": "code",
   "execution_count": null,
   "metadata": {},
   "outputs": [],
   "source": [
    "\n",
    "#show graph average pagerank\n",
    "print(np.mean(list(nx.pagerank(G).values())))\n"
   ]
  },
  {
   "cell_type": "code",
   "execution_count": null,
   "metadata": {},
   "outputs": [],
   "source": [
    "\n",
    "#show graph average katz centrality\n",
    "print(np.mean(list(nx.katz_centrality(G).values())))\n"
   ]
  },
  {
   "cell_type": "code",
   "execution_count": null,
   "metadata": {},
   "outputs": [],
   "source": [
    "\n",
    "#show graph average harmonic centrality\n",
    "print(np.mean(list(nx.harmonic_centrality(G).values())))\n"
   ]
  },
  {
   "cell_type": "code",
   "execution_count": null,
   "metadata": {},
   "outputs": [],
   "source": [
    "\n",
    "#show graph average communicability centrality\n",
    "print(np.mean(list(nx.communicability_centrality(G).values())))\n"
   ]
  },
  {
   "cell_type": "code",
   "execution_count": null,
   "metadata": {},
   "outputs": [],
   "source": []
  },
  {
   "cell_type": "code",
   "execution_count": null,
   "metadata": {},
   "outputs": [],
   "source": []
  },
  {
   "cell_type": "markdown",
   "metadata": {},
   "source": [
    "# Degree distribution\n",
    "\n",
    "Analyse the degree distribution. Compute the total degree distribution.\n",
    "\n",
    "**3) How does this distributions look like?**\n",
    "\n",
    "**4) What is the maximum degree?**\n",
    "\n",
    "**5) What is the minum degree?**"
   ]
  },
  {
   "cell_type": "code",
   "execution_count": null,
   "metadata": {},
   "outputs": [],
   "source": []
  },
  {
   "cell_type": "markdown",
   "metadata": {},
   "source": [
    "# Network Diameter and Average Path Length\n",
    "\n",
    "You have functions in igraph to calculate the diameter and the average path length. Think if you should consider the weights, the directions, etc.\n",
    "\n",
    "**6) What is the diameter of the graph?**\n",
    "\n",
    "**7) What is the avg path length of the graph?**"
   ]
  },
  {
   "cell_type": "code",
   "execution_count": null,
   "metadata": {},
   "outputs": [],
   "source": []
  },
  {
   "cell_type": "markdown",
   "metadata": {},
   "source": [
    "# Node importance: Centrality measures\n",
    "\n",
    "(Optional but recommended): Obtain the distribution of the number of movies made by an actor and the number of genres in which an actor starred in. It may be useful to analyze and discuss the results to be obtained in the following exercises."
   ]
  },
  {
   "cell_type": "code",
   "execution_count": null,
   "metadata": {},
   "outputs": [],
   "source": []
  },
  {
   "cell_type": "markdown",
   "metadata": {},
   "source": [
    "Obtain three vectors with the degree, betweeness and closeness for each vertex of the actors' graph."
   ]
  },
  {
   "cell_type": "code",
   "execution_count": null,
   "metadata": {},
   "outputs": [],
   "source": []
  },
  {
   "cell_type": "markdown",
   "metadata": {},
   "source": [
    "Obtain the list of the 20 actors with the largest degree centrality. It can be useful to show a list with the degree, the name of the actor, the number of movies, the main genre, and the number of genres in which the actor has participated.\n",
    "\n",
    "**8) Who is the actor with highest degree centrality?**\n",
    "\n",
    "**9) How do you explain the high degree of the top-20 list??**"
   ]
  },
  {
   "cell_type": "code",
   "execution_count": null,
   "metadata": {},
   "outputs": [],
   "source": []
  },
  {
   "cell_type": "markdown",
   "metadata": {},
   "source": [
    "Obtain the list of the 20 actors with the largest betweenness centrality. Show a list with the betweenness, the name of the actor, the number of movies, the main genre, and the number of genres in which the actor has participated.\n",
    "\n",
    "**10) Who is the actor with highest betweenes?**\n",
    "\n",
    "**11) How do you explain the high betweenness of the top-20 list?**"
   ]
  },
  {
   "cell_type": "code",
   "execution_count": null,
   "metadata": {},
   "outputs": [],
   "source": []
  },
  {
   "cell_type": "markdown",
   "metadata": {},
   "source": [
    "Obtain the list of the 20 actors with the largest closeness centrality. Show a list with the closeness the name of the actor, the number of movies, the main genre, and the number of genres in which the actor has participated.\n",
    "\n",
    "**12) Who is the actor with highest closeness centrality?**\n",
    "\n",
    "**13) How do you explain the high closeness of the top-20 list?**"
   ]
  },
  {
   "cell_type": "code",
   "execution_count": null,
   "metadata": {},
   "outputs": [],
   "source": []
  }
 ],
 "metadata": {
  "kernelspec": {
   "display_name": "Python 3",
   "language": "python",
   "name": "python3"
  },
  "language_info": {
   "codemirror_mode": {
    "name": "ipython",
    "version": 3
   },
   "file_extension": ".py",
   "mimetype": "text/x-python",
   "name": "python",
   "nbconvert_exporter": "python",
   "pygments_lexer": "ipython3",
   "version": "3.10.9"
  }
 },
 "nbformat": 4,
 "nbformat_minor": 4
}
