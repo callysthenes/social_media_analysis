{
  "cells": [
    {
      "cell_type": "code",
      "execution_count": 2,
      "metadata": {
        "id": "mSRcswVleUku"
      },
      "outputs": [
        {
          "name": "stdout",
          "output_type": "stream",
          "text": [
            "Requirement already satisfied: python-igraph in c:\\users\\pedro\\github\\social_media_analysis\\.conda\\lib\\site-packages (0.10.4)\n",
            "Requirement already satisfied: igraph==0.10.4 in c:\\users\\pedro\\github\\social_media_analysis\\.conda\\lib\\site-packages (from python-igraph) (0.10.4)\n",
            "Requirement already satisfied: texttable>=1.6.2 in c:\\users\\pedro\\github\\social_media_analysis\\.conda\\lib\\site-packages (from igraph==0.10.4->python-igraph) (1.6.7)\n"
          ]
        },
        {
          "name": "stderr",
          "output_type": "stream",
          "text": [
            "ERROR: Could not find a version that satisfies the requirement libcairo2-dev (from versions: none)\n",
            "ERROR: No matching distribution found for libcairo2-dev\n"
          ]
        },
        {
          "name": "stdout",
          "output_type": "stream",
          "text": [
            "Requirement already satisfied: pycairo in c:\\users\\pedro\\github\\social_media_analysis\\.conda\\lib\\site-packages (1.23.0)\n"
          ]
        }
      ],
      "source": [
        "!pip install python-igraph\n",
        "!pip install libcairo2-dev libjpeg-dev libgif-dev\n",
        "!pip install pycairo"
      ]
    },
    {
      "cell_type": "code",
      "execution_count": 3,
      "metadata": {
        "id": "2GJQo0Qceejn"
      },
      "outputs": [],
      "source": [
        "from igraph import *\n",
        "import cairo\n",
        "import pandas as pd"
      ]
    },
    {
      "cell_type": "markdown",
      "metadata": {
        "id": "G_rpSAF1eRuL"
      },
      "source": [
        "# 1. Networks in igraph\n",
        "\n",
        "**igraph** is a collection of network analysis tools with the emphasis on efficiency, portability and ease of use. igraph is open source and free. igraph can be programmed in R, Python, Mathematica and C/C++. Lessons will cover the igraph python package but feel free to investigate on your own the R package. \n",
        "\n",
        "To install the package you just need to follow this instructions: https://igraph.org/python/doc/tutorial/install.html#installing-igraph-from-the-python-package-index\n",
        "\n",
        "\n",
        "You have the doc for this package here: https://igraph.org/python/doc/api/igraph._igraph.GraphBase.html\n",
        "\n",
        "# 1.1 Create networks\n",
        "\n",
        "First let's install and load the package in order to start from an empty environment."
      ]
    },
    {
      "cell_type": "code",
      "execution_count": 4,
      "metadata": {
        "id": "LXQzPpr3eRuZ"
      },
      "outputs": [],
      "source": [
        "from igraph import *\n",
        "import cairo\n",
        "import pandas as pd"
      ]
    },
    {
      "cell_type": "markdown",
      "metadata": {
        "id": "63fdsz_aeRud"
      },
      "source": [
        "We can generate graphs using the graph function of igraph. It receives the following arguments:\n",
        "\n",
        "* Edges (A vector defining the edges)\n",
        "* n (The number of vertices in the graph)\n",
        "* isolates (names of isolate vertices)\n",
        "* directed (Whether to create a directed graph)\n",
        "* simplify (whether to simplify the graph)\n",
        "\n",
        "Let's start with the simplest one: an undirected graph with three edges.\n",
        "Undirected graphs are for symmetric relationships."
      ]
    },
    {
      "cell_type": "code",
      "execution_count": 5,
      "metadata": {
        "id": "C_bBUpCieRuf"
      },
      "outputs": [],
      "source": [
        "g1 = Graph(edges=[[0,1], [1,2], [2,0]])"
      ]
    },
    {
      "cell_type": "code",
      "execution_count": 6,
      "metadata": {
        "id": "gJBSjThdeRuh"
      },
      "outputs": [
        {
          "data": {
            "image/svg+xml": "<?xml version=\"1.0\" encoding=\"UTF-8\"?>\n<svg xmlns=\"http://www.w3.org/2000/svg\" xmlns:xlink=\"http://www.w3.org/1999/xlink\" width=\"300\" height=\"200\" viewBox=\"0 0 300 200\">\n<rect x=\"-30\" y=\"-20\" width=\"360\" height=\"240\" fill=\"rgb(100%, 100%, 100%)\" fill-opacity=\"1\"/>\n<path fill=\"none\" stroke-width=\"1\" stroke-linecap=\"butt\" stroke-linejoin=\"miter\" stroke=\"rgb(26.666667%, 26.666667%, 26.666667%)\" stroke-opacity=\"1\" stroke-miterlimit=\"10\" d=\"M 280 180 L 20 169.265625 \"/>\n<path fill=\"none\" stroke-width=\"1\" stroke-linecap=\"butt\" stroke-linejoin=\"miter\" stroke=\"rgb(26.666667%, 26.666667%, 26.666667%)\" stroke-opacity=\"1\" stroke-miterlimit=\"10\" d=\"M 20 169.265625 L 163.535156 20 \"/>\n<path fill=\"none\" stroke-width=\"1\" stroke-linecap=\"butt\" stroke-linejoin=\"miter\" stroke=\"rgb(26.666667%, 26.666667%, 26.666667%)\" stroke-opacity=\"1\" stroke-miterlimit=\"10\" d=\"M 280 180 L 163.535156 20 \"/>\n<path fill-rule=\"nonzero\" fill=\"rgb(100%, 0%, 0%)\" fill-opacity=\"1\" stroke-width=\"1\" stroke-linecap=\"butt\" stroke-linejoin=\"miter\" stroke=\"rgb(0%, 0%, 0%)\" stroke-opacity=\"1\" stroke-miterlimit=\"10\" d=\"M 290 180 C 290 185.523438 285.523438 190 280 190 C 274.476562 190 270 185.523438 270 180 C 270 174.476562 274.476562 170 280 170 C 285.523438 170 290 174.476562 290 180 \"/>\n<path fill-rule=\"nonzero\" fill=\"rgb(100%, 0%, 0%)\" fill-opacity=\"1\" stroke-width=\"1\" stroke-linecap=\"butt\" stroke-linejoin=\"miter\" stroke=\"rgb(0%, 0%, 0%)\" stroke-opacity=\"1\" stroke-miterlimit=\"10\" d=\"M 30 169.265625 C 30 174.789062 25.523438 179.265625 20 179.265625 C 14.476562 179.265625 10 174.789062 10 169.265625 C 10 163.742188 14.476562 159.265625 20 159.265625 C 25.523438 159.265625 30 163.742188 30 169.265625 \"/>\n<path fill-rule=\"nonzero\" fill=\"rgb(100%, 0%, 0%)\" fill-opacity=\"1\" stroke-width=\"1\" stroke-linecap=\"butt\" stroke-linejoin=\"miter\" stroke=\"rgb(0%, 0%, 0%)\" stroke-opacity=\"1\" stroke-miterlimit=\"10\" d=\"M 173.535156 20 C 173.535156 25.523438 169.058594 30 163.535156 30 C 158.015625 30 153.535156 25.523438 153.535156 20 C 153.535156 14.476562 158.015625 10 163.535156 10 C 169.058594 10 173.535156 14.476562 173.535156 20 \"/>\n</svg>\n",
            "text/plain": [
              "<igraph.drawing.cairo.plot.CairoPlot at 0x18fe9322c20>"
            ]
          },
          "execution_count": 6,
          "metadata": {
            "image/svg+xml": {
              "isolated": true
            }
          },
          "output_type": "execute_result"
        }
      ],
      "source": [
        "plot(g1,bbox=(300, 200))"
      ]
    },
    {
      "cell_type": "markdown",
      "metadata": {
        "id": "HWS6zy28eRui"
      },
      "source": [
        "You can obtain more information about the graph executing class and executing print(g1). \n",
        "\n",
        "The description of an igraph object starts with up to four letters:\n",
        "\n",
        "1. D or U, for a directed or undirected graph: if either they have symmetrical or asymmetrical relations\n",
        "2. N for a named graph (where nodes have a name attribute)\n",
        "3. W for a weighted graph (where edges have a weight attribute): when each connection does not have the same importance\n",
        "4. B for a bipartite (two-mode) graph (where nodes have a type attribute)\n",
        "\n",
        "The two numbers that follow (7 5) refer to the number of nodes and edges in the graph. The description also lists node & edge attributes, for example:\n",
        "\n",
        "* (g/c) - graph-level character attribute\n",
        "* (v/c) - vertex-level character attribute\n",
        "* (e/n) - edge-level numeric attribute"
      ]
    },
    {
      "cell_type": "code",
      "execution_count": 7,
      "metadata": {
        "id": "WyeLJ5s8eRuk"
      },
      "outputs": [
        {
          "name": "stdout",
          "output_type": "stream",
          "text": [
            "IGRAPH U--- 3 3 --\n",
            "+ edges:\n",
            "0--1 1--2 0--2\n"
          ]
        }
      ],
      "source": [
        "print(g1)"
      ]
    },
    {
      "cell_type": "markdown",
      "metadata": {
        "id": "t68dkLh1eRum"
      },
      "source": [
        "Now, do you think you can create a different graph?"
      ]
    },
    {
      "cell_type": "code",
      "execution_count": 8,
      "metadata": {
        "id": "Yd7ocPLweRuo"
      },
      "outputs": [],
      "source": [
        "#Discussion board 1.1\n",
        "# Create it, plot it and comment the type of the graph, number of nodes, edges..."
      ]
    },
    {
      "cell_type": "markdown",
      "metadata": {
        "id": "FBAyzRzieRus"
      },
      "source": [
        "You can create a graph with a representation of a graph formula.\n",
        "\n",
        "A graph formula is a simple string representation of a graph. It is very handy for creating small graphs quickly. The string consists of vertex names separated by edge operators. An edge operator is a sequence of dashes (-) that may or may not start with an arrowhead (< at the beginning of the sequence or > at the end of the sequence). The edge operators can be arbitrarily long, i.e., you may use as many dashes to draw them as you like. This makes a total of four different edge operators:\n",
        "\n",
        "----- makes an undirected edge\n",
        "\n",
        "<---- makes a directed edge pointing from the vertex on the right hand side of the operator to the vertex on the left hand side\n",
        "----> is the opposite of <----\n",
        "\n",
        "<---> creates a mutual directed edge pair between the two vertices\n",
        "\n",
        "If you only use the undirected edge operator (-----), the graph will be undirected. Otherwise it will be directed. Vertex names used in the formula will be assigned to the name vertex attribute of the graph"
      ]
    },
    {
      "cell_type": "code",
      "execution_count": 9,
      "metadata": {
        "id": "Chqhp08aeRuu"
      },
      "outputs": [
        {
          "data": {
            "image/svg+xml": "<?xml version=\"1.0\" encoding=\"UTF-8\"?>\n<svg xmlns=\"http://www.w3.org/2000/svg\" xmlns:xlink=\"http://www.w3.org/1999/xlink\" width=\"300\" height=\"200\" viewBox=\"0 0 300 200\">\n<defs>\n<g>\n<g id=\"glyph-0-0\">\n<path d=\"M 1.75 0 L 1.75 -8.75 L 8.75 -8.75 L 8.75 0 L 1.75 0 M 1.96875 -0.21875 L 8.53125 -0.21875 L 8.53125 -8.53125 L 1.96875 -8.53125 Z M 1.96875 -0.21875 \"/>\n</g>\n<g id=\"glyph-0-1\">\n<path d=\"M -0.0195312 0 L 3.828125 -10.023438 L 5.257812 -10.023438 L 9.359375 0 L 7.847656 0 L 6.679688 -3.035156 L 2.488281 -3.035156 L 1.386719 0 L -0.0195312 0 M 2.871094 -4.117188 L 6.269531 -4.117188 L 5.222656 -6.890625 C 4.902344 -7.734375 4.667969 -8.425781 4.511719 -8.96875 C 4.382812 -8.328125 4.203125 -7.6875 3.972656 -7.054688 Z M 2.871094 -4.117188 \"/>\n</g>\n<g id=\"glyph-0-2\">\n<path d=\"M 1.023438 0 L 1.023438 -10.023438 L 4.785156 -10.023438 C 5.550781 -10.023438 6.164062 -9.921875 6.628906 -9.71875 C 7.089844 -9.515625 7.453125 -9.203125 7.714844 -8.78125 C 7.976562 -8.359375 8.109375 -7.917969 8.109375 -7.457031 C 8.109375 -7.03125 7.992188 -6.625 7.757812 -6.25 C 7.527344 -5.871094 7.175781 -5.5625 6.707031 -5.332031 C 7.3125 -5.15625 7.777344 -4.851562 8.105469 -4.421875 C 8.429688 -3.996094 8.59375 -3.488281 8.59375 -2.90625 C 8.59375 -2.4375 8.492188 -2 8.296875 -1.597656 C 8.097656 -1.191406 7.851562 -0.882812 7.5625 -0.664062 C 7.269531 -0.445312 6.902344 -0.277344 6.464844 -0.167969 C 6.023438 -0.0546875 5.484375 0 4.847656 0 L 1.023438 0 M 2.351562 -5.8125 L 4.519531 -5.8125 C 5.105469 -5.8125 5.527344 -5.847656 5.78125 -5.925781 C 6.121094 -6.027344 6.375 -6.195312 6.546875 -6.425781 C 6.714844 -6.65625 6.800781 -6.949219 6.800781 -7.300781 C 6.800781 -7.632812 6.722656 -7.925781 6.5625 -8.179688 C 6.402344 -8.433594 6.175781 -8.605469 5.878906 -8.699219 C 5.582031 -8.792969 5.074219 -8.839844 4.355469 -8.839844 L 2.351562 -8.839844 L 2.351562 -5.8125 M 2.351562 -1.183594 L 4.847656 -1.183594 C 5.273438 -1.183594 5.574219 -1.199219 5.75 -1.230469 C 6.054688 -1.285156 6.308594 -1.375 6.515625 -1.503906 C 6.71875 -1.632812 6.886719 -1.816406 7.019531 -2.0625 C 7.152344 -2.304688 7.21875 -2.585938 7.21875 -2.90625 C 7.21875 -3.277344 7.121094 -3.605469 6.929688 -3.878906 C 6.738281 -4.15625 6.476562 -4.347656 6.136719 -4.460938 C 5.796875 -4.570312 5.308594 -4.628906 4.667969 -4.628906 L 2.351562 -4.628906 Z M 2.351562 -1.183594 \"/>\n</g>\n<g id=\"glyph-0-3\">\n<path d=\"M 8.230469 -3.515625 L 9.554688 -3.179688 C 9.277344 -2.089844 8.777344 -1.257812 8.054688 -0.6875 C 7.332031 -0.113281 6.449219 0.171875 5.40625 0.171875 C 4.328125 0.171875 3.449219 -0.0507812 2.773438 -0.488281 C 2.09375 -0.929688 1.582031 -1.566406 1.226562 -2.398438 C 0.875 -3.234375 0.695312 -4.128906 0.695312 -5.085938 C 0.695312 -6.128906 0.898438 -7.039062 1.296875 -7.816406 C 1.695312 -8.59375 2.261719 -9.183594 2.996094 -9.585938 C 3.734375 -9.992188 4.542969 -10.191406 5.429688 -10.191406 C 6.429688 -10.191406 7.273438 -9.9375 7.957031 -9.425781 C 8.640625 -8.917969 9.117188 -8.199219 9.386719 -7.273438 L 8.078125 -6.964844 C 7.847656 -7.695312 7.511719 -8.226562 7.070312 -8.558594 C 6.625 -8.890625 6.070312 -9.058594 5.398438 -9.058594 C 4.628906 -9.058594 3.988281 -8.875 3.46875 -8.503906 C 2.953125 -8.132812 2.589844 -7.640625 2.378906 -7.015625 C 2.167969 -6.394531 2.0625 -5.753906 2.0625 -5.09375 C 2.0625 -4.242188 2.1875 -3.496094 2.4375 -2.859375 C 2.683594 -2.226562 3.070312 -1.75 3.59375 -1.4375 C 4.121094 -1.121094 4.6875 -0.964844 5.296875 -0.964844 C 6.039062 -0.964844 6.667969 -1.179688 7.183594 -1.605469 C 7.699219 -2.035156 8.046875 -2.671875 8.230469 -3.515625 Z M 8.230469 -3.515625 \"/>\n</g>\n<g id=\"glyph-0-4\">\n<path d=\"M 1.078125 0 L 1.078125 -10.023438 L 4.53125 -10.023438 C 5.3125 -10.023438 5.90625 -9.972656 6.316406 -9.878906 C 6.890625 -9.746094 7.378906 -9.507812 7.785156 -9.160156 C 8.316406 -8.714844 8.710938 -8.144531 8.972656 -7.449219 C 9.234375 -6.753906 9.367188 -5.957031 9.367188 -5.066406 C 9.367188 -4.304688 9.277344 -3.628906 9.097656 -3.042969 C 8.921875 -2.453125 8.691406 -1.96875 8.414062 -1.582031 C 8.136719 -1.199219 7.832031 -0.894531 7.503906 -0.671875 C 7.171875 -0.453125 6.773438 -0.285156 6.304688 -0.171875 C 5.839844 -0.0585938 5.300781 0 4.695312 0 L 1.078125 0 M 2.40625 -1.183594 L 4.546875 -1.183594 C 5.207031 -1.183594 5.726562 -1.242188 6.101562 -1.367188 C 6.476562 -1.492188 6.777344 -1.664062 7 -1.886719 C 7.3125 -2.203125 7.558594 -2.625 7.734375 -3.15625 C 7.910156 -3.6875 7.996094 -4.328125 8 -5.085938 C 7.996094 -6.132812 7.824219 -6.941406 7.480469 -7.503906 C 7.136719 -8.066406 6.71875 -8.441406 6.226562 -8.632812 C 5.871094 -8.769531 5.300781 -8.839844 4.511719 -8.839844 L 2.40625 -8.839844 Z M 2.40625 -1.183594 \"/>\n</g>\n<g id=\"glyph-0-5\">\n<path d=\"M 1.109375 0 L 1.109375 -10.023438 L 8.351562 -10.023438 L 8.351562 -8.839844 L 2.433594 -8.839844 L 2.433594 -5.769531 L 7.976562 -5.769531 L 7.976562 -4.59375 L 2.433594 -4.59375 L 2.433594 -1.183594 L 8.585938 -1.183594 L 8.585938 0 Z M 1.109375 0 \"/>\n</g>\n<g id=\"glyph-0-6\">\n<path d=\"M 1.148438 0 L 1.148438 -10.023438 L 7.910156 -10.023438 L 7.910156 -8.839844 L 2.476562 -8.839844 L 2.476562 -5.734375 L 7.179688 -5.734375 L 7.179688 -4.554688 L 2.476562 -4.554688 L 2.476562 0 Z M 1.148438 0 \"/>\n</g>\n</g>\n</defs>\n<rect x=\"-30\" y=\"-20\" width=\"360\" height=\"240\" fill=\"rgb(100%, 100%, 100%)\" fill-opacity=\"1\"/>\n<path fill=\"none\" stroke-width=\"1\" stroke-linecap=\"butt\" stroke-linejoin=\"miter\" stroke=\"rgb(26.666667%, 26.666667%, 26.666667%)\" stroke-opacity=\"1\" stroke-miterlimit=\"10\" d=\"M 280 134.828125 L 220.957031 180 \"/>\n<path fill=\"none\" stroke-width=\"1\" stroke-linecap=\"butt\" stroke-linejoin=\"miter\" stroke=\"rgb(26.666667%, 26.666667%, 26.666667%)\" stroke-opacity=\"1\" stroke-miterlimit=\"10\" d=\"M 280 134.828125 L 198.964844 99.40625 \"/>\n<path fill=\"none\" stroke-width=\"1\" stroke-linecap=\"butt\" stroke-linejoin=\"miter\" stroke=\"rgb(26.666667%, 26.666667%, 26.666667%)\" stroke-opacity=\"1\" stroke-miterlimit=\"10\" d=\"M 220.957031 180 L 198.964844 99.40625 \"/>\n<path fill=\"none\" stroke-width=\"1\" stroke-linecap=\"butt\" stroke-linejoin=\"miter\" stroke=\"rgb(26.666667%, 26.666667%, 26.666667%)\" stroke-opacity=\"1\" stroke-miterlimit=\"10\" d=\"M 198.964844 99.40625 L 106.71875 95.164062 \"/>\n<path fill=\"none\" stroke-width=\"1\" stroke-linecap=\"butt\" stroke-linejoin=\"miter\" stroke=\"rgb(26.666667%, 26.666667%, 26.666667%)\" stroke-opacity=\"1\" stroke-miterlimit=\"10\" d=\"M 198.964844 99.40625 L 232.804688 20 \"/>\n<path fill=\"none\" stroke-width=\"1\" stroke-linecap=\"butt\" stroke-linejoin=\"miter\" stroke=\"rgb(26.666667%, 26.666667%, 26.666667%)\" stroke-opacity=\"1\" stroke-miterlimit=\"10\" d=\"M 106.71875 95.164062 L 20 91.523438 \"/>\n<path fill-rule=\"nonzero\" fill=\"rgb(100%, 0%, 0%)\" fill-opacity=\"1\" stroke-width=\"1\" stroke-linecap=\"butt\" stroke-linejoin=\"miter\" stroke=\"rgb(0%, 0%, 0%)\" stroke-opacity=\"1\" stroke-miterlimit=\"10\" d=\"M 290 134.828125 C 290 140.351562 285.523438 144.828125 280 144.828125 C 274.476562 144.828125 270 140.351562 270 134.828125 C 270 129.304688 274.476562 124.828125 280 124.828125 C 285.523438 124.828125 290 129.304688 290 134.828125 \"/>\n<path fill-rule=\"nonzero\" fill=\"rgb(100%, 0%, 0%)\" fill-opacity=\"1\" stroke-width=\"1\" stroke-linecap=\"butt\" stroke-linejoin=\"miter\" stroke=\"rgb(0%, 0%, 0%)\" stroke-opacity=\"1\" stroke-miterlimit=\"10\" d=\"M 230.957031 180 C 230.957031 185.523438 226.480469 190 220.957031 190 C 215.433594 190 210.957031 185.523438 210.957031 180 C 210.957031 174.476562 215.433594 170 220.957031 170 C 226.480469 170 230.957031 174.476562 230.957031 180 \"/>\n<path fill-rule=\"nonzero\" fill=\"rgb(100%, 0%, 0%)\" fill-opacity=\"1\" stroke-width=\"1\" stroke-linecap=\"butt\" stroke-linejoin=\"miter\" stroke=\"rgb(0%, 0%, 0%)\" stroke-opacity=\"1\" stroke-miterlimit=\"10\" d=\"M 208.964844 99.40625 C 208.964844 104.929688 204.488281 109.40625 198.964844 109.40625 C 193.441406 109.40625 188.964844 104.929688 188.964844 99.40625 C 188.964844 93.886719 193.441406 89.40625 198.964844 89.40625 C 204.488281 89.40625 208.964844 93.886719 208.964844 99.40625 \"/>\n<path fill-rule=\"nonzero\" fill=\"rgb(100%, 0%, 0%)\" fill-opacity=\"1\" stroke-width=\"1\" stroke-linecap=\"butt\" stroke-linejoin=\"miter\" stroke=\"rgb(0%, 0%, 0%)\" stroke-opacity=\"1\" stroke-miterlimit=\"10\" d=\"M 116.71875 95.164062 C 116.71875 100.6875 112.242188 105.164062 106.71875 105.164062 C 101.195312 105.164062 96.71875 100.6875 96.71875 95.164062 C 96.71875 89.640625 101.195312 85.164062 106.71875 85.164062 C 112.242188 85.164062 116.71875 89.640625 116.71875 95.164062 \"/>\n<path fill-rule=\"nonzero\" fill=\"rgb(100%, 0%, 0%)\" fill-opacity=\"1\" stroke-width=\"1\" stroke-linecap=\"butt\" stroke-linejoin=\"miter\" stroke=\"rgb(0%, 0%, 0%)\" stroke-opacity=\"1\" stroke-miterlimit=\"10\" d=\"M 30 91.523438 C 30 97.046875 25.523438 101.523438 20 101.523438 C 14.476562 101.523438 10 97.046875 10 91.523438 C 10 86 14.476562 81.523438 20 81.523438 C 25.523438 81.523438 30 86 30 91.523438 \"/>\n<path fill-rule=\"nonzero\" fill=\"rgb(100%, 0%, 0%)\" fill-opacity=\"1\" stroke-width=\"1\" stroke-linecap=\"butt\" stroke-linejoin=\"miter\" stroke=\"rgb(0%, 0%, 0%)\" stroke-opacity=\"1\" stroke-miterlimit=\"10\" d=\"M 242.804688 20 C 242.804688 25.523438 238.328125 30 232.804688 30 C 227.28125 30 222.804688 25.523438 222.804688 20 C 222.804688 14.476562 227.28125 10 232.804688 10 C 238.328125 10 242.804688 14.476562 242.804688 20 \"/>\n<g fill=\"rgb(0%, 0%, 0%)\" fill-opacity=\"1\">\n<use xlink:href=\"#glyph-0-1\" x=\"275.332031\" y=\"141.320312\"/>\n</g>\n<g fill=\"rgb(0%, 0%, 0%)\" fill-opacity=\"1\">\n<use xlink:href=\"#glyph-0-2\" x=\"216.148438\" y=\"186.492188\"/>\n</g>\n<g fill=\"rgb(0%, 0%, 0%)\" fill-opacity=\"1\">\n<use xlink:href=\"#glyph-0-3\" x=\"193.839844\" y=\"105.988281\"/>\n</g>\n<g fill=\"rgb(0%, 0%, 0%)\" fill-opacity=\"1\">\n<use xlink:href=\"#glyph-0-4\" x=\"101.496094\" y=\"101.65625\"/>\n</g>\n<g fill=\"rgb(0%, 0%, 0%)\" fill-opacity=\"1\">\n<use xlink:href=\"#glyph-0-5\" x=\"15.152344\" y=\"98.015625\"/>\n</g>\n<g fill=\"rgb(0%, 0%, 0%)\" fill-opacity=\"1\">\n<use xlink:href=\"#glyph-0-6\" x=\"228.277344\" y=\"26.492188\"/>\n</g>\n</svg>\n",
            "text/plain": [
              "<igraph.drawing.cairo.plot.CairoPlot at 0x18f821a3c10>"
            ]
          },
          "execution_count": 9,
          "metadata": {
            "image/svg+xml": {
              "isolated": true
            }
          },
          "output_type": "execute_result"
        }
      ],
      "source": [
        "g4 = Graph.Formula('A-B, B-C, C-A, C-D, D-E, C-F')\n",
        "plot(g4,bbox=(300, 200),vertex_label=g4.vs['name'])"
      ]
    },
    {
      "cell_type": "code",
      "execution_count": 10,
      "metadata": {
        "id": "CGbqymmneRuv"
      },
      "outputs": [
        {
          "name": "stdout",
          "output_type": "stream",
          "text": [
            "IGRAPH UN-- 6 6 --\n",
            "+ attr: name (v)\n",
            "+ edges (vertex names):\n",
            "A--B, A--C, B--C, C--D, C--F, D--E\n"
          ]
        }
      ],
      "source": [
        "print(g4)"
      ]
    },
    {
      "cell_type": "code",
      "execution_count": 11,
      "metadata": {
        "id": "aowHrZM4e42V"
      },
      "outputs": [],
      "source": [
        "#Discussion board 1.2\n",
        "# Create a new graph with the formula, plot it and comment the type of the graph, number of nodes, edges..."
      ]
    },
    {
      "cell_type": "markdown",
      "metadata": {
        "id": "XgnrSXbaeRuw"
      },
      "source": [
        "# 1.2 Edge, vertex, and network attributes\n",
        "\n",
        "You can access vertices by getting the dataframe of vertices:"
      ]
    },
    {
      "cell_type": "code",
      "execution_count": 12,
      "metadata": {
        "id": "AO6SUEq0eRuw"
      },
      "outputs": [
        {
          "data": {
            "text/html": [
              "<div>\n",
              "<style scoped>\n",
              "    .dataframe tbody tr th:only-of-type {\n",
              "        vertical-align: middle;\n",
              "    }\n",
              "\n",
              "    .dataframe tbody tr th {\n",
              "        vertical-align: top;\n",
              "    }\n",
              "\n",
              "    .dataframe thead th {\n",
              "        text-align: right;\n",
              "    }\n",
              "</style>\n",
              "<table border=\"1\" class=\"dataframe\">\n",
              "  <thead>\n",
              "    <tr style=\"text-align: right;\">\n",
              "      <th></th>\n",
              "      <th>name</th>\n",
              "    </tr>\n",
              "    <tr>\n",
              "      <th>vertex ID</th>\n",
              "      <th></th>\n",
              "    </tr>\n",
              "  </thead>\n",
              "  <tbody>\n",
              "    <tr>\n",
              "      <th>0</th>\n",
              "      <td>A</td>\n",
              "    </tr>\n",
              "    <tr>\n",
              "      <th>1</th>\n",
              "      <td>B</td>\n",
              "    </tr>\n",
              "    <tr>\n",
              "      <th>2</th>\n",
              "      <td>C</td>\n",
              "    </tr>\n",
              "    <tr>\n",
              "      <th>3</th>\n",
              "      <td>D</td>\n",
              "    </tr>\n",
              "    <tr>\n",
              "      <th>4</th>\n",
              "      <td>E</td>\n",
              "    </tr>\n",
              "    <tr>\n",
              "      <th>5</th>\n",
              "      <td>F</td>\n",
              "    </tr>\n",
              "  </tbody>\n",
              "</table>\n",
              "</div>"
            ],
            "text/plain": [
              "          name\n",
              "vertex ID     \n",
              "0            A\n",
              "1            B\n",
              "2            C\n",
              "3            D\n",
              "4            E\n",
              "5            F"
            ]
          },
          "execution_count": 12,
          "metadata": {},
          "output_type": "execute_result"
        }
      ],
      "source": [
        "g4.get_vertex_dataframe()"
      ]
    },
    {
      "cell_type": "markdown",
      "metadata": {
        "id": "WfUVGUwHeRux"
      },
      "source": [
        "And the edges by getting the dataframe of vertices:"
      ]
    },
    {
      "cell_type": "code",
      "execution_count": 13,
      "metadata": {
        "id": "tLVPvmL2eRuy",
        "scrolled": true
      },
      "outputs": [
        {
          "data": {
            "text/plain": [
              "[(0, 1), (0, 2), (1, 2), (2, 3), (2, 5), (3, 4)]"
            ]
          },
          "execution_count": 13,
          "metadata": {},
          "output_type": "execute_result"
        }
      ],
      "source": [
        "g4.get_edgelist()"
      ]
    },
    {
      "cell_type": "markdown",
      "metadata": {
        "id": "NJbagf8neRuz"
      },
      "source": [
        "To access the vertex/edge sequence we can use g.vs/g.es. g.vs and g.es are properties of the graph and can be used to get specific attributes of the graph. For example:"
      ]
    },
    {
      "cell_type": "code",
      "execution_count": 14,
      "metadata": {
        "id": "eQu5JiTVeRu0"
      },
      "outputs": [
        {
          "data": {
            "text/plain": [
              "['A', 'B', 'C', 'D', 'E', 'F']"
            ]
          },
          "execution_count": 14,
          "metadata": {},
          "output_type": "execute_result"
        }
      ],
      "source": [
        "g4.vs['name']"
      ]
    },
    {
      "cell_type": "markdown",
      "metadata": {
        "id": "T_IIUtzTeRu1"
      },
      "source": [
        "An adjacency matrix A is a representation of the graph in which:\n",
        "* Aij = 1 if there is a link from node i to node j\n",
        "* Aij = 0 otherwise\n",
        "\n",
        "You can access the network adjacency matrix directly doing:"
      ]
    },
    {
      "cell_type": "code",
      "execution_count": 15,
      "metadata": {
        "id": "I2AI59gXeRu2"
      },
      "outputs": [
        {
          "data": {
            "text/plain": [
              "Matrix([[0, 1, 1, 0, 0, 0], [1, 0, 1, 0, 0, 0], [1, 1, 0, 1, 0, 1], [0, 0, 1, 0, 1, 0], [0, 0, 0, 1, 0, 0], [0, 0, 1, 0, 0, 0]])"
            ]
          },
          "execution_count": 15,
          "metadata": {},
          "output_type": "execute_result"
        }
      ],
      "source": [
        "g4.get_adjacency()"
      ]
    },
    {
      "cell_type": "markdown",
      "metadata": {
        "id": "HNUdC5neeRu2"
      },
      "source": [
        "And you can index that matrix by using the vertex name"
      ]
    },
    {
      "cell_type": "code",
      "execution_count": 16,
      "metadata": {
        "id": "5JvAx4bIeRu3"
      },
      "outputs": [
        {
          "data": {
            "text/plain": [
              "1"
            ]
          },
          "execution_count": 16,
          "metadata": {},
          "output_type": "execute_result"
        }
      ],
      "source": [
        "g4[\"A\",\"B\"]"
      ]
    },
    {
      "cell_type": "markdown",
      "metadata": {
        "id": "5TcvlhrDeRu4"
      },
      "source": [
        "Attributes can be added to the network, vertices, or edges. \n",
        "With vertex_attributes and edge_attributes you can query the atributes of a given graph.\n",
        "\n",
        "In this case we only have the vertex name (that is automatically generated when we created the network)."
      ]
    },
    {
      "cell_type": "code",
      "execution_count": 17,
      "metadata": {
        "id": "e0T824bVeRu4"
      },
      "outputs": [
        {
          "data": {
            "text/plain": [
              "['name']"
            ]
          },
          "execution_count": 17,
          "metadata": {},
          "output_type": "execute_result"
        }
      ],
      "source": [
        "g4.vertex_attributes()"
      ]
    },
    {
      "cell_type": "code",
      "execution_count": 18,
      "metadata": {
        "id": "GxbplB7weRu5"
      },
      "outputs": [
        {
          "data": {
            "text/plain": [
              "[]"
            ]
          },
          "execution_count": 18,
          "metadata": {},
          "output_type": "execute_result"
        }
      ],
      "source": [
        "g4.edge_attributes()"
      ]
    },
    {
      "cell_type": "markdown",
      "metadata": {
        "id": "pMmJlDmZeRu5"
      },
      "source": [
        "To set the attributes the following syntax can be used."
      ]
    },
    {
      "cell_type": "code",
      "execution_count": 19,
      "metadata": {
        "id": "V2YKF6dueRu6"
      },
      "outputs": [
        {
          "data": {
            "text/html": [
              "<div>\n",
              "<style scoped>\n",
              "    .dataframe tbody tr th:only-of-type {\n",
              "        vertical-align: middle;\n",
              "    }\n",
              "\n",
              "    .dataframe tbody tr th {\n",
              "        vertical-align: top;\n",
              "    }\n",
              "\n",
              "    .dataframe thead th {\n",
              "        text-align: right;\n",
              "    }\n",
              "</style>\n",
              "<table border=\"1\" class=\"dataframe\">\n",
              "  <thead>\n",
              "    <tr style=\"text-align: right;\">\n",
              "      <th></th>\n",
              "      <th>name</th>\n",
              "      <th>newAtt</th>\n",
              "    </tr>\n",
              "    <tr>\n",
              "      <th>vertex ID</th>\n",
              "      <th></th>\n",
              "      <th></th>\n",
              "    </tr>\n",
              "  </thead>\n",
              "  <tbody>\n",
              "    <tr>\n",
              "      <th>0</th>\n",
              "      <td>A</td>\n",
              "      <td>New attribute</td>\n",
              "    </tr>\n",
              "    <tr>\n",
              "      <th>1</th>\n",
              "      <td>B</td>\n",
              "      <td>New attribute</td>\n",
              "    </tr>\n",
              "    <tr>\n",
              "      <th>2</th>\n",
              "      <td>C</td>\n",
              "      <td>New attribute</td>\n",
              "    </tr>\n",
              "    <tr>\n",
              "      <th>3</th>\n",
              "      <td>D</td>\n",
              "      <td>New attribute</td>\n",
              "    </tr>\n",
              "    <tr>\n",
              "      <th>4</th>\n",
              "      <td>E</td>\n",
              "      <td>New attribute</td>\n",
              "    </tr>\n",
              "    <tr>\n",
              "      <th>5</th>\n",
              "      <td>F</td>\n",
              "      <td>New attribute</td>\n",
              "    </tr>\n",
              "  </tbody>\n",
              "</table>\n",
              "</div>"
            ],
            "text/plain": [
              "          name         newAtt\n",
              "vertex ID                    \n",
              "0            A  New attribute\n",
              "1            B  New attribute\n",
              "2            C  New attribute\n",
              "3            D  New attribute\n",
              "4            E  New attribute\n",
              "5            F  New attribute"
            ]
          },
          "execution_count": 19,
          "metadata": {},
          "output_type": "execute_result"
        }
      ],
      "source": [
        "g4.vs['newAtt']=\"New attribute\"\n",
        "g4.get_vertex_dataframe()"
      ]
    },
    {
      "cell_type": "markdown",
      "metadata": {
        "id": "SUQl1aHkeRu7"
      },
      "source": [
        "Create your own attribute for vowels. This attribute must be boolean (True if it is a vowel)."
      ]
    },
    {
      "cell_type": "code",
      "execution_count": null,
      "metadata": {
        "id": "T5tetUJGeRu7"
      },
      "outputs": [],
      "source": [
        "#Insert your code here and share your solutions in the 2_1 discussion board\n"
      ]
    },
    {
      "cell_type": "markdown",
      "metadata": {
        "id": "p4I93YuEeRu8"
      },
      "source": [
        "The color is also an attribute."
      ]
    },
    {
      "cell_type": "code",
      "execution_count": 20,
      "metadata": {
        "id": "1Ghxfl0AeRu8"
      },
      "outputs": [
        {
          "data": {
            "text/html": [
              "<div>\n",
              "<style scoped>\n",
              "    .dataframe tbody tr th:only-of-type {\n",
              "        vertical-align: middle;\n",
              "    }\n",
              "\n",
              "    .dataframe tbody tr th {\n",
              "        vertical-align: top;\n",
              "    }\n",
              "\n",
              "    .dataframe thead th {\n",
              "        text-align: right;\n",
              "    }\n",
              "</style>\n",
              "<table border=\"1\" class=\"dataframe\">\n",
              "  <thead>\n",
              "    <tr style=\"text-align: right;\">\n",
              "      <th></th>\n",
              "      <th>name</th>\n",
              "      <th>newAtt</th>\n",
              "    </tr>\n",
              "    <tr>\n",
              "      <th>vertex ID</th>\n",
              "      <th></th>\n",
              "      <th></th>\n",
              "    </tr>\n",
              "  </thead>\n",
              "  <tbody>\n",
              "    <tr>\n",
              "      <th>0</th>\n",
              "      <td>A</td>\n",
              "      <td>New attribute</td>\n",
              "    </tr>\n",
              "    <tr>\n",
              "      <th>1</th>\n",
              "      <td>B</td>\n",
              "      <td>New attribute</td>\n",
              "    </tr>\n",
              "    <tr>\n",
              "      <th>2</th>\n",
              "      <td>C</td>\n",
              "      <td>New attribute</td>\n",
              "    </tr>\n",
              "    <tr>\n",
              "      <th>3</th>\n",
              "      <td>D</td>\n",
              "      <td>New attribute</td>\n",
              "    </tr>\n",
              "    <tr>\n",
              "      <th>4</th>\n",
              "      <td>E</td>\n",
              "      <td>New attribute</td>\n",
              "    </tr>\n",
              "    <tr>\n",
              "      <th>5</th>\n",
              "      <td>F</td>\n",
              "      <td>New attribute</td>\n",
              "    </tr>\n",
              "  </tbody>\n",
              "</table>\n",
              "</div>"
            ],
            "text/plain": [
              "          name         newAtt\n",
              "vertex ID                    \n",
              "0            A  New attribute\n",
              "1            B  New attribute\n",
              "2            C  New attribute\n",
              "3            D  New attribute\n",
              "4            E  New attribute\n",
              "5            F  New attribute"
            ]
          },
          "execution_count": 20,
          "metadata": {},
          "output_type": "execute_result"
        }
      ],
      "source": [
        "g4.get_vertex_dataframe()"
      ]
    },
    {
      "cell_type": "markdown",
      "metadata": {
        "id": "nEVV9rNqeRu9"
      },
      "source": [
        "Simple graphs are graphs which do not contain loop and multiple edges. The g.simplify() function does this for us. \n",
        "\n",
        "Create a graph g5 which contains loops and multiple edges and plot it. Then simplify it and plot it again."
      ]
    },
    {
      "cell_type": "code",
      "execution_count": null,
      "metadata": {
        "id": "K7DtEwhweRu9"
      },
      "outputs": [],
      "source": [
        "#Insert your code here and share your solutions in the 2_1 discussion board\n"
      ]
    },
    {
      "cell_type": "markdown",
      "metadata": {
        "id": "yB9luBSAeRu-"
      },
      "source": [
        "# 1.3 Specific graphs and graph models\n",
        "\n",
        "There are some specific graphs that can be done with igraph functions:\n",
        "\n",
        "* Full graph\n",
        "* Simple star graph\n",
        "* Tree graph\n",
        "* Ring graph\n",
        "* ...\n",
        "\n",
        "\n",
        "You have an example here. Check what others you can find in the documentation: https://igraph.org/python/doc/tutorial/generation.html"
      ]
    },
    {
      "cell_type": "code",
      "execution_count": null,
      "metadata": {
        "id": "bKlO45LaeRu_"
      },
      "outputs": [],
      "source": [
        "g7=Graph.Ring(10)\n",
        "plot(g7, bbox=(300, 200))"
      ]
    },
    {
      "cell_type": "markdown",
      "metadata": {
        "id": "EKbXmtD0eRvA"
      },
      "source": [
        "To write a graph to a file we can use different functions regarding the format. Formats available: \n",
        "* write_dot\tWrites the graph in DOT format to the given file.\n",
        "* write_edgelist\tWrites the edge list of a graph to a file.\n",
        "* write_gml\tWrites the graph in GML format to the given file.\n",
        "* write_graphml\tWrites the graph to a GraphML file.\n",
        "* write_leda\tWrites the graph to a file in LEDA native format.\n",
        "* write_lgl\tWrites the edge list of a graph to a file in .lgl format.\n",
        "* write_ncol\tWrites the edge list of a graph to a file in .ncol format.\n",
        "* write_pajek\tWrites the graph in Pajek format to the given file.\n",
        "\n",
        "Change the path to the one you want to use."
      ]
    },
    {
      "cell_type": "code",
      "execution_count": null,
      "metadata": {
        "id": "f65LNdoSeRvB"
      },
      "outputs": [],
      "source": [
        "#Change the path and use a different format. Check the format in you computer and share it in the 2_2 discussion board\n",
        "g7.write_edgelist(\"C:/Users/Alvaro Romero/Downloads/edgelist.txt\")"
      ]
    },
    {
      "cell_type": "markdown",
      "metadata": {
        "id": "FpCG_SWDeRvB"
      },
      "source": [
        "To read from a file, we can use the corresponding function. It supports several formats: \n",
        "* Read_DL\tReads an UCINET DL file and creates a graph based on it.\n",
        "* Read_Edgelist\tReads an edge list from a file and creates a graph based on it.\n",
        "* Read_GML\tReads a GML file and creates a graph based on it.\n",
        "* Read_GraphDB\tReads a GraphDB format file and creates a graph based on it.\n",
        "* Read_GraphML\tReads a GraphML format file and creates a graph based on it.\n",
        "* Read_Lgl\tReads an .lgl file used by LGL.\n",
        "* Read_Ncol\tReads an .ncol file used by LGL.\n",
        "* Read_Pajek\tReads a Pajek format file and creates a graph based on it."
      ]
    },
    {
      "cell_type": "code",
      "execution_count": null,
      "metadata": {
        "id": "NNtPjo5LeRvC"
      },
      "outputs": [],
      "source": [
        "#Change the path\n",
        "g8=Graph.Read_Edgelist(\"C:/Users/Alvaro Romero/Downloads/edgelist.txt\", directed=False)\n",
        "plot(g8, bbox=(300, 200))"
      ]
    },
    {
      "cell_type": "markdown",
      "metadata": {
        "id": "qZvPryOfeRvD"
      },
      "source": [
        "A common practice is to store edges in a pandas.DataFrame, where the two first columns are the source and target vertex ids, and any additional column indicates edge attributes. You can generate a graph via"
      ]
    },
    {
      "cell_type": "code",
      "execution_count": null,
      "metadata": {
        "id": "7ac4VX5EeRvD"
      },
      "outputs": [],
      "source": [
        "#Create a DataFrame by completing the followinf from and to and share the result in the 3_1 discussion board\n",
        "df=pd.DataFrame({'From': ..., 'To': ...})\n",
        "g9 = Graph.DataFrame(df, directed=False)\n",
        "plot(g9, bbox=(300, 200))"
      ]
    },
    {
      "cell_type": "markdown",
      "metadata": {
        "id": "gH8Yn41PeRvE"
      },
      "source": [
        "# 2. Network and node descriptives\n",
        "\n",
        "Node degree is the number of edges adjacents to node i.\n",
        "\n",
        "The function degree() has a mode of \"in\" for in-degree, \"out\" for out-degree, and all or total for total degree."
      ]
    },
    {
      "cell_type": "code",
      "execution_count": 21,
      "metadata": {
        "id": "fBRhQKi8eRvF"
      },
      "outputs": [
        {
          "data": {
            "image/svg+xml": "<?xml version=\"1.0\" encoding=\"UTF-8\"?>\n<svg xmlns=\"http://www.w3.org/2000/svg\" xmlns:xlink=\"http://www.w3.org/1999/xlink\" width=\"300\" height=\"200\" viewBox=\"0 0 300 200\">\n<defs>\n<g>\n<g id=\"glyph-0-0\">\n<path d=\"M 1.75 0 L 1.75 -8.75 L 8.75 -8.75 L 8.75 0 L 1.75 0 M 1.96875 -0.21875 L 8.53125 -0.21875 L 8.53125 -8.53125 L 1.96875 -8.53125 Z M 1.96875 -0.21875 \"/>\n</g>\n<g id=\"glyph-0-1\">\n<path d=\"M -0.0195312 0 L 3.828125 -10.023438 L 5.257812 -10.023438 L 9.359375 0 L 7.847656 0 L 6.679688 -3.035156 L 2.488281 -3.035156 L 1.386719 0 L -0.0195312 0 M 2.871094 -4.117188 L 6.269531 -4.117188 L 5.222656 -6.890625 C 4.902344 -7.734375 4.667969 -8.425781 4.511719 -8.96875 C 4.382812 -8.328125 4.203125 -7.6875 3.972656 -7.054688 Z M 2.871094 -4.117188 \"/>\n</g>\n<g id=\"glyph-0-2\">\n<path d=\"M 1.023438 0 L 1.023438 -10.023438 L 4.785156 -10.023438 C 5.550781 -10.023438 6.164062 -9.921875 6.628906 -9.71875 C 7.089844 -9.515625 7.453125 -9.203125 7.714844 -8.78125 C 7.976562 -8.359375 8.109375 -7.917969 8.109375 -7.457031 C 8.109375 -7.03125 7.992188 -6.625 7.757812 -6.25 C 7.527344 -5.871094 7.175781 -5.5625 6.707031 -5.332031 C 7.3125 -5.15625 7.777344 -4.851562 8.105469 -4.421875 C 8.429688 -3.996094 8.59375 -3.488281 8.59375 -2.90625 C 8.59375 -2.4375 8.492188 -2 8.296875 -1.597656 C 8.097656 -1.191406 7.851562 -0.882812 7.5625 -0.664062 C 7.269531 -0.445312 6.902344 -0.277344 6.464844 -0.167969 C 6.023438 -0.0546875 5.484375 0 4.847656 0 L 1.023438 0 M 2.351562 -5.8125 L 4.519531 -5.8125 C 5.105469 -5.8125 5.527344 -5.847656 5.78125 -5.925781 C 6.121094 -6.027344 6.375 -6.195312 6.546875 -6.425781 C 6.714844 -6.65625 6.800781 -6.949219 6.800781 -7.300781 C 6.800781 -7.632812 6.722656 -7.925781 6.5625 -8.179688 C 6.402344 -8.433594 6.175781 -8.605469 5.878906 -8.699219 C 5.582031 -8.792969 5.074219 -8.839844 4.355469 -8.839844 L 2.351562 -8.839844 L 2.351562 -5.8125 M 2.351562 -1.183594 L 4.847656 -1.183594 C 5.273438 -1.183594 5.574219 -1.199219 5.75 -1.230469 C 6.054688 -1.285156 6.308594 -1.375 6.515625 -1.503906 C 6.71875 -1.632812 6.886719 -1.816406 7.019531 -2.0625 C 7.152344 -2.304688 7.21875 -2.585938 7.21875 -2.90625 C 7.21875 -3.277344 7.121094 -3.605469 6.929688 -3.878906 C 6.738281 -4.15625 6.476562 -4.347656 6.136719 -4.460938 C 5.796875 -4.570312 5.308594 -4.628906 4.667969 -4.628906 L 2.351562 -4.628906 Z M 2.351562 -1.183594 \"/>\n</g>\n<g id=\"glyph-0-3\">\n<path d=\"M 8.230469 -3.515625 L 9.554688 -3.179688 C 9.277344 -2.089844 8.777344 -1.257812 8.054688 -0.6875 C 7.332031 -0.113281 6.449219 0.171875 5.40625 0.171875 C 4.328125 0.171875 3.449219 -0.0507812 2.773438 -0.488281 C 2.09375 -0.929688 1.582031 -1.566406 1.226562 -2.398438 C 0.875 -3.234375 0.695312 -4.128906 0.695312 -5.085938 C 0.695312 -6.128906 0.898438 -7.039062 1.296875 -7.816406 C 1.695312 -8.59375 2.261719 -9.183594 2.996094 -9.585938 C 3.734375 -9.992188 4.542969 -10.191406 5.429688 -10.191406 C 6.429688 -10.191406 7.273438 -9.9375 7.957031 -9.425781 C 8.640625 -8.917969 9.117188 -8.199219 9.386719 -7.273438 L 8.078125 -6.964844 C 7.847656 -7.695312 7.511719 -8.226562 7.070312 -8.558594 C 6.625 -8.890625 6.070312 -9.058594 5.398438 -9.058594 C 4.628906 -9.058594 3.988281 -8.875 3.46875 -8.503906 C 2.953125 -8.132812 2.589844 -7.640625 2.378906 -7.015625 C 2.167969 -6.394531 2.0625 -5.753906 2.0625 -5.09375 C 2.0625 -4.242188 2.1875 -3.496094 2.4375 -2.859375 C 2.683594 -2.226562 3.070312 -1.75 3.59375 -1.4375 C 4.121094 -1.121094 4.6875 -0.964844 5.296875 -0.964844 C 6.039062 -0.964844 6.667969 -1.179688 7.183594 -1.605469 C 7.699219 -2.035156 8.046875 -2.671875 8.230469 -3.515625 Z M 8.230469 -3.515625 \"/>\n</g>\n<g id=\"glyph-0-4\">\n<path d=\"M 1.078125 0 L 1.078125 -10.023438 L 4.53125 -10.023438 C 5.3125 -10.023438 5.90625 -9.972656 6.316406 -9.878906 C 6.890625 -9.746094 7.378906 -9.507812 7.785156 -9.160156 C 8.316406 -8.714844 8.710938 -8.144531 8.972656 -7.449219 C 9.234375 -6.753906 9.367188 -5.957031 9.367188 -5.066406 C 9.367188 -4.304688 9.277344 -3.628906 9.097656 -3.042969 C 8.921875 -2.453125 8.691406 -1.96875 8.414062 -1.582031 C 8.136719 -1.199219 7.832031 -0.894531 7.503906 -0.671875 C 7.171875 -0.453125 6.773438 -0.285156 6.304688 -0.171875 C 5.839844 -0.0585938 5.300781 0 4.695312 0 L 1.078125 0 M 2.40625 -1.183594 L 4.546875 -1.183594 C 5.207031 -1.183594 5.726562 -1.242188 6.101562 -1.367188 C 6.476562 -1.492188 6.777344 -1.664062 7 -1.886719 C 7.3125 -2.203125 7.558594 -2.625 7.734375 -3.15625 C 7.910156 -3.6875 7.996094 -4.328125 8 -5.085938 C 7.996094 -6.132812 7.824219 -6.941406 7.480469 -7.503906 C 7.136719 -8.066406 6.71875 -8.441406 6.226562 -8.632812 C 5.871094 -8.769531 5.300781 -8.839844 4.511719 -8.839844 L 2.40625 -8.839844 Z M 2.40625 -1.183594 \"/>\n</g>\n<g id=\"glyph-0-5\">\n<path d=\"M 1.109375 0 L 1.109375 -10.023438 L 8.351562 -10.023438 L 8.351562 -8.839844 L 2.433594 -8.839844 L 2.433594 -5.769531 L 7.976562 -5.769531 L 7.976562 -4.59375 L 2.433594 -4.59375 L 2.433594 -1.183594 L 8.585938 -1.183594 L 8.585938 0 Z M 1.109375 0 \"/>\n</g>\n<g id=\"glyph-0-6\">\n<path d=\"M 1.148438 0 L 1.148438 -10.023438 L 7.910156 -10.023438 L 7.910156 -8.839844 L 2.476562 -8.839844 L 2.476562 -5.734375 L 7.179688 -5.734375 L 7.179688 -4.554688 L 2.476562 -4.554688 L 2.476562 0 Z M 1.148438 0 \"/>\n</g>\n</g>\n</defs>\n<rect x=\"-30\" y=\"-20\" width=\"360\" height=\"240\" fill=\"rgb(100%, 100%, 100%)\" fill-opacity=\"1\"/>\n<path fill=\"none\" stroke-width=\"1\" stroke-linecap=\"butt\" stroke-linejoin=\"miter\" stroke=\"rgb(26.666667%, 26.666667%, 26.666667%)\" stroke-opacity=\"1\" stroke-miterlimit=\"10\" d=\"M 280 134.828125 L 220.957031 180 \"/>\n<path fill=\"none\" stroke-width=\"1\" stroke-linecap=\"butt\" stroke-linejoin=\"miter\" stroke=\"rgb(26.666667%, 26.666667%, 26.666667%)\" stroke-opacity=\"1\" stroke-miterlimit=\"10\" d=\"M 220.957031 180 C 233.773438 147.636719 226.445312 120.773438 198.964844 99.40625 \"/>\n<path fill=\"none\" stroke-width=\"1\" stroke-linecap=\"butt\" stroke-linejoin=\"miter\" stroke=\"rgb(26.666667%, 26.666667%, 26.666667%)\" stroke-opacity=\"1\" stroke-miterlimit=\"10\" d=\"M 220.957031 180 C 193.476562 158.632812 186.148438 131.769531 198.964844 99.40625 \"/>\n<path fill=\"none\" stroke-width=\"1\" stroke-linecap=\"butt\" stroke-linejoin=\"miter\" stroke=\"rgb(26.666667%, 26.666667%, 26.666667%)\" stroke-opacity=\"1\" stroke-miterlimit=\"10\" d=\"M 220.957031 180 L 198.964844 99.40625 \"/>\n<path fill=\"none\" stroke-width=\"1\" stroke-linecap=\"butt\" stroke-linejoin=\"miter\" stroke=\"rgb(26.666667%, 26.666667%, 26.666667%)\" stroke-opacity=\"1\" stroke-miterlimit=\"10\" d=\"M 305.605469 124.222656 C 305.605469 132.503906 298.890625 139.222656 290.605469 139.222656 C 282.324219 139.222656 275.605469 132.503906 275.605469 124.222656 C 275.605469 115.9375 282.324219 109.222656 290.605469 109.222656 C 298.890625 109.222656 305.605469 115.9375 305.605469 124.222656 \"/>\n<path fill=\"none\" stroke-width=\"1\" stroke-linecap=\"butt\" stroke-linejoin=\"miter\" stroke=\"rgb(26.666667%, 26.666667%, 26.666667%)\" stroke-opacity=\"1\" stroke-miterlimit=\"10\" d=\"M 280 134.828125 L 198.964844 99.40625 \"/>\n<path fill=\"none\" stroke-width=\"1\" stroke-linecap=\"butt\" stroke-linejoin=\"miter\" stroke=\"rgb(26.666667%, 26.666667%, 26.666667%)\" stroke-opacity=\"1\" stroke-miterlimit=\"10\" d=\"M 198.964844 99.40625 L 106.71875 95.164062 \"/>\n<path fill=\"none\" stroke-width=\"1\" stroke-linecap=\"butt\" stroke-linejoin=\"miter\" stroke=\"rgb(26.666667%, 26.666667%, 26.666667%)\" stroke-opacity=\"1\" stroke-miterlimit=\"10\" d=\"M 106.71875 95.164062 L 20 91.523438 \"/>\n<path fill=\"none\" stroke-width=\"1\" stroke-linecap=\"butt\" stroke-linejoin=\"miter\" stroke=\"rgb(26.666667%, 26.666667%, 26.666667%)\" stroke-opacity=\"1\" stroke-miterlimit=\"10\" d=\"M 198.964844 99.40625 L 232.804688 20 \"/>\n<path fill-rule=\"nonzero\" fill=\"rgb(100%, 0%, 0%)\" fill-opacity=\"1\" stroke-width=\"1\" stroke-linecap=\"butt\" stroke-linejoin=\"miter\" stroke=\"rgb(0%, 0%, 0%)\" stroke-opacity=\"1\" stroke-miterlimit=\"10\" d=\"M 290 134.828125 C 290 140.351562 285.523438 144.828125 280 144.828125 C 274.476562 144.828125 270 140.351562 270 134.828125 C 270 129.304688 274.476562 124.828125 280 124.828125 C 285.523438 124.828125 290 129.304688 290 134.828125 \"/>\n<path fill-rule=\"nonzero\" fill=\"rgb(100%, 0%, 0%)\" fill-opacity=\"1\" stroke-width=\"1\" stroke-linecap=\"butt\" stroke-linejoin=\"miter\" stroke=\"rgb(0%, 0%, 0%)\" stroke-opacity=\"1\" stroke-miterlimit=\"10\" d=\"M 230.957031 180 C 230.957031 185.523438 226.480469 190 220.957031 190 C 215.433594 190 210.957031 185.523438 210.957031 180 C 210.957031 174.476562 215.433594 170 220.957031 170 C 226.480469 170 230.957031 174.476562 230.957031 180 \"/>\n<path fill-rule=\"nonzero\" fill=\"rgb(100%, 0%, 0%)\" fill-opacity=\"1\" stroke-width=\"1\" stroke-linecap=\"butt\" stroke-linejoin=\"miter\" stroke=\"rgb(0%, 0%, 0%)\" stroke-opacity=\"1\" stroke-miterlimit=\"10\" d=\"M 208.964844 99.40625 C 208.964844 104.929688 204.488281 109.40625 198.964844 109.40625 C 193.441406 109.40625 188.964844 104.929688 188.964844 99.40625 C 188.964844 93.886719 193.441406 89.40625 198.964844 89.40625 C 204.488281 89.40625 208.964844 93.886719 208.964844 99.40625 \"/>\n<path fill-rule=\"nonzero\" fill=\"rgb(100%, 0%, 0%)\" fill-opacity=\"1\" stroke-width=\"1\" stroke-linecap=\"butt\" stroke-linejoin=\"miter\" stroke=\"rgb(0%, 0%, 0%)\" stroke-opacity=\"1\" stroke-miterlimit=\"10\" d=\"M 116.71875 95.164062 C 116.71875 100.6875 112.242188 105.164062 106.71875 105.164062 C 101.195312 105.164062 96.71875 100.6875 96.71875 95.164062 C 96.71875 89.640625 101.195312 85.164062 106.71875 85.164062 C 112.242188 85.164062 116.71875 89.640625 116.71875 95.164062 \"/>\n<path fill-rule=\"nonzero\" fill=\"rgb(100%, 0%, 0%)\" fill-opacity=\"1\" stroke-width=\"1\" stroke-linecap=\"butt\" stroke-linejoin=\"miter\" stroke=\"rgb(0%, 0%, 0%)\" stroke-opacity=\"1\" stroke-miterlimit=\"10\" d=\"M 30 91.523438 C 30 97.046875 25.523438 101.523438 20 101.523438 C 14.476562 101.523438 10 97.046875 10 91.523438 C 10 86 14.476562 81.523438 20 81.523438 C 25.523438 81.523438 30 86 30 91.523438 \"/>\n<path fill-rule=\"nonzero\" fill=\"rgb(100%, 0%, 0%)\" fill-opacity=\"1\" stroke-width=\"1\" stroke-linecap=\"butt\" stroke-linejoin=\"miter\" stroke=\"rgb(0%, 0%, 0%)\" stroke-opacity=\"1\" stroke-miterlimit=\"10\" d=\"M 242.804688 20 C 242.804688 25.523438 238.328125 30 232.804688 30 C 227.28125 30 222.804688 25.523438 222.804688 20 C 222.804688 14.476562 227.28125 10 232.804688 10 C 238.328125 10 242.804688 14.476562 242.804688 20 \"/>\n<g fill=\"rgb(0%, 0%, 0%)\" fill-opacity=\"1\">\n<use xlink:href=\"#glyph-0-1\" x=\"275.332031\" y=\"141.320312\"/>\n</g>\n<g fill=\"rgb(0%, 0%, 0%)\" fill-opacity=\"1\">\n<use xlink:href=\"#glyph-0-2\" x=\"216.148438\" y=\"186.492188\"/>\n</g>\n<g fill=\"rgb(0%, 0%, 0%)\" fill-opacity=\"1\">\n<use xlink:href=\"#glyph-0-3\" x=\"193.839844\" y=\"105.988281\"/>\n</g>\n<g fill=\"rgb(0%, 0%, 0%)\" fill-opacity=\"1\">\n<use xlink:href=\"#glyph-0-4\" x=\"101.496094\" y=\"101.65625\"/>\n</g>\n<g fill=\"rgb(0%, 0%, 0%)\" fill-opacity=\"1\">\n<use xlink:href=\"#glyph-0-5\" x=\"15.152344\" y=\"98.015625\"/>\n</g>\n<g fill=\"rgb(0%, 0%, 0%)\" fill-opacity=\"1\">\n<use xlink:href=\"#glyph-0-6\" x=\"228.277344\" y=\"26.492188\"/>\n</g>\n</svg>\n",
            "text/plain": [
              "<igraph.drawing.cairo.plot.CairoPlot at 0x18fe9322680>"
            ]
          },
          "execution_count": 21,
          "metadata": {
            "image/svg+xml": {
              "isolated": true
            }
          },
          "output_type": "execute_result"
        }
      ],
      "source": [
        "g5=Graph.Formula('A-B, B-C, B-C, B-C, A-A, C-A, C-D, D-E, C-F',simplify = False)\n",
        "plot(g5, bbox=(300, 200),vertex_label=g5.vs['name'])"
      ]
    },
    {
      "cell_type": "code",
      "execution_count": 22,
      "metadata": {
        "id": "6XZYv1RLeRvF"
      },
      "outputs": [
        {
          "data": {
            "text/plain": [
              "[4, 4, 6, 2, 1, 1]"
            ]
          },
          "execution_count": 22,
          "metadata": {},
          "output_type": "execute_result"
        }
      ],
      "source": [
        "g5.degree(mode='all')"
      ]
    },
    {
      "cell_type": "markdown",
      "metadata": {
        "id": "644qTYpqeRvG"
      },
      "source": [
        "Create the directed graph that you want and use the different modes to see the differences and share it in the 3_2 discussion board"
      ]
    },
    {
      "cell_type": "code",
      "execution_count": null,
      "metadata": {
        "id": "yljICO1UeRvH"
      },
      "outputs": [],
      "source": [
        "#Insert your code here, plot the results and share it in session 3_2"
      ]
    },
    {
      "cell_type": "markdown",
      "metadata": {
        "id": "VSVJ3mdQeRvI"
      },
      "source": [
        "Degree distribution can be seen through a histogram of the frequency of the node degrees. Calculate the histogram of the degrees for your graph and share it in discussion board 3_3"
      ]
    },
    {
      "cell_type": "code",
      "execution_count": null,
      "metadata": {
        "id": "4VDq8sY7eRvI"
      },
      "outputs": [],
      "source": [
        "#Insert your code here\n"
      ]
    },
    {
      "cell_type": "markdown",
      "metadata": {
        "id": "ZFpHygnWhRgd"
      },
      "source": [
        "Use any famous package of this list: https://igraph.org/python/tutorial/0.9.9/generation.html#famous-graphs and calculate betwenness, closeness and degree centrality. Calculate top 10 and share it in the discussion forum 4_1 with an explanation of the results. I am sharing with you below how to do it for Zachary."
      ]
    },
    {
      "cell_type": "code",
      "execution_count": 79,
      "metadata": {
        "id": "3znSRERUhML0"
      },
      "outputs": [],
      "source": [
        "g = Graph.Famous('Smallestcyclicgroup')\n",
        "g.vs[\"degree\"] = g.degree()\n",
        "g.vs[\"betweenness\"] = g.betweenness()\n",
        "g.vs[\"pagerank\"] = g.pagerank()"
      ]
    },
    {
      "cell_type": "code",
      "execution_count": 80,
      "metadata": {},
      "outputs": [
        {
          "data": {
            "image/svg+xml": "<?xml version=\"1.0\" encoding=\"UTF-8\"?>\n<svg xmlns=\"http://www.w3.org/2000/svg\" xmlns:xlink=\"http://www.w3.org/1999/xlink\" width=\"1000\" height=\"600\" viewBox=\"0 0 1000 600\">\n<defs>\n<g>\n<g id=\"glyph-0-0\">\n<path d=\"M 1.75 0 L 1.75 -8.75 L 8.75 -8.75 L 8.75 0 L 1.75 0 M 1.96875 -0.21875 L 8.53125 -0.21875 L 8.53125 -8.53125 L 1.96875 -8.53125 Z M 1.96875 -0.21875 \"/>\n</g>\n<g id=\"glyph-0-1\">\n<path d=\"M 0.582031 -2.625 L 1.875 -2.734375 C 1.96875 -2.105469 2.191406 -1.632812 2.539062 -1.316406 C 2.886719 -1 3.308594 -0.839844 3.800781 -0.839844 C 4.394531 -0.839844 4.894531 -1.0625 5.304688 -1.511719 C 5.714844 -1.957031 5.921875 -2.550781 5.921875 -3.289062 C 5.921875 -3.988281 5.722656 -4.542969 5.328125 -4.949219 C 4.933594 -5.355469 4.417969 -5.558594 3.78125 -5.558594 C 3.382812 -5.558594 3.027344 -5.46875 2.707031 -5.289062 C 2.386719 -5.109375 2.136719 -4.875 1.953125 -4.585938 L 0.800781 -4.738281 L 1.769531 -9.882812 L 6.753906 -9.882812 L 6.753906 -8.710938 L 2.753906 -8.710938 L 2.214844 -6.015625 C 2.816406 -6.433594 3.449219 -6.644531 4.109375 -6.644531 C 4.984375 -6.644531 5.722656 -6.339844 6.324219 -5.734375 C 6.925781 -5.128906 7.226562 -4.351562 7.226562 -3.398438 C 7.226562 -2.492188 6.960938 -1.707031 6.433594 -1.046875 C 5.789062 -0.234375 4.914062 0.171875 3.800781 0.171875 C 2.890625 0.171875 2.144531 -0.0859375 1.570312 -0.59375 C 0.992188 -1.105469 0.664062 -1.78125 0.582031 -2.625 Z M 0.582031 -2.625 \"/>\n</g>\n<g id=\"glyph-0-2\">\n<path d=\"M 1.273438 0 L 1.273438 -1.402344 L 2.671875 -1.402344 L 2.671875 0 Z M 1.273438 0 \"/>\n</g>\n<g id=\"glyph-0-3\">\n<path d=\"M 0.582031 -4.941406 C 0.582031 -6.128906 0.703125 -7.082031 0.945312 -7.804688 C 1.191406 -8.527344 1.554688 -9.082031 2.035156 -9.476562 C 2.515625 -9.867188 3.121094 -10.0625 3.847656 -10.0625 C 4.386719 -10.0625 4.859375 -9.953125 5.265625 -9.738281 C 5.667969 -9.519531 6.003906 -9.210938 6.269531 -8.800781 C 6.53125 -8.394531 6.738281 -7.898438 6.890625 -7.3125 C 7.039062 -6.726562 7.117188 -5.9375 7.117188 -4.941406 C 7.117188 -3.765625 6.996094 -2.816406 6.753906 -2.09375 C 6.511719 -1.371094 6.152344 -0.816406 5.671875 -0.421875 C 5.191406 -0.0273438 4.582031 0.171875 3.847656 0.171875 C 2.882812 0.171875 2.125 -0.175781 1.570312 -0.867188 C 0.910156 -1.703125 0.582031 -3.058594 0.582031 -4.941406 M 1.84375 -4.941406 C 1.84375 -3.296875 2.039062 -2.203125 2.421875 -1.65625 C 2.808594 -1.113281 3.285156 -0.839844 3.847656 -0.839844 C 4.414062 -0.839844 4.890625 -1.113281 5.273438 -1.660156 C 5.660156 -2.207031 5.851562 -3.300781 5.851562 -4.941406 C 5.851562 -6.59375 5.660156 -7.6875 5.273438 -8.230469 C 4.890625 -8.773438 4.410156 -9.042969 3.835938 -9.042969 C 3.269531 -9.042969 2.820312 -8.804688 2.480469 -8.328125 C 2.058594 -7.714844 1.84375 -6.585938 1.84375 -4.941406 Z M 1.84375 -4.941406 \"/>\n</g>\n<g id=\"glyph-0-4\">\n<path d=\"M 0.585938 -2.644531 L 1.820312 -2.808594 C 1.960938 -2.113281 2.199219 -1.609375 2.539062 -1.300781 C 2.878906 -0.996094 3.292969 -0.839844 3.78125 -0.839844 C 4.359375 -0.839844 4.847656 -1.042969 5.246094 -1.441406 C 5.644531 -1.84375 5.84375 -2.339844 5.84375 -2.933594 C 5.84375 -3.496094 5.660156 -3.964844 5.289062 -4.332031 C 4.921875 -4.699219 4.453125 -4.882812 3.882812 -4.882812 C 3.648438 -4.882812 3.359375 -4.835938 3.015625 -4.742188 L 3.152344 -5.824219 C 3.234375 -5.816406 3.300781 -5.8125 3.351562 -5.8125 C 3.875 -5.8125 4.34375 -5.945312 4.765625 -6.21875 C 5.183594 -6.492188 5.394531 -6.914062 5.394531 -7.484375 C 5.394531 -7.9375 5.242188 -8.308594 4.9375 -8.605469 C 4.628906 -8.902344 4.234375 -9.050781 3.753906 -9.050781 C 3.273438 -9.050781 2.875 -8.898438 2.554688 -8.601562 C 2.238281 -8.296875 2.03125 -7.847656 1.941406 -7.246094 L 0.710938 -7.464844 C 0.859375 -8.289062 1.203125 -8.929688 1.734375 -9.382812 C 2.269531 -9.835938 2.933594 -10.0625 3.726562 -10.0625 C 4.273438 -10.0625 4.777344 -9.945312 5.234375 -9.710938 C 5.695312 -9.476562 6.046875 -9.15625 6.292969 -8.75 C 6.535156 -8.34375 6.65625 -7.914062 6.65625 -7.457031 C 6.65625 -7.023438 6.542969 -6.628906 6.308594 -6.273438 C 6.078125 -5.921875 5.734375 -5.636719 5.277344 -5.429688 C 5.871094 -5.289062 6.328125 -5.007812 6.65625 -4.578125 C 6.984375 -4.144531 7.148438 -3.605469 7.148438 -2.960938 C 7.148438 -2.085938 6.832031 -1.34375 6.195312 -0.734375 C 5.554688 -0.125 4.75 0.179688 3.773438 0.179688 C 2.894531 0.179688 2.164062 -0.0859375 1.582031 -0.609375 C 1 -1.132812 0.671875 -1.8125 0.585938 -2.644531 Z M 0.585938 -2.644531 \"/>\n</g>\n<g id=\"glyph-0-5\">\n<path d=\"M 7.046875 -1.183594 L 7.046875 0 L 0.421875 0 C 0.414062 -0.296875 0.460938 -0.582031 0.566406 -0.855469 C 0.734375 -1.304688 1.007812 -1.75 1.378906 -2.1875 C 1.75 -2.625 2.285156 -3.132812 2.988281 -3.703125 C 4.078125 -4.597656 4.8125 -5.304688 5.195312 -5.828125 C 5.578125 -6.347656 5.769531 -6.84375 5.769531 -7.308594 C 5.769531 -7.796875 5.59375 -8.207031 5.246094 -8.542969 C 4.898438 -8.875 4.445312 -9.042969 3.882812 -9.042969 C 3.289062 -9.042969 2.816406 -8.867188 2.460938 -8.511719 C 2.105469 -8.15625 1.925781 -7.664062 1.921875 -7.035156 L 0.65625 -7.164062 C 0.742188 -8.109375 1.070312 -8.828125 1.632812 -9.320312 C 2.199219 -9.816406 2.957031 -10.0625 3.910156 -10.0625 C 4.871094 -10.0625 5.632812 -9.796875 6.195312 -9.261719 C 6.753906 -8.730469 7.035156 -8.070312 7.035156 -7.28125 C 7.035156 -6.878906 6.953125 -6.484375 6.789062 -6.097656 C 6.625 -5.710938 6.351562 -5.300781 5.972656 -4.875 C 5.589844 -4.445312 4.957031 -3.859375 4.074219 -3.109375 C 3.335938 -2.492188 2.863281 -2.070312 2.652344 -1.847656 C 2.441406 -1.628906 2.269531 -1.40625 2.132812 -1.183594 Z M 7.046875 -1.183594 \"/>\n</g>\n</g>\n</defs>\n<rect x=\"-100\" y=\"-60\" width=\"1200\" height=\"720\" fill=\"rgb(100%, 100%, 100%)\" fill-opacity=\"1\"/>\n<path fill=\"none\" stroke-width=\"1\" stroke-linecap=\"butt\" stroke-linejoin=\"miter\" stroke=\"rgb(0%, 0%, 100%)\" stroke-opacity=\"1\" stroke-miterlimit=\"10\" d=\"M 332.660156 458.609375 L 646.859375 345.351562 \"/>\n<path fill=\"none\" stroke-width=\"1\" stroke-linecap=\"butt\" stroke-linejoin=\"miter\" stroke=\"rgb(0%, 0%, 100%)\" stroke-opacity=\"1\" stroke-miterlimit=\"10\" d=\"M 332.660156 458.609375 L 324.304688 240.675781 \"/>\n<path fill=\"none\" stroke-width=\"1\" stroke-linecap=\"butt\" stroke-linejoin=\"miter\" stroke=\"rgb(0%, 0%, 100%)\" stroke-opacity=\"1\" stroke-miterlimit=\"10\" d=\"M 332.660156 458.609375 L 673.019531 550.421875 \"/>\n<path fill=\"none\" stroke-width=\"1\" stroke-linecap=\"butt\" stroke-linejoin=\"miter\" stroke=\"rgb(0%, 0%, 100%)\" stroke-opacity=\"1\" stroke-miterlimit=\"10\" d=\"M 332.660156 458.609375 L 21.050781 580 \"/>\n<path fill=\"none\" stroke-width=\"1\" stroke-linecap=\"butt\" stroke-linejoin=\"miter\" stroke=\"rgb(0%, 0%, 100%)\" stroke-opacity=\"1\" stroke-miterlimit=\"10\" d=\"M 332.660156 458.609375 L 20 369.507812 \"/>\n<path fill=\"none\" stroke-width=\"1\" stroke-linecap=\"butt\" stroke-linejoin=\"miter\" stroke=\"rgb(0%, 0%, 100%)\" stroke-opacity=\"1\" stroke-miterlimit=\"10\" d=\"M 646.859375 345.351562 L 324.304688 240.675781 \"/>\n<path fill=\"none\" stroke-width=\"1\" stroke-linecap=\"butt\" stroke-linejoin=\"miter\" stroke=\"rgb(0%, 0%, 100%)\" stroke-opacity=\"1\" stroke-miterlimit=\"10\" d=\"M 646.859375 345.351562 L 673.019531 550.421875 \"/>\n<path fill=\"none\" stroke-width=\"1\" stroke-linecap=\"butt\" stroke-linejoin=\"miter\" stroke=\"rgb(0%, 0%, 100%)\" stroke-opacity=\"1\" stroke-miterlimit=\"10\" d=\"M 646.859375 345.351562 L 610.800781 124.707031 \"/>\n<path fill=\"none\" stroke-width=\"1\" stroke-linecap=\"butt\" stroke-linejoin=\"miter\" stroke=\"rgb(0%, 0%, 100%)\" stroke-opacity=\"1\" stroke-miterlimit=\"10\" d=\"M 646.859375 345.351562 L 980 444.636719 \"/>\n<path fill=\"none\" stroke-width=\"1\" stroke-linecap=\"butt\" stroke-linejoin=\"miter\" stroke=\"rgb(0%, 0%, 100%)\" stroke-opacity=\"1\" stroke-miterlimit=\"10\" d=\"M 324.304688 240.675781 L 20 369.507812 \"/>\n<path fill=\"none\" stroke-width=\"1\" stroke-linecap=\"butt\" stroke-linejoin=\"miter\" stroke=\"rgb(0%, 0%, 100%)\" stroke-opacity=\"1\" stroke-miterlimit=\"10\" d=\"M 324.304688 240.675781 L 302.773438 20 \"/>\n<path fill=\"none\" stroke-width=\"1\" stroke-linecap=\"butt\" stroke-linejoin=\"miter\" stroke=\"rgb(0%, 0%, 100%)\" stroke-opacity=\"1\" stroke-miterlimit=\"10\" d=\"M 324.304688 240.675781 L 610.800781 124.707031 \"/>\n<path fill=\"none\" stroke-width=\"1\" stroke-linecap=\"butt\" stroke-linejoin=\"miter\" stroke=\"rgb(0%, 0%, 100%)\" stroke-opacity=\"1\" stroke-miterlimit=\"10\" d=\"M 673.019531 550.421875 L 980 444.636719 \"/>\n<path fill=\"none\" stroke-width=\"1\" stroke-linecap=\"butt\" stroke-linejoin=\"miter\" stroke=\"rgb(0%, 0%, 100%)\" stroke-opacity=\"1\" stroke-miterlimit=\"10\" d=\"M 21.050781 580 L 20 369.507812 \"/>\n<path fill=\"none\" stroke-width=\"1\" stroke-linecap=\"butt\" stroke-linejoin=\"miter\" stroke=\"rgb(0%, 0%, 100%)\" stroke-opacity=\"1\" stroke-miterlimit=\"10\" d=\"M 302.773438 20 L 610.800781 124.707031 \"/>\n<path fill-rule=\"nonzero\" fill=\"rgb(0%, 100%, 0%)\" fill-opacity=\"1\" stroke-width=\"1\" stroke-linecap=\"butt\" stroke-linejoin=\"miter\" stroke=\"rgb(0%, 0%, 0%)\" stroke-opacity=\"1\" stroke-miterlimit=\"10\" d=\"M 340.160156 458.609375 C 340.160156 462.75 336.804688 466.109375 332.660156 466.109375 C 328.519531 466.109375 325.160156 462.75 325.160156 458.609375 C 325.160156 454.46875 328.519531 451.109375 332.660156 451.109375 C 336.804688 451.109375 340.160156 454.46875 340.160156 458.609375 \"/>\n<path fill-rule=\"nonzero\" fill=\"rgb(0%, 100%, 0%)\" fill-opacity=\"1\" stroke-width=\"1\" stroke-linecap=\"butt\" stroke-linejoin=\"miter\" stroke=\"rgb(0%, 0%, 0%)\" stroke-opacity=\"1\" stroke-miterlimit=\"10\" d=\"M 654.359375 345.351562 C 654.359375 349.492188 651 352.851562 646.859375 352.851562 C 642.714844 352.851562 639.359375 349.492188 639.359375 345.351562 C 639.359375 341.210938 642.714844 337.851562 646.859375 337.851562 C 651 337.851562 654.359375 341.210938 654.359375 345.351562 \"/>\n<path fill-rule=\"nonzero\" fill=\"rgb(0%, 100%, 0%)\" fill-opacity=\"1\" stroke-width=\"1\" stroke-linecap=\"butt\" stroke-linejoin=\"miter\" stroke=\"rgb(0%, 0%, 0%)\" stroke-opacity=\"1\" stroke-miterlimit=\"10\" d=\"M 331.804688 240.675781 C 331.804688 244.816406 328.445312 248.175781 324.304688 248.175781 C 320.160156 248.175781 316.804688 244.816406 316.804688 240.675781 C 316.804688 236.53125 320.160156 233.175781 324.304688 233.175781 C 328.445312 233.175781 331.804688 236.53125 331.804688 240.675781 \"/>\n<path fill-rule=\"nonzero\" fill=\"rgb(0%, 100%, 0%)\" fill-opacity=\"1\" stroke-width=\"1\" stroke-linecap=\"butt\" stroke-linejoin=\"miter\" stroke=\"rgb(0%, 0%, 0%)\" stroke-opacity=\"1\" stroke-miterlimit=\"10\" d=\"M 680.519531 550.421875 C 680.519531 554.5625 677.164062 557.921875 673.019531 557.921875 C 668.878906 557.921875 665.519531 554.5625 665.519531 550.421875 C 665.519531 546.277344 668.878906 542.921875 673.019531 542.921875 C 677.164062 542.921875 680.519531 546.277344 680.519531 550.421875 \"/>\n<path fill-rule=\"nonzero\" fill=\"rgb(0%, 100%, 0%)\" fill-opacity=\"1\" stroke-width=\"1\" stroke-linecap=\"butt\" stroke-linejoin=\"miter\" stroke=\"rgb(0%, 0%, 0%)\" stroke-opacity=\"1\" stroke-miterlimit=\"10\" d=\"M 28.550781 580 C 28.550781 584.140625 25.191406 587.5 21.050781 587.5 C 16.90625 587.5 13.550781 584.140625 13.550781 580 C 13.550781 575.859375 16.90625 572.5 21.050781 572.5 C 25.191406 572.5 28.550781 575.859375 28.550781 580 \"/>\n<path fill-rule=\"nonzero\" fill=\"rgb(0%, 100%, 0%)\" fill-opacity=\"1\" stroke-width=\"1\" stroke-linecap=\"butt\" stroke-linejoin=\"miter\" stroke=\"rgb(0%, 0%, 0%)\" stroke-opacity=\"1\" stroke-miterlimit=\"10\" d=\"M 27.5 369.507812 C 27.5 373.648438 24.140625 377.007812 20 377.007812 C 15.859375 377.007812 12.5 373.648438 12.5 369.507812 C 12.5 365.363281 15.859375 362.007812 20 362.007812 C 24.140625 362.007812 27.5 365.363281 27.5 369.507812 \"/>\n<path fill-rule=\"nonzero\" fill=\"rgb(0%, 100%, 0%)\" fill-opacity=\"1\" stroke-width=\"1\" stroke-linecap=\"butt\" stroke-linejoin=\"miter\" stroke=\"rgb(0%, 0%, 0%)\" stroke-opacity=\"1\" stroke-miterlimit=\"10\" d=\"M 310.273438 20 C 310.273438 24.140625 306.917969 27.5 302.773438 27.5 C 298.632812 27.5 295.273438 24.140625 295.273438 20 C 295.273438 15.859375 298.632812 12.5 302.773438 12.5 C 306.917969 12.5 310.273438 15.859375 310.273438 20 \"/>\n<path fill-rule=\"nonzero\" fill=\"rgb(0%, 100%, 0%)\" fill-opacity=\"1\" stroke-width=\"1\" stroke-linecap=\"butt\" stroke-linejoin=\"miter\" stroke=\"rgb(0%, 0%, 0%)\" stroke-opacity=\"1\" stroke-miterlimit=\"10\" d=\"M 618.300781 124.707031 C 618.300781 128.851562 614.945312 132.207031 610.800781 132.207031 C 606.660156 132.207031 603.300781 128.851562 603.300781 124.707031 C 603.300781 120.566406 606.660156 117.207031 610.800781 117.207031 C 614.945312 117.207031 618.300781 120.566406 618.300781 124.707031 \"/>\n<path fill-rule=\"nonzero\" fill=\"rgb(0%, 100%, 0%)\" fill-opacity=\"1\" stroke-width=\"1\" stroke-linecap=\"butt\" stroke-linejoin=\"miter\" stroke=\"rgb(0%, 0%, 0%)\" stroke-opacity=\"1\" stroke-miterlimit=\"10\" d=\"M 987.5 444.636719 C 987.5 448.777344 984.140625 452.136719 980 452.136719 C 975.859375 452.136719 972.5 448.777344 972.5 444.636719 C 972.5 440.492188 975.859375 437.136719 980 437.136719 C 984.140625 437.136719 987.5 440.492188 987.5 444.636719 \"/>\n<g fill=\"rgb(0%, 0%, 0%)\" fill-opacity=\"1\">\n<use xlink:href=\"#glyph-0-1\" x=\"319.082031\" y=\"465.125\"/>\n<use xlink:href=\"#glyph-0-2\" x=\"326.868164\" y=\"465.125\"/>\n<use xlink:href=\"#glyph-0-3\" x=\"330.757812\" y=\"465.125\"/>\n<use xlink:href=\"#glyph-0-3\" x=\"338.543945\" y=\"465.125\"/>\n</g>\n<g fill=\"rgb(0%, 0%, 0%)\" fill-opacity=\"1\">\n<use xlink:href=\"#glyph-0-1\" x=\"633.277344\" y=\"351.867188\"/>\n<use xlink:href=\"#glyph-0-2\" x=\"641.063477\" y=\"351.867188\"/>\n<use xlink:href=\"#glyph-0-3\" x=\"644.953125\" y=\"351.867188\"/>\n<use xlink:href=\"#glyph-0-3\" x=\"652.739258\" y=\"351.867188\"/>\n</g>\n<g fill=\"rgb(0%, 0%, 0%)\" fill-opacity=\"1\">\n<use xlink:href=\"#glyph-0-1\" x=\"310.722656\" y=\"247.1875\"/>\n<use xlink:href=\"#glyph-0-2\" x=\"318.508789\" y=\"247.1875\"/>\n<use xlink:href=\"#glyph-0-3\" x=\"322.398438\" y=\"247.1875\"/>\n<use xlink:href=\"#glyph-0-3\" x=\"330.18457\" y=\"247.1875\"/>\n</g>\n<g fill=\"rgb(0%, 0%, 0%)\" fill-opacity=\"1\">\n<use xlink:href=\"#glyph-0-4\" x=\"659.4375\" y=\"556.933594\"/>\n<use xlink:href=\"#glyph-0-2\" x=\"667.223633\" y=\"556.933594\"/>\n<use xlink:href=\"#glyph-0-3\" x=\"671.113281\" y=\"556.933594\"/>\n<use xlink:href=\"#glyph-0-3\" x=\"678.899414\" y=\"556.933594\"/>\n</g>\n<g fill=\"rgb(0%, 0%, 0%)\" fill-opacity=\"1\">\n<use xlink:href=\"#glyph-0-5\" x=\"7.554688\" y=\"586.515625\"/>\n<use xlink:href=\"#glyph-0-2\" x=\"15.34082\" y=\"586.515625\"/>\n<use xlink:href=\"#glyph-0-3\" x=\"19.230469\" y=\"586.515625\"/>\n<use xlink:href=\"#glyph-0-3\" x=\"27.016602\" y=\"586.515625\"/>\n</g>\n<g fill=\"rgb(0%, 0%, 0%)\" fill-opacity=\"1\">\n<use xlink:href=\"#glyph-0-4\" x=\"6.417969\" y=\"376.019531\"/>\n<use xlink:href=\"#glyph-0-2\" x=\"14.204102\" y=\"376.019531\"/>\n<use xlink:href=\"#glyph-0-3\" x=\"18.09375\" y=\"376.019531\"/>\n<use xlink:href=\"#glyph-0-3\" x=\"25.879883\" y=\"376.019531\"/>\n</g>\n<g fill=\"rgb(0%, 0%, 0%)\" fill-opacity=\"1\">\n<use xlink:href=\"#glyph-0-5\" x=\"289.28125\" y=\"26.515625\"/>\n<use xlink:href=\"#glyph-0-2\" x=\"297.067383\" y=\"26.515625\"/>\n<use xlink:href=\"#glyph-0-3\" x=\"300.957031\" y=\"26.515625\"/>\n<use xlink:href=\"#glyph-0-3\" x=\"308.743164\" y=\"26.515625\"/>\n</g>\n<g fill=\"rgb(0%, 0%, 0%)\" fill-opacity=\"1\">\n<use xlink:href=\"#glyph-0-4\" x=\"597.21875\" y=\"131.222656\"/>\n<use xlink:href=\"#glyph-0-2\" x=\"605.004883\" y=\"131.222656\"/>\n<use xlink:href=\"#glyph-0-3\" x=\"608.894531\" y=\"131.222656\"/>\n<use xlink:href=\"#glyph-0-3\" x=\"616.680664\" y=\"131.222656\"/>\n</g>\n<g fill=\"rgb(0%, 0%, 0%)\" fill-opacity=\"1\">\n<use xlink:href=\"#glyph-0-5\" x=\"966.507812\" y=\"451.148438\"/>\n<use xlink:href=\"#glyph-0-2\" x=\"974.293945\" y=\"451.148438\"/>\n<use xlink:href=\"#glyph-0-3\" x=\"978.183594\" y=\"451.148438\"/>\n<use xlink:href=\"#glyph-0-3\" x=\"985.969727\" y=\"451.148438\"/>\n</g>\n</svg>\n",
            "text/plain": [
              "<igraph.drawing.cairo.plot.CairoPlot at 0x18f84043130>"
            ]
          },
          "execution_count": 80,
          "metadata": {
            "image/svg+xml": {
              "isolated": true
            }
          },
          "output_type": "execute_result"
        }
      ],
      "source": [
        "# Format vertex labels as floats\n",
        "degree_values = [\"{:.2f}\".format(float(label)) for label in g.vs['degree']]\n",
        "\n",
        "# Plot the graph with formatted vertex labels\n",
        "plot(g, bbox=(1000, 600), vertex_label=degree_values, vertex_size=15, vertex_color=\"green\", edge_color=\"blue\", cex=5)\n"
      ]
    },
    {
      "cell_type": "code",
      "execution_count": 81,
      "metadata": {},
      "outputs": [
        {
          "data": {
            "image/svg+xml": "<?xml version=\"1.0\" encoding=\"UTF-8\"?>\n<svg xmlns=\"http://www.w3.org/2000/svg\" xmlns:xlink=\"http://www.w3.org/1999/xlink\" width=\"300\" height=\"200\" viewBox=\"0 0 300 200\">\n<defs>\n<g>\n<g id=\"glyph-0-0\">\n<path d=\"M 1.75 0 L 1.75 -8.75 L 8.75 -8.75 L 8.75 0 L 1.75 0 M 1.96875 -0.21875 L 8.53125 -0.21875 L 8.53125 -8.53125 L 1.96875 -8.53125 Z M 1.96875 -0.21875 \"/>\n</g>\n<g id=\"glyph-0-1\">\n<path d=\"M 0.582031 -2.625 L 1.875 -2.734375 C 1.96875 -2.105469 2.191406 -1.632812 2.539062 -1.316406 C 2.886719 -1 3.308594 -0.839844 3.800781 -0.839844 C 4.394531 -0.839844 4.894531 -1.0625 5.304688 -1.511719 C 5.714844 -1.957031 5.921875 -2.550781 5.921875 -3.289062 C 5.921875 -3.988281 5.722656 -4.542969 5.328125 -4.949219 C 4.933594 -5.355469 4.417969 -5.558594 3.78125 -5.558594 C 3.382812 -5.558594 3.027344 -5.46875 2.707031 -5.289062 C 2.386719 -5.109375 2.136719 -4.875 1.953125 -4.585938 L 0.800781 -4.738281 L 1.769531 -9.882812 L 6.753906 -9.882812 L 6.753906 -8.710938 L 2.753906 -8.710938 L 2.214844 -6.015625 C 2.816406 -6.433594 3.449219 -6.644531 4.109375 -6.644531 C 4.984375 -6.644531 5.722656 -6.339844 6.324219 -5.734375 C 6.925781 -5.128906 7.226562 -4.351562 7.226562 -3.398438 C 7.226562 -2.492188 6.960938 -1.707031 6.433594 -1.046875 C 5.789062 -0.234375 4.914062 0.171875 3.800781 0.171875 C 2.890625 0.171875 2.144531 -0.0859375 1.570312 -0.59375 C 0.992188 -1.105469 0.664062 -1.78125 0.582031 -2.625 Z M 0.582031 -2.625 \"/>\n</g>\n<g id=\"glyph-0-2\">\n<path d=\"M 0.585938 -2.644531 L 1.820312 -2.808594 C 1.960938 -2.113281 2.199219 -1.609375 2.539062 -1.300781 C 2.878906 -0.996094 3.292969 -0.839844 3.78125 -0.839844 C 4.359375 -0.839844 4.847656 -1.042969 5.246094 -1.441406 C 5.644531 -1.84375 5.84375 -2.339844 5.84375 -2.933594 C 5.84375 -3.496094 5.660156 -3.964844 5.289062 -4.332031 C 4.921875 -4.699219 4.453125 -4.882812 3.882812 -4.882812 C 3.648438 -4.882812 3.359375 -4.835938 3.015625 -4.742188 L 3.152344 -5.824219 C 3.234375 -5.816406 3.300781 -5.8125 3.351562 -5.8125 C 3.875 -5.8125 4.34375 -5.945312 4.765625 -6.21875 C 5.183594 -6.492188 5.394531 -6.914062 5.394531 -7.484375 C 5.394531 -7.9375 5.242188 -8.308594 4.9375 -8.605469 C 4.628906 -8.902344 4.234375 -9.050781 3.753906 -9.050781 C 3.273438 -9.050781 2.875 -8.898438 2.554688 -8.601562 C 2.238281 -8.296875 2.03125 -7.847656 1.941406 -7.246094 L 0.710938 -7.464844 C 0.859375 -8.289062 1.203125 -8.929688 1.734375 -9.382812 C 2.269531 -9.835938 2.933594 -10.0625 3.726562 -10.0625 C 4.273438 -10.0625 4.777344 -9.945312 5.234375 -9.710938 C 5.695312 -9.476562 6.046875 -9.15625 6.292969 -8.75 C 6.535156 -8.34375 6.65625 -7.914062 6.65625 -7.457031 C 6.65625 -7.023438 6.542969 -6.628906 6.308594 -6.273438 C 6.078125 -5.921875 5.734375 -5.636719 5.277344 -5.429688 C 5.871094 -5.289062 6.328125 -5.007812 6.65625 -4.578125 C 6.984375 -4.144531 7.148438 -3.605469 7.148438 -2.960938 C 7.148438 -2.085938 6.832031 -1.34375 6.195312 -0.734375 C 5.554688 -0.125 4.75 0.179688 3.773438 0.179688 C 2.894531 0.179688 2.164062 -0.0859375 1.582031 -0.609375 C 1 -1.132812 0.671875 -1.8125 0.585938 -2.644531 Z M 0.585938 -2.644531 \"/>\n</g>\n<g id=\"glyph-0-3\">\n<path d=\"M 7.046875 -1.183594 L 7.046875 0 L 0.421875 0 C 0.414062 -0.296875 0.460938 -0.582031 0.566406 -0.855469 C 0.734375 -1.304688 1.007812 -1.75 1.378906 -2.1875 C 1.75 -2.625 2.285156 -3.132812 2.988281 -3.703125 C 4.078125 -4.597656 4.8125 -5.304688 5.195312 -5.828125 C 5.578125 -6.347656 5.769531 -6.84375 5.769531 -7.308594 C 5.769531 -7.796875 5.59375 -8.207031 5.246094 -8.542969 C 4.898438 -8.875 4.445312 -9.042969 3.882812 -9.042969 C 3.289062 -9.042969 2.816406 -8.867188 2.460938 -8.511719 C 2.105469 -8.15625 1.925781 -7.664062 1.921875 -7.035156 L 0.65625 -7.164062 C 0.742188 -8.109375 1.070312 -8.828125 1.632812 -9.320312 C 2.199219 -9.816406 2.957031 -10.0625 3.910156 -10.0625 C 4.871094 -10.0625 5.632812 -9.796875 6.195312 -9.261719 C 6.753906 -8.730469 7.035156 -8.070312 7.035156 -7.28125 C 7.035156 -6.878906 6.953125 -6.484375 6.789062 -6.097656 C 6.625 -5.710938 6.351562 -5.300781 5.972656 -4.875 C 5.589844 -4.445312 4.957031 -3.859375 4.074219 -3.109375 C 3.335938 -2.492188 2.863281 -2.070312 2.652344 -1.847656 C 2.441406 -1.628906 2.269531 -1.40625 2.132812 -1.183594 Z M 7.046875 -1.183594 \"/>\n</g>\n</g>\n</defs>\n<rect x=\"-30\" y=\"-20\" width=\"360\" height=\"240\" fill=\"rgb(100%, 100%, 100%)\" fill-opacity=\"1\"/>\n<path fill=\"none\" stroke-width=\"1\" stroke-linecap=\"butt\" stroke-linejoin=\"miter\" stroke=\"rgb(26.666667%, 26.666667%, 26.666667%)\" stroke-opacity=\"1\" stroke-miterlimit=\"10\" d=\"M 104.679688 145.316406 L 189.773438 112.957031 \"/>\n<path fill=\"none\" stroke-width=\"1\" stroke-linecap=\"butt\" stroke-linejoin=\"miter\" stroke=\"rgb(26.666667%, 26.666667%, 26.666667%)\" stroke-opacity=\"1\" stroke-miterlimit=\"10\" d=\"M 104.679688 145.316406 L 102.414062 83.050781 \"/>\n<path fill=\"none\" stroke-width=\"1\" stroke-linecap=\"butt\" stroke-linejoin=\"miter\" stroke=\"rgb(26.666667%, 26.666667%, 26.666667%)\" stroke-opacity=\"1\" stroke-miterlimit=\"10\" d=\"M 104.679688 145.316406 L 196.859375 171.546875 \"/>\n<path fill=\"none\" stroke-width=\"1\" stroke-linecap=\"butt\" stroke-linejoin=\"miter\" stroke=\"rgb(26.666667%, 26.666667%, 26.666667%)\" stroke-opacity=\"1\" stroke-miterlimit=\"10\" d=\"M 104.679688 145.316406 L 20.285156 180 \"/>\n<path fill=\"none\" stroke-width=\"1\" stroke-linecap=\"butt\" stroke-linejoin=\"miter\" stroke=\"rgb(26.666667%, 26.666667%, 26.666667%)\" stroke-opacity=\"1\" stroke-miterlimit=\"10\" d=\"M 104.679688 145.316406 L 20 119.859375 \"/>\n<path fill=\"none\" stroke-width=\"1\" stroke-linecap=\"butt\" stroke-linejoin=\"miter\" stroke=\"rgb(26.666667%, 26.666667%, 26.666667%)\" stroke-opacity=\"1\" stroke-miterlimit=\"10\" d=\"M 189.773438 112.957031 L 102.414062 83.050781 \"/>\n<path fill=\"none\" stroke-width=\"1\" stroke-linecap=\"butt\" stroke-linejoin=\"miter\" stroke=\"rgb(26.666667%, 26.666667%, 26.666667%)\" stroke-opacity=\"1\" stroke-miterlimit=\"10\" d=\"M 189.773438 112.957031 L 196.859375 171.546875 \"/>\n<path fill=\"none\" stroke-width=\"1\" stroke-linecap=\"butt\" stroke-linejoin=\"miter\" stroke=\"rgb(26.666667%, 26.666667%, 26.666667%)\" stroke-opacity=\"1\" stroke-miterlimit=\"10\" d=\"M 189.773438 112.957031 L 180.007812 49.917969 \"/>\n<path fill=\"none\" stroke-width=\"1\" stroke-linecap=\"butt\" stroke-linejoin=\"miter\" stroke=\"rgb(26.666667%, 26.666667%, 26.666667%)\" stroke-opacity=\"1\" stroke-miterlimit=\"10\" d=\"M 189.773438 112.957031 L 280 141.324219 \"/>\n<path fill=\"none\" stroke-width=\"1\" stroke-linecap=\"butt\" stroke-linejoin=\"miter\" stroke=\"rgb(26.666667%, 26.666667%, 26.666667%)\" stroke-opacity=\"1\" stroke-miterlimit=\"10\" d=\"M 102.414062 83.050781 L 20 119.859375 \"/>\n<path fill=\"none\" stroke-width=\"1\" stroke-linecap=\"butt\" stroke-linejoin=\"miter\" stroke=\"rgb(26.666667%, 26.666667%, 26.666667%)\" stroke-opacity=\"1\" stroke-miterlimit=\"10\" d=\"M 102.414062 83.050781 L 96.585938 20 \"/>\n<path fill=\"none\" stroke-width=\"1\" stroke-linecap=\"butt\" stroke-linejoin=\"miter\" stroke=\"rgb(26.666667%, 26.666667%, 26.666667%)\" stroke-opacity=\"1\" stroke-miterlimit=\"10\" d=\"M 102.414062 83.050781 L 180.007812 49.917969 \"/>\n<path fill=\"none\" stroke-width=\"1\" stroke-linecap=\"butt\" stroke-linejoin=\"miter\" stroke=\"rgb(26.666667%, 26.666667%, 26.666667%)\" stroke-opacity=\"1\" stroke-miterlimit=\"10\" d=\"M 196.859375 171.546875 L 280 141.324219 \"/>\n<path fill=\"none\" stroke-width=\"1\" stroke-linecap=\"butt\" stroke-linejoin=\"miter\" stroke=\"rgb(26.666667%, 26.666667%, 26.666667%)\" stroke-opacity=\"1\" stroke-miterlimit=\"10\" d=\"M 20.285156 180 L 20 119.859375 \"/>\n<path fill=\"none\" stroke-width=\"1\" stroke-linecap=\"butt\" stroke-linejoin=\"miter\" stroke=\"rgb(26.666667%, 26.666667%, 26.666667%)\" stroke-opacity=\"1\" stroke-miterlimit=\"10\" d=\"M 96.585938 20 L 180.007812 49.917969 \"/>\n<path fill-rule=\"nonzero\" fill=\"rgb(100%, 0%, 0%)\" fill-opacity=\"1\" stroke-width=\"1\" stroke-linecap=\"butt\" stroke-linejoin=\"miter\" stroke=\"rgb(0%, 0%, 0%)\" stroke-opacity=\"1\" stroke-miterlimit=\"10\" d=\"M 114.679688 145.316406 C 114.679688 150.839844 110.203125 155.316406 104.679688 155.316406 C 99.15625 155.316406 94.679688 150.839844 94.679688 145.316406 C 94.679688 139.792969 99.15625 135.316406 104.679688 135.316406 C 110.203125 135.316406 114.679688 139.792969 114.679688 145.316406 \"/>\n<path fill-rule=\"nonzero\" fill=\"rgb(100%, 0%, 0%)\" fill-opacity=\"1\" stroke-width=\"1\" stroke-linecap=\"butt\" stroke-linejoin=\"miter\" stroke=\"rgb(0%, 0%, 0%)\" stroke-opacity=\"1\" stroke-miterlimit=\"10\" d=\"M 199.773438 112.957031 C 199.773438 118.480469 195.296875 122.957031 189.773438 122.957031 C 184.25 122.957031 179.773438 118.480469 179.773438 112.957031 C 179.773438 107.433594 184.25 102.957031 189.773438 102.957031 C 195.296875 102.957031 199.773438 107.433594 199.773438 112.957031 \"/>\n<path fill-rule=\"nonzero\" fill=\"rgb(100%, 0%, 0%)\" fill-opacity=\"1\" stroke-width=\"1\" stroke-linecap=\"butt\" stroke-linejoin=\"miter\" stroke=\"rgb(0%, 0%, 0%)\" stroke-opacity=\"1\" stroke-miterlimit=\"10\" d=\"M 112.414062 83.050781 C 112.414062 88.574219 107.9375 93.050781 102.414062 93.050781 C 96.894531 93.050781 92.414062 88.574219 92.414062 83.050781 C 92.414062 77.527344 96.894531 73.050781 102.414062 73.050781 C 107.9375 73.050781 112.414062 77.527344 112.414062 83.050781 \"/>\n<path fill-rule=\"nonzero\" fill=\"rgb(100%, 0%, 0%)\" fill-opacity=\"1\" stroke-width=\"1\" stroke-linecap=\"butt\" stroke-linejoin=\"miter\" stroke=\"rgb(0%, 0%, 0%)\" stroke-opacity=\"1\" stroke-miterlimit=\"10\" d=\"M 206.859375 171.546875 C 206.859375 177.070312 202.382812 181.546875 196.859375 181.546875 C 191.335938 181.546875 186.859375 177.070312 186.859375 171.546875 C 186.859375 166.027344 191.335938 161.546875 196.859375 161.546875 C 202.382812 161.546875 206.859375 166.027344 206.859375 171.546875 \"/>\n<path fill-rule=\"nonzero\" fill=\"rgb(100%, 0%, 0%)\" fill-opacity=\"1\" stroke-width=\"1\" stroke-linecap=\"butt\" stroke-linejoin=\"miter\" stroke=\"rgb(0%, 0%, 0%)\" stroke-opacity=\"1\" stroke-miterlimit=\"10\" d=\"M 30.285156 180 C 30.285156 185.523438 25.808594 190 20.285156 190 C 14.761719 190 10.285156 185.523438 10.285156 180 C 10.285156 174.476562 14.761719 170 20.285156 170 C 25.808594 170 30.285156 174.476562 30.285156 180 \"/>\n<path fill-rule=\"nonzero\" fill=\"rgb(100%, 0%, 0%)\" fill-opacity=\"1\" stroke-width=\"1\" stroke-linecap=\"butt\" stroke-linejoin=\"miter\" stroke=\"rgb(0%, 0%, 0%)\" stroke-opacity=\"1\" stroke-miterlimit=\"10\" d=\"M 30 119.859375 C 30 125.382812 25.523438 129.859375 20 129.859375 C 14.476562 129.859375 10 125.382812 10 119.859375 C 10 114.335938 14.476562 109.859375 20 109.859375 C 25.523438 109.859375 30 114.335938 30 119.859375 \"/>\n<path fill-rule=\"nonzero\" fill=\"rgb(100%, 0%, 0%)\" fill-opacity=\"1\" stroke-width=\"1\" stroke-linecap=\"butt\" stroke-linejoin=\"miter\" stroke=\"rgb(0%, 0%, 0%)\" stroke-opacity=\"1\" stroke-miterlimit=\"10\" d=\"M 106.585938 20 C 106.585938 25.523438 102.109375 30 96.585938 30 C 91.0625 30 86.585938 25.523438 86.585938 20 C 86.585938 14.476562 91.0625 10 96.585938 10 C 102.109375 10 106.585938 14.476562 106.585938 20 \"/>\n<path fill-rule=\"nonzero\" fill=\"rgb(100%, 0%, 0%)\" fill-opacity=\"1\" stroke-width=\"1\" stroke-linecap=\"butt\" stroke-linejoin=\"miter\" stroke=\"rgb(0%, 0%, 0%)\" stroke-opacity=\"1\" stroke-miterlimit=\"10\" d=\"M 190.007812 49.917969 C 190.007812 55.4375 185.53125 59.917969 180.007812 59.917969 C 174.484375 59.917969 170.007812 55.4375 170.007812 49.917969 C 170.007812 44.394531 174.484375 39.917969 180.007812 39.917969 C 185.53125 39.917969 190.007812 44.394531 190.007812 49.917969 \"/>\n<path fill-rule=\"nonzero\" fill=\"rgb(100%, 0%, 0%)\" fill-opacity=\"1\" stroke-width=\"1\" stroke-linecap=\"butt\" stroke-linejoin=\"miter\" stroke=\"rgb(0%, 0%, 0%)\" stroke-opacity=\"1\" stroke-miterlimit=\"10\" d=\"M 290 141.324219 C 290 146.847656 285.523438 151.324219 280 151.324219 C 274.476562 151.324219 270 146.847656 270 141.324219 C 270 135.800781 274.476562 131.324219 280 131.324219 C 285.523438 131.324219 290 135.800781 290 141.324219 \"/>\n<g fill=\"rgb(0%, 0%, 0%)\" fill-opacity=\"1\">\n<use xlink:href=\"#glyph-0-1\" x=\"100.777344\" y=\"170.203125\"/>\n</g>\n<g fill=\"rgb(0%, 0%, 0%)\" fill-opacity=\"1\">\n<use xlink:href=\"#glyph-0-1\" x=\"185.871094\" y=\"137.84375\"/>\n</g>\n<g fill=\"rgb(0%, 0%, 0%)\" fill-opacity=\"1\">\n<use xlink:href=\"#glyph-0-1\" x=\"98.511719\" y=\"107.933594\"/>\n</g>\n<g fill=\"rgb(0%, 0%, 0%)\" fill-opacity=\"1\">\n<use xlink:href=\"#glyph-0-2\" x=\"192.992188\" y=\"196.609375\"/>\n</g>\n<g fill=\"rgb(0%, 0%, 0%)\" fill-opacity=\"1\">\n<use xlink:href=\"#glyph-0-3\" x=\"16.554688\" y=\"205.0625\"/>\n</g>\n<g fill=\"rgb(0%, 0%, 0%)\" fill-opacity=\"1\">\n<use xlink:href=\"#glyph-0-2\" x=\"16.128906\" y=\"144.921875\"/>\n</g>\n<g fill=\"rgb(0%, 0%, 0%)\" fill-opacity=\"1\">\n<use xlink:href=\"#glyph-0-3\" x=\"92.855469\" y=\"45.0625\"/>\n</g>\n<g fill=\"rgb(0%, 0%, 0%)\" fill-opacity=\"1\">\n<use xlink:href=\"#glyph-0-2\" x=\"176.140625\" y=\"74.980469\"/>\n</g>\n<g fill=\"rgb(0%, 0%, 0%)\" fill-opacity=\"1\">\n<use xlink:href=\"#glyph-0-3\" x=\"276.269531\" y=\"166.386719\"/>\n</g>\n</svg>\n",
            "text/plain": [
              "<igraph.drawing.cairo.plot.CairoPlot at 0x18f840437f0>"
            ]
          },
          "execution_count": 81,
          "metadata": {
            "image/svg+xml": {
              "isolated": true
            }
          },
          "output_type": "execute_result"
        }
      ],
      "source": [
        "# Plot the graph with label degree showing numbers, not letters\n",
        "plot(g, bbox=(300, 200),vertex_label=g.vs['degree'],vertex_label_dist=1.5,vertex_size=20)"
      ]
    },
    {
      "cell_type": "code",
      "execution_count": 82,
      "metadata": {},
      "outputs": [
        {
          "data": {
            "image/svg+xml": "<?xml version=\"1.0\" encoding=\"UTF-8\"?>\n<svg xmlns=\"http://www.w3.org/2000/svg\" xmlns:xlink=\"http://www.w3.org/1999/xlink\" width=\"1000\" height=\"600\" viewBox=\"0 0 1000 600\">\n<defs>\n<g>\n<g id=\"glyph-0-0\">\n<path d=\"M 1.75 0 L 1.75 -8.75 L 8.75 -8.75 L 8.75 0 L 1.75 0 M 1.96875 -0.21875 L 8.53125 -0.21875 L 8.53125 -8.53125 L 1.96875 -8.53125 Z M 1.96875 -0.21875 \"/>\n</g>\n<g id=\"glyph-0-1\">\n<path d=\"M 0.582031 -2.625 L 1.875 -2.734375 C 1.96875 -2.105469 2.191406 -1.632812 2.539062 -1.316406 C 2.886719 -1 3.308594 -0.839844 3.800781 -0.839844 C 4.394531 -0.839844 4.894531 -1.0625 5.304688 -1.511719 C 5.714844 -1.957031 5.921875 -2.550781 5.921875 -3.289062 C 5.921875 -3.988281 5.722656 -4.542969 5.328125 -4.949219 C 4.933594 -5.355469 4.417969 -5.558594 3.78125 -5.558594 C 3.382812 -5.558594 3.027344 -5.46875 2.707031 -5.289062 C 2.386719 -5.109375 2.136719 -4.875 1.953125 -4.585938 L 0.800781 -4.738281 L 1.769531 -9.882812 L 6.753906 -9.882812 L 6.753906 -8.710938 L 2.753906 -8.710938 L 2.214844 -6.015625 C 2.816406 -6.433594 3.449219 -6.644531 4.109375 -6.644531 C 4.984375 -6.644531 5.722656 -6.339844 6.324219 -5.734375 C 6.925781 -5.128906 7.226562 -4.351562 7.226562 -3.398438 C 7.226562 -2.492188 6.960938 -1.707031 6.433594 -1.046875 C 5.789062 -0.234375 4.914062 0.171875 3.800781 0.171875 C 2.890625 0.171875 2.144531 -0.0859375 1.570312 -0.59375 C 0.992188 -1.105469 0.664062 -1.78125 0.582031 -2.625 Z M 0.582031 -2.625 \"/>\n</g>\n<g id=\"glyph-0-2\">\n<path d=\"M 0.585938 -2.644531 L 1.820312 -2.808594 C 1.960938 -2.113281 2.199219 -1.609375 2.539062 -1.300781 C 2.878906 -0.996094 3.292969 -0.839844 3.78125 -0.839844 C 4.359375 -0.839844 4.847656 -1.042969 5.246094 -1.441406 C 5.644531 -1.84375 5.84375 -2.339844 5.84375 -2.933594 C 5.84375 -3.496094 5.660156 -3.964844 5.289062 -4.332031 C 4.921875 -4.699219 4.453125 -4.882812 3.882812 -4.882812 C 3.648438 -4.882812 3.359375 -4.835938 3.015625 -4.742188 L 3.152344 -5.824219 C 3.234375 -5.816406 3.300781 -5.8125 3.351562 -5.8125 C 3.875 -5.8125 4.34375 -5.945312 4.765625 -6.21875 C 5.183594 -6.492188 5.394531 -6.914062 5.394531 -7.484375 C 5.394531 -7.9375 5.242188 -8.308594 4.9375 -8.605469 C 4.628906 -8.902344 4.234375 -9.050781 3.753906 -9.050781 C 3.273438 -9.050781 2.875 -8.898438 2.554688 -8.601562 C 2.238281 -8.296875 2.03125 -7.847656 1.941406 -7.246094 L 0.710938 -7.464844 C 0.859375 -8.289062 1.203125 -8.929688 1.734375 -9.382812 C 2.269531 -9.835938 2.933594 -10.0625 3.726562 -10.0625 C 4.273438 -10.0625 4.777344 -9.945312 5.234375 -9.710938 C 5.695312 -9.476562 6.046875 -9.15625 6.292969 -8.75 C 6.535156 -8.34375 6.65625 -7.914062 6.65625 -7.457031 C 6.65625 -7.023438 6.542969 -6.628906 6.308594 -6.273438 C 6.078125 -5.921875 5.734375 -5.636719 5.277344 -5.429688 C 5.871094 -5.289062 6.328125 -5.007812 6.65625 -4.578125 C 6.984375 -4.144531 7.148438 -3.605469 7.148438 -2.960938 C 7.148438 -2.085938 6.832031 -1.34375 6.195312 -0.734375 C 5.554688 -0.125 4.75 0.179688 3.773438 0.179688 C 2.894531 0.179688 2.164062 -0.0859375 1.582031 -0.609375 C 1 -1.132812 0.671875 -1.8125 0.585938 -2.644531 Z M 0.585938 -2.644531 \"/>\n</g>\n<g id=\"glyph-0-3\">\n<path d=\"M 7.046875 -1.183594 L 7.046875 0 L 0.421875 0 C 0.414062 -0.296875 0.460938 -0.582031 0.566406 -0.855469 C 0.734375 -1.304688 1.007812 -1.75 1.378906 -2.1875 C 1.75 -2.625 2.285156 -3.132812 2.988281 -3.703125 C 4.078125 -4.597656 4.8125 -5.304688 5.195312 -5.828125 C 5.578125 -6.347656 5.769531 -6.84375 5.769531 -7.308594 C 5.769531 -7.796875 5.59375 -8.207031 5.246094 -8.542969 C 4.898438 -8.875 4.445312 -9.042969 3.882812 -9.042969 C 3.289062 -9.042969 2.816406 -8.867188 2.460938 -8.511719 C 2.105469 -8.15625 1.925781 -7.664062 1.921875 -7.035156 L 0.65625 -7.164062 C 0.742188 -8.109375 1.070312 -8.828125 1.632812 -9.320312 C 2.199219 -9.816406 2.957031 -10.0625 3.910156 -10.0625 C 4.871094 -10.0625 5.632812 -9.796875 6.195312 -9.261719 C 6.753906 -8.730469 7.035156 -8.070312 7.035156 -7.28125 C 7.035156 -6.878906 6.953125 -6.484375 6.789062 -6.097656 C 6.625 -5.710938 6.351562 -5.300781 5.972656 -4.875 C 5.589844 -4.445312 4.957031 -3.859375 4.074219 -3.109375 C 3.335938 -2.492188 2.863281 -2.070312 2.652344 -1.847656 C 2.441406 -1.628906 2.269531 -1.40625 2.132812 -1.183594 Z M 7.046875 -1.183594 \"/>\n</g>\n</g>\n</defs>\n<rect x=\"-100\" y=\"-60\" width=\"1200\" height=\"720\" fill=\"rgb(100%, 100%, 100%)\" fill-opacity=\"1\"/>\n<path fill=\"none\" stroke-width=\"1\" stroke-linecap=\"butt\" stroke-linejoin=\"miter\" stroke=\"rgb(0%, 0%, 100%)\" stroke-opacity=\"1\" stroke-miterlimit=\"10\" d=\"M 332.660156 458.609375 L 646.859375 345.351562 \"/>\n<path fill=\"none\" stroke-width=\"1\" stroke-linecap=\"butt\" stroke-linejoin=\"miter\" stroke=\"rgb(0%, 0%, 100%)\" stroke-opacity=\"1\" stroke-miterlimit=\"10\" d=\"M 332.660156 458.609375 L 324.304688 240.675781 \"/>\n<path fill=\"none\" stroke-width=\"1\" stroke-linecap=\"butt\" stroke-linejoin=\"miter\" stroke=\"rgb(0%, 0%, 100%)\" stroke-opacity=\"1\" stroke-miterlimit=\"10\" d=\"M 332.660156 458.609375 L 673.019531 550.421875 \"/>\n<path fill=\"none\" stroke-width=\"1\" stroke-linecap=\"butt\" stroke-linejoin=\"miter\" stroke=\"rgb(0%, 0%, 100%)\" stroke-opacity=\"1\" stroke-miterlimit=\"10\" d=\"M 332.660156 458.609375 L 21.050781 580 \"/>\n<path fill=\"none\" stroke-width=\"1\" stroke-linecap=\"butt\" stroke-linejoin=\"miter\" stroke=\"rgb(0%, 0%, 100%)\" stroke-opacity=\"1\" stroke-miterlimit=\"10\" d=\"M 332.660156 458.609375 L 20 369.507812 \"/>\n<path fill=\"none\" stroke-width=\"1\" stroke-linecap=\"butt\" stroke-linejoin=\"miter\" stroke=\"rgb(0%, 0%, 100%)\" stroke-opacity=\"1\" stroke-miterlimit=\"10\" d=\"M 646.859375 345.351562 L 324.304688 240.675781 \"/>\n<path fill=\"none\" stroke-width=\"1\" stroke-linecap=\"butt\" stroke-linejoin=\"miter\" stroke=\"rgb(0%, 0%, 100%)\" stroke-opacity=\"1\" stroke-miterlimit=\"10\" d=\"M 646.859375 345.351562 L 673.019531 550.421875 \"/>\n<path fill=\"none\" stroke-width=\"1\" stroke-linecap=\"butt\" stroke-linejoin=\"miter\" stroke=\"rgb(0%, 0%, 100%)\" stroke-opacity=\"1\" stroke-miterlimit=\"10\" d=\"M 646.859375 345.351562 L 610.800781 124.707031 \"/>\n<path fill=\"none\" stroke-width=\"1\" stroke-linecap=\"butt\" stroke-linejoin=\"miter\" stroke=\"rgb(0%, 0%, 100%)\" stroke-opacity=\"1\" stroke-miterlimit=\"10\" d=\"M 646.859375 345.351562 L 980 444.636719 \"/>\n<path fill=\"none\" stroke-width=\"1\" stroke-linecap=\"butt\" stroke-linejoin=\"miter\" stroke=\"rgb(0%, 0%, 100%)\" stroke-opacity=\"1\" stroke-miterlimit=\"10\" d=\"M 324.304688 240.675781 L 20 369.507812 \"/>\n<path fill=\"none\" stroke-width=\"1\" stroke-linecap=\"butt\" stroke-linejoin=\"miter\" stroke=\"rgb(0%, 0%, 100%)\" stroke-opacity=\"1\" stroke-miterlimit=\"10\" d=\"M 324.304688 240.675781 L 302.773438 20 \"/>\n<path fill=\"none\" stroke-width=\"1\" stroke-linecap=\"butt\" stroke-linejoin=\"miter\" stroke=\"rgb(0%, 0%, 100%)\" stroke-opacity=\"1\" stroke-miterlimit=\"10\" d=\"M 324.304688 240.675781 L 610.800781 124.707031 \"/>\n<path fill=\"none\" stroke-width=\"1\" stroke-linecap=\"butt\" stroke-linejoin=\"miter\" stroke=\"rgb(0%, 0%, 100%)\" stroke-opacity=\"1\" stroke-miterlimit=\"10\" d=\"M 673.019531 550.421875 L 980 444.636719 \"/>\n<path fill=\"none\" stroke-width=\"1\" stroke-linecap=\"butt\" stroke-linejoin=\"miter\" stroke=\"rgb(0%, 0%, 100%)\" stroke-opacity=\"1\" stroke-miterlimit=\"10\" d=\"M 21.050781 580 L 20 369.507812 \"/>\n<path fill=\"none\" stroke-width=\"1\" stroke-linecap=\"butt\" stroke-linejoin=\"miter\" stroke=\"rgb(0%, 0%, 100%)\" stroke-opacity=\"1\" stroke-miterlimit=\"10\" d=\"M 302.773438 20 L 610.800781 124.707031 \"/>\n<path fill-rule=\"nonzero\" fill=\"rgb(0%, 100%, 0%)\" fill-opacity=\"1\" stroke-width=\"1\" stroke-linecap=\"butt\" stroke-linejoin=\"miter\" stroke=\"rgb(0%, 0%, 0%)\" stroke-opacity=\"1\" stroke-miterlimit=\"10\" d=\"M 340.160156 458.609375 C 340.160156 462.75 336.804688 466.109375 332.660156 466.109375 C 328.519531 466.109375 325.160156 462.75 325.160156 458.609375 C 325.160156 454.46875 328.519531 451.109375 332.660156 451.109375 C 336.804688 451.109375 340.160156 454.46875 340.160156 458.609375 \"/>\n<path fill-rule=\"nonzero\" fill=\"rgb(0%, 100%, 0%)\" fill-opacity=\"1\" stroke-width=\"1\" stroke-linecap=\"butt\" stroke-linejoin=\"miter\" stroke=\"rgb(0%, 0%, 0%)\" stroke-opacity=\"1\" stroke-miterlimit=\"10\" d=\"M 654.359375 345.351562 C 654.359375 349.492188 651 352.851562 646.859375 352.851562 C 642.714844 352.851562 639.359375 349.492188 639.359375 345.351562 C 639.359375 341.210938 642.714844 337.851562 646.859375 337.851562 C 651 337.851562 654.359375 341.210938 654.359375 345.351562 \"/>\n<path fill-rule=\"nonzero\" fill=\"rgb(0%, 100%, 0%)\" fill-opacity=\"1\" stroke-width=\"1\" stroke-linecap=\"butt\" stroke-linejoin=\"miter\" stroke=\"rgb(0%, 0%, 0%)\" stroke-opacity=\"1\" stroke-miterlimit=\"10\" d=\"M 331.804688 240.675781 C 331.804688 244.816406 328.445312 248.175781 324.304688 248.175781 C 320.160156 248.175781 316.804688 244.816406 316.804688 240.675781 C 316.804688 236.53125 320.160156 233.175781 324.304688 233.175781 C 328.445312 233.175781 331.804688 236.53125 331.804688 240.675781 \"/>\n<path fill-rule=\"nonzero\" fill=\"rgb(0%, 100%, 0%)\" fill-opacity=\"1\" stroke-width=\"1\" stroke-linecap=\"butt\" stroke-linejoin=\"miter\" stroke=\"rgb(0%, 0%, 0%)\" stroke-opacity=\"1\" stroke-miterlimit=\"10\" d=\"M 680.519531 550.421875 C 680.519531 554.5625 677.164062 557.921875 673.019531 557.921875 C 668.878906 557.921875 665.519531 554.5625 665.519531 550.421875 C 665.519531 546.277344 668.878906 542.921875 673.019531 542.921875 C 677.164062 542.921875 680.519531 546.277344 680.519531 550.421875 \"/>\n<path fill-rule=\"nonzero\" fill=\"rgb(0%, 100%, 0%)\" fill-opacity=\"1\" stroke-width=\"1\" stroke-linecap=\"butt\" stroke-linejoin=\"miter\" stroke=\"rgb(0%, 0%, 0%)\" stroke-opacity=\"1\" stroke-miterlimit=\"10\" d=\"M 28.550781 580 C 28.550781 584.140625 25.191406 587.5 21.050781 587.5 C 16.90625 587.5 13.550781 584.140625 13.550781 580 C 13.550781 575.859375 16.90625 572.5 21.050781 572.5 C 25.191406 572.5 28.550781 575.859375 28.550781 580 \"/>\n<path fill-rule=\"nonzero\" fill=\"rgb(0%, 100%, 0%)\" fill-opacity=\"1\" stroke-width=\"1\" stroke-linecap=\"butt\" stroke-linejoin=\"miter\" stroke=\"rgb(0%, 0%, 0%)\" stroke-opacity=\"1\" stroke-miterlimit=\"10\" d=\"M 27.5 369.507812 C 27.5 373.648438 24.140625 377.007812 20 377.007812 C 15.859375 377.007812 12.5 373.648438 12.5 369.507812 C 12.5 365.363281 15.859375 362.007812 20 362.007812 C 24.140625 362.007812 27.5 365.363281 27.5 369.507812 \"/>\n<path fill-rule=\"nonzero\" fill=\"rgb(0%, 100%, 0%)\" fill-opacity=\"1\" stroke-width=\"1\" stroke-linecap=\"butt\" stroke-linejoin=\"miter\" stroke=\"rgb(0%, 0%, 0%)\" stroke-opacity=\"1\" stroke-miterlimit=\"10\" d=\"M 310.273438 20 C 310.273438 24.140625 306.917969 27.5 302.773438 27.5 C 298.632812 27.5 295.273438 24.140625 295.273438 20 C 295.273438 15.859375 298.632812 12.5 302.773438 12.5 C 306.917969 12.5 310.273438 15.859375 310.273438 20 \"/>\n<path fill-rule=\"nonzero\" fill=\"rgb(0%, 100%, 0%)\" fill-opacity=\"1\" stroke-width=\"1\" stroke-linecap=\"butt\" stroke-linejoin=\"miter\" stroke=\"rgb(0%, 0%, 0%)\" stroke-opacity=\"1\" stroke-miterlimit=\"10\" d=\"M 618.300781 124.707031 C 618.300781 128.851562 614.945312 132.207031 610.800781 132.207031 C 606.660156 132.207031 603.300781 128.851562 603.300781 124.707031 C 603.300781 120.566406 606.660156 117.207031 610.800781 117.207031 C 614.945312 117.207031 618.300781 120.566406 618.300781 124.707031 \"/>\n<path fill-rule=\"nonzero\" fill=\"rgb(0%, 100%, 0%)\" fill-opacity=\"1\" stroke-width=\"1\" stroke-linecap=\"butt\" stroke-linejoin=\"miter\" stroke=\"rgb(0%, 0%, 0%)\" stroke-opacity=\"1\" stroke-miterlimit=\"10\" d=\"M 987.5 444.636719 C 987.5 448.777344 984.140625 452.136719 980 452.136719 C 975.859375 452.136719 972.5 448.777344 972.5 444.636719 C 972.5 440.492188 975.859375 437.136719 980 437.136719 C 984.140625 437.136719 987.5 440.492188 987.5 444.636719 \"/>\n<g fill=\"rgb(0%, 0%, 0%)\" fill-opacity=\"1\">\n<use xlink:href=\"#glyph-0-1\" x=\"328.757812\" y=\"465.035156\"/>\n</g>\n<g fill=\"rgb(0%, 0%, 0%)\" fill-opacity=\"1\">\n<use xlink:href=\"#glyph-0-1\" x=\"642.953125\" y=\"351.777344\"/>\n</g>\n<g fill=\"rgb(0%, 0%, 0%)\" fill-opacity=\"1\">\n<use xlink:href=\"#glyph-0-1\" x=\"320.402344\" y=\"247.101562\"/>\n</g>\n<g fill=\"rgb(0%, 0%, 0%)\" fill-opacity=\"1\">\n<use xlink:href=\"#glyph-0-2\" x=\"669.152344\" y=\"556.933594\"/>\n</g>\n<g fill=\"rgb(0%, 0%, 0%)\" fill-opacity=\"1\">\n<use xlink:href=\"#glyph-0-3\" x=\"17.320312\" y=\"586.515625\"/>\n</g>\n<g fill=\"rgb(0%, 0%, 0%)\" fill-opacity=\"1\">\n<use xlink:href=\"#glyph-0-2\" x=\"16.132812\" y=\"376.019531\"/>\n</g>\n<g fill=\"rgb(0%, 0%, 0%)\" fill-opacity=\"1\">\n<use xlink:href=\"#glyph-0-3\" x=\"299.046875\" y=\"26.515625\"/>\n</g>\n<g fill=\"rgb(0%, 0%, 0%)\" fill-opacity=\"1\">\n<use xlink:href=\"#glyph-0-2\" x=\"606.933594\" y=\"131.222656\"/>\n</g>\n<g fill=\"rgb(0%, 0%, 0%)\" fill-opacity=\"1\">\n<use xlink:href=\"#glyph-0-3\" x=\"976.269531\" y=\"451.148438\"/>\n</g>\n</svg>\n",
            "text/plain": [
              "<igraph.drawing.cairo.plot.CairoPlot at 0x18f869261a0>"
            ]
          },
          "execution_count": 82,
          "metadata": {
            "image/svg+xml": {
              "isolated": true
            }
          },
          "output_type": "execute_result"
        }
      ],
      "source": [
        "#plot g \n",
        "plot(g, bbox=(1000, 600),vertex_label=g.vs['degree'], vertex_size=15, vertex_color=\"green\", edge_color=\"blue\", cex=5)"
      ]
    },
    {
      "cell_type": "code",
      "execution_count": 83,
      "metadata": {},
      "outputs": [
        {
          "data": {
            "image/svg+xml": "<?xml version=\"1.0\" encoding=\"UTF-8\"?>\n<svg xmlns=\"http://www.w3.org/2000/svg\" xmlns:xlink=\"http://www.w3.org/1999/xlink\" width=\"1000\" height=\"600\" viewBox=\"0 0 1000 600\">\n<defs>\n<g>\n<g id=\"glyph-0-0\">\n<path d=\"M 1.75 0 L 1.75 -8.75 L 8.75 -8.75 L 8.75 0 L 1.75 0 M 1.96875 -0.21875 L 8.53125 -0.21875 L 8.53125 -8.53125 L 1.96875 -8.53125 Z M 1.96875 -0.21875 \"/>\n</g>\n<g id=\"glyph-0-1\">\n<path d=\"M 0.664062 -8.710938 L 0.664062 -9.890625 L 7.148438 -9.890625 L 7.148438 -8.933594 C 6.511719 -8.253906 5.878906 -7.351562 5.253906 -6.226562 C 4.625 -5.101562 4.140625 -3.945312 3.800781 -2.753906 C 3.554688 -1.917969 3.398438 -0.996094 3.328125 0 L 2.0625 0 C 2.078125 -0.789062 2.234375 -1.742188 2.53125 -2.859375 C 2.824219 -3.972656 3.25 -5.050781 3.804688 -6.085938 C 4.359375 -7.125 4.945312 -8 5.570312 -8.710938 Z M 0.664062 -8.710938 \"/>\n</g>\n<g id=\"glyph-0-2\">\n<path d=\"M 1.273438 0 L 1.273438 -1.402344 L 2.671875 -1.402344 L 2.671875 0 Z M 1.273438 0 \"/>\n</g>\n<g id=\"glyph-0-3\">\n<path d=\"M 6.964844 -7.566406 L 5.742188 -7.472656 C 5.632812 -7.953125 5.476562 -8.304688 5.277344 -8.523438 C 4.945312 -8.875 4.535156 -9.050781 4.046875 -9.050781 C 3.65625 -9.050781 3.3125 -8.941406 3.015625 -8.722656 C 2.628906 -8.441406 2.320312 -8.027344 2.097656 -7.484375 C 1.875 -6.941406 1.757812 -6.171875 1.75 -5.167969 C 2.046875 -5.617188 2.410156 -5.953125 2.835938 -6.171875 C 3.265625 -6.390625 3.714844 -6.5 4.183594 -6.5 C 5.003906 -6.5 5.703125 -6.199219 6.277344 -5.59375 C 6.855469 -4.992188 7.144531 -4.210938 7.144531 -3.253906 C 7.144531 -2.625 7.007812 -2.039062 6.738281 -1.5 C 6.464844 -0.960938 6.09375 -0.546875 5.617188 -0.257812 C 5.144531 0.0273438 4.609375 0.171875 4.007812 0.171875 C 2.980469 0.171875 2.144531 -0.207031 1.496094 -0.960938 C 0.851562 -1.714844 0.527344 -2.957031 0.527344 -4.6875 C 0.527344 -6.625 0.882812 -8.035156 1.601562 -8.914062 C 2.222656 -9.679688 3.066406 -10.0625 4.121094 -10.0625 C 4.910156 -10.0625 5.554688 -9.839844 6.058594 -9.398438 C 6.5625 -8.957031 6.867188 -8.347656 6.964844 -7.566406 M 1.941406 -3.246094 C 1.941406 -2.824219 2.03125 -2.417969 2.210938 -2.03125 C 2.390625 -1.644531 2.644531 -1.347656 2.96875 -1.144531 C 3.289062 -0.941406 3.628906 -0.839844 3.984375 -0.839844 C 4.503906 -0.839844 4.953125 -1.050781 5.324219 -1.46875 C 5.699219 -1.890625 5.886719 -2.457031 5.886719 -3.179688 C 5.886719 -3.871094 5.703125 -4.417969 5.332031 -4.816406 C 4.960938 -5.214844 4.5 -5.414062 3.9375 -5.414062 C 3.382812 -5.414062 2.910156 -5.214844 2.523438 -4.816406 C 2.136719 -4.417969 1.941406 -3.894531 1.941406 -3.246094 Z M 1.941406 -3.246094 \"/>\n</g>\n<g id=\"glyph-0-4\">\n<path d=\"M 0.582031 -2.625 L 1.875 -2.734375 C 1.96875 -2.105469 2.191406 -1.632812 2.539062 -1.316406 C 2.886719 -1 3.308594 -0.839844 3.800781 -0.839844 C 4.394531 -0.839844 4.894531 -1.0625 5.304688 -1.511719 C 5.714844 -1.957031 5.921875 -2.550781 5.921875 -3.289062 C 5.921875 -3.988281 5.722656 -4.542969 5.328125 -4.949219 C 4.933594 -5.355469 4.417969 -5.558594 3.78125 -5.558594 C 3.382812 -5.558594 3.027344 -5.46875 2.707031 -5.289062 C 2.386719 -5.109375 2.136719 -4.875 1.953125 -4.585938 L 0.800781 -4.738281 L 1.769531 -9.882812 L 6.753906 -9.882812 L 6.753906 -8.710938 L 2.753906 -8.710938 L 2.214844 -6.015625 C 2.816406 -6.433594 3.449219 -6.644531 4.109375 -6.644531 C 4.984375 -6.644531 5.722656 -6.339844 6.324219 -5.734375 C 6.925781 -5.128906 7.226562 -4.351562 7.226562 -3.398438 C 7.226562 -2.492188 6.960938 -1.707031 6.433594 -1.046875 C 5.789062 -0.234375 4.914062 0.171875 3.800781 0.171875 C 2.890625 0.171875 2.144531 -0.0859375 1.570312 -0.59375 C 0.992188 -1.105469 0.664062 -1.78125 0.582031 -2.625 Z M 0.582031 -2.625 \"/>\n</g>\n<g id=\"glyph-0-5\">\n<path d=\"M 5.214844 0 L 3.984375 0 L 3.984375 -7.839844 C 3.6875 -7.558594 3.300781 -7.277344 2.820312 -6.992188 C 2.339844 -6.710938 1.90625 -6.5 1.523438 -6.359375 L 1.523438 -7.546875 C 2.210938 -7.871094 2.8125 -8.261719 3.328125 -8.722656 C 3.84375 -9.183594 4.207031 -9.628906 4.421875 -10.0625 L 5.214844 -10.0625 Z M 5.214844 0 \"/>\n</g>\n<g id=\"glyph-0-6\">\n<path d=\"M 0.585938 -2.644531 L 1.820312 -2.808594 C 1.960938 -2.113281 2.199219 -1.609375 2.539062 -1.300781 C 2.878906 -0.996094 3.292969 -0.839844 3.78125 -0.839844 C 4.359375 -0.839844 4.847656 -1.042969 5.246094 -1.441406 C 5.644531 -1.84375 5.84375 -2.339844 5.84375 -2.933594 C 5.84375 -3.496094 5.660156 -3.964844 5.289062 -4.332031 C 4.921875 -4.699219 4.453125 -4.882812 3.882812 -4.882812 C 3.648438 -4.882812 3.359375 -4.835938 3.015625 -4.742188 L 3.152344 -5.824219 C 3.234375 -5.816406 3.300781 -5.8125 3.351562 -5.8125 C 3.875 -5.8125 4.34375 -5.945312 4.765625 -6.21875 C 5.183594 -6.492188 5.394531 -6.914062 5.394531 -7.484375 C 5.394531 -7.9375 5.242188 -8.308594 4.9375 -8.605469 C 4.628906 -8.902344 4.234375 -9.050781 3.753906 -9.050781 C 3.273438 -9.050781 2.875 -8.898438 2.554688 -8.601562 C 2.238281 -8.296875 2.03125 -7.847656 1.941406 -7.246094 L 0.710938 -7.464844 C 0.859375 -8.289062 1.203125 -8.929688 1.734375 -9.382812 C 2.269531 -9.835938 2.933594 -10.0625 3.726562 -10.0625 C 4.273438 -10.0625 4.777344 -9.945312 5.234375 -9.710938 C 5.695312 -9.476562 6.046875 -9.15625 6.292969 -8.75 C 6.535156 -8.34375 6.65625 -7.914062 6.65625 -7.457031 C 6.65625 -7.023438 6.542969 -6.628906 6.308594 -6.273438 C 6.078125 -5.921875 5.734375 -5.636719 5.277344 -5.429688 C 5.871094 -5.289062 6.328125 -5.007812 6.65625 -4.578125 C 6.984375 -4.144531 7.148438 -3.605469 7.148438 -2.960938 C 7.148438 -2.085938 6.832031 -1.34375 6.195312 -0.734375 C 5.554688 -0.125 4.75 0.179688 3.773438 0.179688 C 2.894531 0.179688 2.164062 -0.0859375 1.582031 -0.609375 C 1 -1.132812 0.671875 -1.8125 0.585938 -2.644531 Z M 0.585938 -2.644531 \"/>\n</g>\n<g id=\"glyph-0-7\">\n<path d=\"M 0.582031 -4.941406 C 0.582031 -6.128906 0.703125 -7.082031 0.945312 -7.804688 C 1.191406 -8.527344 1.554688 -9.082031 2.035156 -9.476562 C 2.515625 -9.867188 3.121094 -10.0625 3.847656 -10.0625 C 4.386719 -10.0625 4.859375 -9.953125 5.265625 -9.738281 C 5.667969 -9.519531 6.003906 -9.210938 6.269531 -8.800781 C 6.53125 -8.394531 6.738281 -7.898438 6.890625 -7.3125 C 7.039062 -6.726562 7.117188 -5.9375 7.117188 -4.941406 C 7.117188 -3.765625 6.996094 -2.816406 6.753906 -2.09375 C 6.511719 -1.371094 6.152344 -0.816406 5.671875 -0.421875 C 5.191406 -0.0273438 4.582031 0.171875 3.847656 0.171875 C 2.882812 0.171875 2.125 -0.175781 1.570312 -0.867188 C 0.910156 -1.703125 0.582031 -3.058594 0.582031 -4.941406 M 1.84375 -4.941406 C 1.84375 -3.296875 2.039062 -2.203125 2.421875 -1.65625 C 2.808594 -1.113281 3.285156 -0.839844 3.847656 -0.839844 C 4.414062 -0.839844 4.890625 -1.113281 5.273438 -1.660156 C 5.660156 -2.207031 5.851562 -3.300781 5.851562 -4.941406 C 5.851562 -6.59375 5.660156 -7.6875 5.273438 -8.230469 C 4.890625 -8.773438 4.410156 -9.042969 3.835938 -9.042969 C 3.269531 -9.042969 2.820312 -8.804688 2.480469 -8.328125 C 2.058594 -7.714844 1.84375 -6.585938 1.84375 -4.941406 Z M 1.84375 -4.941406 \"/>\n</g>\n</g>\n</defs>\n<rect x=\"-100\" y=\"-60\" width=\"1200\" height=\"720\" fill=\"rgb(100%, 100%, 100%)\" fill-opacity=\"1\"/>\n<path fill=\"none\" stroke-width=\"1\" stroke-linecap=\"butt\" stroke-linejoin=\"miter\" stroke=\"rgb(0%, 0%, 100%)\" stroke-opacity=\"1\" stroke-miterlimit=\"10\" d=\"M 332.660156 458.609375 L 646.859375 345.351562 \"/>\n<path fill=\"none\" stroke-width=\"1\" stroke-linecap=\"butt\" stroke-linejoin=\"miter\" stroke=\"rgb(0%, 0%, 100%)\" stroke-opacity=\"1\" stroke-miterlimit=\"10\" d=\"M 332.660156 458.609375 L 324.304688 240.675781 \"/>\n<path fill=\"none\" stroke-width=\"1\" stroke-linecap=\"butt\" stroke-linejoin=\"miter\" stroke=\"rgb(0%, 0%, 100%)\" stroke-opacity=\"1\" stroke-miterlimit=\"10\" d=\"M 332.660156 458.609375 L 673.019531 550.421875 \"/>\n<path fill=\"none\" stroke-width=\"1\" stroke-linecap=\"butt\" stroke-linejoin=\"miter\" stroke=\"rgb(0%, 0%, 100%)\" stroke-opacity=\"1\" stroke-miterlimit=\"10\" d=\"M 332.660156 458.609375 L 21.050781 580 \"/>\n<path fill=\"none\" stroke-width=\"1\" stroke-linecap=\"butt\" stroke-linejoin=\"miter\" stroke=\"rgb(0%, 0%, 100%)\" stroke-opacity=\"1\" stroke-miterlimit=\"10\" d=\"M 332.660156 458.609375 L 20 369.507812 \"/>\n<path fill=\"none\" stroke-width=\"1\" stroke-linecap=\"butt\" stroke-linejoin=\"miter\" stroke=\"rgb(0%, 0%, 100%)\" stroke-opacity=\"1\" stroke-miterlimit=\"10\" d=\"M 646.859375 345.351562 L 324.304688 240.675781 \"/>\n<path fill=\"none\" stroke-width=\"1\" stroke-linecap=\"butt\" stroke-linejoin=\"miter\" stroke=\"rgb(0%, 0%, 100%)\" stroke-opacity=\"1\" stroke-miterlimit=\"10\" d=\"M 646.859375 345.351562 L 673.019531 550.421875 \"/>\n<path fill=\"none\" stroke-width=\"1\" stroke-linecap=\"butt\" stroke-linejoin=\"miter\" stroke=\"rgb(0%, 0%, 100%)\" stroke-opacity=\"1\" stroke-miterlimit=\"10\" d=\"M 646.859375 345.351562 L 610.800781 124.707031 \"/>\n<path fill=\"none\" stroke-width=\"1\" stroke-linecap=\"butt\" stroke-linejoin=\"miter\" stroke=\"rgb(0%, 0%, 100%)\" stroke-opacity=\"1\" stroke-miterlimit=\"10\" d=\"M 646.859375 345.351562 L 980 444.636719 \"/>\n<path fill=\"none\" stroke-width=\"1\" stroke-linecap=\"butt\" stroke-linejoin=\"miter\" stroke=\"rgb(0%, 0%, 100%)\" stroke-opacity=\"1\" stroke-miterlimit=\"10\" d=\"M 324.304688 240.675781 L 20 369.507812 \"/>\n<path fill=\"none\" stroke-width=\"1\" stroke-linecap=\"butt\" stroke-linejoin=\"miter\" stroke=\"rgb(0%, 0%, 100%)\" stroke-opacity=\"1\" stroke-miterlimit=\"10\" d=\"M 324.304688 240.675781 L 302.773438 20 \"/>\n<path fill=\"none\" stroke-width=\"1\" stroke-linecap=\"butt\" stroke-linejoin=\"miter\" stroke=\"rgb(0%, 0%, 100%)\" stroke-opacity=\"1\" stroke-miterlimit=\"10\" d=\"M 324.304688 240.675781 L 610.800781 124.707031 \"/>\n<path fill=\"none\" stroke-width=\"1\" stroke-linecap=\"butt\" stroke-linejoin=\"miter\" stroke=\"rgb(0%, 0%, 100%)\" stroke-opacity=\"1\" stroke-miterlimit=\"10\" d=\"M 673.019531 550.421875 L 980 444.636719 \"/>\n<path fill=\"none\" stroke-width=\"1\" stroke-linecap=\"butt\" stroke-linejoin=\"miter\" stroke=\"rgb(0%, 0%, 100%)\" stroke-opacity=\"1\" stroke-miterlimit=\"10\" d=\"M 21.050781 580 L 20 369.507812 \"/>\n<path fill=\"none\" stroke-width=\"1\" stroke-linecap=\"butt\" stroke-linejoin=\"miter\" stroke=\"rgb(0%, 0%, 100%)\" stroke-opacity=\"1\" stroke-miterlimit=\"10\" d=\"M 302.773438 20 L 610.800781 124.707031 \"/>\n<path fill-rule=\"nonzero\" fill=\"rgb(0%, 100%, 0%)\" fill-opacity=\"1\" stroke-width=\"1\" stroke-linecap=\"butt\" stroke-linejoin=\"miter\" stroke=\"rgb(0%, 0%, 0%)\" stroke-opacity=\"1\" stroke-miterlimit=\"10\" d=\"M 340.160156 458.609375 C 340.160156 462.75 336.804688 466.109375 332.660156 466.109375 C 328.519531 466.109375 325.160156 462.75 325.160156 458.609375 C 325.160156 454.46875 328.519531 451.109375 332.660156 451.109375 C 336.804688 451.109375 340.160156 454.46875 340.160156 458.609375 \"/>\n<path fill-rule=\"nonzero\" fill=\"rgb(0%, 100%, 0%)\" fill-opacity=\"1\" stroke-width=\"1\" stroke-linecap=\"butt\" stroke-linejoin=\"miter\" stroke=\"rgb(0%, 0%, 0%)\" stroke-opacity=\"1\" stroke-miterlimit=\"10\" d=\"M 654.359375 345.351562 C 654.359375 349.492188 651 352.851562 646.859375 352.851562 C 642.714844 352.851562 639.359375 349.492188 639.359375 345.351562 C 639.359375 341.210938 642.714844 337.851562 646.859375 337.851562 C 651 337.851562 654.359375 341.210938 654.359375 345.351562 \"/>\n<path fill-rule=\"nonzero\" fill=\"rgb(0%, 100%, 0%)\" fill-opacity=\"1\" stroke-width=\"1\" stroke-linecap=\"butt\" stroke-linejoin=\"miter\" stroke=\"rgb(0%, 0%, 0%)\" stroke-opacity=\"1\" stroke-miterlimit=\"10\" d=\"M 331.804688 240.675781 C 331.804688 244.816406 328.445312 248.175781 324.304688 248.175781 C 320.160156 248.175781 316.804688 244.816406 316.804688 240.675781 C 316.804688 236.53125 320.160156 233.175781 324.304688 233.175781 C 328.445312 233.175781 331.804688 236.53125 331.804688 240.675781 \"/>\n<path fill-rule=\"nonzero\" fill=\"rgb(0%, 100%, 0%)\" fill-opacity=\"1\" stroke-width=\"1\" stroke-linecap=\"butt\" stroke-linejoin=\"miter\" stroke=\"rgb(0%, 0%, 0%)\" stroke-opacity=\"1\" stroke-miterlimit=\"10\" d=\"M 680.519531 550.421875 C 680.519531 554.5625 677.164062 557.921875 673.019531 557.921875 C 668.878906 557.921875 665.519531 554.5625 665.519531 550.421875 C 665.519531 546.277344 668.878906 542.921875 673.019531 542.921875 C 677.164062 542.921875 680.519531 546.277344 680.519531 550.421875 \"/>\n<path fill-rule=\"nonzero\" fill=\"rgb(0%, 100%, 0%)\" fill-opacity=\"1\" stroke-width=\"1\" stroke-linecap=\"butt\" stroke-linejoin=\"miter\" stroke=\"rgb(0%, 0%, 0%)\" stroke-opacity=\"1\" stroke-miterlimit=\"10\" d=\"M 28.550781 580 C 28.550781 584.140625 25.191406 587.5 21.050781 587.5 C 16.90625 587.5 13.550781 584.140625 13.550781 580 C 13.550781 575.859375 16.90625 572.5 21.050781 572.5 C 25.191406 572.5 28.550781 575.859375 28.550781 580 \"/>\n<path fill-rule=\"nonzero\" fill=\"rgb(0%, 100%, 0%)\" fill-opacity=\"1\" stroke-width=\"1\" stroke-linecap=\"butt\" stroke-linejoin=\"miter\" stroke=\"rgb(0%, 0%, 0%)\" stroke-opacity=\"1\" stroke-miterlimit=\"10\" d=\"M 27.5 369.507812 C 27.5 373.648438 24.140625 377.007812 20 377.007812 C 15.859375 377.007812 12.5 373.648438 12.5 369.507812 C 12.5 365.363281 15.859375 362.007812 20 362.007812 C 24.140625 362.007812 27.5 365.363281 27.5 369.507812 \"/>\n<path fill-rule=\"nonzero\" fill=\"rgb(0%, 100%, 0%)\" fill-opacity=\"1\" stroke-width=\"1\" stroke-linecap=\"butt\" stroke-linejoin=\"miter\" stroke=\"rgb(0%, 0%, 0%)\" stroke-opacity=\"1\" stroke-miterlimit=\"10\" d=\"M 310.273438 20 C 310.273438 24.140625 306.917969 27.5 302.773438 27.5 C 298.632812 27.5 295.273438 24.140625 295.273438 20 C 295.273438 15.859375 298.632812 12.5 302.773438 12.5 C 306.917969 12.5 310.273438 15.859375 310.273438 20 \"/>\n<path fill-rule=\"nonzero\" fill=\"rgb(0%, 100%, 0%)\" fill-opacity=\"1\" stroke-width=\"1\" stroke-linecap=\"butt\" stroke-linejoin=\"miter\" stroke=\"rgb(0%, 0%, 0%)\" stroke-opacity=\"1\" stroke-miterlimit=\"10\" d=\"M 618.300781 124.707031 C 618.300781 128.851562 614.945312 132.207031 610.800781 132.207031 C 606.660156 132.207031 603.300781 128.851562 603.300781 124.707031 C 603.300781 120.566406 606.660156 117.207031 610.800781 117.207031 C 614.945312 117.207031 618.300781 120.566406 618.300781 124.707031 \"/>\n<path fill-rule=\"nonzero\" fill=\"rgb(0%, 100%, 0%)\" fill-opacity=\"1\" stroke-width=\"1\" stroke-linecap=\"butt\" stroke-linejoin=\"miter\" stroke=\"rgb(0%, 0%, 0%)\" stroke-opacity=\"1\" stroke-miterlimit=\"10\" d=\"M 987.5 444.636719 C 987.5 448.777344 984.140625 452.136719 980 452.136719 C 975.859375 452.136719 972.5 448.777344 972.5 444.636719 C 972.5 440.492188 975.859375 437.136719 980 437.136719 C 984.140625 437.136719 987.5 440.492188 987.5 444.636719 \"/>\n<g fill=\"rgb(0%, 0%, 0%)\" fill-opacity=\"1\">\n<use xlink:href=\"#glyph-0-1\" x=\"268.417969\" y=\"465.125\"/>\n<use xlink:href=\"#glyph-0-2\" x=\"276.204102\" y=\"465.125\"/>\n<use xlink:href=\"#glyph-0-3\" x=\"280.09375\" y=\"465.125\"/>\n<use xlink:href=\"#glyph-0-3\" x=\"287.879883\" y=\"465.125\"/>\n<use xlink:href=\"#glyph-0-3\" x=\"295.666016\" y=\"465.125\"/>\n<use xlink:href=\"#glyph-0-3\" x=\"303.452148\" y=\"465.125\"/>\n<use xlink:href=\"#glyph-0-3\" x=\"311.238281\" y=\"465.125\"/>\n<use xlink:href=\"#glyph-0-3\" x=\"319.024414\" y=\"465.125\"/>\n<use xlink:href=\"#glyph-0-3\" x=\"326.810547\" y=\"465.125\"/>\n<use xlink:href=\"#glyph-0-3\" x=\"334.59668\" y=\"465.125\"/>\n<use xlink:href=\"#glyph-0-3\" x=\"342.382812\" y=\"465.125\"/>\n<use xlink:href=\"#glyph-0-3\" x=\"350.168945\" y=\"465.125\"/>\n<use xlink:href=\"#glyph-0-3\" x=\"357.955078\" y=\"465.125\"/>\n<use xlink:href=\"#glyph-0-3\" x=\"365.741211\" y=\"465.125\"/>\n<use xlink:href=\"#glyph-0-3\" x=\"373.527344\" y=\"465.125\"/>\n<use xlink:href=\"#glyph-0-3\" x=\"381.313477\" y=\"465.125\"/>\n<use xlink:href=\"#glyph-0-3\" x=\"389.099609\" y=\"465.125\"/>\n</g>\n<g fill=\"rgb(0%, 0%, 0%)\" fill-opacity=\"1\">\n<use xlink:href=\"#glyph-0-1\" x=\"582.574219\" y=\"351.867188\"/>\n<use xlink:href=\"#glyph-0-2\" x=\"590.360352\" y=\"351.867188\"/>\n<use xlink:href=\"#glyph-0-3\" x=\"594.25\" y=\"351.867188\"/>\n<use xlink:href=\"#glyph-0-3\" x=\"602.036133\" y=\"351.867188\"/>\n<use xlink:href=\"#glyph-0-3\" x=\"609.822266\" y=\"351.867188\"/>\n<use xlink:href=\"#glyph-0-3\" x=\"617.608398\" y=\"351.867188\"/>\n<use xlink:href=\"#glyph-0-3\" x=\"625.394531\" y=\"351.867188\"/>\n<use xlink:href=\"#glyph-0-3\" x=\"633.180664\" y=\"351.867188\"/>\n<use xlink:href=\"#glyph-0-3\" x=\"640.966797\" y=\"351.867188\"/>\n<use xlink:href=\"#glyph-0-3\" x=\"648.75293\" y=\"351.867188\"/>\n<use xlink:href=\"#glyph-0-3\" x=\"656.539062\" y=\"351.867188\"/>\n<use xlink:href=\"#glyph-0-3\" x=\"664.325195\" y=\"351.867188\"/>\n<use xlink:href=\"#glyph-0-3\" x=\"672.111328\" y=\"351.867188\"/>\n<use xlink:href=\"#glyph-0-3\" x=\"679.897461\" y=\"351.867188\"/>\n<use xlink:href=\"#glyph-0-3\" x=\"687.683594\" y=\"351.867188\"/>\n<use xlink:href=\"#glyph-0-3\" x=\"695.469727\" y=\"351.867188\"/>\n<use xlink:href=\"#glyph-0-4\" x=\"703.255859\" y=\"351.867188\"/>\n</g>\n<g fill=\"rgb(0%, 0%, 0%)\" fill-opacity=\"1\">\n<use xlink:href=\"#glyph-0-1\" x=\"260.058594\" y=\"247.1875\"/>\n<use xlink:href=\"#glyph-0-2\" x=\"267.844727\" y=\"247.1875\"/>\n<use xlink:href=\"#glyph-0-3\" x=\"271.734375\" y=\"247.1875\"/>\n<use xlink:href=\"#glyph-0-3\" x=\"279.520508\" y=\"247.1875\"/>\n<use xlink:href=\"#glyph-0-3\" x=\"287.306641\" y=\"247.1875\"/>\n<use xlink:href=\"#glyph-0-3\" x=\"295.092773\" y=\"247.1875\"/>\n<use xlink:href=\"#glyph-0-3\" x=\"302.878906\" y=\"247.1875\"/>\n<use xlink:href=\"#glyph-0-3\" x=\"310.665039\" y=\"247.1875\"/>\n<use xlink:href=\"#glyph-0-3\" x=\"318.451172\" y=\"247.1875\"/>\n<use xlink:href=\"#glyph-0-3\" x=\"326.237305\" y=\"247.1875\"/>\n<use xlink:href=\"#glyph-0-3\" x=\"334.023438\" y=\"247.1875\"/>\n<use xlink:href=\"#glyph-0-3\" x=\"341.80957\" y=\"247.1875\"/>\n<use xlink:href=\"#glyph-0-3\" x=\"349.595703\" y=\"247.1875\"/>\n<use xlink:href=\"#glyph-0-3\" x=\"357.381836\" y=\"247.1875\"/>\n<use xlink:href=\"#glyph-0-3\" x=\"365.167969\" y=\"247.1875\"/>\n<use xlink:href=\"#glyph-0-3\" x=\"372.954102\" y=\"247.1875\"/>\n<use xlink:href=\"#glyph-0-3\" x=\"380.740234\" y=\"247.1875\"/>\n</g>\n<g fill=\"rgb(0%, 0%, 0%)\" fill-opacity=\"1\">\n<use xlink:href=\"#glyph-0-5\" x=\"604.449219\" y=\"556.933594\"/>\n<use xlink:href=\"#glyph-0-2\" x=\"612.235352\" y=\"556.933594\"/>\n<use xlink:href=\"#glyph-0-6\" x=\"616.125\" y=\"556.933594\"/>\n<use xlink:href=\"#glyph-0-6\" x=\"623.911133\" y=\"556.933594\"/>\n<use xlink:href=\"#glyph-0-6\" x=\"631.697266\" y=\"556.933594\"/>\n<use xlink:href=\"#glyph-0-6\" x=\"639.483398\" y=\"556.933594\"/>\n<use xlink:href=\"#glyph-0-6\" x=\"647.269531\" y=\"556.933594\"/>\n<use xlink:href=\"#glyph-0-6\" x=\"655.055664\" y=\"556.933594\"/>\n<use xlink:href=\"#glyph-0-6\" x=\"662.841797\" y=\"556.933594\"/>\n<use xlink:href=\"#glyph-0-6\" x=\"670.62793\" y=\"556.933594\"/>\n<use xlink:href=\"#glyph-0-6\" x=\"678.414062\" y=\"556.933594\"/>\n<use xlink:href=\"#glyph-0-6\" x=\"686.200195\" y=\"556.933594\"/>\n<use xlink:href=\"#glyph-0-6\" x=\"693.986328\" y=\"556.933594\"/>\n<use xlink:href=\"#glyph-0-6\" x=\"701.772461\" y=\"556.933594\"/>\n<use xlink:href=\"#glyph-0-6\" x=\"709.558594\" y=\"556.933594\"/>\n<use xlink:href=\"#glyph-0-6\" x=\"717.344727\" y=\"556.933594\"/>\n<use xlink:href=\"#glyph-0-6\" x=\"725.130859\" y=\"556.933594\"/>\n<use xlink:href=\"#glyph-0-6\" x=\"732.916992\" y=\"556.933594\"/>\n</g>\n<g fill=\"rgb(0%, 0%, 0%)\" fill-opacity=\"1\">\n<use xlink:href=\"#glyph-0-7\" x=\"11.363281\" y=\"586.515625\"/>\n<use xlink:href=\"#glyph-0-2\" x=\"19.149414\" y=\"586.515625\"/>\n<use xlink:href=\"#glyph-0-7\" x=\"23.039062\" y=\"586.515625\"/>\n</g>\n<g fill=\"rgb(0%, 0%, 0%)\" fill-opacity=\"1\">\n<use xlink:href=\"#glyph-0-5\" x=\"-48.570312\" y=\"376.019531\"/>\n<use xlink:href=\"#glyph-0-2\" x=\"-40.78418\" y=\"376.019531\"/>\n<use xlink:href=\"#glyph-0-6\" x=\"-36.894531\" y=\"376.019531\"/>\n<use xlink:href=\"#glyph-0-6\" x=\"-29.108398\" y=\"376.019531\"/>\n<use xlink:href=\"#glyph-0-6\" x=\"-21.322266\" y=\"376.019531\"/>\n<use xlink:href=\"#glyph-0-6\" x=\"-13.536133\" y=\"376.019531\"/>\n<use xlink:href=\"#glyph-0-6\" x=\"-5.75\" y=\"376.019531\"/>\n<use xlink:href=\"#glyph-0-6\" x=\"2.036133\" y=\"376.019531\"/>\n<use xlink:href=\"#glyph-0-6\" x=\"9.822266\" y=\"376.019531\"/>\n<use xlink:href=\"#glyph-0-6\" x=\"17.608398\" y=\"376.019531\"/>\n<use xlink:href=\"#glyph-0-6\" x=\"25.394531\" y=\"376.019531\"/>\n<use xlink:href=\"#glyph-0-6\" x=\"33.180664\" y=\"376.019531\"/>\n<use xlink:href=\"#glyph-0-6\" x=\"40.966797\" y=\"376.019531\"/>\n<use xlink:href=\"#glyph-0-6\" x=\"48.75293\" y=\"376.019531\"/>\n<use xlink:href=\"#glyph-0-6\" x=\"56.539062\" y=\"376.019531\"/>\n<use xlink:href=\"#glyph-0-6\" x=\"64.325195\" y=\"376.019531\"/>\n<use xlink:href=\"#glyph-0-6\" x=\"72.111328\" y=\"376.019531\"/>\n<use xlink:href=\"#glyph-0-6\" x=\"79.897461\" y=\"376.019531\"/>\n</g>\n<g fill=\"rgb(0%, 0%, 0%)\" fill-opacity=\"1\">\n<use xlink:href=\"#glyph-0-7\" x=\"293.085938\" y=\"26.515625\"/>\n<use xlink:href=\"#glyph-0-2\" x=\"300.87207\" y=\"26.515625\"/>\n<use xlink:href=\"#glyph-0-7\" x=\"304.761719\" y=\"26.515625\"/>\n</g>\n<g fill=\"rgb(0%, 0%, 0%)\" fill-opacity=\"1\">\n<use xlink:href=\"#glyph-0-5\" x=\"542.230469\" y=\"131.222656\"/>\n<use xlink:href=\"#glyph-0-2\" x=\"550.016602\" y=\"131.222656\"/>\n<use xlink:href=\"#glyph-0-6\" x=\"553.90625\" y=\"131.222656\"/>\n<use xlink:href=\"#glyph-0-6\" x=\"561.692383\" y=\"131.222656\"/>\n<use xlink:href=\"#glyph-0-6\" x=\"569.478516\" y=\"131.222656\"/>\n<use xlink:href=\"#glyph-0-6\" x=\"577.264648\" y=\"131.222656\"/>\n<use xlink:href=\"#glyph-0-6\" x=\"585.050781\" y=\"131.222656\"/>\n<use xlink:href=\"#glyph-0-6\" x=\"592.836914\" y=\"131.222656\"/>\n<use xlink:href=\"#glyph-0-6\" x=\"600.623047\" y=\"131.222656\"/>\n<use xlink:href=\"#glyph-0-6\" x=\"608.40918\" y=\"131.222656\"/>\n<use xlink:href=\"#glyph-0-6\" x=\"616.195312\" y=\"131.222656\"/>\n<use xlink:href=\"#glyph-0-6\" x=\"623.981445\" y=\"131.222656\"/>\n<use xlink:href=\"#glyph-0-6\" x=\"631.767578\" y=\"131.222656\"/>\n<use xlink:href=\"#glyph-0-6\" x=\"639.553711\" y=\"131.222656\"/>\n<use xlink:href=\"#glyph-0-6\" x=\"647.339844\" y=\"131.222656\"/>\n<use xlink:href=\"#glyph-0-6\" x=\"655.125977\" y=\"131.222656\"/>\n<use xlink:href=\"#glyph-0-6\" x=\"662.912109\" y=\"131.222656\"/>\n<use xlink:href=\"#glyph-0-6\" x=\"670.698242\" y=\"131.222656\"/>\n</g>\n<g fill=\"rgb(0%, 0%, 0%)\" fill-opacity=\"1\">\n<use xlink:href=\"#glyph-0-7\" x=\"970.3125\" y=\"451.148438\"/>\n<use xlink:href=\"#glyph-0-2\" x=\"978.098633\" y=\"451.148438\"/>\n<use xlink:href=\"#glyph-0-7\" x=\"981.988281\" y=\"451.148438\"/>\n</g>\n</svg>\n",
            "text/plain": [
              "<igraph.drawing.cairo.plot.CairoPlot at 0x18f84043e50>"
            ]
          },
          "execution_count": 83,
          "metadata": {
            "image/svg+xml": {
              "isolated": true
            }
          },
          "output_type": "execute_result"
        }
      ],
      "source": [
        "#plot g \n",
        "plot(g, bbox=(1000, 600),vertex_label=g.vs['betweenness'], vertex_size=15, vertex_color=\"green\", edge_color=\"blue\", cex=5)"
      ]
    },
    {
      "cell_type": "code",
      "execution_count": 84,
      "metadata": {},
      "outputs": [
        {
          "data": {
            "image/svg+xml": "<?xml version=\"1.0\" encoding=\"UTF-8\"?>\n<svg xmlns=\"http://www.w3.org/2000/svg\" xmlns:xlink=\"http://www.w3.org/1999/xlink\" width=\"1000\" height=\"600\" viewBox=\"0 0 1000 600\">\n<defs>\n<g>\n<g id=\"glyph-0-0\">\n<path d=\"M 1.75 0 L 1.75 -8.75 L 8.75 -8.75 L 8.75 0 L 1.75 0 M 1.96875 -0.21875 L 8.53125 -0.21875 L 8.53125 -8.53125 L 1.96875 -8.53125 Z M 1.96875 -0.21875 \"/>\n</g>\n<g id=\"glyph-0-1\">\n<path d=\"M 0.582031 -4.941406 C 0.582031 -6.128906 0.703125 -7.082031 0.945312 -7.804688 C 1.191406 -8.527344 1.554688 -9.082031 2.035156 -9.476562 C 2.515625 -9.867188 3.121094 -10.0625 3.847656 -10.0625 C 4.386719 -10.0625 4.859375 -9.953125 5.265625 -9.738281 C 5.667969 -9.519531 6.003906 -9.210938 6.269531 -8.800781 C 6.53125 -8.394531 6.738281 -7.898438 6.890625 -7.3125 C 7.039062 -6.726562 7.117188 -5.9375 7.117188 -4.941406 C 7.117188 -3.765625 6.996094 -2.816406 6.753906 -2.09375 C 6.511719 -1.371094 6.152344 -0.816406 5.671875 -0.421875 C 5.191406 -0.0273438 4.582031 0.171875 3.847656 0.171875 C 2.882812 0.171875 2.125 -0.175781 1.570312 -0.867188 C 0.910156 -1.703125 0.582031 -3.058594 0.582031 -4.941406 M 1.84375 -4.941406 C 1.84375 -3.296875 2.039062 -2.203125 2.421875 -1.65625 C 2.808594 -1.113281 3.285156 -0.839844 3.847656 -0.839844 C 4.414062 -0.839844 4.890625 -1.113281 5.273438 -1.660156 C 5.660156 -2.207031 5.851562 -3.300781 5.851562 -4.941406 C 5.851562 -6.59375 5.660156 -7.6875 5.273438 -8.230469 C 4.890625 -8.773438 4.410156 -9.042969 3.835938 -9.042969 C 3.269531 -9.042969 2.820312 -8.804688 2.480469 -8.328125 C 2.058594 -7.714844 1.84375 -6.585938 1.84375 -4.941406 Z M 1.84375 -4.941406 \"/>\n</g>\n<g id=\"glyph-0-2\">\n<path d=\"M 1.273438 0 L 1.273438 -1.402344 L 2.671875 -1.402344 L 2.671875 0 Z M 1.273438 0 \"/>\n</g>\n<g id=\"glyph-0-3\">\n<path d=\"M 5.214844 0 L 3.984375 0 L 3.984375 -7.839844 C 3.6875 -7.558594 3.300781 -7.277344 2.820312 -6.992188 C 2.339844 -6.710938 1.90625 -6.5 1.523438 -6.359375 L 1.523438 -7.546875 C 2.210938 -7.871094 2.8125 -8.261719 3.328125 -8.722656 C 3.84375 -9.183594 4.207031 -9.628906 4.421875 -10.0625 L 5.214844 -10.0625 Z M 5.214844 0 \"/>\n</g>\n<g id=\"glyph-0-4\">\n<path d=\"M 0.582031 -2.625 L 1.875 -2.734375 C 1.96875 -2.105469 2.191406 -1.632812 2.539062 -1.316406 C 2.886719 -1 3.308594 -0.839844 3.800781 -0.839844 C 4.394531 -0.839844 4.894531 -1.0625 5.304688 -1.511719 C 5.714844 -1.957031 5.921875 -2.550781 5.921875 -3.289062 C 5.921875 -3.988281 5.722656 -4.542969 5.328125 -4.949219 C 4.933594 -5.355469 4.417969 -5.558594 3.78125 -5.558594 C 3.382812 -5.558594 3.027344 -5.46875 2.707031 -5.289062 C 2.386719 -5.109375 2.136719 -4.875 1.953125 -4.585938 L 0.800781 -4.738281 L 1.769531 -9.882812 L 6.753906 -9.882812 L 6.753906 -8.710938 L 2.753906 -8.710938 L 2.214844 -6.015625 C 2.816406 -6.433594 3.449219 -6.644531 4.109375 -6.644531 C 4.984375 -6.644531 5.722656 -6.339844 6.324219 -5.734375 C 6.925781 -5.128906 7.226562 -4.351562 7.226562 -3.398438 C 7.226562 -2.492188 6.960938 -1.707031 6.433594 -1.046875 C 5.789062 -0.234375 4.914062 0.171875 3.800781 0.171875 C 2.890625 0.171875 2.144531 -0.0859375 1.570312 -0.59375 C 0.992188 -1.105469 0.664062 -1.78125 0.582031 -2.625 Z M 0.582031 -2.625 \"/>\n</g>\n<g id=\"glyph-0-5\">\n<path d=\"M 0.765625 -2.316406 L 1.949219 -2.425781 C 2.046875 -1.871094 2.238281 -1.46875 2.523438 -1.21875 C 2.804688 -0.964844 3.167969 -0.839844 3.609375 -0.839844 C 3.988281 -0.839844 4.320312 -0.925781 4.605469 -1.101562 C 4.890625 -1.273438 5.121094 -1.503906 5.304688 -1.792969 C 5.488281 -2.082031 5.640625 -2.476562 5.761719 -2.96875 C 5.886719 -3.460938 5.945312 -3.960938 5.945312 -4.46875 C 5.945312 -4.523438 5.945312 -4.609375 5.941406 -4.71875 C 5.695312 -4.324219 5.359375 -4.007812 4.933594 -3.761719 C 4.507812 -3.519531 4.042969 -3.398438 3.546875 -3.398438 C 2.71875 -3.398438 2.015625 -3.699219 1.441406 -4.300781 C 0.867188 -4.902344 0.582031 -5.695312 0.582031 -6.679688 C 0.582031 -7.695312 0.878906 -8.511719 1.480469 -9.132812 C 2.078125 -9.753906 2.828125 -10.0625 3.734375 -10.0625 C 4.382812 -10.0625 4.980469 -9.886719 5.519531 -9.535156 C 6.058594 -9.183594 6.46875 -8.683594 6.75 -8.035156 C 7.03125 -7.386719 7.171875 -6.445312 7.171875 -5.214844 C 7.171875 -3.933594 7.03125 -2.914062 6.753906 -2.15625 C 6.476562 -1.398438 6.0625 -0.820312 5.511719 -0.421875 C 4.964844 -0.0273438 4.320312 0.171875 3.582031 0.171875 C 2.796875 0.171875 2.15625 -0.046875 1.660156 -0.480469 C 1.164062 -0.917969 0.867188 -1.527344 0.765625 -2.316406 M 5.804688 -6.742188 C 5.804688 -7.445312 5.617188 -8.007812 5.238281 -8.421875 C 4.863281 -8.835938 4.410156 -9.042969 3.882812 -9.042969 C 3.335938 -9.042969 2.859375 -8.820312 2.453125 -8.375 C 2.046875 -7.925781 1.84375 -7.347656 1.84375 -6.636719 C 1.84375 -6 2.039062 -5.480469 2.421875 -5.082031 C 2.808594 -4.683594 3.285156 -4.484375 3.847656 -4.484375 C 4.417969 -4.484375 4.886719 -4.683594 5.253906 -5.082031 C 5.621094 -5.480469 5.804688 -6.035156 5.804688 -6.742188 Z M 5.804688 -6.742188 \"/>\n</g>\n<g id=\"glyph-0-6\">\n<path d=\"M 0.664062 -8.710938 L 0.664062 -9.890625 L 7.148438 -9.890625 L 7.148438 -8.933594 C 6.511719 -8.253906 5.878906 -7.351562 5.253906 -6.226562 C 4.625 -5.101562 4.140625 -3.945312 3.800781 -2.753906 C 3.554688 -1.917969 3.398438 -0.996094 3.328125 0 L 2.0625 0 C 2.078125 -0.789062 2.234375 -1.742188 2.53125 -2.859375 C 2.824219 -3.972656 3.25 -5.050781 3.804688 -6.085938 C 4.359375 -7.125 4.945312 -8 5.570312 -8.710938 Z M 0.664062 -8.710938 \"/>\n</g>\n<g id=\"glyph-0-7\">\n<path d=\"M 6.964844 -7.566406 L 5.742188 -7.472656 C 5.632812 -7.953125 5.476562 -8.304688 5.277344 -8.523438 C 4.945312 -8.875 4.535156 -9.050781 4.046875 -9.050781 C 3.65625 -9.050781 3.3125 -8.941406 3.015625 -8.722656 C 2.628906 -8.441406 2.320312 -8.027344 2.097656 -7.484375 C 1.875 -6.941406 1.757812 -6.171875 1.75 -5.167969 C 2.046875 -5.617188 2.410156 -5.953125 2.835938 -6.171875 C 3.265625 -6.390625 3.714844 -6.5 4.183594 -6.5 C 5.003906 -6.5 5.703125 -6.199219 6.277344 -5.59375 C 6.855469 -4.992188 7.144531 -4.210938 7.144531 -3.253906 C 7.144531 -2.625 7.007812 -2.039062 6.738281 -1.5 C 6.464844 -0.960938 6.09375 -0.546875 5.617188 -0.257812 C 5.144531 0.0273438 4.609375 0.171875 4.007812 0.171875 C 2.980469 0.171875 2.144531 -0.207031 1.496094 -0.960938 C 0.851562 -1.714844 0.527344 -2.957031 0.527344 -4.6875 C 0.527344 -6.625 0.882812 -8.035156 1.601562 -8.914062 C 2.222656 -9.679688 3.066406 -10.0625 4.121094 -10.0625 C 4.910156 -10.0625 5.554688 -9.839844 6.058594 -9.398438 C 6.5625 -8.957031 6.867188 -8.347656 6.964844 -7.566406 M 1.941406 -3.246094 C 1.941406 -2.824219 2.03125 -2.417969 2.210938 -2.03125 C 2.390625 -1.644531 2.644531 -1.347656 2.96875 -1.144531 C 3.289062 -0.941406 3.628906 -0.839844 3.984375 -0.839844 C 4.503906 -0.839844 4.953125 -1.050781 5.324219 -1.46875 C 5.699219 -1.890625 5.886719 -2.457031 5.886719 -3.179688 C 5.886719 -3.871094 5.703125 -4.417969 5.332031 -4.816406 C 4.960938 -5.214844 4.5 -5.414062 3.9375 -5.414062 C 3.382812 -5.414062 2.910156 -5.214844 2.523438 -4.816406 C 2.136719 -4.417969 1.941406 -3.894531 1.941406 -3.246094 Z M 1.941406 -3.246094 \"/>\n</g>\n<g id=\"glyph-0-8\">\n<path d=\"M 7.046875 -1.183594 L 7.046875 0 L 0.421875 0 C 0.414062 -0.296875 0.460938 -0.582031 0.566406 -0.855469 C 0.734375 -1.304688 1.007812 -1.75 1.378906 -2.1875 C 1.75 -2.625 2.285156 -3.132812 2.988281 -3.703125 C 4.078125 -4.597656 4.8125 -5.304688 5.195312 -5.828125 C 5.578125 -6.347656 5.769531 -6.84375 5.769531 -7.308594 C 5.769531 -7.796875 5.59375 -8.207031 5.246094 -8.542969 C 4.898438 -8.875 4.445312 -9.042969 3.882812 -9.042969 C 3.289062 -9.042969 2.816406 -8.867188 2.460938 -8.511719 C 2.105469 -8.15625 1.925781 -7.664062 1.921875 -7.035156 L 0.65625 -7.164062 C 0.742188 -8.109375 1.070312 -8.828125 1.632812 -9.320312 C 2.199219 -9.816406 2.957031 -10.0625 3.910156 -10.0625 C 4.871094 -10.0625 5.632812 -9.796875 6.195312 -9.261719 C 6.753906 -8.730469 7.035156 -8.070312 7.035156 -7.28125 C 7.035156 -6.878906 6.953125 -6.484375 6.789062 -6.097656 C 6.625 -5.710938 6.351562 -5.300781 5.972656 -4.875 C 5.589844 -4.445312 4.957031 -3.859375 4.074219 -3.109375 C 3.335938 -2.492188 2.863281 -2.070312 2.652344 -1.847656 C 2.441406 -1.628906 2.269531 -1.40625 2.132812 -1.183594 Z M 7.046875 -1.183594 \"/>\n</g>\n<g id=\"glyph-0-9\">\n<path d=\"M 4.523438 0 L 4.523438 -2.398438 L 0.179688 -2.398438 L 0.179688 -3.527344 L 4.75 -10.023438 L 5.757812 -10.023438 L 5.757812 -3.527344 L 7.109375 -3.527344 L 7.109375 -2.398438 L 5.757812 -2.398438 L 5.757812 0 L 4.523438 0 M 4.523438 -3.527344 L 4.523438 -8.046875 L 1.386719 -3.527344 Z M 4.523438 -3.527344 \"/>\n</g>\n<g id=\"glyph-0-10\">\n<path d=\"M 0.585938 -2.644531 L 1.820312 -2.808594 C 1.960938 -2.113281 2.199219 -1.609375 2.539062 -1.300781 C 2.878906 -0.996094 3.292969 -0.839844 3.78125 -0.839844 C 4.359375 -0.839844 4.847656 -1.042969 5.246094 -1.441406 C 5.644531 -1.84375 5.84375 -2.339844 5.84375 -2.933594 C 5.84375 -3.496094 5.660156 -3.964844 5.289062 -4.332031 C 4.921875 -4.699219 4.453125 -4.882812 3.882812 -4.882812 C 3.648438 -4.882812 3.359375 -4.835938 3.015625 -4.742188 L 3.152344 -5.824219 C 3.234375 -5.816406 3.300781 -5.8125 3.351562 -5.8125 C 3.875 -5.8125 4.34375 -5.945312 4.765625 -6.21875 C 5.183594 -6.492188 5.394531 -6.914062 5.394531 -7.484375 C 5.394531 -7.9375 5.242188 -8.308594 4.9375 -8.605469 C 4.628906 -8.902344 4.234375 -9.050781 3.753906 -9.050781 C 3.273438 -9.050781 2.875 -8.898438 2.554688 -8.601562 C 2.238281 -8.296875 2.03125 -7.847656 1.941406 -7.246094 L 0.710938 -7.464844 C 0.859375 -8.289062 1.203125 -8.929688 1.734375 -9.382812 C 2.269531 -9.835938 2.933594 -10.0625 3.726562 -10.0625 C 4.273438 -10.0625 4.777344 -9.945312 5.234375 -9.710938 C 5.695312 -9.476562 6.046875 -9.15625 6.292969 -8.75 C 6.535156 -8.34375 6.65625 -7.914062 6.65625 -7.457031 C 6.65625 -7.023438 6.542969 -6.628906 6.308594 -6.273438 C 6.078125 -5.921875 5.734375 -5.636719 5.277344 -5.429688 C 5.871094 -5.289062 6.328125 -5.007812 6.65625 -4.578125 C 6.984375 -4.144531 7.148438 -3.605469 7.148438 -2.960938 C 7.148438 -2.085938 6.832031 -1.34375 6.195312 -0.734375 C 5.554688 -0.125 4.75 0.179688 3.773438 0.179688 C 2.894531 0.179688 2.164062 -0.0859375 1.582031 -0.609375 C 1 -1.132812 0.671875 -1.8125 0.585938 -2.644531 Z M 0.585938 -2.644531 \"/>\n</g>\n<g id=\"glyph-0-11\">\n<path d=\"M 2.476562 -5.433594 C 1.964844 -5.621094 1.585938 -5.886719 1.339844 -6.234375 C 1.09375 -6.582031 0.96875 -6.996094 0.96875 -7.476562 C 0.96875 -8.207031 1.234375 -8.820312 1.757812 -9.316406 C 2.28125 -9.8125 2.976562 -10.0625 3.847656 -10.0625 C 4.722656 -10.0625 5.429688 -9.808594 5.960938 -9.300781 C 6.492188 -8.792969 6.761719 -8.171875 6.761719 -7.445312 C 6.761719 -6.980469 6.640625 -6.574219 6.394531 -6.230469 C 6.152344 -5.886719 5.78125 -5.621094 5.285156 -5.433594 C 5.898438 -5.234375 6.367188 -4.910156 6.6875 -4.464844 C 7.011719 -4.015625 7.171875 -3.484375 7.171875 -2.863281 C 7.171875 -2.007812 6.867188 -1.289062 6.261719 -0.703125 C 5.65625 -0.121094 4.859375 0.171875 3.867188 0.171875 C 2.878906 0.171875 2.082031 -0.121094 1.476562 -0.707031 C 0.871094 -1.292969 0.566406 -2.023438 0.566406 -2.898438 C 0.566406 -3.550781 0.734375 -4.097656 1.0625 -4.535156 C 1.394531 -4.976562 1.863281 -5.273438 2.476562 -5.433594 M 2.226562 -7.519531 C 2.226562 -7.046875 2.382812 -6.65625 2.6875 -6.359375 C 2.992188 -6.054688 3.386719 -5.90625 3.875 -5.90625 C 4.351562 -5.90625 4.738281 -6.054688 5.042969 -6.355469 C 5.34375 -6.652344 5.496094 -7.019531 5.496094 -7.453125 C 5.496094 -7.902344 5.339844 -8.28125 5.027344 -8.589844 C 4.714844 -8.898438 4.328125 -9.050781 3.863281 -9.050781 C 3.394531 -9.050781 3.003906 -8.898438 2.695312 -8.601562 C 2.382812 -8.296875 2.226562 -7.9375 2.226562 -7.519531 M 1.832031 -2.890625 C 1.832031 -2.539062 1.914062 -2.203125 2.082031 -1.875 C 2.246094 -1.546875 2.496094 -1.289062 2.824219 -1.109375 C 3.152344 -0.929688 3.503906 -0.839844 3.882812 -0.839844 C 4.46875 -0.839844 4.957031 -1.03125 5.339844 -1.40625 C 5.722656 -1.785156 5.914062 -2.265625 5.914062 -2.851562 C 5.914062 -3.441406 5.714844 -3.933594 5.320312 -4.320312 C 4.925781 -4.707031 4.433594 -4.902344 3.84375 -4.902344 C 3.261719 -4.902344 2.785156 -4.710938 2.402344 -4.328125 C 2.023438 -3.945312 1.832031 -3.464844 1.832031 -2.890625 Z M 1.832031 -2.890625 \"/>\n</g>\n</g>\n</defs>\n<rect x=\"-100\" y=\"-60\" width=\"1200\" height=\"720\" fill=\"rgb(100%, 100%, 100%)\" fill-opacity=\"1\"/>\n<path fill=\"none\" stroke-width=\"1\" stroke-linecap=\"butt\" stroke-linejoin=\"miter\" stroke=\"rgb(0%, 0%, 100%)\" stroke-opacity=\"1\" stroke-miterlimit=\"10\" d=\"M 332.660156 458.609375 L 646.859375 345.351562 \"/>\n<path fill=\"none\" stroke-width=\"1\" stroke-linecap=\"butt\" stroke-linejoin=\"miter\" stroke=\"rgb(0%, 0%, 100%)\" stroke-opacity=\"1\" stroke-miterlimit=\"10\" d=\"M 332.660156 458.609375 L 324.304688 240.675781 \"/>\n<path fill=\"none\" stroke-width=\"1\" stroke-linecap=\"butt\" stroke-linejoin=\"miter\" stroke=\"rgb(0%, 0%, 100%)\" stroke-opacity=\"1\" stroke-miterlimit=\"10\" d=\"M 332.660156 458.609375 L 673.019531 550.421875 \"/>\n<path fill=\"none\" stroke-width=\"1\" stroke-linecap=\"butt\" stroke-linejoin=\"miter\" stroke=\"rgb(0%, 0%, 100%)\" stroke-opacity=\"1\" stroke-miterlimit=\"10\" d=\"M 332.660156 458.609375 L 21.050781 580 \"/>\n<path fill=\"none\" stroke-width=\"1\" stroke-linecap=\"butt\" stroke-linejoin=\"miter\" stroke=\"rgb(0%, 0%, 100%)\" stroke-opacity=\"1\" stroke-miterlimit=\"10\" d=\"M 332.660156 458.609375 L 20 369.507812 \"/>\n<path fill=\"none\" stroke-width=\"1\" stroke-linecap=\"butt\" stroke-linejoin=\"miter\" stroke=\"rgb(0%, 0%, 100%)\" stroke-opacity=\"1\" stroke-miterlimit=\"10\" d=\"M 646.859375 345.351562 L 324.304688 240.675781 \"/>\n<path fill=\"none\" stroke-width=\"1\" stroke-linecap=\"butt\" stroke-linejoin=\"miter\" stroke=\"rgb(0%, 0%, 100%)\" stroke-opacity=\"1\" stroke-miterlimit=\"10\" d=\"M 646.859375 345.351562 L 673.019531 550.421875 \"/>\n<path fill=\"none\" stroke-width=\"1\" stroke-linecap=\"butt\" stroke-linejoin=\"miter\" stroke=\"rgb(0%, 0%, 100%)\" stroke-opacity=\"1\" stroke-miterlimit=\"10\" d=\"M 646.859375 345.351562 L 610.800781 124.707031 \"/>\n<path fill=\"none\" stroke-width=\"1\" stroke-linecap=\"butt\" stroke-linejoin=\"miter\" stroke=\"rgb(0%, 0%, 100%)\" stroke-opacity=\"1\" stroke-miterlimit=\"10\" d=\"M 646.859375 345.351562 L 980 444.636719 \"/>\n<path fill=\"none\" stroke-width=\"1\" stroke-linecap=\"butt\" stroke-linejoin=\"miter\" stroke=\"rgb(0%, 0%, 100%)\" stroke-opacity=\"1\" stroke-miterlimit=\"10\" d=\"M 324.304688 240.675781 L 20 369.507812 \"/>\n<path fill=\"none\" stroke-width=\"1\" stroke-linecap=\"butt\" stroke-linejoin=\"miter\" stroke=\"rgb(0%, 0%, 100%)\" stroke-opacity=\"1\" stroke-miterlimit=\"10\" d=\"M 324.304688 240.675781 L 302.773438 20 \"/>\n<path fill=\"none\" stroke-width=\"1\" stroke-linecap=\"butt\" stroke-linejoin=\"miter\" stroke=\"rgb(0%, 0%, 100%)\" stroke-opacity=\"1\" stroke-miterlimit=\"10\" d=\"M 324.304688 240.675781 L 610.800781 124.707031 \"/>\n<path fill=\"none\" stroke-width=\"1\" stroke-linecap=\"butt\" stroke-linejoin=\"miter\" stroke=\"rgb(0%, 0%, 100%)\" stroke-opacity=\"1\" stroke-miterlimit=\"10\" d=\"M 673.019531 550.421875 L 980 444.636719 \"/>\n<path fill=\"none\" stroke-width=\"1\" stroke-linecap=\"butt\" stroke-linejoin=\"miter\" stroke=\"rgb(0%, 0%, 100%)\" stroke-opacity=\"1\" stroke-miterlimit=\"10\" d=\"M 21.050781 580 L 20 369.507812 \"/>\n<path fill=\"none\" stroke-width=\"1\" stroke-linecap=\"butt\" stroke-linejoin=\"miter\" stroke=\"rgb(0%, 0%, 100%)\" stroke-opacity=\"1\" stroke-miterlimit=\"10\" d=\"M 302.773438 20 L 610.800781 124.707031 \"/>\n<path fill-rule=\"nonzero\" fill=\"rgb(0%, 100%, 0%)\" fill-opacity=\"1\" stroke-width=\"1\" stroke-linecap=\"butt\" stroke-linejoin=\"miter\" stroke=\"rgb(0%, 0%, 0%)\" stroke-opacity=\"1\" stroke-miterlimit=\"10\" d=\"M 340.160156 458.609375 C 340.160156 462.75 336.804688 466.109375 332.660156 466.109375 C 328.519531 466.109375 325.160156 462.75 325.160156 458.609375 C 325.160156 454.46875 328.519531 451.109375 332.660156 451.109375 C 336.804688 451.109375 340.160156 454.46875 340.160156 458.609375 \"/>\n<path fill-rule=\"nonzero\" fill=\"rgb(0%, 100%, 0%)\" fill-opacity=\"1\" stroke-width=\"1\" stroke-linecap=\"butt\" stroke-linejoin=\"miter\" stroke=\"rgb(0%, 0%, 0%)\" stroke-opacity=\"1\" stroke-miterlimit=\"10\" d=\"M 654.359375 345.351562 C 654.359375 349.492188 651 352.851562 646.859375 352.851562 C 642.714844 352.851562 639.359375 349.492188 639.359375 345.351562 C 639.359375 341.210938 642.714844 337.851562 646.859375 337.851562 C 651 337.851562 654.359375 341.210938 654.359375 345.351562 \"/>\n<path fill-rule=\"nonzero\" fill=\"rgb(0%, 100%, 0%)\" fill-opacity=\"1\" stroke-width=\"1\" stroke-linecap=\"butt\" stroke-linejoin=\"miter\" stroke=\"rgb(0%, 0%, 0%)\" stroke-opacity=\"1\" stroke-miterlimit=\"10\" d=\"M 331.804688 240.675781 C 331.804688 244.816406 328.445312 248.175781 324.304688 248.175781 C 320.160156 248.175781 316.804688 244.816406 316.804688 240.675781 C 316.804688 236.53125 320.160156 233.175781 324.304688 233.175781 C 328.445312 233.175781 331.804688 236.53125 331.804688 240.675781 \"/>\n<path fill-rule=\"nonzero\" fill=\"rgb(0%, 100%, 0%)\" fill-opacity=\"1\" stroke-width=\"1\" stroke-linecap=\"butt\" stroke-linejoin=\"miter\" stroke=\"rgb(0%, 0%, 0%)\" stroke-opacity=\"1\" stroke-miterlimit=\"10\" d=\"M 680.519531 550.421875 C 680.519531 554.5625 677.164062 557.921875 673.019531 557.921875 C 668.878906 557.921875 665.519531 554.5625 665.519531 550.421875 C 665.519531 546.277344 668.878906 542.921875 673.019531 542.921875 C 677.164062 542.921875 680.519531 546.277344 680.519531 550.421875 \"/>\n<path fill-rule=\"nonzero\" fill=\"rgb(0%, 100%, 0%)\" fill-opacity=\"1\" stroke-width=\"1\" stroke-linecap=\"butt\" stroke-linejoin=\"miter\" stroke=\"rgb(0%, 0%, 0%)\" stroke-opacity=\"1\" stroke-miterlimit=\"10\" d=\"M 28.550781 580 C 28.550781 584.140625 25.191406 587.5 21.050781 587.5 C 16.90625 587.5 13.550781 584.140625 13.550781 580 C 13.550781 575.859375 16.90625 572.5 21.050781 572.5 C 25.191406 572.5 28.550781 575.859375 28.550781 580 \"/>\n<path fill-rule=\"nonzero\" fill=\"rgb(0%, 100%, 0%)\" fill-opacity=\"1\" stroke-width=\"1\" stroke-linecap=\"butt\" stroke-linejoin=\"miter\" stroke=\"rgb(0%, 0%, 0%)\" stroke-opacity=\"1\" stroke-miterlimit=\"10\" d=\"M 27.5 369.507812 C 27.5 373.648438 24.140625 377.007812 20 377.007812 C 15.859375 377.007812 12.5 373.648438 12.5 369.507812 C 12.5 365.363281 15.859375 362.007812 20 362.007812 C 24.140625 362.007812 27.5 365.363281 27.5 369.507812 \"/>\n<path fill-rule=\"nonzero\" fill=\"rgb(0%, 100%, 0%)\" fill-opacity=\"1\" stroke-width=\"1\" stroke-linecap=\"butt\" stroke-linejoin=\"miter\" stroke=\"rgb(0%, 0%, 0%)\" stroke-opacity=\"1\" stroke-miterlimit=\"10\" d=\"M 310.273438 20 C 310.273438 24.140625 306.917969 27.5 302.773438 27.5 C 298.632812 27.5 295.273438 24.140625 295.273438 20 C 295.273438 15.859375 298.632812 12.5 302.773438 12.5 C 306.917969 12.5 310.273438 15.859375 310.273438 20 \"/>\n<path fill-rule=\"nonzero\" fill=\"rgb(0%, 100%, 0%)\" fill-opacity=\"1\" stroke-width=\"1\" stroke-linecap=\"butt\" stroke-linejoin=\"miter\" stroke=\"rgb(0%, 0%, 0%)\" stroke-opacity=\"1\" stroke-miterlimit=\"10\" d=\"M 618.300781 124.707031 C 618.300781 128.851562 614.945312 132.207031 610.800781 132.207031 C 606.660156 132.207031 603.300781 128.851562 603.300781 124.707031 C 603.300781 120.566406 606.660156 117.207031 610.800781 117.207031 C 614.945312 117.207031 618.300781 120.566406 618.300781 124.707031 \"/>\n<path fill-rule=\"nonzero\" fill=\"rgb(0%, 100%, 0%)\" fill-opacity=\"1\" stroke-width=\"1\" stroke-linecap=\"butt\" stroke-linejoin=\"miter\" stroke=\"rgb(0%, 0%, 0%)\" stroke-opacity=\"1\" stroke-miterlimit=\"10\" d=\"M 987.5 444.636719 C 987.5 448.777344 984.140625 452.136719 980 452.136719 C 975.859375 452.136719 972.5 448.777344 972.5 444.636719 C 972.5 440.492188 975.859375 437.136719 980 437.136719 C 984.140625 437.136719 987.5 440.492188 987.5 444.636719 \"/>\n<g fill=\"rgb(0%, 0%, 0%)\" fill-opacity=\"1\">\n<use xlink:href=\"#glyph-0-1\" x=\"264.613281\" y=\"465.125\"/>\n<use xlink:href=\"#glyph-0-2\" x=\"272.399414\" y=\"465.125\"/>\n<use xlink:href=\"#glyph-0-3\" x=\"276.289062\" y=\"465.125\"/>\n<use xlink:href=\"#glyph-0-4\" x=\"284.075195\" y=\"465.125\"/>\n<use xlink:href=\"#glyph-0-5\" x=\"291.861328\" y=\"465.125\"/>\n<use xlink:href=\"#glyph-0-3\" x=\"299.647461\" y=\"465.125\"/>\n<use xlink:href=\"#glyph-0-5\" x=\"307.433594\" y=\"465.125\"/>\n<use xlink:href=\"#glyph-0-6\" x=\"315.219727\" y=\"465.125\"/>\n<use xlink:href=\"#glyph-0-1\" x=\"323.005859\" y=\"465.125\"/>\n<use xlink:href=\"#glyph-0-7\" x=\"330.791992\" y=\"465.125\"/>\n<use xlink:href=\"#glyph-0-8\" x=\"338.578125\" y=\"465.125\"/>\n<use xlink:href=\"#glyph-0-1\" x=\"346.364258\" y=\"465.125\"/>\n<use xlink:href=\"#glyph-0-6\" x=\"354.150391\" y=\"465.125\"/>\n<use xlink:href=\"#glyph-0-9\" x=\"361.936523\" y=\"465.125\"/>\n<use xlink:href=\"#glyph-0-10\" x=\"369.722656\" y=\"465.125\"/>\n<use xlink:href=\"#glyph-0-6\" x=\"377.508789\" y=\"465.125\"/>\n<use xlink:href=\"#glyph-0-4\" x=\"385.294922\" y=\"465.125\"/>\n<use xlink:href=\"#glyph-0-8\" x=\"393.081055\" y=\"465.125\"/>\n</g>\n<g fill=\"rgb(0%, 0%, 0%)\" fill-opacity=\"1\">\n<use xlink:href=\"#glyph-0-1\" x=\"574.867188\" y=\"351.867188\"/>\n<use xlink:href=\"#glyph-0-2\" x=\"582.65332\" y=\"351.867188\"/>\n<use xlink:href=\"#glyph-0-3\" x=\"586.542969\" y=\"351.867188\"/>\n<use xlink:href=\"#glyph-0-4\" x=\"594.329102\" y=\"351.867188\"/>\n<use xlink:href=\"#glyph-0-5\" x=\"602.115234\" y=\"351.867188\"/>\n<use xlink:href=\"#glyph-0-3\" x=\"609.901367\" y=\"351.867188\"/>\n<use xlink:href=\"#glyph-0-5\" x=\"617.6875\" y=\"351.867188\"/>\n<use xlink:href=\"#glyph-0-6\" x=\"625.473633\" y=\"351.867188\"/>\n<use xlink:href=\"#glyph-0-1\" x=\"633.259766\" y=\"351.867188\"/>\n<use xlink:href=\"#glyph-0-7\" x=\"641.045898\" y=\"351.867188\"/>\n<use xlink:href=\"#glyph-0-8\" x=\"648.832031\" y=\"351.867188\"/>\n<use xlink:href=\"#glyph-0-1\" x=\"656.618164\" y=\"351.867188\"/>\n<use xlink:href=\"#glyph-0-6\" x=\"664.404297\" y=\"351.867188\"/>\n<use xlink:href=\"#glyph-0-9\" x=\"672.19043\" y=\"351.867188\"/>\n<use xlink:href=\"#glyph-0-10\" x=\"679.976562\" y=\"351.867188\"/>\n<use xlink:href=\"#glyph-0-6\" x=\"687.762695\" y=\"351.867188\"/>\n<use xlink:href=\"#glyph-0-4\" x=\"695.548828\" y=\"351.867188\"/>\n<use xlink:href=\"#glyph-0-3\" x=\"703.334961\" y=\"351.867188\"/>\n<use xlink:href=\"#glyph-0-6\" x=\"711.121094\" y=\"351.867188\"/>\n</g>\n<g fill=\"rgb(0%, 0%, 0%)\" fill-opacity=\"1\">\n<use xlink:href=\"#glyph-0-1\" x=\"256.253906\" y=\"247.1875\"/>\n<use xlink:href=\"#glyph-0-2\" x=\"264.040039\" y=\"247.1875\"/>\n<use xlink:href=\"#glyph-0-3\" x=\"267.929688\" y=\"247.1875\"/>\n<use xlink:href=\"#glyph-0-4\" x=\"275.71582\" y=\"247.1875\"/>\n<use xlink:href=\"#glyph-0-5\" x=\"283.501953\" y=\"247.1875\"/>\n<use xlink:href=\"#glyph-0-3\" x=\"291.288086\" y=\"247.1875\"/>\n<use xlink:href=\"#glyph-0-5\" x=\"299.074219\" y=\"247.1875\"/>\n<use xlink:href=\"#glyph-0-6\" x=\"306.860352\" y=\"247.1875\"/>\n<use xlink:href=\"#glyph-0-1\" x=\"314.646484\" y=\"247.1875\"/>\n<use xlink:href=\"#glyph-0-7\" x=\"322.432617\" y=\"247.1875\"/>\n<use xlink:href=\"#glyph-0-8\" x=\"330.21875\" y=\"247.1875\"/>\n<use xlink:href=\"#glyph-0-1\" x=\"338.004883\" y=\"247.1875\"/>\n<use xlink:href=\"#glyph-0-6\" x=\"345.791016\" y=\"247.1875\"/>\n<use xlink:href=\"#glyph-0-9\" x=\"353.577148\" y=\"247.1875\"/>\n<use xlink:href=\"#glyph-0-10\" x=\"361.363281\" y=\"247.1875\"/>\n<use xlink:href=\"#glyph-0-6\" x=\"369.149414\" y=\"247.1875\"/>\n<use xlink:href=\"#glyph-0-4\" x=\"376.935547\" y=\"247.1875\"/>\n<use xlink:href=\"#glyph-0-8\" x=\"384.72168\" y=\"247.1875\"/>\n</g>\n<g fill=\"rgb(0%, 0%, 0%)\" fill-opacity=\"1\">\n<use xlink:href=\"#glyph-0-1\" x=\"601.027344\" y=\"556.933594\"/>\n<use xlink:href=\"#glyph-0-2\" x=\"608.813477\" y=\"556.933594\"/>\n<use xlink:href=\"#glyph-0-3\" x=\"612.703125\" y=\"556.933594\"/>\n<use xlink:href=\"#glyph-0-1\" x=\"620.489258\" y=\"556.933594\"/>\n<use xlink:href=\"#glyph-0-3\" x=\"628.275391\" y=\"556.933594\"/>\n<use xlink:href=\"#glyph-0-7\" x=\"636.061523\" y=\"556.933594\"/>\n<use xlink:href=\"#glyph-0-3\" x=\"643.847656\" y=\"556.933594\"/>\n<use xlink:href=\"#glyph-0-4\" x=\"651.633789\" y=\"556.933594\"/>\n<use xlink:href=\"#glyph-0-3\" x=\"659.419922\" y=\"556.933594\"/>\n<use xlink:href=\"#glyph-0-9\" x=\"667.206055\" y=\"556.933594\"/>\n<use xlink:href=\"#glyph-0-7\" x=\"674.992188\" y=\"556.933594\"/>\n<use xlink:href=\"#glyph-0-1\" x=\"682.77832\" y=\"556.933594\"/>\n<use xlink:href=\"#glyph-0-1\" x=\"690.564453\" y=\"556.933594\"/>\n<use xlink:href=\"#glyph-0-9\" x=\"698.350586\" y=\"556.933594\"/>\n<use xlink:href=\"#glyph-0-5\" x=\"706.136719\" y=\"556.933594\"/>\n<use xlink:href=\"#glyph-0-8\" x=\"713.922852\" y=\"556.933594\"/>\n<use xlink:href=\"#glyph-0-1\" x=\"721.708984\" y=\"556.933594\"/>\n<use xlink:href=\"#glyph-0-10\" x=\"729.495117\" y=\"556.933594\"/>\n<use xlink:href=\"#glyph-0-10\" x=\"737.28125\" y=\"556.933594\"/>\n</g>\n<g fill=\"rgb(0%, 0%, 0%)\" fill-opacity=\"1\">\n<use xlink:href=\"#glyph-0-1\" x=\"-50.953125\" y=\"586.515625\"/>\n<use xlink:href=\"#glyph-0-2\" x=\"-43.166992\" y=\"586.515625\"/>\n<use xlink:href=\"#glyph-0-1\" x=\"-39.277344\" y=\"586.515625\"/>\n<use xlink:href=\"#glyph-0-6\" x=\"-31.491211\" y=\"586.515625\"/>\n<use xlink:href=\"#glyph-0-8\" x=\"-23.705078\" y=\"586.515625\"/>\n<use xlink:href=\"#glyph-0-4\" x=\"-15.918945\" y=\"586.515625\"/>\n<use xlink:href=\"#glyph-0-8\" x=\"-8.132812\" y=\"586.515625\"/>\n<use xlink:href=\"#glyph-0-3\" x=\"-0.34668\" y=\"586.515625\"/>\n<use xlink:href=\"#glyph-0-3\" x=\"7.439453\" y=\"586.515625\"/>\n<use xlink:href=\"#glyph-0-8\" x=\"15.225586\" y=\"586.515625\"/>\n<use xlink:href=\"#glyph-0-4\" x=\"23.011719\" y=\"586.515625\"/>\n<use xlink:href=\"#glyph-0-8\" x=\"30.797852\" y=\"586.515625\"/>\n<use xlink:href=\"#glyph-0-4\" x=\"38.583984\" y=\"586.515625\"/>\n<use xlink:href=\"#glyph-0-9\" x=\"46.370117\" y=\"586.515625\"/>\n<use xlink:href=\"#glyph-0-1\" x=\"54.15625\" y=\"586.515625\"/>\n<use xlink:href=\"#glyph-0-10\" x=\"61.942383\" y=\"586.515625\"/>\n<use xlink:href=\"#glyph-0-6\" x=\"69.728516\" y=\"586.515625\"/>\n<use xlink:href=\"#glyph-0-11\" x=\"77.514648\" y=\"586.515625\"/>\n<use xlink:href=\"#glyph-0-11\" x=\"85.300781\" y=\"586.515625\"/>\n</g>\n<g fill=\"rgb(0%, 0%, 0%)\" fill-opacity=\"1\">\n<use xlink:href=\"#glyph-0-1\" x=\"-51.992188\" y=\"376.019531\"/>\n<use xlink:href=\"#glyph-0-2\" x=\"-44.206055\" y=\"376.019531\"/>\n<use xlink:href=\"#glyph-0-3\" x=\"-40.316406\" y=\"376.019531\"/>\n<use xlink:href=\"#glyph-0-1\" x=\"-32.530273\" y=\"376.019531\"/>\n<use xlink:href=\"#glyph-0-3\" x=\"-24.744141\" y=\"376.019531\"/>\n<use xlink:href=\"#glyph-0-7\" x=\"-16.958008\" y=\"376.019531\"/>\n<use xlink:href=\"#glyph-0-3\" x=\"-9.171875\" y=\"376.019531\"/>\n<use xlink:href=\"#glyph-0-4\" x=\"-1.385742\" y=\"376.019531\"/>\n<use xlink:href=\"#glyph-0-3\" x=\"6.400391\" y=\"376.019531\"/>\n<use xlink:href=\"#glyph-0-9\" x=\"14.186523\" y=\"376.019531\"/>\n<use xlink:href=\"#glyph-0-7\" x=\"21.972656\" y=\"376.019531\"/>\n<use xlink:href=\"#glyph-0-1\" x=\"29.758789\" y=\"376.019531\"/>\n<use xlink:href=\"#glyph-0-1\" x=\"37.544922\" y=\"376.019531\"/>\n<use xlink:href=\"#glyph-0-9\" x=\"45.331055\" y=\"376.019531\"/>\n<use xlink:href=\"#glyph-0-5\" x=\"53.117188\" y=\"376.019531\"/>\n<use xlink:href=\"#glyph-0-8\" x=\"60.90332\" y=\"376.019531\"/>\n<use xlink:href=\"#glyph-0-1\" x=\"68.689453\" y=\"376.019531\"/>\n<use xlink:href=\"#glyph-0-10\" x=\"76.475586\" y=\"376.019531\"/>\n<use xlink:href=\"#glyph-0-10\" x=\"84.261719\" y=\"376.019531\"/>\n</g>\n<g fill=\"rgb(0%, 0%, 0%)\" fill-opacity=\"1\">\n<use xlink:href=\"#glyph-0-1\" x=\"230.78125\" y=\"26.515625\"/>\n<use xlink:href=\"#glyph-0-2\" x=\"238.567383\" y=\"26.515625\"/>\n<use xlink:href=\"#glyph-0-1\" x=\"242.457031\" y=\"26.515625\"/>\n<use xlink:href=\"#glyph-0-6\" x=\"250.243164\" y=\"26.515625\"/>\n<use xlink:href=\"#glyph-0-8\" x=\"258.029297\" y=\"26.515625\"/>\n<use xlink:href=\"#glyph-0-4\" x=\"265.81543\" y=\"26.515625\"/>\n<use xlink:href=\"#glyph-0-8\" x=\"273.601562\" y=\"26.515625\"/>\n<use xlink:href=\"#glyph-0-3\" x=\"281.387695\" y=\"26.515625\"/>\n<use xlink:href=\"#glyph-0-3\" x=\"289.173828\" y=\"26.515625\"/>\n<use xlink:href=\"#glyph-0-8\" x=\"296.959961\" y=\"26.515625\"/>\n<use xlink:href=\"#glyph-0-4\" x=\"304.746094\" y=\"26.515625\"/>\n<use xlink:href=\"#glyph-0-8\" x=\"312.532227\" y=\"26.515625\"/>\n<use xlink:href=\"#glyph-0-4\" x=\"320.318359\" y=\"26.515625\"/>\n<use xlink:href=\"#glyph-0-9\" x=\"328.104492\" y=\"26.515625\"/>\n<use xlink:href=\"#glyph-0-1\" x=\"335.890625\" y=\"26.515625\"/>\n<use xlink:href=\"#glyph-0-10\" x=\"343.676758\" y=\"26.515625\"/>\n<use xlink:href=\"#glyph-0-6\" x=\"351.462891\" y=\"26.515625\"/>\n<use xlink:href=\"#glyph-0-11\" x=\"359.249023\" y=\"26.515625\"/>\n<use xlink:href=\"#glyph-0-6\" x=\"367.035156\" y=\"26.515625\"/>\n</g>\n<g fill=\"rgb(0%, 0%, 0%)\" fill-opacity=\"1\">\n<use xlink:href=\"#glyph-0-1\" x=\"542.703125\" y=\"131.222656\"/>\n<use xlink:href=\"#glyph-0-2\" x=\"550.489258\" y=\"131.222656\"/>\n<use xlink:href=\"#glyph-0-3\" x=\"554.378906\" y=\"131.222656\"/>\n<use xlink:href=\"#glyph-0-1\" x=\"562.165039\" y=\"131.222656\"/>\n<use xlink:href=\"#glyph-0-3\" x=\"569.951172\" y=\"131.222656\"/>\n<use xlink:href=\"#glyph-0-7\" x=\"577.737305\" y=\"131.222656\"/>\n<use xlink:href=\"#glyph-0-3\" x=\"585.523438\" y=\"131.222656\"/>\n<use xlink:href=\"#glyph-0-4\" x=\"593.30957\" y=\"131.222656\"/>\n<use xlink:href=\"#glyph-0-3\" x=\"601.095703\" y=\"131.222656\"/>\n<use xlink:href=\"#glyph-0-9\" x=\"608.881836\" y=\"131.222656\"/>\n<use xlink:href=\"#glyph-0-7\" x=\"616.667969\" y=\"131.222656\"/>\n<use xlink:href=\"#glyph-0-1\" x=\"624.454102\" y=\"131.222656\"/>\n<use xlink:href=\"#glyph-0-1\" x=\"632.240234\" y=\"131.222656\"/>\n<use xlink:href=\"#glyph-0-9\" x=\"640.026367\" y=\"131.222656\"/>\n<use xlink:href=\"#glyph-0-5\" x=\"647.8125\" y=\"131.222656\"/>\n<use xlink:href=\"#glyph-0-8\" x=\"655.598633\" y=\"131.222656\"/>\n<use xlink:href=\"#glyph-0-1\" x=\"663.384766\" y=\"131.222656\"/>\n<use xlink:href=\"#glyph-0-10\" x=\"671.170898\" y=\"131.222656\"/>\n</g>\n<g fill=\"rgb(0%, 0%, 0%)\" fill-opacity=\"1\">\n<use xlink:href=\"#glyph-0-1\" x=\"908.007812\" y=\"451.148438\"/>\n<use xlink:href=\"#glyph-0-2\" x=\"915.793945\" y=\"451.148438\"/>\n<use xlink:href=\"#glyph-0-1\" x=\"919.683594\" y=\"451.148438\"/>\n<use xlink:href=\"#glyph-0-6\" x=\"927.469727\" y=\"451.148438\"/>\n<use xlink:href=\"#glyph-0-8\" x=\"935.255859\" y=\"451.148438\"/>\n<use xlink:href=\"#glyph-0-4\" x=\"943.041992\" y=\"451.148438\"/>\n<use xlink:href=\"#glyph-0-8\" x=\"950.828125\" y=\"451.148438\"/>\n<use xlink:href=\"#glyph-0-3\" x=\"958.614258\" y=\"451.148438\"/>\n<use xlink:href=\"#glyph-0-3\" x=\"966.400391\" y=\"451.148438\"/>\n<use xlink:href=\"#glyph-0-8\" x=\"974.186523\" y=\"451.148438\"/>\n<use xlink:href=\"#glyph-0-4\" x=\"981.972656\" y=\"451.148438\"/>\n<use xlink:href=\"#glyph-0-8\" x=\"989.758789\" y=\"451.148438\"/>\n<use xlink:href=\"#glyph-0-4\" x=\"997.544922\" y=\"451.148438\"/>\n<use xlink:href=\"#glyph-0-9\" x=\"1005.331055\" y=\"451.148438\"/>\n<use xlink:href=\"#glyph-0-1\" x=\"1013.117188\" y=\"451.148438\"/>\n<use xlink:href=\"#glyph-0-10\" x=\"1020.90332\" y=\"451.148438\"/>\n<use xlink:href=\"#glyph-0-6\" x=\"1028.689453\" y=\"451.148438\"/>\n<use xlink:href=\"#glyph-0-11\" x=\"1036.475586\" y=\"451.148438\"/>\n<use xlink:href=\"#glyph-0-6\" x=\"1044.261719\" y=\"451.148438\"/>\n</g>\n</svg>\n",
            "text/plain": [
              "<igraph.drawing.cairo.plot.CairoPlot at 0x18f84042e90>"
            ]
          },
          "execution_count": 84,
          "metadata": {
            "image/svg+xml": {
              "isolated": true
            }
          },
          "output_type": "execute_result"
        }
      ],
      "source": [
        "#plot g \n",
        "plot(g, bbox=(1000, 600),vertex_label=g.vs['pagerank'], vertex_size=15, vertex_color=\"green\", edge_color=\"blue\", cex=5)"
      ]
    },
    {
      "cell_type": "code",
      "execution_count": 85,
      "metadata": {},
      "outputs": [
        {
          "data": {
            "text/html": [
              "<div>\n",
              "<style scoped>\n",
              "    .dataframe tbody tr th:only-of-type {\n",
              "        vertical-align: middle;\n",
              "    }\n",
              "\n",
              "    .dataframe tbody tr th {\n",
              "        vertical-align: top;\n",
              "    }\n",
              "\n",
              "    .dataframe thead th {\n",
              "        text-align: right;\n",
              "    }\n",
              "</style>\n",
              "<table border=\"1\" class=\"dataframe\">\n",
              "  <thead>\n",
              "    <tr style=\"text-align: right;\">\n",
              "      <th></th>\n",
              "      <th>degree</th>\n",
              "      <th>betweenness</th>\n",
              "      <th>pagerank</th>\n",
              "    </tr>\n",
              "    <tr>\n",
              "      <th>vertex ID</th>\n",
              "      <th></th>\n",
              "      <th></th>\n",
              "      <th></th>\n",
              "    </tr>\n",
              "  </thead>\n",
              "  <tbody>\n",
              "    <tr>\n",
              "      <th>0</th>\n",
              "      <td>5</td>\n",
              "      <td>7.666667</td>\n",
              "      <td>0.159197</td>\n",
              "    </tr>\n",
              "    <tr>\n",
              "      <th>1</th>\n",
              "      <td>5</td>\n",
              "      <td>7.666667</td>\n",
              "      <td>0.159197</td>\n",
              "    </tr>\n",
              "    <tr>\n",
              "      <th>2</th>\n",
              "      <td>5</td>\n",
              "      <td>7.666667</td>\n",
              "      <td>0.159197</td>\n",
              "    </tr>\n",
              "    <tr>\n",
              "      <th>3</th>\n",
              "      <td>3</td>\n",
              "      <td>1.333333</td>\n",
              "      <td>0.101615</td>\n",
              "    </tr>\n",
              "    <tr>\n",
              "      <th>4</th>\n",
              "      <td>2</td>\n",
              "      <td>0.000000</td>\n",
              "      <td>0.072521</td>\n",
              "    </tr>\n",
              "    <tr>\n",
              "      <th>5</th>\n",
              "      <td>3</td>\n",
              "      <td>1.333333</td>\n",
              "      <td>0.101615</td>\n",
              "    </tr>\n",
              "    <tr>\n",
              "      <th>6</th>\n",
              "      <td>2</td>\n",
              "      <td>0.000000</td>\n",
              "      <td>0.072521</td>\n",
              "    </tr>\n",
              "    <tr>\n",
              "      <th>7</th>\n",
              "      <td>3</td>\n",
              "      <td>1.333333</td>\n",
              "      <td>0.101615</td>\n",
              "    </tr>\n",
              "    <tr>\n",
              "      <th>8</th>\n",
              "      <td>2</td>\n",
              "      <td>0.000000</td>\n",
              "      <td>0.072521</td>\n",
              "    </tr>\n",
              "  </tbody>\n",
              "</table>\n",
              "</div>"
            ],
            "text/plain": [
              "           degree  betweenness  pagerank\n",
              "vertex ID                               \n",
              "0               5     7.666667  0.159197\n",
              "1               5     7.666667  0.159197\n",
              "2               5     7.666667  0.159197\n",
              "3               3     1.333333  0.101615\n",
              "4               2     0.000000  0.072521\n",
              "5               3     1.333333  0.101615\n",
              "6               2     0.000000  0.072521\n",
              "7               3     1.333333  0.101615\n",
              "8               2     0.000000  0.072521"
            ]
          },
          "execution_count": 85,
          "metadata": {},
          "output_type": "execute_result"
        }
      ],
      "source": [
        "g.get_vertex_dataframe()"
      ]
    },
    {
      "cell_type": "code",
      "execution_count": null,
      "metadata": {},
      "outputs": [],
      "source": []
    },
    {
      "cell_type": "code",
      "execution_count": null,
      "metadata": {},
      "outputs": [],
      "source": []
    }
  ],
  "metadata": {
    "colab": {
      "provenance": []
    },
    "kernelspec": {
      "display_name": "Python 3",
      "language": "python",
      "name": "python3"
    },
    "language_info": {
      "codemirror_mode": {
        "name": "ipython",
        "version": 3
      },
      "file_extension": ".py",
      "mimetype": "text/x-python",
      "name": "python",
      "nbconvert_exporter": "python",
      "pygments_lexer": "ipython3",
      "version": "3.10.9"
    }
  },
  "nbformat": 4,
  "nbformat_minor": 0
}
